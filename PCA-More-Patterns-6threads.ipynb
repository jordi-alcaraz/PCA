{
 "cells": [
  {
   "cell_type": "code",
   "execution_count": 1,
   "metadata": {},
   "outputs": [
    {
     "name": "stderr",
     "output_type": "stream",
     "text": [
      "Loading required package: ggplot2\n",
      "Welcome! Want to learn more? See two factoextra-related books at https://goo.gl/ve3WBa\n"
     ]
    }
   ],
   "source": [
    "library(\"factoextra\")\n",
    "options(repr.plot.width=12, repr.plot.height=13)"
   ]
  },
  {
   "cell_type": "code",
   "execution_count": 2,
   "metadata": {},
   "outputs": [
    {
     "data": {
      "text/html": [
       "O2\n",
       "<details>\n",
       "\t<summary style=display:list-item;cursor:pointer>\n",
       "\t\t<strong>Levels</strong>:\n",
       "\t</summary>\n",
       "\t'O2'\n",
       "</details>"
      ],
      "text/latex": [
       "O2\n",
       "\\emph{Levels}: 'O2'"
      ],
      "text/markdown": [
       "O2\n",
       "**Levels**: 'O2'"
      ],
      "text/plain": [
       "[1] O2\n",
       "Levels: O2"
      ]
     },
     "metadata": {},
     "output_type": "display_data"
    }
   ],
   "source": [
    "path=\"C:/Users/Jordi/New_Jupyter/\"\n",
    "setwd(path)\n",
    "mydata = read.csv(\"threads_ideal_data_partial_sp_cl+listR.csv\", sep=\";\")\n",
    "unique(mydata[,\"comp_opt\"])"
   ]
  },
  {
   "cell_type": "code",
   "execution_count": 3,
   "metadata": {},
   "outputs": [
    {
     "data": {
      "text/html": [
       "<ol class=list-inline>\n",
       "\t<li>'id'</li>\n",
       "\t<li>'size_vector'</li>\n",
       "\t<li>'comp_opt'</li>\n",
       "\t<li>'label'</li>\n",
       "\t<li>'threads'</li>\n",
       "\t<li>'PAPI_L1_DCM'</li>\n",
       "\t<li>'PAPI_L3_TCM'</li>\n",
       "\t<li>'PAPI_TOT_INS'</li>\n",
       "\t<li>'PAPI_REF_CYC'</li>\n",
       "\t<li>'PAPI_L2_LDM'</li>\n",
       "\t<li>'PAPI_SR_INS'</li>\n",
       "\t<li>'time_x'</li>\n",
       "\t<li>'PAPI_BR_UCN'</li>\n",
       "\t<li>'PAPI_BR_CN'</li>\n",
       "\t<li>'PAPI_BR_TKN'</li>\n",
       "\t<li>'PAPI_BR_MSP'</li>\n",
       "\t<li>'time_y'</li>\n",
       "\t<li>'PAPI_FP_OPS'</li>\n",
       "\t<li>'PAPI_L1_LDM'</li>\n",
       "\t<li>'PAPI_L1_STM'</li>\n",
       "\t<li>'time_x.1'</li>\n",
       "\t<li>'PAPI_SP_OPS'</li>\n",
       "\t<li>'PAPI_LD_INS'</li>\n",
       "\t<li>'PAPI_L2_STM'</li>\n",
       "\t<li>'time_y.1'</li>\n",
       "\t<li>'PAPI_TLB_DM'</li>\n",
       "\t<li>'PAPI_L2_DCH'</li>\n",
       "\t<li>'time'</li>\n",
       "\t<li>'time_log'</li>\n",
       "\t<li>'P_index'</li>\n",
       "\t<li>'ideal'</li>\n",
       "\t<li>'affinity'</li>\n",
       "\t<li>'T_list'</li>\n",
       "\t<li>'P_list'</li>\n",
       "</ol>\n"
      ],
      "text/latex": [
       "\\begin{enumerate*}\n",
       "\\item 'id'\n",
       "\\item 'size\\_vector'\n",
       "\\item 'comp\\_opt'\n",
       "\\item 'label'\n",
       "\\item 'threads'\n",
       "\\item 'PAPI\\_L1\\_DCM'\n",
       "\\item 'PAPI\\_L3\\_TCM'\n",
       "\\item 'PAPI\\_TOT\\_INS'\n",
       "\\item 'PAPI\\_REF\\_CYC'\n",
       "\\item 'PAPI\\_L2\\_LDM'\n",
       "\\item 'PAPI\\_SR\\_INS'\n",
       "\\item 'time\\_x'\n",
       "\\item 'PAPI\\_BR\\_UCN'\n",
       "\\item 'PAPI\\_BR\\_CN'\n",
       "\\item 'PAPI\\_BR\\_TKN'\n",
       "\\item 'PAPI\\_BR\\_MSP'\n",
       "\\item 'time\\_y'\n",
       "\\item 'PAPI\\_FP\\_OPS'\n",
       "\\item 'PAPI\\_L1\\_LDM'\n",
       "\\item 'PAPI\\_L1\\_STM'\n",
       "\\item 'time\\_x.1'\n",
       "\\item 'PAPI\\_SP\\_OPS'\n",
       "\\item 'PAPI\\_LD\\_INS'\n",
       "\\item 'PAPI\\_L2\\_STM'\n",
       "\\item 'time\\_y.1'\n",
       "\\item 'PAPI\\_TLB\\_DM'\n",
       "\\item 'PAPI\\_L2\\_DCH'\n",
       "\\item 'time'\n",
       "\\item 'time\\_log'\n",
       "\\item 'P\\_index'\n",
       "\\item 'ideal'\n",
       "\\item 'affinity'\n",
       "\\item 'T\\_list'\n",
       "\\item 'P\\_list'\n",
       "\\end{enumerate*}\n"
      ],
      "text/markdown": [
       "1. 'id'\n",
       "2. 'size_vector'\n",
       "3. 'comp_opt'\n",
       "4. 'label'\n",
       "5. 'threads'\n",
       "6. 'PAPI_L1_DCM'\n",
       "7. 'PAPI_L3_TCM'\n",
       "8. 'PAPI_TOT_INS'\n",
       "9. 'PAPI_REF_CYC'\n",
       "10. 'PAPI_L2_LDM'\n",
       "11. 'PAPI_SR_INS'\n",
       "12. 'time_x'\n",
       "13. 'PAPI_BR_UCN'\n",
       "14. 'PAPI_BR_CN'\n",
       "15. 'PAPI_BR_TKN'\n",
       "16. 'PAPI_BR_MSP'\n",
       "17. 'time_y'\n",
       "18. 'PAPI_FP_OPS'\n",
       "19. 'PAPI_L1_LDM'\n",
       "20. 'PAPI_L1_STM'\n",
       "21. 'time_x.1'\n",
       "22. 'PAPI_SP_OPS'\n",
       "23. 'PAPI_LD_INS'\n",
       "24. 'PAPI_L2_STM'\n",
       "25. 'time_y.1'\n",
       "26. 'PAPI_TLB_DM'\n",
       "27. 'PAPI_L2_DCH'\n",
       "28. 'time'\n",
       "29. 'time_log'\n",
       "30. 'P_index'\n",
       "31. 'ideal'\n",
       "32. 'affinity'\n",
       "33. 'T_list'\n",
       "34. 'P_list'\n",
       "\n",
       "\n"
      ],
      "text/plain": [
       " [1] \"id\"           \"size_vector\"  \"comp_opt\"     \"label\"        \"threads\"     \n",
       " [6] \"PAPI_L1_DCM\"  \"PAPI_L3_TCM\"  \"PAPI_TOT_INS\" \"PAPI_REF_CYC\" \"PAPI_L2_LDM\" \n",
       "[11] \"PAPI_SR_INS\"  \"time_x\"       \"PAPI_BR_UCN\"  \"PAPI_BR_CN\"   \"PAPI_BR_TKN\" \n",
       "[16] \"PAPI_BR_MSP\"  \"time_y\"       \"PAPI_FP_OPS\"  \"PAPI_L1_LDM\"  \"PAPI_L1_STM\" \n",
       "[21] \"time_x.1\"     \"PAPI_SP_OPS\"  \"PAPI_LD_INS\"  \"PAPI_L2_STM\"  \"time_y.1\"    \n",
       "[26] \"PAPI_TLB_DM\"  \"PAPI_L2_DCH\"  \"time\"         \"time_log\"     \"P_index\"     \n",
       "[31] \"ideal\"        \"affinity\"     \"T_list\"       \"P_list\"      "
      ]
     },
     "metadata": {},
     "output_type": "display_data"
    }
   ],
   "source": [
    "colnames(mydata)"
   ]
  },
  {
   "cell_type": "code",
   "execution_count": 4,
   "metadata": {},
   "outputs": [],
   "source": [
    "library(stringr)\n",
    "colnames(mydata)<-gsub(x = names(mydata), pattern = \"\\\\.\", replacement = \"_\" )"
   ]
  },
  {
   "cell_type": "code",
   "execution_count": 5,
   "metadata": {},
   "outputs": [],
   "source": [
    "#colnames(mydata)"
   ]
  },
  {
   "cell_type": "code",
   "execution_count": 6,
   "metadata": {},
   "outputs": [
    {
     "data": {
      "text/html": [
       "6"
      ],
      "text/latex": [
       "6"
      ],
      "text/markdown": [
       "6"
      ],
      "text/plain": [
       "[1] 6"
      ]
     },
     "metadata": {},
     "output_type": "display_data"
    }
   ],
   "source": [
    "mydata = mydata[mydata$threads == 6,]\n",
    "unique(mydata$threads)\n",
    "mydata_no_time <- subset(mydata, select = -c(P_list))\n",
    "mydata_no_time <- subset(mydata_no_time, select = -c(T_list))\n",
    "mydata_no_time <- subset(mydata_no_time, select = -c(ideal))\n",
    "mydata_no_time <- subset(mydata_no_time, select = -c(P_index))\n",
    "mydata_no_time <- subset(mydata_no_time, select = -c(time_log))\n",
    "mydata_no_time <- subset(mydata_no_time, select = -c(time))\n",
    "mydata_no_time <- subset(mydata_no_time, select = -c(time_y_1))\n",
    "mydata_no_time <- subset(mydata_no_time, select = -c(time_x_1))\n",
    "mydata_no_time <- subset(mydata_no_time, select = -c(time_x))\n",
    "mydata_no_time <- subset(mydata_no_time, select = -c(time_y))\n",
    "mydata_no_time <- subset(mydata_no_time, select = -c(affinity))\n",
    "\n",
    "\n",
    "\n",
    "\n",
    "mydata_no_time <- subset(mydata_no_time, select = -c(PAPI_SP_OPS))\n",
    "\n"
   ]
  },
  {
   "cell_type": "code",
   "execution_count": 7,
   "metadata": {},
   "outputs": [
    {
     "data": {
      "text/html": [
       "<ol class=list-inline>\n",
       "\t<li>'id'</li>\n",
       "\t<li>'size_vector'</li>\n",
       "\t<li>'comp_opt'</li>\n",
       "\t<li>'label'</li>\n",
       "\t<li>'threads'</li>\n",
       "\t<li>'PAPI_L1_DCM'</li>\n",
       "\t<li>'PAPI_L3_TCM'</li>\n",
       "\t<li>'PAPI_TOT_INS'</li>\n",
       "\t<li>'PAPI_REF_CYC'</li>\n",
       "\t<li>'PAPI_L2_LDM'</li>\n",
       "\t<li>'PAPI_SR_INS'</li>\n",
       "\t<li>'PAPI_BR_UCN'</li>\n",
       "\t<li>'PAPI_BR_CN'</li>\n",
       "\t<li>'PAPI_BR_TKN'</li>\n",
       "\t<li>'PAPI_BR_MSP'</li>\n",
       "\t<li>'PAPI_FP_OPS'</li>\n",
       "\t<li>'PAPI_L1_LDM'</li>\n",
       "\t<li>'PAPI_L1_STM'</li>\n",
       "\t<li>'PAPI_LD_INS'</li>\n",
       "\t<li>'PAPI_L2_STM'</li>\n",
       "\t<li>'PAPI_TLB_DM'</li>\n",
       "\t<li>'PAPI_L2_DCH'</li>\n",
       "</ol>\n"
      ],
      "text/latex": [
       "\\begin{enumerate*}\n",
       "\\item 'id'\n",
       "\\item 'size\\_vector'\n",
       "\\item 'comp\\_opt'\n",
       "\\item 'label'\n",
       "\\item 'threads'\n",
       "\\item 'PAPI\\_L1\\_DCM'\n",
       "\\item 'PAPI\\_L3\\_TCM'\n",
       "\\item 'PAPI\\_TOT\\_INS'\n",
       "\\item 'PAPI\\_REF\\_CYC'\n",
       "\\item 'PAPI\\_L2\\_LDM'\n",
       "\\item 'PAPI\\_SR\\_INS'\n",
       "\\item 'PAPI\\_BR\\_UCN'\n",
       "\\item 'PAPI\\_BR\\_CN'\n",
       "\\item 'PAPI\\_BR\\_TKN'\n",
       "\\item 'PAPI\\_BR\\_MSP'\n",
       "\\item 'PAPI\\_FP\\_OPS'\n",
       "\\item 'PAPI\\_L1\\_LDM'\n",
       "\\item 'PAPI\\_L1\\_STM'\n",
       "\\item 'PAPI\\_LD\\_INS'\n",
       "\\item 'PAPI\\_L2\\_STM'\n",
       "\\item 'PAPI\\_TLB\\_DM'\n",
       "\\item 'PAPI\\_L2\\_DCH'\n",
       "\\end{enumerate*}\n"
      ],
      "text/markdown": [
       "1. 'id'\n",
       "2. 'size_vector'\n",
       "3. 'comp_opt'\n",
       "4. 'label'\n",
       "5. 'threads'\n",
       "6. 'PAPI_L1_DCM'\n",
       "7. 'PAPI_L3_TCM'\n",
       "8. 'PAPI_TOT_INS'\n",
       "9. 'PAPI_REF_CYC'\n",
       "10. 'PAPI_L2_LDM'\n",
       "11. 'PAPI_SR_INS'\n",
       "12. 'PAPI_BR_UCN'\n",
       "13. 'PAPI_BR_CN'\n",
       "14. 'PAPI_BR_TKN'\n",
       "15. 'PAPI_BR_MSP'\n",
       "16. 'PAPI_FP_OPS'\n",
       "17. 'PAPI_L1_LDM'\n",
       "18. 'PAPI_L1_STM'\n",
       "19. 'PAPI_LD_INS'\n",
       "20. 'PAPI_L2_STM'\n",
       "21. 'PAPI_TLB_DM'\n",
       "22. 'PAPI_L2_DCH'\n",
       "\n",
       "\n"
      ],
      "text/plain": [
       " [1] \"id\"           \"size_vector\"  \"comp_opt\"     \"label\"        \"threads\"     \n",
       " [6] \"PAPI_L1_DCM\"  \"PAPI_L3_TCM\"  \"PAPI_TOT_INS\" \"PAPI_REF_CYC\" \"PAPI_L2_LDM\" \n",
       "[11] \"PAPI_SR_INS\"  \"PAPI_BR_UCN\"  \"PAPI_BR_CN\"   \"PAPI_BR_TKN\"  \"PAPI_BR_MSP\" \n",
       "[16] \"PAPI_FP_OPS\"  \"PAPI_L1_LDM\"  \"PAPI_L1_STM\"  \"PAPI_LD_INS\"  \"PAPI_L2_STM\" \n",
       "[21] \"PAPI_TLB_DM\"  \"PAPI_L2_DCH\" "
      ]
     },
     "metadata": {},
     "output_type": "display_data"
    }
   ],
   "source": [
    "colnames(mydata_no_time)"
   ]
  },
  {
   "cell_type": "code",
   "execution_count": 8,
   "metadata": {},
   "outputs": [],
   "source": [
    "#mydata = mydata[mydata$comp_opt != 'NF',]\n",
    "#mydata = mydata[mydata$comp_opt != 'O1',]\n",
    "#mydata = mydata[mydata$label != '2D4PStencil_E',]\n",
    "#mydata = mydata[mydata$label != 'Reduction_E',]\n",
    "#mydata = mydata[mydata$label != '2PStencil_E',]\n",
    "\n",
    "#head(mydata)\n",
    "#unique(mydata[,\"comp_opt\"])"
   ]
  },
  {
   "cell_type": "code",
   "execution_count": 9,
   "metadata": {},
   "outputs": [],
   "source": [
    "#head(mydata)"
   ]
  },
  {
   "cell_type": "code",
   "execution_count": 10,
   "metadata": {},
   "outputs": [
    {
     "data": {
      "text/html": [
       "<ol class=list-inline>\n",
       "\t<li>'1 K'</li>\n",
       "\t<li>'2 K'</li>\n",
       "\t<li>'3 K'</li>\n",
       "\t<li>'4 K'</li>\n",
       "\t<li>'5 K'</li>\n",
       "\t<li>'6 K'</li>\n",
       "\t<li>'7 K'</li>\n",
       "\t<li>'8 K'</li>\n",
       "\t<li>'9 K'</li>\n",
       "\t<li>'10 K'</li>\n",
       "\t<li>'20 K'</li>\n",
       "\t<li>'30 K'</li>\n",
       "\t<li>'40 K'</li>\n",
       "\t<li>'50 K'</li>\n",
       "\t<li>'60 K'</li>\n",
       "\t<li>'70 K'</li>\n",
       "\t<li>'80 K'</li>\n",
       "\t<li>'90 K'</li>\n",
       "\t<li>'100 K'</li>\n",
       "\t<li>'200 K'</li>\n",
       "\t<li>'300 K'</li>\n",
       "\t<li>'400 K'</li>\n",
       "\t<li>'500 K'</li>\n",
       "\t<li>'600 K'</li>\n",
       "\t<li>'700 K'</li>\n",
       "\t<li>'800 K'</li>\n",
       "\t<li>'900 K'</li>\n",
       "\t<li>'1 M'</li>\n",
       "\t<li>'2 M'</li>\n",
       "\t<li>'3 M'</li>\n",
       "\t<li>'5 M'</li>\n",
       "\t<li>'7 M'</li>\n",
       "\t<li>'9 M'</li>\n",
       "\t<li>'20 M'</li>\n",
       "\t<li>'40 M'</li>\n",
       "\t<li>'60 M'</li>\n",
       "\t<li>'80 M'</li>\n",
       "\t<li>'100 M'</li>\n",
       "\t<li>'120 M'</li>\n",
       "\t<li>'140 M'</li>\n",
       "\t<li>'160 M'</li>\n",
       "\t<li>'180 M'</li>\n",
       "\t<li>'200 M'</li>\n",
       "</ol>\n"
      ],
      "text/latex": [
       "\\begin{enumerate*}\n",
       "\\item '1 K'\n",
       "\\item '2 K'\n",
       "\\item '3 K'\n",
       "\\item '4 K'\n",
       "\\item '5 K'\n",
       "\\item '6 K'\n",
       "\\item '7 K'\n",
       "\\item '8 K'\n",
       "\\item '9 K'\n",
       "\\item '10 K'\n",
       "\\item '20 K'\n",
       "\\item '30 K'\n",
       "\\item '40 K'\n",
       "\\item '50 K'\n",
       "\\item '60 K'\n",
       "\\item '70 K'\n",
       "\\item '80 K'\n",
       "\\item '90 K'\n",
       "\\item '100 K'\n",
       "\\item '200 K'\n",
       "\\item '300 K'\n",
       "\\item '400 K'\n",
       "\\item '500 K'\n",
       "\\item '600 K'\n",
       "\\item '700 K'\n",
       "\\item '800 K'\n",
       "\\item '900 K'\n",
       "\\item '1 M'\n",
       "\\item '2 M'\n",
       "\\item '3 M'\n",
       "\\item '5 M'\n",
       "\\item '7 M'\n",
       "\\item '9 M'\n",
       "\\item '20 M'\n",
       "\\item '40 M'\n",
       "\\item '60 M'\n",
       "\\item '80 M'\n",
       "\\item '100 M'\n",
       "\\item '120 M'\n",
       "\\item '140 M'\n",
       "\\item '160 M'\n",
       "\\item '180 M'\n",
       "\\item '200 M'\n",
       "\\end{enumerate*}\n"
      ],
      "text/markdown": [
       "1. '1 K'\n",
       "2. '2 K'\n",
       "3. '3 K'\n",
       "4. '4 K'\n",
       "5. '5 K'\n",
       "6. '6 K'\n",
       "7. '7 K'\n",
       "8. '8 K'\n",
       "9. '9 K'\n",
       "10. '10 K'\n",
       "11. '20 K'\n",
       "12. '30 K'\n",
       "13. '40 K'\n",
       "14. '50 K'\n",
       "15. '60 K'\n",
       "16. '70 K'\n",
       "17. '80 K'\n",
       "18. '90 K'\n",
       "19. '100 K'\n",
       "20. '200 K'\n",
       "21. '300 K'\n",
       "22. '400 K'\n",
       "23. '500 K'\n",
       "24. '600 K'\n",
       "25. '700 K'\n",
       "26. '800 K'\n",
       "27. '900 K'\n",
       "28. '1 M'\n",
       "29. '2 M'\n",
       "30. '3 M'\n",
       "31. '5 M'\n",
       "32. '7 M'\n",
       "33. '9 M'\n",
       "34. '20 M'\n",
       "35. '40 M'\n",
       "36. '60 M'\n",
       "37. '80 M'\n",
       "38. '100 M'\n",
       "39. '120 M'\n",
       "40. '140 M'\n",
       "41. '160 M'\n",
       "42. '180 M'\n",
       "43. '200 M'\n",
       "\n",
       "\n"
      ],
      "text/plain": [
       " [1] \"1 K\"   \"2 K\"   \"3 K\"   \"4 K\"   \"5 K\"   \"6 K\"   \"7 K\"   \"8 K\"   \"9 K\"  \n",
       "[10] \"10 K\"  \"20 K\"  \"30 K\"  \"40 K\"  \"50 K\"  \"60 K\"  \"70 K\"  \"80 K\"  \"90 K\" \n",
       "[19] \"100 K\" \"200 K\" \"300 K\" \"400 K\" \"500 K\" \"600 K\" \"700 K\" \"800 K\" \"900 K\"\n",
       "[28] \"1 M\"   \"2 M\"   \"3 M\"   \"5 M\"   \"7 M\"   \"9 M\"   \"20 M\"  \"40 M\"  \"60 M\" \n",
       "[37] \"80 M\"  \"100 M\" \"120 M\" \"140 M\" \"160 M\" \"180 M\" \"200 M\""
      ]
     },
     "metadata": {},
     "output_type": "display_data"
    }
   ],
   "source": [
    "dfu <- unique(mydata_no_time$size_vector)\n",
    "#dfu[order(dfu)]\n",
    "\n",
    "comprss <- function(tx) { \n",
    "      div <- findInterval(as.numeric(gsub(\"\\\\,\", \"\", tx)), \n",
    "                          c(1, 1e3, 1e6, 1e9, 1e12) )\n",
    "      paste(round( as.numeric(gsub(\"\\\\,\",\"\",tx))/10^(3*(div-1)), 2), \n",
    "           c(\"\",\"K\",\"M\",\"B\",\"T\")[div] )}\n",
    "comprss(dfu[order(dfu)])\n",
    "\n"
   ]
  },
  {
   "cell_type": "code",
   "execution_count": 11,
   "metadata": {},
   "outputs": [],
   "source": [
    "#print(new_mydata[,c(\"PAPI_VEC_SP\",\"PAPI_VEC_DP\")])\n",
    "#print(mydata[,c(\"PAPI_VEC_SP\",\"PAPI_SP_OPS\")])"
   ]
  },
  {
   "cell_type": "code",
   "execution_count": 12,
   "metadata": {},
   "outputs": [],
   "source": [
    "#div = mydata$PAPI_SP_OPS/mydata$PAPI_VEC_SP\n",
    "#div <- na.omit(div)\n",
    "#subs = mydata$PAPI_BR_INS-(mydata$PAPI_BR_CN + mydata$PAPI_BR_UCN)"
   ]
  },
  {
   "cell_type": "code",
   "execution_count": 13,
   "metadata": {
    "scrolled": false
   },
   "outputs": [],
   "source": [
    "#mean(div)\n",
    "#quantile(div,0.25)\n",
    "#quantile(div,0.5)\n",
    "#quantile(div,0.75)\n",
    "#boxplot(div)"
   ]
  },
  {
   "cell_type": "code",
   "execution_count": 14,
   "metadata": {
    "scrolled": true
   },
   "outputs": [],
   "source": [
    "#print(mydata[,c(\"PAPI_BR_INS\",\"PAPI_BR_CN\",\"PAPI_BR_UCN\")])#subs = mydata$PAPI_BR_INS-(mydata$PAPI_BR_CN/mydata$PAPI_BR_UCN)\n",
    "#print(subs)\n",
    "#perc = subs/mydata$PAPI_BR_INS\n",
    "\n",
    "#head(percent(perc[order(perc,decreasing = TRUE)]))"
   ]
  },
  {
   "cell_type": "code",
   "execution_count": 15,
   "metadata": {},
   "outputs": [
    {
     "data": {
      "text/html": [
       "TRUE"
      ],
      "text/latex": [
       "TRUE"
      ],
      "text/markdown": [
       "TRUE"
      ],
      "text/plain": [
       "[1] TRUE"
      ]
     },
     "metadata": {},
     "output_type": "display_data"
    }
   ],
   "source": [
    "#all(new_mydata$PAPI_VEC_SP == new_mydata$PAPI_VEC_DP)\n",
    "all(mydata_no_time$PAPI_DP_SP == mydata_no_time$PAPI_SP_OPS)"
   ]
  },
  {
   "cell_type": "code",
   "execution_count": 16,
   "metadata": {},
   "outputs": [
    {
     "data": {
      "text/html": [
       "<ol class=list-inline>\n",
       "\t<li>'id'</li>\n",
       "\t<li>'size_vector'</li>\n",
       "\t<li>'comp_opt'</li>\n",
       "\t<li>'label'</li>\n",
       "\t<li>'threads'</li>\n",
       "\t<li>'PAPI_L1_DCM'</li>\n",
       "\t<li>'PAPI_L3_TCM'</li>\n",
       "\t<li>'PAPI_TOT_INS'</li>\n",
       "\t<li>'PAPI_REF_CYC'</li>\n",
       "\t<li>'PAPI_L2_LDM'</li>\n",
       "\t<li>'PAPI_SR_INS'</li>\n",
       "\t<li>'PAPI_BR_UCN'</li>\n",
       "\t<li>'PAPI_BR_CN'</li>\n",
       "\t<li>'PAPI_BR_TKN'</li>\n",
       "\t<li>'PAPI_BR_MSP'</li>\n",
       "\t<li>'PAPI_FP_OPS'</li>\n",
       "\t<li>'PAPI_L1_LDM'</li>\n",
       "\t<li>'PAPI_L1_STM'</li>\n",
       "\t<li>'PAPI_LD_INS'</li>\n",
       "\t<li>'PAPI_L2_STM'</li>\n",
       "\t<li>'PAPI_TLB_DM'</li>\n",
       "\t<li>'PAPI_L2_DCH'</li>\n",
       "</ol>\n"
      ],
      "text/latex": [
       "\\begin{enumerate*}\n",
       "\\item 'id'\n",
       "\\item 'size\\_vector'\n",
       "\\item 'comp\\_opt'\n",
       "\\item 'label'\n",
       "\\item 'threads'\n",
       "\\item 'PAPI\\_L1\\_DCM'\n",
       "\\item 'PAPI\\_L3\\_TCM'\n",
       "\\item 'PAPI\\_TOT\\_INS'\n",
       "\\item 'PAPI\\_REF\\_CYC'\n",
       "\\item 'PAPI\\_L2\\_LDM'\n",
       "\\item 'PAPI\\_SR\\_INS'\n",
       "\\item 'PAPI\\_BR\\_UCN'\n",
       "\\item 'PAPI\\_BR\\_CN'\n",
       "\\item 'PAPI\\_BR\\_TKN'\n",
       "\\item 'PAPI\\_BR\\_MSP'\n",
       "\\item 'PAPI\\_FP\\_OPS'\n",
       "\\item 'PAPI\\_L1\\_LDM'\n",
       "\\item 'PAPI\\_L1\\_STM'\n",
       "\\item 'PAPI\\_LD\\_INS'\n",
       "\\item 'PAPI\\_L2\\_STM'\n",
       "\\item 'PAPI\\_TLB\\_DM'\n",
       "\\item 'PAPI\\_L2\\_DCH'\n",
       "\\end{enumerate*}\n"
      ],
      "text/markdown": [
       "1. 'id'\n",
       "2. 'size_vector'\n",
       "3. 'comp_opt'\n",
       "4. 'label'\n",
       "5. 'threads'\n",
       "6. 'PAPI_L1_DCM'\n",
       "7. 'PAPI_L3_TCM'\n",
       "8. 'PAPI_TOT_INS'\n",
       "9. 'PAPI_REF_CYC'\n",
       "10. 'PAPI_L2_LDM'\n",
       "11. 'PAPI_SR_INS'\n",
       "12. 'PAPI_BR_UCN'\n",
       "13. 'PAPI_BR_CN'\n",
       "14. 'PAPI_BR_TKN'\n",
       "15. 'PAPI_BR_MSP'\n",
       "16. 'PAPI_FP_OPS'\n",
       "17. 'PAPI_L1_LDM'\n",
       "18. 'PAPI_L1_STM'\n",
       "19. 'PAPI_LD_INS'\n",
       "20. 'PAPI_L2_STM'\n",
       "21. 'PAPI_TLB_DM'\n",
       "22. 'PAPI_L2_DCH'\n",
       "\n",
       "\n"
      ],
      "text/plain": [
       " [1] \"id\"           \"size_vector\"  \"comp_opt\"     \"label\"        \"threads\"     \n",
       " [6] \"PAPI_L1_DCM\"  \"PAPI_L3_TCM\"  \"PAPI_TOT_INS\" \"PAPI_REF_CYC\" \"PAPI_L2_LDM\" \n",
       "[11] \"PAPI_SR_INS\"  \"PAPI_BR_UCN\"  \"PAPI_BR_CN\"   \"PAPI_BR_TKN\"  \"PAPI_BR_MSP\" \n",
       "[16] \"PAPI_FP_OPS\"  \"PAPI_L1_LDM\"  \"PAPI_L1_STM\"  \"PAPI_LD_INS\"  \"PAPI_L2_STM\" \n",
       "[21] \"PAPI_TLB_DM\"  \"PAPI_L2_DCH\" "
      ]
     },
     "metadata": {},
     "output_type": "display_data"
    }
   ],
   "source": [
    "colnames(mydata_no_time)"
   ]
  },
  {
   "cell_type": "code",
   "execution_count": 17,
   "metadata": {},
   "outputs": [
    {
     "data": {
      "text/html": [
       "<ol class=list-inline>\n",
       "\t<li>'PAPI_L1_DCM'</li>\n",
       "\t<li>'PAPI_L3_TCM'</li>\n",
       "\t<li>'PAPI_TOT_INS'</li>\n",
       "\t<li>'PAPI_REF_CYC'</li>\n",
       "\t<li>'PAPI_L2_LDM'</li>\n",
       "\t<li>'PAPI_SR_INS'</li>\n",
       "\t<li>'PAPI_BR_UCN'</li>\n",
       "\t<li>'PAPI_BR_CN'</li>\n",
       "\t<li>'PAPI_BR_TKN'</li>\n",
       "\t<li>'PAPI_BR_MSP'</li>\n",
       "\t<li>'PAPI_FP_OPS'</li>\n",
       "\t<li>'PAPI_L1_LDM'</li>\n",
       "\t<li>'PAPI_L1_STM'</li>\n",
       "\t<li>'PAPI_LD_INS'</li>\n",
       "\t<li>'PAPI_L2_STM'</li>\n",
       "\t<li>'PAPI_TLB_DM'</li>\n",
       "\t<li>'PAPI_L2_DCH'</li>\n",
       "</ol>\n"
      ],
      "text/latex": [
       "\\begin{enumerate*}\n",
       "\\item 'PAPI\\_L1\\_DCM'\n",
       "\\item 'PAPI\\_L3\\_TCM'\n",
       "\\item 'PAPI\\_TOT\\_INS'\n",
       "\\item 'PAPI\\_REF\\_CYC'\n",
       "\\item 'PAPI\\_L2\\_LDM'\n",
       "\\item 'PAPI\\_SR\\_INS'\n",
       "\\item 'PAPI\\_BR\\_UCN'\n",
       "\\item 'PAPI\\_BR\\_CN'\n",
       "\\item 'PAPI\\_BR\\_TKN'\n",
       "\\item 'PAPI\\_BR\\_MSP'\n",
       "\\item 'PAPI\\_FP\\_OPS'\n",
       "\\item 'PAPI\\_L1\\_LDM'\n",
       "\\item 'PAPI\\_L1\\_STM'\n",
       "\\item 'PAPI\\_LD\\_INS'\n",
       "\\item 'PAPI\\_L2\\_STM'\n",
       "\\item 'PAPI\\_TLB\\_DM'\n",
       "\\item 'PAPI\\_L2\\_DCH'\n",
       "\\end{enumerate*}\n"
      ],
      "text/markdown": [
       "1. 'PAPI_L1_DCM'\n",
       "2. 'PAPI_L3_TCM'\n",
       "3. 'PAPI_TOT_INS'\n",
       "4. 'PAPI_REF_CYC'\n",
       "5. 'PAPI_L2_LDM'\n",
       "6. 'PAPI_SR_INS'\n",
       "7. 'PAPI_BR_UCN'\n",
       "8. 'PAPI_BR_CN'\n",
       "9. 'PAPI_BR_TKN'\n",
       "10. 'PAPI_BR_MSP'\n",
       "11. 'PAPI_FP_OPS'\n",
       "12. 'PAPI_L1_LDM'\n",
       "13. 'PAPI_L1_STM'\n",
       "14. 'PAPI_LD_INS'\n",
       "15. 'PAPI_L2_STM'\n",
       "16. 'PAPI_TLB_DM'\n",
       "17. 'PAPI_L2_DCH'\n",
       "\n",
       "\n"
      ],
      "text/plain": [
       " [1] \"PAPI_L1_DCM\"  \"PAPI_L3_TCM\"  \"PAPI_TOT_INS\" \"PAPI_REF_CYC\" \"PAPI_L2_LDM\" \n",
       " [6] \"PAPI_SR_INS\"  \"PAPI_BR_UCN\"  \"PAPI_BR_CN\"   \"PAPI_BR_TKN\"  \"PAPI_BR_MSP\" \n",
       "[11] \"PAPI_FP_OPS\"  \"PAPI_L1_LDM\"  \"PAPI_L1_STM\"  \"PAPI_LD_INS\"  \"PAPI_L2_STM\" \n",
       "[16] \"PAPI_TLB_DM\"  \"PAPI_L2_DCH\" "
      ]
     },
     "metadata": {},
     "output_type": "display_data"
    }
   ],
   "source": [
    "colnames(mydata_no_time[6:ncol(mydata_no_time)])"
   ]
  },
  {
   "cell_type": "code",
   "execution_count": 18,
   "metadata": {},
   "outputs": [
    {
     "data": {
      "text/html": [
       "<ol class=list-inline>\n",
       "\t<li>129000</li>\n",
       "\t<li>17</li>\n",
       "</ol>\n"
      ],
      "text/latex": [
       "\\begin{enumerate*}\n",
       "\\item 129000\n",
       "\\item 17\n",
       "\\end{enumerate*}\n"
      ],
      "text/markdown": [
       "1. 129000\n",
       "2. 17\n",
       "\n",
       "\n"
      ],
      "text/plain": [
       "[1] 129000     17"
      ]
     },
     "metadata": {},
     "output_type": "display_data"
    }
   ],
   "source": [
    "new_mydata = mydata_no_time[,6:ncol(mydata_no_time)]\n",
    "dim(new_mydata)\n"
   ]
  },
  {
   "cell_type": "code",
   "execution_count": 19,
   "metadata": {
    "scrolled": true
   },
   "outputs": [
    {
     "data": {
      "text/html": [
       "<table>\n",
       "<thead><tr><th></th><th scope=col>PAPI_L1_DCM</th><th scope=col>PAPI_L3_TCM</th><th scope=col>PAPI_TOT_INS</th><th scope=col>PAPI_REF_CYC</th><th scope=col>PAPI_L2_LDM</th><th scope=col>PAPI_SR_INS</th><th scope=col>PAPI_BR_UCN</th><th scope=col>PAPI_BR_CN</th><th scope=col>PAPI_BR_TKN</th><th scope=col>PAPI_BR_MSP</th><th scope=col>PAPI_FP_OPS</th><th scope=col>PAPI_L1_LDM</th><th scope=col>PAPI_L1_STM</th><th scope=col>PAPI_LD_INS</th><th scope=col>PAPI_L2_STM</th><th scope=col>PAPI_TLB_DM</th><th scope=col>PAPI_L2_DCH</th></tr></thead>\n",
       "<tbody>\n",
       "\t<tr><th scope=row>18001</th><td>24787  </td><td>331    </td><td>1184348</td><td>1842480</td><td>8892   </td><td>109369 </td><td>8369   </td><td>270850 </td><td>194265 </td><td>1875   </td><td>100    </td><td>13747  </td><td>9626   </td><td>219367 </td><td>7176   </td><td>538    </td><td> 7911  </td></tr>\n",
       "\t<tr><th scope=row>18002</th><td>23301  </td><td>  4    </td><td>1638695</td><td>2612988</td><td>6373   </td><td>108056 </td><td>8112   </td><td>414901 </td><td>265960 </td><td>1367   </td><td> 27    </td><td>10928  </td><td>6962   </td><td>324822 </td><td>4457   </td><td>107    </td><td> 6370  </td></tr>\n",
       "\t<tr><th scope=row>18003</th><td>23348  </td><td>  1    </td><td>1740141</td><td>2730114</td><td>3537   </td><td>108051 </td><td>8091   </td><td>422341 </td><td>269682 </td><td>1389   </td><td> 27    </td><td>12173  </td><td>9776   </td><td>283230 </td><td>4634   </td><td> 79    </td><td>16548  </td></tr>\n",
       "\t<tr><th scope=row>18004</th><td>23252  </td><td>  2    </td><td>1725934</td><td>2704176</td><td>3702   </td><td>108051 </td><td>8063   </td><td>423413 </td><td>270304 </td><td>1361   </td><td> 28    </td><td>12191  </td><td>9789   </td><td>286503 </td><td>2806   </td><td> 79    </td><td>14975  </td></tr>\n",
       "\t<tr><th scope=row>18005</th><td>23213  </td><td>  0    </td><td>1710811</td><td>2647944</td><td>2924   </td><td>108051 </td><td>8082   </td><td>421301 </td><td>269190 </td><td>1347   </td><td> 27    </td><td>12270  </td><td>9829   </td><td>288146 </td><td>3094   </td><td> 78    </td><td>16953  </td></tr>\n",
       "\t<tr><th scope=row>18006</th><td>23207  </td><td>  0    </td><td>1711578</td><td>2673864</td><td>3756   </td><td>108051 </td><td>8097   </td><td>420796 </td><td>269046 </td><td>1339   </td><td> 27    </td><td>12198  </td><td>9761   </td><td>286095 </td><td>2336   </td><td> 84    </td><td>15820  </td></tr>\n",
       "\t<tr><th scope=row>18007</th><td>23328  </td><td>  0    </td><td>1776328</td><td>2795634</td><td>3625   </td><td>108057 </td><td>8088   </td><td>432512 </td><td>274781 </td><td>1390   </td><td> 27    </td><td>12199  </td><td>9782   </td><td>284457 </td><td>2836   </td><td> 74    </td><td>16849  </td></tr>\n",
       "\t<tr><th scope=row>18008</th><td>23247  </td><td>  1    </td><td>1704241</td><td>2644182</td><td>3071   </td><td>108051 </td><td>8079   </td><td>419148 </td><td>268087 </td><td>1360   </td><td> 27    </td><td>12149  </td><td>9775   </td><td>282177 </td><td>2282   </td><td> 72    </td><td>16238  </td></tr>\n",
       "\t<tr><th scope=row>18009</th><td>23194  </td><td>  0    </td><td>1709832</td><td>2667276</td><td>3554   </td><td>108051 </td><td>8085   </td><td>419984 </td><td>268572 </td><td>1352   </td><td> 27    </td><td>12257  </td><td>9788   </td><td>283904 </td><td>2840   </td><td> 79    </td><td>16940  </td></tr>\n",
       "\t<tr><th scope=row>18010</th><td>23214  </td><td>  0    </td><td>1716988</td><td>2658564</td><td>2889   </td><td>108051 </td><td>8078   </td><td>443871 </td><td>280466 </td><td>1427   </td><td> 27    </td><td>12361  </td><td>9811   </td><td>288240 </td><td>2405   </td><td> 80    </td><td>15797  </td></tr>\n",
       "\t<tr><th scope=row>18011</th><td>23238  </td><td>  0    </td><td>1721307</td><td>2687166</td><td>3397   </td><td>108051 </td><td>8077   </td><td>419146 </td><td>267997 </td><td>1379   </td><td> 27    </td><td>12228  </td><td>9806   </td><td>284607 </td><td>2821   </td><td> 75    </td><td>16098  </td></tr>\n",
       "\t<tr><th scope=row>18012</th><td>23226  </td><td>  0    </td><td>1735124</td><td>2709558</td><td>3434   </td><td>108056 </td><td>8081   </td><td>538491 </td><td>327806 </td><td>1386   </td><td> 27    </td><td>12229  </td><td>9769   </td><td>283544 </td><td>2322   </td><td> 76    </td><td>17046  </td></tr>\n",
       "\t<tr><th scope=row>18013</th><td>23203  </td><td>  0    </td><td>1718603</td><td>2664054</td><td>3074   </td><td>108051 </td><td>8075   </td><td>431156 </td><td>274072 </td><td>1383   </td><td> 27    </td><td>12263  </td><td>9829   </td><td>290504 </td><td>2818   </td><td> 81    </td><td>15740  </td></tr>\n",
       "\t<tr><th scope=row>18014</th><td>23370  </td><td>  0    </td><td>1751942</td><td>2748906</td><td>3638   </td><td>108051 </td><td>8098   </td><td>426430 </td><td>271798 </td><td>1392   </td><td> 27    </td><td>12142  </td><td>9753   </td><td>283388 </td><td>2264   </td><td> 77    </td><td>16994  </td></tr>\n",
       "\t<tr><th scope=row>18015</th><td>23176  </td><td>  0    </td><td>1706380</td><td>2635776</td><td>2861   </td><td>108051 </td><td>8087   </td><td>421647 </td><td>269416 </td><td>1352   </td><td> 27    </td><td>12279  </td><td>9757   </td><td>285612 </td><td>2819   </td><td> 77    </td><td>15814  </td></tr>\n",
       "\t<tr><th scope=row>18016</th><td>23222  </td><td>  0    </td><td>1700538</td><td>2644092</td><td>3536   </td><td>108051 </td><td>8112   </td><td>430439 </td><td>273707 </td><td>1444   </td><td> 27    </td><td>12255  </td><td>9781   </td><td>283017 </td><td>2254   </td><td> 74    </td><td>17100  </td></tr>\n",
       "\t<tr><th scope=row>18017</th><td>23261  </td><td>  0    </td><td>2083061</td><td>3310938</td><td>3308   </td><td>108057 </td><td>8076   </td><td>417427 </td><td>267284 </td><td>1351   </td><td> 27    </td><td>12208  </td><td>9765   </td><td>286124 </td><td>2671   </td><td> 77    </td><td>15984  </td></tr>\n",
       "\t<tr><th scope=row>18018</th><td>23335  </td><td>  0    </td><td>1751495</td><td>2737098</td><td>3371   </td><td>108051 </td><td>8095   </td><td>425025 </td><td>271027 </td><td>1386   </td><td> 27    </td><td>12251  </td><td>9825   </td><td>289832 </td><td>2184   </td><td> 75    </td><td>17124  </td></tr>\n",
       "\t<tr><th scope=row>18019</th><td>23260  </td><td>  0    </td><td>1702019</td><td>2650518</td><td>3465   </td><td>108051 </td><td>8089   </td><td>432555 </td><td>274897 </td><td>1376   </td><td> 27    </td><td>12178  </td><td>9786   </td><td>284908 </td><td>2874   </td><td> 81    </td><td>16057  </td></tr>\n",
       "\t<tr><th scope=row>18020</th><td>23206  </td><td>  0    </td><td>1702716</td><td>2627604</td><td>2974   </td><td>108051 </td><td>8104   </td><td>421963 </td><td>269470 </td><td>1355   </td><td> 27    </td><td>12355  </td><td>9785   </td><td>283462 </td><td>2387   </td><td> 77    </td><td>16971  </td></tr>\n",
       "\t<tr><th scope=row>18021</th><td>23324  </td><td>  1    </td><td>1747871</td><td>2736108</td><td>3529   </td><td>108051 </td><td>8058   </td><td>421248 </td><td>269123 </td><td>1337   </td><td> 27    </td><td>12195  </td><td>9702   </td><td>291285 </td><td>2750   </td><td> 79    </td><td>17132  </td></tr>\n",
       "\t<tr><th scope=row>18022</th><td>23275  </td><td>  0    </td><td>1710107</td><td>2651490</td><td>3322   </td><td>108057 </td><td>8115   </td><td>440119 </td><td>278683 </td><td>1364   </td><td> 27    </td><td>12307  </td><td>9847   </td><td>282805 </td><td>2320   </td><td> 82    </td><td>15894  </td></tr>\n",
       "\t<tr><th scope=row>18023</th><td>23205  </td><td>  0    </td><td>1694747</td><td>2630376</td><td>3448   </td><td>108051 </td><td>8105   </td><td>418648 </td><td>267863 </td><td>1355   </td><td> 27    </td><td>12222  </td><td>9714   </td><td>284970 </td><td>2782   </td><td> 72    </td><td>17023  </td></tr>\n",
       "\t<tr><th scope=row>18024</th><td>23243  </td><td>  0    </td><td>1714122</td><td>2669544</td><td>3464   </td><td>108051 </td><td>8102   </td><td>424121 </td><td>270616 </td><td>1354   </td><td> 27    </td><td>12286  </td><td>9751   </td><td>284674 </td><td>2296   </td><td> 80    </td><td>15852  </td></tr>\n",
       "\t<tr><th scope=row>18025</th><td>23247  </td><td>  0    </td><td>1748185</td><td>2717622</td><td>2959   </td><td>108051 </td><td>8098   </td><td>431572 </td><td>274401 </td><td>1385   </td><td> 27    </td><td>12028  </td><td>9571   </td><td>287953 </td><td>2657   </td><td> 76    </td><td>16992  </td></tr>\n",
       "\t<tr><th scope=row>18026</th><td>23223  </td><td>  0    </td><td>1704696</td><td>2654424</td><td>3539   </td><td>108051 </td><td>8092   </td><td>422201 </td><td>269564 </td><td>1368   </td><td> 27    </td><td>12310  </td><td>9821   </td><td>289226 </td><td>2270   </td><td> 83    </td><td>15850  </td></tr>\n",
       "\t<tr><th scope=row>18027</th><td>23226  </td><td>  0    </td><td>1726035</td><td>2676312</td><td>2939   </td><td>108057 </td><td>8084   </td><td>419439 </td><td>268224 </td><td>1355   </td><td> 27    </td><td>12117  </td><td>9714   </td><td>277941 </td><td>2644   </td><td> 80    </td><td>17188  </td></tr>\n",
       "\t<tr><th scope=row>18028</th><td>23213  </td><td>  0    </td><td>1701219</td><td>2652444</td><td>3460   </td><td>108051 </td><td>8124   </td><td>432451 </td><td>274895 </td><td>1408   </td><td> 27    </td><td>12200  </td><td>9777   </td><td>283768 </td><td>2385   </td><td> 79    </td><td>16025  </td></tr>\n",
       "\t<tr><th scope=row>18029</th><td>23218  </td><td>  0    </td><td>1754656</td><td>2749086</td><td>3488   </td><td>108052 </td><td>8071   </td><td>421827 </td><td>269355 </td><td>1358   </td><td> 27    </td><td>12247  </td><td>9755   </td><td>292290 </td><td>2757   </td><td> 74    </td><td>16983  </td></tr>\n",
       "\t<tr><th scope=row>18030</th><td>23165  </td><td>  0    </td><td>1703479</td><td>2629350</td><td>2968   </td><td>108051 </td><td>8089   </td><td>420228 </td><td>268674 </td><td>1358   </td><td> 27    </td><td>12224  </td><td>9842   </td><td>284930 </td><td>2318   </td><td> 78    </td><td>16013  </td></tr>\n",
       "\t<tr><th scope=row>...</th><td>...</td><td>...</td><td>...</td><td>...</td><td>...</td><td>...</td><td>...</td><td>...</td><td>...</td><td>...</td><td>...</td><td>...</td><td>...</td><td>...</td><td>...</td><td>...</td><td>...</td></tr>\n",
       "\t<tr><th scope=row>1546471</th><td>3654   </td><td> 83    </td><td>1467680</td><td>2490498</td><td>525    </td><td>33253  </td><td>7988   </td><td>322349 </td><td>183957 </td><td>1470   </td><td>24054  </td><td>2871   </td><td>533    </td><td>214267 </td><td>129    </td><td>43     </td><td>2885   </td></tr>\n",
       "\t<tr><th scope=row>1546472</th><td>3388   </td><td> 88    </td><td>1437753</td><td>2435598</td><td>502    </td><td>33253  </td><td>7981   </td><td>322053 </td><td>183829 </td><td>1410   </td><td>24053  </td><td>2949   </td><td>538    </td><td>206231 </td><td>128    </td><td>43     </td><td>3101   </td></tr>\n",
       "\t<tr><th scope=row>1546473</th><td>3701   </td><td> 87    </td><td>1446026</td><td>2451258</td><td>509    </td><td>33253  </td><td>8000   </td><td>318159 </td><td>181808 </td><td>1436   </td><td>24058  </td><td>3081   </td><td>617    </td><td>206292 </td><td>125    </td><td>40     </td><td>2895   </td></tr>\n",
       "\t<tr><th scope=row>1546474</th><td>3574   </td><td> 92    </td><td>1510490</td><td>2575170</td><td>610    </td><td>33259  </td><td>7997   </td><td>314294 </td><td>180233 </td><td>1399   </td><td>24060  </td><td>2879   </td><td>529    </td><td>206365 </td><td>116    </td><td>37     </td><td>3099   </td></tr>\n",
       "\t<tr><th scope=row>1546475</th><td>3777   </td><td> 69    </td><td>1441619</td><td>2445408</td><td>528    </td><td>33253  </td><td>7964   </td><td>310020 </td><td>177660 </td><td>1400   </td><td>24060  </td><td>3146   </td><td>596    </td><td>204702 </td><td>120    </td><td>43     </td><td>2883   </td></tr>\n",
       "\t<tr><th scope=row>1546476</th><td>3649   </td><td> 76    </td><td>1445364</td><td>2450448</td><td>532    </td><td>33253  </td><td>7976   </td><td>313197 </td><td>179405 </td><td>1402   </td><td>24057  </td><td>2897   </td><td>526    </td><td>211081 </td><td>131    </td><td>39     </td><td>2842   </td></tr>\n",
       "\t<tr><th scope=row>1546477</th><td>3431   </td><td> 96    </td><td>1425302</td><td>2414502</td><td>480    </td><td>33253  </td><td>7991   </td><td>311564 </td><td>179018 </td><td>1397   </td><td>24065  </td><td>3022   </td><td>586    </td><td>205422 </td><td>119    </td><td>39     </td><td>3109   </td></tr>\n",
       "\t<tr><th scope=row>1546478</th><td>3728   </td><td> 92    </td><td>1471094</td><td>2496204</td><td>534    </td><td>33253  </td><td>7997   </td><td>314068 </td><td>180167 </td><td>1419   </td><td>24061  </td><td>2929   </td><td>528    </td><td>209209 </td><td>136    </td><td>35     </td><td>2928   </td></tr>\n",
       "\t<tr><th scope=row>1546479</th><td>3411   </td><td> 88    </td><td>1437720</td><td>2439828</td><td>480    </td><td>33258  </td><td>7982   </td><td>311183 </td><td>178318 </td><td>1408   </td><td>24062  </td><td>3062   </td><td>588    </td><td>210436 </td><td>116    </td><td>37     </td><td>3028   </td></tr>\n",
       "\t<tr><th scope=row>1546480</th><td>3682   </td><td> 99    </td><td>1440038</td><td>2439414</td><td>546    </td><td>33253  </td><td>7973   </td><td>315702 </td><td>180670 </td><td>1420   </td><td>24050  </td><td>2855   </td><td>518    </td><td>210072 </td><td>133    </td><td>40     </td><td>2883   </td></tr>\n",
       "\t<tr><th scope=row>1546481</th><td>3819   </td><td> 93    </td><td>1471361</td><td>2502216</td><td>578    </td><td>33258  </td><td>7993   </td><td>312083 </td><td>178744 </td><td>1420   </td><td>24062  </td><td>3148   </td><td>607    </td><td>206903 </td><td>127    </td><td>36     </td><td>2918   </td></tr>\n",
       "\t<tr><th scope=row>1546482</th><td>3420   </td><td> 90    </td><td>1439031</td><td>2439000</td><td>512    </td><td>33253  </td><td>8034   </td><td>325912 </td><td>185869 </td><td>1488   </td><td>24064  </td><td>2803   </td><td>526    </td><td>204724 </td><td>112    </td><td>36     </td><td>3070   </td></tr>\n",
       "\t<tr><th scope=row>1546483</th><td>3671   </td><td> 82    </td><td>1440826</td><td>2441034</td><td>503    </td><td>33253  </td><td>7996   </td><td>315138 </td><td>180726 </td><td>1416   </td><td>24054  </td><td>3015   </td><td>538    </td><td>206213 </td><td>123    </td><td>40     </td><td>2801   </td></tr>\n",
       "\t<tr><th scope=row>1546484</th><td>3448   </td><td> 82    </td><td>1430637</td><td>2425374</td><td>500    </td><td>33253  </td><td>7993   </td><td>318457 </td><td>182096 </td><td>1451   </td><td>24061  </td><td>3057   </td><td>614    </td><td>209530 </td><td>129    </td><td>38     </td><td>2984   </td></tr>\n",
       "\t<tr><th scope=row>1546485</th><td>3794   </td><td> 95    </td><td>1486276</td><td>2526696</td><td>564    </td><td>33253  </td><td>7964   </td><td>312026 </td><td>178831 </td><td>1404   </td><td>24058  </td><td>2913   </td><td>525    </td><td>206312 </td><td>124    </td><td>36     </td><td>2940   </td></tr>\n",
       "\t<tr><th scope=row>1546486</th><td>3734   </td><td> 85    </td><td>1461736</td><td>2483874</td><td>575    </td><td>33258  </td><td>8007   </td><td>315926 </td><td>180853 </td><td>1456   </td><td>24063  </td><td>3097   </td><td>602    </td><td>206407 </td><td>131    </td><td>36     </td><td>2792   </td></tr>\n",
       "\t<tr><th scope=row>1546487</th><td>3421   </td><td> 83    </td><td>1442569</td><td>2443572</td><td>523    </td><td>33253  </td><td>7958   </td><td>314199 </td><td>180153 </td><td>1428   </td><td>24057  </td><td>2977   </td><td>539    </td><td>214441 </td><td>133    </td><td>36     </td><td>3049   </td></tr>\n",
       "\t<tr><th scope=row>1546488</th><td>3759   </td><td>101    </td><td>1450532</td><td>2460168</td><td>552    </td><td>33253  </td><td>7974   </td><td>310733 </td><td>178258 </td><td>1408   </td><td>24060  </td><td>3037   </td><td>600    </td><td>205691 </td><td>119    </td><td>34     </td><td>2846   </td></tr>\n",
       "\t<tr><th scope=row>1546489</th><td>3511   </td><td> 90    </td><td>1463754</td><td>2484180</td><td>511    </td><td>33253  </td><td>7990   </td><td>325096 </td><td>185727 </td><td>1464   </td><td>24055  </td><td>2867   </td><td>524    </td><td>206180 </td><td>111    </td><td>38     </td><td>2955   </td></tr>\n",
       "\t<tr><th scope=row>1546490</th><td>3652   </td><td> 81    </td><td>1445434</td><td>2450448</td><td>531    </td><td>33253  </td><td>7963   </td><td>312818 </td><td>179060 </td><td>1424   </td><td>24063  </td><td>3115   </td><td>603    </td><td>206026 </td><td>119    </td><td>37     </td><td>2902   </td></tr>\n",
       "\t<tr><th scope=row>1546491</th><td>3599   </td><td> 99    </td><td>4012772</td><td>7178400</td><td>591    </td><td>33780  </td><td>8006   </td><td>315077 </td><td>180814 </td><td>1408   </td><td>24056  </td><td>2989   </td><td>529    </td><td>205100 </td><td>128    </td><td>39     </td><td>3074   </td></tr>\n",
       "\t<tr><th scope=row>1546492</th><td>4817   </td><td>178    </td><td>1878879</td><td>3304206</td><td>970    </td><td>33322  </td><td>8015   </td><td>324512 </td><td>184980 </td><td>1441   </td><td>24056  </td><td>3023   </td><td>600    </td><td>209945 </td><td>124    </td><td>37     </td><td>2828   </td></tr>\n",
       "\t<tr><th scope=row>1546493</th><td>3617   </td><td> 85    </td><td>1437508</td><td>2435238</td><td>462    </td><td>33253  </td><td>8020   </td><td>322420 </td><td>184048 </td><td>1455   </td><td>24059  </td><td>2900   </td><td>521    </td><td>204916 </td><td>113    </td><td>37     </td><td>2797   </td></tr>\n",
       "\t<tr><th scope=row>1546494</th><td>3717   </td><td> 63    </td><td>1431871</td><td>2433654</td><td>454    </td><td>33253  </td><td>7990   </td><td>315083 </td><td>180438 </td><td>1416   </td><td>24052  </td><td>2929   </td><td>540    </td><td>207215 </td><td>123    </td><td>40     </td><td>3009   </td></tr>\n",
       "\t<tr><th scope=row>1546495</th><td>3400   </td><td> 73    </td><td>1423203</td><td>2446398</td><td>394    </td><td>33258  </td><td>8020   </td><td>333043 </td><td>189779 </td><td>1495   </td><td>24060  </td><td>3082   </td><td>614    </td><td>210577 </td><td>126    </td><td>34     </td><td>2926   </td></tr>\n",
       "\t<tr><th scope=row>1546496</th><td>3804   </td><td> 90    </td><td>1456682</td><td>2469744</td><td>426    </td><td>33253  </td><td>7995   </td><td>314694 </td><td>180188 </td><td>1420   </td><td>24054  </td><td>2864   </td><td>522    </td><td>209720 </td><td>120    </td><td>35     </td><td>2966   </td></tr>\n",
       "\t<tr><th scope=row>1546497</th><td>3743   </td><td> 68    </td><td>1460840</td><td>2484594</td><td>451    </td><td>33258  </td><td>7977   </td><td>312177 </td><td>179105 </td><td>1394   </td><td>24058  </td><td>3056   </td><td>595    </td><td>204651 </td><td>125    </td><td>42     </td><td>2790   </td></tr>\n",
       "\t<tr><th scope=row>1546498</th><td>3419   </td><td> 87    </td><td>1422451</td><td>2415186</td><td>443    </td><td>33253  </td><td>7980   </td><td>324172 </td><td>185113 </td><td>1406   </td><td>24062  </td><td>2869   </td><td>526    </td><td>204609 </td><td>120    </td><td>43     </td><td>2835   </td></tr>\n",
       "\t<tr><th scope=row>1546499</th><td>3642   </td><td> 82    </td><td>1432100</td><td>2436030</td><td>421    </td><td>33253  </td><td>7964   </td><td>315088 </td><td>180160 </td><td>1397   </td><td>24059  </td><td>3130   </td><td>598    </td><td>205676 </td><td>121    </td><td>37     </td><td>3059   </td></tr>\n",
       "\t<tr><th scope=row>1546500</th><td>3455   </td><td> 88    </td><td>1453817</td><td>2463012</td><td>416    </td><td>33253  </td><td>7976   </td><td>315782 </td><td>180868 </td><td>1388   </td><td>24061  </td><td>2874   </td><td>528    </td><td>210025 </td><td>133    </td><td>38     </td><td>2933   </td></tr>\n",
       "</tbody>\n",
       "</table>\n"
      ],
      "text/latex": [
       "\\begin{tabular}{r|lllllllllllllllll}\n",
       "  & PAPI\\_L1\\_DCM & PAPI\\_L3\\_TCM & PAPI\\_TOT\\_INS & PAPI\\_REF\\_CYC & PAPI\\_L2\\_LDM & PAPI\\_SR\\_INS & PAPI\\_BR\\_UCN & PAPI\\_BR\\_CN & PAPI\\_BR\\_TKN & PAPI\\_BR\\_MSP & PAPI\\_FP\\_OPS & PAPI\\_L1\\_LDM & PAPI\\_L1\\_STM & PAPI\\_LD\\_INS & PAPI\\_L2\\_STM & PAPI\\_TLB\\_DM & PAPI\\_L2\\_DCH\\\\\n",
       "\\hline\n",
       "\t18001 & 24787   & 331     & 1184348 & 1842480 & 8892    & 109369  & 8369    & 270850  & 194265  & 1875    & 100     & 13747   & 9626    & 219367  & 7176    & 538     &  7911  \\\\\n",
       "\t18002 & 23301   &   4     & 1638695 & 2612988 & 6373    & 108056  & 8112    & 414901  & 265960  & 1367    &  27     & 10928   & 6962    & 324822  & 4457    & 107     &  6370  \\\\\n",
       "\t18003 & 23348   &   1     & 1740141 & 2730114 & 3537    & 108051  & 8091    & 422341  & 269682  & 1389    &  27     & 12173   & 9776    & 283230  & 4634    &  79     & 16548  \\\\\n",
       "\t18004 & 23252   &   2     & 1725934 & 2704176 & 3702    & 108051  & 8063    & 423413  & 270304  & 1361    &  28     & 12191   & 9789    & 286503  & 2806    &  79     & 14975  \\\\\n",
       "\t18005 & 23213   &   0     & 1710811 & 2647944 & 2924    & 108051  & 8082    & 421301  & 269190  & 1347    &  27     & 12270   & 9829    & 288146  & 3094    &  78     & 16953  \\\\\n",
       "\t18006 & 23207   &   0     & 1711578 & 2673864 & 3756    & 108051  & 8097    & 420796  & 269046  & 1339    &  27     & 12198   & 9761    & 286095  & 2336    &  84     & 15820  \\\\\n",
       "\t18007 & 23328   &   0     & 1776328 & 2795634 & 3625    & 108057  & 8088    & 432512  & 274781  & 1390    &  27     & 12199   & 9782    & 284457  & 2836    &  74     & 16849  \\\\\n",
       "\t18008 & 23247   &   1     & 1704241 & 2644182 & 3071    & 108051  & 8079    & 419148  & 268087  & 1360    &  27     & 12149   & 9775    & 282177  & 2282    &  72     & 16238  \\\\\n",
       "\t18009 & 23194   &   0     & 1709832 & 2667276 & 3554    & 108051  & 8085    & 419984  & 268572  & 1352    &  27     & 12257   & 9788    & 283904  & 2840    &  79     & 16940  \\\\\n",
       "\t18010 & 23214   &   0     & 1716988 & 2658564 & 2889    & 108051  & 8078    & 443871  & 280466  & 1427    &  27     & 12361   & 9811    & 288240  & 2405    &  80     & 15797  \\\\\n",
       "\t18011 & 23238   &   0     & 1721307 & 2687166 & 3397    & 108051  & 8077    & 419146  & 267997  & 1379    &  27     & 12228   & 9806    & 284607  & 2821    &  75     & 16098  \\\\\n",
       "\t18012 & 23226   &   0     & 1735124 & 2709558 & 3434    & 108056  & 8081    & 538491  & 327806  & 1386    &  27     & 12229   & 9769    & 283544  & 2322    &  76     & 17046  \\\\\n",
       "\t18013 & 23203   &   0     & 1718603 & 2664054 & 3074    & 108051  & 8075    & 431156  & 274072  & 1383    &  27     & 12263   & 9829    & 290504  & 2818    &  81     & 15740  \\\\\n",
       "\t18014 & 23370   &   0     & 1751942 & 2748906 & 3638    & 108051  & 8098    & 426430  & 271798  & 1392    &  27     & 12142   & 9753    & 283388  & 2264    &  77     & 16994  \\\\\n",
       "\t18015 & 23176   &   0     & 1706380 & 2635776 & 2861    & 108051  & 8087    & 421647  & 269416  & 1352    &  27     & 12279   & 9757    & 285612  & 2819    &  77     & 15814  \\\\\n",
       "\t18016 & 23222   &   0     & 1700538 & 2644092 & 3536    & 108051  & 8112    & 430439  & 273707  & 1444    &  27     & 12255   & 9781    & 283017  & 2254    &  74     & 17100  \\\\\n",
       "\t18017 & 23261   &   0     & 2083061 & 3310938 & 3308    & 108057  & 8076    & 417427  & 267284  & 1351    &  27     & 12208   & 9765    & 286124  & 2671    &  77     & 15984  \\\\\n",
       "\t18018 & 23335   &   0     & 1751495 & 2737098 & 3371    & 108051  & 8095    & 425025  & 271027  & 1386    &  27     & 12251   & 9825    & 289832  & 2184    &  75     & 17124  \\\\\n",
       "\t18019 & 23260   &   0     & 1702019 & 2650518 & 3465    & 108051  & 8089    & 432555  & 274897  & 1376    &  27     & 12178   & 9786    & 284908  & 2874    &  81     & 16057  \\\\\n",
       "\t18020 & 23206   &   0     & 1702716 & 2627604 & 2974    & 108051  & 8104    & 421963  & 269470  & 1355    &  27     & 12355   & 9785    & 283462  & 2387    &  77     & 16971  \\\\\n",
       "\t18021 & 23324   &   1     & 1747871 & 2736108 & 3529    & 108051  & 8058    & 421248  & 269123  & 1337    &  27     & 12195   & 9702    & 291285  & 2750    &  79     & 17132  \\\\\n",
       "\t18022 & 23275   &   0     & 1710107 & 2651490 & 3322    & 108057  & 8115    & 440119  & 278683  & 1364    &  27     & 12307   & 9847    & 282805  & 2320    &  82     & 15894  \\\\\n",
       "\t18023 & 23205   &   0     & 1694747 & 2630376 & 3448    & 108051  & 8105    & 418648  & 267863  & 1355    &  27     & 12222   & 9714    & 284970  & 2782    &  72     & 17023  \\\\\n",
       "\t18024 & 23243   &   0     & 1714122 & 2669544 & 3464    & 108051  & 8102    & 424121  & 270616  & 1354    &  27     & 12286   & 9751    & 284674  & 2296    &  80     & 15852  \\\\\n",
       "\t18025 & 23247   &   0     & 1748185 & 2717622 & 2959    & 108051  & 8098    & 431572  & 274401  & 1385    &  27     & 12028   & 9571    & 287953  & 2657    &  76     & 16992  \\\\\n",
       "\t18026 & 23223   &   0     & 1704696 & 2654424 & 3539    & 108051  & 8092    & 422201  & 269564  & 1368    &  27     & 12310   & 9821    & 289226  & 2270    &  83     & 15850  \\\\\n",
       "\t18027 & 23226   &   0     & 1726035 & 2676312 & 2939    & 108057  & 8084    & 419439  & 268224  & 1355    &  27     & 12117   & 9714    & 277941  & 2644    &  80     & 17188  \\\\\n",
       "\t18028 & 23213   &   0     & 1701219 & 2652444 & 3460    & 108051  & 8124    & 432451  & 274895  & 1408    &  27     & 12200   & 9777    & 283768  & 2385    &  79     & 16025  \\\\\n",
       "\t18029 & 23218   &   0     & 1754656 & 2749086 & 3488    & 108052  & 8071    & 421827  & 269355  & 1358    &  27     & 12247   & 9755    & 292290  & 2757    &  74     & 16983  \\\\\n",
       "\t18030 & 23165   &   0     & 1703479 & 2629350 & 2968    & 108051  & 8089    & 420228  & 268674  & 1358    &  27     & 12224   & 9842    & 284930  & 2318    &  78     & 16013  \\\\\n",
       "\t... & ... & ... & ... & ... & ... & ... & ... & ... & ... & ... & ... & ... & ... & ... & ... & ... & ...\\\\\n",
       "\t1546471 & 3654    &  83     & 1467680 & 2490498 & 525     & 33253   & 7988    & 322349  & 183957  & 1470    & 24054   & 2871    & 533     & 214267  & 129     & 43      & 2885   \\\\\n",
       "\t1546472 & 3388    &  88     & 1437753 & 2435598 & 502     & 33253   & 7981    & 322053  & 183829  & 1410    & 24053   & 2949    & 538     & 206231  & 128     & 43      & 3101   \\\\\n",
       "\t1546473 & 3701    &  87     & 1446026 & 2451258 & 509     & 33253   & 8000    & 318159  & 181808  & 1436    & 24058   & 3081    & 617     & 206292  & 125     & 40      & 2895   \\\\\n",
       "\t1546474 & 3574    &  92     & 1510490 & 2575170 & 610     & 33259   & 7997    & 314294  & 180233  & 1399    & 24060   & 2879    & 529     & 206365  & 116     & 37      & 3099   \\\\\n",
       "\t1546475 & 3777    &  69     & 1441619 & 2445408 & 528     & 33253   & 7964    & 310020  & 177660  & 1400    & 24060   & 3146    & 596     & 204702  & 120     & 43      & 2883   \\\\\n",
       "\t1546476 & 3649    &  76     & 1445364 & 2450448 & 532     & 33253   & 7976    & 313197  & 179405  & 1402    & 24057   & 2897    & 526     & 211081  & 131     & 39      & 2842   \\\\\n",
       "\t1546477 & 3431    &  96     & 1425302 & 2414502 & 480     & 33253   & 7991    & 311564  & 179018  & 1397    & 24065   & 3022    & 586     & 205422  & 119     & 39      & 3109   \\\\\n",
       "\t1546478 & 3728    &  92     & 1471094 & 2496204 & 534     & 33253   & 7997    & 314068  & 180167  & 1419    & 24061   & 2929    & 528     & 209209  & 136     & 35      & 2928   \\\\\n",
       "\t1546479 & 3411    &  88     & 1437720 & 2439828 & 480     & 33258   & 7982    & 311183  & 178318  & 1408    & 24062   & 3062    & 588     & 210436  & 116     & 37      & 3028   \\\\\n",
       "\t1546480 & 3682    &  99     & 1440038 & 2439414 & 546     & 33253   & 7973    & 315702  & 180670  & 1420    & 24050   & 2855    & 518     & 210072  & 133     & 40      & 2883   \\\\\n",
       "\t1546481 & 3819    &  93     & 1471361 & 2502216 & 578     & 33258   & 7993    & 312083  & 178744  & 1420    & 24062   & 3148    & 607     & 206903  & 127     & 36      & 2918   \\\\\n",
       "\t1546482 & 3420    &  90     & 1439031 & 2439000 & 512     & 33253   & 8034    & 325912  & 185869  & 1488    & 24064   & 2803    & 526     & 204724  & 112     & 36      & 3070   \\\\\n",
       "\t1546483 & 3671    &  82     & 1440826 & 2441034 & 503     & 33253   & 7996    & 315138  & 180726  & 1416    & 24054   & 3015    & 538     & 206213  & 123     & 40      & 2801   \\\\\n",
       "\t1546484 & 3448    &  82     & 1430637 & 2425374 & 500     & 33253   & 7993    & 318457  & 182096  & 1451    & 24061   & 3057    & 614     & 209530  & 129     & 38      & 2984   \\\\\n",
       "\t1546485 & 3794    &  95     & 1486276 & 2526696 & 564     & 33253   & 7964    & 312026  & 178831  & 1404    & 24058   & 2913    & 525     & 206312  & 124     & 36      & 2940   \\\\\n",
       "\t1546486 & 3734    &  85     & 1461736 & 2483874 & 575     & 33258   & 8007    & 315926  & 180853  & 1456    & 24063   & 3097    & 602     & 206407  & 131     & 36      & 2792   \\\\\n",
       "\t1546487 & 3421    &  83     & 1442569 & 2443572 & 523     & 33253   & 7958    & 314199  & 180153  & 1428    & 24057   & 2977    & 539     & 214441  & 133     & 36      & 3049   \\\\\n",
       "\t1546488 & 3759    & 101     & 1450532 & 2460168 & 552     & 33253   & 7974    & 310733  & 178258  & 1408    & 24060   & 3037    & 600     & 205691  & 119     & 34      & 2846   \\\\\n",
       "\t1546489 & 3511    &  90     & 1463754 & 2484180 & 511     & 33253   & 7990    & 325096  & 185727  & 1464    & 24055   & 2867    & 524     & 206180  & 111     & 38      & 2955   \\\\\n",
       "\t1546490 & 3652    &  81     & 1445434 & 2450448 & 531     & 33253   & 7963    & 312818  & 179060  & 1424    & 24063   & 3115    & 603     & 206026  & 119     & 37      & 2902   \\\\\n",
       "\t1546491 & 3599    &  99     & 4012772 & 7178400 & 591     & 33780   & 8006    & 315077  & 180814  & 1408    & 24056   & 2989    & 529     & 205100  & 128     & 39      & 3074   \\\\\n",
       "\t1546492 & 4817    & 178     & 1878879 & 3304206 & 970     & 33322   & 8015    & 324512  & 184980  & 1441    & 24056   & 3023    & 600     & 209945  & 124     & 37      & 2828   \\\\\n",
       "\t1546493 & 3617    &  85     & 1437508 & 2435238 & 462     & 33253   & 8020    & 322420  & 184048  & 1455    & 24059   & 2900    & 521     & 204916  & 113     & 37      & 2797   \\\\\n",
       "\t1546494 & 3717    &  63     & 1431871 & 2433654 & 454     & 33253   & 7990    & 315083  & 180438  & 1416    & 24052   & 2929    & 540     & 207215  & 123     & 40      & 3009   \\\\\n",
       "\t1546495 & 3400    &  73     & 1423203 & 2446398 & 394     & 33258   & 8020    & 333043  & 189779  & 1495    & 24060   & 3082    & 614     & 210577  & 126     & 34      & 2926   \\\\\n",
       "\t1546496 & 3804    &  90     & 1456682 & 2469744 & 426     & 33253   & 7995    & 314694  & 180188  & 1420    & 24054   & 2864    & 522     & 209720  & 120     & 35      & 2966   \\\\\n",
       "\t1546497 & 3743    &  68     & 1460840 & 2484594 & 451     & 33258   & 7977    & 312177  & 179105  & 1394    & 24058   & 3056    & 595     & 204651  & 125     & 42      & 2790   \\\\\n",
       "\t1546498 & 3419    &  87     & 1422451 & 2415186 & 443     & 33253   & 7980    & 324172  & 185113  & 1406    & 24062   & 2869    & 526     & 204609  & 120     & 43      & 2835   \\\\\n",
       "\t1546499 & 3642    &  82     & 1432100 & 2436030 & 421     & 33253   & 7964    & 315088  & 180160  & 1397    & 24059   & 3130    & 598     & 205676  & 121     & 37      & 3059   \\\\\n",
       "\t1546500 & 3455    &  88     & 1453817 & 2463012 & 416     & 33253   & 7976    & 315782  & 180868  & 1388    & 24061   & 2874    & 528     & 210025  & 133     & 38      & 2933   \\\\\n",
       "\\end{tabular}\n"
      ],
      "text/markdown": [
       "\n",
       "| <!--/--> | PAPI_L1_DCM | PAPI_L3_TCM | PAPI_TOT_INS | PAPI_REF_CYC | PAPI_L2_LDM | PAPI_SR_INS | PAPI_BR_UCN | PAPI_BR_CN | PAPI_BR_TKN | PAPI_BR_MSP | PAPI_FP_OPS | PAPI_L1_LDM | PAPI_L1_STM | PAPI_LD_INS | PAPI_L2_STM | PAPI_TLB_DM | PAPI_L2_DCH | \n",
       "|---|---|---|---|---|---|---|---|---|---|---|---|---|---|---|---|---|---|---|---|---|---|---|---|---|---|---|---|---|---|---|---|---|---|---|---|---|---|---|---|---|---|---|---|---|---|---|---|---|---|---|---|---|---|---|---|---|---|---|---|---|\n",
       "| 18001 | 24787   | 331     | 1184348 | 1842480 | 8892    | 109369  | 8369    | 270850  | 194265  | 1875    | 100     | 13747   | 9626    | 219367  | 7176    | 538     |  7911   | \n",
       "| 18002 | 23301   |   4     | 1638695 | 2612988 | 6373    | 108056  | 8112    | 414901  | 265960  | 1367    |  27     | 10928   | 6962    | 324822  | 4457    | 107     |  6370   | \n",
       "| 18003 | 23348   |   1     | 1740141 | 2730114 | 3537    | 108051  | 8091    | 422341  | 269682  | 1389    |  27     | 12173   | 9776    | 283230  | 4634    |  79     | 16548   | \n",
       "| 18004 | 23252   |   2     | 1725934 | 2704176 | 3702    | 108051  | 8063    | 423413  | 270304  | 1361    |  28     | 12191   | 9789    | 286503  | 2806    |  79     | 14975   | \n",
       "| 18005 | 23213   |   0     | 1710811 | 2647944 | 2924    | 108051  | 8082    | 421301  | 269190  | 1347    |  27     | 12270   | 9829    | 288146  | 3094    |  78     | 16953   | \n",
       "| 18006 | 23207   |   0     | 1711578 | 2673864 | 3756    | 108051  | 8097    | 420796  | 269046  | 1339    |  27     | 12198   | 9761    | 286095  | 2336    |  84     | 15820   | \n",
       "| 18007 | 23328   |   0     | 1776328 | 2795634 | 3625    | 108057  | 8088    | 432512  | 274781  | 1390    |  27     | 12199   | 9782    | 284457  | 2836    |  74     | 16849   | \n",
       "| 18008 | 23247   |   1     | 1704241 | 2644182 | 3071    | 108051  | 8079    | 419148  | 268087  | 1360    |  27     | 12149   | 9775    | 282177  | 2282    |  72     | 16238   | \n",
       "| 18009 | 23194   |   0     | 1709832 | 2667276 | 3554    | 108051  | 8085    | 419984  | 268572  | 1352    |  27     | 12257   | 9788    | 283904  | 2840    |  79     | 16940   | \n",
       "| 18010 | 23214   |   0     | 1716988 | 2658564 | 2889    | 108051  | 8078    | 443871  | 280466  | 1427    |  27     | 12361   | 9811    | 288240  | 2405    |  80     | 15797   | \n",
       "| 18011 | 23238   |   0     | 1721307 | 2687166 | 3397    | 108051  | 8077    | 419146  | 267997  | 1379    |  27     | 12228   | 9806    | 284607  | 2821    |  75     | 16098   | \n",
       "| 18012 | 23226   |   0     | 1735124 | 2709558 | 3434    | 108056  | 8081    | 538491  | 327806  | 1386    |  27     | 12229   | 9769    | 283544  | 2322    |  76     | 17046   | \n",
       "| 18013 | 23203   |   0     | 1718603 | 2664054 | 3074    | 108051  | 8075    | 431156  | 274072  | 1383    |  27     | 12263   | 9829    | 290504  | 2818    |  81     | 15740   | \n",
       "| 18014 | 23370   |   0     | 1751942 | 2748906 | 3638    | 108051  | 8098    | 426430  | 271798  | 1392    |  27     | 12142   | 9753    | 283388  | 2264    |  77     | 16994   | \n",
       "| 18015 | 23176   |   0     | 1706380 | 2635776 | 2861    | 108051  | 8087    | 421647  | 269416  | 1352    |  27     | 12279   | 9757    | 285612  | 2819    |  77     | 15814   | \n",
       "| 18016 | 23222   |   0     | 1700538 | 2644092 | 3536    | 108051  | 8112    | 430439  | 273707  | 1444    |  27     | 12255   | 9781    | 283017  | 2254    |  74     | 17100   | \n",
       "| 18017 | 23261   |   0     | 2083061 | 3310938 | 3308    | 108057  | 8076    | 417427  | 267284  | 1351    |  27     | 12208   | 9765    | 286124  | 2671    |  77     | 15984   | \n",
       "| 18018 | 23335   |   0     | 1751495 | 2737098 | 3371    | 108051  | 8095    | 425025  | 271027  | 1386    |  27     | 12251   | 9825    | 289832  | 2184    |  75     | 17124   | \n",
       "| 18019 | 23260   |   0     | 1702019 | 2650518 | 3465    | 108051  | 8089    | 432555  | 274897  | 1376    |  27     | 12178   | 9786    | 284908  | 2874    |  81     | 16057   | \n",
       "| 18020 | 23206   |   0     | 1702716 | 2627604 | 2974    | 108051  | 8104    | 421963  | 269470  | 1355    |  27     | 12355   | 9785    | 283462  | 2387    |  77     | 16971   | \n",
       "| 18021 | 23324   |   1     | 1747871 | 2736108 | 3529    | 108051  | 8058    | 421248  | 269123  | 1337    |  27     | 12195   | 9702    | 291285  | 2750    |  79     | 17132   | \n",
       "| 18022 | 23275   |   0     | 1710107 | 2651490 | 3322    | 108057  | 8115    | 440119  | 278683  | 1364    |  27     | 12307   | 9847    | 282805  | 2320    |  82     | 15894   | \n",
       "| 18023 | 23205   |   0     | 1694747 | 2630376 | 3448    | 108051  | 8105    | 418648  | 267863  | 1355    |  27     | 12222   | 9714    | 284970  | 2782    |  72     | 17023   | \n",
       "| 18024 | 23243   |   0     | 1714122 | 2669544 | 3464    | 108051  | 8102    | 424121  | 270616  | 1354    |  27     | 12286   | 9751    | 284674  | 2296    |  80     | 15852   | \n",
       "| 18025 | 23247   |   0     | 1748185 | 2717622 | 2959    | 108051  | 8098    | 431572  | 274401  | 1385    |  27     | 12028   | 9571    | 287953  | 2657    |  76     | 16992   | \n",
       "| 18026 | 23223   |   0     | 1704696 | 2654424 | 3539    | 108051  | 8092    | 422201  | 269564  | 1368    |  27     | 12310   | 9821    | 289226  | 2270    |  83     | 15850   | \n",
       "| 18027 | 23226   |   0     | 1726035 | 2676312 | 2939    | 108057  | 8084    | 419439  | 268224  | 1355    |  27     | 12117   | 9714    | 277941  | 2644    |  80     | 17188   | \n",
       "| 18028 | 23213   |   0     | 1701219 | 2652444 | 3460    | 108051  | 8124    | 432451  | 274895  | 1408    |  27     | 12200   | 9777    | 283768  | 2385    |  79     | 16025   | \n",
       "| 18029 | 23218   |   0     | 1754656 | 2749086 | 3488    | 108052  | 8071    | 421827  | 269355  | 1358    |  27     | 12247   | 9755    | 292290  | 2757    |  74     | 16983   | \n",
       "| 18030 | 23165   |   0     | 1703479 | 2629350 | 2968    | 108051  | 8089    | 420228  | 268674  | 1358    |  27     | 12224   | 9842    | 284930  | 2318    |  78     | 16013   | \n",
       "| ... | ... | ... | ... | ... | ... | ... | ... | ... | ... | ... | ... | ... | ... | ... | ... | ... | ... | \n",
       "| 1546471 | 3654    |  83     | 1467680 | 2490498 | 525     | 33253   | 7988    | 322349  | 183957  | 1470    | 24054   | 2871    | 533     | 214267  | 129     | 43      | 2885    | \n",
       "| 1546472 | 3388    |  88     | 1437753 | 2435598 | 502     | 33253   | 7981    | 322053  | 183829  | 1410    | 24053   | 2949    | 538     | 206231  | 128     | 43      | 3101    | \n",
       "| 1546473 | 3701    |  87     | 1446026 | 2451258 | 509     | 33253   | 8000    | 318159  | 181808  | 1436    | 24058   | 3081    | 617     | 206292  | 125     | 40      | 2895    | \n",
       "| 1546474 | 3574    |  92     | 1510490 | 2575170 | 610     | 33259   | 7997    | 314294  | 180233  | 1399    | 24060   | 2879    | 529     | 206365  | 116     | 37      | 3099    | \n",
       "| 1546475 | 3777    |  69     | 1441619 | 2445408 | 528     | 33253   | 7964    | 310020  | 177660  | 1400    | 24060   | 3146    | 596     | 204702  | 120     | 43      | 2883    | \n",
       "| 1546476 | 3649    |  76     | 1445364 | 2450448 | 532     | 33253   | 7976    | 313197  | 179405  | 1402    | 24057   | 2897    | 526     | 211081  | 131     | 39      | 2842    | \n",
       "| 1546477 | 3431    |  96     | 1425302 | 2414502 | 480     | 33253   | 7991    | 311564  | 179018  | 1397    | 24065   | 3022    | 586     | 205422  | 119     | 39      | 3109    | \n",
       "| 1546478 | 3728    |  92     | 1471094 | 2496204 | 534     | 33253   | 7997    | 314068  | 180167  | 1419    | 24061   | 2929    | 528     | 209209  | 136     | 35      | 2928    | \n",
       "| 1546479 | 3411    |  88     | 1437720 | 2439828 | 480     | 33258   | 7982    | 311183  | 178318  | 1408    | 24062   | 3062    | 588     | 210436  | 116     | 37      | 3028    | \n",
       "| 1546480 | 3682    |  99     | 1440038 | 2439414 | 546     | 33253   | 7973    | 315702  | 180670  | 1420    | 24050   | 2855    | 518     | 210072  | 133     | 40      | 2883    | \n",
       "| 1546481 | 3819    |  93     | 1471361 | 2502216 | 578     | 33258   | 7993    | 312083  | 178744  | 1420    | 24062   | 3148    | 607     | 206903  | 127     | 36      | 2918    | \n",
       "| 1546482 | 3420    |  90     | 1439031 | 2439000 | 512     | 33253   | 8034    | 325912  | 185869  | 1488    | 24064   | 2803    | 526     | 204724  | 112     | 36      | 3070    | \n",
       "| 1546483 | 3671    |  82     | 1440826 | 2441034 | 503     | 33253   | 7996    | 315138  | 180726  | 1416    | 24054   | 3015    | 538     | 206213  | 123     | 40      | 2801    | \n",
       "| 1546484 | 3448    |  82     | 1430637 | 2425374 | 500     | 33253   | 7993    | 318457  | 182096  | 1451    | 24061   | 3057    | 614     | 209530  | 129     | 38      | 2984    | \n",
       "| 1546485 | 3794    |  95     | 1486276 | 2526696 | 564     | 33253   | 7964    | 312026  | 178831  | 1404    | 24058   | 2913    | 525     | 206312  | 124     | 36      | 2940    | \n",
       "| 1546486 | 3734    |  85     | 1461736 | 2483874 | 575     | 33258   | 8007    | 315926  | 180853  | 1456    | 24063   | 3097    | 602     | 206407  | 131     | 36      | 2792    | \n",
       "| 1546487 | 3421    |  83     | 1442569 | 2443572 | 523     | 33253   | 7958    | 314199  | 180153  | 1428    | 24057   | 2977    | 539     | 214441  | 133     | 36      | 3049    | \n",
       "| 1546488 | 3759    | 101     | 1450532 | 2460168 | 552     | 33253   | 7974    | 310733  | 178258  | 1408    | 24060   | 3037    | 600     | 205691  | 119     | 34      | 2846    | \n",
       "| 1546489 | 3511    |  90     | 1463754 | 2484180 | 511     | 33253   | 7990    | 325096  | 185727  | 1464    | 24055   | 2867    | 524     | 206180  | 111     | 38      | 2955    | \n",
       "| 1546490 | 3652    |  81     | 1445434 | 2450448 | 531     | 33253   | 7963    | 312818  | 179060  | 1424    | 24063   | 3115    | 603     | 206026  | 119     | 37      | 2902    | \n",
       "| 1546491 | 3599    |  99     | 4012772 | 7178400 | 591     | 33780   | 8006    | 315077  | 180814  | 1408    | 24056   | 2989    | 529     | 205100  | 128     | 39      | 3074    | \n",
       "| 1546492 | 4817    | 178     | 1878879 | 3304206 | 970     | 33322   | 8015    | 324512  | 184980  | 1441    | 24056   | 3023    | 600     | 209945  | 124     | 37      | 2828    | \n",
       "| 1546493 | 3617    |  85     | 1437508 | 2435238 | 462     | 33253   | 8020    | 322420  | 184048  | 1455    | 24059   | 2900    | 521     | 204916  | 113     | 37      | 2797    | \n",
       "| 1546494 | 3717    |  63     | 1431871 | 2433654 | 454     | 33253   | 7990    | 315083  | 180438  | 1416    | 24052   | 2929    | 540     | 207215  | 123     | 40      | 3009    | \n",
       "| 1546495 | 3400    |  73     | 1423203 | 2446398 | 394     | 33258   | 8020    | 333043  | 189779  | 1495    | 24060   | 3082    | 614     | 210577  | 126     | 34      | 2926    | \n",
       "| 1546496 | 3804    |  90     | 1456682 | 2469744 | 426     | 33253   | 7995    | 314694  | 180188  | 1420    | 24054   | 2864    | 522     | 209720  | 120     | 35      | 2966    | \n",
       "| 1546497 | 3743    |  68     | 1460840 | 2484594 | 451     | 33258   | 7977    | 312177  | 179105  | 1394    | 24058   | 3056    | 595     | 204651  | 125     | 42      | 2790    | \n",
       "| 1546498 | 3419    |  87     | 1422451 | 2415186 | 443     | 33253   | 7980    | 324172  | 185113  | 1406    | 24062   | 2869    | 526     | 204609  | 120     | 43      | 2835    | \n",
       "| 1546499 | 3642    |  82     | 1432100 | 2436030 | 421     | 33253   | 7964    | 315088  | 180160  | 1397    | 24059   | 3130    | 598     | 205676  | 121     | 37      | 3059    | \n",
       "| 1546500 | 3455    |  88     | 1453817 | 2463012 | 416     | 33253   | 7976    | 315782  | 180868  | 1388    | 24061   | 2874    | 528     | 210025  | 133     | 38      | 2933    | \n",
       "\n",
       "\n"
      ],
      "text/plain": [
       "        PAPI_L1_DCM PAPI_L3_TCM PAPI_TOT_INS PAPI_REF_CYC PAPI_L2_LDM\n",
       "18001   24787       331         1184348      1842480      8892       \n",
       "18002   23301         4         1638695      2612988      6373       \n",
       "18003   23348         1         1740141      2730114      3537       \n",
       "18004   23252         2         1725934      2704176      3702       \n",
       "18005   23213         0         1710811      2647944      2924       \n",
       "18006   23207         0         1711578      2673864      3756       \n",
       "18007   23328         0         1776328      2795634      3625       \n",
       "18008   23247         1         1704241      2644182      3071       \n",
       "18009   23194         0         1709832      2667276      3554       \n",
       "18010   23214         0         1716988      2658564      2889       \n",
       "18011   23238         0         1721307      2687166      3397       \n",
       "18012   23226         0         1735124      2709558      3434       \n",
       "18013   23203         0         1718603      2664054      3074       \n",
       "18014   23370         0         1751942      2748906      3638       \n",
       "18015   23176         0         1706380      2635776      2861       \n",
       "18016   23222         0         1700538      2644092      3536       \n",
       "18017   23261         0         2083061      3310938      3308       \n",
       "18018   23335         0         1751495      2737098      3371       \n",
       "18019   23260         0         1702019      2650518      3465       \n",
       "18020   23206         0         1702716      2627604      2974       \n",
       "18021   23324         1         1747871      2736108      3529       \n",
       "18022   23275         0         1710107      2651490      3322       \n",
       "18023   23205         0         1694747      2630376      3448       \n",
       "18024   23243         0         1714122      2669544      3464       \n",
       "18025   23247         0         1748185      2717622      2959       \n",
       "18026   23223         0         1704696      2654424      3539       \n",
       "18027   23226         0         1726035      2676312      2939       \n",
       "18028   23213         0         1701219      2652444      3460       \n",
       "18029   23218         0         1754656      2749086      3488       \n",
       "18030   23165         0         1703479      2629350      2968       \n",
       "...     ...         ...         ...          ...          ...        \n",
       "1546471 3654         83         1467680      2490498      525        \n",
       "1546472 3388         88         1437753      2435598      502        \n",
       "1546473 3701         87         1446026      2451258      509        \n",
       "1546474 3574         92         1510490      2575170      610        \n",
       "1546475 3777         69         1441619      2445408      528        \n",
       "1546476 3649         76         1445364      2450448      532        \n",
       "1546477 3431         96         1425302      2414502      480        \n",
       "1546478 3728         92         1471094      2496204      534        \n",
       "1546479 3411         88         1437720      2439828      480        \n",
       "1546480 3682         99         1440038      2439414      546        \n",
       "1546481 3819         93         1471361      2502216      578        \n",
       "1546482 3420         90         1439031      2439000      512        \n",
       "1546483 3671         82         1440826      2441034      503        \n",
       "1546484 3448         82         1430637      2425374      500        \n",
       "1546485 3794         95         1486276      2526696      564        \n",
       "1546486 3734         85         1461736      2483874      575        \n",
       "1546487 3421         83         1442569      2443572      523        \n",
       "1546488 3759        101         1450532      2460168      552        \n",
       "1546489 3511         90         1463754      2484180      511        \n",
       "1546490 3652         81         1445434      2450448      531        \n",
       "1546491 3599         99         4012772      7178400      591        \n",
       "1546492 4817        178         1878879      3304206      970        \n",
       "1546493 3617         85         1437508      2435238      462        \n",
       "1546494 3717         63         1431871      2433654      454        \n",
       "1546495 3400         73         1423203      2446398      394        \n",
       "1546496 3804         90         1456682      2469744      426        \n",
       "1546497 3743         68         1460840      2484594      451        \n",
       "1546498 3419         87         1422451      2415186      443        \n",
       "1546499 3642         82         1432100      2436030      421        \n",
       "1546500 3455         88         1453817      2463012      416        \n",
       "        PAPI_SR_INS PAPI_BR_UCN PAPI_BR_CN PAPI_BR_TKN PAPI_BR_MSP PAPI_FP_OPS\n",
       "18001   109369      8369        270850     194265      1875        100        \n",
       "18002   108056      8112        414901     265960      1367         27        \n",
       "18003   108051      8091        422341     269682      1389         27        \n",
       "18004   108051      8063        423413     270304      1361         28        \n",
       "18005   108051      8082        421301     269190      1347         27        \n",
       "18006   108051      8097        420796     269046      1339         27        \n",
       "18007   108057      8088        432512     274781      1390         27        \n",
       "18008   108051      8079        419148     268087      1360         27        \n",
       "18009   108051      8085        419984     268572      1352         27        \n",
       "18010   108051      8078        443871     280466      1427         27        \n",
       "18011   108051      8077        419146     267997      1379         27        \n",
       "18012   108056      8081        538491     327806      1386         27        \n",
       "18013   108051      8075        431156     274072      1383         27        \n",
       "18014   108051      8098        426430     271798      1392         27        \n",
       "18015   108051      8087        421647     269416      1352         27        \n",
       "18016   108051      8112        430439     273707      1444         27        \n",
       "18017   108057      8076        417427     267284      1351         27        \n",
       "18018   108051      8095        425025     271027      1386         27        \n",
       "18019   108051      8089        432555     274897      1376         27        \n",
       "18020   108051      8104        421963     269470      1355         27        \n",
       "18021   108051      8058        421248     269123      1337         27        \n",
       "18022   108057      8115        440119     278683      1364         27        \n",
       "18023   108051      8105        418648     267863      1355         27        \n",
       "18024   108051      8102        424121     270616      1354         27        \n",
       "18025   108051      8098        431572     274401      1385         27        \n",
       "18026   108051      8092        422201     269564      1368         27        \n",
       "18027   108057      8084        419439     268224      1355         27        \n",
       "18028   108051      8124        432451     274895      1408         27        \n",
       "18029   108052      8071        421827     269355      1358         27        \n",
       "18030   108051      8089        420228     268674      1358         27        \n",
       "...     ...         ...         ...        ...         ...         ...        \n",
       "1546471 33253       7988        322349     183957      1470        24054      \n",
       "1546472 33253       7981        322053     183829      1410        24053      \n",
       "1546473 33253       8000        318159     181808      1436        24058      \n",
       "1546474 33259       7997        314294     180233      1399        24060      \n",
       "1546475 33253       7964        310020     177660      1400        24060      \n",
       "1546476 33253       7976        313197     179405      1402        24057      \n",
       "1546477 33253       7991        311564     179018      1397        24065      \n",
       "1546478 33253       7997        314068     180167      1419        24061      \n",
       "1546479 33258       7982        311183     178318      1408        24062      \n",
       "1546480 33253       7973        315702     180670      1420        24050      \n",
       "1546481 33258       7993        312083     178744      1420        24062      \n",
       "1546482 33253       8034        325912     185869      1488        24064      \n",
       "1546483 33253       7996        315138     180726      1416        24054      \n",
       "1546484 33253       7993        318457     182096      1451        24061      \n",
       "1546485 33253       7964        312026     178831      1404        24058      \n",
       "1546486 33258       8007        315926     180853      1456        24063      \n",
       "1546487 33253       7958        314199     180153      1428        24057      \n",
       "1546488 33253       7974        310733     178258      1408        24060      \n",
       "1546489 33253       7990        325096     185727      1464        24055      \n",
       "1546490 33253       7963        312818     179060      1424        24063      \n",
       "1546491 33780       8006        315077     180814      1408        24056      \n",
       "1546492 33322       8015        324512     184980      1441        24056      \n",
       "1546493 33253       8020        322420     184048      1455        24059      \n",
       "1546494 33253       7990        315083     180438      1416        24052      \n",
       "1546495 33258       8020        333043     189779      1495        24060      \n",
       "1546496 33253       7995        314694     180188      1420        24054      \n",
       "1546497 33258       7977        312177     179105      1394        24058      \n",
       "1546498 33253       7980        324172     185113      1406        24062      \n",
       "1546499 33253       7964        315088     180160      1397        24059      \n",
       "1546500 33253       7976        315782     180868      1388        24061      \n",
       "        PAPI_L1_LDM PAPI_L1_STM PAPI_LD_INS PAPI_L2_STM PAPI_TLB_DM PAPI_L2_DCH\n",
       "18001   13747       9626        219367      7176        538          7911      \n",
       "18002   10928       6962        324822      4457        107          6370      \n",
       "18003   12173       9776        283230      4634         79         16548      \n",
       "18004   12191       9789        286503      2806         79         14975      \n",
       "18005   12270       9829        288146      3094         78         16953      \n",
       "18006   12198       9761        286095      2336         84         15820      \n",
       "18007   12199       9782        284457      2836         74         16849      \n",
       "18008   12149       9775        282177      2282         72         16238      \n",
       "18009   12257       9788        283904      2840         79         16940      \n",
       "18010   12361       9811        288240      2405         80         15797      \n",
       "18011   12228       9806        284607      2821         75         16098      \n",
       "18012   12229       9769        283544      2322         76         17046      \n",
       "18013   12263       9829        290504      2818         81         15740      \n",
       "18014   12142       9753        283388      2264         77         16994      \n",
       "18015   12279       9757        285612      2819         77         15814      \n",
       "18016   12255       9781        283017      2254         74         17100      \n",
       "18017   12208       9765        286124      2671         77         15984      \n",
       "18018   12251       9825        289832      2184         75         17124      \n",
       "18019   12178       9786        284908      2874         81         16057      \n",
       "18020   12355       9785        283462      2387         77         16971      \n",
       "18021   12195       9702        291285      2750         79         17132      \n",
       "18022   12307       9847        282805      2320         82         15894      \n",
       "18023   12222       9714        284970      2782         72         17023      \n",
       "18024   12286       9751        284674      2296         80         15852      \n",
       "18025   12028       9571        287953      2657         76         16992      \n",
       "18026   12310       9821        289226      2270         83         15850      \n",
       "18027   12117       9714        277941      2644         80         17188      \n",
       "18028   12200       9777        283768      2385         79         16025      \n",
       "18029   12247       9755        292290      2757         74         16983      \n",
       "18030   12224       9842        284930      2318         78         16013      \n",
       "...     ...         ...         ...         ...         ...         ...        \n",
       "1546471 2871        533         214267      129         43          2885       \n",
       "1546472 2949        538         206231      128         43          3101       \n",
       "1546473 3081        617         206292      125         40          2895       \n",
       "1546474 2879        529         206365      116         37          3099       \n",
       "1546475 3146        596         204702      120         43          2883       \n",
       "1546476 2897        526         211081      131         39          2842       \n",
       "1546477 3022        586         205422      119         39          3109       \n",
       "1546478 2929        528         209209      136         35          2928       \n",
       "1546479 3062        588         210436      116         37          3028       \n",
       "1546480 2855        518         210072      133         40          2883       \n",
       "1546481 3148        607         206903      127         36          2918       \n",
       "1546482 2803        526         204724      112         36          3070       \n",
       "1546483 3015        538         206213      123         40          2801       \n",
       "1546484 3057        614         209530      129         38          2984       \n",
       "1546485 2913        525         206312      124         36          2940       \n",
       "1546486 3097        602         206407      131         36          2792       \n",
       "1546487 2977        539         214441      133         36          3049       \n",
       "1546488 3037        600         205691      119         34          2846       \n",
       "1546489 2867        524         206180      111         38          2955       \n",
       "1546490 3115        603         206026      119         37          2902       \n",
       "1546491 2989        529         205100      128         39          3074       \n",
       "1546492 3023        600         209945      124         37          2828       \n",
       "1546493 2900        521         204916      113         37          2797       \n",
       "1546494 2929        540         207215      123         40          3009       \n",
       "1546495 3082        614         210577      126         34          2926       \n",
       "1546496 2864        522         209720      120         35          2966       \n",
       "1546497 3056        595         204651      125         42          2790       \n",
       "1546498 2869        526         204609      120         43          2835       \n",
       "1546499 3130        598         205676      121         37          3059       \n",
       "1546500 2874        528         210025      133         38          2933       "
      ]
     },
     "metadata": {},
     "output_type": "display_data"
    }
   ],
   "source": [
    "new_mydata"
   ]
  },
  {
   "cell_type": "code",
   "execution_count": 20,
   "metadata": {},
   "outputs": [
    {
     "data": {
      "text/html": [
       "<ol class=list-inline>\n",
       "\t<li>'id'</li>\n",
       "\t<li>'size_vector'</li>\n",
       "\t<li>'comp_opt'</li>\n",
       "\t<li>'label'</li>\n",
       "\t<li>'threads'</li>\n",
       "\t<li>'PAPI_L1_DCM'</li>\n",
       "\t<li>'PAPI_L3_TCM'</li>\n",
       "\t<li>'PAPI_TOT_INS'</li>\n",
       "\t<li>'PAPI_REF_CYC'</li>\n",
       "\t<li>'PAPI_L2_LDM'</li>\n",
       "\t<li>'PAPI_SR_INS'</li>\n",
       "\t<li>'PAPI_BR_UCN'</li>\n",
       "\t<li>'PAPI_BR_CN'</li>\n",
       "\t<li>'PAPI_BR_TKN'</li>\n",
       "\t<li>'PAPI_BR_MSP'</li>\n",
       "\t<li>'PAPI_FP_OPS'</li>\n",
       "\t<li>'PAPI_L1_LDM'</li>\n",
       "\t<li>'PAPI_L1_STM'</li>\n",
       "\t<li>'PAPI_LD_INS'</li>\n",
       "\t<li>'PAPI_L2_STM'</li>\n",
       "\t<li>'PAPI_TLB_DM'</li>\n",
       "\t<li>'PAPI_L2_DCH'</li>\n",
       "</ol>\n"
      ],
      "text/latex": [
       "\\begin{enumerate*}\n",
       "\\item 'id'\n",
       "\\item 'size\\_vector'\n",
       "\\item 'comp\\_opt'\n",
       "\\item 'label'\n",
       "\\item 'threads'\n",
       "\\item 'PAPI\\_L1\\_DCM'\n",
       "\\item 'PAPI\\_L3\\_TCM'\n",
       "\\item 'PAPI\\_TOT\\_INS'\n",
       "\\item 'PAPI\\_REF\\_CYC'\n",
       "\\item 'PAPI\\_L2\\_LDM'\n",
       "\\item 'PAPI\\_SR\\_INS'\n",
       "\\item 'PAPI\\_BR\\_UCN'\n",
       "\\item 'PAPI\\_BR\\_CN'\n",
       "\\item 'PAPI\\_BR\\_TKN'\n",
       "\\item 'PAPI\\_BR\\_MSP'\n",
       "\\item 'PAPI\\_FP\\_OPS'\n",
       "\\item 'PAPI\\_L1\\_LDM'\n",
       "\\item 'PAPI\\_L1\\_STM'\n",
       "\\item 'PAPI\\_LD\\_INS'\n",
       "\\item 'PAPI\\_L2\\_STM'\n",
       "\\item 'PAPI\\_TLB\\_DM'\n",
       "\\item 'PAPI\\_L2\\_DCH'\n",
       "\\end{enumerate*}\n"
      ],
      "text/markdown": [
       "1. 'id'\n",
       "2. 'size_vector'\n",
       "3. 'comp_opt'\n",
       "4. 'label'\n",
       "5. 'threads'\n",
       "6. 'PAPI_L1_DCM'\n",
       "7. 'PAPI_L3_TCM'\n",
       "8. 'PAPI_TOT_INS'\n",
       "9. 'PAPI_REF_CYC'\n",
       "10. 'PAPI_L2_LDM'\n",
       "11. 'PAPI_SR_INS'\n",
       "12. 'PAPI_BR_UCN'\n",
       "13. 'PAPI_BR_CN'\n",
       "14. 'PAPI_BR_TKN'\n",
       "15. 'PAPI_BR_MSP'\n",
       "16. 'PAPI_FP_OPS'\n",
       "17. 'PAPI_L1_LDM'\n",
       "18. 'PAPI_L1_STM'\n",
       "19. 'PAPI_LD_INS'\n",
       "20. 'PAPI_L2_STM'\n",
       "21. 'PAPI_TLB_DM'\n",
       "22. 'PAPI_L2_DCH'\n",
       "\n",
       "\n"
      ],
      "text/plain": [
       " [1] \"id\"           \"size_vector\"  \"comp_opt\"     \"label\"        \"threads\"     \n",
       " [6] \"PAPI_L1_DCM\"  \"PAPI_L3_TCM\"  \"PAPI_TOT_INS\" \"PAPI_REF_CYC\" \"PAPI_L2_LDM\" \n",
       "[11] \"PAPI_SR_INS\"  \"PAPI_BR_UCN\"  \"PAPI_BR_CN\"   \"PAPI_BR_TKN\"  \"PAPI_BR_MSP\" \n",
       "[16] \"PAPI_FP_OPS\"  \"PAPI_L1_LDM\"  \"PAPI_L1_STM\"  \"PAPI_LD_INS\"  \"PAPI_L2_STM\" \n",
       "[21] \"PAPI_TLB_DM\"  \"PAPI_L2_DCH\" "
      ]
     },
     "metadata": {},
     "output_type": "display_data"
    }
   ],
   "source": [
    "colnames(mydata_no_time)\n",
    "log.ir <-scale(new_mydata, center = TRUE, scale = TRUE)\n",
    "res.label <- mydata_no_time[,4]\n",
    "res.pca <- prcomp(log.ir, center = TRUE, scale. = TRUE)\n",
    "\n"
   ]
  },
  {
   "cell_type": "code",
   "execution_count": 21,
   "metadata": {},
   "outputs": [
    {
     "name": "stdout",
     "output_type": "stream",
     "text": [
      "Standard deviations (1, .., p=17):\n",
      " [1] 3.379701188 1.504922723 0.956770748 0.768538835 0.719465189 0.680361735\n",
      " [7] 0.571399786 0.451287398 0.352472776 0.286815259 0.227667171 0.146822581\n",
      "[13] 0.117818249 0.041411547 0.022970588 0.007844943 0.003237912\n",
      "\n",
      "Rotation (n x k) = (17 x 17):\n",
      "                   PC1         PC2          PC3          PC4         PC5\n",
      "PAPI_L1_DCM  0.2755985  0.17070672 -0.208816025  0.040230143 -0.04888999\n",
      "PAPI_L3_TCM  0.2566979  0.18924101 -0.067037650  0.088785572 -0.14997778\n",
      "PAPI_TOT_INS 0.2602277 -0.29648628 -0.009739886  0.058000645  0.12835106\n",
      "PAPI_REF_CYC 0.2707468  0.15642009 -0.102569913  0.010502834 -0.13782742\n",
      "PAPI_L2_LDM  0.2470323  0.23336041 -0.081855376  0.217723021 -0.03641855\n",
      "PAPI_SR_INS  0.2710042 -0.18945919  0.082036873  0.027145393  0.19390521\n",
      "PAPI_BR_UCN  0.1980851 -0.01962005  0.060125328 -0.920996331 -0.09630578\n",
      "PAPI_BR_CN   0.2705941 -0.19373799  0.128566212 -0.006662824  0.23110830\n",
      "PAPI_BR_TKN  0.2704957 -0.19381083  0.129070347 -0.004927330  0.23248659\n",
      "PAPI_BR_MSP  0.2642735  0.13809417  0.221331508  0.032851618 -0.21108512\n",
      "PAPI_FP_OPS  0.1986606 -0.39545893 -0.306973043  0.092375204 -0.09374074\n",
      "PAPI_L1_LDM  0.2610798  0.15897589 -0.088715756  0.209903855 -0.12498269\n",
      "PAPI_L1_STM  0.2472772  0.24457478 -0.251333981 -0.096893043  0.12903279\n",
      "PAPI_LD_INS  0.2320525 -0.28147147  0.287963482  0.109097348  0.30803254\n",
      "PAPI_L2_STM  0.2342919  0.29097437 -0.252230714 -0.103893928  0.23404800\n",
      "PAPI_TLB_DM  0.1523515  0.28009134  0.726032290  0.065419368 -0.18789419\n",
      "PAPI_L2_DCH  0.1626874 -0.39236524 -0.055919677  0.023345326 -0.71652181\n",
      "                       PC6         PC7         PC8         PC9        PC10\n",
      "PAPI_L1_DCM  -0.0715857631  0.09461292  0.07095373  0.14423276 -0.12589407\n",
      "PAPI_L3_TCM   0.0882044833 -0.53785826  0.12061164 -0.56868179 -0.09999781\n",
      "PAPI_TOT_INS  0.0168983516 -0.04040050 -0.13167790  0.09821967  0.33852282\n",
      "PAPI_REF_CYC  0.1874544686 -0.40198609  0.17615324  0.06219483 -0.08052770\n",
      "PAPI_L2_LDM  -0.5449381084  0.11726053 -0.08696152 -0.02242855  0.06533911\n",
      "PAPI_SR_INS   0.0034652172  0.08110637  0.26821227 -0.03794592  0.05181553\n",
      "PAPI_BR_UCN  -0.2851974480 -0.07495974 -0.10403220 -0.02798964 -0.01111649\n",
      "PAPI_BR_CN    0.0005222224  0.08648665  0.33337675 -0.09760883  0.17105900\n",
      "PAPI_BR_TKN   0.0010650060  0.08574723  0.33428425 -0.09418164  0.17196407\n",
      "PAPI_BR_MSP   0.0973631831 -0.14038541  0.20931384  0.72831561 -0.16363939\n",
      "PAPI_FP_OPS   0.0642887079 -0.32713966 -0.49474918  0.17696919  0.31241200\n",
      "PAPI_L1_LDM  -0.4868508386  0.17376571 -0.10184328 -0.04590155  0.02511905\n",
      "PAPI_L1_STM   0.3568853968  0.30330734 -0.14295355 -0.04292364 -0.02157798\n",
      "PAPI_LD_INS  -0.0395974733 -0.04147385 -0.37545430 -0.05984806 -0.72038795\n",
      "PAPI_L2_STM   0.3532858322  0.26283757 -0.18922502 -0.01738723 -0.01070376\n",
      "PAPI_TLB_DM   0.1897532496  0.07043452 -0.34083009 -0.12727540  0.33552803\n",
      "PAPI_L2_DCH   0.1815860313  0.41601578  0.08066308 -0.18805419 -0.17329211\n",
      "                      PC11         PC12        PC13          PC14          PC15\n",
      "PAPI_L1_DCM  -3.787179e-05  0.642680721 -0.61158663  6.591853e-02  8.992751e-03\n",
      "PAPI_L3_TCM  -1.948562e-02  0.313728083  0.34544054 -1.416240e-03 -1.640817e-02\n",
      "PAPI_TOT_INS -8.479020e-02  0.099339330  0.15000780  7.948223e-01 -9.801473e-02\n",
      "PAPI_REF_CYC  1.776985e-02 -0.624940032 -0.45710015  1.852070e-01 -1.918815e-02\n",
      "PAPI_L2_LDM  -3.876661e-03 -0.170383161  0.10799289  2.448506e-02  4.052028e-01\n",
      "PAPI_SR_INS  -8.378786e-01 -0.047997682 -0.02532982 -2.404857e-01 -1.051890e-02\n",
      "PAPI_BR_UCN  -1.922762e-02 -0.001852986  0.01384737  8.147762e-05 -9.414889e-05\n",
      "PAPI_BR_CN    3.702497e-01 -0.009238728 -0.02955315 -1.436869e-01  1.870900e-02\n",
      "PAPI_BR_TKN   3.722410e-01 -0.011585000 -0.02566623 -1.531942e-01  3.400462e-02\n",
      "PAPI_BR_MSP   4.374724e-02  0.111819797  0.40629720 -8.196425e-02 -4.483731e-03\n",
      "PAPI_FP_OPS   5.223713e-02  0.033458479 -0.05207535 -4.426446e-01  7.228506e-02\n",
      "PAPI_L1_LDM   3.845803e-02 -0.161506804  0.08453700 -7.096094e-02 -4.328027e-01\n",
      "PAPI_L1_STM  -5.371647e-03 -0.074058832  0.16386296  4.065204e-02  5.786420e-01\n",
      "PAPI_LD_INS   6.771152e-02 -0.043729181 -0.04226858  3.924007e-02  2.405049e-02\n",
      "PAPI_L2_STM   3.610711e-02 -0.067647695  0.13580209 -1.000878e-01 -5.435208e-01\n",
      "PAPI_TLB_DM  -3.714660e-02  0.041096053 -0.19533813 -6.550642e-02  1.426704e-02\n",
      "PAPI_L2_DCH   2.495642e-02 -0.056488959  0.03145032  4.327187e-02 -1.678636e-02\n",
      "                      PC16          PC17\n",
      "PAPI_L1_DCM   0.0042412644 -0.0028406685\n",
      "PAPI_L3_TCM   0.0005901065 -0.0008889652\n",
      "PAPI_TOT_INS -0.0009192259 -0.0057156234\n",
      "PAPI_REF_CYC -0.0029254305 -0.0014189495\n",
      "PAPI_L2_LDM   0.5478682295  0.0197372552\n",
      "PAPI_SR_INS  -0.0035656690  0.0005498772\n",
      "PAPI_BR_UCN   0.0003401680 -0.0014061783\n",
      "PAPI_BR_CN   -0.0191214419  0.7088339748\n",
      "PAPI_BR_TKN   0.0198600033 -0.7047119611\n",
      "PAPI_BR_MSP  -0.0006952094  0.0032710339\n",
      "PAPI_FP_OPS   0.0026924646  0.0041348261\n",
      "PAPI_L1_LDM  -0.5755224209 -0.0198830618\n",
      "PAPI_L1_STM  -0.4229076892 -0.0054525587\n",
      "PAPI_LD_INS   0.0044381597 -0.0001351035\n",
      "PAPI_L2_STM   0.4139246446  0.0065503537\n",
      "PAPI_TLB_DM  -0.0002671027 -0.0002155981\n",
      "PAPI_L2_DCH   0.1326714033  0.0020573735\n"
     ]
    }
   ],
   "source": [
    "print(res.pca)"
   ]
  },
  {
   "cell_type": "code",
   "execution_count": 22,
   "metadata": {},
   "outputs": [
    {
     "data": {
      "text/html": [
       "<ol class=list-inline>\n",
       "\t<li>'sdev'</li>\n",
       "\t<li>'rotation'</li>\n",
       "\t<li>'center'</li>\n",
       "\t<li>'scale'</li>\n",
       "\t<li>'x'</li>\n",
       "</ol>\n"
      ],
      "text/latex": [
       "\\begin{enumerate*}\n",
       "\\item 'sdev'\n",
       "\\item 'rotation'\n",
       "\\item 'center'\n",
       "\\item 'scale'\n",
       "\\item 'x'\n",
       "\\end{enumerate*}\n"
      ],
      "text/markdown": [
       "1. 'sdev'\n",
       "2. 'rotation'\n",
       "3. 'center'\n",
       "4. 'scale'\n",
       "5. 'x'\n",
       "\n",
       "\n"
      ],
      "text/plain": [
       "[1] \"sdev\"     \"rotation\" \"center\"   \"scale\"    \"x\"       "
      ]
     },
     "metadata": {},
     "output_type": "display_data"
    }
   ],
   "source": [
    "names(res.pca)"
   ]
  },
  {
   "cell_type": "code",
   "execution_count": 23,
   "metadata": {},
   "outputs": [
    {
     "name": "stdout",
     "output_type": "stream",
     "text": [
      " [1] 3.379701188 1.504922723 0.956770748 0.768538835 0.719465189 0.680361735\n",
      " [7] 0.571399786 0.451287398 0.352472776 0.286815259 0.227667171 0.146822581\n",
      "[13] 0.117818249 0.041411547 0.022970588 0.007844943 0.003237912\n"
     ]
    }
   ],
   "source": [
    "print(res.pca$sdev)"
   ]
  },
  {
   "cell_type": "code",
   "execution_count": 24,
   "metadata": {},
   "outputs": [
    {
     "data": {
      "text/html": [
       "<table>\n",
       "<thead><tr><th></th><th scope=col>PC1</th><th scope=col>PC2</th><th scope=col>PC3</th><th scope=col>PC4</th><th scope=col>PC5</th><th scope=col>PC6</th><th scope=col>PC7</th><th scope=col>PC8</th><th scope=col>PC9</th><th scope=col>PC10</th><th scope=col>PC11</th><th scope=col>PC12</th><th scope=col>PC13</th><th scope=col>PC14</th><th scope=col>PC15</th><th scope=col>PC16</th><th scope=col>PC17</th></tr></thead>\n",
       "<tbody>\n",
       "\t<tr><th scope=row>PAPI_L1_DCM</th><td>0.2755985    </td><td> 0.1707067   </td><td>-0.208816025 </td><td>0.04023014   </td><td>-0.04888999  </td><td>-0.071585763 </td><td> 0.09461292  </td><td> 0.07095373  </td><td> 0.14423276  </td><td>-0.12589407  </td><td>-3.787179e-05</td><td> 0.64268072  </td><td>-0.61158663  </td><td> 0.06591853  </td><td> 0.008992751 </td><td> 0.0042412644</td><td>-0.0028406685</td></tr>\n",
       "\t<tr><th scope=row>PAPI_L3_TCM</th><td>0.2566979    </td><td> 0.1892410   </td><td>-0.067037650 </td><td>0.08878557   </td><td>-0.14997778  </td><td> 0.088204483 </td><td>-0.53785826  </td><td> 0.12061164  </td><td>-0.56868179  </td><td>-0.09999781  </td><td>-1.948562e-02</td><td> 0.31372808  </td><td> 0.34544054  </td><td>-0.00141624  </td><td>-0.016408174 </td><td> 0.0005901065</td><td>-0.0008889652</td></tr>\n",
       "\t<tr><th scope=row>PAPI_TOT_INS</th><td>0.2602277    </td><td>-0.2964863   </td><td>-0.009739886 </td><td>0.05800064   </td><td> 0.12835106  </td><td> 0.016898352 </td><td>-0.04040050  </td><td>-0.13167790  </td><td> 0.09821967  </td><td> 0.33852282  </td><td>-8.479020e-02</td><td> 0.09933933  </td><td> 0.15000780  </td><td> 0.79482228  </td><td>-0.098014734 </td><td>-0.0009192259</td><td>-0.0057156234</td></tr>\n",
       "\t<tr><th scope=row>PAPI_REF_CYC</th><td>0.2707468    </td><td> 0.1564201   </td><td>-0.102569913 </td><td>0.01050283   </td><td>-0.13782742  </td><td> 0.187454469 </td><td>-0.40198609  </td><td> 0.17615324  </td><td> 0.06219483  </td><td>-0.08052770  </td><td> 1.776985e-02</td><td>-0.62494003  </td><td>-0.45710015  </td><td> 0.18520705  </td><td>-0.019188149 </td><td>-0.0029254305</td><td>-0.0014189495</td></tr>\n",
       "\t<tr><th scope=row>PAPI_L2_LDM</th><td>0.2470323    </td><td> 0.2333604   </td><td>-0.081855376 </td><td>0.21772302   </td><td>-0.03641855  </td><td>-0.544938108 </td><td> 0.11726053  </td><td>-0.08696152  </td><td>-0.02242855  </td><td> 0.06533911  </td><td>-3.876661e-03</td><td>-0.17038316  </td><td> 0.10799289  </td><td> 0.02448506  </td><td> 0.405202849 </td><td> 0.5478682295</td><td> 0.0197372552</td></tr>\n",
       "\t<tr><th scope=row>PAPI_SR_INS</th><td>0.2710042    </td><td>-0.1894592   </td><td> 0.082036873 </td><td>0.02714539   </td><td> 0.19390521  </td><td> 0.003465217 </td><td> 0.08110637  </td><td> 0.26821227  </td><td>-0.03794592  </td><td> 0.05181553  </td><td>-8.378786e-01</td><td>-0.04799768  </td><td>-0.02532982  </td><td>-0.24048573  </td><td>-0.010518900 </td><td>-0.0035656690</td><td> 0.0005498772</td></tr>\n",
       "</tbody>\n",
       "</table>\n"
      ],
      "text/latex": [
       "\\begin{tabular}{r|lllllllllllllllll}\n",
       "  & PC1 & PC2 & PC3 & PC4 & PC5 & PC6 & PC7 & PC8 & PC9 & PC10 & PC11 & PC12 & PC13 & PC14 & PC15 & PC16 & PC17\\\\\n",
       "\\hline\n",
       "\tPAPI\\_L1\\_DCM & 0.2755985     &  0.1707067    & -0.208816025  & 0.04023014    & -0.04888999   & -0.071585763  &  0.09461292   &  0.07095373   &  0.14423276   & -0.12589407   & -3.787179e-05 &  0.64268072   & -0.61158663   &  0.06591853   &  0.008992751  &  0.0042412644 & -0.0028406685\\\\\n",
       "\tPAPI\\_L3\\_TCM & 0.2566979     &  0.1892410    & -0.067037650  & 0.08878557    & -0.14997778   &  0.088204483  & -0.53785826   &  0.12061164   & -0.56868179   & -0.09999781   & -1.948562e-02 &  0.31372808   &  0.34544054   & -0.00141624   & -0.016408174  &  0.0005901065 & -0.0008889652\\\\\n",
       "\tPAPI\\_TOT\\_INS & 0.2602277     & -0.2964863    & -0.009739886  & 0.05800064    &  0.12835106   &  0.016898352  & -0.04040050   & -0.13167790   &  0.09821967   &  0.33852282   & -8.479020e-02 &  0.09933933   &  0.15000780   &  0.79482228   & -0.098014734  & -0.0009192259 & -0.0057156234\\\\\n",
       "\tPAPI\\_REF\\_CYC & 0.2707468     &  0.1564201    & -0.102569913  & 0.01050283    & -0.13782742   &  0.187454469  & -0.40198609   &  0.17615324   &  0.06219483   & -0.08052770   &  1.776985e-02 & -0.62494003   & -0.45710015   &  0.18520705   & -0.019188149  & -0.0029254305 & -0.0014189495\\\\\n",
       "\tPAPI\\_L2\\_LDM & 0.2470323     &  0.2333604    & -0.081855376  & 0.21772302    & -0.03641855   & -0.544938108  &  0.11726053   & -0.08696152   & -0.02242855   &  0.06533911   & -3.876661e-03 & -0.17038316   &  0.10799289   &  0.02448506   &  0.405202849  &  0.5478682295 &  0.0197372552\\\\\n",
       "\tPAPI\\_SR\\_INS & 0.2710042     & -0.1894592    &  0.082036873  & 0.02714539    &  0.19390521   &  0.003465217  &  0.08110637   &  0.26821227   & -0.03794592   &  0.05181553   & -8.378786e-01 & -0.04799768   & -0.02532982   & -0.24048573   & -0.010518900  & -0.0035656690 &  0.0005498772\\\\\n",
       "\\end{tabular}\n"
      ],
      "text/markdown": [
       "\n",
       "| <!--/--> | PC1 | PC2 | PC3 | PC4 | PC5 | PC6 | PC7 | PC8 | PC9 | PC10 | PC11 | PC12 | PC13 | PC14 | PC15 | PC16 | PC17 | \n",
       "|---|---|---|---|---|---|\n",
       "| PAPI_L1_DCM | 0.2755985     |  0.1707067    | -0.208816025  | 0.04023014    | -0.04888999   | -0.071585763  |  0.09461292   |  0.07095373   |  0.14423276   | -0.12589407   | -3.787179e-05 |  0.64268072   | -0.61158663   |  0.06591853   |  0.008992751  |  0.0042412644 | -0.0028406685 | \n",
       "| PAPI_L3_TCM | 0.2566979     |  0.1892410    | -0.067037650  | 0.08878557    | -0.14997778   |  0.088204483  | -0.53785826   |  0.12061164   | -0.56868179   | -0.09999781   | -1.948562e-02 |  0.31372808   |  0.34544054   | -0.00141624   | -0.016408174  |  0.0005901065 | -0.0008889652 | \n",
       "| PAPI_TOT_INS | 0.2602277     | -0.2964863    | -0.009739886  | 0.05800064    |  0.12835106   |  0.016898352  | -0.04040050   | -0.13167790   |  0.09821967   |  0.33852282   | -8.479020e-02 |  0.09933933   |  0.15000780   |  0.79482228   | -0.098014734  | -0.0009192259 | -0.0057156234 | \n",
       "| PAPI_REF_CYC | 0.2707468     |  0.1564201    | -0.102569913  | 0.01050283    | -0.13782742   |  0.187454469  | -0.40198609   |  0.17615324   |  0.06219483   | -0.08052770   |  1.776985e-02 | -0.62494003   | -0.45710015   |  0.18520705   | -0.019188149  | -0.0029254305 | -0.0014189495 | \n",
       "| PAPI_L2_LDM | 0.2470323     |  0.2333604    | -0.081855376  | 0.21772302    | -0.03641855   | -0.544938108  |  0.11726053   | -0.08696152   | -0.02242855   |  0.06533911   | -3.876661e-03 | -0.17038316   |  0.10799289   |  0.02448506   |  0.405202849  |  0.5478682295 |  0.0197372552 | \n",
       "| PAPI_SR_INS | 0.2710042     | -0.1894592    |  0.082036873  | 0.02714539    |  0.19390521   |  0.003465217  |  0.08110637   |  0.26821227   | -0.03794592   |  0.05181553   | -8.378786e-01 | -0.04799768   | -0.02532982   | -0.24048573   | -0.010518900  | -0.0035656690 |  0.0005498772 | \n",
       "\n",
       "\n"
      ],
      "text/plain": [
       "             PC1       PC2        PC3          PC4        PC5        \n",
       "PAPI_L1_DCM  0.2755985  0.1707067 -0.208816025 0.04023014 -0.04888999\n",
       "PAPI_L3_TCM  0.2566979  0.1892410 -0.067037650 0.08878557 -0.14997778\n",
       "PAPI_TOT_INS 0.2602277 -0.2964863 -0.009739886 0.05800064  0.12835106\n",
       "PAPI_REF_CYC 0.2707468  0.1564201 -0.102569913 0.01050283 -0.13782742\n",
       "PAPI_L2_LDM  0.2470323  0.2333604 -0.081855376 0.21772302 -0.03641855\n",
       "PAPI_SR_INS  0.2710042 -0.1894592  0.082036873 0.02714539  0.19390521\n",
       "             PC6          PC7         PC8         PC9         PC10       \n",
       "PAPI_L1_DCM  -0.071585763  0.09461292  0.07095373  0.14423276 -0.12589407\n",
       "PAPI_L3_TCM   0.088204483 -0.53785826  0.12061164 -0.56868179 -0.09999781\n",
       "PAPI_TOT_INS  0.016898352 -0.04040050 -0.13167790  0.09821967  0.33852282\n",
       "PAPI_REF_CYC  0.187454469 -0.40198609  0.17615324  0.06219483 -0.08052770\n",
       "PAPI_L2_LDM  -0.544938108  0.11726053 -0.08696152 -0.02242855  0.06533911\n",
       "PAPI_SR_INS   0.003465217  0.08110637  0.26821227 -0.03794592  0.05181553\n",
       "             PC11          PC12        PC13        PC14        PC15        \n",
       "PAPI_L1_DCM  -3.787179e-05  0.64268072 -0.61158663  0.06591853  0.008992751\n",
       "PAPI_L3_TCM  -1.948562e-02  0.31372808  0.34544054 -0.00141624 -0.016408174\n",
       "PAPI_TOT_INS -8.479020e-02  0.09933933  0.15000780  0.79482228 -0.098014734\n",
       "PAPI_REF_CYC  1.776985e-02 -0.62494003 -0.45710015  0.18520705 -0.019188149\n",
       "PAPI_L2_LDM  -3.876661e-03 -0.17038316  0.10799289  0.02448506  0.405202849\n",
       "PAPI_SR_INS  -8.378786e-01 -0.04799768 -0.02532982 -0.24048573 -0.010518900\n",
       "             PC16          PC17         \n",
       "PAPI_L1_DCM   0.0042412644 -0.0028406685\n",
       "PAPI_L3_TCM   0.0005901065 -0.0008889652\n",
       "PAPI_TOT_INS -0.0009192259 -0.0057156234\n",
       "PAPI_REF_CYC -0.0029254305 -0.0014189495\n",
       "PAPI_L2_LDM   0.5478682295  0.0197372552\n",
       "PAPI_SR_INS  -0.0035656690  0.0005498772"
      ]
     },
     "metadata": {},
     "output_type": "display_data"
    }
   ],
   "source": [
    "head(unclass(res.pca$rotation)[])"
   ]
  },
  {
   "cell_type": "code",
   "execution_count": 25,
   "metadata": {},
   "outputs": [
    {
     "name": "stdout",
     "output_type": "stream",
     "text": [
      " [1] 1.142238e+01 2.264792e+00 9.154103e-01 5.906519e-01 5.176302e-01\n",
      " [6] 4.628921e-01 3.264977e-01 2.036603e-01 1.242371e-01 8.226299e-02\n",
      "[11] 5.183234e-02 2.155687e-02 1.388114e-02 1.714916e-03 5.276479e-04\n",
      "[16] 6.154313e-05 1.048407e-05\n"
     ]
    }
   ],
   "source": [
    "# Eigenvalues\n",
    "eig <- (res.pca$sdev)^2\n",
    "print(eig)"
   ]
  },
  {
   "cell_type": "code",
   "execution_count": 26,
   "metadata": {},
   "outputs": [
    {
     "name": "stdout",
     "output_type": "stream",
     "text": [
      " [1] 6.719047e+01 1.332231e+01 5.384766e+00 3.474423e+00 3.044883e+00\n",
      " [6] 2.722895e+00 1.920575e+00 1.198002e+00 7.308062e-01 4.839000e-01\n",
      "[11] 3.048961e-01 1.268051e-01 8.165376e-02 1.008774e-02 3.103811e-03\n",
      "[16] 3.620184e-04 6.167101e-05\n"
     ]
    }
   ],
   "source": [
    "# Variances in percentage\n",
    "variance <- eig*100/sum(eig)\n",
    "print(variance)"
   ]
  },
  {
   "cell_type": "code",
   "execution_count": 27,
   "metadata": {},
   "outputs": [
    {
     "name": "stdout",
     "output_type": "stream",
     "text": [
      " [1]  67.19047  80.51278  85.89755  89.37197  92.41685  95.13975  97.06032\n",
      " [8]  98.25832  98.98913  99.47303  99.77793  99.90473  99.98638  99.99647\n",
      "[15]  99.99958  99.99994 100.00000\n"
     ]
    }
   ],
   "source": [
    "# Cumulative variances\n",
    "cumvar <- cumsum(variance)\n",
    "print(cumvar)"
   ]
  },
  {
   "cell_type": "code",
   "execution_count": 28,
   "metadata": {},
   "outputs": [
    {
     "name": "stdout",
     "output_type": "stream",
     "text": [
      "            eig     variance cumvariance\n",
      "1  1.142238e+01 6.719047e+01    67.19047\n",
      "2  2.264792e+00 1.332231e+01    80.51278\n",
      "3  9.154103e-01 5.384766e+00    85.89755\n",
      "4  5.906519e-01 3.474423e+00    89.37197\n",
      "5  5.176302e-01 3.044883e+00    92.41685\n",
      "6  4.628921e-01 2.722895e+00    95.13975\n",
      "7  3.264977e-01 1.920575e+00    97.06032\n",
      "8  2.036603e-01 1.198002e+00    98.25832\n",
      "9  1.242371e-01 7.308062e-01    98.98913\n",
      "10 8.226299e-02 4.839000e-01    99.47303\n",
      "11 5.183234e-02 3.048961e-01    99.77793\n",
      "12 2.155687e-02 1.268051e-01    99.90473\n",
      "13 1.388114e-02 8.165376e-02    99.98638\n",
      "14 1.714916e-03 1.008774e-02    99.99647\n",
      "15 5.276479e-04 3.103811e-03    99.99958\n",
      "16 6.154313e-05 3.620184e-04    99.99994\n",
      "17 1.048407e-05 6.167101e-05   100.00000\n"
     ]
    }
   ],
   "source": [
    "eig.decathlon2.active <- data.frame(eig = eig, variance = variance,cumvariance = cumvar)\n",
    "print(eig.decathlon2.active)"
   ]
  },
  {
   "cell_type": "code",
   "execution_count": 29,
   "metadata": {},
   "outputs": [
    {
     "data": {
      "text/plain": [
       "Importance of components:\n",
       "                          PC1    PC2     PC3     PC4     PC5     PC6     PC7\n",
       "Standard deviation     3.3797 1.5049 0.95677 0.76854 0.71947 0.68036 0.57140\n",
       "Proportion of Variance 0.6719 0.1332 0.05385 0.03474 0.03045 0.02723 0.01921\n",
       "Cumulative Proportion  0.6719 0.8051 0.85898 0.89372 0.92417 0.95140 0.97060\n",
       "                           PC8     PC9    PC10    PC11    PC12    PC13    PC14\n",
       "Standard deviation     0.45129 0.35247 0.28682 0.22767 0.14682 0.11782 0.04141\n",
       "Proportion of Variance 0.01198 0.00731 0.00484 0.00305 0.00127 0.00082 0.00010\n",
       "Cumulative Proportion  0.98258 0.98989 0.99473 0.99778 0.99905 0.99986 0.99996\n",
       "                          PC15     PC16     PC17\n",
       "Standard deviation     0.02297 0.007845 0.003238\n",
       "Proportion of Variance 0.00003 0.000000 0.000000\n",
       "Cumulative Proportion  1.00000 1.000000 1.000000"
      ]
     },
     "metadata": {},
     "output_type": "display_data"
    }
   ],
   "source": [
    "summary(res.pca)"
   ]
  },
  {
   "cell_type": "code",
   "execution_count": 30,
   "metadata": {},
   "outputs": [
    {
     "data": {
      "text/html": [
       "<table>\n",
       "<thead><tr><th></th><th scope=col>eigenvalue</th><th scope=col>variance.percent</th><th scope=col>cumulative.variance.percent</th></tr></thead>\n",
       "<tbody>\n",
       "\t<tr><th scope=row>Dim.1</th><td>11.4223801</td><td>67.190471 </td><td>67.19047  </td></tr>\n",
       "\t<tr><th scope=row>Dim.2</th><td> 2.2647924</td><td>13.322308 </td><td>80.51278  </td></tr>\n",
       "\t<tr><th scope=row>Dim.3</th><td> 0.9154103</td><td> 5.384766 </td><td>85.89755  </td></tr>\n",
       "\t<tr><th scope=row>Dim.4</th><td> 0.5906519</td><td> 3.474423 </td><td>89.37197  </td></tr>\n",
       "\t<tr><th scope=row>Dim.5</th><td> 0.5176302</td><td> 3.044883 </td><td>92.41685  </td></tr>\n",
       "\t<tr><th scope=row>Dim.6</th><td> 0.4628921</td><td> 2.722895 </td><td>95.13975  </td></tr>\n",
       "</tbody>\n",
       "</table>\n"
      ],
      "text/latex": [
       "\\begin{tabular}{r|lll}\n",
       "  & eigenvalue & variance.percent & cumulative.variance.percent\\\\\n",
       "\\hline\n",
       "\tDim.1 & 11.4223801 & 67.190471  & 67.19047  \\\\\n",
       "\tDim.2 &  2.2647924 & 13.322308  & 80.51278  \\\\\n",
       "\tDim.3 &  0.9154103 &  5.384766  & 85.89755  \\\\\n",
       "\tDim.4 &  0.5906519 &  3.474423  & 89.37197  \\\\\n",
       "\tDim.5 &  0.5176302 &  3.044883  & 92.41685  \\\\\n",
       "\tDim.6 &  0.4628921 &  2.722895  & 95.13975  \\\\\n",
       "\\end{tabular}\n"
      ],
      "text/markdown": [
       "\n",
       "| <!--/--> | eigenvalue | variance.percent | cumulative.variance.percent | \n",
       "|---|---|---|---|---|---|\n",
       "| Dim.1 | 11.4223801 | 67.190471  | 67.19047   | \n",
       "| Dim.2 |  2.2647924 | 13.322308  | 80.51278   | \n",
       "| Dim.3 |  0.9154103 |  5.384766  | 85.89755   | \n",
       "| Dim.4 |  0.5906519 |  3.474423  | 89.37197   | \n",
       "| Dim.5 |  0.5176302 |  3.044883  | 92.41685   | \n",
       "| Dim.6 |  0.4628921 |  2.722895  | 95.13975   | \n",
       "\n",
       "\n"
      ],
      "text/plain": [
       "      eigenvalue variance.percent cumulative.variance.percent\n",
       "Dim.1 11.4223801 67.190471        67.19047                   \n",
       "Dim.2  2.2647924 13.322308        80.51278                   \n",
       "Dim.3  0.9154103  5.384766        85.89755                   \n",
       "Dim.4  0.5906519  3.474423        89.37197                   \n",
       "Dim.5  0.5176302  3.044883        92.41685                   \n",
       "Dim.6  0.4628921  2.722895        95.13975                   "
      ]
     },
     "metadata": {},
     "output_type": "display_data"
    }
   ],
   "source": [
    "library(\"factoextra\")\n",
    "eig.val <- get_eigenvalue(res.pca)\n",
    "head(eig.val)"
   ]
  },
  {
   "cell_type": "code",
   "execution_count": 31,
   "metadata": {},
   "outputs": [],
   "source": [
    "options(repr.plot.width = 20, repr.plot.height = 10)"
   ]
  },
  {
   "cell_type": "code",
   "execution_count": 32,
   "metadata": {},
   "outputs": [
    {
     "data": {
      "image/png": "[encoded data removed]",
      "text/plain": [
       "Plot with title \"Variances\""
      ]
     },
     "metadata": {},
     "output_type": "display_data"
    }
   ],
   "source": [
    "barplot(eig.decathlon2.active[, 2], names.arg=1:nrow(eig.decathlon2.active), \n",
    "       main = \"Variances\",\n",
    "       xlab = \"Principal Components\",\n",
    "       ylab = \"Percentage of variances\",\n",
    "       col =\"steelblue\")\n",
    "# Add connected line segments to the plot\n",
    "lines(x = 1:nrow(eig.decathlon2.active), \n",
    "      eig.decathlon2.active[, 2], \n",
    "      type=\"b\", pch=19, col = \"red\")"
   ]
  },
  {
   "cell_type": "code",
   "execution_count": 33,
   "metadata": {
    "scrolled": false
   },
   "outputs": [
    {
     "data": {},
     "metadata": {},
     "output_type": "display_data"
    },
    {
     "data": {
      "image/png": "[encoded data removed]",
      "text/plain": [
       "plot without title"
      ]
     },
     "metadata": {},
     "output_type": "display_data"
    }
   ],
   "source": [
    "fviz_screeplot(res.pca, ncp=54)"
   ]
  },
  {
   "cell_type": "code",
   "execution_count": 34,
   "metadata": {},
   "outputs": [
    {
     "data": {
      "text/plain": [
       "Principal Component Analysis Results for variables\n",
       " ===================================================\n",
       "  Name       Description                                    \n",
       "1 \"$coord\"   \"Coordinates for the variables\"                \n",
       "2 \"$cor\"     \"Correlations between variables and dimensions\"\n",
       "3 \"$cos2\"    \"Cos2 for the variables\"                       \n",
       "4 \"$contrib\" \"contributions of the variables\"               "
      ]
     },
     "metadata": {},
     "output_type": "display_data"
    }
   ],
   "source": [
    "var <- get_pca_var(res.pca)\n",
    "var"
   ]
  },
  {
   "cell_type": "code",
   "execution_count": 35,
   "metadata": {},
   "outputs": [
    {
     "data": {
      "text/html": [
       "<table>\n",
       "<thead><tr><th></th><th scope=col>Dim.1</th><th scope=col>Dim.2</th><th scope=col>Dim.3</th><th scope=col>Dim.4</th><th scope=col>Dim.5</th><th scope=col>Dim.6</th><th scope=col>Dim.7</th><th scope=col>Dim.8</th><th scope=col>Dim.9</th><th scope=col>Dim.10</th><th scope=col>Dim.11</th><th scope=col>Dim.12</th><th scope=col>Dim.13</th><th scope=col>Dim.14</th><th scope=col>Dim.15</th><th scope=col>Dim.16</th><th scope=col>Dim.17</th></tr></thead>\n",
       "<tbody>\n",
       "\t<tr><th scope=row>PAPI_L1_DCM</th><td>0.9314405    </td><td> 0.25690043  </td><td>-0.199789064 </td><td> 0.030918428 </td><td>-0.03517465  </td><td>-0.0487042140</td><td> 0.05406180  </td><td> 0.03202053  </td><td> 0.050838121 </td><td>-0.036108339 </td><td>-8.622163e-06</td><td> 0.0943600420</td><td>-0.072056066 </td><td> 2.729788e-03</td><td> 2.065688e-04</td><td> 3.327248e-05</td><td>-9.197834e-06</td></tr>\n",
       "\t<tr><th scope=row>PAPI_L3_TCM</th><td>0.8675621    </td><td> 0.28479310  </td><td>-0.064139662 </td><td> 0.068235160 </td><td>-0.10790379  </td><td> 0.0600109553</td><td>-0.30733209  </td><td> 0.05443051  </td><td>-0.200444848 </td><td>-0.028680898 </td><td>-4.436236e-03</td><td> 0.0460623668</td><td> 0.040699200 </td><td>-5.864870e-05</td><td>-3.769054e-04</td><td> 4.629352e-06</td><td>-2.878391e-06</td></tr>\n",
       "\t<tr><th scope=row>PAPI_TOT_INS</th><td>0.8794919    </td><td>-0.44618893  </td><td>-0.009318838 </td><td> 0.044575748 </td><td> 0.09234412  </td><td> 0.0114969918</td><td>-0.02308484  </td><td>-0.05942458  </td><td> 0.034619759 </td><td> 0.097093511 </td><td>-1.930394e-02</td><td> 0.0145852567</td><td> 0.017673656 </td><td> 3.291482e-02</td><td>-2.251456e-03</td><td>-7.211275e-06</td><td>-1.850668e-05</td></tr>\n",
       "\t<tr><th scope=row>PAPI_REF_CYC</th><td>0.9150433    </td><td> 0.23540015  </td><td>-0.098135892 </td><td> 0.008071836 </td><td>-0.09916203  </td><td> 0.1275368475</td><td>-0.22969477  </td><td> 0.07949574  </td><td> 0.021921984 </td><td>-0.023096573 </td><td> 4.045613e-03</td><td>-0.0917553083</td><td>-0.053854740 </td><td> 7.669710e-03</td><td>-4.407631e-04</td><td>-2.294984e-05</td><td>-4.594433e-06</td></tr>\n",
       "\t<tr><th scope=row>PAPI_L2_LDM</th><td>0.8348952    </td><td> 0.35118939  </td><td>-0.078316829 </td><td> 0.167328597 </td><td>-0.02620188  </td><td>-0.3707550370</td><td> 0.06700264  </td><td>-0.03924464  </td><td>-0.007905453 </td><td> 0.018740253 </td><td>-8.825884e-04</td><td>-0.0250160955</td><td> 0.012723534 </td><td> 1.013964e-03</td><td> 9.307748e-03</td><td> 4.297995e-03</td><td> 6.390749e-05</td></tr>\n",
       "\t<tr><th scope=row>PAPI_SR_INS</th><td>0.9159133    </td><td>-0.28512144  </td><td> 0.078490480 </td><td> 0.020862289 </td><td> 0.13950805  </td><td> 0.0023576012</td><td> 0.04634416  </td><td> 0.12104082  </td><td>-0.013374904 </td><td> 0.014861485 </td><td>-1.907574e-01</td><td>-0.0070471435</td><td>-0.002984315 </td><td>-9.958886e-03</td><td>-2.416253e-04</td><td>-2.797247e-05</td><td> 1.780454e-06</td></tr>\n",
       "\t<tr><th scope=row>PAPI_BR_UCN</th><td>0.6694686    </td><td>-0.02952666  </td><td> 0.057526155 </td><td>-0.707821447 </td><td>-0.06928865  </td><td>-0.1940374306</td><td>-0.04283198  </td><td>-0.04694842  </td><td>-0.009865588 </td><td>-0.003188380 </td><td>-4.377498e-03</td><td>-0.0002720601</td><td> 0.001631472 </td><td> 3.374114e-06</td><td>-2.162655e-06</td><td> 2.668598e-06</td><td>-4.553081e-06</td></tr>\n",
       "\t<tr><th scope=row>PAPI_BR_CN</th><td>0.9145270    </td><td>-0.29156071  </td><td> 0.123008391 </td><td>-0.005120639 </td><td> 0.16627438  </td><td> 0.0003553001</td><td> 0.04941845  </td><td> 0.15044873  </td><td>-0.034404454 </td><td> 0.049062330 </td><td> 8.429371e-02</td><td>-0.0013564539</td><td>-0.003481900 </td><td>-5.950298e-03</td><td> 4.297567e-04</td><td>-1.500066e-04</td><td> 2.295142e-03</td></tr>\n",
       "\t<tr><th scope=row>PAPI_BR_TKN</th><td>0.9141947    </td><td>-0.29167033  </td><td> 0.123490732 </td><td>-0.003786844 </td><td> 0.16726601  </td><td> 0.0007245893</td><td> 0.04899595  </td><td> 0.15085827  </td><td>-0.033196465 </td><td> 0.049321920 </td><td> 8.474705e-02</td><td>-0.0017009396</td><td>-0.003023951 </td><td>-6.344011e-03</td><td> 7.811062e-04</td><td> 1.558006e-04</td><td>-2.281795e-03</td></tr>\n",
       "\t<tr><th scope=row>PAPI_BR_MSP</th><td>0.8931654    </td><td> 0.20782106  </td><td> 0.211763512 </td><td> 0.025247744 </td><td>-0.15186840  </td><td> 0.0662421842</td><td>-0.08021620  </td><td> 0.09446070  </td><td> 0.256711423 </td><td>-0.046934274 </td><td> 9.959810e-03</td><td> 0.0164176712</td><td> 0.047869225 </td><td>-3.394266e-03</td><td>-1.029939e-04</td><td>-5.453878e-06</td><td> 1.059132e-05</td></tr>\n",
       "\t<tr><th scope=row>PAPI_FP_OPS</th><td>0.6714134    </td><td>-0.59513513  </td><td>-0.293702828 </td><td> 0.070993932 </td><td>-0.06744320  </td><td> 0.0437395768</td><td>-0.18692753  </td><td>-0.22327407  </td><td> 0.062376821 </td><td> 0.089604528 </td><td> 1.189268e-02</td><td> 0.0049124602</td><td>-0.006135426 </td><td>-1.833060e-02</td><td> 1.660430e-03</td><td> 2.112223e-05</td><td> 1.338820e-05</td></tr>\n",
       "\t<tr><th scope=row>PAPI_L1_LDM</th><td>0.8823717    </td><td> 0.23924643  </td><td>-0.084880641 </td><td> 0.161319264 </td><td>-0.08992069  </td><td>-0.3312346813</td><td> 0.09928969  </td><td>-0.04596059  </td><td>-0.016179046 </td><td> 0.007204526 </td><td> 8.755631e-03</td><td>-0.0237128458</td><td> 0.009960001 </td><td>-2.938602e-03</td><td>-9.941732e-03</td><td>-4.514941e-03</td><td>-6.437960e-05</td></tr>\n",
       "\t<tr><th scope=row>PAPI_L1_STM</th><td>0.8357230    </td><td> 0.36806615  </td><td>-0.240469001 </td><td>-0.074466066 </td><td> 0.09283460  </td><td> 0.2428111678</td><td> 0.17330975  </td><td>-0.06451313  </td><td>-0.015129414 </td><td>-0.006188894 </td><td>-1.222948e-03</td><td>-0.0108735089</td><td> 0.019306047 </td><td> 1.683464e-03</td><td> 1.329175e-02</td><td>-3.317687e-03</td><td>-1.765490e-05</td></tr>\n",
       "\t<tr><th scope=row>PAPI_LD_INS</th><td>0.7842681    </td><td>-0.42359281  </td><td> 0.275515036 </td><td> 0.083845549 </td><td> 0.22161869  </td><td>-0.0269406057</td><td>-0.02369815  </td><td>-0.16943779  </td><td>-0.021094812 </td><td>-0.206618256 </td><td> 1.541569e-02</td><td>-0.0064204313</td><td>-0.004980010 </td><td> 1.624992e-03</td><td> 5.524539e-04</td><td> 3.481711e-05</td><td>-4.374532e-07</td></tr>\n",
       "\t<tr><th scope=row>PAPI_L2_STM</th><td>0.7918365    </td><td> 0.43789393  </td><td>-0.241326968 </td><td>-0.079846518 </td><td> 0.16838939  </td><td> 0.2403621618</td><td> 0.15018533  </td><td>-0.08539487  </td><td>-0.006128526 </td><td>-0.003070002 </td><td> 8.220403e-03</td><td>-0.0099322091</td><td> 0.015999965 </td><td>-4.144790e-03</td><td>-1.248499e-02</td><td> 3.247215e-03</td><td> 2.120947e-05</td></tr>\n",
       "\t<tr><th scope=row>PAPI_TLB_DM</th><td>0.5149026    </td><td> 0.42151582  </td><td> 0.694646457 </td><td> 0.050277325 </td><td>-0.13518333  </td><td> 0.1291008502</td><td> 0.04024627  </td><td>-0.15381232  </td><td>-0.044861114 </td><td> 0.096234558 </td><td>-8.457062e-03</td><td> 0.0060338285</td><td>-0.023014397 </td><td>-2.712722e-03</td><td> 3.277223e-04</td><td>-2.095405e-06</td><td>-6.980877e-07</td></tr>\n",
       "\t<tr><th scope=row>PAPI_L2_DCH</th><td>0.5498349    </td><td>-0.59047936  </td><td>-0.053502311 </td><td> 0.017941790 </td><td>-0.51551250  </td><td> 0.1235441873</td><td> 0.23771133  </td><td> 0.03640223  </td><td>-0.066283983 </td><td>-0.049702821 </td><td> 5.681759e-03</td><td>-0.0082938547</td><td> 0.003705422 </td><td> 1.791955e-03</td><td>-3.855927e-04</td><td> 1.040800e-03</td><td> 6.661594e-06</td></tr>\n",
       "</tbody>\n",
       "</table>\n"
      ],
      "text/latex": [
       "\\begin{tabular}{r|lllllllllllllllll}\n",
       "  & Dim.1 & Dim.2 & Dim.3 & Dim.4 & Dim.5 & Dim.6 & Dim.7 & Dim.8 & Dim.9 & Dim.10 & Dim.11 & Dim.12 & Dim.13 & Dim.14 & Dim.15 & Dim.16 & Dim.17\\\\\n",
       "\\hline\n",
       "\tPAPI\\_L1\\_DCM & 0.9314405     &  0.25690043   & -0.199789064  &  0.030918428  & -0.03517465   & -0.0487042140 &  0.05406180   &  0.03202053   &  0.050838121  & -0.036108339  & -8.622163e-06 &  0.0943600420 & -0.072056066  &  2.729788e-03 &  2.065688e-04 &  3.327248e-05 & -9.197834e-06\\\\\n",
       "\tPAPI\\_L3\\_TCM & 0.8675621     &  0.28479310   & -0.064139662  &  0.068235160  & -0.10790379   &  0.0600109553 & -0.30733209   &  0.05443051   & -0.200444848  & -0.028680898  & -4.436236e-03 &  0.0460623668 &  0.040699200  & -5.864870e-05 & -3.769054e-04 &  4.629352e-06 & -2.878391e-06\\\\\n",
       "\tPAPI\\_TOT\\_INS & 0.8794919     & -0.44618893   & -0.009318838  &  0.044575748  &  0.09234412   &  0.0114969918 & -0.02308484   & -0.05942458   &  0.034619759  &  0.097093511  & -1.930394e-02 &  0.0145852567 &  0.017673656  &  3.291482e-02 & -2.251456e-03 & -7.211275e-06 & -1.850668e-05\\\\\n",
       "\tPAPI\\_REF\\_CYC & 0.9150433     &  0.23540015   & -0.098135892  &  0.008071836  & -0.09916203   &  0.1275368475 & -0.22969477   &  0.07949574   &  0.021921984  & -0.023096573  &  4.045613e-03 & -0.0917553083 & -0.053854740  &  7.669710e-03 & -4.407631e-04 & -2.294984e-05 & -4.594433e-06\\\\\n",
       "\tPAPI\\_L2\\_LDM & 0.8348952     &  0.35118939   & -0.078316829  &  0.167328597  & -0.02620188   & -0.3707550370 &  0.06700264   & -0.03924464   & -0.007905453  &  0.018740253  & -8.825884e-04 & -0.0250160955 &  0.012723534  &  1.013964e-03 &  9.307748e-03 &  4.297995e-03 &  6.390749e-05\\\\\n",
       "\tPAPI\\_SR\\_INS & 0.9159133     & -0.28512144   &  0.078490480  &  0.020862289  &  0.13950805   &  0.0023576012 &  0.04634416   &  0.12104082   & -0.013374904  &  0.014861485  & -1.907574e-01 & -0.0070471435 & -0.002984315  & -9.958886e-03 & -2.416253e-04 & -2.797247e-05 &  1.780454e-06\\\\\n",
       "\tPAPI\\_BR\\_UCN & 0.6694686     & -0.02952666   &  0.057526155  & -0.707821447  & -0.06928865   & -0.1940374306 & -0.04283198   & -0.04694842   & -0.009865588  & -0.003188380  & -4.377498e-03 & -0.0002720601 &  0.001631472  &  3.374114e-06 & -2.162655e-06 &  2.668598e-06 & -4.553081e-06\\\\\n",
       "\tPAPI\\_BR\\_CN & 0.9145270     & -0.29156071   &  0.123008391  & -0.005120639  &  0.16627438   &  0.0003553001 &  0.04941845   &  0.15044873   & -0.034404454  &  0.049062330  &  8.429371e-02 & -0.0013564539 & -0.003481900  & -5.950298e-03 &  4.297567e-04 & -1.500066e-04 &  2.295142e-03\\\\\n",
       "\tPAPI\\_BR\\_TKN & 0.9141947     & -0.29167033   &  0.123490732  & -0.003786844  &  0.16726601   &  0.0007245893 &  0.04899595   &  0.15085827   & -0.033196465  &  0.049321920  &  8.474705e-02 & -0.0017009396 & -0.003023951  & -6.344011e-03 &  7.811062e-04 &  1.558006e-04 & -2.281795e-03\\\\\n",
       "\tPAPI\\_BR\\_MSP & 0.8931654     &  0.20782106   &  0.211763512  &  0.025247744  & -0.15186840   &  0.0662421842 & -0.08021620   &  0.09446070   &  0.256711423  & -0.046934274  &  9.959810e-03 &  0.0164176712 &  0.047869225  & -3.394266e-03 & -1.029939e-04 & -5.453878e-06 &  1.059132e-05\\\\\n",
       "\tPAPI\\_FP\\_OPS & 0.6714134     & -0.59513513   & -0.293702828  &  0.070993932  & -0.06744320   &  0.0437395768 & -0.18692753   & -0.22327407   &  0.062376821  &  0.089604528  &  1.189268e-02 &  0.0049124602 & -0.006135426  & -1.833060e-02 &  1.660430e-03 &  2.112223e-05 &  1.338820e-05\\\\\n",
       "\tPAPI\\_L1\\_LDM & 0.8823717     &  0.23924643   & -0.084880641  &  0.161319264  & -0.08992069   & -0.3312346813 &  0.09928969   & -0.04596059   & -0.016179046  &  0.007204526  &  8.755631e-03 & -0.0237128458 &  0.009960001  & -2.938602e-03 & -9.941732e-03 & -4.514941e-03 & -6.437960e-05\\\\\n",
       "\tPAPI\\_L1\\_STM & 0.8357230     &  0.36806615   & -0.240469001  & -0.074466066  &  0.09283460   &  0.2428111678 &  0.17330975   & -0.06451313   & -0.015129414  & -0.006188894  & -1.222948e-03 & -0.0108735089 &  0.019306047  &  1.683464e-03 &  1.329175e-02 & -3.317687e-03 & -1.765490e-05\\\\\n",
       "\tPAPI\\_LD\\_INS & 0.7842681     & -0.42359281   &  0.275515036  &  0.083845549  &  0.22161869   & -0.0269406057 & -0.02369815   & -0.16943779   & -0.021094812  & -0.206618256  &  1.541569e-02 & -0.0064204313 & -0.004980010  &  1.624992e-03 &  5.524539e-04 &  3.481711e-05 & -4.374532e-07\\\\\n",
       "\tPAPI\\_L2\\_STM & 0.7918365     &  0.43789393   & -0.241326968  & -0.079846518  &  0.16838939   &  0.2403621618 &  0.15018533   & -0.08539487   & -0.006128526  & -0.003070002  &  8.220403e-03 & -0.0099322091 &  0.015999965  & -4.144790e-03 & -1.248499e-02 &  3.247215e-03 &  2.120947e-05\\\\\n",
       "\tPAPI\\_TLB\\_DM & 0.5149026     &  0.42151582   &  0.694646457  &  0.050277325  & -0.13518333   &  0.1291008502 &  0.04024627   & -0.15381232   & -0.044861114  &  0.096234558  & -8.457062e-03 &  0.0060338285 & -0.023014397  & -2.712722e-03 &  3.277223e-04 & -2.095405e-06 & -6.980877e-07\\\\\n",
       "\tPAPI\\_L2\\_DCH & 0.5498349     & -0.59047936   & -0.053502311  &  0.017941790  & -0.51551250   &  0.1235441873 &  0.23771133   &  0.03640223   & -0.066283983  & -0.049702821  &  5.681759e-03 & -0.0082938547 &  0.003705422  &  1.791955e-03 & -3.855927e-04 &  1.040800e-03 &  6.661594e-06\\\\\n",
       "\\end{tabular}\n"
      ],
      "text/markdown": [
       "\n",
       "| <!--/--> | Dim.1 | Dim.2 | Dim.3 | Dim.4 | Dim.5 | Dim.6 | Dim.7 | Dim.8 | Dim.9 | Dim.10 | Dim.11 | Dim.12 | Dim.13 | Dim.14 | Dim.15 | Dim.16 | Dim.17 | \n",
       "|---|---|---|---|---|---|---|---|---|---|---|---|---|---|---|---|---|\n",
       "| PAPI_L1_DCM | 0.9314405     |  0.25690043   | -0.199789064  |  0.030918428  | -0.03517465   | -0.0487042140 |  0.05406180   |  0.03202053   |  0.050838121  | -0.036108339  | -8.622163e-06 |  0.0943600420 | -0.072056066  |  2.729788e-03 |  2.065688e-04 |  3.327248e-05 | -9.197834e-06 | \n",
       "| PAPI_L3_TCM | 0.8675621     |  0.28479310   | -0.064139662  |  0.068235160  | -0.10790379   |  0.0600109553 | -0.30733209   |  0.05443051   | -0.200444848  | -0.028680898  | -4.436236e-03 |  0.0460623668 |  0.040699200  | -5.864870e-05 | -3.769054e-04 |  4.629352e-06 | -2.878391e-06 | \n",
       "| PAPI_TOT_INS | 0.8794919     | -0.44618893   | -0.009318838  |  0.044575748  |  0.09234412   |  0.0114969918 | -0.02308484   | -0.05942458   |  0.034619759  |  0.097093511  | -1.930394e-02 |  0.0145852567 |  0.017673656  |  3.291482e-02 | -2.251456e-03 | -7.211275e-06 | -1.850668e-05 | \n",
       "| PAPI_REF_CYC | 0.9150433     |  0.23540015   | -0.098135892  |  0.008071836  | -0.09916203   |  0.1275368475 | -0.22969477   |  0.07949574   |  0.021921984  | -0.023096573  |  4.045613e-03 | -0.0917553083 | -0.053854740  |  7.669710e-03 | -4.407631e-04 | -2.294984e-05 | -4.594433e-06 | \n",
       "| PAPI_L2_LDM | 0.8348952     |  0.35118939   | -0.078316829  |  0.167328597  | -0.02620188   | -0.3707550370 |  0.06700264   | -0.03924464   | -0.007905453  |  0.018740253  | -8.825884e-04 | -0.0250160955 |  0.012723534  |  1.013964e-03 |  9.307748e-03 |  4.297995e-03 |  6.390749e-05 | \n",
       "| PAPI_SR_INS | 0.9159133     | -0.28512144   |  0.078490480  |  0.020862289  |  0.13950805   |  0.0023576012 |  0.04634416   |  0.12104082   | -0.013374904  |  0.014861485  | -1.907574e-01 | -0.0070471435 | -0.002984315  | -9.958886e-03 | -2.416253e-04 | -2.797247e-05 |  1.780454e-06 | \n",
       "| PAPI_BR_UCN | 0.6694686     | -0.02952666   |  0.057526155  | -0.707821447  | -0.06928865   | -0.1940374306 | -0.04283198   | -0.04694842   | -0.009865588  | -0.003188380  | -4.377498e-03 | -0.0002720601 |  0.001631472  |  3.374114e-06 | -2.162655e-06 |  2.668598e-06 | -4.553081e-06 | \n",
       "| PAPI_BR_CN | 0.9145270     | -0.29156071   |  0.123008391  | -0.005120639  |  0.16627438   |  0.0003553001 |  0.04941845   |  0.15044873   | -0.034404454  |  0.049062330  |  8.429371e-02 | -0.0013564539 | -0.003481900  | -5.950298e-03 |  4.297567e-04 | -1.500066e-04 |  2.295142e-03 | \n",
       "| PAPI_BR_TKN | 0.9141947     | -0.29167033   |  0.123490732  | -0.003786844  |  0.16726601   |  0.0007245893 |  0.04899595   |  0.15085827   | -0.033196465  |  0.049321920  |  8.474705e-02 | -0.0017009396 | -0.003023951  | -6.344011e-03 |  7.811062e-04 |  1.558006e-04 | -2.281795e-03 | \n",
       "| PAPI_BR_MSP | 0.8931654     |  0.20782106   |  0.211763512  |  0.025247744  | -0.15186840   |  0.0662421842 | -0.08021620   |  0.09446070   |  0.256711423  | -0.046934274  |  9.959810e-03 |  0.0164176712 |  0.047869225  | -3.394266e-03 | -1.029939e-04 | -5.453878e-06 |  1.059132e-05 | \n",
       "| PAPI_FP_OPS | 0.6714134     | -0.59513513   | -0.293702828  |  0.070993932  | -0.06744320   |  0.0437395768 | -0.18692753   | -0.22327407   |  0.062376821  |  0.089604528  |  1.189268e-02 |  0.0049124602 | -0.006135426  | -1.833060e-02 |  1.660430e-03 |  2.112223e-05 |  1.338820e-05 | \n",
       "| PAPI_L1_LDM | 0.8823717     |  0.23924643   | -0.084880641  |  0.161319264  | -0.08992069   | -0.3312346813 |  0.09928969   | -0.04596059   | -0.016179046  |  0.007204526  |  8.755631e-03 | -0.0237128458 |  0.009960001  | -2.938602e-03 | -9.941732e-03 | -4.514941e-03 | -6.437960e-05 | \n",
       "| PAPI_L1_STM | 0.8357230     |  0.36806615   | -0.240469001  | -0.074466066  |  0.09283460   |  0.2428111678 |  0.17330975   | -0.06451313   | -0.015129414  | -0.006188894  | -1.222948e-03 | -0.0108735089 |  0.019306047  |  1.683464e-03 |  1.329175e-02 | -3.317687e-03 | -1.765490e-05 | \n",
       "| PAPI_LD_INS | 0.7842681     | -0.42359281   |  0.275515036  |  0.083845549  |  0.22161869   | -0.0269406057 | -0.02369815   | -0.16943779   | -0.021094812  | -0.206618256  |  1.541569e-02 | -0.0064204313 | -0.004980010  |  1.624992e-03 |  5.524539e-04 |  3.481711e-05 | -4.374532e-07 | \n",
       "| PAPI_L2_STM | 0.7918365     |  0.43789393   | -0.241326968  | -0.079846518  |  0.16838939   |  0.2403621618 |  0.15018533   | -0.08539487   | -0.006128526  | -0.003070002  |  8.220403e-03 | -0.0099322091 |  0.015999965  | -4.144790e-03 | -1.248499e-02 |  3.247215e-03 |  2.120947e-05 | \n",
       "| PAPI_TLB_DM | 0.5149026     |  0.42151582   |  0.694646457  |  0.050277325  | -0.13518333   |  0.1291008502 |  0.04024627   | -0.15381232   | -0.044861114  |  0.096234558  | -8.457062e-03 |  0.0060338285 | -0.023014397  | -2.712722e-03 |  3.277223e-04 | -2.095405e-06 | -6.980877e-07 | \n",
       "| PAPI_L2_DCH | 0.5498349     | -0.59047936   | -0.053502311  |  0.017941790  | -0.51551250   |  0.1235441873 |  0.23771133   |  0.03640223   | -0.066283983  | -0.049702821  |  5.681759e-03 | -0.0082938547 |  0.003705422  |  1.791955e-03 | -3.855927e-04 |  1.040800e-03 |  6.661594e-06 | \n",
       "\n",
       "\n"
      ],
      "text/plain": [
       "             Dim.1     Dim.2       Dim.3        Dim.4        Dim.5      \n",
       "PAPI_L1_DCM  0.9314405  0.25690043 -0.199789064  0.030918428 -0.03517465\n",
       "PAPI_L3_TCM  0.8675621  0.28479310 -0.064139662  0.068235160 -0.10790379\n",
       "PAPI_TOT_INS 0.8794919 -0.44618893 -0.009318838  0.044575748  0.09234412\n",
       "PAPI_REF_CYC 0.9150433  0.23540015 -0.098135892  0.008071836 -0.09916203\n",
       "PAPI_L2_LDM  0.8348952  0.35118939 -0.078316829  0.167328597 -0.02620188\n",
       "PAPI_SR_INS  0.9159133 -0.28512144  0.078490480  0.020862289  0.13950805\n",
       "PAPI_BR_UCN  0.6694686 -0.02952666  0.057526155 -0.707821447 -0.06928865\n",
       "PAPI_BR_CN   0.9145270 -0.29156071  0.123008391 -0.005120639  0.16627438\n",
       "PAPI_BR_TKN  0.9141947 -0.29167033  0.123490732 -0.003786844  0.16726601\n",
       "PAPI_BR_MSP  0.8931654  0.20782106  0.211763512  0.025247744 -0.15186840\n",
       "PAPI_FP_OPS  0.6714134 -0.59513513 -0.293702828  0.070993932 -0.06744320\n",
       "PAPI_L1_LDM  0.8823717  0.23924643 -0.084880641  0.161319264 -0.08992069\n",
       "PAPI_L1_STM  0.8357230  0.36806615 -0.240469001 -0.074466066  0.09283460\n",
       "PAPI_LD_INS  0.7842681 -0.42359281  0.275515036  0.083845549  0.22161869\n",
       "PAPI_L2_STM  0.7918365  0.43789393 -0.241326968 -0.079846518  0.16838939\n",
       "PAPI_TLB_DM  0.5149026  0.42151582  0.694646457  0.050277325 -0.13518333\n",
       "PAPI_L2_DCH  0.5498349 -0.59047936 -0.053502311  0.017941790 -0.51551250\n",
       "             Dim.6         Dim.7       Dim.8       Dim.9        Dim.10      \n",
       "PAPI_L1_DCM  -0.0487042140  0.05406180  0.03202053  0.050838121 -0.036108339\n",
       "PAPI_L3_TCM   0.0600109553 -0.30733209  0.05443051 -0.200444848 -0.028680898\n",
       "PAPI_TOT_INS  0.0114969918 -0.02308484 -0.05942458  0.034619759  0.097093511\n",
       "PAPI_REF_CYC  0.1275368475 -0.22969477  0.07949574  0.021921984 -0.023096573\n",
       "PAPI_L2_LDM  -0.3707550370  0.06700264 -0.03924464 -0.007905453  0.018740253\n",
       "PAPI_SR_INS   0.0023576012  0.04634416  0.12104082 -0.013374904  0.014861485\n",
       "PAPI_BR_UCN  -0.1940374306 -0.04283198 -0.04694842 -0.009865588 -0.003188380\n",
       "PAPI_BR_CN    0.0003553001  0.04941845  0.15044873 -0.034404454  0.049062330\n",
       "PAPI_BR_TKN   0.0007245893  0.04899595  0.15085827 -0.033196465  0.049321920\n",
       "PAPI_BR_MSP   0.0662421842 -0.08021620  0.09446070  0.256711423 -0.046934274\n",
       "PAPI_FP_OPS   0.0437395768 -0.18692753 -0.22327407  0.062376821  0.089604528\n",
       "PAPI_L1_LDM  -0.3312346813  0.09928969 -0.04596059 -0.016179046  0.007204526\n",
       "PAPI_L1_STM   0.2428111678  0.17330975 -0.06451313 -0.015129414 -0.006188894\n",
       "PAPI_LD_INS  -0.0269406057 -0.02369815 -0.16943779 -0.021094812 -0.206618256\n",
       "PAPI_L2_STM   0.2403621618  0.15018533 -0.08539487 -0.006128526 -0.003070002\n",
       "PAPI_TLB_DM   0.1291008502  0.04024627 -0.15381232 -0.044861114  0.096234558\n",
       "PAPI_L2_DCH   0.1235441873  0.23771133  0.03640223 -0.066283983 -0.049702821\n",
       "             Dim.11        Dim.12        Dim.13       Dim.14       \n",
       "PAPI_L1_DCM  -8.622163e-06  0.0943600420 -0.072056066  2.729788e-03\n",
       "PAPI_L3_TCM  -4.436236e-03  0.0460623668  0.040699200 -5.864870e-05\n",
       "PAPI_TOT_INS -1.930394e-02  0.0145852567  0.017673656  3.291482e-02\n",
       "PAPI_REF_CYC  4.045613e-03 -0.0917553083 -0.053854740  7.669710e-03\n",
       "PAPI_L2_LDM  -8.825884e-04 -0.0250160955  0.012723534  1.013964e-03\n",
       "PAPI_SR_INS  -1.907574e-01 -0.0070471435 -0.002984315 -9.958886e-03\n",
       "PAPI_BR_UCN  -4.377498e-03 -0.0002720601  0.001631472  3.374114e-06\n",
       "PAPI_BR_CN    8.429371e-02 -0.0013564539 -0.003481900 -5.950298e-03\n",
       "PAPI_BR_TKN   8.474705e-02 -0.0017009396 -0.003023951 -6.344011e-03\n",
       "PAPI_BR_MSP   9.959810e-03  0.0164176712  0.047869225 -3.394266e-03\n",
       "PAPI_FP_OPS   1.189268e-02  0.0049124602 -0.006135426 -1.833060e-02\n",
       "PAPI_L1_LDM   8.755631e-03 -0.0237128458  0.009960001 -2.938602e-03\n",
       "PAPI_L1_STM  -1.222948e-03 -0.0108735089  0.019306047  1.683464e-03\n",
       "PAPI_LD_INS   1.541569e-02 -0.0064204313 -0.004980010  1.624992e-03\n",
       "PAPI_L2_STM   8.220403e-03 -0.0099322091  0.015999965 -4.144790e-03\n",
       "PAPI_TLB_DM  -8.457062e-03  0.0060338285 -0.023014397 -2.712722e-03\n",
       "PAPI_L2_DCH   5.681759e-03 -0.0082938547  0.003705422  1.791955e-03\n",
       "             Dim.15        Dim.16        Dim.17       \n",
       "PAPI_L1_DCM   2.065688e-04  3.327248e-05 -9.197834e-06\n",
       "PAPI_L3_TCM  -3.769054e-04  4.629352e-06 -2.878391e-06\n",
       "PAPI_TOT_INS -2.251456e-03 -7.211275e-06 -1.850668e-05\n",
       "PAPI_REF_CYC -4.407631e-04 -2.294984e-05 -4.594433e-06\n",
       "PAPI_L2_LDM   9.307748e-03  4.297995e-03  6.390749e-05\n",
       "PAPI_SR_INS  -2.416253e-04 -2.797247e-05  1.780454e-06\n",
       "PAPI_BR_UCN  -2.162655e-06  2.668598e-06 -4.553081e-06\n",
       "PAPI_BR_CN    4.297567e-04 -1.500066e-04  2.295142e-03\n",
       "PAPI_BR_TKN   7.811062e-04  1.558006e-04 -2.281795e-03\n",
       "PAPI_BR_MSP  -1.029939e-04 -5.453878e-06  1.059132e-05\n",
       "PAPI_FP_OPS   1.660430e-03  2.112223e-05  1.338820e-05\n",
       "PAPI_L1_LDM  -9.941732e-03 -4.514941e-03 -6.437960e-05\n",
       "PAPI_L1_STM   1.329175e-02 -3.317687e-03 -1.765490e-05\n",
       "PAPI_LD_INS   5.524539e-04  3.481711e-05 -4.374532e-07\n",
       "PAPI_L2_STM  -1.248499e-02  3.247215e-03  2.120947e-05\n",
       "PAPI_TLB_DM   3.277223e-04 -2.095405e-06 -6.980877e-07\n",
       "PAPI_L2_DCH  -3.855927e-04  1.040800e-03  6.661594e-06"
      ]
     },
     "metadata": {},
     "output_type": "display_data"
    }
   ],
   "source": [
    "var$coord\n"
   ]
  },
  {
   "cell_type": "code",
   "execution_count": 36,
   "metadata": {},
   "outputs": [
    {
     "name": "stderr",
     "output_type": "stream",
     "text": [
      "Loading required package: plyr\n",
      "Loading required package: scales\n",
      "Loading required package: grid\n"
     ]
    },
    {
     "data": {
      "image/png": "[encoded data removed]",
      "text/plain": [
       "plot without title"
      ]
     },
     "metadata": {},
     "output_type": "display_data"
    }
   ],
   "source": [
    "library(devtools)\n",
    "library(ggbiplot)\n",
    "g <- ggbiplot(res.pca, obs.scale = 1, var.scale = 1, groups = res.label, ellipse = FALSE, circle = TRUE, var.axes=FALSE)\n",
    "#g <- ggbiplot(res.pca, obs.scale = 1, var.scale = 1, groups = {res.label, res.threads}, ellipse = FALSE, circle = TRUE, var.axes=FALSE)\n",
    "g <- g + scale_color_discrete(name = '')\n",
    "g <- g + theme(legend.direction = 'horizontal', legend.position = 'top')\n",
    "print(g)"
   ]
  },
  {
   "cell_type": "code",
   "execution_count": 37,
   "metadata": {},
   "outputs": [
    {
     "name": "stdout",
     "output_type": "stream",
     "text": [
      "                   PC1         PC2          PC3          PC4\n",
      "PAPI_L1_DCM  0.9314405  0.25690043 -0.199789064  0.030918428\n",
      "PAPI_L3_TCM  0.8675621  0.28479310 -0.064139662  0.068235160\n",
      "PAPI_TOT_INS 0.8794919 -0.44618893 -0.009318838  0.044575748\n",
      "PAPI_REF_CYC 0.9150433  0.23540015 -0.098135892  0.008071836\n",
      "PAPI_L2_LDM  0.8348952  0.35118939 -0.078316829  0.167328597\n",
      "PAPI_SR_INS  0.9159133 -0.28512144  0.078490480  0.020862289\n",
      "PAPI_BR_UCN  0.6694686 -0.02952666  0.057526155 -0.707821447\n",
      "PAPI_BR_CN   0.9145270 -0.29156071  0.123008391 -0.005120639\n",
      "PAPI_BR_TKN  0.9141947 -0.29167033  0.123490732 -0.003786844\n",
      "PAPI_BR_MSP  0.8931654  0.20782106  0.211763512  0.025247744\n",
      "PAPI_FP_OPS  0.6714134 -0.59513513 -0.293702828  0.070993932\n",
      "PAPI_L1_LDM  0.8823717  0.23924643 -0.084880641  0.161319264\n",
      "PAPI_L1_STM  0.8357230  0.36806615 -0.240469001 -0.074466066\n",
      "PAPI_LD_INS  0.7842681 -0.42359281  0.275515036  0.083845549\n",
      "PAPI_L2_STM  0.7918365  0.43789393 -0.241326968 -0.079846518\n",
      "PAPI_TLB_DM  0.5149026  0.42151582  0.694646457  0.050277325\n",
      "PAPI_L2_DCH  0.5498349 -0.59047936 -0.053502311  0.017941790\n"
     ]
    }
   ],
   "source": [
    "# Helper function : \n",
    "# Correlation between variables and principal components\n",
    "var_cor_func <- function(var.loadings, comp.sdev){\n",
    "  var.loadings*comp.sdev\n",
    "  }\n",
    "\n",
    "# Variable correlation/coordinates\n",
    "loadings <- res.pca$rotation\n",
    "sdev <- res.pca$sdev\n",
    "\n",
    "var.coord <- var.cor <- t(apply(loadings, 1, var_cor_func, sdev))\n",
    "print(var.coord[, 1:4])"
   ]
  },
  {
   "cell_type": "code",
   "execution_count": 38,
   "metadata": {},
   "outputs": [
    {
     "name": "stdout",
     "output_type": "stream",
     "text": [
      "                   PC1          PC2          PC3          PC4          PC5\n",
      "PAPI_L1_DCM  0.8675815 0.0659978289 3.991567e-02 9.559492e-04 0.0012372557\n",
      "PAPI_L3_TCM  0.7526640 0.0811071118 4.113896e-03 4.656037e-03 0.0116432290\n",
      "PAPI_TOT_INS 0.7735059 0.1990845637 8.684074e-05 1.986997e-03 0.0085274370\n",
      "PAPI_REF_CYC 0.8373042 0.0554132325 9.630653e-03 6.515454e-05 0.0098331082\n",
      "PAPI_L2_LDM  0.6970500 0.1233339849 6.133526e-03 2.799886e-02 0.0006865383\n",
      "PAPI_SR_INS  0.8388971 0.0812942363 6.160755e-03 4.352351e-04 0.0194624955\n",
      "PAPI_BR_UCN  0.4481881 0.0008718235 3.309258e-03 5.010112e-01 0.0048009175\n",
      "PAPI_BR_CN   0.8363597 0.0850076476 1.513106e-02 2.622095e-05 0.0276471693\n",
      "PAPI_BR_TKN  0.8357520 0.0850715791 1.524996e-02 1.434019e-05 0.0279779176\n",
      "PAPI_BR_MSP  0.7977444 0.0431895936 4.484379e-02 6.374486e-04 0.0230640105\n",
      "PAPI_FP_OPS  0.4507959 0.3541858239 8.626135e-02 5.040138e-03 0.0045485854\n",
      "PAPI_L1_LDM  0.7785799 0.0572388536 7.204723e-03 2.602390e-02 0.0080857312\n",
      "PAPI_L1_STM  0.6984329 0.1354726887 5.782534e-02 5.545195e-03 0.0086182629\n",
      "PAPI_LD_INS  0.6150764 0.1794308678 7.590853e-02 7.030076e-03 0.0491148448\n",
      "PAPI_L2_STM  0.6270051 0.1917510983 5.823871e-02 6.375466e-03 0.0283549868\n",
      "PAPI_TLB_DM  0.2651247 0.1776755893 4.825337e-01 2.527809e-03 0.0182745327\n",
      "PAPI_L2_DCH  0.3023184 0.3486658776 2.862497e-03 3.219078e-04 0.2657531360\n",
      "                      PC6          PC7         PC8          PC9         PC10\n",
      "PAPI_L1_DCM  2.372100e-03 0.0029226782 0.001025314 2.584515e-03 1.303812e-03\n",
      "PAPI_L3_TCM  3.601315e-03 0.0944530162 0.002962681 4.017814e-02 8.225939e-04\n",
      "PAPI_TOT_INS 1.321808e-04 0.0005329098 0.003531280 1.198528e-03 9.427150e-03\n",
      "PAPI_REF_CYC 1.626565e-02 0.0527596853 0.006319573 4.805734e-04 5.334517e-04\n",
      "PAPI_L2_LDM  1.374593e-01 0.0044893542 0.001540142 6.249619e-05 3.511971e-04\n",
      "PAPI_SR_INS  5.558283e-06 0.0021477811 0.014650879 1.788881e-04 2.208637e-04\n",
      "PAPI_BR_UCN  3.765052e-02 0.0018345786 0.002204154 9.732982e-05 1.016577e-05\n",
      "PAPI_BR_CN   1.262382e-07 0.0024421835 0.022634819 1.183666e-03 2.407112e-03\n",
      "PAPI_BR_TKN  5.250297e-07 0.0024006029 0.022758217 1.102005e-03 2.432652e-03\n",
      "PAPI_BR_MSP  4.388027e-03 0.0064346380 0.008922824 6.590075e-02 2.202826e-03\n",
      "PAPI_FP_OPS  1.913151e-03 0.0349419027 0.049851311 3.890868e-03 8.028971e-03\n",
      "PAPI_L1_LDM  1.097164e-01 0.0098584420 0.002112376 2.617615e-04 5.190519e-05\n",
      "PAPI_L1_STM  5.895726e-02 0.0300362693 0.004161944 2.288992e-04 3.830241e-05\n",
      "PAPI_LD_INS  7.257962e-04 0.0005616024 0.028709166 4.449911e-04 4.269110e-02\n",
      "PAPI_L2_STM  5.777397e-02 0.0225556331 0.007292283 3.755883e-05 9.424913e-06\n",
      "PAPI_TLB_DM  1.666703e-02 0.0016197622 0.023658231 2.012520e-03 9.261090e-03\n",
      "PAPI_L2_DCH  1.526317e-02 0.0565066753 0.001325122 4.393566e-03 2.470370e-03\n",
      "                     PC11         PC12         PC13         PC14         PC15\n",
      "PAPI_L1_DCM  7.434169e-11 8.903818e-03 5.192077e-03 7.451745e-06 4.267066e-08\n",
      "PAPI_L3_TCM  1.968019e-05 2.121742e-03 1.656425e-03 3.439670e-09 1.420577e-07\n",
      "PAPI_TOT_INS 3.726423e-04 2.127297e-04 3.123581e-04 1.083385e-03 5.069055e-06\n",
      "PAPI_REF_CYC 1.636698e-05 8.419037e-03 2.900333e-03 5.882446e-05 1.942721e-07\n",
      "PAPI_L2_LDM  7.789623e-07 6.258050e-04 1.618883e-04 1.028123e-06 8.663417e-05\n",
      "PAPI_SR_INS  3.638840e-02 4.966223e-05 8.906138e-06 9.917941e-05 5.838280e-08\n",
      "PAPI_BR_UCN  1.916249e-05 7.401672e-08 2.661702e-06 1.138465e-11 4.677078e-12\n",
      "PAPI_BR_CN   7.105430e-03 1.839967e-06 1.212363e-05 3.540604e-05 1.846908e-07\n",
      "PAPI_BR_TKN  7.182062e-03 2.893195e-06 9.144278e-06 4.024647e-05 6.101269e-07\n",
      "PAPI_BR_MSP  9.919781e-05 2.695399e-04 2.291463e-03 1.152104e-05 1.060775e-08\n",
      "PAPI_FP_OPS  1.414358e-04 2.413227e-05 3.764346e-05 3.360108e-04 2.757029e-06\n",
      "PAPI_L1_LDM  7.666108e-05 5.622991e-04 9.920162e-05 8.635384e-06 9.883804e-05\n",
      "PAPI_L1_STM  1.495601e-06 1.182332e-04 3.727234e-04 2.834051e-06 1.766705e-04\n",
      "PAPI_LD_INS  2.376435e-04 4.122194e-05 2.480050e-05 2.640599e-06 3.052053e-07\n",
      "PAPI_L2_STM  6.757503e-05 9.864878e-05 2.559989e-04 1.717928e-05 1.558750e-04\n",
      "PAPI_TLB_DM  7.152190e-05 3.640709e-05 5.296625e-04 7.358861e-06 1.074019e-07\n",
      "PAPI_L2_DCH  3.228238e-05 6.878803e-05 1.373015e-05 3.211102e-06 1.486817e-07\n",
      "                     PC16         PC17\n",
      "PAPI_L1_DCM  1.107058e-09 8.460014e-11\n",
      "PAPI_L3_TCM  2.143090e-11 8.285134e-12\n",
      "PAPI_TOT_INS 5.200248e-11 3.424973e-10\n",
      "PAPI_REF_CYC 5.266950e-10 2.110881e-11\n",
      "PAPI_L2_LDM  1.847276e-05 4.084167e-09\n",
      "PAPI_SR_INS  7.824591e-10 3.170015e-12\n",
      "PAPI_BR_UCN  7.121417e-12 2.073055e-11\n",
      "PAPI_BR_CN   2.250199e-08 5.267676e-06\n",
      "PAPI_BR_TKN  2.427383e-08 5.206589e-06\n",
      "PAPI_BR_MSP  2.974479e-11 1.121760e-10\n",
      "PAPI_FP_OPS  4.461487e-10 1.792439e-10\n",
      "PAPI_L1_LDM  2.038469e-05 4.144733e-09\n",
      "PAPI_L1_STM  1.100705e-05 3.116956e-10\n",
      "PAPI_LD_INS  1.212231e-09 1.913653e-13\n",
      "PAPI_L2_STM  1.054441e-05 4.498415e-10\n",
      "PAPI_TLB_DM  4.390723e-12 4.873264e-13\n",
      "PAPI_L2_DCH  1.083264e-06 4.437683e-11\n"
     ]
    }
   ],
   "source": [
    "var.cos2 <- var.coord^2\n",
    "print(var.cos2)"
   ]
  },
  {
   "cell_type": "code",
   "execution_count": 39,
   "metadata": {
    "scrolled": false
   },
   "outputs": [
    {
     "name": "stdout",
     "output_type": "stream",
     "text": [
      "                  PC1         PC2          PC3          PC4        PC5\n",
      "PAPI_L1_DCM  7.595453  2.91407852  4.360413229  0.161846444  0.2390231\n",
      "PAPI_L3_TCM  6.589380  3.58121617  0.449404648  0.788287786  2.2493336\n",
      "PAPI_TOT_INS 6.771845  8.79041115  0.009486538  0.336407479  1.6473996\n",
      "PAPI_REF_CYC 7.330383  2.44672459  1.052058708  0.011030953  1.8996397\n",
      "PAPI_L2_LDM  6.102493  5.44570817  0.670030258  4.740331371  0.1326310\n",
      "PAPI_SR_INS  7.344328  3.58947850  0.673004851  0.073687237  3.7599230\n",
      "PAPI_BR_UCN  3.923772  0.03849463  0.361505501 84.823424088  0.9274803\n",
      "PAPI_BR_CN   7.322114  3.75344105  1.652927096  0.004439323  5.3411048\n",
      "PAPI_BR_TKN  7.316794  3.75626389  1.665915442  0.002427858  5.4050015\n",
      "PAPI_BR_MSP  6.984047  1.90700011  4.898763638  0.107922880  4.4556930\n",
      "PAPI_FP_OPS  3.946602 15.63877659  9.423244943  0.853317835  0.8787327\n",
      "PAPI_L1_LDM  6.816266  2.52733335  0.787048543  4.405962815  1.5620672\n",
      "PAPI_L1_STM  6.114600  5.98168241  6.316876988  0.938826177  1.6649461\n",
      "PAPI_LD_INS  5.384836  7.92261877  8.292296687  1.190223131  9.4884048\n",
      "PAPI_L2_STM  5.489268  8.46660816  6.362033290  1.079394821  5.4778467\n",
      "PAPI_TLB_DM  2.321098  7.84511592 52.712288619  0.427969377  3.5304227\n",
      "PAPI_L2_DCH  2.646720 15.39504802  0.312701023  0.054500425 51.3403502\n",
      "                      PC6        PC7        PC8         PC9        PC10\n",
      "PAPI_L1_DCM  5.124521e-01  0.8951604  0.5034432  2.08030891  1.58493156\n",
      "PAPI_L3_TCM  7.780031e-01 28.9291508  1.4547167 32.33989734  0.99995619\n",
      "PAPI_TOT_INS 2.855543e-02  0.1632201  1.7339069  0.96471030 11.45977008\n",
      "PAPI_REF_CYC 3.513918e+00 16.1592816  3.1029966  0.38681969  0.64847103\n",
      "PAPI_L2_LDM  2.969575e+01  1.3750033  0.7562306  0.05030398  0.42691988\n",
      "PAPI_SR_INS  1.200773e-03  0.6578242  7.1937820  0.14398930  0.26848493\n",
      "PAPI_BR_UCN  8.133758e+00  0.5618963  1.0822698  0.07834202  0.01235764\n",
      "PAPI_BR_CN   2.727163e-05  0.7479941 11.1140056  0.95274832  2.92611804\n",
      "PAPI_BR_TKN  1.134238e-04  0.7352587 11.1745959  0.88701819  2.95716426\n",
      "PAPI_BR_MSP  9.479589e-01  1.9708064  4.3812285 53.04436216  2.67778501\n",
      "PAPI_FP_OPS  4.133038e-01 10.7020359 24.4776753  3.13180936  9.76012570\n",
      "PAPI_L1_LDM  2.370237e+01  3.0194521  1.0372054  0.21069521  0.06309665\n",
      "PAPI_L1_STM  1.273672e+01  9.1995343  2.0435716  0.18424387  0.04656092\n",
      "PAPI_LD_INS  1.567960e-01  0.1720081 14.0965931  0.35817905 51.89587992\n",
      "PAPI_L2_STM  1.248109e+01  6.9083586  3.5806107  0.03023158  0.01145705\n",
      "PAPI_TLB_DM  3.600630e+00  0.4961022 11.6165149  1.61990277 11.25790563\n",
      "PAPI_L2_DCH  3.297349e+00 17.3069130  0.6506532  3.53643793  3.00301551\n",
      "                     PC11         PC12        PC13         PC14         PC15\n",
      "PAPI_L1_DCM  1.434272e-07 4.130385e+01 37.40382058 4.345253e-01 8.086957e-03\n",
      "PAPI_L3_TCM  3.796894e-02 9.842531e+00 11.93291691 2.005737e-04 2.692282e-02\n",
      "PAPI_TOT_INS 7.189378e-01 9.868302e-01  2.25023397 6.317424e+01 9.606888e-01\n",
      "PAPI_REF_CYC 3.157677e-02 3.905500e+01 20.89405484 3.430165e+00 3.681851e-02\n",
      "PAPI_L2_LDM  1.502850e-03 2.903042e+00  1.16624649 5.995179e-02 1.641893e+01\n",
      "PAPI_SR_INS  7.020405e+01 2.303777e-01  0.06415999 5.783339e+00 1.106473e-02\n",
      "PAPI_BR_UCN  3.697015e-02 3.433556e-04  0.01917495 6.638602e-07 8.864013e-07\n",
      "PAPI_BR_CN   1.370849e+01 8.535410e-03  0.08733885 2.064593e+00 3.500265e-02\n",
      "PAPI_BR_TKN  1.385633e+01 1.342122e-02  0.06587556 2.346848e+00 1.156314e-01\n",
      "PAPI_BR_MSP  1.913821e-01 1.250367e+00 16.50774140 6.718138e-01 2.010384e-03\n",
      "PAPI_FP_OPS  2.728718e-01 1.119470e-01  0.27118418 1.959343e+01 5.225129e-01\n",
      "PAPI_L1_LDM  1.479020e-01 2.608445e+00  0.71465036 5.035455e-01 1.873182e+01\n",
      "PAPI_L1_STM  2.885459e-03 5.484711e-01  2.68510682 1.652588e-01 3.348265e+01\n",
      "PAPI_LD_INS  4.584850e-01 1.912241e-01  0.17866329 1.539783e-01 5.784261e-02\n",
      "PAPI_L2_STM  1.303723e-01 4.576211e-01  1.84422088 1.001756e+00 2.954148e+01\n",
      "PAPI_TLB_DM  1.379870e-01 1.688886e-01  3.81569867 4.291091e-01 2.035484e-02\n",
      "PAPI_L2_DCH  6.228231e-02 3.191002e-01  0.09891227 1.872454e-01 2.817820e-02\n",
      "                     PC16         PC17\n",
      "PAPI_L1_DCM  1.798832e-03 8.069397e-04\n",
      "PAPI_L3_TCM  3.482257e-05 7.902592e-05\n",
      "PAPI_TOT_INS 8.449762e-05 3.266835e-03\n",
      "PAPI_REF_CYC 8.558144e-04 2.013418e-04\n",
      "PAPI_L2_LDM  3.001596e+01 3.895592e-02\n",
      "PAPI_SR_INS  1.271400e-03 3.023649e-05\n",
      "PAPI_BR_UCN  1.157142e-05 1.977338e-04\n",
      "PAPI_BR_CN   3.656295e-02 5.024456e+01\n",
      "PAPI_BR_TKN  3.944197e-02 4.966189e+01\n",
      "PAPI_BR_MSP  4.833161e-05 1.069966e-03\n",
      "PAPI_FP_OPS  7.249366e-04 1.709679e-03\n",
      "PAPI_L1_LDM  3.312261e+01 3.953361e-02\n",
      "PAPI_L1_STM  1.788509e+01 2.973040e-03\n",
      "PAPI_LD_INS  1.969726e-03 1.825296e-06\n",
      "PAPI_L2_STM  1.713336e+01 4.290713e-03\n",
      "PAPI_TLB_DM  7.134383e-06 4.648255e-06\n",
      "PAPI_L2_DCH  1.760170e+00 4.232786e-04\n"
     ]
    }
   ],
   "source": [
    "comp.cos2 <- apply(var.cos2, 2, sum)\n",
    "\n",
    "contrib <- function(var.cos2, comp.cos2){var.cos2*100/comp.cos2}\n",
    "\n",
    "var.contrib <- t(apply(var.cos2,1, contrib, comp.cos2))\n",
    "print(var.contrib)"
   ]
  },
  {
   "cell_type": "code",
   "execution_count": 40,
   "metadata": {},
   "outputs": [
    {
     "name": "stdout",
     "output_type": "stream",
     "text": [
      " PAPI_L1_DCM  PAPI_SR_INS PAPI_REF_CYC   PAPI_BR_CN  PAPI_BR_TKN  PAPI_BR_MSP \n",
      "    7.595453     7.344328     7.330383     7.322114     7.316794     6.984047 \n",
      " PAPI_L1_LDM PAPI_TOT_INS  PAPI_L3_TCM  PAPI_L1_STM  PAPI_L2_LDM  PAPI_L2_STM \n",
      "    6.816266     6.771845     6.589380     6.114600     6.102493     5.489268 \n",
      " PAPI_LD_INS  PAPI_FP_OPS  PAPI_BR_UCN  PAPI_L2_DCH  PAPI_TLB_DM \n",
      "    5.384836     3.946602     3.923772     2.646720     2.321098 \n"
     ]
    }
   ],
   "source": [
    "print(sort(var.contrib[,'PC1'],decreasing=TRUE))"
   ]
  },
  {
   "cell_type": "code",
   "execution_count": 41,
   "metadata": {},
   "outputs": [
    {
     "name": "stdout",
     "output_type": "stream",
     "text": [
      " PAPI_FP_OPS  PAPI_L2_DCH PAPI_TOT_INS  PAPI_L2_STM  PAPI_LD_INS  PAPI_TLB_DM \n",
      " 15.63877659  15.39504802   8.79041115   8.46660816   7.92261877   7.84511592 \n",
      " PAPI_L1_STM  PAPI_L2_LDM  PAPI_BR_TKN   PAPI_BR_CN  PAPI_SR_INS  PAPI_L3_TCM \n",
      "  5.98168241   5.44570817   3.75626389   3.75344105   3.58947850   3.58121617 \n",
      " PAPI_L1_DCM  PAPI_L1_LDM PAPI_REF_CYC  PAPI_BR_MSP  PAPI_BR_UCN \n",
      "  2.91407852   2.52733335   2.44672459   1.90700011   0.03849463 \n"
     ]
    }
   ],
   "source": [
    "print(sort(var.contrib[,'PC2'],decreasing=TRUE))"
   ]
  },
  {
   "cell_type": "code",
   "execution_count": 42,
   "metadata": {},
   "outputs": [
    {
     "name": "stdout",
     "output_type": "stream",
     "text": [
      " PAPI_TLB_DM  PAPI_FP_OPS  PAPI_LD_INS  PAPI_L2_STM  PAPI_L1_STM  PAPI_BR_MSP \n",
      "52.712288619  9.423244943  8.292296687  6.362033290  6.316876988  4.898763638 \n",
      " PAPI_L1_DCM  PAPI_BR_TKN   PAPI_BR_CN PAPI_REF_CYC  PAPI_L1_LDM  PAPI_SR_INS \n",
      " 4.360413229  1.665915442  1.652927096  1.052058708  0.787048543  0.673004851 \n",
      " PAPI_L2_LDM  PAPI_L3_TCM  PAPI_BR_UCN  PAPI_L2_DCH PAPI_TOT_INS \n",
      " 0.670030258  0.449404648  0.361505501  0.312701023  0.009486538 \n"
     ]
    }
   ],
   "source": [
    "print(sort(var.contrib[,'PC3'],decreasing=TRUE))"
   ]
  },
  {
   "cell_type": "code",
   "execution_count": 43,
   "metadata": {},
   "outputs": [
    {
     "data": {},
     "metadata": {},
     "output_type": "display_data"
    },
    {
     "data": {
      "image/png": "[encoded data removed]",
      "text/plain": [
       "plot without title"
      ]
     },
     "metadata": {},
     "output_type": "display_data"
    }
   ],
   "source": [
    "fviz_pca_var(res.pca, col.var=\"contrib\") + scale_color_gradient2(low=\"white\", mid=\"blue\", high=\"red\", midpoint=50) + theme_minimal()"
   ]
  },
  {
   "cell_type": "code",
   "execution_count": 44,
   "metadata": {
    "scrolled": false
   },
   "outputs": [
    {
     "ename": "ERROR",
     "evalue": "Error in `[.data.frame`(mydata, , 5:61): undefined columns selected\n",
     "output_type": "error",
     "traceback": [
      "Error in `[.data.frame`(mydata, , 5:61): undefined columns selected\nTraceback:\n",
      "1. mydata[, 5:61]",
      "2. `[.data.frame`(mydata, , 5:61)",
      "3. stop(\"undefined columns selected\")"
     ]
    }
   ],
   "source": [
    "new_mydata1 = mydata[,5:61]\n",
    "new_mydata1 <- subset(new_mydata1, select = -c(PAPI_TOT_CYC))\n",
    "new_mydata1 <- subset(new_mydata1, select = -c(PAPI_TLB_DM))\n",
    "new_mydata1 <- subset(new_mydata1, select = -c(PAPI_FP_INS))\n",
    "new_mydata1 <- subset(new_mydata1, select = -c(PAPI_L2_TCW))\n",
    "new_mydata1 <- subset(new_mydata1, select = -c(PAPI_L2_DCW))\n",
    "new_mydata1 <- subset(new_mydata1, select = -c(PAPI_L3_TCA))\n",
    "new_mydata1 <- subset(new_mydata1, select = -c(PAPI_L2_DCA))\n",
    "new_mydata1 <- subset(new_mydata1, select = -c(PAPI_L3_TCW))\n",
    "new_mydata1 <- subset(new_mydata1, select = -c(PAPI_L3_DCW))\n",
    "new_mydata1 <- subset(new_mydata1, select = -c(PAPI_L3_DCA))\n",
    "new_mydata1 <- subset(new_mydata1, select = -c(PAPI_L3_TCR))\n",
    "new_mydata1 <- subset(new_mydata1, select = -c(PAPI_L3_DCR))\n",
    "new_mydata1 <- subset(new_mydata1, select = -c(PAPI_L2_DCR))\n",
    "new_mydata1 <- subset(new_mydata1, select = -c(PAPI_L2_TCR))\n",
    "new_mydata1 <- subset(new_mydata1, select = -c(PAPI_L2_TCA))\n",
    "new_mydata1 <- subset(new_mydata1, select = -c(PAPI_L2_DCM))\n",
    "new_mydata1 <- subset(new_mydata1, select = -c(PAPI_BR_INS))\n",
    "\n",
    "new_mydata1 <- subset(new_mydata1, select = -c(PAPI_L1_ICA))\n",
    "new_mydata1 <- subset(new_mydata1, select = -c(PAPI_L1_ICH))\n",
    "new_mydata1 <- subset(new_mydata1, select = -c(PAPI_L1_ICM))\n",
    "new_mydata1 <- subset(new_mydata1, select = -c(PAPI_L1_ICR))\n",
    "new_mydata1 <- subset(new_mydata1, select = -c(PAPI_L2_ICA))\n",
    "new_mydata1 <- subset(new_mydata1, select = -c(PAPI_L2_ICH))\n",
    "new_mydata1 <- subset(new_mydata1, select = -c(PAPI_L2_ICM))\n",
    "new_mydata1 <- subset(new_mydata1, select = -c(PAPI_L2_ICR))\n",
    "new_mydata1 <- subset(new_mydata1, select = -c(PAPI_L3_ICA))\n",
    "new_mydata1 <- subset(new_mydata1, select = -c(PAPI_L3_ICR))\n",
    "new_mydata1 <- subset(new_mydata1, select = -c(PAPI_L1_TCM))\n",
    "new_mydata1 <- subset(new_mydata1, select = -c(PAPI_L2_TCH))\n",
    "new_mydata1 <- subset(new_mydata1, select = -c(PAPI_L2_TCM))\n",
    "new_mydata1 <- subset(new_mydata1, select = -c(PAPI_TLB_IM))\n",
    "new_mydata1 <- subset(new_mydata1, select = -c(PAPI_RES_STL))\n",
    "new_mydata1 <- subset(new_mydata1, select = -c(PAPI_BR_PRC))\n",
    "new_mydata1 <- subset(new_mydata1, select = -c(PAPI_BR_MSP))\n",
    "\n",
    "\n",
    "\n",
    "\n",
    "new_mydata1 <- subset(new_mydata1, select = -c(PAPI_VEC_DP))\n",
    "new_mydata1 <- subset(new_mydata1, select = -c(PAPI_VEC_SP))\n",
    "\n",
    "my_data_ordered1 <- new_mydata1[,order(colnames(new_mydata1))]\n",
    "\n",
    "\n",
    "options(repr.matrix.max.rows = 100)\n",
    "options(repr.matrix.max.cols = 100)\n",
    "res1 <- cor(my_data_ordered1)\n",
    "dim(res1)\n",
    "round(res1, 2)"
   ]
  },
  {
   "cell_type": "code",
   "execution_count": null,
   "metadata": {},
   "outputs": [],
   "source": [
    "library(corrplot)\n",
    "\n",
    "\n",
    "corrplot(res1, tl.col = \"black\", tl.srt = 90, tl.cex = 0.7, method= \"square\", order = \"AOE\", number.cex = 0.5)"
   ]
  },
  {
   "cell_type": "code",
   "execution_count": null,
   "metadata": {},
   "outputs": [],
   "source": [
    "corrplot(res1, tl.col = \"black\", tl.srt = 90, tl.cex = 0.7, method= \"square\", order = \"hclust\", number.cex = 0.5, addrect=2)"
   ]
  },
  {
   "cell_type": "code",
   "execution_count": null,
   "metadata": {},
   "outputs": [],
   "source": [
    "corrplot(res1, tl.col = \"black\", tl.srt = 90, tl.cex = 0.7, method= \"square\", order = \"hclust\", number.cex = 0.5, addrect=3)"
   ]
  },
  {
   "cell_type": "code",
   "execution_count": null,
   "metadata": {},
   "outputs": [],
   "source": [
    "corrplot(res1, tl.col = \"black\", tl.srt = 90, tl.cex = 0.7, method= \"square\", order = \"hclust\", number.cex = 0.5, addrect=4)"
   ]
  },
  {
   "cell_type": "code",
   "execution_count": null,
   "metadata": {},
   "outputs": [],
   "source": [
    "corrplot(res1, tl.col = \"black\", tl.srt = 90, tl.cex = 0.7, method= \"square\", order = \"hclust\", number.cex = 0.5, addrect=5)"
   ]
  },
  {
   "cell_type": "code",
   "execution_count": null,
   "metadata": {},
   "outputs": [],
   "source": [
    "corrplot(res1, tl.col = \"black\", tl.srt = 90, tl.cex = 0.7, method= \"square\", order = \"hclust\", number.cex = 0.5, addrect=6)"
   ]
  },
  {
   "cell_type": "code",
   "execution_count": null,
   "metadata": {},
   "outputs": [],
   "source": [
    "corrplot(res1, tl.col = \"black\", tl.srt = 90, tl.cex = 0.7, method= \"square\", order = \"hclust\", number.cex = 0.5, addrect=7)"
   ]
  },
  {
   "cell_type": "code",
   "execution_count": null,
   "metadata": {},
   "outputs": [],
   "source": [
    "corrplot(res1, tl.col = \"black\", tl.srt = 90, tl.cex = 0.7, method= \"square\", order = \"hclust\", number.cex = 0.5, addrect=8)"
   ]
  },
  {
   "cell_type": "code",
   "execution_count": null,
   "metadata": {},
   "outputs": [],
   "source": [
    "corrplot(res1, tl.col = \"black\", tl.srt = 90, tl.cex = 0.7, method= \"square\", order = \"hclust\", number.cex = 0.5, addrect=9)"
   ]
  },
  {
   "cell_type": "code",
   "execution_count": null,
   "metadata": {},
   "outputs": [],
   "source": [
    "corrplot(res1, tl.col = \"black\", tl.srt = 90, tl.cex = 0.7, method= \"square\", order = \"hclust\", number.cex = 0.5, addrect=10)"
   ]
  },
  {
   "cell_type": "code",
   "execution_count": null,
   "metadata": {},
   "outputs": [],
   "source": [
    "corrplot(res1, tl.col = \"black\", tl.srt = 90, tl.cex = 0.7, method= \"square\", order = \"hclust\", number.cex = 0.5, addrect=11)"
   ]
  },
  {
   "cell_type": "code",
   "execution_count": null,
   "metadata": {},
   "outputs": [],
   "source": [
    "corrplot(res1, tl.col = \"black\", tl.srt = 90, tl.cex = 0.7, method= \"square\", order = \"hclust\", number.cex = 0.5, addrect=12)"
   ]
  },
  {
   "cell_type": "code",
   "execution_count": null,
   "metadata": {},
   "outputs": [],
   "source": [
    "corrplot(res1, tl.col = \"black\", tl.srt = 90, tl.cex = 0.7, method= \"square\", order = \"hclust\", number.cex = 0.5, addrect=13)"
   ]
  },
  {
   "cell_type": "code",
   "execution_count": null,
   "metadata": {},
   "outputs": [],
   "source": [
    "corrplot(res1, tl.col = \"black\", tl.srt = 90, tl.cex = 0.7, method= \"square\", order = \"hclust\", number.cex = 0.5, addrect=14)"
   ]
  },
  {
   "cell_type": "code",
   "execution_count": null,
   "metadata": {},
   "outputs": [],
   "source": [
    "corrplot(res1, tl.col = \"black\", tl.srt = 90, tl.cex = 0.7, method= \"square\", order = \"hclust\", number.cex = 0.5, addrect=15)"
   ]
  },
  {
   "cell_type": "code",
   "execution_count": null,
   "metadata": {},
   "outputs": [],
   "source": [
    "corrplot(res1, tl.col = \"black\", tl.srt = 90, tl.cex = 0.7, method= \"square\", order = \"hclust\", number.cex = 0.5, addrect=16)"
   ]
  },
  {
   "cell_type": "code",
   "execution_count": null,
   "metadata": {},
   "outputs": [],
   "source": [
    "corrplot(res1, tl.col = \"black\", tl.srt = 90, tl.cex = 0.7, method= \"square\", order = \"hclust\", number.cex = 0.5, addrect=17)"
   ]
  },
  {
   "cell_type": "code",
   "execution_count": null,
   "metadata": {},
   "outputs": [],
   "source": [
    "corrplot(res1, tl.col = \"black\", tl.srt = 90, tl.cex = 0.7, method= \"square\", order = \"FPC\", number.cex = 0.5)"
   ]
  },
  {
   "cell_type": "code",
   "execution_count": null,
   "metadata": {},
   "outputs": [],
   "source": [
    "corrplot(res1, tl.col = \"black\", tl.srt = 90, tl.cex = 0.7, method= \"square\", order = \"alphabet\", number.cex = 0.5)"
   ]
  },
  {
   "cell_type": "code",
   "execution_count": null,
   "metadata": {},
   "outputs": [],
   "source": []
  }
 ],
 "metadata": {
  "kernelspec": {
   "display_name": "R",
   "language": "R",
   "name": "ir"
  },
  "language_info": {
   "codemirror_mode": "r",
   "file_extension": ".r",
   "mimetype": "text/x-r-source",
   "name": "R",
   "pygments_lexer": "r",
   "version": "3.5.1"
  }
 },
 "nbformat": 4,
 "nbformat_minor": 2
}
