{
 "cells": [
  {
   "cell_type": "code",
   "execution_count": 45,
   "metadata": {},
   "outputs": [],
   "source": [
    "library(\"factoextra\")\n",
    "options(repr.plot.width=12, repr.plot.height=13)"
   ]
  },
  {
   "cell_type": "code",
   "execution_count": 46,
   "metadata": {},
   "outputs": [
    {
     "data": {
      "text/html": [
       "O2\n",
       "<details>\n",
       "\t<summary style=display:list-item;cursor:pointer>\n",
       "\t\t<strong>Levels</strong>:\n",
       "\t</summary>\n",
       "\t'O2'\n",
       "</details>"
      ],
      "text/latex": [
       "O2\n",
       "\\emph{Levels}: 'O2'"
      ],
      "text/markdown": [
       "O2\n",
       "**Levels**: 'O2'"
      ],
      "text/plain": [
       "[1] O2\n",
       "Levels: O2"
      ]
     },
     "metadata": {},
     "output_type": "display_data"
    }
   ],
   "source": [
    "path=\"C:/Users/Jordi/New_Jupyter/\"\n",
    "setwd(path)\n",
    "mydata = read.csv(\"threads_ideal_data_partial_sp_cl+listR.csv\", sep=\";\")\n",
    "unique(mydata[,\"comp_opt\"])"
   ]
  },
  {
   "cell_type": "code",
   "execution_count": 47,
   "metadata": {},
   "outputs": [
    {
     "data": {
      "text/html": [
       "<ol class=list-inline>\n",
       "\t<li>'id'</li>\n",
       "\t<li>'size_vector'</li>\n",
       "\t<li>'comp_opt'</li>\n",
       "\t<li>'label'</li>\n",
       "\t<li>'threads'</li>\n",
       "\t<li>'PAPI_L1_DCM'</li>\n",
       "\t<li>'PAPI_L3_TCM'</li>\n",
       "\t<li>'PAPI_TOT_INS'</li>\n",
       "\t<li>'PAPI_REF_CYC'</li>\n",
       "\t<li>'PAPI_L2_LDM'</li>\n",
       "\t<li>'PAPI_SR_INS'</li>\n",
       "\t<li>'time_x'</li>\n",
       "\t<li>'PAPI_BR_UCN'</li>\n",
       "\t<li>'PAPI_BR_CN'</li>\n",
       "\t<li>'PAPI_BR_TKN'</li>\n",
       "\t<li>'PAPI_BR_MSP'</li>\n",
       "\t<li>'time_y'</li>\n",
       "\t<li>'PAPI_FP_OPS'</li>\n",
       "\t<li>'PAPI_L1_LDM'</li>\n",
       "\t<li>'PAPI_L1_STM'</li>\n",
       "\t<li>'time_x.1'</li>\n",
       "\t<li>'PAPI_SP_OPS'</li>\n",
       "\t<li>'PAPI_LD_INS'</li>\n",
       "\t<li>'PAPI_L2_STM'</li>\n",
       "\t<li>'time_y.1'</li>\n",
       "\t<li>'PAPI_TLB_DM'</li>\n",
       "\t<li>'PAPI_L2_DCH'</li>\n",
       "\t<li>'time'</li>\n",
       "\t<li>'time_log'</li>\n",
       "\t<li>'P_index'</li>\n",
       "\t<li>'ideal'</li>\n",
       "\t<li>'affinity'</li>\n",
       "\t<li>'T_list'</li>\n",
       "\t<li>'P_list'</li>\n",
       "</ol>\n"
      ],
      "text/latex": [
       "\\begin{enumerate*}\n",
       "\\item 'id'\n",
       "\\item 'size\\_vector'\n",
       "\\item 'comp\\_opt'\n",
       "\\item 'label'\n",
       "\\item 'threads'\n",
       "\\item 'PAPI\\_L1\\_DCM'\n",
       "\\item 'PAPI\\_L3\\_TCM'\n",
       "\\item 'PAPI\\_TOT\\_INS'\n",
       "\\item 'PAPI\\_REF\\_CYC'\n",
       "\\item 'PAPI\\_L2\\_LDM'\n",
       "\\item 'PAPI\\_SR\\_INS'\n",
       "\\item 'time\\_x'\n",
       "\\item 'PAPI\\_BR\\_UCN'\n",
       "\\item 'PAPI\\_BR\\_CN'\n",
       "\\item 'PAPI\\_BR\\_TKN'\n",
       "\\item 'PAPI\\_BR\\_MSP'\n",
       "\\item 'time\\_y'\n",
       "\\item 'PAPI\\_FP\\_OPS'\n",
       "\\item 'PAPI\\_L1\\_LDM'\n",
       "\\item 'PAPI\\_L1\\_STM'\n",
       "\\item 'time\\_x.1'\n",
       "\\item 'PAPI\\_SP\\_OPS'\n",
       "\\item 'PAPI\\_LD\\_INS'\n",
       "\\item 'PAPI\\_L2\\_STM'\n",
       "\\item 'time\\_y.1'\n",
       "\\item 'PAPI\\_TLB\\_DM'\n",
       "\\item 'PAPI\\_L2\\_DCH'\n",
       "\\item 'time'\n",
       "\\item 'time\\_log'\n",
       "\\item 'P\\_index'\n",
       "\\item 'ideal'\n",
       "\\item 'affinity'\n",
       "\\item 'T\\_list'\n",
       "\\item 'P\\_list'\n",
       "\\end{enumerate*}\n"
      ],
      "text/markdown": [
       "1. 'id'\n",
       "2. 'size_vector'\n",
       "3. 'comp_opt'\n",
       "4. 'label'\n",
       "5. 'threads'\n",
       "6. 'PAPI_L1_DCM'\n",
       "7. 'PAPI_L3_TCM'\n",
       "8. 'PAPI_TOT_INS'\n",
       "9. 'PAPI_REF_CYC'\n",
       "10. 'PAPI_L2_LDM'\n",
       "11. 'PAPI_SR_INS'\n",
       "12. 'time_x'\n",
       "13. 'PAPI_BR_UCN'\n",
       "14. 'PAPI_BR_CN'\n",
       "15. 'PAPI_BR_TKN'\n",
       "16. 'PAPI_BR_MSP'\n",
       "17. 'time_y'\n",
       "18. 'PAPI_FP_OPS'\n",
       "19. 'PAPI_L1_LDM'\n",
       "20. 'PAPI_L1_STM'\n",
       "21. 'time_x.1'\n",
       "22. 'PAPI_SP_OPS'\n",
       "23. 'PAPI_LD_INS'\n",
       "24. 'PAPI_L2_STM'\n",
       "25. 'time_y.1'\n",
       "26. 'PAPI_TLB_DM'\n",
       "27. 'PAPI_L2_DCH'\n",
       "28. 'time'\n",
       "29. 'time_log'\n",
       "30. 'P_index'\n",
       "31. 'ideal'\n",
       "32. 'affinity'\n",
       "33. 'T_list'\n",
       "34. 'P_list'\n",
       "\n",
       "\n"
      ],
      "text/plain": [
       " [1] \"id\"           \"size_vector\"  \"comp_opt\"     \"label\"        \"threads\"     \n",
       " [6] \"PAPI_L1_DCM\"  \"PAPI_L3_TCM\"  \"PAPI_TOT_INS\" \"PAPI_REF_CYC\" \"PAPI_L2_LDM\" \n",
       "[11] \"PAPI_SR_INS\"  \"time_x\"       \"PAPI_BR_UCN\"  \"PAPI_BR_CN\"   \"PAPI_BR_TKN\" \n",
       "[16] \"PAPI_BR_MSP\"  \"time_y\"       \"PAPI_FP_OPS\"  \"PAPI_L1_LDM\"  \"PAPI_L1_STM\" \n",
       "[21] \"time_x.1\"     \"PAPI_SP_OPS\"  \"PAPI_LD_INS\"  \"PAPI_L2_STM\"  \"time_y.1\"    \n",
       "[26] \"PAPI_TLB_DM\"  \"PAPI_L2_DCH\"  \"time\"         \"time_log\"     \"P_index\"     \n",
       "[31] \"ideal\"        \"affinity\"     \"T_list\"       \"P_list\"      "
      ]
     },
     "metadata": {},
     "output_type": "display_data"
    }
   ],
   "source": [
    "colnames(mydata)"
   ]
  },
  {
   "cell_type": "code",
   "execution_count": 48,
   "metadata": {},
   "outputs": [],
   "source": [
    "library(stringr)\n",
    "colnames(mydata)<-gsub(x = names(mydata), pattern = \"\\\\.\", replacement = \"_\" )"
   ]
  },
  {
   "cell_type": "code",
   "execution_count": 49,
   "metadata": {},
   "outputs": [],
   "source": [
    "#colnames(mydata)"
   ]
  },
  {
   "cell_type": "code",
   "execution_count": 50,
   "metadata": {},
   "outputs": [
    {
     "data": {
      "text/html": [
       "12"
      ],
      "text/latex": [
       "12"
      ],
      "text/markdown": [
       "12"
      ],
      "text/plain": [
       "[1] 12"
      ]
     },
     "metadata": {},
     "output_type": "display_data"
    }
   ],
   "source": [
    "mydata = mydata[mydata$affinity == 'close',]\n",
    "mydata = mydata[mydata$threads == 6,]\n",
    "unique(mydata$threads)\n",
    "mydata_no_time <- subset(mydata, select = -c(P_list))\n",
    "mydata_no_time <- subset(mydata_no_time, select = -c(T_list))\n",
    "mydata_no_time <- subset(mydata_no_time, select = -c(ideal))\n",
    "mydata_no_time <- subset(mydata_no_time, select = -c(P_index))\n",
    "mydata_no_time <- subset(mydata_no_time, select = -c(time_log))\n",
    "mydata_no_time <- subset(mydata_no_time, select = -c(time))\n",
    "mydata_no_time <- subset(mydata_no_time, select = -c(time_y_1))\n",
    "mydata_no_time <- subset(mydata_no_time, select = -c(time_x_1))\n",
    "mydata_no_time <- subset(mydata_no_time, select = -c(time_x))\n",
    "mydata_no_time <- subset(mydata_no_time, select = -c(time_y))\n",
    "mydata_no_time <- subset(mydata_no_time, select = -c(affinity))\n",
    "\n",
    "\n",
    "\n",
    "\n",
    "mydata_no_time <- subset(mydata_no_time, select = -c(PAPI_SP_OPS))\n",
    "\n"
   ]
  },
  {
   "cell_type": "code",
   "execution_count": 51,
   "metadata": {},
   "outputs": [
    {
     "data": {
      "text/html": [
       "<ol class=list-inline>\n",
       "\t<li>'id'</li>\n",
       "\t<li>'size_vector'</li>\n",
       "\t<li>'comp_opt'</li>\n",
       "\t<li>'label'</li>\n",
       "\t<li>'threads'</li>\n",
       "\t<li>'PAPI_L1_DCM'</li>\n",
       "\t<li>'PAPI_L3_TCM'</li>\n",
       "\t<li>'PAPI_TOT_INS'</li>\n",
       "\t<li>'PAPI_REF_CYC'</li>\n",
       "\t<li>'PAPI_L2_LDM'</li>\n",
       "\t<li>'PAPI_SR_INS'</li>\n",
       "\t<li>'PAPI_BR_UCN'</li>\n",
       "\t<li>'PAPI_BR_CN'</li>\n",
       "\t<li>'PAPI_BR_TKN'</li>\n",
       "\t<li>'PAPI_BR_MSP'</li>\n",
       "\t<li>'PAPI_FP_OPS'</li>\n",
       "\t<li>'PAPI_L1_LDM'</li>\n",
       "\t<li>'PAPI_L1_STM'</li>\n",
       "\t<li>'PAPI_LD_INS'</li>\n",
       "\t<li>'PAPI_L2_STM'</li>\n",
       "\t<li>'PAPI_TLB_DM'</li>\n",
       "\t<li>'PAPI_L2_DCH'</li>\n",
       "</ol>\n"
      ],
      "text/latex": [
       "\\begin{enumerate*}\n",
       "\\item 'id'\n",
       "\\item 'size\\_vector'\n",
       "\\item 'comp\\_opt'\n",
       "\\item 'label'\n",
       "\\item 'threads'\n",
       "\\item 'PAPI\\_L1\\_DCM'\n",
       "\\item 'PAPI\\_L3\\_TCM'\n",
       "\\item 'PAPI\\_TOT\\_INS'\n",
       "\\item 'PAPI\\_REF\\_CYC'\n",
       "\\item 'PAPI\\_L2\\_LDM'\n",
       "\\item 'PAPI\\_SR\\_INS'\n",
       "\\item 'PAPI\\_BR\\_UCN'\n",
       "\\item 'PAPI\\_BR\\_CN'\n",
       "\\item 'PAPI\\_BR\\_TKN'\n",
       "\\item 'PAPI\\_BR\\_MSP'\n",
       "\\item 'PAPI\\_FP\\_OPS'\n",
       "\\item 'PAPI\\_L1\\_LDM'\n",
       "\\item 'PAPI\\_L1\\_STM'\n",
       "\\item 'PAPI\\_LD\\_INS'\n",
       "\\item 'PAPI\\_L2\\_STM'\n",
       "\\item 'PAPI\\_TLB\\_DM'\n",
       "\\item 'PAPI\\_L2\\_DCH'\n",
       "\\end{enumerate*}\n"
      ],
      "text/markdown": [
       "1. 'id'\n",
       "2. 'size_vector'\n",
       "3. 'comp_opt'\n",
       "4. 'label'\n",
       "5. 'threads'\n",
       "6. 'PAPI_L1_DCM'\n",
       "7. 'PAPI_L3_TCM'\n",
       "8. 'PAPI_TOT_INS'\n",
       "9. 'PAPI_REF_CYC'\n",
       "10. 'PAPI_L2_LDM'\n",
       "11. 'PAPI_SR_INS'\n",
       "12. 'PAPI_BR_UCN'\n",
       "13. 'PAPI_BR_CN'\n",
       "14. 'PAPI_BR_TKN'\n",
       "15. 'PAPI_BR_MSP'\n",
       "16. 'PAPI_FP_OPS'\n",
       "17. 'PAPI_L1_LDM'\n",
       "18. 'PAPI_L1_STM'\n",
       "19. 'PAPI_LD_INS'\n",
       "20. 'PAPI_L2_STM'\n",
       "21. 'PAPI_TLB_DM'\n",
       "22. 'PAPI_L2_DCH'\n",
       "\n",
       "\n"
      ],
      "text/plain": [
       " [1] \"id\"           \"size_vector\"  \"comp_opt\"     \"label\"        \"threads\"     \n",
       " [6] \"PAPI_L1_DCM\"  \"PAPI_L3_TCM\"  \"PAPI_TOT_INS\" \"PAPI_REF_CYC\" \"PAPI_L2_LDM\" \n",
       "[11] \"PAPI_SR_INS\"  \"PAPI_BR_UCN\"  \"PAPI_BR_CN\"   \"PAPI_BR_TKN\"  \"PAPI_BR_MSP\" \n",
       "[16] \"PAPI_FP_OPS\"  \"PAPI_L1_LDM\"  \"PAPI_L1_STM\"  \"PAPI_LD_INS\"  \"PAPI_L2_STM\" \n",
       "[21] \"PAPI_TLB_DM\"  \"PAPI_L2_DCH\" "
      ]
     },
     "metadata": {},
     "output_type": "display_data"
    }
   ],
   "source": [
    "colnames(mydata_no_time)"
   ]
  },
  {
   "cell_type": "code",
   "execution_count": 52,
   "metadata": {},
   "outputs": [],
   "source": [
    "#mydata = mydata[mydata$comp_opt != 'NF',]\n",
    "#mydata = mydata[mydata$comp_opt != 'O1',]\n",
    "#mydata = mydata[mydata$label != '2D4PStencil_E',]\n",
    "#mydata = mydata[mydata$label != 'Reduction_E',]\n",
    "#mydata = mydata[mydata$label != '2PStencil_E',]\n",
    "\n",
    "#head(mydata)\n",
    "#unique(mydata[,\"comp_opt\"])"
   ]
  },
  {
   "cell_type": "code",
   "execution_count": 53,
   "metadata": {},
   "outputs": [],
   "source": [
    "#head(mydata)"
   ]
  },
  {
   "cell_type": "code",
   "execution_count": 54,
   "metadata": {},
   "outputs": [
    {
     "data": {
      "text/html": [
       "<ol class=list-inline>\n",
       "\t<li>'1 K'</li>\n",
       "\t<li>'2 K'</li>\n",
       "\t<li>'3 K'</li>\n",
       "\t<li>'4 K'</li>\n",
       "\t<li>'5 K'</li>\n",
       "\t<li>'6 K'</li>\n",
       "\t<li>'7 K'</li>\n",
       "\t<li>'8 K'</li>\n",
       "\t<li>'9 K'</li>\n",
       "\t<li>'10 K'</li>\n",
       "\t<li>'20 K'</li>\n",
       "\t<li>'30 K'</li>\n",
       "\t<li>'40 K'</li>\n",
       "\t<li>'50 K'</li>\n",
       "\t<li>'60 K'</li>\n",
       "\t<li>'70 K'</li>\n",
       "\t<li>'80 K'</li>\n",
       "\t<li>'90 K'</li>\n",
       "\t<li>'100 K'</li>\n",
       "\t<li>'200 K'</li>\n",
       "\t<li>'300 K'</li>\n",
       "\t<li>'400 K'</li>\n",
       "\t<li>'500 K'</li>\n",
       "\t<li>'600 K'</li>\n",
       "\t<li>'700 K'</li>\n",
       "\t<li>'800 K'</li>\n",
       "\t<li>'900 K'</li>\n",
       "\t<li>'1 M'</li>\n",
       "\t<li>'2 M'</li>\n",
       "\t<li>'3 M'</li>\n",
       "\t<li>'5 M'</li>\n",
       "\t<li>'7 M'</li>\n",
       "\t<li>'9 M'</li>\n",
       "\t<li>'20 M'</li>\n",
       "\t<li>'40 M'</li>\n",
       "\t<li>'60 M'</li>\n",
       "\t<li>'80 M'</li>\n",
       "\t<li>'100 M'</li>\n",
       "\t<li>'120 M'</li>\n",
       "\t<li>'140 M'</li>\n",
       "\t<li>'160 M'</li>\n",
       "\t<li>'180 M'</li>\n",
       "\t<li>'200 M'</li>\n",
       "</ol>\n"
      ],
      "text/latex": [
       "\\begin{enumerate*}\n",
       "\\item '1 K'\n",
       "\\item '2 K'\n",
       "\\item '3 K'\n",
       "\\item '4 K'\n",
       "\\item '5 K'\n",
       "\\item '6 K'\n",
       "\\item '7 K'\n",
       "\\item '8 K'\n",
       "\\item '9 K'\n",
       "\\item '10 K'\n",
       "\\item '20 K'\n",
       "\\item '30 K'\n",
       "\\item '40 K'\n",
       "\\item '50 K'\n",
       "\\item '60 K'\n",
       "\\item '70 K'\n",
       "\\item '80 K'\n",
       "\\item '90 K'\n",
       "\\item '100 K'\n",
       "\\item '200 K'\n",
       "\\item '300 K'\n",
       "\\item '400 K'\n",
       "\\item '500 K'\n",
       "\\item '600 K'\n",
       "\\item '700 K'\n",
       "\\item '800 K'\n",
       "\\item '900 K'\n",
       "\\item '1 M'\n",
       "\\item '2 M'\n",
       "\\item '3 M'\n",
       "\\item '5 M'\n",
       "\\item '7 M'\n",
       "\\item '9 M'\n",
       "\\item '20 M'\n",
       "\\item '40 M'\n",
       "\\item '60 M'\n",
       "\\item '80 M'\n",
       "\\item '100 M'\n",
       "\\item '120 M'\n",
       "\\item '140 M'\n",
       "\\item '160 M'\n",
       "\\item '180 M'\n",
       "\\item '200 M'\n",
       "\\end{enumerate*}\n"
      ],
      "text/markdown": [
       "1. '1 K'\n",
       "2. '2 K'\n",
       "3. '3 K'\n",
       "4. '4 K'\n",
       "5. '5 K'\n",
       "6. '6 K'\n",
       "7. '7 K'\n",
       "8. '8 K'\n",
       "9. '9 K'\n",
       "10. '10 K'\n",
       "11. '20 K'\n",
       "12. '30 K'\n",
       "13. '40 K'\n",
       "14. '50 K'\n",
       "15. '60 K'\n",
       "16. '70 K'\n",
       "17. '80 K'\n",
       "18. '90 K'\n",
       "19. '100 K'\n",
       "20. '200 K'\n",
       "21. '300 K'\n",
       "22. '400 K'\n",
       "23. '500 K'\n",
       "24. '600 K'\n",
       "25. '700 K'\n",
       "26. '800 K'\n",
       "27. '900 K'\n",
       "28. '1 M'\n",
       "29. '2 M'\n",
       "30. '3 M'\n",
       "31. '5 M'\n",
       "32. '7 M'\n",
       "33. '9 M'\n",
       "34. '20 M'\n",
       "35. '40 M'\n",
       "36. '60 M'\n",
       "37. '80 M'\n",
       "38. '100 M'\n",
       "39. '120 M'\n",
       "40. '140 M'\n",
       "41. '160 M'\n",
       "42. '180 M'\n",
       "43. '200 M'\n",
       "\n",
       "\n"
      ],
      "text/plain": [
       " [1] \"1 K\"   \"2 K\"   \"3 K\"   \"4 K\"   \"5 K\"   \"6 K\"   \"7 K\"   \"8 K\"   \"9 K\"  \n",
       "[10] \"10 K\"  \"20 K\"  \"30 K\"  \"40 K\"  \"50 K\"  \"60 K\"  \"70 K\"  \"80 K\"  \"90 K\" \n",
       "[19] \"100 K\" \"200 K\" \"300 K\" \"400 K\" \"500 K\" \"600 K\" \"700 K\" \"800 K\" \"900 K\"\n",
       "[28] \"1 M\"   \"2 M\"   \"3 M\"   \"5 M\"   \"7 M\"   \"9 M\"   \"20 M\"  \"40 M\"  \"60 M\" \n",
       "[37] \"80 M\"  \"100 M\" \"120 M\" \"140 M\" \"160 M\" \"180 M\" \"200 M\""
      ]
     },
     "metadata": {},
     "output_type": "display_data"
    }
   ],
   "source": [
    "dfu <- unique(mydata_no_time$size_vector)\n",
    "#dfu[order(dfu)]\n",
    "\n",
    "comprss <- function(tx) { \n",
    "      div <- findInterval(as.numeric(gsub(\"\\\\,\", \"\", tx)), \n",
    "                          c(1, 1e3, 1e6, 1e9, 1e12) )\n",
    "      paste(round( as.numeric(gsub(\"\\\\,\",\"\",tx))/10^(3*(div-1)), 2), \n",
    "           c(\"\",\"K\",\"M\",\"B\",\"T\")[div] )}\n",
    "comprss(dfu[order(dfu)])\n",
    "\n"
   ]
  },
  {
   "cell_type": "code",
   "execution_count": 55,
   "metadata": {},
   "outputs": [],
   "source": [
    "#print(new_mydata[,c(\"PAPI_VEC_SP\",\"PAPI_VEC_DP\")])\n",
    "#print(mydata[,c(\"PAPI_VEC_SP\",\"PAPI_SP_OPS\")])"
   ]
  },
  {
   "cell_type": "code",
   "execution_count": 56,
   "metadata": {},
   "outputs": [],
   "source": [
    "#div = mydata$PAPI_SP_OPS/mydata$PAPI_VEC_SP\n",
    "#div <- na.omit(div)\n",
    "#subs = mydata$PAPI_BR_INS-(mydata$PAPI_BR_CN + mydata$PAPI_BR_UCN)"
   ]
  },
  {
   "cell_type": "code",
   "execution_count": 57,
   "metadata": {
    "scrolled": false
   },
   "outputs": [],
   "source": [
    "#mean(div)\n",
    "#quantile(div,0.25)\n",
    "#quantile(div,0.5)\n",
    "#quantile(div,0.75)\n",
    "#boxplot(div)"
   ]
  },
  {
   "cell_type": "code",
   "execution_count": 58,
   "metadata": {
    "scrolled": true
   },
   "outputs": [],
   "source": [
    "#print(mydata[,c(\"PAPI_BR_INS\",\"PAPI_BR_CN\",\"PAPI_BR_UCN\")])#subs = mydata$PAPI_BR_INS-(mydata$PAPI_BR_CN/mydata$PAPI_BR_UCN)\n",
    "#print(subs)\n",
    "#perc = subs/mydata$PAPI_BR_INS\n",
    "\n",
    "#head(percent(perc[order(perc,decreasing = TRUE)]))"
   ]
  },
  {
   "cell_type": "code",
   "execution_count": 59,
   "metadata": {},
   "outputs": [
    {
     "data": {
      "text/html": [
       "TRUE"
      ],
      "text/latex": [
       "TRUE"
      ],
      "text/markdown": [
       "TRUE"
      ],
      "text/plain": [
       "[1] TRUE"
      ]
     },
     "metadata": {},
     "output_type": "display_data"
    }
   ],
   "source": [
    "#all(new_mydata$PAPI_VEC_SP == new_mydata$PAPI_VEC_DP)\n",
    "all(mydata_no_time$PAPI_DP_SP == mydata_no_time$PAPI_SP_OPS)"
   ]
  },
  {
   "cell_type": "code",
   "execution_count": 60,
   "metadata": {},
   "outputs": [
    {
     "data": {
      "text/html": [
       "<ol class=list-inline>\n",
       "\t<li>'id'</li>\n",
       "\t<li>'size_vector'</li>\n",
       "\t<li>'comp_opt'</li>\n",
       "\t<li>'label'</li>\n",
       "\t<li>'threads'</li>\n",
       "\t<li>'PAPI_L1_DCM'</li>\n",
       "\t<li>'PAPI_L3_TCM'</li>\n",
       "\t<li>'PAPI_TOT_INS'</li>\n",
       "\t<li>'PAPI_REF_CYC'</li>\n",
       "\t<li>'PAPI_L2_LDM'</li>\n",
       "\t<li>'PAPI_SR_INS'</li>\n",
       "\t<li>'PAPI_BR_UCN'</li>\n",
       "\t<li>'PAPI_BR_CN'</li>\n",
       "\t<li>'PAPI_BR_TKN'</li>\n",
       "\t<li>'PAPI_BR_MSP'</li>\n",
       "\t<li>'PAPI_FP_OPS'</li>\n",
       "\t<li>'PAPI_L1_LDM'</li>\n",
       "\t<li>'PAPI_L1_STM'</li>\n",
       "\t<li>'PAPI_LD_INS'</li>\n",
       "\t<li>'PAPI_L2_STM'</li>\n",
       "\t<li>'PAPI_TLB_DM'</li>\n",
       "\t<li>'PAPI_L2_DCH'</li>\n",
       "</ol>\n"
      ],
      "text/latex": [
       "\\begin{enumerate*}\n",
       "\\item 'id'\n",
       "\\item 'size\\_vector'\n",
       "\\item 'comp\\_opt'\n",
       "\\item 'label'\n",
       "\\item 'threads'\n",
       "\\item 'PAPI\\_L1\\_DCM'\n",
       "\\item 'PAPI\\_L3\\_TCM'\n",
       "\\item 'PAPI\\_TOT\\_INS'\n",
       "\\item 'PAPI\\_REF\\_CYC'\n",
       "\\item 'PAPI\\_L2\\_LDM'\n",
       "\\item 'PAPI\\_SR\\_INS'\n",
       "\\item 'PAPI\\_BR\\_UCN'\n",
       "\\item 'PAPI\\_BR\\_CN'\n",
       "\\item 'PAPI\\_BR\\_TKN'\n",
       "\\item 'PAPI\\_BR\\_MSP'\n",
       "\\item 'PAPI\\_FP\\_OPS'\n",
       "\\item 'PAPI\\_L1\\_LDM'\n",
       "\\item 'PAPI\\_L1\\_STM'\n",
       "\\item 'PAPI\\_LD\\_INS'\n",
       "\\item 'PAPI\\_L2\\_STM'\n",
       "\\item 'PAPI\\_TLB\\_DM'\n",
       "\\item 'PAPI\\_L2\\_DCH'\n",
       "\\end{enumerate*}\n"
      ],
      "text/markdown": [
       "1. 'id'\n",
       "2. 'size_vector'\n",
       "3. 'comp_opt'\n",
       "4. 'label'\n",
       "5. 'threads'\n",
       "6. 'PAPI_L1_DCM'\n",
       "7. 'PAPI_L3_TCM'\n",
       "8. 'PAPI_TOT_INS'\n",
       "9. 'PAPI_REF_CYC'\n",
       "10. 'PAPI_L2_LDM'\n",
       "11. 'PAPI_SR_INS'\n",
       "12. 'PAPI_BR_UCN'\n",
       "13. 'PAPI_BR_CN'\n",
       "14. 'PAPI_BR_TKN'\n",
       "15. 'PAPI_BR_MSP'\n",
       "16. 'PAPI_FP_OPS'\n",
       "17. 'PAPI_L1_LDM'\n",
       "18. 'PAPI_L1_STM'\n",
       "19. 'PAPI_LD_INS'\n",
       "20. 'PAPI_L2_STM'\n",
       "21. 'PAPI_TLB_DM'\n",
       "22. 'PAPI_L2_DCH'\n",
       "\n",
       "\n"
      ],
      "text/plain": [
       " [1] \"id\"           \"size_vector\"  \"comp_opt\"     \"label\"        \"threads\"     \n",
       " [6] \"PAPI_L1_DCM\"  \"PAPI_L3_TCM\"  \"PAPI_TOT_INS\" \"PAPI_REF_CYC\" \"PAPI_L2_LDM\" \n",
       "[11] \"PAPI_SR_INS\"  \"PAPI_BR_UCN\"  \"PAPI_BR_CN\"   \"PAPI_BR_TKN\"  \"PAPI_BR_MSP\" \n",
       "[16] \"PAPI_FP_OPS\"  \"PAPI_L1_LDM\"  \"PAPI_L1_STM\"  \"PAPI_LD_INS\"  \"PAPI_L2_STM\" \n",
       "[21] \"PAPI_TLB_DM\"  \"PAPI_L2_DCH\" "
      ]
     },
     "metadata": {},
     "output_type": "display_data"
    }
   ],
   "source": [
    "colnames(mydata_no_time)"
   ]
  },
  {
   "cell_type": "code",
   "execution_count": 61,
   "metadata": {},
   "outputs": [
    {
     "data": {
      "text/html": [
       "<ol class=list-inline>\n",
       "\t<li>'PAPI_L1_DCM'</li>\n",
       "\t<li>'PAPI_L3_TCM'</li>\n",
       "\t<li>'PAPI_TOT_INS'</li>\n",
       "\t<li>'PAPI_REF_CYC'</li>\n",
       "\t<li>'PAPI_L2_LDM'</li>\n",
       "\t<li>'PAPI_SR_INS'</li>\n",
       "\t<li>'PAPI_BR_UCN'</li>\n",
       "\t<li>'PAPI_BR_CN'</li>\n",
       "\t<li>'PAPI_BR_TKN'</li>\n",
       "\t<li>'PAPI_BR_MSP'</li>\n",
       "\t<li>'PAPI_FP_OPS'</li>\n",
       "\t<li>'PAPI_L1_LDM'</li>\n",
       "\t<li>'PAPI_L1_STM'</li>\n",
       "\t<li>'PAPI_LD_INS'</li>\n",
       "\t<li>'PAPI_L2_STM'</li>\n",
       "\t<li>'PAPI_TLB_DM'</li>\n",
       "\t<li>'PAPI_L2_DCH'</li>\n",
       "</ol>\n"
      ],
      "text/latex": [
       "\\begin{enumerate*}\n",
       "\\item 'PAPI\\_L1\\_DCM'\n",
       "\\item 'PAPI\\_L3\\_TCM'\n",
       "\\item 'PAPI\\_TOT\\_INS'\n",
       "\\item 'PAPI\\_REF\\_CYC'\n",
       "\\item 'PAPI\\_L2\\_LDM'\n",
       "\\item 'PAPI\\_SR\\_INS'\n",
       "\\item 'PAPI\\_BR\\_UCN'\n",
       "\\item 'PAPI\\_BR\\_CN'\n",
       "\\item 'PAPI\\_BR\\_TKN'\n",
       "\\item 'PAPI\\_BR\\_MSP'\n",
       "\\item 'PAPI\\_FP\\_OPS'\n",
       "\\item 'PAPI\\_L1\\_LDM'\n",
       "\\item 'PAPI\\_L1\\_STM'\n",
       "\\item 'PAPI\\_LD\\_INS'\n",
       "\\item 'PAPI\\_L2\\_STM'\n",
       "\\item 'PAPI\\_TLB\\_DM'\n",
       "\\item 'PAPI\\_L2\\_DCH'\n",
       "\\end{enumerate*}\n"
      ],
      "text/markdown": [
       "1. 'PAPI_L1_DCM'\n",
       "2. 'PAPI_L3_TCM'\n",
       "3. 'PAPI_TOT_INS'\n",
       "4. 'PAPI_REF_CYC'\n",
       "5. 'PAPI_L2_LDM'\n",
       "6. 'PAPI_SR_INS'\n",
       "7. 'PAPI_BR_UCN'\n",
       "8. 'PAPI_BR_CN'\n",
       "9. 'PAPI_BR_TKN'\n",
       "10. 'PAPI_BR_MSP'\n",
       "11. 'PAPI_FP_OPS'\n",
       "12. 'PAPI_L1_LDM'\n",
       "13. 'PAPI_L1_STM'\n",
       "14. 'PAPI_LD_INS'\n",
       "15. 'PAPI_L2_STM'\n",
       "16. 'PAPI_TLB_DM'\n",
       "17. 'PAPI_L2_DCH'\n",
       "\n",
       "\n"
      ],
      "text/plain": [
       " [1] \"PAPI_L1_DCM\"  \"PAPI_L3_TCM\"  \"PAPI_TOT_INS\" \"PAPI_REF_CYC\" \"PAPI_L2_LDM\" \n",
       " [6] \"PAPI_SR_INS\"  \"PAPI_BR_UCN\"  \"PAPI_BR_CN\"   \"PAPI_BR_TKN\"  \"PAPI_BR_MSP\" \n",
       "[11] \"PAPI_FP_OPS\"  \"PAPI_L1_LDM\"  \"PAPI_L1_STM\"  \"PAPI_LD_INS\"  \"PAPI_L2_STM\" \n",
       "[16] \"PAPI_TLB_DM\"  \"PAPI_L2_DCH\" "
      ]
     },
     "metadata": {},
     "output_type": "display_data"
    }
   ],
   "source": [
    "colnames(mydata_no_time[6:ncol(mydata_no_time)])"
   ]
  },
  {
   "cell_type": "code",
   "execution_count": 62,
   "metadata": {},
   "outputs": [
    {
     "data": {
      "text/html": [
       "<ol class=list-inline>\n",
       "\t<li>64500</li>\n",
       "\t<li>17</li>\n",
       "</ol>\n"
      ],
      "text/latex": [
       "\\begin{enumerate*}\n",
       "\\item 64500\n",
       "\\item 17\n",
       "\\end{enumerate*}\n"
      ],
      "text/markdown": [
       "1. 64500\n",
       "2. 17\n",
       "\n",
       "\n"
      ],
      "text/plain": [
       "[1] 64500    17"
      ]
     },
     "metadata": {},
     "output_type": "display_data"
    }
   ],
   "source": [
    "new_mydata = mydata_no_time[,6:ncol(mydata_no_time)]\n",
    "dim(new_mydata)\n"
   ]
  },
  {
   "cell_type": "code",
   "execution_count": 63,
   "metadata": {
    "scrolled": true
   },
   "outputs": [
    {
     "data": {
      "text/html": [
       "<table>\n",
       "<thead><tr><th></th><th scope=col>PAPI_L1_DCM</th><th scope=col>PAPI_L3_TCM</th><th scope=col>PAPI_TOT_INS</th><th scope=col>PAPI_REF_CYC</th><th scope=col>PAPI_L2_LDM</th><th scope=col>PAPI_SR_INS</th><th scope=col>PAPI_BR_UCN</th><th scope=col>PAPI_BR_CN</th><th scope=col>PAPI_BR_TKN</th><th scope=col>PAPI_BR_MSP</th><th scope=col>PAPI_FP_OPS</th><th scope=col>PAPI_L1_LDM</th><th scope=col>PAPI_L1_STM</th><th scope=col>PAPI_LD_INS</th><th scope=col>PAPI_L2_STM</th><th scope=col>PAPI_TLB_DM</th><th scope=col>PAPI_L2_DCH</th></tr></thead>\n",
       "<tbody>\n",
       "\t<tr><th scope=row>790501</th><td>6979   </td><td>908    </td><td>1785339</td><td>3621114</td><td>2412   </td><td>37762  </td><td>8370   </td><td>493325 </td><td>281156 </td><td>1890   </td><td>87     </td><td>5099   </td><td>1252   </td><td>338241 </td><td>729    </td><td>326    </td><td>3399   </td></tr>\n",
       "\t<tr><th scope=row>790502</th><td>4731   </td><td>172    </td><td>3494398</td><td>6618708</td><td> 982   </td><td>36439  </td><td>8092   </td><td>883153 </td><td>491630 </td><td>1533   </td><td>45     </td><td>3305   </td><td> 883   </td><td>534823 </td><td>394    </td><td> 49    </td><td>2964   </td></tr>\n",
       "\t<tr><th scope=row>790503</th><td>4430   </td><td>170    </td><td>3532713</td><td>6666930</td><td> 671   </td><td>36429  </td><td>8122   </td><td>906755 </td><td>503242 </td><td>1497   </td><td>47     </td><td>3543   </td><td> 845   </td><td>501111 </td><td>210    </td><td> 27    </td><td>2708   </td></tr>\n",
       "\t<tr><th scope=row>790504</th><td>4191   </td><td>152    </td><td>3592922</td><td>6799068</td><td> 845   </td><td>36429  </td><td>8082   </td><td>865553 </td><td>482227 </td><td>1474   </td><td>45     </td><td>2851   </td><td> 662   </td><td>500036 </td><td>194    </td><td> 47    </td><td>2983   </td></tr>\n",
       "\t<tr><th scope=row>790505</th><td>3665   </td><td>117    </td><td>3427617</td><td>6498450</td><td> 570   </td><td>36440  </td><td>8099   </td><td>862250 </td><td>480821 </td><td>1446   </td><td>45     </td><td>3036   </td><td> 746   </td><td>517422 </td><td>187    </td><td> 30    </td><td>2796   </td></tr>\n",
       "\t<tr><th scope=row>790506</th><td>3975   </td><td>106    </td><td>3419219</td><td>6470226</td><td> 592   </td><td>36429  </td><td>8109   </td><td>866898 </td><td>483466 </td><td>1506   </td><td>45     </td><td>2906   </td><td> 623   </td><td>498582 </td><td>169    </td><td> 33    </td><td>2915   </td></tr>\n",
       "\t<tr><th scope=row>790507</th><td>3958   </td><td>118    </td><td>3494062</td><td>6607890</td><td> 607   </td><td>36429  </td><td>8099   </td><td>878947 </td><td>488915 </td><td>1444   </td><td>45     </td><td>2922   </td><td> 720   </td><td>499717 </td><td>194    </td><td> 40    </td><td>2741   </td></tr>\n",
       "\t<tr><th scope=row>790508</th><td>4002   </td><td>116    </td><td>3482682</td><td>6586722</td><td> 606   </td><td>36440  </td><td>8076   </td><td>861209 </td><td>480835 </td><td>1444   </td><td>45     </td><td>2929   </td><td> 720   </td><td>494978 </td><td>168    </td><td> 36    </td><td>2925   </td></tr>\n",
       "\t<tr><th scope=row>790509</th><td>3704   </td><td>111    </td><td>3410205</td><td>6449562</td><td> 606   </td><td>36429  </td><td>8091   </td><td>921034 </td><td>510109 </td><td>1530   </td><td>45     </td><td>2847   </td><td> 607   </td><td>495566 </td><td>179    </td><td> 31    </td><td>2694   </td></tr>\n",
       "\t<tr><th scope=row>790510</th><td>3928   </td><td>108    </td><td>3453541</td><td>6525576</td><td> 608   </td><td>36429  </td><td>8088   </td><td>881369 </td><td>490065 </td><td>1425   </td><td>45     </td><td>3124   </td><td> 745   </td><td>539375 </td><td>208    </td><td> 28    </td><td>3005   </td></tr>\n",
       "\t<tr><th scope=row>790511</th><td>3998   </td><td>125    </td><td>3498792</td><td>6611940</td><td> 579   </td><td>36429  </td><td>8094   </td><td>862900 </td><td>480876 </td><td>1429   </td><td>45     </td><td>3012   </td><td> 733   </td><td>496957 </td><td>182    </td><td> 44    </td><td>2861   </td></tr>\n",
       "\t<tr><th scope=row>790512</th><td>3695   </td><td>128    </td><td>3419709</td><td>6467760</td><td> 598   </td><td>36440  </td><td>8072   </td><td>849675 </td><td>474114 </td><td>1426   </td><td>45     </td><td>2896   </td><td> 639   </td><td>502143 </td><td>196    </td><td> 30    </td><td>2700   </td></tr>\n",
       "\t<tr><th scope=row>790513</th><td>3997   </td><td>124    </td><td>3408501</td><td>6441858</td><td> 581   </td><td>36429  </td><td>8082   </td><td>878904 </td><td>488339 </td><td>1424   </td><td>45     </td><td>3061   </td><td> 744   </td><td>506244 </td><td>177    </td><td> 34    </td><td>2992   </td></tr>\n",
       "\t<tr><th scope=row>790514</th><td>4021   </td><td>143    </td><td>3475146</td><td>6579882</td><td> 602   </td><td>36429  </td><td>8090   </td><td>875360 </td><td>487065 </td><td>1461   </td><td>45     </td><td>2864   </td><td> 616   </td><td>510787 </td><td>193    </td><td> 32    </td><td>2694   </td></tr>\n",
       "\t<tr><th scope=row>790515</th><td>4296   </td><td>139    </td><td>3671663</td><td>6960960</td><td> 773   </td><td>36441  </td><td>8086   </td><td>847125 </td><td>472666 </td><td>1393   </td><td>45     </td><td>2963   </td><td> 715   </td><td>512627 </td><td>173    </td><td> 32    </td><td>2816   </td></tr>\n",
       "\t<tr><th scope=row>790516</th><td>3697   </td><td>131    </td><td>3429554</td><td>6507234</td><td> 611   </td><td>36429  </td><td>8104   </td><td>914243 </td><td>506130 </td><td>1485   </td><td>45     </td><td>3229   </td><td> 745   </td><td>508132 </td><td>176    </td><td> 24    </td><td>2767   </td></tr>\n",
       "\t<tr><th scope=row>790517</th><td>3934   </td><td>124    </td><td>3429966</td><td>6485940</td><td> 590   </td><td>36430  </td><td>8086   </td><td>869588 </td><td>484360 </td><td>1461   </td><td>46     </td><td>2833   </td><td> 632   </td><td>531041 </td><td>212    </td><td> 32    </td><td>2818   </td></tr>\n",
       "\t<tr><th scope=row>790518</th><td>3983   </td><td>113    </td><td>3511657</td><td>6630228</td><td> 661   </td><td>36429  </td><td>8068   </td><td>857968 </td><td>478558 </td><td>1408   </td><td>45     </td><td>3106   </td><td> 716   </td><td>517162 </td><td>188    </td><td> 24    </td><td>2710   </td></tr>\n",
       "\t<tr><th scope=row>790519</th><td>3624   </td><td>114    </td><td>3401691</td><td>6468624</td><td> 574   </td><td>36440  </td><td>8101   </td><td>890628 </td><td>494466 </td><td>1431   </td><td>45     </td><td>2890   </td><td> 615   </td><td>506538 </td><td>190    </td><td> 34    </td><td>2921   </td></tr>\n",
       "\t<tr><th scope=row>790520</th><td>3847   </td><td>132    </td><td>3367642</td><td>6364908</td><td> 599   </td><td>36429  </td><td>8076   </td><td>848529 </td><td>473440 </td><td>1390   </td><td>45     </td><td>2974   </td><td> 746   </td><td>507416 </td><td>190    </td><td> 35    </td><td>2809   </td></tr>\n",
       "\t<tr><th scope=row>790521</th><td>3875   </td><td>146    </td><td>3446577</td><td>6527412</td><td> 609   </td><td>36429  </td><td>8090   </td><td>853906 </td><td>475976 </td><td>1404   </td><td>45     </td><td>3022   </td><td> 721   </td><td>517315 </td><td>182    </td><td> 25    </td><td>2928   </td></tr>\n",
       "\t<tr><th scope=row>790522</th><td>3988   </td><td>145    </td><td>3457527</td><td>6546942</td><td> 608   </td><td>36441  </td><td>8083   </td><td>951237 </td><td>525054 </td><td>1527   </td><td>45     </td><td>2800   </td><td> 598   </td><td>514692 </td><td>191    </td><td> 30    </td><td>2827   </td></tr>\n",
       "\t<tr><th scope=row>790523</th><td>3646   </td><td>143    </td><td>3380987</td><td>6404040</td><td> 569   </td><td>36429  </td><td>8054   </td><td>851214 </td><td>475217 </td><td>1408   </td><td>45     </td><td>2930   </td><td> 708   </td><td>509710 </td><td>178    </td><td> 26    </td><td>2865   </td></tr>\n",
       "\t<tr><th scope=row>790524</th><td>3891   </td><td>146    </td><td>3389133</td><td>6420402</td><td> 595   </td><td>36429  </td><td>8075   </td><td>854499 </td><td>476310 </td><td>1422   </td><td>45     </td><td>2987   </td><td> 708   </td><td>514666 </td><td>198    </td><td> 28    </td><td>2714   </td></tr>\n",
       "\t<tr><th scope=row>790525</th><td>4106   </td><td>148    </td><td>3527637</td><td>6662808</td><td> 653   </td><td>36431  </td><td>8109   </td><td>888534 </td><td>493632 </td><td>1480   </td><td>49     </td><td>2818   </td><td> 617   </td><td>507585 </td><td>184    </td><td> 26    </td><td>2924   </td></tr>\n",
       "\t<tr><th scope=row>790526</th><td>3619   </td><td>145    </td><td>3391505</td><td>6416496</td><td> 593   </td><td>36440  </td><td>8087   </td><td>853205 </td><td>475838 </td><td>1428   </td><td>45     </td><td>3020   </td><td> 704   </td><td>517256 </td><td>204    </td><td> 26    </td><td>2778   </td></tr>\n",
       "\t<tr><th scope=row>790527</th><td>3895   </td><td>130    </td><td>3406997</td><td>6451686</td><td> 609   </td><td>36429  </td><td>8068   </td><td>862305 </td><td>480769 </td><td>1430   </td><td>45     </td><td>2808   </td><td> 611   </td><td>513057 </td><td>184    </td><td> 40    </td><td>2953   </td></tr>\n",
       "\t<tr><th scope=row>790528</th><td>3846   </td><td>128    </td><td>3412844</td><td>6456366</td><td> 598   </td><td>36429  </td><td>8101   </td><td>876291 </td><td>488044 </td><td>1450   </td><td>45     </td><td>2930   </td><td> 706   </td><td>507082 </td><td>197    </td><td> 25    </td><td>2714   </td></tr>\n",
       "\t<tr><th scope=row>790529</th><td>3889   </td><td>117    </td><td>3528292</td><td>6677262</td><td> 667   </td><td>36441  </td><td>8074   </td><td>862295 </td><td>479992 </td><td>1422   </td><td>45     </td><td>3327   </td><td> 727   </td><td>526698 </td><td>204    </td><td> 32    </td><td>3008   </td></tr>\n",
       "\t<tr><th scope=row>790530</th><td>3570   </td><td>101    </td><td>3382455</td><td>6398640</td><td> 552   </td><td>36429  </td><td>8121   </td><td>880546 </td><td>490036 </td><td>1492   </td><td>45     </td><td>2806   </td><td> 625   </td><td>503844 </td><td>188    </td><td> 29    </td><td>2735   </td></tr>\n",
       "\t<tr><th scope=row>...</th><td>...</td><td>...</td><td>...</td><td>...</td><td>...</td><td>...</td><td>...</td><td>...</td><td>...</td><td>...</td><td>...</td><td>...</td><td>...</td><td>...</td><td>...</td><td>...</td><td>...</td></tr>\n",
       "\t<tr><th scope=row>1540471</th><td>3794   </td><td>107    </td><td>3302241</td><td>6276474</td><td>527    </td><td>34442  </td><td>8066   </td><td>841808 </td><td>469266 </td><td>1395   </td><td>36094  </td><td>3050   </td><td>615    </td><td>457322 </td><td>123    </td><td>32     </td><td>2886   </td></tr>\n",
       "\t<tr><th scope=row>1540472</th><td>3951   </td><td> 99    </td><td>3422471</td><td>6404940</td><td>589    </td><td>34431  </td><td>8080   </td><td>851008 </td><td>475130 </td><td>1446   </td><td>36092  </td><td>2718   </td><td>529    </td><td>497086 </td><td>141    </td><td>38     </td><td>3092   </td></tr>\n",
       "\t<tr><th scope=row>1540473</th><td>3806   </td><td>102    </td><td>3300841</td><td>6181380</td><td>510    </td><td>34431  </td><td>8057   </td><td>853417 </td><td>474640 </td><td>1440   </td><td>36100  </td><td>3022   </td><td>611    </td><td>457730 </td><td>137    </td><td>34     </td><td>2816   </td></tr>\n",
       "\t<tr><th scope=row>1540474</th><td>3858   </td><td>104    </td><td>3355891</td><td>6287454</td><td>540    </td><td>34443  </td><td>8070   </td><td>845332 </td><td>471249 </td><td>1435   </td><td>36091  </td><td>2822   </td><td>531    </td><td>460286 </td><td>149    </td><td>32     </td><td>3101   </td></tr>\n",
       "\t<tr><th scope=row>1540475</th><td>3588   </td><td>103    </td><td>3280902</td><td>6145326</td><td>512    </td><td>34431  </td><td>8064   </td><td>831194 </td><td>464449 </td><td>1415   </td><td>36098  </td><td>3096   </td><td>607    </td><td>469400 </td><td>131    </td><td>29     </td><td>2835   </td></tr>\n",
       "\t<tr><th scope=row>1540476</th><td>3930   </td><td>103    </td><td>3432921</td><td>6426468</td><td>552    </td><td>34431  </td><td>8044   </td><td>854501 </td><td>475599 </td><td>1406   </td><td>36097  </td><td>2897   </td><td>552    </td><td>463525 </td><td>133    </td><td>38     </td><td>3067   </td></tr>\n",
       "\t<tr><th scope=row>1540477</th><td>4307   </td><td>111    </td><td>3517271</td><td>6609528</td><td>671    </td><td>34443  </td><td>8065   </td><td>893391 </td><td>495028 </td><td>1479   </td><td>36089  </td><td>3025   </td><td>598    </td><td>456502 </td><td>134    </td><td>31     </td><td>2830   </td></tr>\n",
       "\t<tr><th scope=row>1540478</th><td>3665   </td><td>114    </td><td>3293548</td><td>6169554</td><td>501    </td><td>34431  </td><td>8041   </td><td>838453 </td><td>467360 </td><td>1371   </td><td>36093  </td><td>3069   </td><td>628    </td><td>456857 </td><td>140    </td><td>36     </td><td>3070   </td></tr>\n",
       "\t<tr><th scope=row>1540479</th><td>3920   </td><td>104    </td><td>3325319</td><td>6237414</td><td>539    </td><td>34431  </td><td>8034   </td><td>856390 </td><td>476690 </td><td>1397   </td><td>36086  </td><td>2802   </td><td>538    </td><td>461314 </td><td>131    </td><td>31     </td><td>2886   </td></tr>\n",
       "\t<tr><th scope=row>1540480</th><td>3908   </td><td>107    </td><td>3327319</td><td>6233670</td><td>529    </td><td>34434  </td><td>8007   </td><td>828287 </td><td>468882 </td><td>1415   </td><td>36089  </td><td>3034   </td><td>618    </td><td>471821 </td><td>136    </td><td>37     </td><td>3074   </td></tr>\n",
       "\t<tr><th scope=row>1540481</th><td>3936   </td><td>116    </td><td>3475914</td><td>6524388</td><td>625    </td><td>34431  </td><td>8006   </td><td>838587 </td><td>467279 </td><td>1382   </td><td>36097  </td><td>2795   </td><td>533    </td><td>465029 </td><td>134    </td><td>30     </td><td>2815   </td></tr>\n",
       "\t<tr><th scope=row>1540482</th><td>4238   </td><td>117    </td><td>3461677</td><td>6485904</td><td>614    </td><td>34431  </td><td>8083   </td><td>867271 </td><td>481948 </td><td>1468   </td><td>36096  </td><td>2977   </td><td>615    </td><td>458383 </td><td>132    </td><td>36     </td><td>3078   </td></tr>\n",
       "\t<tr><th scope=row>1540483</th><td>4256   </td><td>107    </td><td>3583093</td><td>6702282</td><td>666    </td><td>34431  </td><td>8082   </td><td>832708 </td><td>465379 </td><td>1404   </td><td>36091  </td><td>2883   </td><td>548    </td><td>488347 </td><td>153    </td><td>34     </td><td>2891   </td></tr>\n",
       "\t<tr><th scope=row>1540484</th><td>4208   </td><td>104    </td><td>3526224</td><td>6603588</td><td>644    </td><td>34443  </td><td>8048   </td><td>845575 </td><td>471048 </td><td>1394   </td><td>36096  </td><td>3057   </td><td>605    </td><td>459502 </td><td>136    </td><td>37     </td><td>3266   </td></tr>\n",
       "\t<tr><th scope=row>1540485</th><td>3775   </td><td>114    </td><td>3453558</td><td>6472602</td><td>562    </td><td>34431  </td><td>8041   </td><td>870794 </td><td>484661 </td><td>1450   </td><td>36112  </td><td>3247   </td><td>662    </td><td>458606 </td><td>139    </td><td>30     </td><td>2841   </td></tr>\n",
       "\t<tr><th scope=row>1540486</th><td>4093   </td><td>103    </td><td>3496219</td><td>6547212</td><td>589    </td><td>34431  </td><td>8035   </td><td>836689 </td><td>467216 </td><td>1398   </td><td>36092  </td><td>2862   </td><td>547    </td><td>455665 </td><td>135    </td><td>32     </td><td>3024   </td></tr>\n",
       "\t<tr><th scope=row>1540487</th><td>4137   </td><td>102    </td><td>3573292</td><td>6688746</td><td>645    </td><td>34434  </td><td>8047   </td><td>844550 </td><td>470398 </td><td>1402   </td><td>36090  </td><td>3109   </td><td>646    </td><td>457966 </td><td>143    </td><td>34     </td><td>2841   </td></tr>\n",
       "\t<tr><th scope=row>1540488</th><td>3552   </td><td>101    </td><td>3301357</td><td>6185394</td><td>519    </td><td>34438  </td><td>8034   </td><td>843668 </td><td>469791 </td><td>1377   </td><td>36088  </td><td>2797   </td><td>536    </td><td>467808 </td><td>131    </td><td>35     </td><td>3052   </td></tr>\n",
       "\t<tr><th scope=row>1540489</th><td>3776   </td><td>103    </td><td>3313411</td><td>6213672</td><td>513    </td><td>34431  </td><td>8037   </td><td>835961 </td><td>466159 </td><td>1371   </td><td>36096  </td><td>2982   </td><td>609    </td><td>459645 </td><td>125    </td><td>30     </td><td>3003   </td></tr>\n",
       "\t<tr><th scope=row>1540490</th><td>3923   </td><td>105    </td><td>3389581</td><td>6349644</td><td>534    </td><td>34431  </td><td>8092   </td><td>898405 </td><td>497955 </td><td>1502   </td><td>36096  </td><td>2800   </td><td>537    </td><td>491654 </td><td>152    </td><td>34     </td><td>3141   </td></tr>\n",
       "\t<tr><th scope=row>1540491</th><td>3495   </td><td>102    </td><td>3289122</td><td>6161994</td><td>464    </td><td>34442  </td><td>8052   </td><td>837025 </td><td>466777 </td><td>1391   </td><td>36088  </td><td>3182   </td><td>688    </td><td>468966 </td><td>133    </td><td>31     </td><td>2895   </td></tr>\n",
       "\t<tr><th scope=row>1540492</th><td>3825   </td><td> 90    </td><td>3307932</td><td>6195096</td><td>530    </td><td>34431  </td><td>8066   </td><td>839669 </td><td>468446 </td><td>1395   </td><td>36099  </td><td>2799   </td><td>534    </td><td>465657 </td><td>138    </td><td>36     </td><td>3107   </td></tr>\n",
       "\t<tr><th scope=row>1540493</th><td>3769   </td><td>113    </td><td>3290560</td><td>6175998</td><td>527    </td><td>34431  </td><td>8051   </td><td>830196 </td><td>468318 </td><td>1413   </td><td>36084  </td><td>2981   </td><td>616    </td><td>458041 </td><td>134    </td><td>34     </td><td>2845   </td></tr>\n",
       "\t<tr><th scope=row>1540494</th><td>4115   </td><td>101    </td><td>3575023</td><td>6707232</td><td>683    </td><td>34443  </td><td>8048   </td><td>839043 </td><td>467419 </td><td>1390   </td><td>36095  </td><td>3307   </td><td>654    </td><td>462136 </td><td>145    </td><td>36     </td><td>3038   </td></tr>\n",
       "\t<tr><th scope=row>1540495</th><td>3525   </td><td>109    </td><td>3282190</td><td>6160500</td><td>480    </td><td>34431  </td><td>8044   </td><td>851654 </td><td>474574 </td><td>1446   </td><td>36103  </td><td>2884   </td><td>599    </td><td>456193 </td><td>140    </td><td>32     </td><td>2884   </td></tr>\n",
       "\t<tr><th scope=row>1540496</th><td>3766   </td><td> 96    </td><td>3272918</td><td>6129360</td><td>499    </td><td>34431  </td><td>8047   </td><td>834198 </td><td>465185 </td><td>1412   </td><td>36098  </td><td>2970   </td><td>613    </td><td>471050 </td><td>134    </td><td>35     </td><td>3128   </td></tr>\n",
       "\t<tr><th scope=row>1540497</th><td>3758   </td><td>106    </td><td>3352320</td><td>6281172</td><td>569    </td><td>34440  </td><td>8053   </td><td>837407 </td><td>466573 </td><td>1392   </td><td>36119  </td><td>2785   </td><td>533    </td><td>455142 </td><td>121    </td><td>33     </td><td>2918   </td></tr>\n",
       "\t<tr><th scope=row>1540498</th><td>3596   </td><td>109    </td><td>3337757</td><td>6254856</td><td>526    </td><td>34431  </td><td>8069   </td><td>849757 </td><td>473518 </td><td>1431   </td><td>36144  </td><td>3079   </td><td>629    </td><td>461333 </td><td>140    </td><td>35     </td><td>3101   </td></tr>\n",
       "\t<tr><th scope=row>1540499</th><td>3828   </td><td> 94    </td><td>3279014</td><td>6139116</td><td>484    </td><td>34431  </td><td>8026   </td><td>830549 </td><td>463648 </td><td>1365   </td><td>36097  </td><td>2887   </td><td>563    </td><td>476662 </td><td>140    </td><td>31     </td><td>2861   </td></tr>\n",
       "\t<tr><th scope=row>1540500</th><td>3823   </td><td> 99    </td><td>3419916</td><td>6408792</td><td>690    </td><td>34431  </td><td>8055   </td><td>842722 </td><td>469234 </td><td>1393   </td><td>36097  </td><td>3019   </td><td>602    </td><td>459484 </td><td>145    </td><td>33     </td><td>3148   </td></tr>\n",
       "</tbody>\n",
       "</table>\n"
      ],
      "text/latex": [
       "\\begin{tabular}{r|lllllllllllllllll}\n",
       "  & PAPI\\_L1\\_DCM & PAPI\\_L3\\_TCM & PAPI\\_TOT\\_INS & PAPI\\_REF\\_CYC & PAPI\\_L2\\_LDM & PAPI\\_SR\\_INS & PAPI\\_BR\\_UCN & PAPI\\_BR\\_CN & PAPI\\_BR\\_TKN & PAPI\\_BR\\_MSP & PAPI\\_FP\\_OPS & PAPI\\_L1\\_LDM & PAPI\\_L1\\_STM & PAPI\\_LD\\_INS & PAPI\\_L2\\_STM & PAPI\\_TLB\\_DM & PAPI\\_L2\\_DCH\\\\\n",
       "\\hline\n",
       "\t790501 & 6979    & 908     & 1785339 & 3621114 & 2412    & 37762   & 8370    & 493325  & 281156  & 1890    & 87      & 5099    & 1252    & 338241  & 729     & 326     & 3399   \\\\\n",
       "\t790502 & 4731    & 172     & 3494398 & 6618708 &  982    & 36439   & 8092    & 883153  & 491630  & 1533    & 45      & 3305    &  883    & 534823  & 394     &  49     & 2964   \\\\\n",
       "\t790503 & 4430    & 170     & 3532713 & 6666930 &  671    & 36429   & 8122    & 906755  & 503242  & 1497    & 47      & 3543    &  845    & 501111  & 210     &  27     & 2708   \\\\\n",
       "\t790504 & 4191    & 152     & 3592922 & 6799068 &  845    & 36429   & 8082    & 865553  & 482227  & 1474    & 45      & 2851    &  662    & 500036  & 194     &  47     & 2983   \\\\\n",
       "\t790505 & 3665    & 117     & 3427617 & 6498450 &  570    & 36440   & 8099    & 862250  & 480821  & 1446    & 45      & 3036    &  746    & 517422  & 187     &  30     & 2796   \\\\\n",
       "\t790506 & 3975    & 106     & 3419219 & 6470226 &  592    & 36429   & 8109    & 866898  & 483466  & 1506    & 45      & 2906    &  623    & 498582  & 169     &  33     & 2915   \\\\\n",
       "\t790507 & 3958    & 118     & 3494062 & 6607890 &  607    & 36429   & 8099    & 878947  & 488915  & 1444    & 45      & 2922    &  720    & 499717  & 194     &  40     & 2741   \\\\\n",
       "\t790508 & 4002    & 116     & 3482682 & 6586722 &  606    & 36440   & 8076    & 861209  & 480835  & 1444    & 45      & 2929    &  720    & 494978  & 168     &  36     & 2925   \\\\\n",
       "\t790509 & 3704    & 111     & 3410205 & 6449562 &  606    & 36429   & 8091    & 921034  & 510109  & 1530    & 45      & 2847    &  607    & 495566  & 179     &  31     & 2694   \\\\\n",
       "\t790510 & 3928    & 108     & 3453541 & 6525576 &  608    & 36429   & 8088    & 881369  & 490065  & 1425    & 45      & 3124    &  745    & 539375  & 208     &  28     & 3005   \\\\\n",
       "\t790511 & 3998    & 125     & 3498792 & 6611940 &  579    & 36429   & 8094    & 862900  & 480876  & 1429    & 45      & 3012    &  733    & 496957  & 182     &  44     & 2861   \\\\\n",
       "\t790512 & 3695    & 128     & 3419709 & 6467760 &  598    & 36440   & 8072    & 849675  & 474114  & 1426    & 45      & 2896    &  639    & 502143  & 196     &  30     & 2700   \\\\\n",
       "\t790513 & 3997    & 124     & 3408501 & 6441858 &  581    & 36429   & 8082    & 878904  & 488339  & 1424    & 45      & 3061    &  744    & 506244  & 177     &  34     & 2992   \\\\\n",
       "\t790514 & 4021    & 143     & 3475146 & 6579882 &  602    & 36429   & 8090    & 875360  & 487065  & 1461    & 45      & 2864    &  616    & 510787  & 193     &  32     & 2694   \\\\\n",
       "\t790515 & 4296    & 139     & 3671663 & 6960960 &  773    & 36441   & 8086    & 847125  & 472666  & 1393    & 45      & 2963    &  715    & 512627  & 173     &  32     & 2816   \\\\\n",
       "\t790516 & 3697    & 131     & 3429554 & 6507234 &  611    & 36429   & 8104    & 914243  & 506130  & 1485    & 45      & 3229    &  745    & 508132  & 176     &  24     & 2767   \\\\\n",
       "\t790517 & 3934    & 124     & 3429966 & 6485940 &  590    & 36430   & 8086    & 869588  & 484360  & 1461    & 46      & 2833    &  632    & 531041  & 212     &  32     & 2818   \\\\\n",
       "\t790518 & 3983    & 113     & 3511657 & 6630228 &  661    & 36429   & 8068    & 857968  & 478558  & 1408    & 45      & 3106    &  716    & 517162  & 188     &  24     & 2710   \\\\\n",
       "\t790519 & 3624    & 114     & 3401691 & 6468624 &  574    & 36440   & 8101    & 890628  & 494466  & 1431    & 45      & 2890    &  615    & 506538  & 190     &  34     & 2921   \\\\\n",
       "\t790520 & 3847    & 132     & 3367642 & 6364908 &  599    & 36429   & 8076    & 848529  & 473440  & 1390    & 45      & 2974    &  746    & 507416  & 190     &  35     & 2809   \\\\\n",
       "\t790521 & 3875    & 146     & 3446577 & 6527412 &  609    & 36429   & 8090    & 853906  & 475976  & 1404    & 45      & 3022    &  721    & 517315  & 182     &  25     & 2928   \\\\\n",
       "\t790522 & 3988    & 145     & 3457527 & 6546942 &  608    & 36441   & 8083    & 951237  & 525054  & 1527    & 45      & 2800    &  598    & 514692  & 191     &  30     & 2827   \\\\\n",
       "\t790523 & 3646    & 143     & 3380987 & 6404040 &  569    & 36429   & 8054    & 851214  & 475217  & 1408    & 45      & 2930    &  708    & 509710  & 178     &  26     & 2865   \\\\\n",
       "\t790524 & 3891    & 146     & 3389133 & 6420402 &  595    & 36429   & 8075    & 854499  & 476310  & 1422    & 45      & 2987    &  708    & 514666  & 198     &  28     & 2714   \\\\\n",
       "\t790525 & 4106    & 148     & 3527637 & 6662808 &  653    & 36431   & 8109    & 888534  & 493632  & 1480    & 49      & 2818    &  617    & 507585  & 184     &  26     & 2924   \\\\\n",
       "\t790526 & 3619    & 145     & 3391505 & 6416496 &  593    & 36440   & 8087    & 853205  & 475838  & 1428    & 45      & 3020    &  704    & 517256  & 204     &  26     & 2778   \\\\\n",
       "\t790527 & 3895    & 130     & 3406997 & 6451686 &  609    & 36429   & 8068    & 862305  & 480769  & 1430    & 45      & 2808    &  611    & 513057  & 184     &  40     & 2953   \\\\\n",
       "\t790528 & 3846    & 128     & 3412844 & 6456366 &  598    & 36429   & 8101    & 876291  & 488044  & 1450    & 45      & 2930    &  706    & 507082  & 197     &  25     & 2714   \\\\\n",
       "\t790529 & 3889    & 117     & 3528292 & 6677262 &  667    & 36441   & 8074    & 862295  & 479992  & 1422    & 45      & 3327    &  727    & 526698  & 204     &  32     & 3008   \\\\\n",
       "\t790530 & 3570    & 101     & 3382455 & 6398640 &  552    & 36429   & 8121    & 880546  & 490036  & 1492    & 45      & 2806    &  625    & 503844  & 188     &  29     & 2735   \\\\\n",
       "\t... & ... & ... & ... & ... & ... & ... & ... & ... & ... & ... & ... & ... & ... & ... & ... & ... & ...\\\\\n",
       "\t1540471 & 3794    & 107     & 3302241 & 6276474 & 527     & 34442   & 8066    & 841808  & 469266  & 1395    & 36094   & 3050    & 615     & 457322  & 123     & 32      & 2886   \\\\\n",
       "\t1540472 & 3951    &  99     & 3422471 & 6404940 & 589     & 34431   & 8080    & 851008  & 475130  & 1446    & 36092   & 2718    & 529     & 497086  & 141     & 38      & 3092   \\\\\n",
       "\t1540473 & 3806    & 102     & 3300841 & 6181380 & 510     & 34431   & 8057    & 853417  & 474640  & 1440    & 36100   & 3022    & 611     & 457730  & 137     & 34      & 2816   \\\\\n",
       "\t1540474 & 3858    & 104     & 3355891 & 6287454 & 540     & 34443   & 8070    & 845332  & 471249  & 1435    & 36091   & 2822    & 531     & 460286  & 149     & 32      & 3101   \\\\\n",
       "\t1540475 & 3588    & 103     & 3280902 & 6145326 & 512     & 34431   & 8064    & 831194  & 464449  & 1415    & 36098   & 3096    & 607     & 469400  & 131     & 29      & 2835   \\\\\n",
       "\t1540476 & 3930    & 103     & 3432921 & 6426468 & 552     & 34431   & 8044    & 854501  & 475599  & 1406    & 36097   & 2897    & 552     & 463525  & 133     & 38      & 3067   \\\\\n",
       "\t1540477 & 4307    & 111     & 3517271 & 6609528 & 671     & 34443   & 8065    & 893391  & 495028  & 1479    & 36089   & 3025    & 598     & 456502  & 134     & 31      & 2830   \\\\\n",
       "\t1540478 & 3665    & 114     & 3293548 & 6169554 & 501     & 34431   & 8041    & 838453  & 467360  & 1371    & 36093   & 3069    & 628     & 456857  & 140     & 36      & 3070   \\\\\n",
       "\t1540479 & 3920    & 104     & 3325319 & 6237414 & 539     & 34431   & 8034    & 856390  & 476690  & 1397    & 36086   & 2802    & 538     & 461314  & 131     & 31      & 2886   \\\\\n",
       "\t1540480 & 3908    & 107     & 3327319 & 6233670 & 529     & 34434   & 8007    & 828287  & 468882  & 1415    & 36089   & 3034    & 618     & 471821  & 136     & 37      & 3074   \\\\\n",
       "\t1540481 & 3936    & 116     & 3475914 & 6524388 & 625     & 34431   & 8006    & 838587  & 467279  & 1382    & 36097   & 2795    & 533     & 465029  & 134     & 30      & 2815   \\\\\n",
       "\t1540482 & 4238    & 117     & 3461677 & 6485904 & 614     & 34431   & 8083    & 867271  & 481948  & 1468    & 36096   & 2977    & 615     & 458383  & 132     & 36      & 3078   \\\\\n",
       "\t1540483 & 4256    & 107     & 3583093 & 6702282 & 666     & 34431   & 8082    & 832708  & 465379  & 1404    & 36091   & 2883    & 548     & 488347  & 153     & 34      & 2891   \\\\\n",
       "\t1540484 & 4208    & 104     & 3526224 & 6603588 & 644     & 34443   & 8048    & 845575  & 471048  & 1394    & 36096   & 3057    & 605     & 459502  & 136     & 37      & 3266   \\\\\n",
       "\t1540485 & 3775    & 114     & 3453558 & 6472602 & 562     & 34431   & 8041    & 870794  & 484661  & 1450    & 36112   & 3247    & 662     & 458606  & 139     & 30      & 2841   \\\\\n",
       "\t1540486 & 4093    & 103     & 3496219 & 6547212 & 589     & 34431   & 8035    & 836689  & 467216  & 1398    & 36092   & 2862    & 547     & 455665  & 135     & 32      & 3024   \\\\\n",
       "\t1540487 & 4137    & 102     & 3573292 & 6688746 & 645     & 34434   & 8047    & 844550  & 470398  & 1402    & 36090   & 3109    & 646     & 457966  & 143     & 34      & 2841   \\\\\n",
       "\t1540488 & 3552    & 101     & 3301357 & 6185394 & 519     & 34438   & 8034    & 843668  & 469791  & 1377    & 36088   & 2797    & 536     & 467808  & 131     & 35      & 3052   \\\\\n",
       "\t1540489 & 3776    & 103     & 3313411 & 6213672 & 513     & 34431   & 8037    & 835961  & 466159  & 1371    & 36096   & 2982    & 609     & 459645  & 125     & 30      & 3003   \\\\\n",
       "\t1540490 & 3923    & 105     & 3389581 & 6349644 & 534     & 34431   & 8092    & 898405  & 497955  & 1502    & 36096   & 2800    & 537     & 491654  & 152     & 34      & 3141   \\\\\n",
       "\t1540491 & 3495    & 102     & 3289122 & 6161994 & 464     & 34442   & 8052    & 837025  & 466777  & 1391    & 36088   & 3182    & 688     & 468966  & 133     & 31      & 2895   \\\\\n",
       "\t1540492 & 3825    &  90     & 3307932 & 6195096 & 530     & 34431   & 8066    & 839669  & 468446  & 1395    & 36099   & 2799    & 534     & 465657  & 138     & 36      & 3107   \\\\\n",
       "\t1540493 & 3769    & 113     & 3290560 & 6175998 & 527     & 34431   & 8051    & 830196  & 468318  & 1413    & 36084   & 2981    & 616     & 458041  & 134     & 34      & 2845   \\\\\n",
       "\t1540494 & 4115    & 101     & 3575023 & 6707232 & 683     & 34443   & 8048    & 839043  & 467419  & 1390    & 36095   & 3307    & 654     & 462136  & 145     & 36      & 3038   \\\\\n",
       "\t1540495 & 3525    & 109     & 3282190 & 6160500 & 480     & 34431   & 8044    & 851654  & 474574  & 1446    & 36103   & 2884    & 599     & 456193  & 140     & 32      & 2884   \\\\\n",
       "\t1540496 & 3766    &  96     & 3272918 & 6129360 & 499     & 34431   & 8047    & 834198  & 465185  & 1412    & 36098   & 2970    & 613     & 471050  & 134     & 35      & 3128   \\\\\n",
       "\t1540497 & 3758    & 106     & 3352320 & 6281172 & 569     & 34440   & 8053    & 837407  & 466573  & 1392    & 36119   & 2785    & 533     & 455142  & 121     & 33      & 2918   \\\\\n",
       "\t1540498 & 3596    & 109     & 3337757 & 6254856 & 526     & 34431   & 8069    & 849757  & 473518  & 1431    & 36144   & 3079    & 629     & 461333  & 140     & 35      & 3101   \\\\\n",
       "\t1540499 & 3828    &  94     & 3279014 & 6139116 & 484     & 34431   & 8026    & 830549  & 463648  & 1365    & 36097   & 2887    & 563     & 476662  & 140     & 31      & 2861   \\\\\n",
       "\t1540500 & 3823    &  99     & 3419916 & 6408792 & 690     & 34431   & 8055    & 842722  & 469234  & 1393    & 36097   & 3019    & 602     & 459484  & 145     & 33      & 3148   \\\\\n",
       "\\end{tabular}\n"
      ],
      "text/markdown": [
       "\n",
       "| <!--/--> | PAPI_L1_DCM | PAPI_L3_TCM | PAPI_TOT_INS | PAPI_REF_CYC | PAPI_L2_LDM | PAPI_SR_INS | PAPI_BR_UCN | PAPI_BR_CN | PAPI_BR_TKN | PAPI_BR_MSP | PAPI_FP_OPS | PAPI_L1_LDM | PAPI_L1_STM | PAPI_LD_INS | PAPI_L2_STM | PAPI_TLB_DM | PAPI_L2_DCH | \n",
       "|---|---|---|---|---|---|---|---|---|---|---|---|---|---|---|---|---|---|---|---|---|---|---|---|---|---|---|---|---|---|---|---|---|---|---|---|---|---|---|---|---|---|---|---|---|---|---|---|---|---|---|---|---|---|---|---|---|---|---|---|---|\n",
       "| 790501 | 6979    | 908     | 1785339 | 3621114 | 2412    | 37762   | 8370    | 493325  | 281156  | 1890    | 87      | 5099    | 1252    | 338241  | 729     | 326     | 3399    | \n",
       "| 790502 | 4731    | 172     | 3494398 | 6618708 |  982    | 36439   | 8092    | 883153  | 491630  | 1533    | 45      | 3305    |  883    | 534823  | 394     |  49     | 2964    | \n",
       "| 790503 | 4430    | 170     | 3532713 | 6666930 |  671    | 36429   | 8122    | 906755  | 503242  | 1497    | 47      | 3543    |  845    | 501111  | 210     |  27     | 2708    | \n",
       "| 790504 | 4191    | 152     | 3592922 | 6799068 |  845    | 36429   | 8082    | 865553  | 482227  | 1474    | 45      | 2851    |  662    | 500036  | 194     |  47     | 2983    | \n",
       "| 790505 | 3665    | 117     | 3427617 | 6498450 |  570    | 36440   | 8099    | 862250  | 480821  | 1446    | 45      | 3036    |  746    | 517422  | 187     |  30     | 2796    | \n",
       "| 790506 | 3975    | 106     | 3419219 | 6470226 |  592    | 36429   | 8109    | 866898  | 483466  | 1506    | 45      | 2906    |  623    | 498582  | 169     |  33     | 2915    | \n",
       "| 790507 | 3958    | 118     | 3494062 | 6607890 |  607    | 36429   | 8099    | 878947  | 488915  | 1444    | 45      | 2922    |  720    | 499717  | 194     |  40     | 2741    | \n",
       "| 790508 | 4002    | 116     | 3482682 | 6586722 |  606    | 36440   | 8076    | 861209  | 480835  | 1444    | 45      | 2929    |  720    | 494978  | 168     |  36     | 2925    | \n",
       "| 790509 | 3704    | 111     | 3410205 | 6449562 |  606    | 36429   | 8091    | 921034  | 510109  | 1530    | 45      | 2847    |  607    | 495566  | 179     |  31     | 2694    | \n",
       "| 790510 | 3928    | 108     | 3453541 | 6525576 |  608    | 36429   | 8088    | 881369  | 490065  | 1425    | 45      | 3124    |  745    | 539375  | 208     |  28     | 3005    | \n",
       "| 790511 | 3998    | 125     | 3498792 | 6611940 |  579    | 36429   | 8094    | 862900  | 480876  | 1429    | 45      | 3012    |  733    | 496957  | 182     |  44     | 2861    | \n",
       "| 790512 | 3695    | 128     | 3419709 | 6467760 |  598    | 36440   | 8072    | 849675  | 474114  | 1426    | 45      | 2896    |  639    | 502143  | 196     |  30     | 2700    | \n",
       "| 790513 | 3997    | 124     | 3408501 | 6441858 |  581    | 36429   | 8082    | 878904  | 488339  | 1424    | 45      | 3061    |  744    | 506244  | 177     |  34     | 2992    | \n",
       "| 790514 | 4021    | 143     | 3475146 | 6579882 |  602    | 36429   | 8090    | 875360  | 487065  | 1461    | 45      | 2864    |  616    | 510787  | 193     |  32     | 2694    | \n",
       "| 790515 | 4296    | 139     | 3671663 | 6960960 |  773    | 36441   | 8086    | 847125  | 472666  | 1393    | 45      | 2963    |  715    | 512627  | 173     |  32     | 2816    | \n",
       "| 790516 | 3697    | 131     | 3429554 | 6507234 |  611    | 36429   | 8104    | 914243  | 506130  | 1485    | 45      | 3229    |  745    | 508132  | 176     |  24     | 2767    | \n",
       "| 790517 | 3934    | 124     | 3429966 | 6485940 |  590    | 36430   | 8086    | 869588  | 484360  | 1461    | 46      | 2833    |  632    | 531041  | 212     |  32     | 2818    | \n",
       "| 790518 | 3983    | 113     | 3511657 | 6630228 |  661    | 36429   | 8068    | 857968  | 478558  | 1408    | 45      | 3106    |  716    | 517162  | 188     |  24     | 2710    | \n",
       "| 790519 | 3624    | 114     | 3401691 | 6468624 |  574    | 36440   | 8101    | 890628  | 494466  | 1431    | 45      | 2890    |  615    | 506538  | 190     |  34     | 2921    | \n",
       "| 790520 | 3847    | 132     | 3367642 | 6364908 |  599    | 36429   | 8076    | 848529  | 473440  | 1390    | 45      | 2974    |  746    | 507416  | 190     |  35     | 2809    | \n",
       "| 790521 | 3875    | 146     | 3446577 | 6527412 |  609    | 36429   | 8090    | 853906  | 475976  | 1404    | 45      | 3022    |  721    | 517315  | 182     |  25     | 2928    | \n",
       "| 790522 | 3988    | 145     | 3457527 | 6546942 |  608    | 36441   | 8083    | 951237  | 525054  | 1527    | 45      | 2800    |  598    | 514692  | 191     |  30     | 2827    | \n",
       "| 790523 | 3646    | 143     | 3380987 | 6404040 |  569    | 36429   | 8054    | 851214  | 475217  | 1408    | 45      | 2930    |  708    | 509710  | 178     |  26     | 2865    | \n",
       "| 790524 | 3891    | 146     | 3389133 | 6420402 |  595    | 36429   | 8075    | 854499  | 476310  | 1422    | 45      | 2987    |  708    | 514666  | 198     |  28     | 2714    | \n",
       "| 790525 | 4106    | 148     | 3527637 | 6662808 |  653    | 36431   | 8109    | 888534  | 493632  | 1480    | 49      | 2818    |  617    | 507585  | 184     |  26     | 2924    | \n",
       "| 790526 | 3619    | 145     | 3391505 | 6416496 |  593    | 36440   | 8087    | 853205  | 475838  | 1428    | 45      | 3020    |  704    | 517256  | 204     |  26     | 2778    | \n",
       "| 790527 | 3895    | 130     | 3406997 | 6451686 |  609    | 36429   | 8068    | 862305  | 480769  | 1430    | 45      | 2808    |  611    | 513057  | 184     |  40     | 2953    | \n",
       "| 790528 | 3846    | 128     | 3412844 | 6456366 |  598    | 36429   | 8101    | 876291  | 488044  | 1450    | 45      | 2930    |  706    | 507082  | 197     |  25     | 2714    | \n",
       "| 790529 | 3889    | 117     | 3528292 | 6677262 |  667    | 36441   | 8074    | 862295  | 479992  | 1422    | 45      | 3327    |  727    | 526698  | 204     |  32     | 3008    | \n",
       "| 790530 | 3570    | 101     | 3382455 | 6398640 |  552    | 36429   | 8121    | 880546  | 490036  | 1492    | 45      | 2806    |  625    | 503844  | 188     |  29     | 2735    | \n",
       "| ... | ... | ... | ... | ... | ... | ... | ... | ... | ... | ... | ... | ... | ... | ... | ... | ... | ... | \n",
       "| 1540471 | 3794    | 107     | 3302241 | 6276474 | 527     | 34442   | 8066    | 841808  | 469266  | 1395    | 36094   | 3050    | 615     | 457322  | 123     | 32      | 2886    | \n",
       "| 1540472 | 3951    |  99     | 3422471 | 6404940 | 589     | 34431   | 8080    | 851008  | 475130  | 1446    | 36092   | 2718    | 529     | 497086  | 141     | 38      | 3092    | \n",
       "| 1540473 | 3806    | 102     | 3300841 | 6181380 | 510     | 34431   | 8057    | 853417  | 474640  | 1440    | 36100   | 3022    | 611     | 457730  | 137     | 34      | 2816    | \n",
       "| 1540474 | 3858    | 104     | 3355891 | 6287454 | 540     | 34443   | 8070    | 845332  | 471249  | 1435    | 36091   | 2822    | 531     | 460286  | 149     | 32      | 3101    | \n",
       "| 1540475 | 3588    | 103     | 3280902 | 6145326 | 512     | 34431   | 8064    | 831194  | 464449  | 1415    | 36098   | 3096    | 607     | 469400  | 131     | 29      | 2835    | \n",
       "| 1540476 | 3930    | 103     | 3432921 | 6426468 | 552     | 34431   | 8044    | 854501  | 475599  | 1406    | 36097   | 2897    | 552     | 463525  | 133     | 38      | 3067    | \n",
       "| 1540477 | 4307    | 111     | 3517271 | 6609528 | 671     | 34443   | 8065    | 893391  | 495028  | 1479    | 36089   | 3025    | 598     | 456502  | 134     | 31      | 2830    | \n",
       "| 1540478 | 3665    | 114     | 3293548 | 6169554 | 501     | 34431   | 8041    | 838453  | 467360  | 1371    | 36093   | 3069    | 628     | 456857  | 140     | 36      | 3070    | \n",
       "| 1540479 | 3920    | 104     | 3325319 | 6237414 | 539     | 34431   | 8034    | 856390  | 476690  | 1397    | 36086   | 2802    | 538     | 461314  | 131     | 31      | 2886    | \n",
       "| 1540480 | 3908    | 107     | 3327319 | 6233670 | 529     | 34434   | 8007    | 828287  | 468882  | 1415    | 36089   | 3034    | 618     | 471821  | 136     | 37      | 3074    | \n",
       "| 1540481 | 3936    | 116     | 3475914 | 6524388 | 625     | 34431   | 8006    | 838587  | 467279  | 1382    | 36097   | 2795    | 533     | 465029  | 134     | 30      | 2815    | \n",
       "| 1540482 | 4238    | 117     | 3461677 | 6485904 | 614     | 34431   | 8083    | 867271  | 481948  | 1468    | 36096   | 2977    | 615     | 458383  | 132     | 36      | 3078    | \n",
       "| 1540483 | 4256    | 107     | 3583093 | 6702282 | 666     | 34431   | 8082    | 832708  | 465379  | 1404    | 36091   | 2883    | 548     | 488347  | 153     | 34      | 2891    | \n",
       "| 1540484 | 4208    | 104     | 3526224 | 6603588 | 644     | 34443   | 8048    | 845575  | 471048  | 1394    | 36096   | 3057    | 605     | 459502  | 136     | 37      | 3266    | \n",
       "| 1540485 | 3775    | 114     | 3453558 | 6472602 | 562     | 34431   | 8041    | 870794  | 484661  | 1450    | 36112   | 3247    | 662     | 458606  | 139     | 30      | 2841    | \n",
       "| 1540486 | 4093    | 103     | 3496219 | 6547212 | 589     | 34431   | 8035    | 836689  | 467216  | 1398    | 36092   | 2862    | 547     | 455665  | 135     | 32      | 3024    | \n",
       "| 1540487 | 4137    | 102     | 3573292 | 6688746 | 645     | 34434   | 8047    | 844550  | 470398  | 1402    | 36090   | 3109    | 646     | 457966  | 143     | 34      | 2841    | \n",
       "| 1540488 | 3552    | 101     | 3301357 | 6185394 | 519     | 34438   | 8034    | 843668  | 469791  | 1377    | 36088   | 2797    | 536     | 467808  | 131     | 35      | 3052    | \n",
       "| 1540489 | 3776    | 103     | 3313411 | 6213672 | 513     | 34431   | 8037    | 835961  | 466159  | 1371    | 36096   | 2982    | 609     | 459645  | 125     | 30      | 3003    | \n",
       "| 1540490 | 3923    | 105     | 3389581 | 6349644 | 534     | 34431   | 8092    | 898405  | 497955  | 1502    | 36096   | 2800    | 537     | 491654  | 152     | 34      | 3141    | \n",
       "| 1540491 | 3495    | 102     | 3289122 | 6161994 | 464     | 34442   | 8052    | 837025  | 466777  | 1391    | 36088   | 3182    | 688     | 468966  | 133     | 31      | 2895    | \n",
       "| 1540492 | 3825    |  90     | 3307932 | 6195096 | 530     | 34431   | 8066    | 839669  | 468446  | 1395    | 36099   | 2799    | 534     | 465657  | 138     | 36      | 3107    | \n",
       "| 1540493 | 3769    | 113     | 3290560 | 6175998 | 527     | 34431   | 8051    | 830196  | 468318  | 1413    | 36084   | 2981    | 616     | 458041  | 134     | 34      | 2845    | \n",
       "| 1540494 | 4115    | 101     | 3575023 | 6707232 | 683     | 34443   | 8048    | 839043  | 467419  | 1390    | 36095   | 3307    | 654     | 462136  | 145     | 36      | 3038    | \n",
       "| 1540495 | 3525    | 109     | 3282190 | 6160500 | 480     | 34431   | 8044    | 851654  | 474574  | 1446    | 36103   | 2884    | 599     | 456193  | 140     | 32      | 2884    | \n",
       "| 1540496 | 3766    |  96     | 3272918 | 6129360 | 499     | 34431   | 8047    | 834198  | 465185  | 1412    | 36098   | 2970    | 613     | 471050  | 134     | 35      | 3128    | \n",
       "| 1540497 | 3758    | 106     | 3352320 | 6281172 | 569     | 34440   | 8053    | 837407  | 466573  | 1392    | 36119   | 2785    | 533     | 455142  | 121     | 33      | 2918    | \n",
       "| 1540498 | 3596    | 109     | 3337757 | 6254856 | 526     | 34431   | 8069    | 849757  | 473518  | 1431    | 36144   | 3079    | 629     | 461333  | 140     | 35      | 3101    | \n",
       "| 1540499 | 3828    |  94     | 3279014 | 6139116 | 484     | 34431   | 8026    | 830549  | 463648  | 1365    | 36097   | 2887    | 563     | 476662  | 140     | 31      | 2861    | \n",
       "| 1540500 | 3823    |  99     | 3419916 | 6408792 | 690     | 34431   | 8055    | 842722  | 469234  | 1393    | 36097   | 3019    | 602     | 459484  | 145     | 33      | 3148    | \n",
       "\n",
       "\n"
      ],
      "text/plain": [
       "        PAPI_L1_DCM PAPI_L3_TCM PAPI_TOT_INS PAPI_REF_CYC PAPI_L2_LDM\n",
       "790501  6979        908         1785339      3621114      2412       \n",
       "790502  4731        172         3494398      6618708       982       \n",
       "790503  4430        170         3532713      6666930       671       \n",
       "790504  4191        152         3592922      6799068       845       \n",
       "790505  3665        117         3427617      6498450       570       \n",
       "790506  3975        106         3419219      6470226       592       \n",
       "790507  3958        118         3494062      6607890       607       \n",
       "790508  4002        116         3482682      6586722       606       \n",
       "790509  3704        111         3410205      6449562       606       \n",
       "790510  3928        108         3453541      6525576       608       \n",
       "790511  3998        125         3498792      6611940       579       \n",
       "790512  3695        128         3419709      6467760       598       \n",
       "790513  3997        124         3408501      6441858       581       \n",
       "790514  4021        143         3475146      6579882       602       \n",
       "790515  4296        139         3671663      6960960       773       \n",
       "790516  3697        131         3429554      6507234       611       \n",
       "790517  3934        124         3429966      6485940       590       \n",
       "790518  3983        113         3511657      6630228       661       \n",
       "790519  3624        114         3401691      6468624       574       \n",
       "790520  3847        132         3367642      6364908       599       \n",
       "790521  3875        146         3446577      6527412       609       \n",
       "790522  3988        145         3457527      6546942       608       \n",
       "790523  3646        143         3380987      6404040       569       \n",
       "790524  3891        146         3389133      6420402       595       \n",
       "790525  4106        148         3527637      6662808       653       \n",
       "790526  3619        145         3391505      6416496       593       \n",
       "790527  3895        130         3406997      6451686       609       \n",
       "790528  3846        128         3412844      6456366       598       \n",
       "790529  3889        117         3528292      6677262       667       \n",
       "790530  3570        101         3382455      6398640       552       \n",
       "...     ...         ...         ...          ...          ...        \n",
       "1540471 3794        107         3302241      6276474      527        \n",
       "1540472 3951         99         3422471      6404940      589        \n",
       "1540473 3806        102         3300841      6181380      510        \n",
       "1540474 3858        104         3355891      6287454      540        \n",
       "1540475 3588        103         3280902      6145326      512        \n",
       "1540476 3930        103         3432921      6426468      552        \n",
       "1540477 4307        111         3517271      6609528      671        \n",
       "1540478 3665        114         3293548      6169554      501        \n",
       "1540479 3920        104         3325319      6237414      539        \n",
       "1540480 3908        107         3327319      6233670      529        \n",
       "1540481 3936        116         3475914      6524388      625        \n",
       "1540482 4238        117         3461677      6485904      614        \n",
       "1540483 4256        107         3583093      6702282      666        \n",
       "1540484 4208        104         3526224      6603588      644        \n",
       "1540485 3775        114         3453558      6472602      562        \n",
       "1540486 4093        103         3496219      6547212      589        \n",
       "1540487 4137        102         3573292      6688746      645        \n",
       "1540488 3552        101         3301357      6185394      519        \n",
       "1540489 3776        103         3313411      6213672      513        \n",
       "1540490 3923        105         3389581      6349644      534        \n",
       "1540491 3495        102         3289122      6161994      464        \n",
       "1540492 3825         90         3307932      6195096      530        \n",
       "1540493 3769        113         3290560      6175998      527        \n",
       "1540494 4115        101         3575023      6707232      683        \n",
       "1540495 3525        109         3282190      6160500      480        \n",
       "1540496 3766         96         3272918      6129360      499        \n",
       "1540497 3758        106         3352320      6281172      569        \n",
       "1540498 3596        109         3337757      6254856      526        \n",
       "1540499 3828         94         3279014      6139116      484        \n",
       "1540500 3823         99         3419916      6408792      690        \n",
       "        PAPI_SR_INS PAPI_BR_UCN PAPI_BR_CN PAPI_BR_TKN PAPI_BR_MSP PAPI_FP_OPS\n",
       "790501  37762       8370        493325     281156      1890        87         \n",
       "790502  36439       8092        883153     491630      1533        45         \n",
       "790503  36429       8122        906755     503242      1497        47         \n",
       "790504  36429       8082        865553     482227      1474        45         \n",
       "790505  36440       8099        862250     480821      1446        45         \n",
       "790506  36429       8109        866898     483466      1506        45         \n",
       "790507  36429       8099        878947     488915      1444        45         \n",
       "790508  36440       8076        861209     480835      1444        45         \n",
       "790509  36429       8091        921034     510109      1530        45         \n",
       "790510  36429       8088        881369     490065      1425        45         \n",
       "790511  36429       8094        862900     480876      1429        45         \n",
       "790512  36440       8072        849675     474114      1426        45         \n",
       "790513  36429       8082        878904     488339      1424        45         \n",
       "790514  36429       8090        875360     487065      1461        45         \n",
       "790515  36441       8086        847125     472666      1393        45         \n",
       "790516  36429       8104        914243     506130      1485        45         \n",
       "790517  36430       8086        869588     484360      1461        46         \n",
       "790518  36429       8068        857968     478558      1408        45         \n",
       "790519  36440       8101        890628     494466      1431        45         \n",
       "790520  36429       8076        848529     473440      1390        45         \n",
       "790521  36429       8090        853906     475976      1404        45         \n",
       "790522  36441       8083        951237     525054      1527        45         \n",
       "790523  36429       8054        851214     475217      1408        45         \n",
       "790524  36429       8075        854499     476310      1422        45         \n",
       "790525  36431       8109        888534     493632      1480        49         \n",
       "790526  36440       8087        853205     475838      1428        45         \n",
       "790527  36429       8068        862305     480769      1430        45         \n",
       "790528  36429       8101        876291     488044      1450        45         \n",
       "790529  36441       8074        862295     479992      1422        45         \n",
       "790530  36429       8121        880546     490036      1492        45         \n",
       "...     ...         ...         ...        ...         ...         ...        \n",
       "1540471 34442       8066        841808     469266      1395        36094      \n",
       "1540472 34431       8080        851008     475130      1446        36092      \n",
       "1540473 34431       8057        853417     474640      1440        36100      \n",
       "1540474 34443       8070        845332     471249      1435        36091      \n",
       "1540475 34431       8064        831194     464449      1415        36098      \n",
       "1540476 34431       8044        854501     475599      1406        36097      \n",
       "1540477 34443       8065        893391     495028      1479        36089      \n",
       "1540478 34431       8041        838453     467360      1371        36093      \n",
       "1540479 34431       8034        856390     476690      1397        36086      \n",
       "1540480 34434       8007        828287     468882      1415        36089      \n",
       "1540481 34431       8006        838587     467279      1382        36097      \n",
       "1540482 34431       8083        867271     481948      1468        36096      \n",
       "1540483 34431       8082        832708     465379      1404        36091      \n",
       "1540484 34443       8048        845575     471048      1394        36096      \n",
       "1540485 34431       8041        870794     484661      1450        36112      \n",
       "1540486 34431       8035        836689     467216      1398        36092      \n",
       "1540487 34434       8047        844550     470398      1402        36090      \n",
       "1540488 34438       8034        843668     469791      1377        36088      \n",
       "1540489 34431       8037        835961     466159      1371        36096      \n",
       "1540490 34431       8092        898405     497955      1502        36096      \n",
       "1540491 34442       8052        837025     466777      1391        36088      \n",
       "1540492 34431       8066        839669     468446      1395        36099      \n",
       "1540493 34431       8051        830196     468318      1413        36084      \n",
       "1540494 34443       8048        839043     467419      1390        36095      \n",
       "1540495 34431       8044        851654     474574      1446        36103      \n",
       "1540496 34431       8047        834198     465185      1412        36098      \n",
       "1540497 34440       8053        837407     466573      1392        36119      \n",
       "1540498 34431       8069        849757     473518      1431        36144      \n",
       "1540499 34431       8026        830549     463648      1365        36097      \n",
       "1540500 34431       8055        842722     469234      1393        36097      \n",
       "        PAPI_L1_LDM PAPI_L1_STM PAPI_LD_INS PAPI_L2_STM PAPI_TLB_DM PAPI_L2_DCH\n",
       "790501  5099        1252        338241      729         326         3399       \n",
       "790502  3305         883        534823      394          49         2964       \n",
       "790503  3543         845        501111      210          27         2708       \n",
       "790504  2851         662        500036      194          47         2983       \n",
       "790505  3036         746        517422      187          30         2796       \n",
       "790506  2906         623        498582      169          33         2915       \n",
       "790507  2922         720        499717      194          40         2741       \n",
       "790508  2929         720        494978      168          36         2925       \n",
       "790509  2847         607        495566      179          31         2694       \n",
       "790510  3124         745        539375      208          28         3005       \n",
       "790511  3012         733        496957      182          44         2861       \n",
       "790512  2896         639        502143      196          30         2700       \n",
       "790513  3061         744        506244      177          34         2992       \n",
       "790514  2864         616        510787      193          32         2694       \n",
       "790515  2963         715        512627      173          32         2816       \n",
       "790516  3229         745        508132      176          24         2767       \n",
       "790517  2833         632        531041      212          32         2818       \n",
       "790518  3106         716        517162      188          24         2710       \n",
       "790519  2890         615        506538      190          34         2921       \n",
       "790520  2974         746        507416      190          35         2809       \n",
       "790521  3022         721        517315      182          25         2928       \n",
       "790522  2800         598        514692      191          30         2827       \n",
       "790523  2930         708        509710      178          26         2865       \n",
       "790524  2987         708        514666      198          28         2714       \n",
       "790525  2818         617        507585      184          26         2924       \n",
       "790526  3020         704        517256      204          26         2778       \n",
       "790527  2808         611        513057      184          40         2953       \n",
       "790528  2930         706        507082      197          25         2714       \n",
       "790529  3327         727        526698      204          32         3008       \n",
       "790530  2806         625        503844      188          29         2735       \n",
       "...     ...         ...         ...         ...         ...         ...        \n",
       "1540471 3050        615         457322      123         32          2886       \n",
       "1540472 2718        529         497086      141         38          3092       \n",
       "1540473 3022        611         457730      137         34          2816       \n",
       "1540474 2822        531         460286      149         32          3101       \n",
       "1540475 3096        607         469400      131         29          2835       \n",
       "1540476 2897        552         463525      133         38          3067       \n",
       "1540477 3025        598         456502      134         31          2830       \n",
       "1540478 3069        628         456857      140         36          3070       \n",
       "1540479 2802        538         461314      131         31          2886       \n",
       "1540480 3034        618         471821      136         37          3074       \n",
       "1540481 2795        533         465029      134         30          2815       \n",
       "1540482 2977        615         458383      132         36          3078       \n",
       "1540483 2883        548         488347      153         34          2891       \n",
       "1540484 3057        605         459502      136         37          3266       \n",
       "1540485 3247        662         458606      139         30          2841       \n",
       "1540486 2862        547         455665      135         32          3024       \n",
       "1540487 3109        646         457966      143         34          2841       \n",
       "1540488 2797        536         467808      131         35          3052       \n",
       "1540489 2982        609         459645      125         30          3003       \n",
       "1540490 2800        537         491654      152         34          3141       \n",
       "1540491 3182        688         468966      133         31          2895       \n",
       "1540492 2799        534         465657      138         36          3107       \n",
       "1540493 2981        616         458041      134         34          2845       \n",
       "1540494 3307        654         462136      145         36          3038       \n",
       "1540495 2884        599         456193      140         32          2884       \n",
       "1540496 2970        613         471050      134         35          3128       \n",
       "1540497 2785        533         455142      121         33          2918       \n",
       "1540498 3079        629         461333      140         35          3101       \n",
       "1540499 2887        563         476662      140         31          2861       \n",
       "1540500 3019        602         459484      145         33          3148       "
      ]
     },
     "metadata": {},
     "output_type": "display_data"
    }
   ],
   "source": [
    "new_mydata"
   ]
  },
  {
   "cell_type": "code",
   "execution_count": 64,
   "metadata": {},
   "outputs": [
    {
     "data": {
      "text/html": [
       "<ol class=list-inline>\n",
       "\t<li>'id'</li>\n",
       "\t<li>'size_vector'</li>\n",
       "\t<li>'comp_opt'</li>\n",
       "\t<li>'label'</li>\n",
       "\t<li>'threads'</li>\n",
       "\t<li>'PAPI_L1_DCM'</li>\n",
       "\t<li>'PAPI_L3_TCM'</li>\n",
       "\t<li>'PAPI_TOT_INS'</li>\n",
       "\t<li>'PAPI_REF_CYC'</li>\n",
       "\t<li>'PAPI_L2_LDM'</li>\n",
       "\t<li>'PAPI_SR_INS'</li>\n",
       "\t<li>'PAPI_BR_UCN'</li>\n",
       "\t<li>'PAPI_BR_CN'</li>\n",
       "\t<li>'PAPI_BR_TKN'</li>\n",
       "\t<li>'PAPI_BR_MSP'</li>\n",
       "\t<li>'PAPI_FP_OPS'</li>\n",
       "\t<li>'PAPI_L1_LDM'</li>\n",
       "\t<li>'PAPI_L1_STM'</li>\n",
       "\t<li>'PAPI_LD_INS'</li>\n",
       "\t<li>'PAPI_L2_STM'</li>\n",
       "\t<li>'PAPI_TLB_DM'</li>\n",
       "\t<li>'PAPI_L2_DCH'</li>\n",
       "</ol>\n"
      ],
      "text/latex": [
       "\\begin{enumerate*}\n",
       "\\item 'id'\n",
       "\\item 'size\\_vector'\n",
       "\\item 'comp\\_opt'\n",
       "\\item 'label'\n",
       "\\item 'threads'\n",
       "\\item 'PAPI\\_L1\\_DCM'\n",
       "\\item 'PAPI\\_L3\\_TCM'\n",
       "\\item 'PAPI\\_TOT\\_INS'\n",
       "\\item 'PAPI\\_REF\\_CYC'\n",
       "\\item 'PAPI\\_L2\\_LDM'\n",
       "\\item 'PAPI\\_SR\\_INS'\n",
       "\\item 'PAPI\\_BR\\_UCN'\n",
       "\\item 'PAPI\\_BR\\_CN'\n",
       "\\item 'PAPI\\_BR\\_TKN'\n",
       "\\item 'PAPI\\_BR\\_MSP'\n",
       "\\item 'PAPI\\_FP\\_OPS'\n",
       "\\item 'PAPI\\_L1\\_LDM'\n",
       "\\item 'PAPI\\_L1\\_STM'\n",
       "\\item 'PAPI\\_LD\\_INS'\n",
       "\\item 'PAPI\\_L2\\_STM'\n",
       "\\item 'PAPI\\_TLB\\_DM'\n",
       "\\item 'PAPI\\_L2\\_DCH'\n",
       "\\end{enumerate*}\n"
      ],
      "text/markdown": [
       "1. 'id'\n",
       "2. 'size_vector'\n",
       "3. 'comp_opt'\n",
       "4. 'label'\n",
       "5. 'threads'\n",
       "6. 'PAPI_L1_DCM'\n",
       "7. 'PAPI_L3_TCM'\n",
       "8. 'PAPI_TOT_INS'\n",
       "9. 'PAPI_REF_CYC'\n",
       "10. 'PAPI_L2_LDM'\n",
       "11. 'PAPI_SR_INS'\n",
       "12. 'PAPI_BR_UCN'\n",
       "13. 'PAPI_BR_CN'\n",
       "14. 'PAPI_BR_TKN'\n",
       "15. 'PAPI_BR_MSP'\n",
       "16. 'PAPI_FP_OPS'\n",
       "17. 'PAPI_L1_LDM'\n",
       "18. 'PAPI_L1_STM'\n",
       "19. 'PAPI_LD_INS'\n",
       "20. 'PAPI_L2_STM'\n",
       "21. 'PAPI_TLB_DM'\n",
       "22. 'PAPI_L2_DCH'\n",
       "\n",
       "\n"
      ],
      "text/plain": [
       " [1] \"id\"           \"size_vector\"  \"comp_opt\"     \"label\"        \"threads\"     \n",
       " [6] \"PAPI_L1_DCM\"  \"PAPI_L3_TCM\"  \"PAPI_TOT_INS\" \"PAPI_REF_CYC\" \"PAPI_L2_LDM\" \n",
       "[11] \"PAPI_SR_INS\"  \"PAPI_BR_UCN\"  \"PAPI_BR_CN\"   \"PAPI_BR_TKN\"  \"PAPI_BR_MSP\" \n",
       "[16] \"PAPI_FP_OPS\"  \"PAPI_L1_LDM\"  \"PAPI_L1_STM\"  \"PAPI_LD_INS\"  \"PAPI_L2_STM\" \n",
       "[21] \"PAPI_TLB_DM\"  \"PAPI_L2_DCH\" "
      ]
     },
     "metadata": {},
     "output_type": "display_data"
    }
   ],
   "source": [
    "colnames(mydata_no_time)\n",
    "log.ir <-scale(new_mydata, center = TRUE, scale = TRUE)\n",
    "res.label <- mydata_no_time[,4]\n",
    "res.pca <- prcomp(log.ir, center = TRUE, scale. = TRUE)\n",
    "\n"
   ]
  },
  {
   "cell_type": "code",
   "execution_count": 65,
   "metadata": {},
   "outputs": [
    {
     "name": "stdout",
     "output_type": "stream",
     "text": [
      "Standard deviations (1, .., p=17):\n",
      " [1] 3.426345192 1.511605575 0.956623647 0.720068516 0.684915413 0.660377805\n",
      " [7] 0.541916292 0.409097352 0.262371685 0.232461984 0.209313122 0.084793600\n",
      "[13] 0.028704365 0.020236555 0.011297279 0.007236352 0.006708357\n",
      "\n",
      "Rotation (n x k) = (17 x 17):\n",
      "                   PC1         PC2         PC3         PC4           PC5\n",
      "PAPI_L1_DCM  0.2710465  0.16533313 -0.21661318  0.09781396 -0.0004415752\n",
      "PAPI_L3_TCM  0.2574348  0.20366114 -0.01187973 -0.04455210 -0.0606829606\n",
      "PAPI_TOT_INS 0.2567864 -0.29674000 -0.02596524 -0.02243327 -0.0646816334\n",
      "PAPI_REF_CYC 0.2682557  0.17475895 -0.07986439 -0.09796706  0.1084958244\n",
      "PAPI_L2_LDM  0.2460985  0.22532513 -0.07407116  0.35954256 -0.4106721222\n",
      "PAPI_SR_INS  0.2675510 -0.19461606  0.06937210 -0.09095679 -0.0705439947\n",
      "PAPI_BR_UCN  0.2180916 -0.09123508  0.12601003 -0.46294510  0.0346246880\n",
      "PAPI_BR_CN   0.2676836 -0.19562810  0.11865117 -0.14473431 -0.0990624260\n",
      "PAPI_BR_TKN  0.2675730 -0.19569348  0.11816293 -0.14192718 -0.0986936515\n",
      "PAPI_BR_MSP  0.2724295  0.16201668  0.17839668  0.11512526  0.0522277858\n",
      "PAPI_FP_OPS  0.1933411 -0.39470847 -0.32950195  0.12517767  0.0297615173\n",
      "PAPI_L1_LDM  0.2561261  0.17468299 -0.07937275  0.39514226 -0.3220372420\n",
      "PAPI_L1_STM  0.2439496  0.25168815 -0.27151972 -0.21059934  0.2928976395\n",
      "PAPI_LD_INS  0.2307286 -0.27878031  0.27341955 -0.11728035 -0.2432312924\n",
      "PAPI_L2_STM  0.2365718  0.27496074 -0.28272270 -0.24985912  0.2710635780\n",
      "PAPI_TLB_DM  0.1535258  0.27419883  0.71786173  0.15536466  0.3044661807\n",
      "PAPI_L2_DCH  0.1729634 -0.36693691 -0.03508868  0.50562638  0.6062462589\n",
      "                       PC6         PC7         PC8          PC9         PC10\n",
      "PAPI_L1_DCM   0.0826682237  0.12673235 -0.01328220  0.010562391 -0.288386809\n",
      "PAPI_L3_TCM  -0.2096595429 -0.51839996 -0.37287047  0.188220138  0.050200236\n",
      "PAPI_TOT_INS -0.1321453943 -0.01132676  0.10134759 -0.387286478 -0.031978550\n",
      "PAPI_REF_CYC -0.1955435235 -0.35714279 -0.27718156  0.161762277 -0.020741654\n",
      "PAPI_L2_LDM   0.2037190551  0.02591196  0.07673785  0.009383698  0.117856662\n",
      "PAPI_SR_INS  -0.0792553161  0.22182946 -0.24844708  0.086600586 -0.648561844\n",
      "PAPI_BR_UCN   0.7884098569 -0.28445306  0.09329750 -0.012209003 -0.034510686\n",
      "PAPI_BR_CN   -0.0515378279  0.25273576 -0.28825420 -0.127443642  0.369113247\n",
      "PAPI_BR_TKN  -0.0573160348  0.25757846 -0.28867817 -0.127508722  0.372063592\n",
      "PAPI_BR_MSP   0.0003633107  0.14562641  0.05936261 -0.286949172 -0.362252291\n",
      "PAPI_FP_OPS  -0.1777663315 -0.43810163  0.32748310 -0.360753038  0.009500771\n",
      "PAPI_L1_LDM   0.2158886936  0.03306522  0.07829662  0.057987405  0.153127128\n",
      "PAPI_L1_STM  -0.0752356025  0.21307142  0.21735838  0.044024179  0.109987956\n",
      "PAPI_LD_INS  -0.2414586045  0.01202851  0.49566183  0.614713822  0.005862387\n",
      "PAPI_L2_STM  -0.0954444499  0.21409585  0.24351201  0.044840725  0.145903044\n",
      "PAPI_TLB_DM  -0.1174502795 -0.13414964  0.19966951 -0.225167253  0.081412458\n",
      "PAPI_L2_DCH   0.2304758907  0.05380654 -0.14817159  0.315751990  0.087511603\n",
      "                      PC11         PC12         PC13          PC14\n",
      "PAPI_L1_DCM   0.5214586135  0.646296981  0.085387035 -0.1023562821\n",
      "PAPI_L3_TCM   0.0006148102 -0.207574294  0.095108984 -0.2164966946\n",
      "PAPI_TOT_INS -0.1913871532  0.019356441  0.745482324 -0.2406676631\n",
      "PAPI_REF_CYC  0.0482764842  0.090456729  0.051957735  0.2261751142\n",
      "PAPI_L2_LDM  -0.1994508517 -0.008903558 -0.048588022  0.0873402993\n",
      "PAPI_SR_INS  -0.5054036274  0.075212940 -0.242376941  0.0472301728\n",
      "PAPI_BR_UCN  -0.0051370851 -0.009724003 -0.004456329 -0.0007549214\n",
      "PAPI_BR_CN    0.1207172739  0.041047392 -0.120926612  0.0419502467\n",
      "PAPI_BR_TKN   0.1228017192  0.040502277 -0.170835344  0.0590208127\n",
      "PAPI_BR_MSP   0.4531500143 -0.630991408 -0.054251961  0.0268432693\n",
      "PAPI_FP_OPS   0.0252940427  0.054463544 -0.438791976  0.1340675240\n",
      "PAPI_L1_LDM  -0.1879961384 -0.051619139 -0.002814080 -0.0261622156\n",
      "PAPI_L1_STM  -0.1614728690 -0.077744001  0.216327889  0.6333474858\n",
      "PAPI_LD_INS   0.1867452616 -0.038117451  0.050055403 -0.0006119868\n",
      "PAPI_L2_STM  -0.1740892620 -0.074519272 -0.249065859 -0.6278020933\n",
      "PAPI_TLB_DM  -0.1778761015  0.309707728 -0.092784648  0.0114553624\n",
      "PAPI_L2_DCH  -0.0025618766 -0.093540658  0.069634414 -0.0608125824\n",
      "                      PC15          PC16         PC17\n",
      "PAPI_L1_DCM   0.1693629524 -0.0023818279 -0.016838085\n",
      "PAPI_L3_TCM   0.5445531932 -0.0342494785 -0.007135775\n",
      "PAPI_TOT_INS -0.0919456717  0.0190224368  0.047802820\n",
      "PAPI_REF_CYC -0.7301891518  0.0505388746  0.020920738\n",
      "PAPI_L2_LDM  -0.0455213468 -0.2672731448  0.632344145\n",
      "PAPI_SR_INS   0.0628481649  0.0003794741 -0.033377804\n",
      "PAPI_BR_UCN   0.0008991279  0.0049827754  0.001228893\n",
      "PAPI_BR_CN   -0.0318727697 -0.6549140205 -0.283827948\n",
      "PAPI_BR_TKN   0.0744085077  0.6424100857  0.266438830\n",
      "PAPI_BR_MSP  -0.0790133992  0.0010373765  0.005006614\n",
      "PAPI_FP_OPS   0.0746757928 -0.0119209331 -0.029128432\n",
      "PAPI_L1_LDM  -0.0776982410  0.2851197545 -0.656557727\n",
      "PAPI_L1_STM   0.2810315297 -0.0053940891 -0.043421215\n",
      "PAPI_LD_INS  -0.0144851852 -0.0046984969  0.016487855\n",
      "PAPI_L2_STM  -0.1406798645 -0.0139935708  0.055081305\n",
      "PAPI_TLB_DM   0.0599571605 -0.0025859672 -0.013932158\n",
      "PAPI_L2_DCH   0.0118986940 -0.0339430741  0.084221291\n"
     ]
    }
   ],
   "source": [
    "print(res.pca)"
   ]
  },
  {
   "cell_type": "code",
   "execution_count": 66,
   "metadata": {},
   "outputs": [
    {
     "data": {
      "text/html": [
       "<ol class=list-inline>\n",
       "\t<li>'sdev'</li>\n",
       "\t<li>'rotation'</li>\n",
       "\t<li>'center'</li>\n",
       "\t<li>'scale'</li>\n",
       "\t<li>'x'</li>\n",
       "</ol>\n"
      ],
      "text/latex": [
       "\\begin{enumerate*}\n",
       "\\item 'sdev'\n",
       "\\item 'rotation'\n",
       "\\item 'center'\n",
       "\\item 'scale'\n",
       "\\item 'x'\n",
       "\\end{enumerate*}\n"
      ],
      "text/markdown": [
       "1. 'sdev'\n",
       "2. 'rotation'\n",
       "3. 'center'\n",
       "4. 'scale'\n",
       "5. 'x'\n",
       "\n",
       "\n"
      ],
      "text/plain": [
       "[1] \"sdev\"     \"rotation\" \"center\"   \"scale\"    \"x\"       "
      ]
     },
     "metadata": {},
     "output_type": "display_data"
    }
   ],
   "source": [
    "names(res.pca)"
   ]
  },
  {
   "cell_type": "code",
   "execution_count": 67,
   "metadata": {},
   "outputs": [
    {
     "name": "stdout",
     "output_type": "stream",
     "text": [
      " [1] 3.426345192 1.511605575 0.956623647 0.720068516 0.684915413 0.660377805\n",
      " [7] 0.541916292 0.409097352 0.262371685 0.232461984 0.209313122 0.084793600\n",
      "[13] 0.028704365 0.020236555 0.011297279 0.007236352 0.006708357\n"
     ]
    }
   ],
   "source": [
    "print(res.pca$sdev)"
   ]
  },
  {
   "cell_type": "code",
   "execution_count": 68,
   "metadata": {},
   "outputs": [
    {
     "data": {
      "text/html": [
       "<table>\n",
       "<thead><tr><th></th><th scope=col>PC1</th><th scope=col>PC2</th><th scope=col>PC3</th><th scope=col>PC4</th><th scope=col>PC5</th><th scope=col>PC6</th><th scope=col>PC7</th><th scope=col>PC8</th><th scope=col>PC9</th><th scope=col>PC10</th><th scope=col>PC11</th><th scope=col>PC12</th><th scope=col>PC13</th><th scope=col>PC14</th><th scope=col>PC15</th><th scope=col>PC16</th><th scope=col>PC17</th></tr></thead>\n",
       "<tbody>\n",
       "\t<tr><th scope=row>PAPI_L1_DCM</th><td>0.2710465    </td><td> 0.1653331   </td><td>-0.21661318  </td><td> 0.09781396  </td><td>-0.0004415752</td><td> 0.08266822  </td><td> 0.12673235  </td><td>-0.01328220  </td><td> 0.010562391 </td><td>-0.28838681  </td><td> 0.5214586135</td><td> 0.646296981 </td><td> 0.08538704  </td><td>-0.10235628  </td><td> 0.16936295  </td><td>-0.0023818279</td><td>-0.016838085 </td></tr>\n",
       "\t<tr><th scope=row>PAPI_L3_TCM</th><td>0.2574348    </td><td> 0.2036611   </td><td>-0.01187973  </td><td>-0.04455210  </td><td>-0.0606829606</td><td>-0.20965954  </td><td>-0.51839996  </td><td>-0.37287047  </td><td> 0.188220138 </td><td> 0.05020024  </td><td> 0.0006148102</td><td>-0.207574294 </td><td> 0.09510898  </td><td>-0.21649669  </td><td> 0.54455319  </td><td>-0.0342494785</td><td>-0.007135775 </td></tr>\n",
       "\t<tr><th scope=row>PAPI_TOT_INS</th><td>0.2567864    </td><td>-0.2967400   </td><td>-0.02596524  </td><td>-0.02243327  </td><td>-0.0646816334</td><td>-0.13214539  </td><td>-0.01132676  </td><td> 0.10134759  </td><td>-0.387286478 </td><td>-0.03197855  </td><td>-0.1913871532</td><td> 0.019356441 </td><td> 0.74548232  </td><td>-0.24066766  </td><td>-0.09194567  </td><td> 0.0190224368</td><td> 0.047802820 </td></tr>\n",
       "\t<tr><th scope=row>PAPI_REF_CYC</th><td>0.2682557    </td><td> 0.1747590   </td><td>-0.07986439  </td><td>-0.09796706  </td><td> 0.1084958244</td><td>-0.19554352  </td><td>-0.35714279  </td><td>-0.27718156  </td><td> 0.161762277 </td><td>-0.02074165  </td><td> 0.0482764842</td><td> 0.090456729 </td><td> 0.05195774  </td><td> 0.22617511  </td><td>-0.73018915  </td><td> 0.0505388746</td><td> 0.020920738 </td></tr>\n",
       "\t<tr><th scope=row>PAPI_L2_LDM</th><td>0.2460985    </td><td> 0.2253251   </td><td>-0.07407116  </td><td> 0.35954256  </td><td>-0.4106721222</td><td> 0.20371906  </td><td> 0.02591196  </td><td> 0.07673785  </td><td> 0.009383698 </td><td> 0.11785666  </td><td>-0.1994508517</td><td>-0.008903558 </td><td>-0.04858802  </td><td> 0.08734030  </td><td>-0.04552135  </td><td>-0.2672731448</td><td> 0.632344145 </td></tr>\n",
       "\t<tr><th scope=row>PAPI_SR_INS</th><td>0.2675510    </td><td>-0.1946161   </td><td> 0.06937210  </td><td>-0.09095679  </td><td>-0.0705439947</td><td>-0.07925532  </td><td> 0.22182946  </td><td>-0.24844708  </td><td> 0.086600586 </td><td>-0.64856184  </td><td>-0.5054036274</td><td> 0.075212940 </td><td>-0.24237694  </td><td> 0.04723017  </td><td> 0.06284816  </td><td> 0.0003794741</td><td>-0.033377804 </td></tr>\n",
       "</tbody>\n",
       "</table>\n"
      ],
      "text/latex": [
       "\\begin{tabular}{r|lllllllllllllllll}\n",
       "  & PC1 & PC2 & PC3 & PC4 & PC5 & PC6 & PC7 & PC8 & PC9 & PC10 & PC11 & PC12 & PC13 & PC14 & PC15 & PC16 & PC17\\\\\n",
       "\\hline\n",
       "\tPAPI\\_L1\\_DCM & 0.2710465     &  0.1653331    & -0.21661318   &  0.09781396   & -0.0004415752 &  0.08266822   &  0.12673235   & -0.01328220   &  0.010562391  & -0.28838681   &  0.5214586135 &  0.646296981  &  0.08538704   & -0.10235628   &  0.16936295   & -0.0023818279 & -0.016838085 \\\\\n",
       "\tPAPI\\_L3\\_TCM & 0.2574348     &  0.2036611    & -0.01187973   & -0.04455210   & -0.0606829606 & -0.20965954   & -0.51839996   & -0.37287047   &  0.188220138  &  0.05020024   &  0.0006148102 & -0.207574294  &  0.09510898   & -0.21649669   &  0.54455319   & -0.0342494785 & -0.007135775 \\\\\n",
       "\tPAPI\\_TOT\\_INS & 0.2567864     & -0.2967400    & -0.02596524   & -0.02243327   & -0.0646816334 & -0.13214539   & -0.01132676   &  0.10134759   & -0.387286478  & -0.03197855   & -0.1913871532 &  0.019356441  &  0.74548232   & -0.24066766   & -0.09194567   &  0.0190224368 &  0.047802820 \\\\\n",
       "\tPAPI\\_REF\\_CYC & 0.2682557     &  0.1747590    & -0.07986439   & -0.09796706   &  0.1084958244 & -0.19554352   & -0.35714279   & -0.27718156   &  0.161762277  & -0.02074165   &  0.0482764842 &  0.090456729  &  0.05195774   &  0.22617511   & -0.73018915   &  0.0505388746 &  0.020920738 \\\\\n",
       "\tPAPI\\_L2\\_LDM & 0.2460985     &  0.2253251    & -0.07407116   &  0.35954256   & -0.4106721222 &  0.20371906   &  0.02591196   &  0.07673785   &  0.009383698  &  0.11785666   & -0.1994508517 & -0.008903558  & -0.04858802   &  0.08734030   & -0.04552135   & -0.2672731448 &  0.632344145 \\\\\n",
       "\tPAPI\\_SR\\_INS & 0.2675510     & -0.1946161    &  0.06937210   & -0.09095679   & -0.0705439947 & -0.07925532   &  0.22182946   & -0.24844708   &  0.086600586  & -0.64856184   & -0.5054036274 &  0.075212940  & -0.24237694   &  0.04723017   &  0.06284816   &  0.0003794741 & -0.033377804 \\\\\n",
       "\\end{tabular}\n"
      ],
      "text/markdown": [
       "\n",
       "| <!--/--> | PC1 | PC2 | PC3 | PC4 | PC5 | PC6 | PC7 | PC8 | PC9 | PC10 | PC11 | PC12 | PC13 | PC14 | PC15 | PC16 | PC17 | \n",
       "|---|---|---|---|---|---|\n",
       "| PAPI_L1_DCM | 0.2710465     |  0.1653331    | -0.21661318   |  0.09781396   | -0.0004415752 |  0.08266822   |  0.12673235   | -0.01328220   |  0.010562391  | -0.28838681   |  0.5214586135 |  0.646296981  |  0.08538704   | -0.10235628   |  0.16936295   | -0.0023818279 | -0.016838085  | \n",
       "| PAPI_L3_TCM | 0.2574348     |  0.2036611    | -0.01187973   | -0.04455210   | -0.0606829606 | -0.20965954   | -0.51839996   | -0.37287047   |  0.188220138  |  0.05020024   |  0.0006148102 | -0.207574294  |  0.09510898   | -0.21649669   |  0.54455319   | -0.0342494785 | -0.007135775  | \n",
       "| PAPI_TOT_INS | 0.2567864     | -0.2967400    | -0.02596524   | -0.02243327   | -0.0646816334 | -0.13214539   | -0.01132676   |  0.10134759   | -0.387286478  | -0.03197855   | -0.1913871532 |  0.019356441  |  0.74548232   | -0.24066766   | -0.09194567   |  0.0190224368 |  0.047802820  | \n",
       "| PAPI_REF_CYC | 0.2682557     |  0.1747590    | -0.07986439   | -0.09796706   |  0.1084958244 | -0.19554352   | -0.35714279   | -0.27718156   |  0.161762277  | -0.02074165   |  0.0482764842 |  0.090456729  |  0.05195774   |  0.22617511   | -0.73018915   |  0.0505388746 |  0.020920738  | \n",
       "| PAPI_L2_LDM | 0.2460985     |  0.2253251    | -0.07407116   |  0.35954256   | -0.4106721222 |  0.20371906   |  0.02591196   |  0.07673785   |  0.009383698  |  0.11785666   | -0.1994508517 | -0.008903558  | -0.04858802   |  0.08734030   | -0.04552135   | -0.2672731448 |  0.632344145  | \n",
       "| PAPI_SR_INS | 0.2675510     | -0.1946161    |  0.06937210   | -0.09095679   | -0.0705439947 | -0.07925532   |  0.22182946   | -0.24844708   |  0.086600586  | -0.64856184   | -0.5054036274 |  0.075212940  | -0.24237694   |  0.04723017   |  0.06284816   |  0.0003794741 | -0.033377804  | \n",
       "\n",
       "\n"
      ],
      "text/plain": [
       "             PC1       PC2        PC3         PC4         PC5          \n",
       "PAPI_L1_DCM  0.2710465  0.1653331 -0.21661318  0.09781396 -0.0004415752\n",
       "PAPI_L3_TCM  0.2574348  0.2036611 -0.01187973 -0.04455210 -0.0606829606\n",
       "PAPI_TOT_INS 0.2567864 -0.2967400 -0.02596524 -0.02243327 -0.0646816334\n",
       "PAPI_REF_CYC 0.2682557  0.1747590 -0.07986439 -0.09796706  0.1084958244\n",
       "PAPI_L2_LDM  0.2460985  0.2253251 -0.07407116  0.35954256 -0.4106721222\n",
       "PAPI_SR_INS  0.2675510 -0.1946161  0.06937210 -0.09095679 -0.0705439947\n",
       "             PC6         PC7         PC8         PC9          PC10       \n",
       "PAPI_L1_DCM   0.08266822  0.12673235 -0.01328220  0.010562391 -0.28838681\n",
       "PAPI_L3_TCM  -0.20965954 -0.51839996 -0.37287047  0.188220138  0.05020024\n",
       "PAPI_TOT_INS -0.13214539 -0.01132676  0.10134759 -0.387286478 -0.03197855\n",
       "PAPI_REF_CYC -0.19554352 -0.35714279 -0.27718156  0.161762277 -0.02074165\n",
       "PAPI_L2_LDM   0.20371906  0.02591196  0.07673785  0.009383698  0.11785666\n",
       "PAPI_SR_INS  -0.07925532  0.22182946 -0.24844708  0.086600586 -0.64856184\n",
       "             PC11          PC12         PC13        PC14        PC15       \n",
       "PAPI_L1_DCM   0.5214586135  0.646296981  0.08538704 -0.10235628  0.16936295\n",
       "PAPI_L3_TCM   0.0006148102 -0.207574294  0.09510898 -0.21649669  0.54455319\n",
       "PAPI_TOT_INS -0.1913871532  0.019356441  0.74548232 -0.24066766 -0.09194567\n",
       "PAPI_REF_CYC  0.0482764842  0.090456729  0.05195774  0.22617511 -0.73018915\n",
       "PAPI_L2_LDM  -0.1994508517 -0.008903558 -0.04858802  0.08734030 -0.04552135\n",
       "PAPI_SR_INS  -0.5054036274  0.075212940 -0.24237694  0.04723017  0.06284816\n",
       "             PC16          PC17        \n",
       "PAPI_L1_DCM  -0.0023818279 -0.016838085\n",
       "PAPI_L3_TCM  -0.0342494785 -0.007135775\n",
       "PAPI_TOT_INS  0.0190224368  0.047802820\n",
       "PAPI_REF_CYC  0.0505388746  0.020920738\n",
       "PAPI_L2_LDM  -0.2672731448  0.632344145\n",
       "PAPI_SR_INS   0.0003794741 -0.033377804"
      ]
     },
     "metadata": {},
     "output_type": "display_data"
    }
   ],
   "source": [
    "head(unclass(res.pca$rotation)[])"
   ]
  },
  {
   "cell_type": "code",
   "execution_count": 69,
   "metadata": {},
   "outputs": [
    {
     "name": "stdout",
     "output_type": "stream",
     "text": [
      " [1] 1.173984e+01 2.284951e+00 9.151288e-01 5.184987e-01 4.691091e-01\n",
      " [6] 4.360988e-01 2.936733e-01 1.673606e-01 6.883890e-02 5.403857e-02\n",
      "[11] 4.381198e-02 7.189955e-03 8.239405e-04 4.095181e-04 1.276285e-04\n",
      "[16] 5.236480e-05 4.500205e-05\n"
     ]
    }
   ],
   "source": [
    "# Eigenvalues\n",
    "eig <- (res.pca$sdev)^2\n",
    "print(eig)"
   ]
  },
  {
   "cell_type": "code",
   "execution_count": 70,
   "metadata": {},
   "outputs": [
    {
     "name": "stdout",
     "output_type": "stream",
     "text": [
      " [1] 6.905789e+01 1.344089e+01 5.383111e+00 3.049992e+00 2.759465e+00\n",
      " [6] 2.565287e+00 1.727490e+00 9.844744e-01 4.049347e-01 3.178740e-01\n",
      "[11] 2.577175e-01 4.229385e-02 4.846709e-03 2.408930e-03 7.507559e-04\n",
      "[16] 3.080282e-04 2.647179e-04\n"
     ]
    }
   ],
   "source": [
    "# Variances in percentage\n",
    "variance <- eig*100/sum(eig)\n",
    "print(variance)"
   ]
  },
  {
   "cell_type": "code",
   "execution_count": 71,
   "metadata": {},
   "outputs": [
    {
     "name": "stdout",
     "output_type": "stream",
     "text": [
      " [1]  69.05789  82.49878  87.88189  90.93188  93.69135  96.25664  97.98413\n",
      " [8]  98.96860  99.37354  99.69141  99.94913  99.99142  99.99627  99.99868\n",
      "[15]  99.99943  99.99974 100.00000\n"
     ]
    }
   ],
   "source": [
    "# Cumulative variances\n",
    "cumvar <- cumsum(variance)\n",
    "print(cumvar)"
   ]
  },
  {
   "cell_type": "code",
   "execution_count": 72,
   "metadata": {},
   "outputs": [
    {
     "name": "stdout",
     "output_type": "stream",
     "text": [
      "            eig     variance cumvariance\n",
      "1  1.173984e+01 6.905789e+01    69.05789\n",
      "2  2.284951e+00 1.344089e+01    82.49878\n",
      "3  9.151288e-01 5.383111e+00    87.88189\n",
      "4  5.184987e-01 3.049992e+00    90.93188\n",
      "5  4.691091e-01 2.759465e+00    93.69135\n",
      "6  4.360988e-01 2.565287e+00    96.25664\n",
      "7  2.936733e-01 1.727490e+00    97.98413\n",
      "8  1.673606e-01 9.844744e-01    98.96860\n",
      "9  6.883890e-02 4.049347e-01    99.37354\n",
      "10 5.403857e-02 3.178740e-01    99.69141\n",
      "11 4.381198e-02 2.577175e-01    99.94913\n",
      "12 7.189955e-03 4.229385e-02    99.99142\n",
      "13 8.239405e-04 4.846709e-03    99.99627\n",
      "14 4.095181e-04 2.408930e-03    99.99868\n",
      "15 1.276285e-04 7.507559e-04    99.99943\n",
      "16 5.236480e-05 3.080282e-04    99.99974\n",
      "17 4.500205e-05 2.647179e-04   100.00000\n"
     ]
    }
   ],
   "source": [
    "eig.decathlon2.active <- data.frame(eig = eig, variance = variance,cumvariance = cumvar)\n",
    "print(eig.decathlon2.active)"
   ]
  },
  {
   "cell_type": "code",
   "execution_count": 73,
   "metadata": {},
   "outputs": [
    {
     "data": {
      "text/plain": [
       "Importance of components:\n",
       "                          PC1    PC2     PC3    PC4     PC5     PC6     PC7\n",
       "Standard deviation     3.4263 1.5116 0.95662 0.7201 0.68492 0.66038 0.54192\n",
       "Proportion of Variance 0.6906 0.1344 0.05383 0.0305 0.02759 0.02565 0.01727\n",
       "Cumulative Proportion  0.6906 0.8250 0.87882 0.9093 0.93691 0.96257 0.97984\n",
       "                           PC8     PC9    PC10    PC11    PC12    PC13    PC14\n",
       "Standard deviation     0.40910 0.26237 0.23246 0.20931 0.08479 0.02870 0.02024\n",
       "Proportion of Variance 0.00984 0.00405 0.00318 0.00258 0.00042 0.00005 0.00002\n",
       "Cumulative Proportion  0.98969 0.99374 0.99691 0.99949 0.99991 0.99996 0.99999\n",
       "                          PC15     PC16     PC17\n",
       "Standard deviation     0.01130 0.007236 0.006708\n",
       "Proportion of Variance 0.00001 0.000000 0.000000\n",
       "Cumulative Proportion  0.99999 1.000000 1.000000"
      ]
     },
     "metadata": {},
     "output_type": "display_data"
    }
   ],
   "source": [
    "summary(res.pca)"
   ]
  },
  {
   "cell_type": "code",
   "execution_count": 74,
   "metadata": {},
   "outputs": [
    {
     "data": {
      "text/html": [
       "<table>\n",
       "<thead><tr><th></th><th scope=col>eigenvalue</th><th scope=col>variance.percent</th><th scope=col>cumulative.variance.percent</th></tr></thead>\n",
       "<tbody>\n",
       "\t<tr><th scope=row>Dim.1</th><td>11.7398414</td><td>69.057890 </td><td>69.05789  </td></tr>\n",
       "\t<tr><th scope=row>Dim.2</th><td> 2.2849514</td><td>13.440891 </td><td>82.49878  </td></tr>\n",
       "\t<tr><th scope=row>Dim.3</th><td> 0.9151288</td><td> 5.383111 </td><td>87.88189  </td></tr>\n",
       "\t<tr><th scope=row>Dim.4</th><td> 0.5184987</td><td> 3.049992 </td><td>90.93188  </td></tr>\n",
       "\t<tr><th scope=row>Dim.5</th><td> 0.4691091</td><td> 2.759465 </td><td>93.69135  </td></tr>\n",
       "\t<tr><th scope=row>Dim.6</th><td> 0.4360988</td><td> 2.565287 </td><td>96.25664  </td></tr>\n",
       "</tbody>\n",
       "</table>\n"
      ],
      "text/latex": [
       "\\begin{tabular}{r|lll}\n",
       "  & eigenvalue & variance.percent & cumulative.variance.percent\\\\\n",
       "\\hline\n",
       "\tDim.1 & 11.7398414 & 69.057890  & 69.05789  \\\\\n",
       "\tDim.2 &  2.2849514 & 13.440891  & 82.49878  \\\\\n",
       "\tDim.3 &  0.9151288 &  5.383111  & 87.88189  \\\\\n",
       "\tDim.4 &  0.5184987 &  3.049992  & 90.93188  \\\\\n",
       "\tDim.5 &  0.4691091 &  2.759465  & 93.69135  \\\\\n",
       "\tDim.6 &  0.4360988 &  2.565287  & 96.25664  \\\\\n",
       "\\end{tabular}\n"
      ],
      "text/markdown": [
       "\n",
       "| <!--/--> | eigenvalue | variance.percent | cumulative.variance.percent | \n",
       "|---|---|---|---|---|---|\n",
       "| Dim.1 | 11.7398414 | 69.057890  | 69.05789   | \n",
       "| Dim.2 |  2.2849514 | 13.440891  | 82.49878   | \n",
       "| Dim.3 |  0.9151288 |  5.383111  | 87.88189   | \n",
       "| Dim.4 |  0.5184987 |  3.049992  | 90.93188   | \n",
       "| Dim.5 |  0.4691091 |  2.759465  | 93.69135   | \n",
       "| Dim.6 |  0.4360988 |  2.565287  | 96.25664   | \n",
       "\n",
       "\n"
      ],
      "text/plain": [
       "      eigenvalue variance.percent cumulative.variance.percent\n",
       "Dim.1 11.7398414 69.057890        69.05789                   \n",
       "Dim.2  2.2849514 13.440891        82.49878                   \n",
       "Dim.3  0.9151288  5.383111        87.88189                   \n",
       "Dim.4  0.5184987  3.049992        90.93188                   \n",
       "Dim.5  0.4691091  2.759465        93.69135                   \n",
       "Dim.6  0.4360988  2.565287        96.25664                   "
      ]
     },
     "metadata": {},
     "output_type": "display_data"
    }
   ],
   "source": [
    "library(\"factoextra\")\n",
    "eig.val <- get_eigenvalue(res.pca)\n",
    "head(eig.val)"
   ]
  },
  {
   "cell_type": "code",
   "execution_count": 75,
   "metadata": {},
   "outputs": [],
   "source": [
    "options(repr.plot.width = 20, repr.plot.height = 10)"
   ]
  },
  {
   "cell_type": "code",
   "execution_count": 76,
   "metadata": {},
   "outputs": [
    {
     "data": {
      "image/png": "[encoded data removed]",
      "text/plain": [
       "Plot with title \"Variances\""
      ]
     },
     "metadata": {},
     "output_type": "display_data"
    }
   ],
   "source": [
    "barplot(eig.decathlon2.active[, 2], names.arg=1:nrow(eig.decathlon2.active), \n",
    "       main = \"Variances\",\n",
    "       xlab = \"Principal Components\",\n",
    "       ylab = \"Percentage of variances\",\n",
    "       col =\"steelblue\")\n",
    "# Add connected line segments to the plot\n",
    "lines(x = 1:nrow(eig.decathlon2.active), \n",
    "      eig.decathlon2.active[, 2], \n",
    "      type=\"b\", pch=19, col = \"red\")"
   ]
  },
  {
   "cell_type": "code",
   "execution_count": 77,
   "metadata": {
    "scrolled": false
   },
   "outputs": [
    {
     "data": {},
     "metadata": {},
     "output_type": "display_data"
    },
    {
     "data": {
      "image/png": "[encoded data removed]",
      "text/plain": [
       "plot without title"
      ]
     },
     "metadata": {},
     "output_type": "display_data"
    }
   ],
   "source": [
    "fviz_screeplot(res.pca, ncp=54)"
   ]
  },
  {
   "cell_type": "code",
   "execution_count": 78,
   "metadata": {},
   "outputs": [
    {
     "data": {
      "text/plain": [
       "Principal Component Analysis Results for variables\n",
       " ===================================================\n",
       "  Name       Description                                    \n",
       "1 \"$coord\"   \"Coordinates for the variables\"                \n",
       "2 \"$cor\"     \"Correlations between variables and dimensions\"\n",
       "3 \"$cos2\"    \"Cos2 for the variables\"                       \n",
       "4 \"$contrib\" \"contributions of the variables\"               "
      ]
     },
     "metadata": {},
     "output_type": "display_data"
    }
   ],
   "source": [
    "var <- get_pca_var(res.pca)\n",
    "var"
   ]
  },
  {
   "cell_type": "code",
   "execution_count": 79,
   "metadata": {},
   "outputs": [
    {
     "data": {
      "text/html": [
       "<table>\n",
       "<thead><tr><th></th><th scope=col>Dim.1</th><th scope=col>Dim.2</th><th scope=col>Dim.3</th><th scope=col>Dim.4</th><th scope=col>Dim.5</th><th scope=col>Dim.6</th><th scope=col>Dim.7</th><th scope=col>Dim.8</th><th scope=col>Dim.9</th><th scope=col>Dim.10</th><th scope=col>Dim.11</th><th scope=col>Dim.12</th><th scope=col>Dim.13</th><th scope=col>Dim.14</th><th scope=col>Dim.15</th><th scope=col>Dim.16</th><th scope=col>Dim.17</th></tr></thead>\n",
       "<tbody>\n",
       "\t<tr><th scope=row>PAPI_L1_DCM</th><td>0.9286990    </td><td> 0.2499185   </td><td>-0.20721729  </td><td> 0.07043275  </td><td>-0.0003024417</td><td> 0.0545922601</td><td> 0.068678326 </td><td>-0.005433713 </td><td> 0.002771272 </td><td>-0.067038970 </td><td> 0.1091481304</td><td> 0.0548018480</td><td> 2.450981e-03</td><td>-2.071338e-03</td><td> 0.0019133405</td><td>-1.723575e-05</td><td>-1.129559e-04</td></tr>\n",
       "\t<tr><th scope=row>PAPI_L3_TCM</th><td>0.8820604    </td><td> 0.3078553   </td><td>-0.01136443  </td><td>-0.03208057  </td><td>-0.0415626950</td><td>-0.1384545086</td><td>-0.280929382 </td><td>-0.152540321 </td><td> 0.049383635 </td><td> 0.011669646 </td><td> 0.0001286878</td><td>-0.0176009718</td><td> 2.730043e-03</td><td>-4.381147e-03</td><td> 0.0061519692</td><td>-2.478413e-04</td><td>-4.786932e-05</td></tr>\n",
       "\t<tr><th scope=row>PAPI_TOT_INS</th><td>0.8798387    </td><td>-0.4485538   </td><td>-0.02483897  </td><td>-0.01615349  </td><td>-0.0443014476</td><td>-0.0872658853</td><td>-0.006138153 </td><td> 0.041461032 </td><td>-0.101613006 </td><td>-0.007433797 </td><td>-0.0400598425</td><td> 0.0016413024</td><td> 2.139860e-02</td><td>-4.870284e-03</td><td>-0.0010387359</td><td> 1.376531e-04</td><td> 3.206784e-04</td></tr>\n",
       "\t<tr><th scope=row>PAPI_REF_CYC</th><td>0.9191365    </td><td> 0.2641666   </td><td>-0.07640017  </td><td>-0.07054300  </td><td> 0.0743104623</td><td>-0.1291326028</td><td>-0.193541499 </td><td>-0.113394240 </td><td> 0.042441841 </td><td>-0.004821646 </td><td> 0.0101049016</td><td> 0.0076701517</td><td> 1.491414e-03</td><td> 4.577005e-03</td><td>-0.0082491504</td><td> 3.657171e-04</td><td> 1.403438e-04</td></tr>\n",
       "\t<tr><th scope=row>PAPI_L2_LDM</th><td>0.8432185    </td><td> 0.3406027   </td><td>-0.07085822  </td><td> 0.25889528  </td><td>-0.2812756660</td><td> 0.1345315424</td><td> 0.014042115 </td><td> 0.031393252 </td><td> 0.002462017 </td><td> 0.027397193 </td><td>-0.0417476805</td><td>-0.0007549648</td><td>-1.394688e-03</td><td> 1.767467e-03</td><td>-0.0005142673</td><td>-1.934083e-03</td><td> 4.241990e-03</td></tr>\n",
       "\t<tr><th scope=row>PAPI_SR_INS</th><td>0.9167220    </td><td>-0.2941827   </td><td> 0.06636300  </td><td>-0.06549512  </td><td>-0.0483166692</td><td>-0.0523384516</td><td> 0.120212998 </td><td>-0.101639041 </td><td> 0.022721542 </td><td>-0.150765973 </td><td>-0.1057876111</td><td> 0.0063775760</td><td>-6.957276e-03</td><td> 9.557760e-04</td><td> 0.0007100132</td><td> 2.746008e-06</td><td>-2.239102e-04</td></tr>\n",
       "\t<tr><th scope=row>PAPI_BR_UCN</th><td>0.7472572    </td><td>-0.1379115   </td><td> 0.12054418  </td><td>-0.33335219  </td><td> 0.0237149825</td><td> 0.5206483703</td><td>-0.154149747 </td><td> 0.038167758 </td><td>-0.003203297 </td><td>-0.008022422 </td><td>-0.0010752593</td><td>-0.0008245332</td><td>-1.279161e-04</td><td>-1.527701e-05</td><td> 0.0000101577</td><td> 3.605712e-05</td><td> 8.243852e-06</td></tr>\n",
       "\t<tr><th scope=row>PAPI_BR_CN</th><td>0.9171765    </td><td>-0.2957125   </td><td> 0.11350451  </td><td>-0.10421862  </td><td>-0.0678493824</td><td>-0.0340344377</td><td> 0.136961627 </td><td>-0.117924028 </td><td>-0.033437603 </td><td> 0.085804798 </td><td> 0.0252677095</td><td> 0.0034805561</td><td>-3.471122e-03</td><td> 8.489285e-04</td><td>-0.0003600756</td><td>-4.739189e-03</td><td>-1.904019e-03</td></tr>\n",
       "\t<tr><th scope=row>PAPI_BR_TKN</th><td>0.9167973    </td><td>-0.2958114   </td><td> 0.11303745  </td><td>-0.10219730  </td><td>-0.0675968030</td><td>-0.0378502372</td><td> 0.139585964 </td><td>-0.118097476 </td><td>-0.033454678 </td><td> 0.086490641 </td><td> 0.0257040112</td><td> 0.0034343339</td><td>-4.903720e-03</td><td> 1.194378e-03</td><td> 0.0008406137</td><td> 4.648706e-03</td><td> 1.787367e-03</td></tr>\n",
       "\t<tr><th scope=row>PAPI_BR_MSP</th><td>0.9334374    </td><td> 0.2449053   </td><td> 0.17065848  </td><td> 0.08289807  </td><td> 0.0357716154</td><td> 0.0002399223</td><td> 0.078917323 </td><td> 0.024285085 </td><td>-0.075287338 </td><td>-0.084209886 </td><td> 0.0948502442</td><td>-0.0535040333</td><td>-1.557268e-03</td><td> 5.432153e-04</td><td>-0.0008926364</td><td> 7.506822e-06</td><td> 3.358615e-05</td></tr>\n",
       "\t<tr><th scope=row>PAPI_FP_OPS</th><td>0.6624532    </td><td>-0.5966435   </td><td>-0.31520936  </td><td> 0.09013650  </td><td> 0.0203841219</td><td>-0.1173929397</td><td>-0.237414413 </td><td> 0.133972469 </td><td>-0.094651382 </td><td> 0.002208568 </td><td> 0.0052943751</td><td> 0.0046181600</td><td>-1.259524e-02</td><td> 2.713065e-03</td><td> 0.0008436332</td><td>-8.626407e-05</td><td>-1.954039e-04</td></tr>\n",
       "\t<tr><th scope=row>PAPI_L1_LDM</th><td>0.8775764    </td><td> 0.2640518   </td><td>-0.07592985  </td><td> 0.28452950  </td><td>-0.2205682705</td><td> 0.1425681015</td><td> 0.017918579 </td><td> 0.032030940 </td><td> 0.015214253 </td><td> 0.035596236 </td><td>-0.0393500587</td><td>-0.0043769726</td><td>-8.077637e-05</td><td>-5.294331e-04</td><td>-0.0008777787</td><td> 2.063227e-03</td><td>-4.404423e-03</td></tr>\n",
       "\t<tr><th scope=row>PAPI_L1_STM</th><td>0.8358556    </td><td> 0.3804532   </td><td>-0.25974218  </td><td>-0.15164596  </td><td> 0.2006101076</td><td>-0.0496839220</td><td> 0.115466872 </td><td> 0.088920736 </td><td> 0.011550698 </td><td> 0.025568018 </td><td>-0.0337983903</td><td>-0.0065921938</td><td> 6.209555e-03</td><td> 1.281677e-02</td><td> 0.0031748915</td><td>-3.903353e-05</td><td>-2.912850e-04</td></tr>\n",
       "\t<tr><th scope=row>PAPI_LD_INS</th><td>0.7905560    </td><td>-0.4214059   </td><td> 0.26155961  </td><td>-0.08444988  </td><td>-0.1665928610</td><td>-0.1594539031</td><td> 0.006518448 </td><td> 0.202773943 </td><td> 0.161283501 </td><td> 0.001362782 </td><td> 0.0390882337</td><td>-0.0032321159</td><td> 1.436809e-03</td><td>-1.238451e-05</td><td>-0.0001636432</td><td>-3.399998e-05</td><td> 1.106064e-04</td></tr>\n",
       "\t<tr><th scope=row>PAPI_L2_STM</th><td>0.8105766    </td><td> 0.4156322   </td><td>-0.27045922  </td><td>-0.17991568  </td><td> 0.1856556224</td><td>-0.0630293963</td><td> 0.116022028 </td><td> 0.099620119 </td><td> 0.011764937 </td><td> 0.033916911 </td><td>-0.0364391669</td><td>-0.0063187574</td><td>-7.149277e-03</td><td>-1.270455e-02</td><td>-0.0015892996</td><td>-1.012624e-04</td><td> 3.695050e-04</td></tr>\n",
       "\t<tr><th scope=row>PAPI_TLB_DM</th><td>0.5260323    </td><td> 0.4144805   </td><td> 0.68672350  </td><td> 0.11187320  </td><td> 0.2085335798</td><td>-0.0775615577</td><td>-0.072697876 </td><td> 0.081684266 </td><td>-0.059077512 </td><td> 0.018925302 </td><td>-0.0372318021</td><td> 0.0262612333</td><td>-2.663324e-03</td><td> 2.318171e-04</td><td> 0.0006773528</td><td>-1.871297e-05</td><td>-9.346189e-05</td></tr>\n",
       "\t<tr><th scope=row>PAPI_L2_DCH</th><td>0.5926324    </td><td>-0.5546639   </td><td>-0.03356666  </td><td> 0.36408564  </td><td> 0.4152274065</td><td> 0.1522011627</td><td> 0.029158640 </td><td>-0.060616605 </td><td> 0.082844382 </td><td> 0.020343121 </td><td>-0.0005362344</td><td>-0.0079316492</td><td> 1.998812e-03</td><td>-1.230637e-03</td><td> 0.0001344229</td><td>-2.456240e-04</td><td> 5.649865e-04</td></tr>\n",
       "</tbody>\n",
       "</table>\n"
      ],
      "text/latex": [
       "\\begin{tabular}{r|lllllllllllllllll}\n",
       "  & Dim.1 & Dim.2 & Dim.3 & Dim.4 & Dim.5 & Dim.6 & Dim.7 & Dim.8 & Dim.9 & Dim.10 & Dim.11 & Dim.12 & Dim.13 & Dim.14 & Dim.15 & Dim.16 & Dim.17\\\\\n",
       "\\hline\n",
       "\tPAPI\\_L1\\_DCM & 0.9286990     &  0.2499185    & -0.20721729   &  0.07043275   & -0.0003024417 &  0.0545922601 &  0.068678326  & -0.005433713  &  0.002771272  & -0.067038970  &  0.1091481304 &  0.0548018480 &  2.450981e-03 & -2.071338e-03 &  0.0019133405 & -1.723575e-05 & -1.129559e-04\\\\\n",
       "\tPAPI\\_L3\\_TCM & 0.8820604     &  0.3078553    & -0.01136443   & -0.03208057   & -0.0415626950 & -0.1384545086 & -0.280929382  & -0.152540321  &  0.049383635  &  0.011669646  &  0.0001286878 & -0.0176009718 &  2.730043e-03 & -4.381147e-03 &  0.0061519692 & -2.478413e-04 & -4.786932e-05\\\\\n",
       "\tPAPI\\_TOT\\_INS & 0.8798387     & -0.4485538    & -0.02483897   & -0.01615349   & -0.0443014476 & -0.0872658853 & -0.006138153  &  0.041461032  & -0.101613006  & -0.007433797  & -0.0400598425 &  0.0016413024 &  2.139860e-02 & -4.870284e-03 & -0.0010387359 &  1.376531e-04 &  3.206784e-04\\\\\n",
       "\tPAPI\\_REF\\_CYC & 0.9191365     &  0.2641666    & -0.07640017   & -0.07054300   &  0.0743104623 & -0.1291326028 & -0.193541499  & -0.113394240  &  0.042441841  & -0.004821646  &  0.0101049016 &  0.0076701517 &  1.491414e-03 &  4.577005e-03 & -0.0082491504 &  3.657171e-04 &  1.403438e-04\\\\\n",
       "\tPAPI\\_L2\\_LDM & 0.8432185     &  0.3406027    & -0.07085822   &  0.25889528   & -0.2812756660 &  0.1345315424 &  0.014042115  &  0.031393252  &  0.002462017  &  0.027397193  & -0.0417476805 & -0.0007549648 & -1.394688e-03 &  1.767467e-03 & -0.0005142673 & -1.934083e-03 &  4.241990e-03\\\\\n",
       "\tPAPI\\_SR\\_INS & 0.9167220     & -0.2941827    &  0.06636300   & -0.06549512   & -0.0483166692 & -0.0523384516 &  0.120212998  & -0.101639041  &  0.022721542  & -0.150765973  & -0.1057876111 &  0.0063775760 & -6.957276e-03 &  9.557760e-04 &  0.0007100132 &  2.746008e-06 & -2.239102e-04\\\\\n",
       "\tPAPI\\_BR\\_UCN & 0.7472572     & -0.1379115    &  0.12054418   & -0.33335219   &  0.0237149825 &  0.5206483703 & -0.154149747  &  0.038167758  & -0.003203297  & -0.008022422  & -0.0010752593 & -0.0008245332 & -1.279161e-04 & -1.527701e-05 &  0.0000101577 &  3.605712e-05 &  8.243852e-06\\\\\n",
       "\tPAPI\\_BR\\_CN & 0.9171765     & -0.2957125    &  0.11350451   & -0.10421862   & -0.0678493824 & -0.0340344377 &  0.136961627  & -0.117924028  & -0.033437603  &  0.085804798  &  0.0252677095 &  0.0034805561 & -3.471122e-03 &  8.489285e-04 & -0.0003600756 & -4.739189e-03 & -1.904019e-03\\\\\n",
       "\tPAPI\\_BR\\_TKN & 0.9167973     & -0.2958114    &  0.11303745   & -0.10219730   & -0.0675968030 & -0.0378502372 &  0.139585964  & -0.118097476  & -0.033454678  &  0.086490641  &  0.0257040112 &  0.0034343339 & -4.903720e-03 &  1.194378e-03 &  0.0008406137 &  4.648706e-03 &  1.787367e-03\\\\\n",
       "\tPAPI\\_BR\\_MSP & 0.9334374     &  0.2449053    &  0.17065848   &  0.08289807   &  0.0357716154 &  0.0002399223 &  0.078917323  &  0.024285085  & -0.075287338  & -0.084209886  &  0.0948502442 & -0.0535040333 & -1.557268e-03 &  5.432153e-04 & -0.0008926364 &  7.506822e-06 &  3.358615e-05\\\\\n",
       "\tPAPI\\_FP\\_OPS & 0.6624532     & -0.5966435    & -0.31520936   &  0.09013650   &  0.0203841219 & -0.1173929397 & -0.237414413  &  0.133972469  & -0.094651382  &  0.002208568  &  0.0052943751 &  0.0046181600 & -1.259524e-02 &  2.713065e-03 &  0.0008436332 & -8.626407e-05 & -1.954039e-04\\\\\n",
       "\tPAPI\\_L1\\_LDM & 0.8775764     &  0.2640518    & -0.07592985   &  0.28452950   & -0.2205682705 &  0.1425681015 &  0.017918579  &  0.032030940  &  0.015214253  &  0.035596236  & -0.0393500587 & -0.0043769726 & -8.077637e-05 & -5.294331e-04 & -0.0008777787 &  2.063227e-03 & -4.404423e-03\\\\\n",
       "\tPAPI\\_L1\\_STM & 0.8358556     &  0.3804532    & -0.25974218   & -0.15164596   &  0.2006101076 & -0.0496839220 &  0.115466872  &  0.088920736  &  0.011550698  &  0.025568018  & -0.0337983903 & -0.0065921938 &  6.209555e-03 &  1.281677e-02 &  0.0031748915 & -3.903353e-05 & -2.912850e-04\\\\\n",
       "\tPAPI\\_LD\\_INS & 0.7905560     & -0.4214059    &  0.26155961   & -0.08444988   & -0.1665928610 & -0.1594539031 &  0.006518448  &  0.202773943  &  0.161283501  &  0.001362782  &  0.0390882337 & -0.0032321159 &  1.436809e-03 & -1.238451e-05 & -0.0001636432 & -3.399998e-05 &  1.106064e-04\\\\\n",
       "\tPAPI\\_L2\\_STM & 0.8105766     &  0.4156322    & -0.27045922   & -0.17991568   &  0.1856556224 & -0.0630293963 &  0.116022028  &  0.099620119  &  0.011764937  &  0.033916911  & -0.0364391669 & -0.0063187574 & -7.149277e-03 & -1.270455e-02 & -0.0015892996 & -1.012624e-04 &  3.695050e-04\\\\\n",
       "\tPAPI\\_TLB\\_DM & 0.5260323     &  0.4144805    &  0.68672350   &  0.11187320   &  0.2085335798 & -0.0775615577 & -0.072697876  &  0.081684266  & -0.059077512  &  0.018925302  & -0.0372318021 &  0.0262612333 & -2.663324e-03 &  2.318171e-04 &  0.0006773528 & -1.871297e-05 & -9.346189e-05\\\\\n",
       "\tPAPI\\_L2\\_DCH & 0.5926324     & -0.5546639    & -0.03356666   &  0.36408564   &  0.4152274065 &  0.1522011627 &  0.029158640  & -0.060616605  &  0.082844382  &  0.020343121  & -0.0005362344 & -0.0079316492 &  1.998812e-03 & -1.230637e-03 &  0.0001344229 & -2.456240e-04 &  5.649865e-04\\\\\n",
       "\\end{tabular}\n"
      ],
      "text/markdown": [
       "\n",
       "| <!--/--> | Dim.1 | Dim.2 | Dim.3 | Dim.4 | Dim.5 | Dim.6 | Dim.7 | Dim.8 | Dim.9 | Dim.10 | Dim.11 | Dim.12 | Dim.13 | Dim.14 | Dim.15 | Dim.16 | Dim.17 | \n",
       "|---|---|---|---|---|---|---|---|---|---|---|---|---|---|---|---|---|\n",
       "| PAPI_L1_DCM | 0.9286990     |  0.2499185    | -0.20721729   |  0.07043275   | -0.0003024417 |  0.0545922601 |  0.068678326  | -0.005433713  |  0.002771272  | -0.067038970  |  0.1091481304 |  0.0548018480 |  2.450981e-03 | -2.071338e-03 |  0.0019133405 | -1.723575e-05 | -1.129559e-04 | \n",
       "| PAPI_L3_TCM | 0.8820604     |  0.3078553    | -0.01136443   | -0.03208057   | -0.0415626950 | -0.1384545086 | -0.280929382  | -0.152540321  |  0.049383635  |  0.011669646  |  0.0001286878 | -0.0176009718 |  2.730043e-03 | -4.381147e-03 |  0.0061519692 | -2.478413e-04 | -4.786932e-05 | \n",
       "| PAPI_TOT_INS | 0.8798387     | -0.4485538    | -0.02483897   | -0.01615349   | -0.0443014476 | -0.0872658853 | -0.006138153  |  0.041461032  | -0.101613006  | -0.007433797  | -0.0400598425 |  0.0016413024 |  2.139860e-02 | -4.870284e-03 | -0.0010387359 |  1.376531e-04 |  3.206784e-04 | \n",
       "| PAPI_REF_CYC | 0.9191365     |  0.2641666    | -0.07640017   | -0.07054300   |  0.0743104623 | -0.1291326028 | -0.193541499  | -0.113394240  |  0.042441841  | -0.004821646  |  0.0101049016 |  0.0076701517 |  1.491414e-03 |  4.577005e-03 | -0.0082491504 |  3.657171e-04 |  1.403438e-04 | \n",
       "| PAPI_L2_LDM | 0.8432185     |  0.3406027    | -0.07085822   |  0.25889528   | -0.2812756660 |  0.1345315424 |  0.014042115  |  0.031393252  |  0.002462017  |  0.027397193  | -0.0417476805 | -0.0007549648 | -1.394688e-03 |  1.767467e-03 | -0.0005142673 | -1.934083e-03 |  4.241990e-03 | \n",
       "| PAPI_SR_INS | 0.9167220     | -0.2941827    |  0.06636300   | -0.06549512   | -0.0483166692 | -0.0523384516 |  0.120212998  | -0.101639041  |  0.022721542  | -0.150765973  | -0.1057876111 |  0.0063775760 | -6.957276e-03 |  9.557760e-04 |  0.0007100132 |  2.746008e-06 | -2.239102e-04 | \n",
       "| PAPI_BR_UCN | 0.7472572     | -0.1379115    |  0.12054418   | -0.33335219   |  0.0237149825 |  0.5206483703 | -0.154149747  |  0.038167758  | -0.003203297  | -0.008022422  | -0.0010752593 | -0.0008245332 | -1.279161e-04 | -1.527701e-05 |  0.0000101577 |  3.605712e-05 |  8.243852e-06 | \n",
       "| PAPI_BR_CN | 0.9171765     | -0.2957125    |  0.11350451   | -0.10421862   | -0.0678493824 | -0.0340344377 |  0.136961627  | -0.117924028  | -0.033437603  |  0.085804798  |  0.0252677095 |  0.0034805561 | -3.471122e-03 |  8.489285e-04 | -0.0003600756 | -4.739189e-03 | -1.904019e-03 | \n",
       "| PAPI_BR_TKN | 0.9167973     | -0.2958114    |  0.11303745   | -0.10219730   | -0.0675968030 | -0.0378502372 |  0.139585964  | -0.118097476  | -0.033454678  |  0.086490641  |  0.0257040112 |  0.0034343339 | -4.903720e-03 |  1.194378e-03 |  0.0008406137 |  4.648706e-03 |  1.787367e-03 | \n",
       "| PAPI_BR_MSP | 0.9334374     |  0.2449053    |  0.17065848   |  0.08289807   |  0.0357716154 |  0.0002399223 |  0.078917323  |  0.024285085  | -0.075287338  | -0.084209886  |  0.0948502442 | -0.0535040333 | -1.557268e-03 |  5.432153e-04 | -0.0008926364 |  7.506822e-06 |  3.358615e-05 | \n",
       "| PAPI_FP_OPS | 0.6624532     | -0.5966435    | -0.31520936   |  0.09013650   |  0.0203841219 | -0.1173929397 | -0.237414413  |  0.133972469  | -0.094651382  |  0.002208568  |  0.0052943751 |  0.0046181600 | -1.259524e-02 |  2.713065e-03 |  0.0008436332 | -8.626407e-05 | -1.954039e-04 | \n",
       "| PAPI_L1_LDM | 0.8775764     |  0.2640518    | -0.07592985   |  0.28452950   | -0.2205682705 |  0.1425681015 |  0.017918579  |  0.032030940  |  0.015214253  |  0.035596236  | -0.0393500587 | -0.0043769726 | -8.077637e-05 | -5.294331e-04 | -0.0008777787 |  2.063227e-03 | -4.404423e-03 | \n",
       "| PAPI_L1_STM | 0.8358556     |  0.3804532    | -0.25974218   | -0.15164596   |  0.2006101076 | -0.0496839220 |  0.115466872  |  0.088920736  |  0.011550698  |  0.025568018  | -0.0337983903 | -0.0065921938 |  6.209555e-03 |  1.281677e-02 |  0.0031748915 | -3.903353e-05 | -2.912850e-04 | \n",
       "| PAPI_LD_INS | 0.7905560     | -0.4214059    |  0.26155961   | -0.08444988   | -0.1665928610 | -0.1594539031 |  0.006518448  |  0.202773943  |  0.161283501  |  0.001362782  |  0.0390882337 | -0.0032321159 |  1.436809e-03 | -1.238451e-05 | -0.0001636432 | -3.399998e-05 |  1.106064e-04 | \n",
       "| PAPI_L2_STM | 0.8105766     |  0.4156322    | -0.27045922   | -0.17991568   |  0.1856556224 | -0.0630293963 |  0.116022028  |  0.099620119  |  0.011764937  |  0.033916911  | -0.0364391669 | -0.0063187574 | -7.149277e-03 | -1.270455e-02 | -0.0015892996 | -1.012624e-04 |  3.695050e-04 | \n",
       "| PAPI_TLB_DM | 0.5260323     |  0.4144805    |  0.68672350   |  0.11187320   |  0.2085335798 | -0.0775615577 | -0.072697876  |  0.081684266  | -0.059077512  |  0.018925302  | -0.0372318021 |  0.0262612333 | -2.663324e-03 |  2.318171e-04 |  0.0006773528 | -1.871297e-05 | -9.346189e-05 | \n",
       "| PAPI_L2_DCH | 0.5926324     | -0.5546639    | -0.03356666   |  0.36408564   |  0.4152274065 |  0.1522011627 |  0.029158640  | -0.060616605  |  0.082844382  |  0.020343121  | -0.0005362344 | -0.0079316492 |  1.998812e-03 | -1.230637e-03 |  0.0001344229 | -2.456240e-04 |  5.649865e-04 | \n",
       "\n",
       "\n"
      ],
      "text/plain": [
       "             Dim.1     Dim.2      Dim.3       Dim.4       Dim.5        \n",
       "PAPI_L1_DCM  0.9286990  0.2499185 -0.20721729  0.07043275 -0.0003024417\n",
       "PAPI_L3_TCM  0.8820604  0.3078553 -0.01136443 -0.03208057 -0.0415626950\n",
       "PAPI_TOT_INS 0.8798387 -0.4485538 -0.02483897 -0.01615349 -0.0443014476\n",
       "PAPI_REF_CYC 0.9191365  0.2641666 -0.07640017 -0.07054300  0.0743104623\n",
       "PAPI_L2_LDM  0.8432185  0.3406027 -0.07085822  0.25889528 -0.2812756660\n",
       "PAPI_SR_INS  0.9167220 -0.2941827  0.06636300 -0.06549512 -0.0483166692\n",
       "PAPI_BR_UCN  0.7472572 -0.1379115  0.12054418 -0.33335219  0.0237149825\n",
       "PAPI_BR_CN   0.9171765 -0.2957125  0.11350451 -0.10421862 -0.0678493824\n",
       "PAPI_BR_TKN  0.9167973 -0.2958114  0.11303745 -0.10219730 -0.0675968030\n",
       "PAPI_BR_MSP  0.9334374  0.2449053  0.17065848  0.08289807  0.0357716154\n",
       "PAPI_FP_OPS  0.6624532 -0.5966435 -0.31520936  0.09013650  0.0203841219\n",
       "PAPI_L1_LDM  0.8775764  0.2640518 -0.07592985  0.28452950 -0.2205682705\n",
       "PAPI_L1_STM  0.8358556  0.3804532 -0.25974218 -0.15164596  0.2006101076\n",
       "PAPI_LD_INS  0.7905560 -0.4214059  0.26155961 -0.08444988 -0.1665928610\n",
       "PAPI_L2_STM  0.8105766  0.4156322 -0.27045922 -0.17991568  0.1856556224\n",
       "PAPI_TLB_DM  0.5260323  0.4144805  0.68672350  0.11187320  0.2085335798\n",
       "PAPI_L2_DCH  0.5926324 -0.5546639 -0.03356666  0.36408564  0.4152274065\n",
       "             Dim.6         Dim.7        Dim.8        Dim.9        Dim.10      \n",
       "PAPI_L1_DCM   0.0545922601  0.068678326 -0.005433713  0.002771272 -0.067038970\n",
       "PAPI_L3_TCM  -0.1384545086 -0.280929382 -0.152540321  0.049383635  0.011669646\n",
       "PAPI_TOT_INS -0.0872658853 -0.006138153  0.041461032 -0.101613006 -0.007433797\n",
       "PAPI_REF_CYC -0.1291326028 -0.193541499 -0.113394240  0.042441841 -0.004821646\n",
       "PAPI_L2_LDM   0.1345315424  0.014042115  0.031393252  0.002462017  0.027397193\n",
       "PAPI_SR_INS  -0.0523384516  0.120212998 -0.101639041  0.022721542 -0.150765973\n",
       "PAPI_BR_UCN   0.5206483703 -0.154149747  0.038167758 -0.003203297 -0.008022422\n",
       "PAPI_BR_CN   -0.0340344377  0.136961627 -0.117924028 -0.033437603  0.085804798\n",
       "PAPI_BR_TKN  -0.0378502372  0.139585964 -0.118097476 -0.033454678  0.086490641\n",
       "PAPI_BR_MSP   0.0002399223  0.078917323  0.024285085 -0.075287338 -0.084209886\n",
       "PAPI_FP_OPS  -0.1173929397 -0.237414413  0.133972469 -0.094651382  0.002208568\n",
       "PAPI_L1_LDM   0.1425681015  0.017918579  0.032030940  0.015214253  0.035596236\n",
       "PAPI_L1_STM  -0.0496839220  0.115466872  0.088920736  0.011550698  0.025568018\n",
       "PAPI_LD_INS  -0.1594539031  0.006518448  0.202773943  0.161283501  0.001362782\n",
       "PAPI_L2_STM  -0.0630293963  0.116022028  0.099620119  0.011764937  0.033916911\n",
       "PAPI_TLB_DM  -0.0775615577 -0.072697876  0.081684266 -0.059077512  0.018925302\n",
       "PAPI_L2_DCH   0.1522011627  0.029158640 -0.060616605  0.082844382  0.020343121\n",
       "             Dim.11        Dim.12        Dim.13        Dim.14       \n",
       "PAPI_L1_DCM   0.1091481304  0.0548018480  2.450981e-03 -2.071338e-03\n",
       "PAPI_L3_TCM   0.0001286878 -0.0176009718  2.730043e-03 -4.381147e-03\n",
       "PAPI_TOT_INS -0.0400598425  0.0016413024  2.139860e-02 -4.870284e-03\n",
       "PAPI_REF_CYC  0.0101049016  0.0076701517  1.491414e-03  4.577005e-03\n",
       "PAPI_L2_LDM  -0.0417476805 -0.0007549648 -1.394688e-03  1.767467e-03\n",
       "PAPI_SR_INS  -0.1057876111  0.0063775760 -6.957276e-03  9.557760e-04\n",
       "PAPI_BR_UCN  -0.0010752593 -0.0008245332 -1.279161e-04 -1.527701e-05\n",
       "PAPI_BR_CN    0.0252677095  0.0034805561 -3.471122e-03  8.489285e-04\n",
       "PAPI_BR_TKN   0.0257040112  0.0034343339 -4.903720e-03  1.194378e-03\n",
       "PAPI_BR_MSP   0.0948502442 -0.0535040333 -1.557268e-03  5.432153e-04\n",
       "PAPI_FP_OPS   0.0052943751  0.0046181600 -1.259524e-02  2.713065e-03\n",
       "PAPI_L1_LDM  -0.0393500587 -0.0043769726 -8.077637e-05 -5.294331e-04\n",
       "PAPI_L1_STM  -0.0337983903 -0.0065921938  6.209555e-03  1.281677e-02\n",
       "PAPI_LD_INS   0.0390882337 -0.0032321159  1.436809e-03 -1.238451e-05\n",
       "PAPI_L2_STM  -0.0364391669 -0.0063187574 -7.149277e-03 -1.270455e-02\n",
       "PAPI_TLB_DM  -0.0372318021  0.0262612333 -2.663324e-03  2.318171e-04\n",
       "PAPI_L2_DCH  -0.0005362344 -0.0079316492  1.998812e-03 -1.230637e-03\n",
       "             Dim.15        Dim.16        Dim.17       \n",
       "PAPI_L1_DCM   0.0019133405 -1.723575e-05 -1.129559e-04\n",
       "PAPI_L3_TCM   0.0061519692 -2.478413e-04 -4.786932e-05\n",
       "PAPI_TOT_INS -0.0010387359  1.376531e-04  3.206784e-04\n",
       "PAPI_REF_CYC -0.0082491504  3.657171e-04  1.403438e-04\n",
       "PAPI_L2_LDM  -0.0005142673 -1.934083e-03  4.241990e-03\n",
       "PAPI_SR_INS   0.0007100132  2.746008e-06 -2.239102e-04\n",
       "PAPI_BR_UCN   0.0000101577  3.605712e-05  8.243852e-06\n",
       "PAPI_BR_CN   -0.0003600756 -4.739189e-03 -1.904019e-03\n",
       "PAPI_BR_TKN   0.0008406137  4.648706e-03  1.787367e-03\n",
       "PAPI_BR_MSP  -0.0008926364  7.506822e-06  3.358615e-05\n",
       "PAPI_FP_OPS   0.0008436332 -8.626407e-05 -1.954039e-04\n",
       "PAPI_L1_LDM  -0.0008777787  2.063227e-03 -4.404423e-03\n",
       "PAPI_L1_STM   0.0031748915 -3.903353e-05 -2.912850e-04\n",
       "PAPI_LD_INS  -0.0001636432 -3.399998e-05  1.106064e-04\n",
       "PAPI_L2_STM  -0.0015892996 -1.012624e-04  3.695050e-04\n",
       "PAPI_TLB_DM   0.0006773528 -1.871297e-05 -9.346189e-05\n",
       "PAPI_L2_DCH   0.0001344229 -2.456240e-04  5.649865e-04"
      ]
     },
     "metadata": {},
     "output_type": "display_data"
    }
   ],
   "source": [
    "var$coord\n"
   ]
  },
  {
   "cell_type": "code",
   "execution_count": 80,
   "metadata": {},
   "outputs": [
    {
     "data": {
      "image/png": "[encoded data removed]",
      "text/plain": [
       "plot without title"
      ]
     },
     "metadata": {},
     "output_type": "display_data"
    }
   ],
   "source": [
    "library(devtools)\n",
    "library(ggbiplot)\n",
    "g <- ggbiplot(res.pca, obs.scale = 1, var.scale = 1, groups = res.label, ellipse = FALSE, circle = TRUE, var.axes=FALSE)\n",
    "#g <- ggbiplot(res.pca, obs.scale = 1, var.scale = 1, groups = {res.label, res.threads}, ellipse = FALSE, circle = TRUE, var.axes=FALSE)\n",
    "g <- g + scale_color_discrete(name = '')\n",
    "g <- g + theme(legend.direction = 'horizontal', legend.position = 'top')\n",
    "print(g)"
   ]
  },
  {
   "cell_type": "code",
   "execution_count": 81,
   "metadata": {},
   "outputs": [
    {
     "name": "stdout",
     "output_type": "stream",
     "text": [
      "                   PC1        PC2         PC3         PC4\n",
      "PAPI_L1_DCM  0.9286990  0.2499185 -0.20721729  0.07043275\n",
      "PAPI_L3_TCM  0.8820604  0.3078553 -0.01136443 -0.03208057\n",
      "PAPI_TOT_INS 0.8798387 -0.4485538 -0.02483897 -0.01615349\n",
      "PAPI_REF_CYC 0.9191365  0.2641666 -0.07640017 -0.07054300\n",
      "PAPI_L2_LDM  0.8432185  0.3406027 -0.07085822  0.25889528\n",
      "PAPI_SR_INS  0.9167220 -0.2941827  0.06636300 -0.06549512\n",
      "PAPI_BR_UCN  0.7472572 -0.1379115  0.12054418 -0.33335219\n",
      "PAPI_BR_CN   0.9171765 -0.2957125  0.11350451 -0.10421862\n",
      "PAPI_BR_TKN  0.9167973 -0.2958114  0.11303745 -0.10219730\n",
      "PAPI_BR_MSP  0.9334374  0.2449053  0.17065848  0.08289807\n",
      "PAPI_FP_OPS  0.6624532 -0.5966435 -0.31520936  0.09013650\n",
      "PAPI_L1_LDM  0.8775764  0.2640518 -0.07592985  0.28452950\n",
      "PAPI_L1_STM  0.8358556  0.3804532 -0.25974218 -0.15164596\n",
      "PAPI_LD_INS  0.7905560 -0.4214059  0.26155961 -0.08444988\n",
      "PAPI_L2_STM  0.8105766  0.4156322 -0.27045922 -0.17991568\n",
      "PAPI_TLB_DM  0.5260323  0.4144805  0.68672350  0.11187320\n",
      "PAPI_L2_DCH  0.5926324 -0.5546639 -0.03356666  0.36408564\n"
     ]
    }
   ],
   "source": [
    "# Helper function : \n",
    "# Correlation between variables and principal components\n",
    "var_cor_func <- function(var.loadings, comp.sdev){\n",
    "  var.loadings*comp.sdev\n",
    "  }\n",
    "\n",
    "# Variable correlation/coordinates\n",
    "loadings <- res.pca$rotation\n",
    "sdev <- res.pca$sdev\n",
    "\n",
    "var.coord <- var.cor <- t(apply(loadings, 1, var_cor_func, sdev))\n",
    "print(var.coord[, 1:4])"
   ]
  },
  {
   "cell_type": "code",
   "execution_count": 82,
   "metadata": {},
   "outputs": [
    {
     "name": "stdout",
     "output_type": "stream",
     "text": [
      "                   PC1        PC2          PC3          PC4          PC5\n",
      "PAPI_L1_DCM  0.8624819 0.06245924 0.0429390069 0.0049607730 9.147097e-08\n",
      "PAPI_L3_TCM  0.7780305 0.09477490 0.0001291503 0.0010291628 1.727458e-03\n",
      "PAPI_TOT_INS 0.7741161 0.20120054 0.0006169743 0.0002609353 1.962618e-03\n",
      "PAPI_REF_CYC 0.8448120 0.06978400 0.0058369857 0.0049763146 5.522045e-03\n",
      "PAPI_L2_LDM  0.7110175 0.11601022 0.0050208876 0.0670267656 7.911600e-02\n",
      "PAPI_SR_INS  0.8403792 0.08654347 0.0044040472 0.0042896105 2.334501e-03\n",
      "PAPI_BR_UCN  0.5583933 0.01901957 0.0145308988 0.1111236846 5.624004e-04\n",
      "PAPI_BR_CN   0.8412128 0.08744590 0.0128832742 0.0108615215 4.603539e-03\n",
      "PAPI_BR_TKN  0.8405173 0.08750436 0.0127774655 0.0104442871 4.569328e-03\n",
      "PAPI_BR_MSP  0.8713053 0.05997862 0.0291243174 0.0068720904 1.279608e-03\n",
      "PAPI_FP_OPS  0.4388443 0.35598350 0.0993569413 0.0081245878 4.155124e-04\n",
      "PAPI_L1_LDM  0.7701403 0.06972334 0.0057653419 0.0809570360 4.865036e-02\n",
      "PAPI_L1_STM  0.6986545 0.14474465 0.0674660002 0.0229964963 4.024442e-02\n",
      "PAPI_LD_INS  0.6249787 0.17758291 0.0684134275 0.0071317830 2.775318e-02\n",
      "PAPI_L2_STM  0.6570344 0.17275011 0.0731481910 0.0323696535 3.446801e-02\n",
      "PAPI_TLB_DM  0.2767100 0.17179407 0.4715891705 0.0125156137 4.348625e-02\n",
      "PAPI_L2_DCH  0.3512132 0.30765202 0.0011267209 0.1325583524 1.724138e-01\n",
      "                      PC6          PC7          PC8          PC9         PC10\n",
      "PAPI_L1_DCM  2.980315e-03 4.716713e-03 2.952524e-05 7.679951e-06 4.494223e-03\n",
      "PAPI_L3_TCM  1.916965e-02 7.892132e-02 2.326855e-02 2.438743e-03 1.361806e-04\n",
      "PAPI_TOT_INS 7.615335e-03 3.767693e-05 1.719017e-03 1.032520e-02 5.526134e-05\n",
      "PAPI_REF_CYC 1.667523e-02 3.745831e-02 1.285825e-02 1.801310e-03 2.324827e-05\n",
      "PAPI_L2_LDM  1.809874e-02 1.971810e-04 9.855363e-04 6.061526e-06 7.506062e-04\n",
      "PAPI_SR_INS  2.739314e-03 1.445116e-02 1.033049e-02 5.162685e-04 2.273038e-02\n",
      "PAPI_BR_UCN  2.710747e-01 2.376214e-02 1.456778e-03 1.026111e-05 6.435926e-05\n",
      "PAPI_BR_CN   1.158343e-03 1.875849e-02 1.390608e-02 1.118073e-03 7.362463e-03\n",
      "PAPI_BR_TKN  1.432640e-03 1.948424e-02 1.394701e-02 1.119215e-03 7.480631e-03\n",
      "PAPI_BR_MSP  5.756272e-08 6.227944e-03 5.897653e-04 5.668183e-03 7.091305e-03\n",
      "PAPI_FP_OPS  1.378110e-02 5.636560e-02 1.794862e-02 8.958884e-03 4.877773e-06\n",
      "PAPI_L1_LDM  2.032566e-02 3.210755e-04 1.025981e-03 2.314735e-04 1.267092e-03\n",
      "PAPI_L1_STM  2.468492e-03 1.333260e-02 7.906897e-03 1.334186e-04 6.537236e-04\n",
      "PAPI_LD_INS  2.542555e-02 4.249017e-05 4.111727e-02 2.601237e-02 1.857175e-06\n",
      "PAPI_L2_STM  3.972705e-03 1.346111e-02 9.924168e-03 1.384137e-04 1.150357e-03\n",
      "PAPI_TLB_DM  6.015795e-03 5.284981e-03 6.672319e-03 3.490152e-03 3.581670e-04\n",
      "PAPI_L2_DCH  2.316519e-02 8.502263e-04 3.674373e-03 6.863192e-03 4.138426e-04\n",
      "                     PC11         PC12         PC13         PC14         PC15\n",
      "PAPI_L1_DCM  1.191331e-02 3.003243e-03 6.007306e-06 4.290443e-06 3.660872e-06\n",
      "PAPI_L3_TCM  1.656056e-08 3.097942e-04 7.453134e-06 1.919445e-05 3.784673e-05\n",
      "PAPI_TOT_INS 1.604791e-03 2.693873e-06 4.578999e-04 2.371967e-05 1.078972e-06\n",
      "PAPI_REF_CYC 1.021090e-04 5.883123e-05 2.224315e-06 2.094898e-05 6.804848e-05\n",
      "PAPI_L2_LDM  1.742869e-03 5.699718e-07 1.945155e-06 3.123939e-06 2.644709e-07\n",
      "PAPI_SR_INS  1.119102e-02 4.067348e-05 4.840369e-05 9.135077e-07 5.041188e-07\n",
      "PAPI_BR_UCN  1.156183e-06 6.798550e-07 1.636253e-08 2.333870e-10 1.031788e-10\n",
      "PAPI_BR_CN   6.384571e-04 1.211427e-05 1.204868e-05 7.206795e-07 1.296544e-07\n",
      "PAPI_BR_TKN  6.606962e-04 1.179465e-05 2.404647e-05 1.426539e-06 7.066313e-07\n",
      "PAPI_BR_MSP  8.996569e-03 2.862682e-03 2.425084e-06 2.950828e-07 7.967997e-07\n",
      "PAPI_FP_OPS  2.803041e-05 2.132740e-05 1.586402e-04 7.360720e-06 7.117171e-07\n",
      "PAPI_L1_LDM  1.548427e-03 1.915789e-05 6.524821e-09 2.802994e-07 7.704954e-07\n",
      "PAPI_L1_STM  1.142331e-03 4.345702e-05 3.855857e-05 1.642696e-04 1.007994e-05\n",
      "PAPI_LD_INS  1.527890e-03 1.044657e-05 2.064419e-06 1.533760e-10 2.677909e-08\n",
      "PAPI_L2_STM  1.327813e-03 3.992669e-05 5.111216e-05 1.614056e-04 2.525873e-06\n",
      "PAPI_TLB_DM  1.386207e-03 6.896524e-04 7.093297e-06 5.373915e-08 4.588068e-07\n",
      "PAPI_L2_DCH  2.875473e-07 6.291106e-05 3.995248e-06 1.514468e-06 1.806951e-08\n",
      "                     PC16         PC17\n",
      "PAPI_L1_DCM  2.970709e-10 1.275903e-08\n",
      "PAPI_L3_TCM  6.142531e-08 2.291472e-09\n",
      "PAPI_TOT_INS 1.894836e-08 1.028346e-07\n",
      "PAPI_REF_CYC 1.337490e-07 1.969637e-08\n",
      "PAPI_L2_LDM  3.740676e-06 1.799448e-05\n",
      "PAPI_SR_INS  7.540562e-12 5.013579e-08\n",
      "PAPI_BR_UCN  1.300116e-09 6.796110e-11\n",
      "PAPI_BR_CN   2.245991e-05 3.625289e-06\n",
      "PAPI_BR_TKN  2.161046e-05 3.194680e-06\n",
      "PAPI_BR_MSP  5.635237e-11 1.128030e-09\n",
      "PAPI_FP_OPS  7.441490e-09 3.818269e-08\n",
      "PAPI_L1_LDM  4.256906e-06 1.939895e-05\n",
      "PAPI_L1_STM  1.523616e-09 8.484695e-08\n",
      "PAPI_LD_INS  1.155999e-09 1.223378e-08\n",
      "PAPI_L2_STM  1.025408e-08 1.365340e-07\n",
      "PAPI_TLB_DM  3.501753e-10 8.735124e-09\n",
      "PAPI_L2_DCH  6.033117e-08 3.192097e-07\n"
     ]
    }
   ],
   "source": [
    "var.cos2 <- var.coord^2\n",
    "print(var.cos2)"
   ]
  },
  {
   "cell_type": "code",
   "execution_count": 83,
   "metadata": {
    "scrolled": false
   },
   "outputs": [
    {
     "name": "stdout",
     "output_type": "stream",
     "text": [
      "                  PC1       PC2         PC3         PC4          PC5\n",
      "PAPI_L1_DCM  7.346623  2.733504  4.69212714  0.95675713 1.949887e-05\n",
      "PAPI_L3_TCM  6.627266  4.147786  0.01411280  0.19848899 3.682422e-01\n",
      "PAPI_TOT_INS 6.593923  8.805463  0.06741939  0.05032516 4.183714e-01\n",
      "PAPI_REF_CYC 7.196111  3.054069  0.63783215  0.95975455 1.177134e+00\n",
      "PAPI_L2_LDM  6.056449  5.077142  0.54865365 12.92708541 1.686516e+01\n",
      "PAPI_SR_INS  7.158352  3.787541  0.48124889  0.82731369 4.976455e-01\n",
      "PAPI_BR_UCN  4.756396  0.832384  1.58785285 21.43181679 1.198869e-01\n",
      "PAPI_BR_CN   7.165453  3.827036  1.40780993  2.09480219 9.813364e-01\n",
      "PAPI_BR_TKN  7.159529  3.829594  1.39624778  2.01433249 9.740437e-01\n",
      "PAPI_BR_MSP  7.421781  2.624941  3.18253751  1.32538246 2.727742e-01\n",
      "PAPI_FP_OPS  3.738077 15.579478 10.85715379  1.56694479 8.857479e-02\n",
      "PAPI_L1_LDM  6.560057  3.051415  0.63000333 15.61374040 1.037080e+01\n",
      "PAPI_L1_STM  5.951141  6.334693  7.37229559  4.43520836 8.578903e+00\n",
      "PAPI_LD_INS  5.323570  7.771846  7.47582498  1.37546794 5.916146e+00\n",
      "PAPI_L2_STM  5.596620  7.560341  7.99321264  6.24295790 7.347546e+00\n",
      "PAPI_TLB_DM  2.357017  7.518500 51.53254600  2.41381791 9.269966e+00\n",
      "PAPI_L2_DCH  2.991635 13.464269  0.12312156 25.56580385 3.675345e+01\n",
      "                      PC6         PC7         PC8          PC9         PC10\n",
      "PAPI_L1_DCM  6.834035e-01  1.60610891  0.01764168  0.011156411  8.316695148\n",
      "PAPI_L3_TCM  4.395712e+00 26.87385149 13.90323863  3.542682023  0.252006367\n",
      "PAPI_TOT_INS 1.746241e+00  0.01282954  1.02713349 14.999081608  0.102262765\n",
      "PAPI_REF_CYC 3.823727e+00 12.75509756  7.68296147  2.616703441  0.043021620\n",
      "PAPI_L2_LDM  4.150145e+00  0.06714298  0.58886979  0.008805379  1.389019282\n",
      "PAPI_SR_INS  6.281405e-01  4.92083090  6.17259501  0.749966151 42.063246512\n",
      "PAPI_BR_UCN  6.215901e+01  8.09135425  0.87044226  0.014905976  0.119098743\n",
      "PAPI_BR_CN   2.656148e-01  6.38753649  8.30904814  1.624188179 13.624458911\n",
      "PAPI_BR_TKN  3.285128e-01  6.63466632  8.33350876  1.625847408 13.843131680\n",
      "PAPI_BR_MSP  1.319947e-05  2.12070505  0.35239190  8.233982741 13.122672246\n",
      "PAPI_FP_OPS  3.160087e+00 19.19330409 10.72451814 13.014275448  0.009026465\n",
      "PAPI_L1_LDM  4.660793e+00  0.10933085  0.61303606  0.336253916  2.344791727\n",
      "PAPI_L1_STM  5.660396e-01  4.53994285  4.72446636  0.193812836  1.209735050\n",
      "PAPI_LD_INS  5.830226e+00  0.01446852 24.56806512 37.787308340  0.003436758\n",
      "PAPI_L2_STM  9.109643e-01  4.58370321  5.92981002  0.201069060  2.128769820\n",
      "PAPI_TLB_DM  1.379457e+00  1.79961263  3.98679115  5.070029174  0.662798833\n",
      "PAPI_L2_DCH  5.311914e+00  0.28951435  2.19548203  9.969931909  0.765828072\n",
      "                     PC11         PC12         PC13         PC14         PC15\n",
      "PAPI_L1_DCM  2.719191e+01 41.769978810 7.290946e-01 1.047681e+00 2.868381e+00\n",
      "PAPI_L3_TCM  3.779916e-05  4.308708762 9.045719e-01 4.687082e+00 2.965382e+01\n",
      "PAPI_TOT_INS 3.662904e+00  0.037467182 5.557439e+01 5.792092e+00 8.454007e-01\n",
      "PAPI_REF_CYC 2.330619e-01  0.818241976 2.699606e-01 5.115518e+00 5.331762e+01\n",
      "PAPI_L2_LDM  3.978064e+00  0.007927335 2.360796e-01 7.628328e-01 2.072193e-01\n",
      "PAPI_SR_INS  2.554328e+01  0.565698635 5.874658e+00 2.230689e-01 3.949892e-01\n",
      "PAPI_BR_UCN  2.638964e-03  0.009455623 1.985887e-03 5.699064e-05 8.084310e-05\n",
      "PAPI_BR_CN   1.457266e+00  0.168488837 1.462325e+00 1.759823e-01 1.015873e-01\n",
      "PAPI_BR_TKN  1.508026e+00  0.164043447 2.918471e+00 3.483456e-01 5.536626e-01\n",
      "PAPI_BR_MSP  2.053449e+01 39.815015746 2.943275e-01 7.205611e-02 6.243117e-01\n",
      "PAPI_FP_OPS  6.397886e-02  0.296627767 1.925384e+01 1.797410e+00 5.576474e-01\n",
      "PAPI_L1_LDM  3.534255e+00  0.266453547 7.919044e-04 6.844615e-02 6.037017e-01\n",
      "PAPI_L1_STM  2.607349e+00  0.604412976 4.679776e+00 4.011290e+01 7.897872e+00\n",
      "PAPI_LD_INS  3.487379e+00  0.145294004 2.505543e-01 3.745279e-05 2.098206e-02\n",
      "PAPI_L2_STM  3.030707e+00  0.555312190 6.203380e+00 3.941355e+01 1.979082e+00\n",
      "PAPI_TLB_DM  3.163991e+00  9.591887686 8.608991e-01 1.312253e-02 3.594861e-01\n",
      "PAPI_L2_DCH  6.563212e-04  0.874985476 4.848952e-01 3.698170e-01 1.415789e-02\n",
      "                     PC16         PC17\n",
      "PAPI_L1_DCM  5.673104e-04 2.835211e-02\n",
      "PAPI_L3_TCM  1.173027e-01 5.091928e-03\n",
      "PAPI_TOT_INS 3.618531e-02 2.285110e-01\n",
      "PAPI_REF_CYC 2.554178e-01 4.376773e-02\n",
      "PAPI_L2_LDM  7.143493e+00 3.998591e+01\n",
      "PAPI_SR_INS  1.440006e-05 1.114078e-01\n",
      "PAPI_BR_UCN  2.482805e-03 1.510178e-04\n",
      "PAPI_BR_CN   4.289124e+01 8.055830e+00\n",
      "PAPI_BR_TKN  4.126907e+01 7.098965e+00\n",
      "PAPI_BR_MSP  1.076150e-04 2.506618e-03\n",
      "PAPI_FP_OPS  1.421086e-02 8.484655e-02\n",
      "PAPI_L1_LDM  8.129327e+00 4.310680e+01\n",
      "PAPI_L1_STM  2.909620e-03 1.885402e-01\n",
      "PAPI_LD_INS  2.207587e-03 2.718494e-02\n",
      "PAPI_L2_STM  1.958200e-02 3.033950e-01\n",
      "PAPI_TLB_DM  6.687227e-04 1.941050e-02\n",
      "PAPI_L2_DCH  1.152132e-01 7.093226e-01\n"
     ]
    }
   ],
   "source": [
    "comp.cos2 <- apply(var.cos2, 2, sum)\n",
    "\n",
    "contrib <- function(var.cos2, comp.cos2){var.cos2*100/comp.cos2}\n",
    "\n",
    "var.contrib <- t(apply(var.cos2,1, contrib, comp.cos2))\n",
    "print(var.contrib)"
   ]
  },
  {
   "cell_type": "code",
   "execution_count": 84,
   "metadata": {},
   "outputs": [
    {
     "name": "stdout",
     "output_type": "stream",
     "text": [
      " PAPI_BR_MSP  PAPI_L1_DCM PAPI_REF_CYC   PAPI_BR_CN  PAPI_BR_TKN  PAPI_SR_INS \n",
      "    7.421781     7.346623     7.196111     7.165453     7.159529     7.158352 \n",
      " PAPI_L3_TCM PAPI_TOT_INS  PAPI_L1_LDM  PAPI_L2_LDM  PAPI_L1_STM  PAPI_L2_STM \n",
      "    6.627266     6.593923     6.560057     6.056449     5.951141     5.596620 \n",
      " PAPI_LD_INS  PAPI_BR_UCN  PAPI_FP_OPS  PAPI_L2_DCH  PAPI_TLB_DM \n",
      "    5.323570     4.756396     3.738077     2.991635     2.357017 \n"
     ]
    }
   ],
   "source": [
    "print(sort(var.contrib[,'PC1'],decreasing=TRUE))"
   ]
  },
  {
   "cell_type": "code",
   "execution_count": 85,
   "metadata": {},
   "outputs": [
    {
     "name": "stdout",
     "output_type": "stream",
     "text": [
      " PAPI_FP_OPS  PAPI_L2_DCH PAPI_TOT_INS  PAPI_LD_INS  PAPI_L2_STM  PAPI_TLB_DM \n",
      "   15.579478    13.464269     8.805463     7.771846     7.560341     7.518500 \n",
      " PAPI_L1_STM  PAPI_L2_LDM  PAPI_L3_TCM  PAPI_BR_TKN   PAPI_BR_CN  PAPI_SR_INS \n",
      "    6.334693     5.077142     4.147786     3.829594     3.827036     3.787541 \n",
      "PAPI_REF_CYC  PAPI_L1_LDM  PAPI_L1_DCM  PAPI_BR_MSP  PAPI_BR_UCN \n",
      "    3.054069     3.051415     2.733504     2.624941     0.832384 \n"
     ]
    }
   ],
   "source": [
    "print(sort(var.contrib[,'PC2'],decreasing=TRUE))"
   ]
  },
  {
   "cell_type": "code",
   "execution_count": 86,
   "metadata": {},
   "outputs": [
    {
     "name": "stdout",
     "output_type": "stream",
     "text": [
      " PAPI_TLB_DM  PAPI_FP_OPS  PAPI_L2_STM  PAPI_LD_INS  PAPI_L1_STM  PAPI_L1_DCM \n",
      " 51.53254600  10.85715379   7.99321264   7.47582498   7.37229559   4.69212714 \n",
      " PAPI_BR_MSP  PAPI_BR_UCN   PAPI_BR_CN  PAPI_BR_TKN PAPI_REF_CYC  PAPI_L1_LDM \n",
      "  3.18253751   1.58785285   1.40780993   1.39624778   0.63783215   0.63000333 \n",
      " PAPI_L2_LDM  PAPI_SR_INS  PAPI_L2_DCH PAPI_TOT_INS  PAPI_L3_TCM \n",
      "  0.54865365   0.48124889   0.12312156   0.06741939   0.01411280 \n"
     ]
    }
   ],
   "source": [
    "print(sort(var.contrib[,'PC3'],decreasing=TRUE))"
   ]
  },
  {
   "cell_type": "code",
   "execution_count": 87,
   "metadata": {},
   "outputs": [
    {
     "data": {},
     "metadata": {},
     "output_type": "display_data"
    },
    {
     "data": {
      "image/png": "[encoded data removed]",
      "text/plain": [
       "plot without title"
      ]
     },
     "metadata": {},
     "output_type": "display_data"
    }
   ],
   "source": [
    "fviz_pca_var(res.pca, col.var=\"contrib\") + scale_color_gradient2(low=\"white\", mid=\"blue\", high=\"red\", midpoint=50) + theme_minimal()"
   ]
  },
  {
   "cell_type": "code",
   "execution_count": 88,
   "metadata": {
    "scrolled": false
   },
   "outputs": [
    {
     "ename": "ERROR",
     "evalue": "Error in `[.data.frame`(mydata, , 5:61): undefined columns selected\n",
     "output_type": "error",
     "traceback": [
      "Error in `[.data.frame`(mydata, , 5:61): undefined columns selected\nTraceback:\n",
      "1. mydata[, 5:61]",
      "2. `[.data.frame`(mydata, , 5:61)",
      "3. stop(\"undefined columns selected\")"
     ]
    }
   ],
   "source": [
    "new_mydata1 = mydata[,5:61]\n",
    "new_mydata1 <- subset(new_mydata1, select = -c(PAPI_TOT_CYC))\n",
    "new_mydata1 <- subset(new_mydata1, select = -c(PAPI_TLB_DM))\n",
    "new_mydata1 <- subset(new_mydata1, select = -c(PAPI_FP_INS))\n",
    "new_mydata1 <- subset(new_mydata1, select = -c(PAPI_L2_TCW))\n",
    "new_mydata1 <- subset(new_mydata1, select = -c(PAPI_L2_DCW))\n",
    "new_mydata1 <- subset(new_mydata1, select = -c(PAPI_L3_TCA))\n",
    "new_mydata1 <- subset(new_mydata1, select = -c(PAPI_L2_DCA))\n",
    "new_mydata1 <- subset(new_mydata1, select = -c(PAPI_L3_TCW))\n",
    "new_mydata1 <- subset(new_mydata1, select = -c(PAPI_L3_DCW))\n",
    "new_mydata1 <- subset(new_mydata1, select = -c(PAPI_L3_DCA))\n",
    "new_mydata1 <- subset(new_mydata1, select = -c(PAPI_L3_TCR))\n",
    "new_mydata1 <- subset(new_mydata1, select = -c(PAPI_L3_DCR))\n",
    "new_mydata1 <- subset(new_mydata1, select = -c(PAPI_L2_DCR))\n",
    "new_mydata1 <- subset(new_mydata1, select = -c(PAPI_L2_TCR))\n",
    "new_mydata1 <- subset(new_mydata1, select = -c(PAPI_L2_TCA))\n",
    "new_mydata1 <- subset(new_mydata1, select = -c(PAPI_L2_DCM))\n",
    "new_mydata1 <- subset(new_mydata1, select = -c(PAPI_BR_INS))\n",
    "\n",
    "new_mydata1 <- subset(new_mydata1, select = -c(PAPI_L1_ICA))\n",
    "new_mydata1 <- subset(new_mydata1, select = -c(PAPI_L1_ICH))\n",
    "new_mydata1 <- subset(new_mydata1, select = -c(PAPI_L1_ICM))\n",
    "new_mydata1 <- subset(new_mydata1, select = -c(PAPI_L1_ICR))\n",
    "new_mydata1 <- subset(new_mydata1, select = -c(PAPI_L2_ICA))\n",
    "new_mydata1 <- subset(new_mydata1, select = -c(PAPI_L2_ICH))\n",
    "new_mydata1 <- subset(new_mydata1, select = -c(PAPI_L2_ICM))\n",
    "new_mydata1 <- subset(new_mydata1, select = -c(PAPI_L2_ICR))\n",
    "new_mydata1 <- subset(new_mydata1, select = -c(PAPI_L3_ICA))\n",
    "new_mydata1 <- subset(new_mydata1, select = -c(PAPI_L3_ICR))\n",
    "new_mydata1 <- subset(new_mydata1, select = -c(PAPI_L1_TCM))\n",
    "new_mydata1 <- subset(new_mydata1, select = -c(PAPI_L2_TCH))\n",
    "new_mydata1 <- subset(new_mydata1, select = -c(PAPI_L2_TCM))\n",
    "new_mydata1 <- subset(new_mydata1, select = -c(PAPI_TLB_IM))\n",
    "new_mydata1 <- subset(new_mydata1, select = -c(PAPI_RES_STL))\n",
    "new_mydata1 <- subset(new_mydata1, select = -c(PAPI_BR_PRC))\n",
    "new_mydata1 <- subset(new_mydata1, select = -c(PAPI_BR_MSP))\n",
    "\n",
    "\n",
    "\n",
    "\n",
    "new_mydata1 <- subset(new_mydata1, select = -c(PAPI_VEC_DP))\n",
    "new_mydata1 <- subset(new_mydata1, select = -c(PAPI_VEC_SP))\n",
    "\n",
    "my_data_ordered1 <- new_mydata1[,order(colnames(new_mydata1))]\n",
    "\n",
    "\n",
    "options(repr.matrix.max.rows = 100)\n",
    "options(repr.matrix.max.cols = 100)\n",
    "res1 <- cor(my_data_ordered1)\n",
    "dim(res1)\n",
    "round(res1, 2)"
   ]
  },
  {
   "cell_type": "code",
   "execution_count": null,
   "metadata": {},
   "outputs": [],
   "source": [
    "library(corrplot)\n",
    "\n",
    "\n",
    "corrplot(res1, tl.col = \"black\", tl.srt = 90, tl.cex = 0.7, method= \"square\", order = \"AOE\", number.cex = 0.5)"
   ]
  },
  {
   "cell_type": "code",
   "execution_count": null,
   "metadata": {},
   "outputs": [],
   "source": [
    "corrplot(res1, tl.col = \"black\", tl.srt = 90, tl.cex = 0.7, method= \"square\", order = \"hclust\", number.cex = 0.5, addrect=2)"
   ]
  },
  {
   "cell_type": "code",
   "execution_count": null,
   "metadata": {},
   "outputs": [],
   "source": [
    "corrplot(res1, tl.col = \"black\", tl.srt = 90, tl.cex = 0.7, method= \"square\", order = \"hclust\", number.cex = 0.5, addrect=3)"
   ]
  },
  {
   "cell_type": "code",
   "execution_count": null,
   "metadata": {},
   "outputs": [],
   "source": [
    "corrplot(res1, tl.col = \"black\", tl.srt = 90, tl.cex = 0.7, method= \"square\", order = \"hclust\", number.cex = 0.5, addrect=4)"
   ]
  },
  {
   "cell_type": "code",
   "execution_count": null,
   "metadata": {},
   "outputs": [],
   "source": [
    "corrplot(res1, tl.col = \"black\", tl.srt = 90, tl.cex = 0.7, method= \"square\", order = \"hclust\", number.cex = 0.5, addrect=5)"
   ]
  },
  {
   "cell_type": "code",
   "execution_count": null,
   "metadata": {},
   "outputs": [],
   "source": [
    "corrplot(res1, tl.col = \"black\", tl.srt = 90, tl.cex = 0.7, method= \"square\", order = \"hclust\", number.cex = 0.5, addrect=6)"
   ]
  },
  {
   "cell_type": "code",
   "execution_count": null,
   "metadata": {},
   "outputs": [],
   "source": [
    "corrplot(res1, tl.col = \"black\", tl.srt = 90, tl.cex = 0.7, method= \"square\", order = \"hclust\", number.cex = 0.5, addrect=7)"
   ]
  },
  {
   "cell_type": "code",
   "execution_count": null,
   "metadata": {},
   "outputs": [],
   "source": [
    "corrplot(res1, tl.col = \"black\", tl.srt = 90, tl.cex = 0.7, method= \"square\", order = \"hclust\", number.cex = 0.5, addrect=8)"
   ]
  },
  {
   "cell_type": "code",
   "execution_count": null,
   "metadata": {},
   "outputs": [],
   "source": [
    "corrplot(res1, tl.col = \"black\", tl.srt = 90, tl.cex = 0.7, method= \"square\", order = \"hclust\", number.cex = 0.5, addrect=9)"
   ]
  },
  {
   "cell_type": "code",
   "execution_count": null,
   "metadata": {},
   "outputs": [],
   "source": [
    "corrplot(res1, tl.col = \"black\", tl.srt = 90, tl.cex = 0.7, method= \"square\", order = \"hclust\", number.cex = 0.5, addrect=10)"
   ]
  },
  {
   "cell_type": "code",
   "execution_count": null,
   "metadata": {},
   "outputs": [],
   "source": [
    "corrplot(res1, tl.col = \"black\", tl.srt = 90, tl.cex = 0.7, method= \"square\", order = \"hclust\", number.cex = 0.5, addrect=11)"
   ]
  },
  {
   "cell_type": "code",
   "execution_count": null,
   "metadata": {},
   "outputs": [],
   "source": [
    "corrplot(res1, tl.col = \"black\", tl.srt = 90, tl.cex = 0.7, method= \"square\", order = \"hclust\", number.cex = 0.5, addrect=12)"
   ]
  },
  {
   "cell_type": "code",
   "execution_count": null,
   "metadata": {},
   "outputs": [],
   "source": [
    "corrplot(res1, tl.col = \"black\", tl.srt = 90, tl.cex = 0.7, method= \"square\", order = \"hclust\", number.cex = 0.5, addrect=13)"
   ]
  },
  {
   "cell_type": "code",
   "execution_count": null,
   "metadata": {},
   "outputs": [],
   "source": [
    "corrplot(res1, tl.col = \"black\", tl.srt = 90, tl.cex = 0.7, method= \"square\", order = \"hclust\", number.cex = 0.5, addrect=14)"
   ]
  },
  {
   "cell_type": "code",
   "execution_count": null,
   "metadata": {},
   "outputs": [],
   "source": [
    "corrplot(res1, tl.col = \"black\", tl.srt = 90, tl.cex = 0.7, method= \"square\", order = \"hclust\", number.cex = 0.5, addrect=15)"
   ]
  },
  {
   "cell_type": "code",
   "execution_count": null,
   "metadata": {},
   "outputs": [],
   "source": [
    "corrplot(res1, tl.col = \"black\", tl.srt = 90, tl.cex = 0.7, method= \"square\", order = \"hclust\", number.cex = 0.5, addrect=16)"
   ]
  },
  {
   "cell_type": "code",
   "execution_count": null,
   "metadata": {},
   "outputs": [],
   "source": [
    "corrplot(res1, tl.col = \"black\", tl.srt = 90, tl.cex = 0.7, method= \"square\", order = \"hclust\", number.cex = 0.5, addrect=17)"
   ]
  },
  {
   "cell_type": "code",
   "execution_count": null,
   "metadata": {},
   "outputs": [],
   "source": [
    "corrplot(res1, tl.col = \"black\", tl.srt = 90, tl.cex = 0.7, method= \"square\", order = \"FPC\", number.cex = 0.5)"
   ]
  },
  {
   "cell_type": "code",
   "execution_count": null,
   "metadata": {},
   "outputs": [],
   "source": [
    "corrplot(res1, tl.col = \"black\", tl.srt = 90, tl.cex = 0.7, method= \"square\", order = \"alphabet\", number.cex = 0.5)"
   ]
  },
  {
   "cell_type": "code",
   "execution_count": null,
   "metadata": {},
   "outputs": [],
   "source": []
  }
 ],
 "metadata": {
  "kernelspec": {
   "display_name": "R",
   "language": "R",
   "name": "ir"
  }
 },
 "nbformat": 4,
 "nbformat_minor": 2
}
