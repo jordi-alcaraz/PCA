{
 "cells": [
  {
   "cell_type": "code",
   "execution_count": 1,
   "metadata": {},
   "outputs": [
    {
     "name": "stderr",
     "output_type": "stream",
     "text": [
      "Loading required package: ggplot2\n",
      "Welcome! Want to learn more? See two factoextra-related books at https://goo.gl/ve3WBa\n"
     ]
    }
   ],
   "source": [
    "library(\"factoextra\")\n",
    "options(repr.plot.width=12, repr.plot.height=13)"
   ]
  },
  {
   "cell_type": "code",
   "execution_count": 2,
   "metadata": {},
   "outputs": [
    {
     "data": {
      "text/html": [
       "O2\n",
       "<details>\n",
       "\t<summary style=display:list-item;cursor:pointer>\n",
       "\t\t<strong>Levels</strong>:\n",
       "\t</summary>\n",
       "\t'O2'\n",
       "</details>"
      ],
      "text/latex": [
       "O2\n",
       "\\emph{Levels}: 'O2'"
      ],
      "text/markdown": [
       "O2\n",
       "**Levels**: 'O2'"
      ],
      "text/plain": [
       "[1] O2\n",
       "Levels: O2"
      ]
     },
     "metadata": {},
     "output_type": "display_data"
    }
   ],
   "source": [
    "path=\"C:/Users/Jordi/New_Jupyter/\"\n",
    "setwd(path)\n",
    "mydata = read.csv(\"threads_ideal_data_partial_sp_cl+listR.csv\", sep=\";\")\n",
    "unique(mydata[,\"comp_opt\"])"
   ]
  },
  {
   "cell_type": "code",
   "execution_count": 3,
   "metadata": {},
   "outputs": [
    {
     "data": {
      "text/html": [
       "<ol class=list-inline>\n",
       "\t<li>'id'</li>\n",
       "\t<li>'size_vector'</li>\n",
       "\t<li>'comp_opt'</li>\n",
       "\t<li>'label'</li>\n",
       "\t<li>'threads'</li>\n",
       "\t<li>'PAPI_L1_DCM'</li>\n",
       "\t<li>'PAPI_L3_TCM'</li>\n",
       "\t<li>'PAPI_TOT_INS'</li>\n",
       "\t<li>'PAPI_REF_CYC'</li>\n",
       "\t<li>'PAPI_L2_LDM'</li>\n",
       "\t<li>'PAPI_SR_INS'</li>\n",
       "\t<li>'time_x'</li>\n",
       "\t<li>'PAPI_BR_UCN'</li>\n",
       "\t<li>'PAPI_BR_CN'</li>\n",
       "\t<li>'PAPI_BR_TKN'</li>\n",
       "\t<li>'PAPI_BR_MSP'</li>\n",
       "\t<li>'time_y'</li>\n",
       "\t<li>'PAPI_FP_OPS'</li>\n",
       "\t<li>'PAPI_L1_LDM'</li>\n",
       "\t<li>'PAPI_L1_STM'</li>\n",
       "\t<li>'time_x.1'</li>\n",
       "\t<li>'PAPI_SP_OPS'</li>\n",
       "\t<li>'PAPI_LD_INS'</li>\n",
       "\t<li>'PAPI_L2_STM'</li>\n",
       "\t<li>'time_y.1'</li>\n",
       "\t<li>'PAPI_TLB_DM'</li>\n",
       "\t<li>'PAPI_L2_DCH'</li>\n",
       "\t<li>'time'</li>\n",
       "\t<li>'time_log'</li>\n",
       "\t<li>'P_index'</li>\n",
       "\t<li>'ideal'</li>\n",
       "\t<li>'affinity'</li>\n",
       "\t<li>'T_list'</li>\n",
       "\t<li>'P_list'</li>\n",
       "</ol>\n"
      ],
      "text/latex": [
       "\\begin{enumerate*}\n",
       "\\item 'id'\n",
       "\\item 'size\\_vector'\n",
       "\\item 'comp\\_opt'\n",
       "\\item 'label'\n",
       "\\item 'threads'\n",
       "\\item 'PAPI\\_L1\\_DCM'\n",
       "\\item 'PAPI\\_L3\\_TCM'\n",
       "\\item 'PAPI\\_TOT\\_INS'\n",
       "\\item 'PAPI\\_REF\\_CYC'\n",
       "\\item 'PAPI\\_L2\\_LDM'\n",
       "\\item 'PAPI\\_SR\\_INS'\n",
       "\\item 'time\\_x'\n",
       "\\item 'PAPI\\_BR\\_UCN'\n",
       "\\item 'PAPI\\_BR\\_CN'\n",
       "\\item 'PAPI\\_BR\\_TKN'\n",
       "\\item 'PAPI\\_BR\\_MSP'\n",
       "\\item 'time\\_y'\n",
       "\\item 'PAPI\\_FP\\_OPS'\n",
       "\\item 'PAPI\\_L1\\_LDM'\n",
       "\\item 'PAPI\\_L1\\_STM'\n",
       "\\item 'time\\_x.1'\n",
       "\\item 'PAPI\\_SP\\_OPS'\n",
       "\\item 'PAPI\\_LD\\_INS'\n",
       "\\item 'PAPI\\_L2\\_STM'\n",
       "\\item 'time\\_y.1'\n",
       "\\item 'PAPI\\_TLB\\_DM'\n",
       "\\item 'PAPI\\_L2\\_DCH'\n",
       "\\item 'time'\n",
       "\\item 'time\\_log'\n",
       "\\item 'P\\_index'\n",
       "\\item 'ideal'\n",
       "\\item 'affinity'\n",
       "\\item 'T\\_list'\n",
       "\\item 'P\\_list'\n",
       "\\end{enumerate*}\n"
      ],
      "text/markdown": [
       "1. 'id'\n",
       "2. 'size_vector'\n",
       "3. 'comp_opt'\n",
       "4. 'label'\n",
       "5. 'threads'\n",
       "6. 'PAPI_L1_DCM'\n",
       "7. 'PAPI_L3_TCM'\n",
       "8. 'PAPI_TOT_INS'\n",
       "9. 'PAPI_REF_CYC'\n",
       "10. 'PAPI_L2_LDM'\n",
       "11. 'PAPI_SR_INS'\n",
       "12. 'time_x'\n",
       "13. 'PAPI_BR_UCN'\n",
       "14. 'PAPI_BR_CN'\n",
       "15. 'PAPI_BR_TKN'\n",
       "16. 'PAPI_BR_MSP'\n",
       "17. 'time_y'\n",
       "18. 'PAPI_FP_OPS'\n",
       "19. 'PAPI_L1_LDM'\n",
       "20. 'PAPI_L1_STM'\n",
       "21. 'time_x.1'\n",
       "22. 'PAPI_SP_OPS'\n",
       "23. 'PAPI_LD_INS'\n",
       "24. 'PAPI_L2_STM'\n",
       "25. 'time_y.1'\n",
       "26. 'PAPI_TLB_DM'\n",
       "27. 'PAPI_L2_DCH'\n",
       "28. 'time'\n",
       "29. 'time_log'\n",
       "30. 'P_index'\n",
       "31. 'ideal'\n",
       "32. 'affinity'\n",
       "33. 'T_list'\n",
       "34. 'P_list'\n",
       "\n",
       "\n"
      ],
      "text/plain": [
       " [1] \"id\"           \"size_vector\"  \"comp_opt\"     \"label\"        \"threads\"     \n",
       " [6] \"PAPI_L1_DCM\"  \"PAPI_L3_TCM\"  \"PAPI_TOT_INS\" \"PAPI_REF_CYC\" \"PAPI_L2_LDM\" \n",
       "[11] \"PAPI_SR_INS\"  \"time_x\"       \"PAPI_BR_UCN\"  \"PAPI_BR_CN\"   \"PAPI_BR_TKN\" \n",
       "[16] \"PAPI_BR_MSP\"  \"time_y\"       \"PAPI_FP_OPS\"  \"PAPI_L1_LDM\"  \"PAPI_L1_STM\" \n",
       "[21] \"time_x.1\"     \"PAPI_SP_OPS\"  \"PAPI_LD_INS\"  \"PAPI_L2_STM\"  \"time_y.1\"    \n",
       "[26] \"PAPI_TLB_DM\"  \"PAPI_L2_DCH\"  \"time\"         \"time_log\"     \"P_index\"     \n",
       "[31] \"ideal\"        \"affinity\"     \"T_list\"       \"P_list\"      "
      ]
     },
     "metadata": {},
     "output_type": "display_data"
    }
   ],
   "source": [
    "colnames(mydata)"
   ]
  },
  {
   "cell_type": "code",
   "execution_count": 4,
   "metadata": {},
   "outputs": [],
   "source": [
    "library(stringr)\n",
    "colnames(mydata)<-gsub(x = names(mydata), pattern = \"\\\\.\", replacement = \"_\" )"
   ]
  },
  {
   "cell_type": "code",
   "execution_count": 5,
   "metadata": {},
   "outputs": [],
   "source": [
    "#colnames(mydata)"
   ]
  },
  {
   "cell_type": "code",
   "execution_count": 6,
   "metadata": {},
   "outputs": [],
   "source": [
    "mydata = mydata[mydata$affinity == 'close',]\n",
    "\n",
    "mydata_no_time <- subset(mydata, select = -c(P_list))\n",
    "mydata_no_time <- subset(mydata_no_time, select = -c(T_list))\n",
    "mydata_no_time <- subset(mydata_no_time, select = -c(ideal))\n",
    "mydata_no_time <- subset(mydata_no_time, select = -c(P_index))\n",
    "mydata_no_time <- subset(mydata_no_time, select = -c(time_log))\n",
    "mydata_no_time <- subset(mydata_no_time, select = -c(time))\n",
    "mydata_no_time <- subset(mydata_no_time, select = -c(time_y_1))\n",
    "mydata_no_time <- subset(mydata_no_time, select = -c(time_x_1))\n",
    "mydata_no_time <- subset(mydata_no_time, select = -c(time_x))\n",
    "mydata_no_time <- subset(mydata_no_time, select = -c(time_y))\n",
    "mydata_no_time <- subset(mydata_no_time, select = -c(affinity))\n",
    "\n",
    "\n",
    "\n",
    "\n",
    "mydata_no_time <- subset(mydata_no_time, select = -c(PAPI_SP_OPS))\n",
    "\n"
   ]
  },
  {
   "cell_type": "code",
   "execution_count": 7,
   "metadata": {},
   "outputs": [
    {
     "data": {
      "text/html": [
       "<ol class=list-inline>\n",
       "\t<li>'id'</li>\n",
       "\t<li>'size_vector'</li>\n",
       "\t<li>'comp_opt'</li>\n",
       "\t<li>'label'</li>\n",
       "\t<li>'threads'</li>\n",
       "\t<li>'PAPI_L1_DCM'</li>\n",
       "\t<li>'PAPI_L3_TCM'</li>\n",
       "\t<li>'PAPI_TOT_INS'</li>\n",
       "\t<li>'PAPI_REF_CYC'</li>\n",
       "\t<li>'PAPI_L2_LDM'</li>\n",
       "\t<li>'PAPI_SR_INS'</li>\n",
       "\t<li>'PAPI_BR_UCN'</li>\n",
       "\t<li>'PAPI_BR_CN'</li>\n",
       "\t<li>'PAPI_BR_TKN'</li>\n",
       "\t<li>'PAPI_BR_MSP'</li>\n",
       "\t<li>'PAPI_FP_OPS'</li>\n",
       "\t<li>'PAPI_L1_LDM'</li>\n",
       "\t<li>'PAPI_L1_STM'</li>\n",
       "\t<li>'PAPI_LD_INS'</li>\n",
       "\t<li>'PAPI_L2_STM'</li>\n",
       "\t<li>'PAPI_TLB_DM'</li>\n",
       "\t<li>'PAPI_L2_DCH'</li>\n",
       "</ol>\n"
      ],
      "text/latex": [
       "\\begin{enumerate*}\n",
       "\\item 'id'\n",
       "\\item 'size\\_vector'\n",
       "\\item 'comp\\_opt'\n",
       "\\item 'label'\n",
       "\\item 'threads'\n",
       "\\item 'PAPI\\_L1\\_DCM'\n",
       "\\item 'PAPI\\_L3\\_TCM'\n",
       "\\item 'PAPI\\_TOT\\_INS'\n",
       "\\item 'PAPI\\_REF\\_CYC'\n",
       "\\item 'PAPI\\_L2\\_LDM'\n",
       "\\item 'PAPI\\_SR\\_INS'\n",
       "\\item 'PAPI\\_BR\\_UCN'\n",
       "\\item 'PAPI\\_BR\\_CN'\n",
       "\\item 'PAPI\\_BR\\_TKN'\n",
       "\\item 'PAPI\\_BR\\_MSP'\n",
       "\\item 'PAPI\\_FP\\_OPS'\n",
       "\\item 'PAPI\\_L1\\_LDM'\n",
       "\\item 'PAPI\\_L1\\_STM'\n",
       "\\item 'PAPI\\_LD\\_INS'\n",
       "\\item 'PAPI\\_L2\\_STM'\n",
       "\\item 'PAPI\\_TLB\\_DM'\n",
       "\\item 'PAPI\\_L2\\_DCH'\n",
       "\\end{enumerate*}\n"
      ],
      "text/markdown": [
       "1. 'id'\n",
       "2. 'size_vector'\n",
       "3. 'comp_opt'\n",
       "4. 'label'\n",
       "5. 'threads'\n",
       "6. 'PAPI_L1_DCM'\n",
       "7. 'PAPI_L3_TCM'\n",
       "8. 'PAPI_TOT_INS'\n",
       "9. 'PAPI_REF_CYC'\n",
       "10. 'PAPI_L2_LDM'\n",
       "11. 'PAPI_SR_INS'\n",
       "12. 'PAPI_BR_UCN'\n",
       "13. 'PAPI_BR_CN'\n",
       "14. 'PAPI_BR_TKN'\n",
       "15. 'PAPI_BR_MSP'\n",
       "16. 'PAPI_FP_OPS'\n",
       "17. 'PAPI_L1_LDM'\n",
       "18. 'PAPI_L1_STM'\n",
       "19. 'PAPI_LD_INS'\n",
       "20. 'PAPI_L2_STM'\n",
       "21. 'PAPI_TLB_DM'\n",
       "22. 'PAPI_L2_DCH'\n",
       "\n",
       "\n"
      ],
      "text/plain": [
       " [1] \"id\"           \"size_vector\"  \"comp_opt\"     \"label\"        \"threads\"     \n",
       " [6] \"PAPI_L1_DCM\"  \"PAPI_L3_TCM\"  \"PAPI_TOT_INS\" \"PAPI_REF_CYC\" \"PAPI_L2_LDM\" \n",
       "[11] \"PAPI_SR_INS\"  \"PAPI_BR_UCN\"  \"PAPI_BR_CN\"   \"PAPI_BR_TKN\"  \"PAPI_BR_MSP\" \n",
       "[16] \"PAPI_FP_OPS\"  \"PAPI_L1_LDM\"  \"PAPI_L1_STM\"  \"PAPI_LD_INS\"  \"PAPI_L2_STM\" \n",
       "[21] \"PAPI_TLB_DM\"  \"PAPI_L2_DCH\" "
      ]
     },
     "metadata": {},
     "output_type": "display_data"
    }
   ],
   "source": [
    "colnames(mydata_no_time)"
   ]
  },
  {
   "cell_type": "code",
   "execution_count": 8,
   "metadata": {},
   "outputs": [],
   "source": [
    "#mydata = mydata[mydata$comp_opt != 'NF',]\n",
    "#mydata = mydata[mydata$comp_opt != 'O1',]\n",
    "#mydata = mydata[mydata$label != '2D4PStencil_E',]\n",
    "#mydata = mydata[mydata$label != 'Reduction_E',]\n",
    "#mydata = mydata[mydata$label != '2PStencil_E',]\n",
    "\n",
    "#head(mydata)\n",
    "#unique(mydata[,\"comp_opt\"])"
   ]
  },
  {
   "cell_type": "code",
   "execution_count": 9,
   "metadata": {},
   "outputs": [],
   "source": [
    "#head(mydata)"
   ]
  },
  {
   "cell_type": "code",
   "execution_count": 10,
   "metadata": {},
   "outputs": [
    {
     "data": {
      "text/html": [
       "<ol class=list-inline>\n",
       "\t<li>'1 K'</li>\n",
       "\t<li>'2 K'</li>\n",
       "\t<li>'3 K'</li>\n",
       "\t<li>'4 K'</li>\n",
       "\t<li>'5 K'</li>\n",
       "\t<li>'6 K'</li>\n",
       "\t<li>'7 K'</li>\n",
       "\t<li>'8 K'</li>\n",
       "\t<li>'9 K'</li>\n",
       "\t<li>'10 K'</li>\n",
       "\t<li>'20 K'</li>\n",
       "\t<li>'30 K'</li>\n",
       "\t<li>'40 K'</li>\n",
       "\t<li>'50 K'</li>\n",
       "\t<li>'60 K'</li>\n",
       "\t<li>'70 K'</li>\n",
       "\t<li>'80 K'</li>\n",
       "\t<li>'90 K'</li>\n",
       "\t<li>'100 K'</li>\n",
       "\t<li>'200 K'</li>\n",
       "\t<li>'300 K'</li>\n",
       "\t<li>'400 K'</li>\n",
       "\t<li>'500 K'</li>\n",
       "\t<li>'600 K'</li>\n",
       "\t<li>'700 K'</li>\n",
       "\t<li>'800 K'</li>\n",
       "\t<li>'900 K'</li>\n",
       "\t<li>'1 M'</li>\n",
       "\t<li>'2 M'</li>\n",
       "\t<li>'3 M'</li>\n",
       "\t<li>'5 M'</li>\n",
       "\t<li>'7 M'</li>\n",
       "\t<li>'9 M'</li>\n",
       "\t<li>'20 M'</li>\n",
       "\t<li>'40 M'</li>\n",
       "\t<li>'60 M'</li>\n",
       "\t<li>'80 M'</li>\n",
       "\t<li>'100 M'</li>\n",
       "\t<li>'120 M'</li>\n",
       "\t<li>'140 M'</li>\n",
       "\t<li>'160 M'</li>\n",
       "\t<li>'180 M'</li>\n",
       "\t<li>'200 M'</li>\n",
       "</ol>\n"
      ],
      "text/latex": [
       "\\begin{enumerate*}\n",
       "\\item '1 K'\n",
       "\\item '2 K'\n",
       "\\item '3 K'\n",
       "\\item '4 K'\n",
       "\\item '5 K'\n",
       "\\item '6 K'\n",
       "\\item '7 K'\n",
       "\\item '8 K'\n",
       "\\item '9 K'\n",
       "\\item '10 K'\n",
       "\\item '20 K'\n",
       "\\item '30 K'\n",
       "\\item '40 K'\n",
       "\\item '50 K'\n",
       "\\item '60 K'\n",
       "\\item '70 K'\n",
       "\\item '80 K'\n",
       "\\item '90 K'\n",
       "\\item '100 K'\n",
       "\\item '200 K'\n",
       "\\item '300 K'\n",
       "\\item '400 K'\n",
       "\\item '500 K'\n",
       "\\item '600 K'\n",
       "\\item '700 K'\n",
       "\\item '800 K'\n",
       "\\item '900 K'\n",
       "\\item '1 M'\n",
       "\\item '2 M'\n",
       "\\item '3 M'\n",
       "\\item '5 M'\n",
       "\\item '7 M'\n",
       "\\item '9 M'\n",
       "\\item '20 M'\n",
       "\\item '40 M'\n",
       "\\item '60 M'\n",
       "\\item '80 M'\n",
       "\\item '100 M'\n",
       "\\item '120 M'\n",
       "\\item '140 M'\n",
       "\\item '160 M'\n",
       "\\item '180 M'\n",
       "\\item '200 M'\n",
       "\\end{enumerate*}\n"
      ],
      "text/markdown": [
       "1. '1 K'\n",
       "2. '2 K'\n",
       "3. '3 K'\n",
       "4. '4 K'\n",
       "5. '5 K'\n",
       "6. '6 K'\n",
       "7. '7 K'\n",
       "8. '8 K'\n",
       "9. '9 K'\n",
       "10. '10 K'\n",
       "11. '20 K'\n",
       "12. '30 K'\n",
       "13. '40 K'\n",
       "14. '50 K'\n",
       "15. '60 K'\n",
       "16. '70 K'\n",
       "17. '80 K'\n",
       "18. '90 K'\n",
       "19. '100 K'\n",
       "20. '200 K'\n",
       "21. '300 K'\n",
       "22. '400 K'\n",
       "23. '500 K'\n",
       "24. '600 K'\n",
       "25. '700 K'\n",
       "26. '800 K'\n",
       "27. '900 K'\n",
       "28. '1 M'\n",
       "29. '2 M'\n",
       "30. '3 M'\n",
       "31. '5 M'\n",
       "32. '7 M'\n",
       "33. '9 M'\n",
       "34. '20 M'\n",
       "35. '40 M'\n",
       "36. '60 M'\n",
       "37. '80 M'\n",
       "38. '100 M'\n",
       "39. '120 M'\n",
       "40. '140 M'\n",
       "41. '160 M'\n",
       "42. '180 M'\n",
       "43. '200 M'\n",
       "\n",
       "\n"
      ],
      "text/plain": [
       " [1] \"1 K\"   \"2 K\"   \"3 K\"   \"4 K\"   \"5 K\"   \"6 K\"   \"7 K\"   \"8 K\"   \"9 K\"  \n",
       "[10] \"10 K\"  \"20 K\"  \"30 K\"  \"40 K\"  \"50 K\"  \"60 K\"  \"70 K\"  \"80 K\"  \"90 K\" \n",
       "[19] \"100 K\" \"200 K\" \"300 K\" \"400 K\" \"500 K\" \"600 K\" \"700 K\" \"800 K\" \"900 K\"\n",
       "[28] \"1 M\"   \"2 M\"   \"3 M\"   \"5 M\"   \"7 M\"   \"9 M\"   \"20 M\"  \"40 M\"  \"60 M\" \n",
       "[37] \"80 M\"  \"100 M\" \"120 M\" \"140 M\" \"160 M\" \"180 M\" \"200 M\""
      ]
     },
     "metadata": {},
     "output_type": "display_data"
    }
   ],
   "source": [
    "dfu <- unique(mydata_no_time$size_vector)\n",
    "#dfu[order(dfu)]\n",
    "\n",
    "comprss <- function(tx) { \n",
    "      div <- findInterval(as.numeric(gsub(\"\\\\,\", \"\", tx)), \n",
    "                          c(1, 1e3, 1e6, 1e9, 1e12) )\n",
    "      paste(round( as.numeric(gsub(\"\\\\,\",\"\",tx))/10^(3*(div-1)), 2), \n",
    "           c(\"\",\"K\",\"M\",\"B\",\"T\")[div] )}\n",
    "comprss(dfu[order(dfu)])\n",
    "\n"
   ]
  },
  {
   "cell_type": "code",
   "execution_count": 11,
   "metadata": {},
   "outputs": [],
   "source": [
    "#print(new_mydata[,c(\"PAPI_VEC_SP\",\"PAPI_VEC_DP\")])\n",
    "#print(mydata[,c(\"PAPI_VEC_SP\",\"PAPI_SP_OPS\")])"
   ]
  },
  {
   "cell_type": "code",
   "execution_count": 12,
   "metadata": {},
   "outputs": [],
   "source": [
    "#div = mydata$PAPI_SP_OPS/mydata$PAPI_VEC_SP\n",
    "#div <- na.omit(div)\n",
    "#subs = mydata$PAPI_BR_INS-(mydata$PAPI_BR_CN + mydata$PAPI_BR_UCN)"
   ]
  },
  {
   "cell_type": "code",
   "execution_count": 13,
   "metadata": {
    "scrolled": false
   },
   "outputs": [],
   "source": [
    "#mean(div)\n",
    "#quantile(div,0.25)\n",
    "#quantile(div,0.5)\n",
    "#quantile(div,0.75)\n",
    "#boxplot(div)"
   ]
  },
  {
   "cell_type": "code",
   "execution_count": 14,
   "metadata": {
    "scrolled": true
   },
   "outputs": [],
   "source": [
    "#print(mydata[,c(\"PAPI_BR_INS\",\"PAPI_BR_CN\",\"PAPI_BR_UCN\")])#subs = mydata$PAPI_BR_INS-(mydata$PAPI_BR_CN/mydata$PAPI_BR_UCN)\n",
    "#print(subs)\n",
    "#perc = subs/mydata$PAPI_BR_INS\n",
    "\n",
    "#head(percent(perc[order(perc,decreasing = TRUE)]))"
   ]
  },
  {
   "cell_type": "code",
   "execution_count": 15,
   "metadata": {},
   "outputs": [
    {
     "data": {
      "text/html": [
       "TRUE"
      ],
      "text/latex": [
       "TRUE"
      ],
      "text/markdown": [
       "TRUE"
      ],
      "text/plain": [
       "[1] TRUE"
      ]
     },
     "metadata": {},
     "output_type": "display_data"
    }
   ],
   "source": [
    "#all(new_mydata$PAPI_VEC_SP == new_mydata$PAPI_VEC_DP)\n",
    "all(mydata_no_time$PAPI_DP_SP == mydata_no_time$PAPI_SP_OPS)"
   ]
  },
  {
   "cell_type": "code",
   "execution_count": 16,
   "metadata": {},
   "outputs": [
    {
     "data": {
      "text/html": [
       "<ol class=list-inline>\n",
       "\t<li>'id'</li>\n",
       "\t<li>'size_vector'</li>\n",
       "\t<li>'comp_opt'</li>\n",
       "\t<li>'label'</li>\n",
       "\t<li>'threads'</li>\n",
       "\t<li>'PAPI_L1_DCM'</li>\n",
       "\t<li>'PAPI_L3_TCM'</li>\n",
       "\t<li>'PAPI_TOT_INS'</li>\n",
       "\t<li>'PAPI_REF_CYC'</li>\n",
       "\t<li>'PAPI_L2_LDM'</li>\n",
       "\t<li>'PAPI_SR_INS'</li>\n",
       "\t<li>'PAPI_BR_UCN'</li>\n",
       "\t<li>'PAPI_BR_CN'</li>\n",
       "\t<li>'PAPI_BR_TKN'</li>\n",
       "\t<li>'PAPI_BR_MSP'</li>\n",
       "\t<li>'PAPI_FP_OPS'</li>\n",
       "\t<li>'PAPI_L1_LDM'</li>\n",
       "\t<li>'PAPI_L1_STM'</li>\n",
       "\t<li>'PAPI_LD_INS'</li>\n",
       "\t<li>'PAPI_L2_STM'</li>\n",
       "\t<li>'PAPI_TLB_DM'</li>\n",
       "\t<li>'PAPI_L2_DCH'</li>\n",
       "</ol>\n"
      ],
      "text/latex": [
       "\\begin{enumerate*}\n",
       "\\item 'id'\n",
       "\\item 'size\\_vector'\n",
       "\\item 'comp\\_opt'\n",
       "\\item 'label'\n",
       "\\item 'threads'\n",
       "\\item 'PAPI\\_L1\\_DCM'\n",
       "\\item 'PAPI\\_L3\\_TCM'\n",
       "\\item 'PAPI\\_TOT\\_INS'\n",
       "\\item 'PAPI\\_REF\\_CYC'\n",
       "\\item 'PAPI\\_L2\\_LDM'\n",
       "\\item 'PAPI\\_SR\\_INS'\n",
       "\\item 'PAPI\\_BR\\_UCN'\n",
       "\\item 'PAPI\\_BR\\_CN'\n",
       "\\item 'PAPI\\_BR\\_TKN'\n",
       "\\item 'PAPI\\_BR\\_MSP'\n",
       "\\item 'PAPI\\_FP\\_OPS'\n",
       "\\item 'PAPI\\_L1\\_LDM'\n",
       "\\item 'PAPI\\_L1\\_STM'\n",
       "\\item 'PAPI\\_LD\\_INS'\n",
       "\\item 'PAPI\\_L2\\_STM'\n",
       "\\item 'PAPI\\_TLB\\_DM'\n",
       "\\item 'PAPI\\_L2\\_DCH'\n",
       "\\end{enumerate*}\n"
      ],
      "text/markdown": [
       "1. 'id'\n",
       "2. 'size_vector'\n",
       "3. 'comp_opt'\n",
       "4. 'label'\n",
       "5. 'threads'\n",
       "6. 'PAPI_L1_DCM'\n",
       "7. 'PAPI_L3_TCM'\n",
       "8. 'PAPI_TOT_INS'\n",
       "9. 'PAPI_REF_CYC'\n",
       "10. 'PAPI_L2_LDM'\n",
       "11. 'PAPI_SR_INS'\n",
       "12. 'PAPI_BR_UCN'\n",
       "13. 'PAPI_BR_CN'\n",
       "14. 'PAPI_BR_TKN'\n",
       "15. 'PAPI_BR_MSP'\n",
       "16. 'PAPI_FP_OPS'\n",
       "17. 'PAPI_L1_LDM'\n",
       "18. 'PAPI_L1_STM'\n",
       "19. 'PAPI_LD_INS'\n",
       "20. 'PAPI_L2_STM'\n",
       "21. 'PAPI_TLB_DM'\n",
       "22. 'PAPI_L2_DCH'\n",
       "\n",
       "\n"
      ],
      "text/plain": [
       " [1] \"id\"           \"size_vector\"  \"comp_opt\"     \"label\"        \"threads\"     \n",
       " [6] \"PAPI_L1_DCM\"  \"PAPI_L3_TCM\"  \"PAPI_TOT_INS\" \"PAPI_REF_CYC\" \"PAPI_L2_LDM\" \n",
       "[11] \"PAPI_SR_INS\"  \"PAPI_BR_UCN\"  \"PAPI_BR_CN\"   \"PAPI_BR_TKN\"  \"PAPI_BR_MSP\" \n",
       "[16] \"PAPI_FP_OPS\"  \"PAPI_L1_LDM\"  \"PAPI_L1_STM\"  \"PAPI_LD_INS\"  \"PAPI_L2_STM\" \n",
       "[21] \"PAPI_TLB_DM\"  \"PAPI_L2_DCH\" "
      ]
     },
     "metadata": {},
     "output_type": "display_data"
    }
   ],
   "source": [
    "colnames(mydata_no_time)"
   ]
  },
  {
   "cell_type": "code",
   "execution_count": 17,
   "metadata": {},
   "outputs": [
    {
     "data": {
      "text/html": [
       "<ol class=list-inline>\n",
       "\t<li>'PAPI_L1_DCM'</li>\n",
       "\t<li>'PAPI_L3_TCM'</li>\n",
       "\t<li>'PAPI_TOT_INS'</li>\n",
       "\t<li>'PAPI_REF_CYC'</li>\n",
       "\t<li>'PAPI_L2_LDM'</li>\n",
       "\t<li>'PAPI_SR_INS'</li>\n",
       "\t<li>'PAPI_BR_UCN'</li>\n",
       "\t<li>'PAPI_BR_CN'</li>\n",
       "\t<li>'PAPI_BR_TKN'</li>\n",
       "\t<li>'PAPI_BR_MSP'</li>\n",
       "\t<li>'PAPI_FP_OPS'</li>\n",
       "\t<li>'PAPI_L1_LDM'</li>\n",
       "\t<li>'PAPI_L1_STM'</li>\n",
       "\t<li>'PAPI_LD_INS'</li>\n",
       "\t<li>'PAPI_L2_STM'</li>\n",
       "\t<li>'PAPI_TLB_DM'</li>\n",
       "\t<li>'PAPI_L2_DCH'</li>\n",
       "</ol>\n"
      ],
      "text/latex": [
       "\\begin{enumerate*}\n",
       "\\item 'PAPI\\_L1\\_DCM'\n",
       "\\item 'PAPI\\_L3\\_TCM'\n",
       "\\item 'PAPI\\_TOT\\_INS'\n",
       "\\item 'PAPI\\_REF\\_CYC'\n",
       "\\item 'PAPI\\_L2\\_LDM'\n",
       "\\item 'PAPI\\_SR\\_INS'\n",
       "\\item 'PAPI\\_BR\\_UCN'\n",
       "\\item 'PAPI\\_BR\\_CN'\n",
       "\\item 'PAPI\\_BR\\_TKN'\n",
       "\\item 'PAPI\\_BR\\_MSP'\n",
       "\\item 'PAPI\\_FP\\_OPS'\n",
       "\\item 'PAPI\\_L1\\_LDM'\n",
       "\\item 'PAPI\\_L1\\_STM'\n",
       "\\item 'PAPI\\_LD\\_INS'\n",
       "\\item 'PAPI\\_L2\\_STM'\n",
       "\\item 'PAPI\\_TLB\\_DM'\n",
       "\\item 'PAPI\\_L2\\_DCH'\n",
       "\\end{enumerate*}\n"
      ],
      "text/markdown": [
       "1. 'PAPI_L1_DCM'\n",
       "2. 'PAPI_L3_TCM'\n",
       "3. 'PAPI_TOT_INS'\n",
       "4. 'PAPI_REF_CYC'\n",
       "5. 'PAPI_L2_LDM'\n",
       "6. 'PAPI_SR_INS'\n",
       "7. 'PAPI_BR_UCN'\n",
       "8. 'PAPI_BR_CN'\n",
       "9. 'PAPI_BR_TKN'\n",
       "10. 'PAPI_BR_MSP'\n",
       "11. 'PAPI_FP_OPS'\n",
       "12. 'PAPI_L1_LDM'\n",
       "13. 'PAPI_L1_STM'\n",
       "14. 'PAPI_LD_INS'\n",
       "15. 'PAPI_L2_STM'\n",
       "16. 'PAPI_TLB_DM'\n",
       "17. 'PAPI_L2_DCH'\n",
       "\n",
       "\n"
      ],
      "text/plain": [
       " [1] \"PAPI_L1_DCM\"  \"PAPI_L3_TCM\"  \"PAPI_TOT_INS\" \"PAPI_REF_CYC\" \"PAPI_L2_LDM\" \n",
       " [6] \"PAPI_SR_INS\"  \"PAPI_BR_UCN\"  \"PAPI_BR_CN\"   \"PAPI_BR_TKN\"  \"PAPI_BR_MSP\" \n",
       "[11] \"PAPI_FP_OPS\"  \"PAPI_L1_LDM\"  \"PAPI_L1_STM\"  \"PAPI_LD_INS\"  \"PAPI_L2_STM\" \n",
       "[16] \"PAPI_TLB_DM\"  \"PAPI_L2_DCH\" "
      ]
     },
     "metadata": {},
     "output_type": "display_data"
    }
   ],
   "source": [
    "colnames(mydata_no_time[6:ncol(mydata_no_time)])"
   ]
  },
  {
   "cell_type": "code",
   "execution_count": 18,
   "metadata": {},
   "outputs": [
    {
     "data": {
      "text/html": [
       "<ol class=list-inline>\n",
       "\t<li>774000</li>\n",
       "\t<li>17</li>\n",
       "</ol>\n"
      ],
      "text/latex": [
       "\\begin{enumerate*}\n",
       "\\item 774000\n",
       "\\item 17\n",
       "\\end{enumerate*}\n"
      ],
      "text/markdown": [
       "1. 774000\n",
       "2. 17\n",
       "\n",
       "\n"
      ],
      "text/plain": [
       "[1] 774000     17"
      ]
     },
     "metadata": {},
     "output_type": "display_data"
    }
   ],
   "source": [
    "new_mydata = mydata_no_time[,6:ncol(mydata_no_time)]\n",
    "dim(new_mydata)\n"
   ]
  },
  {
   "cell_type": "code",
   "execution_count": 19,
   "metadata": {
    "scrolled": true
   },
   "outputs": [
    {
     "data": {
      "text/html": [
       "<table>\n",
       "<thead><tr><th scope=col>PAPI_L1_DCM</th><th scope=col>PAPI_L3_TCM</th><th scope=col>PAPI_TOT_INS</th><th scope=col>PAPI_REF_CYC</th><th scope=col>PAPI_L2_LDM</th><th scope=col>PAPI_SR_INS</th><th scope=col>PAPI_BR_UCN</th><th scope=col>PAPI_BR_CN</th><th scope=col>PAPI_BR_TKN</th><th scope=col>PAPI_BR_MSP</th><th scope=col>PAPI_FP_OPS</th><th scope=col>PAPI_L1_LDM</th><th scope=col>PAPI_L1_STM</th><th scope=col>PAPI_LD_INS</th><th scope=col>PAPI_L2_STM</th><th scope=col>PAPI_TLB_DM</th><th scope=col>PAPI_L2_DCH</th></tr></thead>\n",
       "<tbody>\n",
       "\t<tr><td>5792   </td><td>296    </td><td> 728331</td><td>1280646</td><td>2074   </td><td>33185  </td><td>8405   </td><td>206376 </td><td>122216 </td><td>1927   </td><td>71     </td><td>4451   </td><td>777    </td><td>119687 </td><td>370    </td><td>233    </td><td>3398   </td></tr>\n",
       "\t<tr><td>3389   </td><td>  4    </td><td>1109926</td><td>1883952</td><td> 514   </td><td>32261  </td><td>8125   </td><td>281808 </td><td>159757 </td><td>1685   </td><td>24     </td><td>3007   </td><td>630    </td><td>196461 </td><td>246    </td><td> 75    </td><td>2712   </td></tr>\n",
       "\t<tr><td>3992   </td><td>  1    </td><td>1162254</td><td>1983816</td><td> 688   </td><td>32036  </td><td>8128   </td><td>261973 </td><td>149834 </td><td>1591   </td><td>25     </td><td>2793   </td><td>567    </td><td>178913 </td><td>123    </td><td> 57    </td><td>2510   </td></tr>\n",
       "\t<tr><td>3306   </td><td>  0    </td><td>1088427</td><td>1842192</td><td> 456   </td><td>32261  </td><td>8104   </td><td>278682 </td><td>158179 </td><td>1635   </td><td>24     </td><td>2776   </td><td>486    </td><td>179265 </td><td>125    </td><td> 72    </td><td>2667   </td></tr>\n",
       "\t<tr><td>3457   </td><td>  0    </td><td>1084172</td><td>1834992</td><td> 456   </td><td>32032  </td><td>8115   </td><td>279794 </td><td>158622 </td><td>1596   </td><td>24     </td><td>2890   </td><td>546    </td><td>210295 </td><td>107    </td><td> 51    </td><td>2624   </td></tr>\n",
       "\t<tr><td>3305   </td><td>  0    </td><td>1090388</td><td>1845198</td><td> 474   </td><td>32261  </td><td>8114   </td><td>275006 </td><td>156418 </td><td>1617   </td><td>24     </td><td>2752   </td><td>486    </td><td>179154 </td><td>128    </td><td> 64    </td><td>2625   </td></tr>\n",
       "\t<tr><td>3457   </td><td>  0    </td><td>1116139</td><td>1893816</td><td> 516   </td><td>32032  </td><td>8122   </td><td>285333 </td><td>161434 </td><td>1584   </td><td>24     </td><td>2783   </td><td>539    </td><td>178378 </td><td>117    </td><td> 62    </td><td>2540   </td></tr>\n",
       "\t<tr><td>3333   </td><td>  1    </td><td>1106619</td><td>1876392</td><td> 476   </td><td>32265  </td><td>8107   </td><td>277816 </td><td>157710 </td><td>1600   </td><td>24     </td><td>2754   </td><td>481    </td><td>178317 </td><td>121    </td><td> 66    </td><td>2605   </td></tr>\n",
       "\t<tr><td>3431   </td><td>  1    </td><td>1080156</td><td>1827504</td><td> 471   </td><td>32032  </td><td>8114   </td><td>274878 </td><td>156209 </td><td>1527   </td><td>24     </td><td>2804   </td><td>542    </td><td>177924 </td><td>120    </td><td> 57    </td><td>2579   </td></tr>\n",
       "\t<tr><td>3354   </td><td>  1    </td><td>1110830</td><td>1884186</td><td> 520   </td><td>32265  </td><td>8143   </td><td>349034 </td><td>208324 </td><td>1657   </td><td>24     </td><td>2989   </td><td>511    </td><td>183190 </td><td>122    </td><td> 66    </td><td>2654   </td></tr>\n",
       "\t<tr><td>3264   </td><td>  0    </td><td>1098323</td><td>1858626</td><td> 454   </td><td>32032  </td><td>8105   </td><td>274875 </td><td>156202 </td><td>1536   </td><td>24     </td><td>2814   </td><td>530    </td><td>208631 </td><td>137    </td><td> 60    </td><td>2568   </td></tr>\n",
       "\t<tr><td>3526   </td><td>  1    </td><td>1118051</td><td>1898820</td><td> 529   </td><td>32194  </td><td>8146   </td><td>282493 </td><td>160093 </td><td>1584   </td><td>24     </td><td>2918   </td><td>519    </td><td>176953 </td><td>115    </td><td> 56    </td><td>2575   </td></tr>\n",
       "\t<tr><td>3363   </td><td>  0    </td><td>1076929</td><td>1820448</td><td> 464   </td><td>32189  </td><td>8091   </td><td>284643 </td><td>161081 </td><td>1561   </td><td>24     </td><td>2839   </td><td>508    </td><td>214585 </td><td>138    </td><td> 62    </td><td>2512   </td></tr>\n",
       "\t<tr><td>3545   </td><td>  0    </td><td>1118273</td><td>1897398</td><td> 519   </td><td>32189  </td><td>8146   </td><td>275322 </td><td>156473 </td><td>1550   </td><td>24     </td><td>2829   </td><td>534    </td><td>177273 </td><td>121    </td><td> 67    </td><td>2565   </td></tr>\n",
       "\t<tr><td>3278   </td><td>  0    </td><td>1077259</td><td>1820556</td><td> 443   </td><td>32189  </td><td>8093   </td><td>273528 </td><td>155512 </td><td>1556   </td><td>24     </td><td>2766   </td><td>492    </td><td>180905 </td><td>135    </td><td> 65    </td><td>2562   </td></tr>\n",
       "\t<tr><td>3388   </td><td>  0    </td><td>1083949</td><td>1832346</td><td> 471   </td><td>32189  </td><td>8126   </td><td>284291 </td><td>160927 </td><td>1592   </td><td>24     </td><td>2764   </td><td>528    </td><td>177168 </td><td>124    </td><td> 55    </td><td>2601   </td></tr>\n",
       "\t<tr><td>3333   </td><td>  1    </td><td>1079360</td><td>1823544</td><td> 468   </td><td>32189  </td><td>8099   </td><td>272786 </td><td>155097 </td><td>1534   </td><td>24     </td><td>2775   </td><td>492    </td><td>179202 </td><td>125    </td><td> 60    </td><td>2559   </td></tr>\n",
       "\t<tr><td>3456   </td><td>  0    </td><td>1123417</td><td>1906182</td><td> 528   </td><td>32189  </td><td>8119   </td><td>275289 </td><td>156414 </td><td>1541   </td><td>24     </td><td>2932   </td><td>535    </td><td>182057 </td><td>125    </td><td> 66    </td><td>2606   </td></tr>\n",
       "\t<tr><td>3302   </td><td>  0    </td><td>1082259</td><td>1829502</td><td> 470   </td><td>32189  </td><td>8089   </td><td>287575 </td><td>162573 </td><td>1565   </td><td>24     </td><td>2765   </td><td>503    </td><td>204447 </td><td>122    </td><td> 66    </td><td>2582   </td></tr>\n",
       "\t<tr><td>3409   </td><td>  0    </td><td>1078858</td><td>1824192</td><td> 449   </td><td>32189  </td><td>8123   </td><td>275876 </td><td>156718 </td><td>1522   </td><td>24     </td><td>2815   </td><td>531    </td><td>177958 </td><td>125    </td><td> 66    </td><td>2733   </td></tr>\n",
       "\t<tr><td>3292   </td><td>  0    </td><td>1091422</td><td>1847538</td><td> 498   </td><td>32189  </td><td>8152   </td><td>296709 </td><td>187224 </td><td>1553   </td><td>24     </td><td>2857   </td><td>508    </td><td>212888 </td><td>128    </td><td> 64    </td><td>2487   </td></tr>\n",
       "\t<tr><td>3357   </td><td>  0    </td><td>1078913</td><td>1823274</td><td> 445   </td><td>32189  </td><td>8103   </td><td>284226 </td><td>187760 </td><td>1591   </td><td>24     </td><td>2787   </td><td>516    </td><td>177159 </td><td>119    </td><td> 64    </td><td>2732   </td></tr>\n",
       "\t<tr><td>3298   </td><td>  0    </td><td>1079893</td><td>1825056</td><td> 465   </td><td>32193  </td><td>8180   </td><td>309134 </td><td>173449 </td><td>1626   </td><td>24     </td><td>2782   </td><td>490    </td><td>179535 </td><td>126    </td><td> 60    </td><td>2598   </td></tr>\n",
       "\t<tr><td>3390   </td><td>  0    </td><td>1084135</td><td>1834884</td><td> 477   </td><td>32189  </td><td>8103   </td><td>272102 </td><td>154811 </td><td>1517   </td><td>24     </td><td>2824   </td><td>524    </td><td>177640 </td><td>124    </td><td> 60    </td><td>2532   </td></tr>\n",
       "\t<tr><td>3496   </td><td>  1    </td><td>1133320</td><td>1926918</td><td> 560   </td><td>32194  </td><td>8145   </td><td>282752 </td><td>181173 </td><td>1563   </td><td>24     </td><td>2766   </td><td>489    </td><td>178088 </td><td>120    </td><td> 60    </td><td>2579   </td></tr>\n",
       "\t<tr><td>3314   </td><td>  0    </td><td>1080954</td><td>1826442</td><td> 446   </td><td>32189  </td><td>8134   </td><td>273160 </td><td>155345 </td><td>1535   </td><td>24     </td><td>2873   </td><td>531    </td><td>181599 </td><td>116    </td><td> 59    </td><td>2505   </td></tr>\n",
       "\t<tr><td>3498   </td><td>  0    </td><td>1115137</td><td>1892898</td><td> 520   </td><td>32194  </td><td>8113   </td><td>274680 </td><td>156078 </td><td>1516   </td><td>24     </td><td>2777   </td><td>499    </td><td>177397 </td><td>125    </td><td> 59    </td><td>2719   </td></tr>\n",
       "\t<tr><td>3322   </td><td>  0    </td><td>1084433</td><td>1834758</td><td> 478   </td><td>32189  </td><td>8102   </td><td>281425 </td><td>173522 </td><td>1553   </td><td>24     </td><td>2801   </td><td>521    </td><td>178191 </td><td>130    </td><td> 54    </td><td>2550   </td></tr>\n",
       "\t<tr><td>3470   </td><td>  0    </td><td>1117228</td><td>1894464</td><td> 571   </td><td>32189  </td><td>8104   </td><td>272651 </td><td>155138 </td><td>1534   </td><td>24     </td><td>2913   </td><td>520    </td><td>206206 </td><td>115    </td><td> 60    </td><td>2573   </td></tr>\n",
       "\t<tr><td>3332   </td><td>  0    </td><td>1080774</td><td>1827450</td><td> 464   </td><td>32189  </td><td>8153   </td><td>275252 </td><td>156465 </td><td>1537   </td><td>24     </td><td>2789   </td><td>540    </td><td>177231 </td><td>116    </td><td> 64    </td><td>2528   </td></tr>\n",
       "\t<tr><td>...</td><td>...</td><td>...</td><td>...</td><td>...</td><td>...</td><td>...</td><td>...</td><td>...</td><td>...</td><td>...</td><td>...</td><td>...</td><td>...</td><td>...</td><td>...</td><td>...</td></tr>\n",
       "\t<tr><td>79417  </td><td>159    </td><td>3385346</td><td>2004174</td><td>9089   </td><td>228038 </td><td>8032   </td><td>335208 </td><td>282777 </td><td>1195   </td><td>1204178</td><td>52792  </td><td>24836  </td><td>505445 </td><td>4858   </td><td>325    </td><td>64871  </td></tr>\n",
       "\t<tr><td>79487  </td><td>176    </td><td>3385745</td><td>2008638</td><td>9128   </td><td>228040 </td><td>8068   </td><td>340777 </td><td>285607 </td><td>1253   </td><td>1204266</td><td>52848  </td><td>24806  </td><td>502793 </td><td>5032   </td><td>347    </td><td>64776  </td></tr>\n",
       "\t<tr><td>79496  </td><td>155    </td><td>3397873</td><td>2025846</td><td>9107   </td><td>228038 </td><td>8046   </td><td>334876 </td><td>282573 </td><td>1178   </td><td>1204334</td><td>52839  </td><td>24847  </td><td>503457 </td><td>5077   </td><td>317    </td><td>64829  </td></tr>\n",
       "\t<tr><td>79418  </td><td>159    </td><td>3389675</td><td>2014722</td><td>9213   </td><td>228040 </td><td>8051   </td><td>338834 </td><td>284624 </td><td>1252   </td><td>1204262</td><td>52791  </td><td>24827  </td><td>502886 </td><td>4943   </td><td>352    </td><td>63515  </td></tr>\n",
       "\t<tr><td>79426  </td><td>151    </td><td>3375950</td><td>1986894</td><td>9187   </td><td>228038 </td><td>8043   </td><td>336480 </td><td>283397 </td><td>1196   </td><td>1204252</td><td>52796  </td><td>24801  </td><td>505114 </td><td>5108   </td><td>314    </td><td>63562  </td></tr>\n",
       "\t<tr><td>79429  </td><td>155    </td><td>3379555</td><td>1996920</td><td>9398   </td><td>228038 </td><td>8038   </td><td>336558 </td><td>283402 </td><td>1199   </td><td>1204265</td><td>52940  </td><td>24847  </td><td>505361 </td><td>5218   </td><td>365    </td><td>63707  </td></tr>\n",
       "\t<tr><td>79443  </td><td>172    </td><td>3400145</td><td>2031048</td><td>9444   </td><td>228041 </td><td>8051   </td><td>335857 </td><td>283118 </td><td>1202   </td><td>1204449</td><td>52850  </td><td>24796  </td><td>504199 </td><td>5040   </td><td>330    </td><td>63721  </td></tr>\n",
       "\t<tr><td>79385  </td><td>167    </td><td>3379716</td><td>1994166</td><td>9315   </td><td>228038 </td><td>8060   </td><td>336837 </td><td>283617 </td><td>1217   </td><td>1204185</td><td>52821  </td><td>24848  </td><td>503091 </td><td>4988   </td><td>330    </td><td>63699  </td></tr>\n",
       "\t<tr><td>79394  </td><td>145    </td><td>3380640</td><td>1995066</td><td>9154   </td><td>228038 </td><td>8102   </td><td>338604 </td><td>284531 </td><td>1250   </td><td>1204515</td><td>52916  </td><td>24835  </td><td>505281 </td><td>5106   </td><td>355    </td><td>63086  </td></tr>\n",
       "\t<tr><td>79499  </td><td>171    </td><td>3392566</td><td>2019276</td><td>9351   </td><td>228038 </td><td>8036   </td><td>336261 </td><td>283286 </td><td>1210   </td><td>1204319</td><td>52820  </td><td>24826  </td><td>503059 </td><td>5166   </td><td>323    </td><td>63729  </td></tr>\n",
       "\t<tr><td>79372  </td><td>160    </td><td>3379944</td><td>1994616</td><td>8980   </td><td>228038 </td><td>8071   </td><td>341227 </td><td>285849 </td><td>1254   </td><td>1204253</td><td>53086  </td><td>24848  </td><td>503709 </td><td>5117   </td><td>366    </td><td>63340  </td></tr>\n",
       "\t<tr><td>79380  </td><td>166    </td><td>3387213</td><td>2008044</td><td>9137   </td><td>228041 </td><td>8067   </td><td>347656 </td><td>289030 </td><td>1269   </td><td>1204217</td><td>52799  </td><td>24820  </td><td>503959 </td><td>4946   </td><td>307    </td><td>63418  </td></tr>\n",
       "\t<tr><td>79293  </td><td>166    </td><td>3378038</td><td>1992780</td><td>9214   </td><td>228038 </td><td>8061   </td><td>350662 </td><td>290486 </td><td>1247   </td><td>1204225</td><td>52927  </td><td>24805  </td><td>503277 </td><td>5022   </td><td>361    </td><td>63408  </td></tr>\n",
       "\t<tr><td>79439  </td><td>164    </td><td>3396909</td><td>2027178</td><td>9261   </td><td>228038 </td><td>8062   </td><td>351104 </td><td>290786 </td><td>1293   </td><td>1204150</td><td>52961  </td><td>24827  </td><td>505920 </td><td>4819   </td><td>309    </td><td>63538  </td></tr>\n",
       "\t<tr><td>79326  </td><td>169    </td><td>3386293</td><td>2007576</td><td>9412   </td><td>228041 </td><td>8097   </td><td>351535 </td><td>291031 </td><td>1282   </td><td>1204221</td><td>52862  </td><td>24820  </td><td>502893 </td><td>5320   </td><td>357    </td><td>64004  </td></tr>\n",
       "\t<tr><td>79391  </td><td>147    </td><td>3375123</td><td>1986552</td><td>9230   </td><td>228038 </td><td>8093   </td><td>351852 </td><td>291172 </td><td>1297   </td><td>1204338</td><td>52801  </td><td>24837  </td><td>503744 </td><td>5076   </td><td>308    </td><td>63477  </td></tr>\n",
       "\t<tr><td>79456  </td><td>176    </td><td>3392777</td><td>2022462</td><td>9233   </td><td>228040 </td><td>8131   </td><td>354423 </td><td>292547 </td><td>1289   </td><td>1204322</td><td>52830  </td><td>24816  </td><td>505674 </td><td>5308   </td><td>373    </td><td>63361  </td></tr>\n",
       "\t<tr><td>79547  </td><td>154    </td><td>3402449</td><td>2084256</td><td>9055   </td><td>228038 </td><td>8057   </td><td>350243 </td><td>290274 </td><td>1268   </td><td>1204362</td><td>52846  </td><td>24804  </td><td>504983 </td><td>4986   </td><td>339    </td><td>63383  </td></tr>\n",
       "\t<tr><td>79374  </td><td>178    </td><td>3379078</td><td>1997064</td><td>9156   </td><td>228038 </td><td>8074   </td><td>341761 </td><td>286043 </td><td>1267   </td><td>1204259</td><td>52818  </td><td>24830  </td><td>502990 </td><td>5189   </td><td>335    </td><td>63444  </td></tr>\n",
       "\t<tr><td>79432  </td><td>158    </td><td>3386756</td><td>2009124</td><td>9538   </td><td>228041 </td><td>8078   </td><td>337954 </td><td>284213 </td><td>1236   </td><td>1204339</td><td>52911  </td><td>24843  </td><td>503501 </td><td>4890   </td><td>360    </td><td>63006  </td></tr>\n",
       "\t<tr><td>79522  </td><td>157    </td><td>3392961</td><td>2016018</td><td>9185   </td><td>228038 </td><td>8076   </td><td>335849 </td><td>283121 </td><td>1224   </td><td>1204180</td><td>52905  </td><td>24827  </td><td>503317 </td><td>4959   </td><td>319    </td><td>63212  </td></tr>\n",
       "\t<tr><td>79398  </td><td>168    </td><td>3382681</td><td>2002428</td><td>9247   </td><td>228038 </td><td>8046   </td><td>347173 </td><td>288798 </td><td>1288   </td><td>1203958</td><td>53198  </td><td>24895  </td><td>505678 </td><td>4989   </td><td>364    </td><td>63914  </td></tr>\n",
       "\t<tr><td>79520  </td><td>160    </td><td>3385210</td><td>2009196</td><td>9608   </td><td>228041 </td><td>8029   </td><td>335033 </td><td>282638 </td><td>1179   </td><td>1204585</td><td>53013  </td><td>24875  </td><td>502932 </td><td>5136   </td><td>326    </td><td>63671  </td></tr>\n",
       "\t<tr><td>79426  </td><td>159    </td><td>3381198</td><td>1997568</td><td>9091   </td><td>228038 </td><td>8067   </td><td>338981 </td><td>284714 </td><td>1257   </td><td>1204748</td><td>53104  </td><td>24859  </td><td>502777 </td><td>4993   </td><td>349    </td><td>63894  </td></tr>\n",
       "\t<tr><td>79617  </td><td>162    </td><td>3406711</td><td>2048238</td><td>9413   </td><td>228041 </td><td>8071   </td><td>340998 </td><td>285719 </td><td>1258   </td><td>1204804</td><td>53079  </td><td>24860  </td><td>506685 </td><td>4988   </td><td>315    </td><td>63720  </td></tr>\n",
       "\t<tr><td>79345  </td><td>171    </td><td>3379094</td><td>1994166</td><td>9207   </td><td>228038 </td><td>8034   </td><td>336095 </td><td>283165 </td><td>1204   </td><td>1204204</td><td>53165  </td><td>24848  </td><td>502864 </td><td>5137   </td><td>346    </td><td>63898  </td></tr>\n",
       "\t<tr><td>79490  </td><td>172    </td><td>3458120</td><td>2225340</td><td>9409   </td><td>228038 </td><td>8056   </td><td>334986 </td><td>282655 </td><td>1224   </td><td>1204860</td><td>53019  </td><td>24837  </td><td>503466 </td><td>5182   </td><td>323    </td><td>63811  </td></tr>\n",
       "\t<tr><td>79637  </td><td>168    </td><td>3451304</td><td>2281626</td><td>8971   </td><td>228041 </td><td>8055   </td><td>342168 </td><td>286249 </td><td>1274   </td><td>1204508</td><td>53050  </td><td>24837  </td><td>502722 </td><td>5296   </td><td>364    </td><td>64139  </td></tr>\n",
       "\t<tr><td>79508  </td><td>164    </td><td>3456665</td><td>2251116</td><td>9306   </td><td>228041 </td><td>8077   </td><td>338159 </td><td>284303 </td><td>1269   </td><td>1205437</td><td>52749  </td><td>24743  </td><td>503423 </td><td>5083   </td><td>327    </td><td>63433  </td></tr>\n",
       "\t<tr><td>79568  </td><td>154    </td><td>3422372</td><td>2189772</td><td>8726   </td><td>228038 </td><td>8053   </td><td>336057 </td><td>283184 </td><td>1255   </td><td>1205059</td><td>52842  </td><td>24852  </td><td>506383 </td><td>5034   </td><td>334    </td><td>63279  </td></tr>\n",
       "</tbody>\n",
       "</table>\n"
      ],
      "text/latex": [
       "\\begin{tabular}{r|lllllllllllllllll}\n",
       " PAPI\\_L1\\_DCM & PAPI\\_L3\\_TCM & PAPI\\_TOT\\_INS & PAPI\\_REF\\_CYC & PAPI\\_L2\\_LDM & PAPI\\_SR\\_INS & PAPI\\_BR\\_UCN & PAPI\\_BR\\_CN & PAPI\\_BR\\_TKN & PAPI\\_BR\\_MSP & PAPI\\_FP\\_OPS & PAPI\\_L1\\_LDM & PAPI\\_L1\\_STM & PAPI\\_LD\\_INS & PAPI\\_L2\\_STM & PAPI\\_TLB\\_DM & PAPI\\_L2\\_DCH\\\\\n",
       "\\hline\n",
       "\t 5792    & 296     &  728331 & 1280646 & 2074    & 33185   & 8405    & 206376  & 122216  & 1927    & 71      & 4451    & 777     & 119687  & 370     & 233     & 3398   \\\\\n",
       "\t 3389    &   4     & 1109926 & 1883952 &  514    & 32261   & 8125    & 281808  & 159757  & 1685    & 24      & 3007    & 630     & 196461  & 246     &  75     & 2712   \\\\\n",
       "\t 3992    &   1     & 1162254 & 1983816 &  688    & 32036   & 8128    & 261973  & 149834  & 1591    & 25      & 2793    & 567     & 178913  & 123     &  57     & 2510   \\\\\n",
       "\t 3306    &   0     & 1088427 & 1842192 &  456    & 32261   & 8104    & 278682  & 158179  & 1635    & 24      & 2776    & 486     & 179265  & 125     &  72     & 2667   \\\\\n",
       "\t 3457    &   0     & 1084172 & 1834992 &  456    & 32032   & 8115    & 279794  & 158622  & 1596    & 24      & 2890    & 546     & 210295  & 107     &  51     & 2624   \\\\\n",
       "\t 3305    &   0     & 1090388 & 1845198 &  474    & 32261   & 8114    & 275006  & 156418  & 1617    & 24      & 2752    & 486     & 179154  & 128     &  64     & 2625   \\\\\n",
       "\t 3457    &   0     & 1116139 & 1893816 &  516    & 32032   & 8122    & 285333  & 161434  & 1584    & 24      & 2783    & 539     & 178378  & 117     &  62     & 2540   \\\\\n",
       "\t 3333    &   1     & 1106619 & 1876392 &  476    & 32265   & 8107    & 277816  & 157710  & 1600    & 24      & 2754    & 481     & 178317  & 121     &  66     & 2605   \\\\\n",
       "\t 3431    &   1     & 1080156 & 1827504 &  471    & 32032   & 8114    & 274878  & 156209  & 1527    & 24      & 2804    & 542     & 177924  & 120     &  57     & 2579   \\\\\n",
       "\t 3354    &   1     & 1110830 & 1884186 &  520    & 32265   & 8143    & 349034  & 208324  & 1657    & 24      & 2989    & 511     & 183190  & 122     &  66     & 2654   \\\\\n",
       "\t 3264    &   0     & 1098323 & 1858626 &  454    & 32032   & 8105    & 274875  & 156202  & 1536    & 24      & 2814    & 530     & 208631  & 137     &  60     & 2568   \\\\\n",
       "\t 3526    &   1     & 1118051 & 1898820 &  529    & 32194   & 8146    & 282493  & 160093  & 1584    & 24      & 2918    & 519     & 176953  & 115     &  56     & 2575   \\\\\n",
       "\t 3363    &   0     & 1076929 & 1820448 &  464    & 32189   & 8091    & 284643  & 161081  & 1561    & 24      & 2839    & 508     & 214585  & 138     &  62     & 2512   \\\\\n",
       "\t 3545    &   0     & 1118273 & 1897398 &  519    & 32189   & 8146    & 275322  & 156473  & 1550    & 24      & 2829    & 534     & 177273  & 121     &  67     & 2565   \\\\\n",
       "\t 3278    &   0     & 1077259 & 1820556 &  443    & 32189   & 8093    & 273528  & 155512  & 1556    & 24      & 2766    & 492     & 180905  & 135     &  65     & 2562   \\\\\n",
       "\t 3388    &   0     & 1083949 & 1832346 &  471    & 32189   & 8126    & 284291  & 160927  & 1592    & 24      & 2764    & 528     & 177168  & 124     &  55     & 2601   \\\\\n",
       "\t 3333    &   1     & 1079360 & 1823544 &  468    & 32189   & 8099    & 272786  & 155097  & 1534    & 24      & 2775    & 492     & 179202  & 125     &  60     & 2559   \\\\\n",
       "\t 3456    &   0     & 1123417 & 1906182 &  528    & 32189   & 8119    & 275289  & 156414  & 1541    & 24      & 2932    & 535     & 182057  & 125     &  66     & 2606   \\\\\n",
       "\t 3302    &   0     & 1082259 & 1829502 &  470    & 32189   & 8089    & 287575  & 162573  & 1565    & 24      & 2765    & 503     & 204447  & 122     &  66     & 2582   \\\\\n",
       "\t 3409    &   0     & 1078858 & 1824192 &  449    & 32189   & 8123    & 275876  & 156718  & 1522    & 24      & 2815    & 531     & 177958  & 125     &  66     & 2733   \\\\\n",
       "\t 3292    &   0     & 1091422 & 1847538 &  498    & 32189   & 8152    & 296709  & 187224  & 1553    & 24      & 2857    & 508     & 212888  & 128     &  64     & 2487   \\\\\n",
       "\t 3357    &   0     & 1078913 & 1823274 &  445    & 32189   & 8103    & 284226  & 187760  & 1591    & 24      & 2787    & 516     & 177159  & 119     &  64     & 2732   \\\\\n",
       "\t 3298    &   0     & 1079893 & 1825056 &  465    & 32193   & 8180    & 309134  & 173449  & 1626    & 24      & 2782    & 490     & 179535  & 126     &  60     & 2598   \\\\\n",
       "\t 3390    &   0     & 1084135 & 1834884 &  477    & 32189   & 8103    & 272102  & 154811  & 1517    & 24      & 2824    & 524     & 177640  & 124     &  60     & 2532   \\\\\n",
       "\t 3496    &   1     & 1133320 & 1926918 &  560    & 32194   & 8145    & 282752  & 181173  & 1563    & 24      & 2766    & 489     & 178088  & 120     &  60     & 2579   \\\\\n",
       "\t 3314    &   0     & 1080954 & 1826442 &  446    & 32189   & 8134    & 273160  & 155345  & 1535    & 24      & 2873    & 531     & 181599  & 116     &  59     & 2505   \\\\\n",
       "\t 3498    &   0     & 1115137 & 1892898 &  520    & 32194   & 8113    & 274680  & 156078  & 1516    & 24      & 2777    & 499     & 177397  & 125     &  59     & 2719   \\\\\n",
       "\t 3322    &   0     & 1084433 & 1834758 &  478    & 32189   & 8102    & 281425  & 173522  & 1553    & 24      & 2801    & 521     & 178191  & 130     &  54     & 2550   \\\\\n",
       "\t 3470    &   0     & 1117228 & 1894464 &  571    & 32189   & 8104    & 272651  & 155138  & 1534    & 24      & 2913    & 520     & 206206  & 115     &  60     & 2573   \\\\\n",
       "\t 3332    &   0     & 1080774 & 1827450 &  464    & 32189   & 8153    & 275252  & 156465  & 1537    & 24      & 2789    & 540     & 177231  & 116     &  64     & 2528   \\\\\n",
       "\t ... & ... & ... & ... & ... & ... & ... & ... & ... & ... & ... & ... & ... & ... & ... & ... & ...\\\\\n",
       "\t 79417   & 159     & 3385346 & 2004174 & 9089    & 228038  & 8032    & 335208  & 282777  & 1195    & 1204178 & 52792   & 24836   & 505445  & 4858    & 325     & 64871  \\\\\n",
       "\t 79487   & 176     & 3385745 & 2008638 & 9128    & 228040  & 8068    & 340777  & 285607  & 1253    & 1204266 & 52848   & 24806   & 502793  & 5032    & 347     & 64776  \\\\\n",
       "\t 79496   & 155     & 3397873 & 2025846 & 9107    & 228038  & 8046    & 334876  & 282573  & 1178    & 1204334 & 52839   & 24847   & 503457  & 5077    & 317     & 64829  \\\\\n",
       "\t 79418   & 159     & 3389675 & 2014722 & 9213    & 228040  & 8051    & 338834  & 284624  & 1252    & 1204262 & 52791   & 24827   & 502886  & 4943    & 352     & 63515  \\\\\n",
       "\t 79426   & 151     & 3375950 & 1986894 & 9187    & 228038  & 8043    & 336480  & 283397  & 1196    & 1204252 & 52796   & 24801   & 505114  & 5108    & 314     & 63562  \\\\\n",
       "\t 79429   & 155     & 3379555 & 1996920 & 9398    & 228038  & 8038    & 336558  & 283402  & 1199    & 1204265 & 52940   & 24847   & 505361  & 5218    & 365     & 63707  \\\\\n",
       "\t 79443   & 172     & 3400145 & 2031048 & 9444    & 228041  & 8051    & 335857  & 283118  & 1202    & 1204449 & 52850   & 24796   & 504199  & 5040    & 330     & 63721  \\\\\n",
       "\t 79385   & 167     & 3379716 & 1994166 & 9315    & 228038  & 8060    & 336837  & 283617  & 1217    & 1204185 & 52821   & 24848   & 503091  & 4988    & 330     & 63699  \\\\\n",
       "\t 79394   & 145     & 3380640 & 1995066 & 9154    & 228038  & 8102    & 338604  & 284531  & 1250    & 1204515 & 52916   & 24835   & 505281  & 5106    & 355     & 63086  \\\\\n",
       "\t 79499   & 171     & 3392566 & 2019276 & 9351    & 228038  & 8036    & 336261  & 283286  & 1210    & 1204319 & 52820   & 24826   & 503059  & 5166    & 323     & 63729  \\\\\n",
       "\t 79372   & 160     & 3379944 & 1994616 & 8980    & 228038  & 8071    & 341227  & 285849  & 1254    & 1204253 & 53086   & 24848   & 503709  & 5117    & 366     & 63340  \\\\\n",
       "\t 79380   & 166     & 3387213 & 2008044 & 9137    & 228041  & 8067    & 347656  & 289030  & 1269    & 1204217 & 52799   & 24820   & 503959  & 4946    & 307     & 63418  \\\\\n",
       "\t 79293   & 166     & 3378038 & 1992780 & 9214    & 228038  & 8061    & 350662  & 290486  & 1247    & 1204225 & 52927   & 24805   & 503277  & 5022    & 361     & 63408  \\\\\n",
       "\t 79439   & 164     & 3396909 & 2027178 & 9261    & 228038  & 8062    & 351104  & 290786  & 1293    & 1204150 & 52961   & 24827   & 505920  & 4819    & 309     & 63538  \\\\\n",
       "\t 79326   & 169     & 3386293 & 2007576 & 9412    & 228041  & 8097    & 351535  & 291031  & 1282    & 1204221 & 52862   & 24820   & 502893  & 5320    & 357     & 64004  \\\\\n",
       "\t 79391   & 147     & 3375123 & 1986552 & 9230    & 228038  & 8093    & 351852  & 291172  & 1297    & 1204338 & 52801   & 24837   & 503744  & 5076    & 308     & 63477  \\\\\n",
       "\t 79456   & 176     & 3392777 & 2022462 & 9233    & 228040  & 8131    & 354423  & 292547  & 1289    & 1204322 & 52830   & 24816   & 505674  & 5308    & 373     & 63361  \\\\\n",
       "\t 79547   & 154     & 3402449 & 2084256 & 9055    & 228038  & 8057    & 350243  & 290274  & 1268    & 1204362 & 52846   & 24804   & 504983  & 4986    & 339     & 63383  \\\\\n",
       "\t 79374   & 178     & 3379078 & 1997064 & 9156    & 228038  & 8074    & 341761  & 286043  & 1267    & 1204259 & 52818   & 24830   & 502990  & 5189    & 335     & 63444  \\\\\n",
       "\t 79432   & 158     & 3386756 & 2009124 & 9538    & 228041  & 8078    & 337954  & 284213  & 1236    & 1204339 & 52911   & 24843   & 503501  & 4890    & 360     & 63006  \\\\\n",
       "\t 79522   & 157     & 3392961 & 2016018 & 9185    & 228038  & 8076    & 335849  & 283121  & 1224    & 1204180 & 52905   & 24827   & 503317  & 4959    & 319     & 63212  \\\\\n",
       "\t 79398   & 168     & 3382681 & 2002428 & 9247    & 228038  & 8046    & 347173  & 288798  & 1288    & 1203958 & 53198   & 24895   & 505678  & 4989    & 364     & 63914  \\\\\n",
       "\t 79520   & 160     & 3385210 & 2009196 & 9608    & 228041  & 8029    & 335033  & 282638  & 1179    & 1204585 & 53013   & 24875   & 502932  & 5136    & 326     & 63671  \\\\\n",
       "\t 79426   & 159     & 3381198 & 1997568 & 9091    & 228038  & 8067    & 338981  & 284714  & 1257    & 1204748 & 53104   & 24859   & 502777  & 4993    & 349     & 63894  \\\\\n",
       "\t 79617   & 162     & 3406711 & 2048238 & 9413    & 228041  & 8071    & 340998  & 285719  & 1258    & 1204804 & 53079   & 24860   & 506685  & 4988    & 315     & 63720  \\\\\n",
       "\t 79345   & 171     & 3379094 & 1994166 & 9207    & 228038  & 8034    & 336095  & 283165  & 1204    & 1204204 & 53165   & 24848   & 502864  & 5137    & 346     & 63898  \\\\\n",
       "\t 79490   & 172     & 3458120 & 2225340 & 9409    & 228038  & 8056    & 334986  & 282655  & 1224    & 1204860 & 53019   & 24837   & 503466  & 5182    & 323     & 63811  \\\\\n",
       "\t 79637   & 168     & 3451304 & 2281626 & 8971    & 228041  & 8055    & 342168  & 286249  & 1274    & 1204508 & 53050   & 24837   & 502722  & 5296    & 364     & 64139  \\\\\n",
       "\t 79508   & 164     & 3456665 & 2251116 & 9306    & 228041  & 8077    & 338159  & 284303  & 1269    & 1205437 & 52749   & 24743   & 503423  & 5083    & 327     & 63433  \\\\\n",
       "\t 79568   & 154     & 3422372 & 2189772 & 8726    & 228038  & 8053    & 336057  & 283184  & 1255    & 1205059 & 52842   & 24852   & 506383  & 5034    & 334     & 63279  \\\\\n",
       "\\end{tabular}\n"
      ],
      "text/markdown": [
       "\n",
       "PAPI_L1_DCM | PAPI_L3_TCM | PAPI_TOT_INS | PAPI_REF_CYC | PAPI_L2_LDM | PAPI_SR_INS | PAPI_BR_UCN | PAPI_BR_CN | PAPI_BR_TKN | PAPI_BR_MSP | PAPI_FP_OPS | PAPI_L1_LDM | PAPI_L1_STM | PAPI_LD_INS | PAPI_L2_STM | PAPI_TLB_DM | PAPI_L2_DCH | \n",
       "|---|---|---|---|---|---|---|---|---|---|---|---|---|---|---|---|---|---|---|---|---|---|---|---|---|---|---|---|---|---|---|---|---|---|---|---|---|---|---|---|---|---|---|---|---|---|---|---|---|---|---|---|---|---|---|---|---|---|---|---|---|\n",
       "| 5792    | 296     |  728331 | 1280646 | 2074    | 33185   | 8405    | 206376  | 122216  | 1927    | 71      | 4451    | 777     | 119687  | 370     | 233     | 3398    | \n",
       "| 3389    |   4     | 1109926 | 1883952 |  514    | 32261   | 8125    | 281808  | 159757  | 1685    | 24      | 3007    | 630     | 196461  | 246     |  75     | 2712    | \n",
       "| 3992    |   1     | 1162254 | 1983816 |  688    | 32036   | 8128    | 261973  | 149834  | 1591    | 25      | 2793    | 567     | 178913  | 123     |  57     | 2510    | \n",
       "| 3306    |   0     | 1088427 | 1842192 |  456    | 32261   | 8104    | 278682  | 158179  | 1635    | 24      | 2776    | 486     | 179265  | 125     |  72     | 2667    | \n",
       "| 3457    |   0     | 1084172 | 1834992 |  456    | 32032   | 8115    | 279794  | 158622  | 1596    | 24      | 2890    | 546     | 210295  | 107     |  51     | 2624    | \n",
       "| 3305    |   0     | 1090388 | 1845198 |  474    | 32261   | 8114    | 275006  | 156418  | 1617    | 24      | 2752    | 486     | 179154  | 128     |  64     | 2625    | \n",
       "| 3457    |   0     | 1116139 | 1893816 |  516    | 32032   | 8122    | 285333  | 161434  | 1584    | 24      | 2783    | 539     | 178378  | 117     |  62     | 2540    | \n",
       "| 3333    |   1     | 1106619 | 1876392 |  476    | 32265   | 8107    | 277816  | 157710  | 1600    | 24      | 2754    | 481     | 178317  | 121     |  66     | 2605    | \n",
       "| 3431    |   1     | 1080156 | 1827504 |  471    | 32032   | 8114    | 274878  | 156209  | 1527    | 24      | 2804    | 542     | 177924  | 120     |  57     | 2579    | \n",
       "| 3354    |   1     | 1110830 | 1884186 |  520    | 32265   | 8143    | 349034  | 208324  | 1657    | 24      | 2989    | 511     | 183190  | 122     |  66     | 2654    | \n",
       "| 3264    |   0     | 1098323 | 1858626 |  454    | 32032   | 8105    | 274875  | 156202  | 1536    | 24      | 2814    | 530     | 208631  | 137     |  60     | 2568    | \n",
       "| 3526    |   1     | 1118051 | 1898820 |  529    | 32194   | 8146    | 282493  | 160093  | 1584    | 24      | 2918    | 519     | 176953  | 115     |  56     | 2575    | \n",
       "| 3363    |   0     | 1076929 | 1820448 |  464    | 32189   | 8091    | 284643  | 161081  | 1561    | 24      | 2839    | 508     | 214585  | 138     |  62     | 2512    | \n",
       "| 3545    |   0     | 1118273 | 1897398 |  519    | 32189   | 8146    | 275322  | 156473  | 1550    | 24      | 2829    | 534     | 177273  | 121     |  67     | 2565    | \n",
       "| 3278    |   0     | 1077259 | 1820556 |  443    | 32189   | 8093    | 273528  | 155512  | 1556    | 24      | 2766    | 492     | 180905  | 135     |  65     | 2562    | \n",
       "| 3388    |   0     | 1083949 | 1832346 |  471    | 32189   | 8126    | 284291  | 160927  | 1592    | 24      | 2764    | 528     | 177168  | 124     |  55     | 2601    | \n",
       "| 3333    |   1     | 1079360 | 1823544 |  468    | 32189   | 8099    | 272786  | 155097  | 1534    | 24      | 2775    | 492     | 179202  | 125     |  60     | 2559    | \n",
       "| 3456    |   0     | 1123417 | 1906182 |  528    | 32189   | 8119    | 275289  | 156414  | 1541    | 24      | 2932    | 535     | 182057  | 125     |  66     | 2606    | \n",
       "| 3302    |   0     | 1082259 | 1829502 |  470    | 32189   | 8089    | 287575  | 162573  | 1565    | 24      | 2765    | 503     | 204447  | 122     |  66     | 2582    | \n",
       "| 3409    |   0     | 1078858 | 1824192 |  449    | 32189   | 8123    | 275876  | 156718  | 1522    | 24      | 2815    | 531     | 177958  | 125     |  66     | 2733    | \n",
       "| 3292    |   0     | 1091422 | 1847538 |  498    | 32189   | 8152    | 296709  | 187224  | 1553    | 24      | 2857    | 508     | 212888  | 128     |  64     | 2487    | \n",
       "| 3357    |   0     | 1078913 | 1823274 |  445    | 32189   | 8103    | 284226  | 187760  | 1591    | 24      | 2787    | 516     | 177159  | 119     |  64     | 2732    | \n",
       "| 3298    |   0     | 1079893 | 1825056 |  465    | 32193   | 8180    | 309134  | 173449  | 1626    | 24      | 2782    | 490     | 179535  | 126     |  60     | 2598    | \n",
       "| 3390    |   0     | 1084135 | 1834884 |  477    | 32189   | 8103    | 272102  | 154811  | 1517    | 24      | 2824    | 524     | 177640  | 124     |  60     | 2532    | \n",
       "| 3496    |   1     | 1133320 | 1926918 |  560    | 32194   | 8145    | 282752  | 181173  | 1563    | 24      | 2766    | 489     | 178088  | 120     |  60     | 2579    | \n",
       "| 3314    |   0     | 1080954 | 1826442 |  446    | 32189   | 8134    | 273160  | 155345  | 1535    | 24      | 2873    | 531     | 181599  | 116     |  59     | 2505    | \n",
       "| 3498    |   0     | 1115137 | 1892898 |  520    | 32194   | 8113    | 274680  | 156078  | 1516    | 24      | 2777    | 499     | 177397  | 125     |  59     | 2719    | \n",
       "| 3322    |   0     | 1084433 | 1834758 |  478    | 32189   | 8102    | 281425  | 173522  | 1553    | 24      | 2801    | 521     | 178191  | 130     |  54     | 2550    | \n",
       "| 3470    |   0     | 1117228 | 1894464 |  571    | 32189   | 8104    | 272651  | 155138  | 1534    | 24      | 2913    | 520     | 206206  | 115     |  60     | 2573    | \n",
       "| 3332    |   0     | 1080774 | 1827450 |  464    | 32189   | 8153    | 275252  | 156465  | 1537    | 24      | 2789    | 540     | 177231  | 116     |  64     | 2528    | \n",
       "| ... | ... | ... | ... | ... | ... | ... | ... | ... | ... | ... | ... | ... | ... | ... | ... | ... | \n",
       "| 79417   | 159     | 3385346 | 2004174 | 9089    | 228038  | 8032    | 335208  | 282777  | 1195    | 1204178 | 52792   | 24836   | 505445  | 4858    | 325     | 64871   | \n",
       "| 79487   | 176     | 3385745 | 2008638 | 9128    | 228040  | 8068    | 340777  | 285607  | 1253    | 1204266 | 52848   | 24806   | 502793  | 5032    | 347     | 64776   | \n",
       "| 79496   | 155     | 3397873 | 2025846 | 9107    | 228038  | 8046    | 334876  | 282573  | 1178    | 1204334 | 52839   | 24847   | 503457  | 5077    | 317     | 64829   | \n",
       "| 79418   | 159     | 3389675 | 2014722 | 9213    | 228040  | 8051    | 338834  | 284624  | 1252    | 1204262 | 52791   | 24827   | 502886  | 4943    | 352     | 63515   | \n",
       "| 79426   | 151     | 3375950 | 1986894 | 9187    | 228038  | 8043    | 336480  | 283397  | 1196    | 1204252 | 52796   | 24801   | 505114  | 5108    | 314     | 63562   | \n",
       "| 79429   | 155     | 3379555 | 1996920 | 9398    | 228038  | 8038    | 336558  | 283402  | 1199    | 1204265 | 52940   | 24847   | 505361  | 5218    | 365     | 63707   | \n",
       "| 79443   | 172     | 3400145 | 2031048 | 9444    | 228041  | 8051    | 335857  | 283118  | 1202    | 1204449 | 52850   | 24796   | 504199  | 5040    | 330     | 63721   | \n",
       "| 79385   | 167     | 3379716 | 1994166 | 9315    | 228038  | 8060    | 336837  | 283617  | 1217    | 1204185 | 52821   | 24848   | 503091  | 4988    | 330     | 63699   | \n",
       "| 79394   | 145     | 3380640 | 1995066 | 9154    | 228038  | 8102    | 338604  | 284531  | 1250    | 1204515 | 52916   | 24835   | 505281  | 5106    | 355     | 63086   | \n",
       "| 79499   | 171     | 3392566 | 2019276 | 9351    | 228038  | 8036    | 336261  | 283286  | 1210    | 1204319 | 52820   | 24826   | 503059  | 5166    | 323     | 63729   | \n",
       "| 79372   | 160     | 3379944 | 1994616 | 8980    | 228038  | 8071    | 341227  | 285849  | 1254    | 1204253 | 53086   | 24848   | 503709  | 5117    | 366     | 63340   | \n",
       "| 79380   | 166     | 3387213 | 2008044 | 9137    | 228041  | 8067    | 347656  | 289030  | 1269    | 1204217 | 52799   | 24820   | 503959  | 4946    | 307     | 63418   | \n",
       "| 79293   | 166     | 3378038 | 1992780 | 9214    | 228038  | 8061    | 350662  | 290486  | 1247    | 1204225 | 52927   | 24805   | 503277  | 5022    | 361     | 63408   | \n",
       "| 79439   | 164     | 3396909 | 2027178 | 9261    | 228038  | 8062    | 351104  | 290786  | 1293    | 1204150 | 52961   | 24827   | 505920  | 4819    | 309     | 63538   | \n",
       "| 79326   | 169     | 3386293 | 2007576 | 9412    | 228041  | 8097    | 351535  | 291031  | 1282    | 1204221 | 52862   | 24820   | 502893  | 5320    | 357     | 64004   | \n",
       "| 79391   | 147     | 3375123 | 1986552 | 9230    | 228038  | 8093    | 351852  | 291172  | 1297    | 1204338 | 52801   | 24837   | 503744  | 5076    | 308     | 63477   | \n",
       "| 79456   | 176     | 3392777 | 2022462 | 9233    | 228040  | 8131    | 354423  | 292547  | 1289    | 1204322 | 52830   | 24816   | 505674  | 5308    | 373     | 63361   | \n",
       "| 79547   | 154     | 3402449 | 2084256 | 9055    | 228038  | 8057    | 350243  | 290274  | 1268    | 1204362 | 52846   | 24804   | 504983  | 4986    | 339     | 63383   | \n",
       "| 79374   | 178     | 3379078 | 1997064 | 9156    | 228038  | 8074    | 341761  | 286043  | 1267    | 1204259 | 52818   | 24830   | 502990  | 5189    | 335     | 63444   | \n",
       "| 79432   | 158     | 3386756 | 2009124 | 9538    | 228041  | 8078    | 337954  | 284213  | 1236    | 1204339 | 52911   | 24843   | 503501  | 4890    | 360     | 63006   | \n",
       "| 79522   | 157     | 3392961 | 2016018 | 9185    | 228038  | 8076    | 335849  | 283121  | 1224    | 1204180 | 52905   | 24827   | 503317  | 4959    | 319     | 63212   | \n",
       "| 79398   | 168     | 3382681 | 2002428 | 9247    | 228038  | 8046    | 347173  | 288798  | 1288    | 1203958 | 53198   | 24895   | 505678  | 4989    | 364     | 63914   | \n",
       "| 79520   | 160     | 3385210 | 2009196 | 9608    | 228041  | 8029    | 335033  | 282638  | 1179    | 1204585 | 53013   | 24875   | 502932  | 5136    | 326     | 63671   | \n",
       "| 79426   | 159     | 3381198 | 1997568 | 9091    | 228038  | 8067    | 338981  | 284714  | 1257    | 1204748 | 53104   | 24859   | 502777  | 4993    | 349     | 63894   | \n",
       "| 79617   | 162     | 3406711 | 2048238 | 9413    | 228041  | 8071    | 340998  | 285719  | 1258    | 1204804 | 53079   | 24860   | 506685  | 4988    | 315     | 63720   | \n",
       "| 79345   | 171     | 3379094 | 1994166 | 9207    | 228038  | 8034    | 336095  | 283165  | 1204    | 1204204 | 53165   | 24848   | 502864  | 5137    | 346     | 63898   | \n",
       "| 79490   | 172     | 3458120 | 2225340 | 9409    | 228038  | 8056    | 334986  | 282655  | 1224    | 1204860 | 53019   | 24837   | 503466  | 5182    | 323     | 63811   | \n",
       "| 79637   | 168     | 3451304 | 2281626 | 8971    | 228041  | 8055    | 342168  | 286249  | 1274    | 1204508 | 53050   | 24837   | 502722  | 5296    | 364     | 64139   | \n",
       "| 79508   | 164     | 3456665 | 2251116 | 9306    | 228041  | 8077    | 338159  | 284303  | 1269    | 1205437 | 52749   | 24743   | 503423  | 5083    | 327     | 63433   | \n",
       "| 79568   | 154     | 3422372 | 2189772 | 8726    | 228038  | 8053    | 336057  | 283184  | 1255    | 1205059 | 52842   | 24852   | 506383  | 5034    | 334     | 63279   | \n",
       "\n",
       "\n"
      ],
      "text/plain": [
       "       PAPI_L1_DCM PAPI_L3_TCM PAPI_TOT_INS PAPI_REF_CYC PAPI_L2_LDM\n",
       "1      5792        296          728331      1280646      2074       \n",
       "2      3389          4         1109926      1883952       514       \n",
       "3      3992          1         1162254      1983816       688       \n",
       "4      3306          0         1088427      1842192       456       \n",
       "5      3457          0         1084172      1834992       456       \n",
       "6      3305          0         1090388      1845198       474       \n",
       "7      3457          0         1116139      1893816       516       \n",
       "8      3333          1         1106619      1876392       476       \n",
       "9      3431          1         1080156      1827504       471       \n",
       "10     3354          1         1110830      1884186       520       \n",
       "11     3264          0         1098323      1858626       454       \n",
       "12     3526          1         1118051      1898820       529       \n",
       "13     3363          0         1076929      1820448       464       \n",
       "14     3545          0         1118273      1897398       519       \n",
       "15     3278          0         1077259      1820556       443       \n",
       "16     3388          0         1083949      1832346       471       \n",
       "17     3333          1         1079360      1823544       468       \n",
       "18     3456          0         1123417      1906182       528       \n",
       "19     3302          0         1082259      1829502       470       \n",
       "20     3409          0         1078858      1824192       449       \n",
       "21     3292          0         1091422      1847538       498       \n",
       "22     3357          0         1078913      1823274       445       \n",
       "23     3298          0         1079893      1825056       465       \n",
       "24     3390          0         1084135      1834884       477       \n",
       "25     3496          1         1133320      1926918       560       \n",
       "26     3314          0         1080954      1826442       446       \n",
       "27     3498          0         1115137      1892898       520       \n",
       "28     3322          0         1084433      1834758       478       \n",
       "29     3470          0         1117228      1894464       571       \n",
       "30     3332          0         1080774      1827450       464       \n",
       "...    ...         ...         ...          ...          ...        \n",
       "773971 79417       159         3385346      2004174      9089       \n",
       "773972 79487       176         3385745      2008638      9128       \n",
       "773973 79496       155         3397873      2025846      9107       \n",
       "773974 79418       159         3389675      2014722      9213       \n",
       "773975 79426       151         3375950      1986894      9187       \n",
       "773976 79429       155         3379555      1996920      9398       \n",
       "773977 79443       172         3400145      2031048      9444       \n",
       "773978 79385       167         3379716      1994166      9315       \n",
       "773979 79394       145         3380640      1995066      9154       \n",
       "773980 79499       171         3392566      2019276      9351       \n",
       "773981 79372       160         3379944      1994616      8980       \n",
       "773982 79380       166         3387213      2008044      9137       \n",
       "773983 79293       166         3378038      1992780      9214       \n",
       "773984 79439       164         3396909      2027178      9261       \n",
       "773985 79326       169         3386293      2007576      9412       \n",
       "773986 79391       147         3375123      1986552      9230       \n",
       "773987 79456       176         3392777      2022462      9233       \n",
       "773988 79547       154         3402449      2084256      9055       \n",
       "773989 79374       178         3379078      1997064      9156       \n",
       "773990 79432       158         3386756      2009124      9538       \n",
       "773991 79522       157         3392961      2016018      9185       \n",
       "773992 79398       168         3382681      2002428      9247       \n",
       "773993 79520       160         3385210      2009196      9608       \n",
       "773994 79426       159         3381198      1997568      9091       \n",
       "773995 79617       162         3406711      2048238      9413       \n",
       "773996 79345       171         3379094      1994166      9207       \n",
       "773997 79490       172         3458120      2225340      9409       \n",
       "773998 79637       168         3451304      2281626      8971       \n",
       "773999 79508       164         3456665      2251116      9306       \n",
       "774000 79568       154         3422372      2189772      8726       \n",
       "       PAPI_SR_INS PAPI_BR_UCN PAPI_BR_CN PAPI_BR_TKN PAPI_BR_MSP PAPI_FP_OPS\n",
       "1      33185       8405        206376     122216      1927        71         \n",
       "2      32261       8125        281808     159757      1685        24         \n",
       "3      32036       8128        261973     149834      1591        25         \n",
       "4      32261       8104        278682     158179      1635        24         \n",
       "5      32032       8115        279794     158622      1596        24         \n",
       "6      32261       8114        275006     156418      1617        24         \n",
       "7      32032       8122        285333     161434      1584        24         \n",
       "8      32265       8107        277816     157710      1600        24         \n",
       "9      32032       8114        274878     156209      1527        24         \n",
       "10     32265       8143        349034     208324      1657        24         \n",
       "11     32032       8105        274875     156202      1536        24         \n",
       "12     32194       8146        282493     160093      1584        24         \n",
       "13     32189       8091        284643     161081      1561        24         \n",
       "14     32189       8146        275322     156473      1550        24         \n",
       "15     32189       8093        273528     155512      1556        24         \n",
       "16     32189       8126        284291     160927      1592        24         \n",
       "17     32189       8099        272786     155097      1534        24         \n",
       "18     32189       8119        275289     156414      1541        24         \n",
       "19     32189       8089        287575     162573      1565        24         \n",
       "20     32189       8123        275876     156718      1522        24         \n",
       "21     32189       8152        296709     187224      1553        24         \n",
       "22     32189       8103        284226     187760      1591        24         \n",
       "23     32193       8180        309134     173449      1626        24         \n",
       "24     32189       8103        272102     154811      1517        24         \n",
       "25     32194       8145        282752     181173      1563        24         \n",
       "26     32189       8134        273160     155345      1535        24         \n",
       "27     32194       8113        274680     156078      1516        24         \n",
       "28     32189       8102        281425     173522      1553        24         \n",
       "29     32189       8104        272651     155138      1534        24         \n",
       "30     32189       8153        275252     156465      1537        24         \n",
       "...    ...         ...         ...        ...         ...         ...        \n",
       "773971 228038      8032        335208     282777      1195        1204178    \n",
       "773972 228040      8068        340777     285607      1253        1204266    \n",
       "773973 228038      8046        334876     282573      1178        1204334    \n",
       "773974 228040      8051        338834     284624      1252        1204262    \n",
       "773975 228038      8043        336480     283397      1196        1204252    \n",
       "773976 228038      8038        336558     283402      1199        1204265    \n",
       "773977 228041      8051        335857     283118      1202        1204449    \n",
       "773978 228038      8060        336837     283617      1217        1204185    \n",
       "773979 228038      8102        338604     284531      1250        1204515    \n",
       "773980 228038      8036        336261     283286      1210        1204319    \n",
       "773981 228038      8071        341227     285849      1254        1204253    \n",
       "773982 228041      8067        347656     289030      1269        1204217    \n",
       "773983 228038      8061        350662     290486      1247        1204225    \n",
       "773984 228038      8062        351104     290786      1293        1204150    \n",
       "773985 228041      8097        351535     291031      1282        1204221    \n",
       "773986 228038      8093        351852     291172      1297        1204338    \n",
       "773987 228040      8131        354423     292547      1289        1204322    \n",
       "773988 228038      8057        350243     290274      1268        1204362    \n",
       "773989 228038      8074        341761     286043      1267        1204259    \n",
       "773990 228041      8078        337954     284213      1236        1204339    \n",
       "773991 228038      8076        335849     283121      1224        1204180    \n",
       "773992 228038      8046        347173     288798      1288        1203958    \n",
       "773993 228041      8029        335033     282638      1179        1204585    \n",
       "773994 228038      8067        338981     284714      1257        1204748    \n",
       "773995 228041      8071        340998     285719      1258        1204804    \n",
       "773996 228038      8034        336095     283165      1204        1204204    \n",
       "773997 228038      8056        334986     282655      1224        1204860    \n",
       "773998 228041      8055        342168     286249      1274        1204508    \n",
       "773999 228041      8077        338159     284303      1269        1205437    \n",
       "774000 228038      8053        336057     283184      1255        1205059    \n",
       "       PAPI_L1_LDM PAPI_L1_STM PAPI_LD_INS PAPI_L2_STM PAPI_TLB_DM PAPI_L2_DCH\n",
       "1      4451        777         119687      370         233         3398       \n",
       "2      3007        630         196461      246          75         2712       \n",
       "3      2793        567         178913      123          57         2510       \n",
       "4      2776        486         179265      125          72         2667       \n",
       "5      2890        546         210295      107          51         2624       \n",
       "6      2752        486         179154      128          64         2625       \n",
       "7      2783        539         178378      117          62         2540       \n",
       "8      2754        481         178317      121          66         2605       \n",
       "9      2804        542         177924      120          57         2579       \n",
       "10     2989        511         183190      122          66         2654       \n",
       "11     2814        530         208631      137          60         2568       \n",
       "12     2918        519         176953      115          56         2575       \n",
       "13     2839        508         214585      138          62         2512       \n",
       "14     2829        534         177273      121          67         2565       \n",
       "15     2766        492         180905      135          65         2562       \n",
       "16     2764        528         177168      124          55         2601       \n",
       "17     2775        492         179202      125          60         2559       \n",
       "18     2932        535         182057      125          66         2606       \n",
       "19     2765        503         204447      122          66         2582       \n",
       "20     2815        531         177958      125          66         2733       \n",
       "21     2857        508         212888      128          64         2487       \n",
       "22     2787        516         177159      119          64         2732       \n",
       "23     2782        490         179535      126          60         2598       \n",
       "24     2824        524         177640      124          60         2532       \n",
       "25     2766        489         178088      120          60         2579       \n",
       "26     2873        531         181599      116          59         2505       \n",
       "27     2777        499         177397      125          59         2719       \n",
       "28     2801        521         178191      130          54         2550       \n",
       "29     2913        520         206206      115          60         2573       \n",
       "30     2789        540         177231      116          64         2528       \n",
       "...    ...         ...         ...         ...         ...         ...        \n",
       "773971 52792       24836       505445      4858        325         64871      \n",
       "773972 52848       24806       502793      5032        347         64776      \n",
       "773973 52839       24847       503457      5077        317         64829      \n",
       "773974 52791       24827       502886      4943        352         63515      \n",
       "773975 52796       24801       505114      5108        314         63562      \n",
       "773976 52940       24847       505361      5218        365         63707      \n",
       "773977 52850       24796       504199      5040        330         63721      \n",
       "773978 52821       24848       503091      4988        330         63699      \n",
       "773979 52916       24835       505281      5106        355         63086      \n",
       "773980 52820       24826       503059      5166        323         63729      \n",
       "773981 53086       24848       503709      5117        366         63340      \n",
       "773982 52799       24820       503959      4946        307         63418      \n",
       "773983 52927       24805       503277      5022        361         63408      \n",
       "773984 52961       24827       505920      4819        309         63538      \n",
       "773985 52862       24820       502893      5320        357         64004      \n",
       "773986 52801       24837       503744      5076        308         63477      \n",
       "773987 52830       24816       505674      5308        373         63361      \n",
       "773988 52846       24804       504983      4986        339         63383      \n",
       "773989 52818       24830       502990      5189        335         63444      \n",
       "773990 52911       24843       503501      4890        360         63006      \n",
       "773991 52905       24827       503317      4959        319         63212      \n",
       "773992 53198       24895       505678      4989        364         63914      \n",
       "773993 53013       24875       502932      5136        326         63671      \n",
       "773994 53104       24859       502777      4993        349         63894      \n",
       "773995 53079       24860       506685      4988        315         63720      \n",
       "773996 53165       24848       502864      5137        346         63898      \n",
       "773997 53019       24837       503466      5182        323         63811      \n",
       "773998 53050       24837       502722      5296        364         64139      \n",
       "773999 52749       24743       503423      5083        327         63433      \n",
       "774000 52842       24852       506383      5034        334         63279      "
      ]
     },
     "metadata": {},
     "output_type": "display_data"
    }
   ],
   "source": [
    "new_mydata"
   ]
  },
  {
   "cell_type": "code",
   "execution_count": 20,
   "metadata": {},
   "outputs": [
    {
     "data": {
      "text/html": [
       "<ol class=list-inline>\n",
       "\t<li>'id'</li>\n",
       "\t<li>'size_vector'</li>\n",
       "\t<li>'comp_opt'</li>\n",
       "\t<li>'label'</li>\n",
       "\t<li>'threads'</li>\n",
       "\t<li>'PAPI_L1_DCM'</li>\n",
       "\t<li>'PAPI_L3_TCM'</li>\n",
       "\t<li>'PAPI_TOT_INS'</li>\n",
       "\t<li>'PAPI_REF_CYC'</li>\n",
       "\t<li>'PAPI_L2_LDM'</li>\n",
       "\t<li>'PAPI_SR_INS'</li>\n",
       "\t<li>'PAPI_BR_UCN'</li>\n",
       "\t<li>'PAPI_BR_CN'</li>\n",
       "\t<li>'PAPI_BR_TKN'</li>\n",
       "\t<li>'PAPI_BR_MSP'</li>\n",
       "\t<li>'PAPI_FP_OPS'</li>\n",
       "\t<li>'PAPI_L1_LDM'</li>\n",
       "\t<li>'PAPI_L1_STM'</li>\n",
       "\t<li>'PAPI_LD_INS'</li>\n",
       "\t<li>'PAPI_L2_STM'</li>\n",
       "\t<li>'PAPI_TLB_DM'</li>\n",
       "\t<li>'PAPI_L2_DCH'</li>\n",
       "</ol>\n"
      ],
      "text/latex": [
       "\\begin{enumerate*}\n",
       "\\item 'id'\n",
       "\\item 'size\\_vector'\n",
       "\\item 'comp\\_opt'\n",
       "\\item 'label'\n",
       "\\item 'threads'\n",
       "\\item 'PAPI\\_L1\\_DCM'\n",
       "\\item 'PAPI\\_L3\\_TCM'\n",
       "\\item 'PAPI\\_TOT\\_INS'\n",
       "\\item 'PAPI\\_REF\\_CYC'\n",
       "\\item 'PAPI\\_L2\\_LDM'\n",
       "\\item 'PAPI\\_SR\\_INS'\n",
       "\\item 'PAPI\\_BR\\_UCN'\n",
       "\\item 'PAPI\\_BR\\_CN'\n",
       "\\item 'PAPI\\_BR\\_TKN'\n",
       "\\item 'PAPI\\_BR\\_MSP'\n",
       "\\item 'PAPI\\_FP\\_OPS'\n",
       "\\item 'PAPI\\_L1\\_LDM'\n",
       "\\item 'PAPI\\_L1\\_STM'\n",
       "\\item 'PAPI\\_LD\\_INS'\n",
       "\\item 'PAPI\\_L2\\_STM'\n",
       "\\item 'PAPI\\_TLB\\_DM'\n",
       "\\item 'PAPI\\_L2\\_DCH'\n",
       "\\end{enumerate*}\n"
      ],
      "text/markdown": [
       "1. 'id'\n",
       "2. 'size_vector'\n",
       "3. 'comp_opt'\n",
       "4. 'label'\n",
       "5. 'threads'\n",
       "6. 'PAPI_L1_DCM'\n",
       "7. 'PAPI_L3_TCM'\n",
       "8. 'PAPI_TOT_INS'\n",
       "9. 'PAPI_REF_CYC'\n",
       "10. 'PAPI_L2_LDM'\n",
       "11. 'PAPI_SR_INS'\n",
       "12. 'PAPI_BR_UCN'\n",
       "13. 'PAPI_BR_CN'\n",
       "14. 'PAPI_BR_TKN'\n",
       "15. 'PAPI_BR_MSP'\n",
       "16. 'PAPI_FP_OPS'\n",
       "17. 'PAPI_L1_LDM'\n",
       "18. 'PAPI_L1_STM'\n",
       "19. 'PAPI_LD_INS'\n",
       "20. 'PAPI_L2_STM'\n",
       "21. 'PAPI_TLB_DM'\n",
       "22. 'PAPI_L2_DCH'\n",
       "\n",
       "\n"
      ],
      "text/plain": [
       " [1] \"id\"           \"size_vector\"  \"comp_opt\"     \"label\"        \"threads\"     \n",
       " [6] \"PAPI_L1_DCM\"  \"PAPI_L3_TCM\"  \"PAPI_TOT_INS\" \"PAPI_REF_CYC\" \"PAPI_L2_LDM\" \n",
       "[11] \"PAPI_SR_INS\"  \"PAPI_BR_UCN\"  \"PAPI_BR_CN\"   \"PAPI_BR_TKN\"  \"PAPI_BR_MSP\" \n",
       "[16] \"PAPI_FP_OPS\"  \"PAPI_L1_LDM\"  \"PAPI_L1_STM\"  \"PAPI_LD_INS\"  \"PAPI_L2_STM\" \n",
       "[21] \"PAPI_TLB_DM\"  \"PAPI_L2_DCH\" "
      ]
     },
     "metadata": {},
     "output_type": "display_data"
    }
   ],
   "source": [
    "colnames(mydata_no_time)\n",
    "log.ir <-scale(new_mydata, center = TRUE, scale = TRUE)\n",
    "res.label <- mydata_no_time[,4]\n",
    "res.pca <- prcomp(log.ir, center = TRUE, scale. = TRUE)\n",
    "\n"
   ]
  },
  {
   "cell_type": "code",
   "execution_count": 21,
   "metadata": {},
   "outputs": [
    {
     "name": "stdout",
     "output_type": "stream",
     "text": [
      "Standard deviations (1, .., p=17):\n",
      " [1] 3.329402596 1.491210790 0.959025781 0.837885262 0.743805102 0.708884973\n",
      " [7] 0.684109132 0.472959010 0.356456503 0.297576502 0.228505094 0.194360715\n",
      "[13] 0.112777301 0.047313028 0.032488773 0.021866502 0.005703181\n",
      "\n",
      "Rotation (n x k) = (17 x 17):\n",
      "                   PC1           PC2           PC3          PC4         PC5\n",
      "PAPI_L1_DCM  0.2801375  1.600247e-01 -2.211360e-01  0.066007983 -0.05360165\n",
      "PAPI_L3_TCM  0.2572476  2.001688e-01  8.582694e-05 -0.021617411  0.26467641\n",
      "PAPI_TOT_INS 0.2638740 -3.000713e-01  1.907696e-02  0.040423936  0.10533299\n",
      "PAPI_REF_CYC 0.2649574  1.617327e-01 -5.774917e-02 -0.125010432  0.22564166\n",
      "PAPI_L2_LDM  0.2461469  2.503683e-01 -5.243587e-02  0.173129445  0.16524779\n",
      "PAPI_SR_INS  0.2747239 -1.950817e-01  9.875647e-02  0.046061106  0.03598663\n",
      "PAPI_BR_UCN  0.1767968 -9.356903e-05  2.037187e-02 -0.928118112 -0.14876351\n",
      "PAPI_BR_CN   0.2743242 -1.973928e-01  1.462661e-01  0.019890239  0.04419899\n",
      "PAPI_BR_TKN  0.2741440 -1.982057e-01  1.457900e-01  0.026614850  0.04186808\n",
      "PAPI_BR_MSP  0.2613589  1.466338e-01  1.941139e-01 -0.094429586  0.07952717\n",
      "PAPI_FP_OPS  0.2016714 -3.983097e-01 -2.628427e-01  0.004627262  0.21820682\n",
      "PAPI_L1_LDM  0.2635903  1.592149e-01 -9.551632e-02  0.187438396  0.01260536\n",
      "PAPI_L1_STM  0.2477194  2.298533e-01 -3.051463e-01  0.050028156 -0.26263244\n",
      "PAPI_LD_INS  0.2348676 -2.861420e-01  3.152627e-01  0.099095614  0.09645662\n",
      "PAPI_L2_STM  0.2344166  2.789465e-01 -2.974689e-01  0.040605247 -0.19199903\n",
      "PAPI_TLB_DM  0.1530329  2.858553e-01  6.760196e-01  0.115504934 -0.39310958\n",
      "PAPI_L2_DCH  0.1563003 -3.733606e-01 -1.948050e-01  0.109210143 -0.69774565\n",
      "                     PC6          PC7         PC8          PC9         PC10\n",
      "PAPI_L1_DCM   0.03932155 -0.087889880  0.11456535 -0.088926156  0.140476038\n",
      "PAPI_L3_TCM   0.33552537  0.185190636 -0.07763896  0.665750389  0.130633826\n",
      "PAPI_TOT_INS -0.07849961  0.037261282 -0.13293811 -0.091966768 -0.327844968\n",
      "PAPI_REF_CYC  0.34596305  0.278452326  0.09191300 -0.001283718  0.108552542\n",
      "PAPI_L2_LDM  -0.03276041 -0.561774787 -0.05369027 -0.015886282 -0.065409860\n",
      "PAPI_SR_INS  -0.16215591  0.029105045  0.26724100  0.087112948 -0.062660157\n",
      "PAPI_BR_UCN  -0.10335318 -0.244533424 -0.10321048  0.053863194  0.011074902\n",
      "PAPI_BR_CN   -0.20310128  0.040575994  0.33131411  0.131687068 -0.169024506\n",
      "PAPI_BR_TKN  -0.20408570  0.041082463  0.33143142  0.135862525 -0.169114599\n",
      "PAPI_BR_MSP   0.36239776  0.136691788  0.25593949 -0.664242744  0.041097525\n",
      "PAPI_FP_OPS   0.20321019  0.082592907 -0.56374608 -0.139270871 -0.305742796\n",
      "PAPI_L1_LDM   0.03346182 -0.541944296 -0.05568894 -0.009783762 -0.005421684\n",
      "PAPI_L1_STM  -0.28054673  0.270624873 -0.09042341 -0.040323228  0.002078668\n",
      "PAPI_LD_INS  -0.24066055  0.002562863 -0.31190338 -0.092337078  0.757372285\n",
      "PAPI_L2_STM  -0.36424315  0.302149926 -0.13471585 -0.071516784  0.013118006\n",
      "PAPI_TLB_DM   0.08690917  0.077687332 -0.35599304  0.062590757 -0.291712917\n",
      "PAPI_L2_DCH   0.43413904 -0.098502606  0.11576860  0.118202195  0.156064773\n",
      "                      PC11          PC12         PC13          PC14\n",
      "PAPI_L1_DCM  -0.0202028933 -0.3679767141  0.807792506 -0.0372630843\n",
      "PAPI_L3_TCM  -0.0438645576 -0.3895403180 -0.218790905  0.0817595776\n",
      "PAPI_TOT_INS -0.0882588112 -0.0448116653  0.065379862  0.8101117366\n",
      "PAPI_REF_CYC  0.0803941970  0.7482145149  0.212697407  0.0662073291\n",
      "PAPI_L2_LDM   0.0001497852  0.1033643442 -0.143489308  0.0793869863\n",
      "PAPI_SR_INS  -0.8316435980  0.1070615034 -0.020524557 -0.2437785269\n",
      "PAPI_BR_UCN  -0.0160580445 -0.0190323341 -0.001759668 -0.0003392937\n",
      "PAPI_BR_CN    0.3735220217 -0.0079367749 -0.005213374 -0.1429560597\n",
      "PAPI_BR_TKN   0.3734141815 -0.0209252531 -0.010052271 -0.1541309988\n",
      "PAPI_BR_MSP  -0.0083546169 -0.3126540125 -0.316551484 -0.0235317884\n",
      "PAPI_FP_OPS   0.0496971716 -0.0561144168  0.023285096 -0.4400199706\n",
      "PAPI_L1_LDM   0.0532686720  0.1380325753 -0.157003481 -0.0921423677\n",
      "PAPI_L1_STM  -0.0111189985 -0.0001895158 -0.186553320  0.0511700945\n",
      "PAPI_LD_INS   0.0661725905  0.0223243810 -0.012758573  0.0285409413\n",
      "PAPI_L2_STM   0.0350348031  0.0295444813 -0.159207398 -0.0448489252\n",
      "PAPI_TLB_DM  -0.0181161883  0.0521486475  0.171295483 -0.0901591989\n",
      "PAPI_L2_DCH   0.0336727273  0.0629592609 -0.117873407  0.0714465707\n",
      "                      PC15          PC16          PC17\n",
      "PAPI_L1_DCM   0.0021815842 -0.0029014380  0.0009208180\n",
      "PAPI_L3_TCM  -0.0422553895 -0.0031659914  0.0055112219\n",
      "PAPI_TOT_INS -0.1178146735 -0.0426814204 -0.0040121916\n",
      "PAPI_REF_CYC  0.0154321697 -0.0079108964 -0.0095608290\n",
      "PAPI_L2_LDM   0.4599275562  0.4933308844 -0.0116296864\n",
      "PAPI_SR_INS  -0.0115843037  0.0120886598  0.0018092342\n",
      "PAPI_BR_UCN  -0.0008989956  0.0004738831 -0.0038672344\n",
      "PAPI_BR_CN    0.0378732534  0.0120998373  0.7084044862\n",
      "PAPI_BR_TKN   0.0140961507  0.0035687491 -0.7054464989\n",
      "PAPI_BR_MSP  -0.0151025271  0.0052859062  0.0014546922\n",
      "PAPI_FP_OPS   0.0688135767  0.0252539888  0.0020038578\n",
      "PAPI_L1_LDM  -0.4889927391 -0.5180926339  0.0118703199\n",
      "PAPI_L1_STM   0.5352521809 -0.4851741930 -0.0050618249\n",
      "PAPI_LD_INS   0.0352510345 -0.0009928401 -0.0008165070\n",
      "PAPI_L2_STM  -0.4880754148  0.4744637557  0.0065286925\n",
      "PAPI_TLB_DM   0.0111691765  0.0034042359  0.0003674481\n",
      "PAPI_L2_DCH   0.0251523427  0.1575065040 -0.0001743351\n"
     ]
    }
   ],
   "source": [
    "print(res.pca)"
   ]
  },
  {
   "cell_type": "code",
   "execution_count": 22,
   "metadata": {},
   "outputs": [
    {
     "data": {
      "text/html": [
       "<ol class=list-inline>\n",
       "\t<li>'sdev'</li>\n",
       "\t<li>'rotation'</li>\n",
       "\t<li>'center'</li>\n",
       "\t<li>'scale'</li>\n",
       "\t<li>'x'</li>\n",
       "</ol>\n"
      ],
      "text/latex": [
       "\\begin{enumerate*}\n",
       "\\item 'sdev'\n",
       "\\item 'rotation'\n",
       "\\item 'center'\n",
       "\\item 'scale'\n",
       "\\item 'x'\n",
       "\\end{enumerate*}\n"
      ],
      "text/markdown": [
       "1. 'sdev'\n",
       "2. 'rotation'\n",
       "3. 'center'\n",
       "4. 'scale'\n",
       "5. 'x'\n",
       "\n",
       "\n"
      ],
      "text/plain": [
       "[1] \"sdev\"     \"rotation\" \"center\"   \"scale\"    \"x\"       "
      ]
     },
     "metadata": {},
     "output_type": "display_data"
    }
   ],
   "source": [
    "names(res.pca)"
   ]
  },
  {
   "cell_type": "code",
   "execution_count": 23,
   "metadata": {},
   "outputs": [
    {
     "name": "stdout",
     "output_type": "stream",
     "text": [
      " [1] 3.329402596 1.491210790 0.959025781 0.837885262 0.743805102 0.708884973\n",
      " [7] 0.684109132 0.472959010 0.356456503 0.297576502 0.228505094 0.194360715\n",
      "[13] 0.112777301 0.047313028 0.032488773 0.021866502 0.005703181\n"
     ]
    }
   ],
   "source": [
    "print(res.pca$sdev)"
   ]
  },
  {
   "cell_type": "code",
   "execution_count": 24,
   "metadata": {},
   "outputs": [
    {
     "data": {
      "text/html": [
       "<table>\n",
       "<thead><tr><th></th><th scope=col>PC1</th><th scope=col>PC2</th><th scope=col>PC3</th><th scope=col>PC4</th><th scope=col>PC5</th><th scope=col>PC6</th><th scope=col>PC7</th><th scope=col>PC8</th><th scope=col>PC9</th><th scope=col>PC10</th><th scope=col>PC11</th><th scope=col>PC12</th><th scope=col>PC13</th><th scope=col>PC14</th><th scope=col>PC15</th><th scope=col>PC16</th><th scope=col>PC17</th></tr></thead>\n",
       "<tbody>\n",
       "\t<tr><th scope=row>PAPI_L1_DCM</th><td>0.2801375    </td><td> 0.1600247   </td><td>-2.211360e-01</td><td> 0.06600798  </td><td>-0.05360165  </td><td> 0.03932155  </td><td>-0.08788988  </td><td> 0.11456535  </td><td>-0.088926156 </td><td> 0.14047604  </td><td>-0.0202028933</td><td>-0.36797671  </td><td> 0.80779251  </td><td>-0.03726308  </td><td> 0.002181584 </td><td>-0.002901438 </td><td> 0.000920818 </td></tr>\n",
       "\t<tr><th scope=row>PAPI_L3_TCM</th><td>0.2572476    </td><td> 0.2001688   </td><td> 8.582694e-05</td><td>-0.02161741  </td><td> 0.26467641  </td><td> 0.33552537  </td><td> 0.18519064  </td><td>-0.07763896  </td><td> 0.665750389 </td><td> 0.13063383  </td><td>-0.0438645576</td><td>-0.38954032  </td><td>-0.21879091  </td><td> 0.08175958  </td><td>-0.042255389 </td><td>-0.003165991 </td><td> 0.005511222 </td></tr>\n",
       "\t<tr><th scope=row>PAPI_TOT_INS</th><td>0.2638740    </td><td>-0.3000713   </td><td> 1.907696e-02</td><td> 0.04042394  </td><td> 0.10533299  </td><td>-0.07849961  </td><td> 0.03726128  </td><td>-0.13293811  </td><td>-0.091966768 </td><td>-0.32784497  </td><td>-0.0882588112</td><td>-0.04481167  </td><td> 0.06537986  </td><td> 0.81011174  </td><td>-0.117814673 </td><td>-0.042681420 </td><td>-0.004012192 </td></tr>\n",
       "\t<tr><th scope=row>PAPI_REF_CYC</th><td>0.2649574    </td><td> 0.1617327   </td><td>-5.774917e-02</td><td>-0.12501043  </td><td> 0.22564166  </td><td> 0.34596305  </td><td> 0.27845233  </td><td> 0.09191300  </td><td>-0.001283718 </td><td> 0.10855254  </td><td> 0.0803941970</td><td> 0.74821451  </td><td> 0.21269741  </td><td> 0.06620733  </td><td> 0.015432170 </td><td>-0.007910896 </td><td>-0.009560829 </td></tr>\n",
       "\t<tr><th scope=row>PAPI_L2_LDM</th><td>0.2461469    </td><td> 0.2503683   </td><td>-5.243587e-02</td><td> 0.17312945  </td><td> 0.16524779  </td><td>-0.03276041  </td><td>-0.56177479  </td><td>-0.05369027  </td><td>-0.015886282 </td><td>-0.06540986  </td><td> 0.0001497852</td><td> 0.10336434  </td><td>-0.14348931  </td><td> 0.07938699  </td><td> 0.459927556 </td><td> 0.493330884 </td><td>-0.011629686 </td></tr>\n",
       "\t<tr><th scope=row>PAPI_SR_INS</th><td>0.2747239    </td><td>-0.1950817   </td><td> 9.875647e-02</td><td> 0.04606111  </td><td> 0.03598663  </td><td>-0.16215591  </td><td> 0.02910505  </td><td> 0.26724100  </td><td> 0.087112948 </td><td>-0.06266016  </td><td>-0.8316435980</td><td> 0.10706150  </td><td>-0.02052456  </td><td>-0.24377853  </td><td>-0.011584304 </td><td> 0.012088660 </td><td> 0.001809234 </td></tr>\n",
       "</tbody>\n",
       "</table>\n"
      ],
      "text/latex": [
       "\\begin{tabular}{r|lllllllllllllllll}\n",
       "  & PC1 & PC2 & PC3 & PC4 & PC5 & PC6 & PC7 & PC8 & PC9 & PC10 & PC11 & PC12 & PC13 & PC14 & PC15 & PC16 & PC17\\\\\n",
       "\\hline\n",
       "\tPAPI\\_L1\\_DCM & 0.2801375     &  0.1600247    & -2.211360e-01 &  0.06600798   & -0.05360165   &  0.03932155   & -0.08788988   &  0.11456535   & -0.088926156  &  0.14047604   & -0.0202028933 & -0.36797671   &  0.80779251   & -0.03726308   &  0.002181584  & -0.002901438  &  0.000920818 \\\\\n",
       "\tPAPI\\_L3\\_TCM & 0.2572476     &  0.2001688    &  8.582694e-05 & -0.02161741   &  0.26467641   &  0.33552537   &  0.18519064   & -0.07763896   &  0.665750389  &  0.13063383   & -0.0438645576 & -0.38954032   & -0.21879091   &  0.08175958   & -0.042255389  & -0.003165991  &  0.005511222 \\\\\n",
       "\tPAPI\\_TOT\\_INS & 0.2638740     & -0.3000713    &  1.907696e-02 &  0.04042394   &  0.10533299   & -0.07849961   &  0.03726128   & -0.13293811   & -0.091966768  & -0.32784497   & -0.0882588112 & -0.04481167   &  0.06537986   &  0.81011174   & -0.117814673  & -0.042681420  & -0.004012192 \\\\\n",
       "\tPAPI\\_REF\\_CYC & 0.2649574     &  0.1617327    & -5.774917e-02 & -0.12501043   &  0.22564166   &  0.34596305   &  0.27845233   &  0.09191300   & -0.001283718  &  0.10855254   &  0.0803941970 &  0.74821451   &  0.21269741   &  0.06620733   &  0.015432170  & -0.007910896  & -0.009560829 \\\\\n",
       "\tPAPI\\_L2\\_LDM & 0.2461469     &  0.2503683    & -5.243587e-02 &  0.17312945   &  0.16524779   & -0.03276041   & -0.56177479   & -0.05369027   & -0.015886282  & -0.06540986   &  0.0001497852 &  0.10336434   & -0.14348931   &  0.07938699   &  0.459927556  &  0.493330884  & -0.011629686 \\\\\n",
       "\tPAPI\\_SR\\_INS & 0.2747239     & -0.1950817    &  9.875647e-02 &  0.04606111   &  0.03598663   & -0.16215591   &  0.02910505   &  0.26724100   &  0.087112948  & -0.06266016   & -0.8316435980 &  0.10706150   & -0.02052456   & -0.24377853   & -0.011584304  &  0.012088660  &  0.001809234 \\\\\n",
       "\\end{tabular}\n"
      ],
      "text/markdown": [
       "\n",
       "| <!--/--> | PC1 | PC2 | PC3 | PC4 | PC5 | PC6 | PC7 | PC8 | PC9 | PC10 | PC11 | PC12 | PC13 | PC14 | PC15 | PC16 | PC17 | \n",
       "|---|---|---|---|---|---|\n",
       "| PAPI_L1_DCM | 0.2801375     |  0.1600247    | -2.211360e-01 |  0.06600798   | -0.05360165   |  0.03932155   | -0.08788988   |  0.11456535   | -0.088926156  |  0.14047604   | -0.0202028933 | -0.36797671   |  0.80779251   | -0.03726308   |  0.002181584  | -0.002901438  |  0.000920818  | \n",
       "| PAPI_L3_TCM | 0.2572476     |  0.2001688    |  8.582694e-05 | -0.02161741   |  0.26467641   |  0.33552537   |  0.18519064   | -0.07763896   |  0.665750389  |  0.13063383   | -0.0438645576 | -0.38954032   | -0.21879091   |  0.08175958   | -0.042255389  | -0.003165991  |  0.005511222  | \n",
       "| PAPI_TOT_INS | 0.2638740     | -0.3000713    |  1.907696e-02 |  0.04042394   |  0.10533299   | -0.07849961   |  0.03726128   | -0.13293811   | -0.091966768  | -0.32784497   | -0.0882588112 | -0.04481167   |  0.06537986   |  0.81011174   | -0.117814673  | -0.042681420  | -0.004012192  | \n",
       "| PAPI_REF_CYC | 0.2649574     |  0.1617327    | -5.774917e-02 | -0.12501043   |  0.22564166   |  0.34596305   |  0.27845233   |  0.09191300   | -0.001283718  |  0.10855254   |  0.0803941970 |  0.74821451   |  0.21269741   |  0.06620733   |  0.015432170  | -0.007910896  | -0.009560829  | \n",
       "| PAPI_L2_LDM | 0.2461469     |  0.2503683    | -5.243587e-02 |  0.17312945   |  0.16524779   | -0.03276041   | -0.56177479   | -0.05369027   | -0.015886282  | -0.06540986   |  0.0001497852 |  0.10336434   | -0.14348931   |  0.07938699   |  0.459927556  |  0.493330884  | -0.011629686  | \n",
       "| PAPI_SR_INS | 0.2747239     | -0.1950817    |  9.875647e-02 |  0.04606111   |  0.03598663   | -0.16215591   |  0.02910505   |  0.26724100   |  0.087112948  | -0.06266016   | -0.8316435980 |  0.10706150   | -0.02052456   | -0.24377853   | -0.011584304  |  0.012088660  |  0.001809234  | \n",
       "\n",
       "\n"
      ],
      "text/plain": [
       "             PC1       PC2        PC3           PC4         PC5        \n",
       "PAPI_L1_DCM  0.2801375  0.1600247 -2.211360e-01  0.06600798 -0.05360165\n",
       "PAPI_L3_TCM  0.2572476  0.2001688  8.582694e-05 -0.02161741  0.26467641\n",
       "PAPI_TOT_INS 0.2638740 -0.3000713  1.907696e-02  0.04042394  0.10533299\n",
       "PAPI_REF_CYC 0.2649574  0.1617327 -5.774917e-02 -0.12501043  0.22564166\n",
       "PAPI_L2_LDM  0.2461469  0.2503683 -5.243587e-02  0.17312945  0.16524779\n",
       "PAPI_SR_INS  0.2747239 -0.1950817  9.875647e-02  0.04606111  0.03598663\n",
       "             PC6         PC7         PC8         PC9          PC10       \n",
       "PAPI_L1_DCM   0.03932155 -0.08788988  0.11456535 -0.088926156  0.14047604\n",
       "PAPI_L3_TCM   0.33552537  0.18519064 -0.07763896  0.665750389  0.13063383\n",
       "PAPI_TOT_INS -0.07849961  0.03726128 -0.13293811 -0.091966768 -0.32784497\n",
       "PAPI_REF_CYC  0.34596305  0.27845233  0.09191300 -0.001283718  0.10855254\n",
       "PAPI_L2_LDM  -0.03276041 -0.56177479 -0.05369027 -0.015886282 -0.06540986\n",
       "PAPI_SR_INS  -0.16215591  0.02910505  0.26724100  0.087112948 -0.06266016\n",
       "             PC11          PC12        PC13        PC14        PC15        \n",
       "PAPI_L1_DCM  -0.0202028933 -0.36797671  0.80779251 -0.03726308  0.002181584\n",
       "PAPI_L3_TCM  -0.0438645576 -0.38954032 -0.21879091  0.08175958 -0.042255389\n",
       "PAPI_TOT_INS -0.0882588112 -0.04481167  0.06537986  0.81011174 -0.117814673\n",
       "PAPI_REF_CYC  0.0803941970  0.74821451  0.21269741  0.06620733  0.015432170\n",
       "PAPI_L2_LDM   0.0001497852  0.10336434 -0.14348931  0.07938699  0.459927556\n",
       "PAPI_SR_INS  -0.8316435980  0.10706150 -0.02052456 -0.24377853 -0.011584304\n",
       "             PC16         PC17        \n",
       "PAPI_L1_DCM  -0.002901438  0.000920818\n",
       "PAPI_L3_TCM  -0.003165991  0.005511222\n",
       "PAPI_TOT_INS -0.042681420 -0.004012192\n",
       "PAPI_REF_CYC -0.007910896 -0.009560829\n",
       "PAPI_L2_LDM   0.493330884 -0.011629686\n",
       "PAPI_SR_INS   0.012088660  0.001809234"
      ]
     },
     "metadata": {},
     "output_type": "display_data"
    }
   ],
   "source": [
    "head(unclass(res.pca$rotation)[])"
   ]
  },
  {
   "cell_type": "code",
   "execution_count": 25,
   "metadata": {},
   "outputs": [
    {
     "name": "stdout",
     "output_type": "stream",
     "text": [
      " [1] 1.108492e+01 2.223710e+00 9.197304e-01 7.020517e-01 5.532460e-01\n",
      " [6] 5.025179e-01 4.680053e-01 2.236902e-01 1.270612e-01 8.855177e-02\n",
      "[11] 5.221458e-02 3.777609e-02 1.271872e-02 2.238523e-03 1.055520e-03\n",
      "[16] 4.781439e-04 3.252627e-05\n"
     ]
    }
   ],
   "source": [
    "# Eigenvalues\n",
    "eig <- (res.pca$sdev)^2\n",
    "print(eig)"
   ]
  },
  {
   "cell_type": "code",
   "execution_count": 26,
   "metadata": {},
   "outputs": [
    {
     "name": "stdout",
     "output_type": "stream",
     "text": [
      " [1] 65.205421430 13.080644821  5.410179111  4.129715953  3.254388409\n",
      " [6]  2.955987676  2.752972383  1.315824856  0.747419052  0.520892790\n",
      "[11]  0.307144576  0.222212280  0.074815998  0.013167780  0.006208943\n",
      "[16]  0.002812611  0.000191331\n"
     ]
    }
   ],
   "source": [
    "# Variances in percentage\n",
    "variance <- eig*100/sum(eig)\n",
    "print(variance)"
   ]
  },
  {
   "cell_type": "code",
   "execution_count": 27,
   "metadata": {},
   "outputs": [
    {
     "name": "stdout",
     "output_type": "stream",
     "text": [
      " [1]  65.20542  78.28607  83.69625  87.82596  91.08035  94.03634  96.78931\n",
      " [8]  98.10513  98.85255  99.37345  99.68059  99.90280  99.97762  99.99079\n",
      "[15]  99.99700  99.99981 100.00000\n"
     ]
    }
   ],
   "source": [
    "# Cumulative variances\n",
    "cumvar <- cumsum(variance)\n",
    "print(cumvar)"
   ]
  },
  {
   "cell_type": "code",
   "execution_count": 28,
   "metadata": {},
   "outputs": [
    {
     "name": "stdout",
     "output_type": "stream",
     "text": [
      "            eig     variance cumvariance\n",
      "1  1.108492e+01 65.205421430    65.20542\n",
      "2  2.223710e+00 13.080644821    78.28607\n",
      "3  9.197304e-01  5.410179111    83.69625\n",
      "4  7.020517e-01  4.129715953    87.82596\n",
      "5  5.532460e-01  3.254388409    91.08035\n",
      "6  5.025179e-01  2.955987676    94.03634\n",
      "7  4.680053e-01  2.752972383    96.78931\n",
      "8  2.236902e-01  1.315824856    98.10513\n",
      "9  1.270612e-01  0.747419052    98.85255\n",
      "10 8.855177e-02  0.520892790    99.37345\n",
      "11 5.221458e-02  0.307144576    99.68059\n",
      "12 3.777609e-02  0.222212280    99.90280\n",
      "13 1.271872e-02  0.074815998    99.97762\n",
      "14 2.238523e-03  0.013167780    99.99079\n",
      "15 1.055520e-03  0.006208943    99.99700\n",
      "16 4.781439e-04  0.002812611    99.99981\n",
      "17 3.252627e-05  0.000191331   100.00000\n"
     ]
    }
   ],
   "source": [
    "eig.decathlon2.active <- data.frame(eig = eig, variance = variance,cumvariance = cumvar)\n",
    "print(eig.decathlon2.active)"
   ]
  },
  {
   "cell_type": "code",
   "execution_count": 29,
   "metadata": {},
   "outputs": [
    {
     "data": {
      "text/plain": [
       "Importance of components:\n",
       "                          PC1    PC2    PC3    PC4     PC5     PC6     PC7\n",
       "Standard deviation     3.3294 1.4912 0.9590 0.8379 0.74381 0.70888 0.68411\n",
       "Proportion of Variance 0.6521 0.1308 0.0541 0.0413 0.03254 0.02956 0.02753\n",
       "Cumulative Proportion  0.6521 0.7829 0.8370 0.8783 0.91080 0.94036 0.96789\n",
       "                           PC8     PC9    PC10    PC11    PC12    PC13    PC14\n",
       "Standard deviation     0.47296 0.35646 0.29758 0.22851 0.19436 0.11278 0.04731\n",
       "Proportion of Variance 0.01316 0.00747 0.00521 0.00307 0.00222 0.00075 0.00013\n",
       "Cumulative Proportion  0.98105 0.98853 0.99373 0.99681 0.99903 0.99978 0.99991\n",
       "                          PC15    PC16     PC17\n",
       "Standard deviation     0.03249 0.02187 0.005703\n",
       "Proportion of Variance 0.00006 0.00003 0.000000\n",
       "Cumulative Proportion  0.99997 1.00000 1.000000"
      ]
     },
     "metadata": {},
     "output_type": "display_data"
    }
   ],
   "source": [
    "summary(res.pca)"
   ]
  },
  {
   "cell_type": "code",
   "execution_count": 30,
   "metadata": {},
   "outputs": [
    {
     "data": {
      "text/html": [
       "<table>\n",
       "<thead><tr><th></th><th scope=col>eigenvalue</th><th scope=col>variance.percent</th><th scope=col>cumulative.variance.percent</th></tr></thead>\n",
       "<tbody>\n",
       "\t<tr><th scope=row>Dim.1</th><td>11.0849216</td><td>65.205421 </td><td>65.20542  </td></tr>\n",
       "\t<tr><th scope=row>Dim.2</th><td> 2.2237096</td><td>13.080645 </td><td>78.28607  </td></tr>\n",
       "\t<tr><th scope=row>Dim.3</th><td> 0.9197304</td><td> 5.410179 </td><td>83.69625  </td></tr>\n",
       "\t<tr><th scope=row>Dim.4</th><td> 0.7020517</td><td> 4.129716 </td><td>87.82596  </td></tr>\n",
       "\t<tr><th scope=row>Dim.5</th><td> 0.5532460</td><td> 3.254388 </td><td>91.08035  </td></tr>\n",
       "\t<tr><th scope=row>Dim.6</th><td> 0.5025179</td><td> 2.955988 </td><td>94.03634  </td></tr>\n",
       "</tbody>\n",
       "</table>\n"
      ],
      "text/latex": [
       "\\begin{tabular}{r|lll}\n",
       "  & eigenvalue & variance.percent & cumulative.variance.percent\\\\\n",
       "\\hline\n",
       "\tDim.1 & 11.0849216 & 65.205421  & 65.20542  \\\\\n",
       "\tDim.2 &  2.2237096 & 13.080645  & 78.28607  \\\\\n",
       "\tDim.3 &  0.9197304 &  5.410179  & 83.69625  \\\\\n",
       "\tDim.4 &  0.7020517 &  4.129716  & 87.82596  \\\\\n",
       "\tDim.5 &  0.5532460 &  3.254388  & 91.08035  \\\\\n",
       "\tDim.6 &  0.5025179 &  2.955988  & 94.03634  \\\\\n",
       "\\end{tabular}\n"
      ],
      "text/markdown": [
       "\n",
       "| <!--/--> | eigenvalue | variance.percent | cumulative.variance.percent | \n",
       "|---|---|---|---|---|---|\n",
       "| Dim.1 | 11.0849216 | 65.205421  | 65.20542   | \n",
       "| Dim.2 |  2.2237096 | 13.080645  | 78.28607   | \n",
       "| Dim.3 |  0.9197304 |  5.410179  | 83.69625   | \n",
       "| Dim.4 |  0.7020517 |  4.129716  | 87.82596   | \n",
       "| Dim.5 |  0.5532460 |  3.254388  | 91.08035   | \n",
       "| Dim.6 |  0.5025179 |  2.955988  | 94.03634   | \n",
       "\n",
       "\n"
      ],
      "text/plain": [
       "      eigenvalue variance.percent cumulative.variance.percent\n",
       "Dim.1 11.0849216 65.205421        65.20542                   \n",
       "Dim.2  2.2237096 13.080645        78.28607                   \n",
       "Dim.3  0.9197304  5.410179        83.69625                   \n",
       "Dim.4  0.7020517  4.129716        87.82596                   \n",
       "Dim.5  0.5532460  3.254388        91.08035                   \n",
       "Dim.6  0.5025179  2.955988        94.03634                   "
      ]
     },
     "metadata": {},
     "output_type": "display_data"
    }
   ],
   "source": [
    "library(\"factoextra\")\n",
    "eig.val <- get_eigenvalue(res.pca)\n",
    "head(eig.val)"
   ]
  },
  {
   "cell_type": "code",
   "execution_count": 31,
   "metadata": {},
   "outputs": [],
   "source": [
    "options(repr.plot.width = 20, repr.plot.height = 10)"
   ]
  },
  {
   "cell_type": "code",
   "execution_count": 32,
   "metadata": {},
   "outputs": [
    {
     "data": {
      "image/png": "[encoded data removed]",
      "text/plain": [
       "Plot with title \"Variances\""
      ]
     },
     "metadata": {},
     "output_type": "display_data"
    }
   ],
   "source": [
    "barplot(eig.decathlon2.active[, 2], names.arg=1:nrow(eig.decathlon2.active), \n",
    "       main = \"Variances\",\n",
    "       xlab = \"Principal Components\",\n",
    "       ylab = \"Percentage of variances\",\n",
    "       col =\"steelblue\")\n",
    "# Add connected line segments to the plot\n",
    "lines(x = 1:nrow(eig.decathlon2.active), \n",
    "      eig.decathlon2.active[, 2], \n",
    "      type=\"b\", pch=19, col = \"red\")"
   ]
  },
  {
   "cell_type": "code",
   "execution_count": 33,
   "metadata": {
    "scrolled": false
   },
   "outputs": [
    {
     "data": {},
     "metadata": {},
     "output_type": "display_data"
    },
    {
     "data": {
      "image/png": "[encoded data removed]",
      "text/plain": [
       "plot without title"
      ]
     },
     "metadata": {},
     "output_type": "display_data"
    }
   ],
   "source": [
    "fviz_screeplot(res.pca, ncp=54)"
   ]
  },
  {
   "cell_type": "code",
   "execution_count": 34,
   "metadata": {},
   "outputs": [
    {
     "data": {
      "text/plain": [
       "Principal Component Analysis Results for variables\n",
       " ===================================================\n",
       "  Name       Description                                    \n",
       "1 \"$coord\"   \"Coordinates for the variables\"                \n",
       "2 \"$cor\"     \"Correlations between variables and dimensions\"\n",
       "3 \"$cos2\"    \"Cos2 for the variables\"                       \n",
       "4 \"$contrib\" \"contributions of the variables\"               "
      ]
     },
     "metadata": {},
     "output_type": "display_data"
    }
   ],
   "source": [
    "var <- get_pca_var(res.pca)\n",
    "var"
   ]
  },
  {
   "cell_type": "code",
   "execution_count": 35,
   "metadata": {},
   "outputs": [
    {
     "data": {
      "text/html": [
       "<table>\n",
       "<thead><tr><th></th><th scope=col>Dim.1</th><th scope=col>Dim.2</th><th scope=col>Dim.3</th><th scope=col>Dim.4</th><th scope=col>Dim.5</th><th scope=col>Dim.6</th><th scope=col>Dim.7</th><th scope=col>Dim.8</th><th scope=col>Dim.9</th><th scope=col>Dim.10</th><th scope=col>Dim.11</th><th scope=col>Dim.12</th><th scope=col>Dim.13</th><th scope=col>Dim.14</th><th scope=col>Dim.15</th><th scope=col>Dim.16</th><th scope=col>Dim.17</th></tr></thead>\n",
       "<tbody>\n",
       "\t<tr><th scope=row>PAPI_L1_DCM</th><td>0.9326907    </td><td> 0.2386305436</td><td>-2.120751e-01</td><td> 0.055307116 </td><td>-0.039869178 </td><td> 0.02787446  </td><td>-0.060126270 </td><td> 0.05418471  </td><td>-0.0316983066</td><td> 0.0418023680</td><td>-4.616464e-03</td><td>-7.152022e-02</td><td> 0.0911006586</td><td>-1.763029e-03</td><td> 7.087699e-05</td><td>-6.344430e-05</td><td> 5.251592e-06</td></tr>\n",
       "\t<tr><th scope=row>PAPI_L3_TCM</th><td>0.8564808    </td><td> 0.2984939092</td><td> 8.231025e-05</td><td>-0.018112910 </td><td> 0.196867664 </td><td> 0.23784889  </td><td> 0.126690605 </td><td>-0.03672004  </td><td> 0.2373110558</td><td> 0.0388735568</td><td>-1.002327e-02</td><td>-7.571133e-02</td><td>-0.0246746478</td><td> 3.868293e-03</td><td>-1.372826e-03</td><td>-6.922916e-05</td><td> 3.143150e-05</td></tr>\n",
       "\t<tr><th scope=row>PAPI_TOT_INS</th><td>0.8785427    </td><td>-0.4474695202</td><td> 1.829529e-02</td><td> 0.033870620 </td><td> 0.078347218 </td><td>-0.05564719  </td><td> 0.025490783 </td><td>-0.06287428  </td><td>-0.0327821524</td><td>-0.0975589586</td><td>-2.016759e-02</td><td>-8.709627e-03</td><td> 0.0073733644</td><td> 3.832884e-02</td><td>-3.827654e-03</td><td>-9.332933e-04</td><td>-2.288226e-05</td></tr>\n",
       "\t<tr><th scope=row>PAPI_REF_CYC</th><td>0.8821500    </td><td> 0.2411775272</td><td>-5.538295e-02</td><td>-0.104744399 </td><td> 0.167833419 </td><td> 0.24524801  </td><td> 0.190491779 </td><td> 0.04347108  </td><td>-0.0004575897</td><td> 0.0323026857</td><td> 1.837048e-02</td><td> 1.454235e-01</td><td> 0.0239874396</td><td> 3.132469e-03</td><td> 5.013723e-04</td><td>-1.729836e-04</td><td>-5.452714e-05</td></tr>\n",
       "\t<tr><th scope=row>PAPI_L2_LDM</th><td>0.8195221    </td><td> 0.3733518743</td><td>-5.028735e-02</td><td> 0.145062611 </td><td> 0.122912148 </td><td>-0.02322336  </td><td>-0.384315262 </td><td>-0.02539329  </td><td>-0.0056627685</td><td>-0.0194644373</td><td> 3.422667e-05</td><td> 2.008997e-02</td><td>-0.0161823369</td><td> 3.756039e-03</td><td> 1.494248e-02</td><td> 1.078742e-02</td><td>-6.632621e-05</td></tr>\n",
       "\t<tr><th scope=row>PAPI_SR_INS</th><td>0.9146663    </td><td>-0.2909079229</td><td> 9.471000e-02</td><td> 0.038593922 </td><td> 0.026767041 </td><td>-0.11494989  </td><td> 0.019911027 </td><td> 0.12639404  </td><td> 0.0310519767</td><td>-0.0186461904</td><td>-1.900348e-01</td><td> 2.080855e-02</td><td>-0.0023147042</td><td>-1.153390e-02</td><td>-3.763598e-04</td><td> 2.643367e-04</td><td> 1.031839e-05</td></tr>\n",
       "\t<tr><th scope=row>PAPI_BR_UCN</th><td>0.5886277    </td><td>-0.0001395312</td><td> 1.953715e-02</td><td>-0.777656487 </td><td>-0.110651054 </td><td>-0.07326551  </td><td>-0.167287548 </td><td>-0.04881433  </td><td> 0.0191998857</td><td> 0.0032956305</td><td>-3.669345e-03</td><td>-3.699138e-03</td><td>-0.0001984506</td><td>-1.605301e-05</td><td>-2.920726e-05</td><td> 1.036216e-05</td><td>-2.205554e-05</td></tr>\n",
       "\t<tr><th scope=row>PAPI_BR_CN</th><td>0.9133358    </td><td>-0.2943542245</td><td> 1.402730e-01</td><td> 0.016665738 </td><td> 0.032875432 </td><td>-0.14397544  </td><td> 0.027758408 </td><td> 0.15669800  </td><td> 0.0469407117</td><td>-0.0502977212</td><td> 8.535168e-02</td><td>-1.542597e-03</td><td>-0.0005879503</td><td>-6.763684e-03</td><td> 1.230456e-03</td><td> 2.645811e-04</td><td> 4.040159e-03</td></tr>\n",
       "\t<tr><th scope=row>PAPI_BR_TKN</th><td>0.9127359    </td><td>-0.2955664717</td><td> 1.398164e-01</td><td> 0.022300190 </td><td> 0.031141695 </td><td>-0.14467329  </td><td> 0.028104888 </td><td> 0.15675348  </td><td> 0.0484290808</td><td>-0.0503245308</td><td> 8.532704e-02</td><td>-4.067047e-03</td><td>-0.0011336680</td><td>-7.292404e-03</td><td> 4.579666e-04</td><td> 7.803606e-05</td><td>-4.023289e-03</td></tr>\n",
       "\t<tr><th scope=row>PAPI_BR_MSP</th><td>0.8701692    </td><td> 0.2186619639</td><td> 1.861602e-01</td><td>-0.079121158 </td><td> 0.059152718 </td><td> 0.25689832  </td><td> 0.093512100 </td><td> 0.12104889  </td><td>-0.2367736458</td><td> 0.0122296579</td><td>-1.909073e-03</td><td>-6.076766e-02</td><td>-0.0356998220</td><td>-1.113360e-03</td><td>-4.906626e-04</td><td> 1.155843e-04</td><td> 8.296373e-06</td></tr>\n",
       "\t<tr><th scope=row>PAPI_FP_OPS</th><td>0.6714452    </td><td>-0.5939636681</td><td>-2.520730e-01</td><td> 0.003877114 </td><td> 0.162303349 </td><td> 0.14405265  </td><td> 0.056502562 </td><td>-0.26662879  </td><td>-0.0496440077</td><td>-0.0909818715</td><td> 1.135606e-02</td><td>-1.090644e-02</td><td> 0.0026260303</td><td>-2.081868e-02</td><td> 2.235669e-03</td><td> 5.522164e-04</td><td> 1.142836e-05</td></tr>\n",
       "\t<tr><th scope=row>PAPI_L1_LDM</th><td>0.8775984    </td><td> 0.2374230301</td><td>-9.160262e-02</td><td> 0.157051870 </td><td> 0.009375933 </td><td> 0.02372058  </td><td>-0.370749042 </td><td>-0.02633859  </td><td>-0.0034874856</td><td>-0.0016133657</td><td> 1.217216e-02</td><td> 2.682811e-02</td><td>-0.0177064289</td><td>-4.359534e-03</td><td>-1.588677e-02</td><td>-1.132887e-02</td><td> 6.769858e-05</td></tr>\n",
       "\t<tr><th scope=row>PAPI_L1_STM</th><td>0.8247576    </td><td> 0.3427596597</td><td>-2.926432e-01</td><td> 0.041917855 </td><td>-0.195347352 </td><td>-0.19887536  </td><td> 0.185136947 </td><td>-0.04276657  </td><td>-0.0143734768</td><td> 0.0006185629</td><td>-2.540748e-03</td><td>-3.683443e-05</td><td>-0.0210389799</td><td> 2.421012e-03</td><td> 1.738969e-02</td><td>-1.060906e-02</td><td>-2.886850e-05</td></tr>\n",
       "\t<tr><th scope=row>PAPI_LD_INS</th><td>0.7819688    </td><td>-0.4266980465</td><td> 3.023451e-01</td><td> 0.083030755 </td><td> 0.071744926 </td><td>-0.17060064  </td><td> 0.001753278 </td><td>-0.14751751  </td><td>-0.0329141521</td><td> 0.2253761952</td><td> 1.512077e-02</td><td> 4.338983e-03</td><td>-0.0014388774</td><td> 1.350358e-03</td><td> 1.145263e-03</td><td>-2.170994e-05</td><td>-4.656687e-06</td></tr>\n",
       "\t<tr><th scope=row>PAPI_L2_STM</th><td>0.7804671    </td><td> 0.4159679605</td><td>-2.852804e-01</td><td> 0.034022538 </td><td>-0.142809858 </td><td>-0.25820649  </td><td> 0.206703524 </td><td>-0.06371508  </td><td>-0.0254926226</td><td> 0.0039036105</td><td> 8.005631e-03</td><td> 5.742287e-03</td><td>-0.0179549806</td><td>-2.121938e-03</td><td>-1.585697e-02</td><td> 1.037486e-02</td><td> 3.723432e-05</td></tr>\n",
       "\t<tr><th scope=row>PAPI_TLB_DM</th><td>0.5095083    </td><td> 0.4262705349</td><td> 6.483203e-01</td><td> 0.096779882 </td><td>-0.292396913 </td><td> 0.06160861  </td><td> 0.053146613 </td><td>-0.16837012  </td><td> 0.0223108825</td><td>-0.0868069093</td><td>-4.139641e-03</td><td> 1.013565e-02</td><td> 0.0193182423</td><td>-4.265705e-03</td><td> 3.628728e-04</td><td> 7.443873e-05</td><td> 2.095623e-06</td></tr>\n",
       "\t<tr><th scope=row>PAPI_L2_DCH</th><td>0.5203865    </td><td>-0.5567593551</td><td>-1.868230e-01</td><td> 0.091505569 </td><td>-0.518986773 </td><td> 0.30775464  </td><td>-0.067386532 </td><td> 0.05475380  </td><td> 0.0421339409</td><td> 0.0464412091</td><td> 7.694390e-03</td><td> 1.223681e-02</td><td>-0.0132934447</td><td> 3.380354e-03</td><td> 8.171687e-04</td><td> 3.444116e-03</td><td>-9.942648e-07</td></tr>\n",
       "</tbody>\n",
       "</table>\n"
      ],
      "text/latex": [
       "\\begin{tabular}{r|lllllllllllllllll}\n",
       "  & Dim.1 & Dim.2 & Dim.3 & Dim.4 & Dim.5 & Dim.6 & Dim.7 & Dim.8 & Dim.9 & Dim.10 & Dim.11 & Dim.12 & Dim.13 & Dim.14 & Dim.15 & Dim.16 & Dim.17\\\\\n",
       "\\hline\n",
       "\tPAPI\\_L1\\_DCM & 0.9326907     &  0.2386305436 & -2.120751e-01 &  0.055307116  & -0.039869178  &  0.02787446   & -0.060126270  &  0.05418471   & -0.0316983066 &  0.0418023680 & -4.616464e-03 & -7.152022e-02 &  0.0911006586 & -1.763029e-03 &  7.087699e-05 & -6.344430e-05 &  5.251592e-06\\\\\n",
       "\tPAPI\\_L3\\_TCM & 0.8564808     &  0.2984939092 &  8.231025e-05 & -0.018112910  &  0.196867664  &  0.23784889   &  0.126690605  & -0.03672004   &  0.2373110558 &  0.0388735568 & -1.002327e-02 & -7.571133e-02 & -0.0246746478 &  3.868293e-03 & -1.372826e-03 & -6.922916e-05 &  3.143150e-05\\\\\n",
       "\tPAPI\\_TOT\\_INS & 0.8785427     & -0.4474695202 &  1.829529e-02 &  0.033870620  &  0.078347218  & -0.05564719   &  0.025490783  & -0.06287428   & -0.0327821524 & -0.0975589586 & -2.016759e-02 & -8.709627e-03 &  0.0073733644 &  3.832884e-02 & -3.827654e-03 & -9.332933e-04 & -2.288226e-05\\\\\n",
       "\tPAPI\\_REF\\_CYC & 0.8821500     &  0.2411775272 & -5.538295e-02 & -0.104744399  &  0.167833419  &  0.24524801   &  0.190491779  &  0.04347108   & -0.0004575897 &  0.0323026857 &  1.837048e-02 &  1.454235e-01 &  0.0239874396 &  3.132469e-03 &  5.013723e-04 & -1.729836e-04 & -5.452714e-05\\\\\n",
       "\tPAPI\\_L2\\_LDM & 0.8195221     &  0.3733518743 & -5.028735e-02 &  0.145062611  &  0.122912148  & -0.02322336   & -0.384315262  & -0.02539329   & -0.0056627685 & -0.0194644373 &  3.422667e-05 &  2.008997e-02 & -0.0161823369 &  3.756039e-03 &  1.494248e-02 &  1.078742e-02 & -6.632621e-05\\\\\n",
       "\tPAPI\\_SR\\_INS & 0.9146663     & -0.2909079229 &  9.471000e-02 &  0.038593922  &  0.026767041  & -0.11494989   &  0.019911027  &  0.12639404   &  0.0310519767 & -0.0186461904 & -1.900348e-01 &  2.080855e-02 & -0.0023147042 & -1.153390e-02 & -3.763598e-04 &  2.643367e-04 &  1.031839e-05\\\\\n",
       "\tPAPI\\_BR\\_UCN & 0.5886277     & -0.0001395312 &  1.953715e-02 & -0.777656487  & -0.110651054  & -0.07326551   & -0.167287548  & -0.04881433   &  0.0191998857 &  0.0032956305 & -3.669345e-03 & -3.699138e-03 & -0.0001984506 & -1.605301e-05 & -2.920726e-05 &  1.036216e-05 & -2.205554e-05\\\\\n",
       "\tPAPI\\_BR\\_CN & 0.9133358     & -0.2943542245 &  1.402730e-01 &  0.016665738  &  0.032875432  & -0.14397544   &  0.027758408  &  0.15669800   &  0.0469407117 & -0.0502977212 &  8.535168e-02 & -1.542597e-03 & -0.0005879503 & -6.763684e-03 &  1.230456e-03 &  2.645811e-04 &  4.040159e-03\\\\\n",
       "\tPAPI\\_BR\\_TKN & 0.9127359     & -0.2955664717 &  1.398164e-01 &  0.022300190  &  0.031141695  & -0.14467329   &  0.028104888  &  0.15675348   &  0.0484290808 & -0.0503245308 &  8.532704e-02 & -4.067047e-03 & -0.0011336680 & -7.292404e-03 &  4.579666e-04 &  7.803606e-05 & -4.023289e-03\\\\\n",
       "\tPAPI\\_BR\\_MSP & 0.8701692     &  0.2186619639 &  1.861602e-01 & -0.079121158  &  0.059152718  &  0.25689832   &  0.093512100  &  0.12104889   & -0.2367736458 &  0.0122296579 & -1.909073e-03 & -6.076766e-02 & -0.0356998220 & -1.113360e-03 & -4.906626e-04 &  1.155843e-04 &  8.296373e-06\\\\\n",
       "\tPAPI\\_FP\\_OPS & 0.6714452     & -0.5939636681 & -2.520730e-01 &  0.003877114  &  0.162303349  &  0.14405265   &  0.056502562  & -0.26662879   & -0.0496440077 & -0.0909818715 &  1.135606e-02 & -1.090644e-02 &  0.0026260303 & -2.081868e-02 &  2.235669e-03 &  5.522164e-04 &  1.142836e-05\\\\\n",
       "\tPAPI\\_L1\\_LDM & 0.8775984     &  0.2374230301 & -9.160262e-02 &  0.157051870  &  0.009375933  &  0.02372058   & -0.370749042  & -0.02633859   & -0.0034874856 & -0.0016133657 &  1.217216e-02 &  2.682811e-02 & -0.0177064289 & -4.359534e-03 & -1.588677e-02 & -1.132887e-02 &  6.769858e-05\\\\\n",
       "\tPAPI\\_L1\\_STM & 0.8247576     &  0.3427596597 & -2.926432e-01 &  0.041917855  & -0.195347352  & -0.19887536   &  0.185136947  & -0.04276657   & -0.0143734768 &  0.0006185629 & -2.540748e-03 & -3.683443e-05 & -0.0210389799 &  2.421012e-03 &  1.738969e-02 & -1.060906e-02 & -2.886850e-05\\\\\n",
       "\tPAPI\\_LD\\_INS & 0.7819688     & -0.4266980465 &  3.023451e-01 &  0.083030755  &  0.071744926  & -0.17060064   &  0.001753278  & -0.14751751   & -0.0329141521 &  0.2253761952 &  1.512077e-02 &  4.338983e-03 & -0.0014388774 &  1.350358e-03 &  1.145263e-03 & -2.170994e-05 & -4.656687e-06\\\\\n",
       "\tPAPI\\_L2\\_STM & 0.7804671     &  0.4159679605 & -2.852804e-01 &  0.034022538  & -0.142809858  & -0.25820649   &  0.206703524  & -0.06371508   & -0.0254926226 &  0.0039036105 &  8.005631e-03 &  5.742287e-03 & -0.0179549806 & -2.121938e-03 & -1.585697e-02 &  1.037486e-02 &  3.723432e-05\\\\\n",
       "\tPAPI\\_TLB\\_DM & 0.5095083     &  0.4262705349 &  6.483203e-01 &  0.096779882  & -0.292396913  &  0.06160861   &  0.053146613  & -0.16837012   &  0.0223108825 & -0.0868069093 & -4.139641e-03 &  1.013565e-02 &  0.0193182423 & -4.265705e-03 &  3.628728e-04 &  7.443873e-05 &  2.095623e-06\\\\\n",
       "\tPAPI\\_L2\\_DCH & 0.5203865     & -0.5567593551 & -1.868230e-01 &  0.091505569  & -0.518986773  &  0.30775464   & -0.067386532  &  0.05475380   &  0.0421339409 &  0.0464412091 &  7.694390e-03 &  1.223681e-02 & -0.0132934447 &  3.380354e-03 &  8.171687e-04 &  3.444116e-03 & -9.942648e-07\\\\\n",
       "\\end{tabular}\n"
      ],
      "text/markdown": [
       "\n",
       "| <!--/--> | Dim.1 | Dim.2 | Dim.3 | Dim.4 | Dim.5 | Dim.6 | Dim.7 | Dim.8 | Dim.9 | Dim.10 | Dim.11 | Dim.12 | Dim.13 | Dim.14 | Dim.15 | Dim.16 | Dim.17 | \n",
       "|---|---|---|---|---|---|---|---|---|---|---|---|---|---|---|---|---|\n",
       "| PAPI_L1_DCM | 0.9326907     |  0.2386305436 | -2.120751e-01 |  0.055307116  | -0.039869178  |  0.02787446   | -0.060126270  |  0.05418471   | -0.0316983066 |  0.0418023680 | -4.616464e-03 | -7.152022e-02 |  0.0911006586 | -1.763029e-03 |  7.087699e-05 | -6.344430e-05 |  5.251592e-06 | \n",
       "| PAPI_L3_TCM | 0.8564808     |  0.2984939092 |  8.231025e-05 | -0.018112910  |  0.196867664  |  0.23784889   |  0.126690605  | -0.03672004   |  0.2373110558 |  0.0388735568 | -1.002327e-02 | -7.571133e-02 | -0.0246746478 |  3.868293e-03 | -1.372826e-03 | -6.922916e-05 |  3.143150e-05 | \n",
       "| PAPI_TOT_INS | 0.8785427     | -0.4474695202 |  1.829529e-02 |  0.033870620  |  0.078347218  | -0.05564719   |  0.025490783  | -0.06287428   | -0.0327821524 | -0.0975589586 | -2.016759e-02 | -8.709627e-03 |  0.0073733644 |  3.832884e-02 | -3.827654e-03 | -9.332933e-04 | -2.288226e-05 | \n",
       "| PAPI_REF_CYC | 0.8821500     |  0.2411775272 | -5.538295e-02 | -0.104744399  |  0.167833419  |  0.24524801   |  0.190491779  |  0.04347108   | -0.0004575897 |  0.0323026857 |  1.837048e-02 |  1.454235e-01 |  0.0239874396 |  3.132469e-03 |  5.013723e-04 | -1.729836e-04 | -5.452714e-05 | \n",
       "| PAPI_L2_LDM | 0.8195221     |  0.3733518743 | -5.028735e-02 |  0.145062611  |  0.122912148  | -0.02322336   | -0.384315262  | -0.02539329   | -0.0056627685 | -0.0194644373 |  3.422667e-05 |  2.008997e-02 | -0.0161823369 |  3.756039e-03 |  1.494248e-02 |  1.078742e-02 | -6.632621e-05 | \n",
       "| PAPI_SR_INS | 0.9146663     | -0.2909079229 |  9.471000e-02 |  0.038593922  |  0.026767041  | -0.11494989   |  0.019911027  |  0.12639404   |  0.0310519767 | -0.0186461904 | -1.900348e-01 |  2.080855e-02 | -0.0023147042 | -1.153390e-02 | -3.763598e-04 |  2.643367e-04 |  1.031839e-05 | \n",
       "| PAPI_BR_UCN | 0.5886277     | -0.0001395312 |  1.953715e-02 | -0.777656487  | -0.110651054  | -0.07326551   | -0.167287548  | -0.04881433   |  0.0191998857 |  0.0032956305 | -3.669345e-03 | -3.699138e-03 | -0.0001984506 | -1.605301e-05 | -2.920726e-05 |  1.036216e-05 | -2.205554e-05 | \n",
       "| PAPI_BR_CN | 0.9133358     | -0.2943542245 |  1.402730e-01 |  0.016665738  |  0.032875432  | -0.14397544   |  0.027758408  |  0.15669800   |  0.0469407117 | -0.0502977212 |  8.535168e-02 | -1.542597e-03 | -0.0005879503 | -6.763684e-03 |  1.230456e-03 |  2.645811e-04 |  4.040159e-03 | \n",
       "| PAPI_BR_TKN | 0.9127359     | -0.2955664717 |  1.398164e-01 |  0.022300190  |  0.031141695  | -0.14467329   |  0.028104888  |  0.15675348   |  0.0484290808 | -0.0503245308 |  8.532704e-02 | -4.067047e-03 | -0.0011336680 | -7.292404e-03 |  4.579666e-04 |  7.803606e-05 | -4.023289e-03 | \n",
       "| PAPI_BR_MSP | 0.8701692     |  0.2186619639 |  1.861602e-01 | -0.079121158  |  0.059152718  |  0.25689832   |  0.093512100  |  0.12104889   | -0.2367736458 |  0.0122296579 | -1.909073e-03 | -6.076766e-02 | -0.0356998220 | -1.113360e-03 | -4.906626e-04 |  1.155843e-04 |  8.296373e-06 | \n",
       "| PAPI_FP_OPS | 0.6714452     | -0.5939636681 | -2.520730e-01 |  0.003877114  |  0.162303349  |  0.14405265   |  0.056502562  | -0.26662879   | -0.0496440077 | -0.0909818715 |  1.135606e-02 | -1.090644e-02 |  0.0026260303 | -2.081868e-02 |  2.235669e-03 |  5.522164e-04 |  1.142836e-05 | \n",
       "| PAPI_L1_LDM | 0.8775984     |  0.2374230301 | -9.160262e-02 |  0.157051870  |  0.009375933  |  0.02372058   | -0.370749042  | -0.02633859   | -0.0034874856 | -0.0016133657 |  1.217216e-02 |  2.682811e-02 | -0.0177064289 | -4.359534e-03 | -1.588677e-02 | -1.132887e-02 |  6.769858e-05 | \n",
       "| PAPI_L1_STM | 0.8247576     |  0.3427596597 | -2.926432e-01 |  0.041917855  | -0.195347352  | -0.19887536   |  0.185136947  | -0.04276657   | -0.0143734768 |  0.0006185629 | -2.540748e-03 | -3.683443e-05 | -0.0210389799 |  2.421012e-03 |  1.738969e-02 | -1.060906e-02 | -2.886850e-05 | \n",
       "| PAPI_LD_INS | 0.7819688     | -0.4266980465 |  3.023451e-01 |  0.083030755  |  0.071744926  | -0.17060064   |  0.001753278  | -0.14751751   | -0.0329141521 |  0.2253761952 |  1.512077e-02 |  4.338983e-03 | -0.0014388774 |  1.350358e-03 |  1.145263e-03 | -2.170994e-05 | -4.656687e-06 | \n",
       "| PAPI_L2_STM | 0.7804671     |  0.4159679605 | -2.852804e-01 |  0.034022538  | -0.142809858  | -0.25820649   |  0.206703524  | -0.06371508   | -0.0254926226 |  0.0039036105 |  8.005631e-03 |  5.742287e-03 | -0.0179549806 | -2.121938e-03 | -1.585697e-02 |  1.037486e-02 |  3.723432e-05 | \n",
       "| PAPI_TLB_DM | 0.5095083     |  0.4262705349 |  6.483203e-01 |  0.096779882  | -0.292396913  |  0.06160861   |  0.053146613  | -0.16837012   |  0.0223108825 | -0.0868069093 | -4.139641e-03 |  1.013565e-02 |  0.0193182423 | -4.265705e-03 |  3.628728e-04 |  7.443873e-05 |  2.095623e-06 | \n",
       "| PAPI_L2_DCH | 0.5203865     | -0.5567593551 | -1.868230e-01 |  0.091505569  | -0.518986773  |  0.30775464   | -0.067386532  |  0.05475380   |  0.0421339409 |  0.0464412091 |  7.694390e-03 |  1.223681e-02 | -0.0132934447 |  3.380354e-03 |  8.171687e-04 |  3.444116e-03 | -9.942648e-07 | \n",
       "\n",
       "\n"
      ],
      "text/plain": [
       "             Dim.1     Dim.2         Dim.3         Dim.4        Dim.5       \n",
       "PAPI_L1_DCM  0.9326907  0.2386305436 -2.120751e-01  0.055307116 -0.039869178\n",
       "PAPI_L3_TCM  0.8564808  0.2984939092  8.231025e-05 -0.018112910  0.196867664\n",
       "PAPI_TOT_INS 0.8785427 -0.4474695202  1.829529e-02  0.033870620  0.078347218\n",
       "PAPI_REF_CYC 0.8821500  0.2411775272 -5.538295e-02 -0.104744399  0.167833419\n",
       "PAPI_L2_LDM  0.8195221  0.3733518743 -5.028735e-02  0.145062611  0.122912148\n",
       "PAPI_SR_INS  0.9146663 -0.2909079229  9.471000e-02  0.038593922  0.026767041\n",
       "PAPI_BR_UCN  0.5886277 -0.0001395312  1.953715e-02 -0.777656487 -0.110651054\n",
       "PAPI_BR_CN   0.9133358 -0.2943542245  1.402730e-01  0.016665738  0.032875432\n",
       "PAPI_BR_TKN  0.9127359 -0.2955664717  1.398164e-01  0.022300190  0.031141695\n",
       "PAPI_BR_MSP  0.8701692  0.2186619639  1.861602e-01 -0.079121158  0.059152718\n",
       "PAPI_FP_OPS  0.6714452 -0.5939636681 -2.520730e-01  0.003877114  0.162303349\n",
       "PAPI_L1_LDM  0.8775984  0.2374230301 -9.160262e-02  0.157051870  0.009375933\n",
       "PAPI_L1_STM  0.8247576  0.3427596597 -2.926432e-01  0.041917855 -0.195347352\n",
       "PAPI_LD_INS  0.7819688 -0.4266980465  3.023451e-01  0.083030755  0.071744926\n",
       "PAPI_L2_STM  0.7804671  0.4159679605 -2.852804e-01  0.034022538 -0.142809858\n",
       "PAPI_TLB_DM  0.5095083  0.4262705349  6.483203e-01  0.096779882 -0.292396913\n",
       "PAPI_L2_DCH  0.5203865 -0.5567593551 -1.868230e-01  0.091505569 -0.518986773\n",
       "             Dim.6       Dim.7        Dim.8       Dim.9         Dim.10       \n",
       "PAPI_L1_DCM   0.02787446 -0.060126270  0.05418471 -0.0316983066  0.0418023680\n",
       "PAPI_L3_TCM   0.23784889  0.126690605 -0.03672004  0.2373110558  0.0388735568\n",
       "PAPI_TOT_INS -0.05564719  0.025490783 -0.06287428 -0.0327821524 -0.0975589586\n",
       "PAPI_REF_CYC  0.24524801  0.190491779  0.04347108 -0.0004575897  0.0323026857\n",
       "PAPI_L2_LDM  -0.02322336 -0.384315262 -0.02539329 -0.0056627685 -0.0194644373\n",
       "PAPI_SR_INS  -0.11494989  0.019911027  0.12639404  0.0310519767 -0.0186461904\n",
       "PAPI_BR_UCN  -0.07326551 -0.167287548 -0.04881433  0.0191998857  0.0032956305\n",
       "PAPI_BR_CN   -0.14397544  0.027758408  0.15669800  0.0469407117 -0.0502977212\n",
       "PAPI_BR_TKN  -0.14467329  0.028104888  0.15675348  0.0484290808 -0.0503245308\n",
       "PAPI_BR_MSP   0.25689832  0.093512100  0.12104889 -0.2367736458  0.0122296579\n",
       "PAPI_FP_OPS   0.14405265  0.056502562 -0.26662879 -0.0496440077 -0.0909818715\n",
       "PAPI_L1_LDM   0.02372058 -0.370749042 -0.02633859 -0.0034874856 -0.0016133657\n",
       "PAPI_L1_STM  -0.19887536  0.185136947 -0.04276657 -0.0143734768  0.0006185629\n",
       "PAPI_LD_INS  -0.17060064  0.001753278 -0.14751751 -0.0329141521  0.2253761952\n",
       "PAPI_L2_STM  -0.25820649  0.206703524 -0.06371508 -0.0254926226  0.0039036105\n",
       "PAPI_TLB_DM   0.06160861  0.053146613 -0.16837012  0.0223108825 -0.0868069093\n",
       "PAPI_L2_DCH   0.30775464 -0.067386532  0.05475380  0.0421339409  0.0464412091\n",
       "             Dim.11        Dim.12        Dim.13        Dim.14       \n",
       "PAPI_L1_DCM  -4.616464e-03 -7.152022e-02  0.0911006586 -1.763029e-03\n",
       "PAPI_L3_TCM  -1.002327e-02 -7.571133e-02 -0.0246746478  3.868293e-03\n",
       "PAPI_TOT_INS -2.016759e-02 -8.709627e-03  0.0073733644  3.832884e-02\n",
       "PAPI_REF_CYC  1.837048e-02  1.454235e-01  0.0239874396  3.132469e-03\n",
       "PAPI_L2_LDM   3.422667e-05  2.008997e-02 -0.0161823369  3.756039e-03\n",
       "PAPI_SR_INS  -1.900348e-01  2.080855e-02 -0.0023147042 -1.153390e-02\n",
       "PAPI_BR_UCN  -3.669345e-03 -3.699138e-03 -0.0001984506 -1.605301e-05\n",
       "PAPI_BR_CN    8.535168e-02 -1.542597e-03 -0.0005879503 -6.763684e-03\n",
       "PAPI_BR_TKN   8.532704e-02 -4.067047e-03 -0.0011336680 -7.292404e-03\n",
       "PAPI_BR_MSP  -1.909073e-03 -6.076766e-02 -0.0356998220 -1.113360e-03\n",
       "PAPI_FP_OPS   1.135606e-02 -1.090644e-02  0.0026260303 -2.081868e-02\n",
       "PAPI_L1_LDM   1.217216e-02  2.682811e-02 -0.0177064289 -4.359534e-03\n",
       "PAPI_L1_STM  -2.540748e-03 -3.683443e-05 -0.0210389799  2.421012e-03\n",
       "PAPI_LD_INS   1.512077e-02  4.338983e-03 -0.0014388774  1.350358e-03\n",
       "PAPI_L2_STM   8.005631e-03  5.742287e-03 -0.0179549806 -2.121938e-03\n",
       "PAPI_TLB_DM  -4.139641e-03  1.013565e-02  0.0193182423 -4.265705e-03\n",
       "PAPI_L2_DCH   7.694390e-03  1.223681e-02 -0.0132934447  3.380354e-03\n",
       "             Dim.15        Dim.16        Dim.17       \n",
       "PAPI_L1_DCM   7.087699e-05 -6.344430e-05  5.251592e-06\n",
       "PAPI_L3_TCM  -1.372826e-03 -6.922916e-05  3.143150e-05\n",
       "PAPI_TOT_INS -3.827654e-03 -9.332933e-04 -2.288226e-05\n",
       "PAPI_REF_CYC  5.013723e-04 -1.729836e-04 -5.452714e-05\n",
       "PAPI_L2_LDM   1.494248e-02  1.078742e-02 -6.632621e-05\n",
       "PAPI_SR_INS  -3.763598e-04  2.643367e-04  1.031839e-05\n",
       "PAPI_BR_UCN  -2.920726e-05  1.036216e-05 -2.205554e-05\n",
       "PAPI_BR_CN    1.230456e-03  2.645811e-04  4.040159e-03\n",
       "PAPI_BR_TKN   4.579666e-04  7.803606e-05 -4.023289e-03\n",
       "PAPI_BR_MSP  -4.906626e-04  1.155843e-04  8.296373e-06\n",
       "PAPI_FP_OPS   2.235669e-03  5.522164e-04  1.142836e-05\n",
       "PAPI_L1_LDM  -1.588677e-02 -1.132887e-02  6.769858e-05\n",
       "PAPI_L1_STM   1.738969e-02 -1.060906e-02 -2.886850e-05\n",
       "PAPI_LD_INS   1.145263e-03 -2.170994e-05 -4.656687e-06\n",
       "PAPI_L2_STM  -1.585697e-02  1.037486e-02  3.723432e-05\n",
       "PAPI_TLB_DM   3.628728e-04  7.443873e-05  2.095623e-06\n",
       "PAPI_L2_DCH   8.171687e-04  3.444116e-03 -9.942648e-07"
      ]
     },
     "metadata": {},
     "output_type": "display_data"
    }
   ],
   "source": [
    "var$coord\n"
   ]
  },
  {
   "cell_type": "code",
   "execution_count": 36,
   "metadata": {},
   "outputs": [
    {
     "name": "stderr",
     "output_type": "stream",
     "text": [
      "Loading required package: plyr\n",
      "Loading required package: scales\n",
      "Loading required package: grid\n"
     ]
    },
    {
     "data": {
      "image/png": "[encoded data removed]",
      "text/plain": [
       "plot without title"
      ]
     },
     "metadata": {},
     "output_type": "display_data"
    }
   ],
   "source": [
    "library(devtools)\n",
    "library(ggbiplot)\n",
    "g <- ggbiplot(res.pca, obs.scale = 1, var.scale = 1, groups = res.label, ellipse = FALSE, circle = TRUE, var.axes=FALSE)\n",
    "#g <- ggbiplot(res.pca, obs.scale = 1, var.scale = 1, groups = {res.label, res.threads}, ellipse = FALSE, circle = TRUE, var.axes=FALSE)\n",
    "g <- g + scale_color_discrete(name = '')\n",
    "g <- g + theme(legend.direction = 'horizontal', legend.position = 'top')\n",
    "print(g)"
   ]
  },
  {
   "cell_type": "code",
   "execution_count": 37,
   "metadata": {},
   "outputs": [
    {
     "name": "stdout",
     "output_type": "stream",
     "text": [
      "                   PC1           PC2           PC3          PC4\n",
      "PAPI_L1_DCM  0.9326907  0.2386305436 -2.120751e-01  0.055307116\n",
      "PAPI_L3_TCM  0.8564808  0.2984939092  8.231025e-05 -0.018112910\n",
      "PAPI_TOT_INS 0.8785427 -0.4474695202  1.829529e-02  0.033870620\n",
      "PAPI_REF_CYC 0.8821500  0.2411775272 -5.538295e-02 -0.104744399\n",
      "PAPI_L2_LDM  0.8195221  0.3733518743 -5.028735e-02  0.145062611\n",
      "PAPI_SR_INS  0.9146663 -0.2909079229  9.471000e-02  0.038593922\n",
      "PAPI_BR_UCN  0.5886277 -0.0001395312  1.953715e-02 -0.777656487\n",
      "PAPI_BR_CN   0.9133358 -0.2943542245  1.402730e-01  0.016665738\n",
      "PAPI_BR_TKN  0.9127359 -0.2955664717  1.398164e-01  0.022300190\n",
      "PAPI_BR_MSP  0.8701692  0.2186619639  1.861602e-01 -0.079121158\n",
      "PAPI_FP_OPS  0.6714452 -0.5939636681 -2.520730e-01  0.003877114\n",
      "PAPI_L1_LDM  0.8775984  0.2374230301 -9.160262e-02  0.157051870\n",
      "PAPI_L1_STM  0.8247576  0.3427596597 -2.926432e-01  0.041917855\n",
      "PAPI_LD_INS  0.7819688 -0.4266980465  3.023451e-01  0.083030755\n",
      "PAPI_L2_STM  0.7804671  0.4159679605 -2.852804e-01  0.034022538\n",
      "PAPI_TLB_DM  0.5095083  0.4262705349  6.483203e-01  0.096779882\n",
      "PAPI_L2_DCH  0.5203865 -0.5567593551 -1.868230e-01  0.091505569\n"
     ]
    }
   ],
   "source": [
    "# Helper function : \n",
    "# Correlation between variables and principal components\n",
    "var_cor_func <- function(var.loadings, comp.sdev){\n",
    "  var.loadings*comp.sdev\n",
    "  }\n",
    "\n",
    "# Variable correlation/coordinates\n",
    "loadings <- res.pca$rotation\n",
    "sdev <- res.pca$sdev\n",
    "\n",
    "var.coord <- var.cor <- t(apply(loadings, 1, var_cor_func, sdev))\n",
    "print(var.coord[, 1:4])"
   ]
  },
  {
   "cell_type": "code",
   "execution_count": 38,
   "metadata": {},
   "outputs": [
    {
     "name": "stdout",
     "output_type": "stream",
     "text": [
      "                   PC1          PC2          PC3          PC4          PC5\n",
      "PAPI_L1_DCM  0.8699119 5.694454e-02 4.497586e-02 3.058877e-03 1.589551e-03\n",
      "PAPI_L3_TCM  0.7335594 8.909861e-02 6.774977e-09 3.280775e-04 3.875688e-02\n",
      "PAPI_TOT_INS 0.7718372 2.002290e-01 3.347177e-04 1.147219e-03 6.138287e-03\n",
      "PAPI_REF_CYC 0.7781886 5.816660e-02 3.067271e-03 1.097139e-02 2.816806e-02\n",
      "PAPI_L2_LDM  0.6716165 1.393916e-01 2.528818e-03 2.104316e-02 1.510740e-02\n",
      "PAPI_SR_INS  0.8366145 8.462742e-02 8.969984e-03 1.489491e-03 7.164745e-04\n",
      "PAPI_BR_UCN  0.3464825 1.946894e-08 3.817004e-04 6.047496e-01 1.224366e-02\n",
      "PAPI_BR_CN   0.8341822 8.664441e-02 1.967651e-02 2.777468e-04 1.080794e-03\n",
      "PAPI_BR_TKN  0.8330868 8.735954e-02 1.954862e-02 4.972985e-04 9.698052e-04\n",
      "PAPI_BR_MSP  0.7571944 4.781305e-02 3.465563e-02 6.260158e-03 3.499044e-03\n",
      "PAPI_FP_OPS  0.4508386 3.527928e-01 6.354078e-02 1.503201e-05 2.634238e-02\n",
      "PAPI_L1_LDM  0.7701789 5.636970e-02 8.391039e-03 2.466529e-02 8.790811e-05\n",
      "PAPI_L1_STM  0.6802251 1.174842e-01 8.564005e-02 1.757107e-03 3.816059e-02\n",
      "PAPI_LD_INS  0.6114753 1.820712e-01 9.141256e-02 6.894106e-03 5.147334e-03\n",
      "PAPI_L2_STM  0.6091289 1.730293e-01 8.138490e-02 1.157533e-03 2.039466e-02\n",
      "PAPI_TLB_DM  0.2595987 1.817066e-01 4.203192e-01 9.366346e-03 8.549595e-02\n",
      "PAPI_L2_DCH  0.2708021 3.099810e-01 3.490285e-02 8.373269e-03 2.693473e-01\n",
      "                      PC6          PC7          PC8          PC9         PC10\n",
      "PAPI_L1_DCM  0.0007769853 3.615168e-03 0.0029359833 1.004783e-03 1.747438e-03\n",
      "PAPI_L3_TCM  0.0565720959 1.605051e-02 0.0013483617 5.631654e-02 1.511153e-03\n",
      "PAPI_TOT_INS 0.0030966099 6.497800e-04 0.0039531745 1.074670e-03 9.517750e-03\n",
      "PAPI_REF_CYC 0.0601465840 3.628712e-02 0.0018897348 2.093883e-07 1.043464e-03\n",
      "PAPI_L2_LDM  0.0005393244 1.476982e-01 0.0006448194 3.206695e-05 3.788643e-04\n",
      "PAPI_SR_INS  0.0132134768 3.964490e-04 0.0159754532 9.642253e-04 3.476804e-04\n",
      "PAPI_BR_UCN  0.0053678354 2.798512e-02 0.0023828385 3.686356e-04 1.086118e-05\n",
      "PAPI_BR_CN   0.0207289285 7.705292e-04 0.0245542619 2.203430e-03 2.529861e-03\n",
      "PAPI_BR_TKN  0.0209303604 7.898847e-04 0.0245716521 2.345376e-03 2.532558e-03\n",
      "PAPI_BR_MSP  0.0659967493 8.744513e-03 0.0146528335 5.606176e-02 1.495645e-04\n",
      "PAPI_FP_OPS  0.0207511665 3.192540e-03 0.0710909098 2.464528e-03 8.277701e-03\n",
      "PAPI_L1_LDM  0.0005626658 1.374549e-01 0.0006937211 1.216256e-05 2.602949e-06\n",
      "PAPI_L1_STM  0.0395514106 3.427569e-02 0.0018289793 2.065968e-04 3.826200e-07\n",
      "PAPI_LD_INS  0.0291045800 3.073983e-06 0.0217614164 1.083341e-03 5.079443e-02\n",
      "PAPI_L2_STM  0.0666705933 4.272635e-02 0.0040596109 6.498738e-04 1.523817e-05\n",
      "PAPI_TLB_DM  0.0037956206 2.824562e-03 0.0283484962 4.977755e-04 7.535439e-03\n",
      "PAPI_L2_DCH  0.0947129181 4.540945e-03 0.0029979789 1.775269e-03 2.156786e-03\n",
      "                     PC11         PC12         PC13         PC14         PC15\n",
      "PAPI_L1_DCM  2.131174e-05 5.115141e-03 8.299330e-03 3.108272e-06 5.023548e-09\n",
      "PAPI_L3_TCM  1.004660e-04 5.732206e-03 6.088382e-04 1.496369e-05 1.884651e-06\n",
      "PAPI_TOT_INS 4.067316e-04 7.585761e-05 5.436650e-05 1.469100e-03 1.465094e-05\n",
      "PAPI_REF_CYC 3.374747e-04 2.114800e-02 5.753973e-04 9.812363e-06 2.513741e-07\n",
      "PAPI_L2_LDM  1.171465e-09 4.036068e-04 2.618680e-04 1.410783e-05 2.232778e-04\n",
      "PAPI_SR_INS  3.611322e-02 4.329958e-04 5.357855e-06 1.330309e-04 1.416467e-07\n",
      "PAPI_BR_UCN  1.346409e-05 1.368362e-05 3.938264e-08 2.576992e-10 8.530642e-10\n",
      "PAPI_BR_CN   7.284910e-03 2.379606e-06 3.456855e-07 4.574742e-05 1.514021e-06\n",
      "PAPI_BR_TKN  7.280704e-03 1.654087e-05 1.285203e-06 5.317916e-05 2.097334e-07\n",
      "PAPI_BR_MSP  3.644558e-06 3.692708e-03 1.274477e-03 1.239571e-06 2.407498e-07\n",
      "PAPI_FP_OPS  1.289600e-04 1.189504e-04 6.896035e-06 4.334173e-04 4.998214e-06\n",
      "PAPI_L1_LDM  1.481615e-04 7.197475e-04 3.135176e-04 1.900554e-05 2.523896e-04\n",
      "PAPI_L1_STM  6.455399e-06 1.356775e-09 4.426387e-04 5.861300e-06 3.024012e-04\n",
      "PAPI_LD_INS  2.286378e-04 1.882677e-05 2.070368e-06 1.823468e-06 1.311627e-06\n",
      "PAPI_L2_STM  6.409013e-05 3.297385e-05 3.223813e-04 4.502623e-06 2.514435e-04\n",
      "PAPI_TLB_DM  1.713663e-05 1.027314e-04 3.731945e-04 1.819624e-05 1.316767e-07\n",
      "PAPI_L2_DCH  5.920363e-05 1.497394e-04 1.767157e-04 1.142679e-05 6.677648e-07\n",
      "                     PC16         PC17\n",
      "PAPI_L1_DCM  4.025179e-09 2.757922e-11\n",
      "PAPI_L3_TCM  4.792676e-09 9.879390e-10\n",
      "PAPI_TOT_INS 8.710365e-07 5.235976e-10\n",
      "PAPI_REF_CYC 2.992334e-08 2.973209e-09\n",
      "PAPI_L2_LDM  1.163684e-04 4.399166e-09\n",
      "PAPI_SR_INS  6.987389e-08 1.064692e-10\n",
      "PAPI_BR_UCN  1.073745e-10 4.864468e-10\n",
      "PAPI_BR_CN   7.000316e-08 1.632289e-05\n",
      "PAPI_BR_TKN  6.089626e-09 1.618686e-05\n",
      "PAPI_BR_MSP  1.335972e-08 6.882980e-11\n",
      "PAPI_FP_OPS  3.049429e-07 1.306075e-10\n",
      "PAPI_L1_LDM  1.283434e-04 4.583098e-09\n",
      "PAPI_L1_STM  1.125522e-04 8.333906e-10\n",
      "PAPI_LD_INS  4.713215e-10 2.168473e-11\n",
      "PAPI_L2_STM  1.076378e-04 1.386394e-09\n",
      "PAPI_TLB_DM  5.541124e-09 4.391636e-12\n",
      "PAPI_L2_DCH  1.186194e-05 9.885626e-13\n"
     ]
    }
   ],
   "source": [
    "var.cos2 <- var.coord^2\n",
    "print(var.cos2)"
   ]
  },
  {
   "cell_type": "code",
   "execution_count": 39,
   "metadata": {
    "scrolled": false
   },
   "outputs": [
    {
     "name": "stdout",
     "output_type": "stream",
     "text": [
      "                  PC1          PC2          PC3          PC4         PC5\n",
      "PAPI_L1_DCM  7.847705 2.560790e+00 4.890113e+00  0.435705383  0.28731365\n",
      "PAPI_L3_TCM  6.617633 4.006756e+00 7.366264e-07  0.046731246  7.00536020\n",
      "PAPI_TOT_INS 6.962947 9.004277e+00 3.639302e-02  0.163409461  1.10950394\n",
      "PAPI_REF_CYC 7.020245 2.615746e+00 3.334967e-01  1.562760818  5.09141597\n",
      "PAPI_L2_LDM  6.058829 6.268427e+00 2.749521e-01  2.997380488  2.73068316\n",
      "PAPI_SR_INS  7.547320 3.805687e+00 9.752840e-01  0.212162546  0.12950377\n",
      "PAPI_BR_UCN  3.125710 8.755164e-07 4.150133e-02 86.140322990  2.21305806\n",
      "PAPI_BR_CN   7.525378 3.896390e+00 2.139378e+00  0.039562160  0.19535504\n",
      "PAPI_BR_TKN  7.515496 3.928550e+00 2.125473e+00  0.070835024  0.17529365\n",
      "PAPI_BR_MSP  6.830850 2.150148e+00 3.768020e+00  0.891694667  0.63245715\n",
      "PAPI_FP_OPS  4.067134 1.586506e+01 6.908631e+00  0.002141155  4.76142180\n",
      "PAPI_L1_LDM  6.947987 2.534940e+00 9.123368e-01  3.513315242  0.01588952\n",
      "PAPI_L1_STM  6.136490 5.283252e+00 9.311429e+00  0.250281644  6.89758005\n",
      "PAPI_LD_INS  5.516280 8.187725e+00 9.939059e+00  0.981994073  0.93038795\n",
      "PAPI_L2_STM  5.495112 7.781112e+00 8.848778e+00  0.164878606  3.68636274\n",
      "PAPI_TLB_DM  2.341908 8.171326e+00 4.570025e+01  1.334138976 15.45351442\n",
      "PAPI_L2_DCH  2.442977 1.393981e+01 3.794899e+00  1.192685524 48.68489893\n",
      "                    PC6          PC7        PC8          PC9         PC10\n",
      "PAPI_L1_DCM   0.1546184 7.724631e-01  1.3125220 7.907861e-01 1.973352e+00\n",
      "PAPI_L3_TCM  11.2577274 3.429557e+00  0.6027808 4.432236e+01 1.706520e+00\n",
      "PAPI_TOT_INS  0.6162188 1.388403e-01  1.7672540 8.457886e-01 1.074823e+01\n",
      "PAPI_REF_CYC 11.9690430 7.753570e+00  0.8447999 1.647932e-04 1.178365e+00\n",
      "PAPI_L2_LDM   0.1073244 3.155909e+01  0.2882645 2.523740e-02 4.278450e-01\n",
      "PAPI_SR_INS   2.6294539 8.471037e-02  7.1417753 7.588666e-01 3.926295e-01\n",
      "PAPI_BR_UCN   1.0681879 5.979660e+00  1.0652403 2.901244e-01 1.226534e-02\n",
      "PAPI_BR_CN    4.1250129 1.646411e-01 10.9769043 1.734148e+00 2.856928e+00\n",
      "PAPI_BR_TKN   4.1650974 1.687769e-01 10.9846785 1.845863e+00 2.859975e+00\n",
      "PAPI_BR_MSP  13.1332135 1.868464e+00  6.5505024 4.412184e+01 1.689007e-01\n",
      "PAPI_FP_OPS   4.1294382 6.821588e-01 31.7809639 1.939638e+00 9.347866e+00\n",
      "PAPI_L1_LDM   0.1119693 2.937036e+01  0.3101258 9.572200e-03 2.939465e-03\n",
      "PAPI_L1_STM   7.8706470 7.323782e+00  0.8176394 1.625963e-01 4.320862e-04\n",
      "PAPI_LD_INS   5.7917498 6.568264e-04  9.7283716 8.526136e-01 5.736128e+01\n",
      "PAPI_L2_STM  13.2673070 9.129458e+00  1.8148361 5.114650e-01 1.720821e-02\n",
      "PAPI_TLB_DM   0.7553205 6.035322e-01 12.6731046 3.917603e-01 8.509643e+00\n",
      "PAPI_L2_DCH  18.8476703 9.702763e-01  1.3402369 1.397176e+00 2.435621e+00\n",
      "                     PC11         PC12         PC13         PC14         PC15\n",
      "PAPI_L1_DCM  4.081569e-02 1.354069e+01 6.525287e+01 1.388537e-01 4.759309e-04\n",
      "PAPI_L3_TCM  1.924099e-01 1.517417e+01 4.786946e+00 6.684629e-01 1.785518e-01\n",
      "PAPI_TOT_INS 7.789618e-01 2.008085e-01 4.274526e-01 6.562810e+01 1.388030e+00\n",
      "PAPI_REF_CYC 6.463227e-01 5.598250e+01 4.524019e+00 4.383410e-01 2.381519e-02\n",
      "PAPI_L2_LDM  2.243560e-06 1.068419e+00 2.058918e+00 6.302294e-01 2.115334e+01\n",
      "PAPI_SR_INS  6.916311e+01 1.146217e+00 4.212575e-02 5.942797e+00 1.341961e-02\n",
      "PAPI_BR_UCN  2.578608e-02 3.622297e-02 3.096431e-04 1.151202e-05 8.081930e-05\n",
      "PAPI_BR_CN   1.395187e+01 6.299240e-03 2.717927e-03 2.043644e+00 1.434383e-01\n",
      "PAPI_BR_TKN  1.394382e+01 4.378662e-02 1.010482e-02 2.375636e+00 1.987015e-02\n",
      "PAPI_BR_MSP  6.979962e-03 9.775253e+00 1.002048e+01 5.537451e-02 2.280863e-02\n",
      "PAPI_FP_OPS  2.469809e-01 3.148828e-01 5.421957e-02 1.936176e+01 4.735308e-01\n",
      "PAPI_L1_LDM  2.837551e-01 1.905299e+00 2.465009e+00 8.490216e-01 2.391139e+01\n",
      "PAPI_L1_STM  1.236321e-02 3.591624e-06 3.480214e+00 2.618379e-01 2.864949e+01\n",
      "PAPI_LD_INS  4.378812e-01 4.983780e-02 1.627812e-02 8.145853e-02 1.242635e-01\n",
      "PAPI_L2_STM  1.227437e-01 8.728764e-02 2.534700e+00 2.011426e-01 2.382176e+01\n",
      "PAPI_TLB_DM  3.281963e-02 2.719481e-01 2.934214e+00 8.128681e-01 1.247505e-02\n",
      "PAPI_L2_DCH  1.133853e-01 3.963869e-01 1.389414e+00 5.104612e-01 6.326403e-02\n",
      "                     PC16         PC17\n",
      "PAPI_L1_DCM  8.418343e-04 8.479058e-05\n",
      "PAPI_L3_TCM  1.002350e-03 3.037357e-03\n",
      "PAPI_TOT_INS 1.821704e-01 1.609768e-03\n",
      "PAPI_REF_CYC 6.258228e-03 9.140945e-03\n",
      "PAPI_L2_LDM  2.433754e+01 1.352496e-02\n",
      "PAPI_SR_INS  1.461357e-02 3.273328e-04\n",
      "PAPI_BR_UCN  2.245652e-05 1.495550e-03\n",
      "PAPI_BR_CN   1.464061e-02 5.018369e+01\n",
      "PAPI_BR_TKN  1.273597e-03 4.976548e+01\n",
      "PAPI_BR_MSP  2.794080e-03 2.116129e-04\n",
      "PAPI_FP_OPS  6.377639e-02 4.015446e-04\n",
      "PAPI_L1_LDM  2.684200e+01 1.409045e-02\n",
      "PAPI_L1_STM  2.353940e+01 2.562207e-03\n",
      "PAPI_LD_INS  9.857315e-05 6.666836e-05\n",
      "PAPI_L2_STM  2.251159e+01 4.262383e-03\n",
      "PAPI_TLB_DM  1.158882e-03 1.350181e-05\n",
      "PAPI_L2_DCH  2.480830e+00 3.039274e-06\n"
     ]
    }
   ],
   "source": [
    "comp.cos2 <- apply(var.cos2, 2, sum)\n",
    "\n",
    "contrib <- function(var.cos2, comp.cos2){var.cos2*100/comp.cos2}\n",
    "\n",
    "var.contrib <- t(apply(var.cos2,1, contrib, comp.cos2))\n",
    "print(var.contrib)"
   ]
  },
  {
   "cell_type": "code",
   "execution_count": 40,
   "metadata": {},
   "outputs": [
    {
     "name": "stdout",
     "output_type": "stream",
     "text": [
      " PAPI_L1_DCM  PAPI_SR_INS   PAPI_BR_CN  PAPI_BR_TKN PAPI_REF_CYC PAPI_TOT_INS \n",
      "    7.847705     7.547320     7.525378     7.515496     7.020245     6.962947 \n",
      " PAPI_L1_LDM  PAPI_BR_MSP  PAPI_L3_TCM  PAPI_L1_STM  PAPI_L2_LDM  PAPI_LD_INS \n",
      "    6.947987     6.830850     6.617633     6.136490     6.058829     5.516280 \n",
      " PAPI_L2_STM  PAPI_FP_OPS  PAPI_BR_UCN  PAPI_L2_DCH  PAPI_TLB_DM \n",
      "    5.495112     4.067134     3.125710     2.442977     2.341908 \n"
     ]
    }
   ],
   "source": [
    "print(sort(var.contrib[,'PC1'],decreasing=TRUE))"
   ]
  },
  {
   "cell_type": "code",
   "execution_count": 41,
   "metadata": {},
   "outputs": [
    {
     "name": "stdout",
     "output_type": "stream",
     "text": [
      " PAPI_FP_OPS  PAPI_L2_DCH PAPI_TOT_INS  PAPI_LD_INS  PAPI_TLB_DM  PAPI_L2_STM \n",
      "1.586506e+01 1.393981e+01 9.004277e+00 8.187725e+00 8.171326e+00 7.781112e+00 \n",
      " PAPI_L2_LDM  PAPI_L1_STM  PAPI_L3_TCM  PAPI_BR_TKN   PAPI_BR_CN  PAPI_SR_INS \n",
      "6.268427e+00 5.283252e+00 4.006756e+00 3.928550e+00 3.896390e+00 3.805687e+00 \n",
      "PAPI_REF_CYC  PAPI_L1_DCM  PAPI_L1_LDM  PAPI_BR_MSP  PAPI_BR_UCN \n",
      "2.615746e+00 2.560790e+00 2.534940e+00 2.150148e+00 8.755164e-07 \n"
     ]
    }
   ],
   "source": [
    "print(sort(var.contrib[,'PC2'],decreasing=TRUE))"
   ]
  },
  {
   "cell_type": "code",
   "execution_count": 42,
   "metadata": {},
   "outputs": [
    {
     "name": "stdout",
     "output_type": "stream",
     "text": [
      " PAPI_TLB_DM  PAPI_LD_INS  PAPI_L1_STM  PAPI_L2_STM  PAPI_FP_OPS  PAPI_L1_DCM \n",
      "4.570025e+01 9.939059e+00 9.311429e+00 8.848778e+00 6.908631e+00 4.890113e+00 \n",
      " PAPI_L2_DCH  PAPI_BR_MSP   PAPI_BR_CN  PAPI_BR_TKN  PAPI_SR_INS  PAPI_L1_LDM \n",
      "3.794899e+00 3.768020e+00 2.139378e+00 2.125473e+00 9.752840e-01 9.123368e-01 \n",
      "PAPI_REF_CYC  PAPI_L2_LDM  PAPI_BR_UCN PAPI_TOT_INS  PAPI_L3_TCM \n",
      "3.334967e-01 2.749521e-01 4.150133e-02 3.639302e-02 7.366264e-07 \n"
     ]
    }
   ],
   "source": [
    "print(sort(var.contrib[,'PC3'],decreasing=TRUE))"
   ]
  },
  {
   "cell_type": "code",
   "execution_count": 43,
   "metadata": {},
   "outputs": [
    {
     "data": {},
     "metadata": {},
     "output_type": "display_data"
    },
    {
     "data": {
      "image/png": "[encoded data removed]",
      "text/plain": [
       "plot without title"
      ]
     },
     "metadata": {},
     "output_type": "display_data"
    }
   ],
   "source": [
    "fviz_pca_var(res.pca, col.var=\"contrib\") + scale_color_gradient2(low=\"white\", mid=\"blue\", high=\"red\", midpoint=50) + theme_minimal()"
   ]
  },
  {
   "cell_type": "code",
   "execution_count": 44,
   "metadata": {
    "scrolled": false
   },
   "outputs": [
    {
     "ename": "ERROR",
     "evalue": "Error in `[.data.frame`(mydata, , 5:61): undefined columns selected\n",
     "output_type": "error",
     "traceback": [
      "Error in `[.data.frame`(mydata, , 5:61): undefined columns selected\nTraceback:\n",
      "1. mydata[, 5:61]",
      "2. `[.data.frame`(mydata, , 5:61)",
      "3. stop(\"undefined columns selected\")"
     ]
    }
   ],
   "source": [
    "new_mydata1 = mydata[,5:61]\n",
    "new_mydata1 <- subset(new_mydata1, select = -c(PAPI_TOT_CYC))\n",
    "new_mydata1 <- subset(new_mydata1, select = -c(PAPI_TLB_DM))\n",
    "new_mydata1 <- subset(new_mydata1, select = -c(PAPI_FP_INS))\n",
    "new_mydata1 <- subset(new_mydata1, select = -c(PAPI_L2_TCW))\n",
    "new_mydata1 <- subset(new_mydata1, select = -c(PAPI_L2_DCW))\n",
    "new_mydata1 <- subset(new_mydata1, select = -c(PAPI_L3_TCA))\n",
    "new_mydata1 <- subset(new_mydata1, select = -c(PAPI_L2_DCA))\n",
    "new_mydata1 <- subset(new_mydata1, select = -c(PAPI_L3_TCW))\n",
    "new_mydata1 <- subset(new_mydata1, select = -c(PAPI_L3_DCW))\n",
    "new_mydata1 <- subset(new_mydata1, select = -c(PAPI_L3_DCA))\n",
    "new_mydata1 <- subset(new_mydata1, select = -c(PAPI_L3_TCR))\n",
    "new_mydata1 <- subset(new_mydata1, select = -c(PAPI_L3_DCR))\n",
    "new_mydata1 <- subset(new_mydata1, select = -c(PAPI_L2_DCR))\n",
    "new_mydata1 <- subset(new_mydata1, select = -c(PAPI_L2_TCR))\n",
    "new_mydata1 <- subset(new_mydata1, select = -c(PAPI_L2_TCA))\n",
    "new_mydata1 <- subset(new_mydata1, select = -c(PAPI_L2_DCM))\n",
    "new_mydata1 <- subset(new_mydata1, select = -c(PAPI_BR_INS))\n",
    "\n",
    "new_mydata1 <- subset(new_mydata1, select = -c(PAPI_L1_ICA))\n",
    "new_mydata1 <- subset(new_mydata1, select = -c(PAPI_L1_ICH))\n",
    "new_mydata1 <- subset(new_mydata1, select = -c(PAPI_L1_ICM))\n",
    "new_mydata1 <- subset(new_mydata1, select = -c(PAPI_L1_ICR))\n",
    "new_mydata1 <- subset(new_mydata1, select = -c(PAPI_L2_ICA))\n",
    "new_mydata1 <- subset(new_mydata1, select = -c(PAPI_L2_ICH))\n",
    "new_mydata1 <- subset(new_mydata1, select = -c(PAPI_L2_ICM))\n",
    "new_mydata1 <- subset(new_mydata1, select = -c(PAPI_L2_ICR))\n",
    "new_mydata1 <- subset(new_mydata1, select = -c(PAPI_L3_ICA))\n",
    "new_mydata1 <- subset(new_mydata1, select = -c(PAPI_L3_ICR))\n",
    "new_mydata1 <- subset(new_mydata1, select = -c(PAPI_L1_TCM))\n",
    "new_mydata1 <- subset(new_mydata1, select = -c(PAPI_L2_TCH))\n",
    "new_mydata1 <- subset(new_mydata1, select = -c(PAPI_L2_TCM))\n",
    "new_mydata1 <- subset(new_mydata1, select = -c(PAPI_TLB_IM))\n",
    "new_mydata1 <- subset(new_mydata1, select = -c(PAPI_RES_STL))\n",
    "new_mydata1 <- subset(new_mydata1, select = -c(PAPI_BR_PRC))\n",
    "new_mydata1 <- subset(new_mydata1, select = -c(PAPI_BR_MSP))\n",
    "\n",
    "\n",
    "\n",
    "\n",
    "new_mydata1 <- subset(new_mydata1, select = -c(PAPI_VEC_DP))\n",
    "new_mydata1 <- subset(new_mydata1, select = -c(PAPI_VEC_SP))\n",
    "\n",
    "my_data_ordered1 <- new_mydata1[,order(colnames(new_mydata1))]\n",
    "\n",
    "\n",
    "options(repr.matrix.max.rows = 100)\n",
    "options(repr.matrix.max.cols = 100)\n",
    "res1 <- cor(my_data_ordered1)\n",
    "dim(res1)\n",
    "round(res1, 2)"
   ]
  },
  {
   "cell_type": "code",
   "execution_count": null,
   "metadata": {},
   "outputs": [],
   "source": [
    "library(corrplot)\n",
    "\n",
    "\n",
    "corrplot(res1, tl.col = \"black\", tl.srt = 90, tl.cex = 0.7, method= \"square\", order = \"AOE\", number.cex = 0.5)"
   ]
  },
  {
   "cell_type": "code",
   "execution_count": null,
   "metadata": {},
   "outputs": [],
   "source": [
    "corrplot(res1, tl.col = \"black\", tl.srt = 90, tl.cex = 0.7, method= \"square\", order = \"hclust\", number.cex = 0.5, addrect=2)"
   ]
  },
  {
   "cell_type": "code",
   "execution_count": null,
   "metadata": {},
   "outputs": [],
   "source": [
    "corrplot(res1, tl.col = \"black\", tl.srt = 90, tl.cex = 0.7, method= \"square\", order = \"hclust\", number.cex = 0.5, addrect=3)"
   ]
  },
  {
   "cell_type": "code",
   "execution_count": null,
   "metadata": {},
   "outputs": [],
   "source": [
    "corrplot(res1, tl.col = \"black\", tl.srt = 90, tl.cex = 0.7, method= \"square\", order = \"hclust\", number.cex = 0.5, addrect=4)"
   ]
  },
  {
   "cell_type": "code",
   "execution_count": null,
   "metadata": {},
   "outputs": [],
   "source": [
    "corrplot(res1, tl.col = \"black\", tl.srt = 90, tl.cex = 0.7, method= \"square\", order = \"hclust\", number.cex = 0.5, addrect=5)"
   ]
  },
  {
   "cell_type": "code",
   "execution_count": null,
   "metadata": {},
   "outputs": [],
   "source": [
    "corrplot(res1, tl.col = \"black\", tl.srt = 90, tl.cex = 0.7, method= \"square\", order = \"hclust\", number.cex = 0.5, addrect=6)"
   ]
  },
  {
   "cell_type": "code",
   "execution_count": null,
   "metadata": {},
   "outputs": [],
   "source": [
    "corrplot(res1, tl.col = \"black\", tl.srt = 90, tl.cex = 0.7, method= \"square\", order = \"hclust\", number.cex = 0.5, addrect=7)"
   ]
  },
  {
   "cell_type": "code",
   "execution_count": null,
   "metadata": {},
   "outputs": [],
   "source": [
    "corrplot(res1, tl.col = \"black\", tl.srt = 90, tl.cex = 0.7, method= \"square\", order = \"hclust\", number.cex = 0.5, addrect=8)"
   ]
  },
  {
   "cell_type": "code",
   "execution_count": null,
   "metadata": {},
   "outputs": [],
   "source": [
    "corrplot(res1, tl.col = \"black\", tl.srt = 90, tl.cex = 0.7, method= \"square\", order = \"hclust\", number.cex = 0.5, addrect=9)"
   ]
  },
  {
   "cell_type": "code",
   "execution_count": null,
   "metadata": {},
   "outputs": [],
   "source": [
    "corrplot(res1, tl.col = \"black\", tl.srt = 90, tl.cex = 0.7, method= \"square\", order = \"hclust\", number.cex = 0.5, addrect=10)"
   ]
  },
  {
   "cell_type": "code",
   "execution_count": null,
   "metadata": {},
   "outputs": [],
   "source": [
    "corrplot(res1, tl.col = \"black\", tl.srt = 90, tl.cex = 0.7, method= \"square\", order = \"hclust\", number.cex = 0.5, addrect=11)"
   ]
  },
  {
   "cell_type": "code",
   "execution_count": null,
   "metadata": {},
   "outputs": [],
   "source": [
    "corrplot(res1, tl.col = \"black\", tl.srt = 90, tl.cex = 0.7, method= \"square\", order = \"hclust\", number.cex = 0.5, addrect=12)"
   ]
  },
  {
   "cell_type": "code",
   "execution_count": null,
   "metadata": {},
   "outputs": [],
   "source": [
    "corrplot(res1, tl.col = \"black\", tl.srt = 90, tl.cex = 0.7, method= \"square\", order = \"hclust\", number.cex = 0.5, addrect=13)"
   ]
  },
  {
   "cell_type": "code",
   "execution_count": null,
   "metadata": {},
   "outputs": [],
   "source": [
    "corrplot(res1, tl.col = \"black\", tl.srt = 90, tl.cex = 0.7, method= \"square\", order = \"hclust\", number.cex = 0.5, addrect=14)"
   ]
  },
  {
   "cell_type": "code",
   "execution_count": null,
   "metadata": {},
   "outputs": [],
   "source": [
    "corrplot(res1, tl.col = \"black\", tl.srt = 90, tl.cex = 0.7, method= \"square\", order = \"hclust\", number.cex = 0.5, addrect=15)"
   ]
  },
  {
   "cell_type": "code",
   "execution_count": null,
   "metadata": {},
   "outputs": [],
   "source": [
    "corrplot(res1, tl.col = \"black\", tl.srt = 90, tl.cex = 0.7, method= \"square\", order = \"hclust\", number.cex = 0.5, addrect=16)"
   ]
  },
  {
   "cell_type": "code",
   "execution_count": null,
   "metadata": {},
   "outputs": [],
   "source": [
    "corrplot(res1, tl.col = \"black\", tl.srt = 90, tl.cex = 0.7, method= \"square\", order = \"hclust\", number.cex = 0.5, addrect=17)"
   ]
  },
  {
   "cell_type": "code",
   "execution_count": null,
   "metadata": {},
   "outputs": [],
   "source": [
    "corrplot(res1, tl.col = \"black\", tl.srt = 90, tl.cex = 0.7, method= \"square\", order = \"FPC\", number.cex = 0.5)"
   ]
  },
  {
   "cell_type": "code",
   "execution_count": null,
   "metadata": {},
   "outputs": [],
   "source": [
    "corrplot(res1, tl.col = \"black\", tl.srt = 90, tl.cex = 0.7, method= \"square\", order = \"alphabet\", number.cex = 0.5)"
   ]
  },
  {
   "cell_type": "code",
   "execution_count": null,
   "metadata": {},
   "outputs": [],
   "source": []
  }
 ],
 "metadata": {
  "kernelspec": {
   "display_name": "R",
   "language": "R",
   "name": "ir"
  },
  "language_info": {
   "codemirror_mode": "r",
   "file_extension": ".r",
   "mimetype": "text/x-r-source",
   "name": "R",
   "pygments_lexer": "r",
   "version": "3.5.1"
  }
 },
 "nbformat": 4,
 "nbformat_minor": 2
}
