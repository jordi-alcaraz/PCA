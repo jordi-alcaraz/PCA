{
 "cells": [
  {
   "cell_type": "code",
   "execution_count": 4,
   "metadata": {},
   "outputs": [
    {
     "name": "stderr",
     "output_type": "stream",
     "text": [
      "Loading required package: ggplot2\n",
      "Welcome! Want to learn more? See two factoextra-related books at https://goo.gl/ve3WBa\n"
     ]
    }
   ],
   "source": [
    "library(\"factoextra\")\n",
    "options(repr.plot.width=12, repr.plot.height=13)"
   ]
  },
  {
   "cell_type": "code",
   "execution_count": 5,
   "metadata": {},
   "outputs": [
    {
     "data": {
      "text/html": [
       "O2\n",
       "<details>\n",
       "\t<summary style=display:list-item;cursor:pointer>\n",
       "\t\t<strong>Levels</strong>:\n",
       "\t</summary>\n",
       "\t'O2'\n",
       "</details>"
      ],
      "text/latex": [
       "O2\n",
       "\\emph{Levels}: 'O2'"
      ],
      "text/markdown": [
       "O2\n",
       "**Levels**: 'O2'"
      ],
      "text/plain": [
       "[1] O2\n",
       "Levels: O2"
      ]
     },
     "metadata": {},
     "output_type": "display_data"
    }
   ],
   "source": [
    "path=\"C:/Users/Jordi/New_Jupyter/\"\n",
    "setwd(path)\n",
    "mydata = read.csv(\"threads_ideal_data_partial_sp_cl+listR.csv\", sep=\";\")\n",
    "unique(mydata[,\"comp_opt\"])"
   ]
  },
  {
   "cell_type": "code",
   "execution_count": 6,
   "metadata": {},
   "outputs": [
    {
     "data": {
      "text/html": [
       "<ol class=list-inline>\n",
       "\t<li>'id'</li>\n",
       "\t<li>'size_vector'</li>\n",
       "\t<li>'comp_opt'</li>\n",
       "\t<li>'label'</li>\n",
       "\t<li>'threads'</li>\n",
       "\t<li>'PAPI_L1_DCM'</li>\n",
       "\t<li>'PAPI_L3_TCM'</li>\n",
       "\t<li>'PAPI_TOT_INS'</li>\n",
       "\t<li>'PAPI_REF_CYC'</li>\n",
       "\t<li>'PAPI_L2_LDM'</li>\n",
       "\t<li>'PAPI_SR_INS'</li>\n",
       "\t<li>'time_x'</li>\n",
       "\t<li>'PAPI_BR_UCN'</li>\n",
       "\t<li>'PAPI_BR_CN'</li>\n",
       "\t<li>'PAPI_BR_TKN'</li>\n",
       "\t<li>'PAPI_BR_MSP'</li>\n",
       "\t<li>'time_y'</li>\n",
       "\t<li>'PAPI_FP_OPS'</li>\n",
       "\t<li>'PAPI_L1_LDM'</li>\n",
       "\t<li>'PAPI_L1_STM'</li>\n",
       "\t<li>'time_x.1'</li>\n",
       "\t<li>'PAPI_SP_OPS'</li>\n",
       "\t<li>'PAPI_LD_INS'</li>\n",
       "\t<li>'PAPI_L2_STM'</li>\n",
       "\t<li>'time_y.1'</li>\n",
       "\t<li>'PAPI_TLB_DM'</li>\n",
       "\t<li>'PAPI_L2_DCH'</li>\n",
       "\t<li>'time'</li>\n",
       "\t<li>'time_log'</li>\n",
       "\t<li>'P_index'</li>\n",
       "\t<li>'ideal'</li>\n",
       "\t<li>'affinity'</li>\n",
       "\t<li>'T_list'</li>\n",
       "\t<li>'P_list'</li>\n",
       "</ol>\n"
      ],
      "text/latex": [
       "\\begin{enumerate*}\n",
       "\\item 'id'\n",
       "\\item 'size\\_vector'\n",
       "\\item 'comp\\_opt'\n",
       "\\item 'label'\n",
       "\\item 'threads'\n",
       "\\item 'PAPI\\_L1\\_DCM'\n",
       "\\item 'PAPI\\_L3\\_TCM'\n",
       "\\item 'PAPI\\_TOT\\_INS'\n",
       "\\item 'PAPI\\_REF\\_CYC'\n",
       "\\item 'PAPI\\_L2\\_LDM'\n",
       "\\item 'PAPI\\_SR\\_INS'\n",
       "\\item 'time\\_x'\n",
       "\\item 'PAPI\\_BR\\_UCN'\n",
       "\\item 'PAPI\\_BR\\_CN'\n",
       "\\item 'PAPI\\_BR\\_TKN'\n",
       "\\item 'PAPI\\_BR\\_MSP'\n",
       "\\item 'time\\_y'\n",
       "\\item 'PAPI\\_FP\\_OPS'\n",
       "\\item 'PAPI\\_L1\\_LDM'\n",
       "\\item 'PAPI\\_L1\\_STM'\n",
       "\\item 'time\\_x.1'\n",
       "\\item 'PAPI\\_SP\\_OPS'\n",
       "\\item 'PAPI\\_LD\\_INS'\n",
       "\\item 'PAPI\\_L2\\_STM'\n",
       "\\item 'time\\_y.1'\n",
       "\\item 'PAPI\\_TLB\\_DM'\n",
       "\\item 'PAPI\\_L2\\_DCH'\n",
       "\\item 'time'\n",
       "\\item 'time\\_log'\n",
       "\\item 'P\\_index'\n",
       "\\item 'ideal'\n",
       "\\item 'affinity'\n",
       "\\item 'T\\_list'\n",
       "\\item 'P\\_list'\n",
       "\\end{enumerate*}\n"
      ],
      "text/markdown": [
       "1. 'id'\n",
       "2. 'size_vector'\n",
       "3. 'comp_opt'\n",
       "4. 'label'\n",
       "5. 'threads'\n",
       "6. 'PAPI_L1_DCM'\n",
       "7. 'PAPI_L3_TCM'\n",
       "8. 'PAPI_TOT_INS'\n",
       "9. 'PAPI_REF_CYC'\n",
       "10. 'PAPI_L2_LDM'\n",
       "11. 'PAPI_SR_INS'\n",
       "12. 'time_x'\n",
       "13. 'PAPI_BR_UCN'\n",
       "14. 'PAPI_BR_CN'\n",
       "15. 'PAPI_BR_TKN'\n",
       "16. 'PAPI_BR_MSP'\n",
       "17. 'time_y'\n",
       "18. 'PAPI_FP_OPS'\n",
       "19. 'PAPI_L1_LDM'\n",
       "20. 'PAPI_L1_STM'\n",
       "21. 'time_x.1'\n",
       "22. 'PAPI_SP_OPS'\n",
       "23. 'PAPI_LD_INS'\n",
       "24. 'PAPI_L2_STM'\n",
       "25. 'time_y.1'\n",
       "26. 'PAPI_TLB_DM'\n",
       "27. 'PAPI_L2_DCH'\n",
       "28. 'time'\n",
       "29. 'time_log'\n",
       "30. 'P_index'\n",
       "31. 'ideal'\n",
       "32. 'affinity'\n",
       "33. 'T_list'\n",
       "34. 'P_list'\n",
       "\n",
       "\n"
      ],
      "text/plain": [
       " [1] \"id\"           \"size_vector\"  \"comp_opt\"     \"label\"        \"threads\"     \n",
       " [6] \"PAPI_L1_DCM\"  \"PAPI_L3_TCM\"  \"PAPI_TOT_INS\" \"PAPI_REF_CYC\" \"PAPI_L2_LDM\" \n",
       "[11] \"PAPI_SR_INS\"  \"time_x\"       \"PAPI_BR_UCN\"  \"PAPI_BR_CN\"   \"PAPI_BR_TKN\" \n",
       "[16] \"PAPI_BR_MSP\"  \"time_y\"       \"PAPI_FP_OPS\"  \"PAPI_L1_LDM\"  \"PAPI_L1_STM\" \n",
       "[21] \"time_x.1\"     \"PAPI_SP_OPS\"  \"PAPI_LD_INS\"  \"PAPI_L2_STM\"  \"time_y.1\"    \n",
       "[26] \"PAPI_TLB_DM\"  \"PAPI_L2_DCH\"  \"time\"         \"time_log\"     \"P_index\"     \n",
       "[31] \"ideal\"        \"affinity\"     \"T_list\"       \"P_list\"      "
      ]
     },
     "metadata": {},
     "output_type": "display_data"
    }
   ],
   "source": [
    "colnames(mydata)"
   ]
  },
  {
   "cell_type": "code",
   "execution_count": 7,
   "metadata": {},
   "outputs": [],
   "source": [
    "library(stringr)\n",
    "colnames(mydata)<-gsub(x = names(mydata), pattern = \"\\\\.\", replacement = \"_\" )"
   ]
  },
  {
   "cell_type": "code",
   "execution_count": 8,
   "metadata": {},
   "outputs": [],
   "source": [
    "#colnames(mydata)"
   ]
  },
  {
   "cell_type": "code",
   "execution_count": 9,
   "metadata": {},
   "outputs": [
    {
     "data": {
      "text/html": [
       "6"
      ],
      "text/latex": [
       "6"
      ],
      "text/markdown": [
       "6"
      ],
      "text/plain": [
       "[1] 6"
      ]
     },
     "metadata": {},
     "output_type": "display_data"
    }
   ],
   "source": [
    "mydata = mydata[mydata$affinity == 'spread',]\n",
    "mydata = mydata[mydata$threads == 6,]\n",
    "unique(mydata$threads)\n",
    "mydata_no_time <- subset(mydata, select = -c(P_list))\n",
    "mydata_no_time <- subset(mydata_no_time, select = -c(T_list))\n",
    "mydata_no_time <- subset(mydata_no_time, select = -c(ideal))\n",
    "mydata_no_time <- subset(mydata_no_time, select = -c(P_index))\n",
    "mydata_no_time <- subset(mydata_no_time, select = -c(time_log))\n",
    "mydata_no_time <- subset(mydata_no_time, select = -c(time))\n",
    "mydata_no_time <- subset(mydata_no_time, select = -c(time_y_1))\n",
    "mydata_no_time <- subset(mydata_no_time, select = -c(time_x_1))\n",
    "mydata_no_time <- subset(mydata_no_time, select = -c(time_x))\n",
    "mydata_no_time <- subset(mydata_no_time, select = -c(time_y))\n",
    "mydata_no_time <- subset(mydata_no_time, select = -c(affinity))\n",
    "\n",
    "\n",
    "\n",
    "\n",
    "mydata_no_time <- subset(mydata_no_time, select = -c(PAPI_SP_OPS))\n",
    "\n"
   ]
  },
  {
   "cell_type": "code",
   "execution_count": 10,
   "metadata": {},
   "outputs": [
    {
     "data": {
      "text/html": [
       "<ol class=list-inline>\n",
       "\t<li>'id'</li>\n",
       "\t<li>'size_vector'</li>\n",
       "\t<li>'comp_opt'</li>\n",
       "\t<li>'label'</li>\n",
       "\t<li>'threads'</li>\n",
       "\t<li>'PAPI_L1_DCM'</li>\n",
       "\t<li>'PAPI_L3_TCM'</li>\n",
       "\t<li>'PAPI_TOT_INS'</li>\n",
       "\t<li>'PAPI_REF_CYC'</li>\n",
       "\t<li>'PAPI_L2_LDM'</li>\n",
       "\t<li>'PAPI_SR_INS'</li>\n",
       "\t<li>'PAPI_BR_UCN'</li>\n",
       "\t<li>'PAPI_BR_CN'</li>\n",
       "\t<li>'PAPI_BR_TKN'</li>\n",
       "\t<li>'PAPI_BR_MSP'</li>\n",
       "\t<li>'PAPI_FP_OPS'</li>\n",
       "\t<li>'PAPI_L1_LDM'</li>\n",
       "\t<li>'PAPI_L1_STM'</li>\n",
       "\t<li>'PAPI_LD_INS'</li>\n",
       "\t<li>'PAPI_L2_STM'</li>\n",
       "\t<li>'PAPI_TLB_DM'</li>\n",
       "\t<li>'PAPI_L2_DCH'</li>\n",
       "</ol>\n"
      ],
      "text/latex": [
       "\\begin{enumerate*}\n",
       "\\item 'id'\n",
       "\\item 'size\\_vector'\n",
       "\\item 'comp\\_opt'\n",
       "\\item 'label'\n",
       "\\item 'threads'\n",
       "\\item 'PAPI\\_L1\\_DCM'\n",
       "\\item 'PAPI\\_L3\\_TCM'\n",
       "\\item 'PAPI\\_TOT\\_INS'\n",
       "\\item 'PAPI\\_REF\\_CYC'\n",
       "\\item 'PAPI\\_L2\\_LDM'\n",
       "\\item 'PAPI\\_SR\\_INS'\n",
       "\\item 'PAPI\\_BR\\_UCN'\n",
       "\\item 'PAPI\\_BR\\_CN'\n",
       "\\item 'PAPI\\_BR\\_TKN'\n",
       "\\item 'PAPI\\_BR\\_MSP'\n",
       "\\item 'PAPI\\_FP\\_OPS'\n",
       "\\item 'PAPI\\_L1\\_LDM'\n",
       "\\item 'PAPI\\_L1\\_STM'\n",
       "\\item 'PAPI\\_LD\\_INS'\n",
       "\\item 'PAPI\\_L2\\_STM'\n",
       "\\item 'PAPI\\_TLB\\_DM'\n",
       "\\item 'PAPI\\_L2\\_DCH'\n",
       "\\end{enumerate*}\n"
      ],
      "text/markdown": [
       "1. 'id'\n",
       "2. 'size_vector'\n",
       "3. 'comp_opt'\n",
       "4. 'label'\n",
       "5. 'threads'\n",
       "6. 'PAPI_L1_DCM'\n",
       "7. 'PAPI_L3_TCM'\n",
       "8. 'PAPI_TOT_INS'\n",
       "9. 'PAPI_REF_CYC'\n",
       "10. 'PAPI_L2_LDM'\n",
       "11. 'PAPI_SR_INS'\n",
       "12. 'PAPI_BR_UCN'\n",
       "13. 'PAPI_BR_CN'\n",
       "14. 'PAPI_BR_TKN'\n",
       "15. 'PAPI_BR_MSP'\n",
       "16. 'PAPI_FP_OPS'\n",
       "17. 'PAPI_L1_LDM'\n",
       "18. 'PAPI_L1_STM'\n",
       "19. 'PAPI_LD_INS'\n",
       "20. 'PAPI_L2_STM'\n",
       "21. 'PAPI_TLB_DM'\n",
       "22. 'PAPI_L2_DCH'\n",
       "\n",
       "\n"
      ],
      "text/plain": [
       " [1] \"id\"           \"size_vector\"  \"comp_opt\"     \"label\"        \"threads\"     \n",
       " [6] \"PAPI_L1_DCM\"  \"PAPI_L3_TCM\"  \"PAPI_TOT_INS\" \"PAPI_REF_CYC\" \"PAPI_L2_LDM\" \n",
       "[11] \"PAPI_SR_INS\"  \"PAPI_BR_UCN\"  \"PAPI_BR_CN\"   \"PAPI_BR_TKN\"  \"PAPI_BR_MSP\" \n",
       "[16] \"PAPI_FP_OPS\"  \"PAPI_L1_LDM\"  \"PAPI_L1_STM\"  \"PAPI_LD_INS\"  \"PAPI_L2_STM\" \n",
       "[21] \"PAPI_TLB_DM\"  \"PAPI_L2_DCH\" "
      ]
     },
     "metadata": {},
     "output_type": "display_data"
    }
   ],
   "source": [
    "colnames(mydata_no_time)"
   ]
  },
  {
   "cell_type": "code",
   "execution_count": 11,
   "metadata": {},
   "outputs": [],
   "source": [
    "#mydata = mydata[mydata$comp_opt != 'NF',]\n",
    "#mydata = mydata[mydata$comp_opt != 'O1',]\n",
    "#mydata = mydata[mydata$label != '2D4PStencil_E',]\n",
    "#mydata = mydata[mydata$label != 'Reduction_E',]\n",
    "#mydata = mydata[mydata$label != '2PStencil_E',]\n",
    "\n",
    "#head(mydata)\n",
    "#unique(mydata[,\"comp_opt\"])"
   ]
  },
  {
   "cell_type": "code",
   "execution_count": 12,
   "metadata": {},
   "outputs": [],
   "source": [
    "#head(mydata)"
   ]
  },
  {
   "cell_type": "code",
   "execution_count": 13,
   "metadata": {},
   "outputs": [
    {
     "data": {
      "text/html": [
       "<ol class=list-inline>\n",
       "\t<li>'1 K'</li>\n",
       "\t<li>'2 K'</li>\n",
       "\t<li>'3 K'</li>\n",
       "\t<li>'4 K'</li>\n",
       "\t<li>'5 K'</li>\n",
       "\t<li>'6 K'</li>\n",
       "\t<li>'7 K'</li>\n",
       "\t<li>'8 K'</li>\n",
       "\t<li>'9 K'</li>\n",
       "\t<li>'10 K'</li>\n",
       "\t<li>'20 K'</li>\n",
       "\t<li>'30 K'</li>\n",
       "\t<li>'40 K'</li>\n",
       "\t<li>'50 K'</li>\n",
       "\t<li>'60 K'</li>\n",
       "\t<li>'70 K'</li>\n",
       "\t<li>'80 K'</li>\n",
       "\t<li>'90 K'</li>\n",
       "\t<li>'100 K'</li>\n",
       "\t<li>'200 K'</li>\n",
       "\t<li>'300 K'</li>\n",
       "\t<li>'400 K'</li>\n",
       "\t<li>'500 K'</li>\n",
       "\t<li>'600 K'</li>\n",
       "\t<li>'700 K'</li>\n",
       "\t<li>'800 K'</li>\n",
       "\t<li>'900 K'</li>\n",
       "\t<li>'1 M'</li>\n",
       "\t<li>'2 M'</li>\n",
       "\t<li>'3 M'</li>\n",
       "\t<li>'5 M'</li>\n",
       "\t<li>'7 M'</li>\n",
       "\t<li>'9 M'</li>\n",
       "\t<li>'20 M'</li>\n",
       "\t<li>'40 M'</li>\n",
       "\t<li>'60 M'</li>\n",
       "\t<li>'80 M'</li>\n",
       "\t<li>'100 M'</li>\n",
       "\t<li>'120 M'</li>\n",
       "\t<li>'140 M'</li>\n",
       "\t<li>'160 M'</li>\n",
       "\t<li>'180 M'</li>\n",
       "\t<li>'200 M'</li>\n",
       "</ol>\n"
      ],
      "text/latex": [
       "\\begin{enumerate*}\n",
       "\\item '1 K'\n",
       "\\item '2 K'\n",
       "\\item '3 K'\n",
       "\\item '4 K'\n",
       "\\item '5 K'\n",
       "\\item '6 K'\n",
       "\\item '7 K'\n",
       "\\item '8 K'\n",
       "\\item '9 K'\n",
       "\\item '10 K'\n",
       "\\item '20 K'\n",
       "\\item '30 K'\n",
       "\\item '40 K'\n",
       "\\item '50 K'\n",
       "\\item '60 K'\n",
       "\\item '70 K'\n",
       "\\item '80 K'\n",
       "\\item '90 K'\n",
       "\\item '100 K'\n",
       "\\item '200 K'\n",
       "\\item '300 K'\n",
       "\\item '400 K'\n",
       "\\item '500 K'\n",
       "\\item '600 K'\n",
       "\\item '700 K'\n",
       "\\item '800 K'\n",
       "\\item '900 K'\n",
       "\\item '1 M'\n",
       "\\item '2 M'\n",
       "\\item '3 M'\n",
       "\\item '5 M'\n",
       "\\item '7 M'\n",
       "\\item '9 M'\n",
       "\\item '20 M'\n",
       "\\item '40 M'\n",
       "\\item '60 M'\n",
       "\\item '80 M'\n",
       "\\item '100 M'\n",
       "\\item '120 M'\n",
       "\\item '140 M'\n",
       "\\item '160 M'\n",
       "\\item '180 M'\n",
       "\\item '200 M'\n",
       "\\end{enumerate*}\n"
      ],
      "text/markdown": [
       "1. '1 K'\n",
       "2. '2 K'\n",
       "3. '3 K'\n",
       "4. '4 K'\n",
       "5. '5 K'\n",
       "6. '6 K'\n",
       "7. '7 K'\n",
       "8. '8 K'\n",
       "9. '9 K'\n",
       "10. '10 K'\n",
       "11. '20 K'\n",
       "12. '30 K'\n",
       "13. '40 K'\n",
       "14. '50 K'\n",
       "15. '60 K'\n",
       "16. '70 K'\n",
       "17. '80 K'\n",
       "18. '90 K'\n",
       "19. '100 K'\n",
       "20. '200 K'\n",
       "21. '300 K'\n",
       "22. '400 K'\n",
       "23. '500 K'\n",
       "24. '600 K'\n",
       "25. '700 K'\n",
       "26. '800 K'\n",
       "27. '900 K'\n",
       "28. '1 M'\n",
       "29. '2 M'\n",
       "30. '3 M'\n",
       "31. '5 M'\n",
       "32. '7 M'\n",
       "33. '9 M'\n",
       "34. '20 M'\n",
       "35. '40 M'\n",
       "36. '60 M'\n",
       "37. '80 M'\n",
       "38. '100 M'\n",
       "39. '120 M'\n",
       "40. '140 M'\n",
       "41. '160 M'\n",
       "42. '180 M'\n",
       "43. '200 M'\n",
       "\n",
       "\n"
      ],
      "text/plain": [
       " [1] \"1 K\"   \"2 K\"   \"3 K\"   \"4 K\"   \"5 K\"   \"6 K\"   \"7 K\"   \"8 K\"   \"9 K\"  \n",
       "[10] \"10 K\"  \"20 K\"  \"30 K\"  \"40 K\"  \"50 K\"  \"60 K\"  \"70 K\"  \"80 K\"  \"90 K\" \n",
       "[19] \"100 K\" \"200 K\" \"300 K\" \"400 K\" \"500 K\" \"600 K\" \"700 K\" \"800 K\" \"900 K\"\n",
       "[28] \"1 M\"   \"2 M\"   \"3 M\"   \"5 M\"   \"7 M\"   \"9 M\"   \"20 M\"  \"40 M\"  \"60 M\" \n",
       "[37] \"80 M\"  \"100 M\" \"120 M\" \"140 M\" \"160 M\" \"180 M\" \"200 M\""
      ]
     },
     "metadata": {},
     "output_type": "display_data"
    }
   ],
   "source": [
    "dfu <- unique(mydata_no_time$size_vector)\n",
    "#dfu[order(dfu)]\n",
    "\n",
    "comprss <- function(tx) { \n",
    "      div <- findInterval(as.numeric(gsub(\"\\\\,\", \"\", tx)), \n",
    "                          c(1, 1e3, 1e6, 1e9, 1e12) )\n",
    "      paste(round( as.numeric(gsub(\"\\\\,\",\"\",tx))/10^(3*(div-1)), 2), \n",
    "           c(\"\",\"K\",\"M\",\"B\",\"T\")[div] )}\n",
    "comprss(dfu[order(dfu)])\n",
    "\n"
   ]
  },
  {
   "cell_type": "code",
   "execution_count": 14,
   "metadata": {},
   "outputs": [],
   "source": [
    "#print(new_mydata[,c(\"PAPI_VEC_SP\",\"PAPI_VEC_DP\")])\n",
    "#print(mydata[,c(\"PAPI_VEC_SP\",\"PAPI_SP_OPS\")])"
   ]
  },
  {
   "cell_type": "code",
   "execution_count": 15,
   "metadata": {},
   "outputs": [],
   "source": [
    "#div = mydata$PAPI_SP_OPS/mydata$PAPI_VEC_SP\n",
    "#div <- na.omit(div)\n",
    "#subs = mydata$PAPI_BR_INS-(mydata$PAPI_BR_CN + mydata$PAPI_BR_UCN)"
   ]
  },
  {
   "cell_type": "code",
   "execution_count": 16,
   "metadata": {
    "scrolled": false
   },
   "outputs": [],
   "source": [
    "#mean(div)\n",
    "#quantile(div,0.25)\n",
    "#quantile(div,0.5)\n",
    "#quantile(div,0.75)\n",
    "#boxplot(div)"
   ]
  },
  {
   "cell_type": "code",
   "execution_count": 17,
   "metadata": {
    "scrolled": true
   },
   "outputs": [],
   "source": [
    "#print(mydata[,c(\"PAPI_BR_INS\",\"PAPI_BR_CN\",\"PAPI_BR_UCN\")])#subs = mydata$PAPI_BR_INS-(mydata$PAPI_BR_CN/mydata$PAPI_BR_UCN)\n",
    "#print(subs)\n",
    "#perc = subs/mydata$PAPI_BR_INS\n",
    "\n",
    "#head(percent(perc[order(perc,decreasing = TRUE)]))"
   ]
  },
  {
   "cell_type": "code",
   "execution_count": 18,
   "metadata": {},
   "outputs": [
    {
     "data": {
      "text/html": [
       "TRUE"
      ],
      "text/latex": [
       "TRUE"
      ],
      "text/markdown": [
       "TRUE"
      ],
      "text/plain": [
       "[1] TRUE"
      ]
     },
     "metadata": {},
     "output_type": "display_data"
    }
   ],
   "source": [
    "#all(new_mydata$PAPI_VEC_SP == new_mydata$PAPI_VEC_DP)\n",
    "all(mydata_no_time$PAPI_DP_SP == mydata_no_time$PAPI_SP_OPS)"
   ]
  },
  {
   "cell_type": "code",
   "execution_count": 19,
   "metadata": {},
   "outputs": [
    {
     "data": {
      "text/html": [
       "<ol class=list-inline>\n",
       "\t<li>'id'</li>\n",
       "\t<li>'size_vector'</li>\n",
       "\t<li>'comp_opt'</li>\n",
       "\t<li>'label'</li>\n",
       "\t<li>'threads'</li>\n",
       "\t<li>'PAPI_L1_DCM'</li>\n",
       "\t<li>'PAPI_L3_TCM'</li>\n",
       "\t<li>'PAPI_TOT_INS'</li>\n",
       "\t<li>'PAPI_REF_CYC'</li>\n",
       "\t<li>'PAPI_L2_LDM'</li>\n",
       "\t<li>'PAPI_SR_INS'</li>\n",
       "\t<li>'PAPI_BR_UCN'</li>\n",
       "\t<li>'PAPI_BR_CN'</li>\n",
       "\t<li>'PAPI_BR_TKN'</li>\n",
       "\t<li>'PAPI_BR_MSP'</li>\n",
       "\t<li>'PAPI_FP_OPS'</li>\n",
       "\t<li>'PAPI_L1_LDM'</li>\n",
       "\t<li>'PAPI_L1_STM'</li>\n",
       "\t<li>'PAPI_LD_INS'</li>\n",
       "\t<li>'PAPI_L2_STM'</li>\n",
       "\t<li>'PAPI_TLB_DM'</li>\n",
       "\t<li>'PAPI_L2_DCH'</li>\n",
       "</ol>\n"
      ],
      "text/latex": [
       "\\begin{enumerate*}\n",
       "\\item 'id'\n",
       "\\item 'size\\_vector'\n",
       "\\item 'comp\\_opt'\n",
       "\\item 'label'\n",
       "\\item 'threads'\n",
       "\\item 'PAPI\\_L1\\_DCM'\n",
       "\\item 'PAPI\\_L3\\_TCM'\n",
       "\\item 'PAPI\\_TOT\\_INS'\n",
       "\\item 'PAPI\\_REF\\_CYC'\n",
       "\\item 'PAPI\\_L2\\_LDM'\n",
       "\\item 'PAPI\\_SR\\_INS'\n",
       "\\item 'PAPI\\_BR\\_UCN'\n",
       "\\item 'PAPI\\_BR\\_CN'\n",
       "\\item 'PAPI\\_BR\\_TKN'\n",
       "\\item 'PAPI\\_BR\\_MSP'\n",
       "\\item 'PAPI\\_FP\\_OPS'\n",
       "\\item 'PAPI\\_L1\\_LDM'\n",
       "\\item 'PAPI\\_L1\\_STM'\n",
       "\\item 'PAPI\\_LD\\_INS'\n",
       "\\item 'PAPI\\_L2\\_STM'\n",
       "\\item 'PAPI\\_TLB\\_DM'\n",
       "\\item 'PAPI\\_L2\\_DCH'\n",
       "\\end{enumerate*}\n"
      ],
      "text/markdown": [
       "1. 'id'\n",
       "2. 'size_vector'\n",
       "3. 'comp_opt'\n",
       "4. 'label'\n",
       "5. 'threads'\n",
       "6. 'PAPI_L1_DCM'\n",
       "7. 'PAPI_L3_TCM'\n",
       "8. 'PAPI_TOT_INS'\n",
       "9. 'PAPI_REF_CYC'\n",
       "10. 'PAPI_L2_LDM'\n",
       "11. 'PAPI_SR_INS'\n",
       "12. 'PAPI_BR_UCN'\n",
       "13. 'PAPI_BR_CN'\n",
       "14. 'PAPI_BR_TKN'\n",
       "15. 'PAPI_BR_MSP'\n",
       "16. 'PAPI_FP_OPS'\n",
       "17. 'PAPI_L1_LDM'\n",
       "18. 'PAPI_L1_STM'\n",
       "19. 'PAPI_LD_INS'\n",
       "20. 'PAPI_L2_STM'\n",
       "21. 'PAPI_TLB_DM'\n",
       "22. 'PAPI_L2_DCH'\n",
       "\n",
       "\n"
      ],
      "text/plain": [
       " [1] \"id\"           \"size_vector\"  \"comp_opt\"     \"label\"        \"threads\"     \n",
       " [6] \"PAPI_L1_DCM\"  \"PAPI_L3_TCM\"  \"PAPI_TOT_INS\" \"PAPI_REF_CYC\" \"PAPI_L2_LDM\" \n",
       "[11] \"PAPI_SR_INS\"  \"PAPI_BR_UCN\"  \"PAPI_BR_CN\"   \"PAPI_BR_TKN\"  \"PAPI_BR_MSP\" \n",
       "[16] \"PAPI_FP_OPS\"  \"PAPI_L1_LDM\"  \"PAPI_L1_STM\"  \"PAPI_LD_INS\"  \"PAPI_L2_STM\" \n",
       "[21] \"PAPI_TLB_DM\"  \"PAPI_L2_DCH\" "
      ]
     },
     "metadata": {},
     "output_type": "display_data"
    }
   ],
   "source": [
    "colnames(mydata_no_time)"
   ]
  },
  {
   "cell_type": "code",
   "execution_count": 20,
   "metadata": {},
   "outputs": [
    {
     "data": {
      "text/html": [
       "<ol class=list-inline>\n",
       "\t<li>'PAPI_L1_DCM'</li>\n",
       "\t<li>'PAPI_L3_TCM'</li>\n",
       "\t<li>'PAPI_TOT_INS'</li>\n",
       "\t<li>'PAPI_REF_CYC'</li>\n",
       "\t<li>'PAPI_L2_LDM'</li>\n",
       "\t<li>'PAPI_SR_INS'</li>\n",
       "\t<li>'PAPI_BR_UCN'</li>\n",
       "\t<li>'PAPI_BR_CN'</li>\n",
       "\t<li>'PAPI_BR_TKN'</li>\n",
       "\t<li>'PAPI_BR_MSP'</li>\n",
       "\t<li>'PAPI_FP_OPS'</li>\n",
       "\t<li>'PAPI_L1_LDM'</li>\n",
       "\t<li>'PAPI_L1_STM'</li>\n",
       "\t<li>'PAPI_LD_INS'</li>\n",
       "\t<li>'PAPI_L2_STM'</li>\n",
       "\t<li>'PAPI_TLB_DM'</li>\n",
       "\t<li>'PAPI_L2_DCH'</li>\n",
       "</ol>\n"
      ],
      "text/latex": [
       "\\begin{enumerate*}\n",
       "\\item 'PAPI\\_L1\\_DCM'\n",
       "\\item 'PAPI\\_L3\\_TCM'\n",
       "\\item 'PAPI\\_TOT\\_INS'\n",
       "\\item 'PAPI\\_REF\\_CYC'\n",
       "\\item 'PAPI\\_L2\\_LDM'\n",
       "\\item 'PAPI\\_SR\\_INS'\n",
       "\\item 'PAPI\\_BR\\_UCN'\n",
       "\\item 'PAPI\\_BR\\_CN'\n",
       "\\item 'PAPI\\_BR\\_TKN'\n",
       "\\item 'PAPI\\_BR\\_MSP'\n",
       "\\item 'PAPI\\_FP\\_OPS'\n",
       "\\item 'PAPI\\_L1\\_LDM'\n",
       "\\item 'PAPI\\_L1\\_STM'\n",
       "\\item 'PAPI\\_LD\\_INS'\n",
       "\\item 'PAPI\\_L2\\_STM'\n",
       "\\item 'PAPI\\_TLB\\_DM'\n",
       "\\item 'PAPI\\_L2\\_DCH'\n",
       "\\end{enumerate*}\n"
      ],
      "text/markdown": [
       "1. 'PAPI_L1_DCM'\n",
       "2. 'PAPI_L3_TCM'\n",
       "3. 'PAPI_TOT_INS'\n",
       "4. 'PAPI_REF_CYC'\n",
       "5. 'PAPI_L2_LDM'\n",
       "6. 'PAPI_SR_INS'\n",
       "7. 'PAPI_BR_UCN'\n",
       "8. 'PAPI_BR_CN'\n",
       "9. 'PAPI_BR_TKN'\n",
       "10. 'PAPI_BR_MSP'\n",
       "11. 'PAPI_FP_OPS'\n",
       "12. 'PAPI_L1_LDM'\n",
       "13. 'PAPI_L1_STM'\n",
       "14. 'PAPI_LD_INS'\n",
       "15. 'PAPI_L2_STM'\n",
       "16. 'PAPI_TLB_DM'\n",
       "17. 'PAPI_L2_DCH'\n",
       "\n",
       "\n"
      ],
      "text/plain": [
       " [1] \"PAPI_L1_DCM\"  \"PAPI_L3_TCM\"  \"PAPI_TOT_INS\" \"PAPI_REF_CYC\" \"PAPI_L2_LDM\" \n",
       " [6] \"PAPI_SR_INS\"  \"PAPI_BR_UCN\"  \"PAPI_BR_CN\"   \"PAPI_BR_TKN\"  \"PAPI_BR_MSP\" \n",
       "[11] \"PAPI_FP_OPS\"  \"PAPI_L1_LDM\"  \"PAPI_L1_STM\"  \"PAPI_LD_INS\"  \"PAPI_L2_STM\" \n",
       "[16] \"PAPI_TLB_DM\"  \"PAPI_L2_DCH\" "
      ]
     },
     "metadata": {},
     "output_type": "display_data"
    }
   ],
   "source": [
    "colnames(mydata_no_time[6:ncol(mydata_no_time)])"
   ]
  },
  {
   "cell_type": "code",
   "execution_count": 21,
   "metadata": {},
   "outputs": [
    {
     "data": {
      "text/html": [
       "<ol class=list-inline>\n",
       "\t<li>64500</li>\n",
       "\t<li>17</li>\n",
       "</ol>\n"
      ],
      "text/latex": [
       "\\begin{enumerate*}\n",
       "\\item 64500\n",
       "\\item 17\n",
       "\\end{enumerate*}\n"
      ],
      "text/markdown": [
       "1. 64500\n",
       "2. 17\n",
       "\n",
       "\n"
      ],
      "text/plain": [
       "[1] 64500    17"
      ]
     },
     "metadata": {},
     "output_type": "display_data"
    }
   ],
   "source": [
    "new_mydata = mydata_no_time[,6:ncol(mydata_no_time)]\n",
    "dim(new_mydata)\n"
   ]
  },
  {
   "cell_type": "code",
   "execution_count": 22,
   "metadata": {
    "scrolled": true
   },
   "outputs": [
    {
     "data": {
      "text/html": [
       "<table>\n",
       "<thead><tr><th></th><th scope=col>PAPI_L1_DCM</th><th scope=col>PAPI_L3_TCM</th><th scope=col>PAPI_TOT_INS</th><th scope=col>PAPI_REF_CYC</th><th scope=col>PAPI_L2_LDM</th><th scope=col>PAPI_SR_INS</th><th scope=col>PAPI_BR_UCN</th><th scope=col>PAPI_BR_CN</th><th scope=col>PAPI_BR_TKN</th><th scope=col>PAPI_BR_MSP</th><th scope=col>PAPI_FP_OPS</th><th scope=col>PAPI_L1_LDM</th><th scope=col>PAPI_L1_STM</th><th scope=col>PAPI_LD_INS</th><th scope=col>PAPI_L2_STM</th><th scope=col>PAPI_TLB_DM</th><th scope=col>PAPI_L2_DCH</th></tr></thead>\n",
       "<tbody>\n",
       "\t<tr><th scope=row>792001</th><td>24617  </td><td>9499   </td><td>1478623</td><td>2662416</td><td>8432   </td><td>109538 </td><td>8239   </td><td>337162 </td><td>229506 </td><td>1730   </td><td>129    </td><td>12249  </td><td>8574   </td><td>244897 </td><td>7467   </td><td>529    </td><td> 4917  </td></tr>\n",
       "\t<tr><th scope=row>792002</th><td>23227  </td><td> 102   </td><td>2274481</td><td>3496662</td><td>3924   </td><td>108220 </td><td>8012   </td><td>604108 </td><td>363338 </td><td>1363   </td><td> 75    </td><td>12134  </td><td>9311   </td><td>379693 </td><td>3998   </td><td> 75    </td><td>12686  </td></tr>\n",
       "\t<tr><th scope=row>792003</th><td>23279  </td><td> 109   </td><td>2293204</td><td>3520278</td><td>2749   </td><td>108220 </td><td>8017   </td><td>634602 </td><td>378424 </td><td>1417   </td><td> 75    </td><td>12272  </td><td>9685   </td><td>376522 </td><td>1743   </td><td> 70    </td><td>17507  </td></tr>\n",
       "\t<tr><th scope=row>792004</th><td>23230  </td><td> 115   </td><td>2273370</td><td>3474990</td><td>2299   </td><td>108226 </td><td>8021   </td><td>598883 </td><td>360332 </td><td>1353   </td><td> 69    </td><td>12252  </td><td>9700   </td><td>371659 </td><td>1411   </td><td> 59    </td><td>18315  </td></tr>\n",
       "\t<tr><th scope=row>792005</th><td>23202  </td><td> 125   </td><td>2293132</td><td>3513654</td><td>2621   </td><td>108220 </td><td>8021   </td><td>586851 </td><td>354298 </td><td>1325   </td><td> 81    </td><td>12524  </td><td>9878   </td><td>373736 </td><td>1526   </td><td> 57    </td><td>17779  </td></tr>\n",
       "\t<tr><th scope=row>792006</th><td>23179  </td><td> 123   </td><td>2279235</td><td>3492144</td><td>2620   </td><td>108220 </td><td>8036   </td><td>595037 </td><td>358486 </td><td>1377   </td><td> 81    </td><td>12365  </td><td>9762   </td><td>382602 </td><td>1436   </td><td> 62    </td><td>17839  </td></tr>\n",
       "\t<tr><th scope=row>792007</th><td>23208  </td><td> 114   </td><td>2378409</td><td>3660786</td><td>2485   </td><td>108225 </td><td>8021   </td><td>594089 </td><td>358085 </td><td>1359   </td><td> 69    </td><td>12352  </td><td>9759   </td><td>370997 </td><td>1295   </td><td> 59    </td><td>18173  </td></tr>\n",
       "\t<tr><th scope=row>792008</th><td>23132  </td><td> 106   </td><td>2300016</td><td>3518082</td><td>2288   </td><td>108220 </td><td>8009   </td><td>589023 </td><td>355459 </td><td>1335   </td><td> 81    </td><td>12393  </td><td>9817   </td><td>378620 </td><td>1555   </td><td> 56    </td><td>17614  </td></tr>\n",
       "\t<tr><th scope=row>792009</th><td>23160  </td><td> 125   </td><td>2290450</td><td>3511962</td><td>2569   </td><td>108220 </td><td>8025   </td><td>594675 </td><td>358389 </td><td>1360   </td><td> 75    </td><td>12321  </td><td>9770   </td><td>368691 </td><td>1512   </td><td> 58    </td><td>18280  </td></tr>\n",
       "\t<tr><th scope=row>792010</th><td>23158  </td><td> 111   </td><td>2289420</td><td>3501702</td><td>2619   </td><td>108220 </td><td>8034   </td><td>595500 </td><td>358801 </td><td>1330   </td><td> 81    </td><td>12437  </td><td>9757   </td><td>381270 </td><td>1414   </td><td> 57    </td><td>17870  </td></tr>\n",
       "\t<tr><th scope=row>792011</th><td>23188  </td><td> 112   </td><td>2275140</td><td>3472200</td><td>2486   </td><td>108227 </td><td>8002   </td><td>591527 </td><td>356746 </td><td>1293   </td><td> 75    </td><td>12407  </td><td>9851   </td><td>372733 </td><td>1583   </td><td> 62    </td><td>17950  </td></tr>\n",
       "\t<tr><th scope=row>792012</th><td>23158  </td><td> 110   </td><td>2305592</td><td>3521628</td><td>2326   </td><td>108220 </td><td>8047   </td><td>599167 </td><td>360554 </td><td>1377   </td><td> 81    </td><td>12331  </td><td>9752   </td><td>372732 </td><td>1337   </td><td> 51    </td><td>18354  </td></tr>\n",
       "\t<tr><th scope=row>792013</th><td>23177  </td><td> 118   </td><td>2290117</td><td>3504960</td><td>2442   </td><td>108220 </td><td>8030   </td><td>594692 </td><td>358432 </td><td>1348   </td><td> 81    </td><td>12428  </td><td>9788   </td><td>371394 </td><td>1598   </td><td> 58    </td><td>17572  </td></tr>\n",
       "\t<tr><th scope=row>792014</th><td>23317  </td><td> 117   </td><td>2775597</td><td>4349682</td><td>2531   </td><td>108224 </td><td>8011   </td><td>586711 </td><td>354375 </td><td>1335   </td><td> 81    </td><td>12447  </td><td>9790   </td><td>373575 </td><td>1590   </td><td> 53    </td><td>18448  </td></tr>\n",
       "\t<tr><th scope=row>792015</th><td>23156  </td><td> 115   </td><td>2307533</td><td>3546018</td><td>2310   </td><td>108225 </td><td>8064   </td><td>634975 </td><td>378632 </td><td>1431   </td><td> 69    </td><td>12350  </td><td>9804   </td><td>373451 </td><td>1230   </td><td> 61    </td><td>17791  </td></tr>\n",
       "\t<tr><th scope=row>792016</th><td>23164  </td><td> 124   </td><td>2256222</td><td>3448170</td><td>2653   </td><td>108220 </td><td>8064   </td><td>599332 </td><td>360284 </td><td>1363   </td><td> 81    </td><td>12384  </td><td>9761   </td><td>372819 </td><td>1491   </td><td> 66    </td><td>17402  </td></tr>\n",
       "\t<tr><th scope=row>792017</th><td>23173  </td><td> 112   </td><td>2423052</td><td>3737304</td><td>2533   </td><td>108220 </td><td>7991   </td><td>582098 </td><td>352028 </td><td>1307   </td><td> 75    </td><td>12422  </td><td>9874   </td><td>377621 </td><td>1552   </td><td> 57    </td><td>18404  </td></tr>\n",
       "\t<tr><th scope=row>792018</th><td>23243  </td><td> 125   </td><td>2340152</td><td>3605562</td><td>2668   </td><td>108226 </td><td>8011   </td><td>603517 </td><td>362805 </td><td>1367   </td><td> 75    </td><td>12477  </td><td>9805   </td><td>382047 </td><td>1328   </td><td> 57    </td><td>17617  </td></tr>\n",
       "\t<tr><th scope=row>792019</th><td>23155  </td><td> 115   </td><td>2299655</td><td>3512628</td><td>2300   </td><td>108220 </td><td>8018   </td><td>597264 </td><td>359284 </td><td>1358   </td><td> 63    </td><td>12518  </td><td>9776   </td><td>373558 </td><td>1491   </td><td> 54    </td><td>17792  </td></tr>\n",
       "\t<tr><th scope=row>792020</th><td>23208  </td><td> 117   </td><td>2286947</td><td>3498192</td><td>2506   </td><td>108220 </td><td>8014   </td><td>601356 </td><td>361609 </td><td>1364   </td><td> 81    </td><td>12433  </td><td>9878   </td><td>374736 </td><td>1510   </td><td> 63    </td><td>18289  </td></tr>\n",
       "\t<tr><th scope=row>792021</th><td>23172  </td><td> 120   </td><td>2265527</td><td>3467502</td><td>2558   </td><td>108220 </td><td>8022   </td><td>589720 </td><td>355839 </td><td>1361   </td><td> 75    </td><td>12448  </td><td>9723   </td><td>376427 </td><td>1357   </td><td> 57    </td><td>17492  </td></tr>\n",
       "\t<tr><th scope=row>792022</th><td>23129  </td><td> 114   </td><td>2277289</td><td>3472884</td><td>2112   </td><td>108225 </td><td>8020   </td><td>595035 </td><td>358148 </td><td>1355   </td><td> 75    </td><td>12467  </td><td>9775   </td><td>369944 </td><td>1560   </td><td> 51    </td><td>18483  </td></tr>\n",
       "\t<tr><th scope=row>792023</th><td>23188  </td><td> 113   </td><td>2309894</td><td>3535938</td><td>2538   </td><td>108220 </td><td>8016   </td><td>589594 </td><td>355801 </td><td>1324   </td><td> 81    </td><td>12473  </td><td>9885   </td><td>371306 </td><td>1423   </td><td> 53    </td><td>17653  </td></tr>\n",
       "\t<tr><th scope=row>792024</th><td>23171  </td><td> 120   </td><td>2143916</td><td>3247272</td><td>2642   </td><td>108220 </td><td>8015   </td><td>600418 </td><td>361075 </td><td>1364   </td><td> 75    </td><td>12363  </td><td>9745   </td><td>370276 </td><td>1306   </td><td> 59    </td><td>17934  </td></tr>\n",
       "\t<tr><th scope=row>792025</th><td>23289  </td><td> 116   </td><td>2136890</td><td>3243888</td><td>2705   </td><td>108226 </td><td>8018   </td><td>597574 </td><td>359379 </td><td>1372   </td><td> 81    </td><td>12458  </td><td>9772   </td><td>379384 </td><td>1581   </td><td> 57    </td><td>18198  </td></tr>\n",
       "\t<tr><th scope=row>792026</th><td>23137  </td><td> 102   </td><td>2094306</td><td>3156786</td><td>2492   </td><td>108220 </td><td>8011   </td><td>582628 </td><td>352200 </td><td>1320   </td><td> 75    </td><td>12504  </td><td>9913   </td><td>376088 </td><td>1275   </td><td> 54    </td><td>17614  </td></tr>\n",
       "\t<tr><th scope=row>792027</th><td>23138  </td><td> 110   </td><td>2131636</td><td>3226680</td><td>2675   </td><td>108220 </td><td>8033   </td><td>599998 </td><td>361031 </td><td>1399   </td><td> 75    </td><td>12377  </td><td>9818   </td><td>373498 </td><td>1555   </td><td> 57    </td><td>18487  </td></tr>\n",
       "\t<tr><th scope=row>792028</th><td>23181  </td><td> 121   </td><td>2073757</td><td>3136374</td><td>2812   </td><td>108226 </td><td>8037   </td><td>596805 </td><td>359093 </td><td>1367   </td><td> 81    </td><td>12498  </td><td>9854   </td><td>364364 </td><td>1537   </td><td> 61    </td><td>17768  </td></tr>\n",
       "\t<tr><th scope=row>792029</th><td>23209  </td><td> 105   </td><td>2100786</td><td>3166848</td><td>2511   </td><td>108220 </td><td>7992   </td><td>601552 </td><td>361793 </td><td>1299   </td><td> 75    </td><td>12450  </td><td>9759   </td><td>375695 </td><td>1328   </td><td> 57    </td><td>17624  </td></tr>\n",
       "\t<tr><th scope=row>792030</th><td>23149  </td><td> 106   </td><td>2092423</td><td>3158352</td><td>2613   </td><td>108220 </td><td>8023   </td><td>587294 </td><td>354611 </td><td>1339   </td><td> 69    </td><td>12357  </td><td>9750   </td><td>375012 </td><td>1575   </td><td> 57    </td><td>18487  </td></tr>\n",
       "\t<tr><th scope=row>...</th><td>...</td><td>...</td><td>...</td><td>...</td><td>...</td><td>...</td><td>...</td><td>...</td><td>...</td><td>...</td><td>...</td><td>...</td><td>...</td><td>...</td><td>...</td><td>...</td><td>...</td></tr>\n",
       "\t<tr><th scope=row>1546471</th><td>3654   </td><td> 83    </td><td>1467680</td><td>2490498</td><td>525    </td><td>33253  </td><td>7988   </td><td>322349 </td><td>183957 </td><td>1470   </td><td>24054  </td><td>2871   </td><td>533    </td><td>214267 </td><td>129    </td><td>43     </td><td>2885   </td></tr>\n",
       "\t<tr><th scope=row>1546472</th><td>3388   </td><td> 88    </td><td>1437753</td><td>2435598</td><td>502    </td><td>33253  </td><td>7981   </td><td>322053 </td><td>183829 </td><td>1410   </td><td>24053  </td><td>2949   </td><td>538    </td><td>206231 </td><td>128    </td><td>43     </td><td>3101   </td></tr>\n",
       "\t<tr><th scope=row>1546473</th><td>3701   </td><td> 87    </td><td>1446026</td><td>2451258</td><td>509    </td><td>33253  </td><td>8000   </td><td>318159 </td><td>181808 </td><td>1436   </td><td>24058  </td><td>3081   </td><td>617    </td><td>206292 </td><td>125    </td><td>40     </td><td>2895   </td></tr>\n",
       "\t<tr><th scope=row>1546474</th><td>3574   </td><td> 92    </td><td>1510490</td><td>2575170</td><td>610    </td><td>33259  </td><td>7997   </td><td>314294 </td><td>180233 </td><td>1399   </td><td>24060  </td><td>2879   </td><td>529    </td><td>206365 </td><td>116    </td><td>37     </td><td>3099   </td></tr>\n",
       "\t<tr><th scope=row>1546475</th><td>3777   </td><td> 69    </td><td>1441619</td><td>2445408</td><td>528    </td><td>33253  </td><td>7964   </td><td>310020 </td><td>177660 </td><td>1400   </td><td>24060  </td><td>3146   </td><td>596    </td><td>204702 </td><td>120    </td><td>43     </td><td>2883   </td></tr>\n",
       "\t<tr><th scope=row>1546476</th><td>3649   </td><td> 76    </td><td>1445364</td><td>2450448</td><td>532    </td><td>33253  </td><td>7976   </td><td>313197 </td><td>179405 </td><td>1402   </td><td>24057  </td><td>2897   </td><td>526    </td><td>211081 </td><td>131    </td><td>39     </td><td>2842   </td></tr>\n",
       "\t<tr><th scope=row>1546477</th><td>3431   </td><td> 96    </td><td>1425302</td><td>2414502</td><td>480    </td><td>33253  </td><td>7991   </td><td>311564 </td><td>179018 </td><td>1397   </td><td>24065  </td><td>3022   </td><td>586    </td><td>205422 </td><td>119    </td><td>39     </td><td>3109   </td></tr>\n",
       "\t<tr><th scope=row>1546478</th><td>3728   </td><td> 92    </td><td>1471094</td><td>2496204</td><td>534    </td><td>33253  </td><td>7997   </td><td>314068 </td><td>180167 </td><td>1419   </td><td>24061  </td><td>2929   </td><td>528    </td><td>209209 </td><td>136    </td><td>35     </td><td>2928   </td></tr>\n",
       "\t<tr><th scope=row>1546479</th><td>3411   </td><td> 88    </td><td>1437720</td><td>2439828</td><td>480    </td><td>33258  </td><td>7982   </td><td>311183 </td><td>178318 </td><td>1408   </td><td>24062  </td><td>3062   </td><td>588    </td><td>210436 </td><td>116    </td><td>37     </td><td>3028   </td></tr>\n",
       "\t<tr><th scope=row>1546480</th><td>3682   </td><td> 99    </td><td>1440038</td><td>2439414</td><td>546    </td><td>33253  </td><td>7973   </td><td>315702 </td><td>180670 </td><td>1420   </td><td>24050  </td><td>2855   </td><td>518    </td><td>210072 </td><td>133    </td><td>40     </td><td>2883   </td></tr>\n",
       "\t<tr><th scope=row>1546481</th><td>3819   </td><td> 93    </td><td>1471361</td><td>2502216</td><td>578    </td><td>33258  </td><td>7993   </td><td>312083 </td><td>178744 </td><td>1420   </td><td>24062  </td><td>3148   </td><td>607    </td><td>206903 </td><td>127    </td><td>36     </td><td>2918   </td></tr>\n",
       "\t<tr><th scope=row>1546482</th><td>3420   </td><td> 90    </td><td>1439031</td><td>2439000</td><td>512    </td><td>33253  </td><td>8034   </td><td>325912 </td><td>185869 </td><td>1488   </td><td>24064  </td><td>2803   </td><td>526    </td><td>204724 </td><td>112    </td><td>36     </td><td>3070   </td></tr>\n",
       "\t<tr><th scope=row>1546483</th><td>3671   </td><td> 82    </td><td>1440826</td><td>2441034</td><td>503    </td><td>33253  </td><td>7996   </td><td>315138 </td><td>180726 </td><td>1416   </td><td>24054  </td><td>3015   </td><td>538    </td><td>206213 </td><td>123    </td><td>40     </td><td>2801   </td></tr>\n",
       "\t<tr><th scope=row>1546484</th><td>3448   </td><td> 82    </td><td>1430637</td><td>2425374</td><td>500    </td><td>33253  </td><td>7993   </td><td>318457 </td><td>182096 </td><td>1451   </td><td>24061  </td><td>3057   </td><td>614    </td><td>209530 </td><td>129    </td><td>38     </td><td>2984   </td></tr>\n",
       "\t<tr><th scope=row>1546485</th><td>3794   </td><td> 95    </td><td>1486276</td><td>2526696</td><td>564    </td><td>33253  </td><td>7964   </td><td>312026 </td><td>178831 </td><td>1404   </td><td>24058  </td><td>2913   </td><td>525    </td><td>206312 </td><td>124    </td><td>36     </td><td>2940   </td></tr>\n",
       "\t<tr><th scope=row>1546486</th><td>3734   </td><td> 85    </td><td>1461736</td><td>2483874</td><td>575    </td><td>33258  </td><td>8007   </td><td>315926 </td><td>180853 </td><td>1456   </td><td>24063  </td><td>3097   </td><td>602    </td><td>206407 </td><td>131    </td><td>36     </td><td>2792   </td></tr>\n",
       "\t<tr><th scope=row>1546487</th><td>3421   </td><td> 83    </td><td>1442569</td><td>2443572</td><td>523    </td><td>33253  </td><td>7958   </td><td>314199 </td><td>180153 </td><td>1428   </td><td>24057  </td><td>2977   </td><td>539    </td><td>214441 </td><td>133    </td><td>36     </td><td>3049   </td></tr>\n",
       "\t<tr><th scope=row>1546488</th><td>3759   </td><td>101    </td><td>1450532</td><td>2460168</td><td>552    </td><td>33253  </td><td>7974   </td><td>310733 </td><td>178258 </td><td>1408   </td><td>24060  </td><td>3037   </td><td>600    </td><td>205691 </td><td>119    </td><td>34     </td><td>2846   </td></tr>\n",
       "\t<tr><th scope=row>1546489</th><td>3511   </td><td> 90    </td><td>1463754</td><td>2484180</td><td>511    </td><td>33253  </td><td>7990   </td><td>325096 </td><td>185727 </td><td>1464   </td><td>24055  </td><td>2867   </td><td>524    </td><td>206180 </td><td>111    </td><td>38     </td><td>2955   </td></tr>\n",
       "\t<tr><th scope=row>1546490</th><td>3652   </td><td> 81    </td><td>1445434</td><td>2450448</td><td>531    </td><td>33253  </td><td>7963   </td><td>312818 </td><td>179060 </td><td>1424   </td><td>24063  </td><td>3115   </td><td>603    </td><td>206026 </td><td>119    </td><td>37     </td><td>2902   </td></tr>\n",
       "\t<tr><th scope=row>1546491</th><td>3599   </td><td> 99    </td><td>4012772</td><td>7178400</td><td>591    </td><td>33780  </td><td>8006   </td><td>315077 </td><td>180814 </td><td>1408   </td><td>24056  </td><td>2989   </td><td>529    </td><td>205100 </td><td>128    </td><td>39     </td><td>3074   </td></tr>\n",
       "\t<tr><th scope=row>1546492</th><td>4817   </td><td>178    </td><td>1878879</td><td>3304206</td><td>970    </td><td>33322  </td><td>8015   </td><td>324512 </td><td>184980 </td><td>1441   </td><td>24056  </td><td>3023   </td><td>600    </td><td>209945 </td><td>124    </td><td>37     </td><td>2828   </td></tr>\n",
       "\t<tr><th scope=row>1546493</th><td>3617   </td><td> 85    </td><td>1437508</td><td>2435238</td><td>462    </td><td>33253  </td><td>8020   </td><td>322420 </td><td>184048 </td><td>1455   </td><td>24059  </td><td>2900   </td><td>521    </td><td>204916 </td><td>113    </td><td>37     </td><td>2797   </td></tr>\n",
       "\t<tr><th scope=row>1546494</th><td>3717   </td><td> 63    </td><td>1431871</td><td>2433654</td><td>454    </td><td>33253  </td><td>7990   </td><td>315083 </td><td>180438 </td><td>1416   </td><td>24052  </td><td>2929   </td><td>540    </td><td>207215 </td><td>123    </td><td>40     </td><td>3009   </td></tr>\n",
       "\t<tr><th scope=row>1546495</th><td>3400   </td><td> 73    </td><td>1423203</td><td>2446398</td><td>394    </td><td>33258  </td><td>8020   </td><td>333043 </td><td>189779 </td><td>1495   </td><td>24060  </td><td>3082   </td><td>614    </td><td>210577 </td><td>126    </td><td>34     </td><td>2926   </td></tr>\n",
       "\t<tr><th scope=row>1546496</th><td>3804   </td><td> 90    </td><td>1456682</td><td>2469744</td><td>426    </td><td>33253  </td><td>7995   </td><td>314694 </td><td>180188 </td><td>1420   </td><td>24054  </td><td>2864   </td><td>522    </td><td>209720 </td><td>120    </td><td>35     </td><td>2966   </td></tr>\n",
       "\t<tr><th scope=row>1546497</th><td>3743   </td><td> 68    </td><td>1460840</td><td>2484594</td><td>451    </td><td>33258  </td><td>7977   </td><td>312177 </td><td>179105 </td><td>1394   </td><td>24058  </td><td>3056   </td><td>595    </td><td>204651 </td><td>125    </td><td>42     </td><td>2790   </td></tr>\n",
       "\t<tr><th scope=row>1546498</th><td>3419   </td><td> 87    </td><td>1422451</td><td>2415186</td><td>443    </td><td>33253  </td><td>7980   </td><td>324172 </td><td>185113 </td><td>1406   </td><td>24062  </td><td>2869   </td><td>526    </td><td>204609 </td><td>120    </td><td>43     </td><td>2835   </td></tr>\n",
       "\t<tr><th scope=row>1546499</th><td>3642   </td><td> 82    </td><td>1432100</td><td>2436030</td><td>421    </td><td>33253  </td><td>7964   </td><td>315088 </td><td>180160 </td><td>1397   </td><td>24059  </td><td>3130   </td><td>598    </td><td>205676 </td><td>121    </td><td>37     </td><td>3059   </td></tr>\n",
       "\t<tr><th scope=row>1546500</th><td>3455   </td><td> 88    </td><td>1453817</td><td>2463012</td><td>416    </td><td>33253  </td><td>7976   </td><td>315782 </td><td>180868 </td><td>1388   </td><td>24061  </td><td>2874   </td><td>528    </td><td>210025 </td><td>133    </td><td>38     </td><td>2933   </td></tr>\n",
       "</tbody>\n",
       "</table>\n"
      ],
      "text/latex": [
       "\\begin{tabular}{r|lllllllllllllllll}\n",
       "  & PAPI\\_L1\\_DCM & PAPI\\_L3\\_TCM & PAPI\\_TOT\\_INS & PAPI\\_REF\\_CYC & PAPI\\_L2\\_LDM & PAPI\\_SR\\_INS & PAPI\\_BR\\_UCN & PAPI\\_BR\\_CN & PAPI\\_BR\\_TKN & PAPI\\_BR\\_MSP & PAPI\\_FP\\_OPS & PAPI\\_L1\\_LDM & PAPI\\_L1\\_STM & PAPI\\_LD\\_INS & PAPI\\_L2\\_STM & PAPI\\_TLB\\_DM & PAPI\\_L2\\_DCH\\\\\n",
       "\\hline\n",
       "\t792001 & 24617   & 9499    & 1478623 & 2662416 & 8432    & 109538  & 8239    & 337162  & 229506  & 1730    & 129     & 12249   & 8574    & 244897  & 7467    & 529     &  4917  \\\\\n",
       "\t792002 & 23227   &  102    & 2274481 & 3496662 & 3924    & 108220  & 8012    & 604108  & 363338  & 1363    &  75     & 12134   & 9311    & 379693  & 3998    &  75     & 12686  \\\\\n",
       "\t792003 & 23279   &  109    & 2293204 & 3520278 & 2749    & 108220  & 8017    & 634602  & 378424  & 1417    &  75     & 12272   & 9685    & 376522  & 1743    &  70     & 17507  \\\\\n",
       "\t792004 & 23230   &  115    & 2273370 & 3474990 & 2299    & 108226  & 8021    & 598883  & 360332  & 1353    &  69     & 12252   & 9700    & 371659  & 1411    &  59     & 18315  \\\\\n",
       "\t792005 & 23202   &  125    & 2293132 & 3513654 & 2621    & 108220  & 8021    & 586851  & 354298  & 1325    &  81     & 12524   & 9878    & 373736  & 1526    &  57     & 17779  \\\\\n",
       "\t792006 & 23179   &  123    & 2279235 & 3492144 & 2620    & 108220  & 8036    & 595037  & 358486  & 1377    &  81     & 12365   & 9762    & 382602  & 1436    &  62     & 17839  \\\\\n",
       "\t792007 & 23208   &  114    & 2378409 & 3660786 & 2485    & 108225  & 8021    & 594089  & 358085  & 1359    &  69     & 12352   & 9759    & 370997  & 1295    &  59     & 18173  \\\\\n",
       "\t792008 & 23132   &  106    & 2300016 & 3518082 & 2288    & 108220  & 8009    & 589023  & 355459  & 1335    &  81     & 12393   & 9817    & 378620  & 1555    &  56     & 17614  \\\\\n",
       "\t792009 & 23160   &  125    & 2290450 & 3511962 & 2569    & 108220  & 8025    & 594675  & 358389  & 1360    &  75     & 12321   & 9770    & 368691  & 1512    &  58     & 18280  \\\\\n",
       "\t792010 & 23158   &  111    & 2289420 & 3501702 & 2619    & 108220  & 8034    & 595500  & 358801  & 1330    &  81     & 12437   & 9757    & 381270  & 1414    &  57     & 17870  \\\\\n",
       "\t792011 & 23188   &  112    & 2275140 & 3472200 & 2486    & 108227  & 8002    & 591527  & 356746  & 1293    &  75     & 12407   & 9851    & 372733  & 1583    &  62     & 17950  \\\\\n",
       "\t792012 & 23158   &  110    & 2305592 & 3521628 & 2326    & 108220  & 8047    & 599167  & 360554  & 1377    &  81     & 12331   & 9752    & 372732  & 1337    &  51     & 18354  \\\\\n",
       "\t792013 & 23177   &  118    & 2290117 & 3504960 & 2442    & 108220  & 8030    & 594692  & 358432  & 1348    &  81     & 12428   & 9788    & 371394  & 1598    &  58     & 17572  \\\\\n",
       "\t792014 & 23317   &  117    & 2775597 & 4349682 & 2531    & 108224  & 8011    & 586711  & 354375  & 1335    &  81     & 12447   & 9790    & 373575  & 1590    &  53     & 18448  \\\\\n",
       "\t792015 & 23156   &  115    & 2307533 & 3546018 & 2310    & 108225  & 8064    & 634975  & 378632  & 1431    &  69     & 12350   & 9804    & 373451  & 1230    &  61     & 17791  \\\\\n",
       "\t792016 & 23164   &  124    & 2256222 & 3448170 & 2653    & 108220  & 8064    & 599332  & 360284  & 1363    &  81     & 12384   & 9761    & 372819  & 1491    &  66     & 17402  \\\\\n",
       "\t792017 & 23173   &  112    & 2423052 & 3737304 & 2533    & 108220  & 7991    & 582098  & 352028  & 1307    &  75     & 12422   & 9874    & 377621  & 1552    &  57     & 18404  \\\\\n",
       "\t792018 & 23243   &  125    & 2340152 & 3605562 & 2668    & 108226  & 8011    & 603517  & 362805  & 1367    &  75     & 12477   & 9805    & 382047  & 1328    &  57     & 17617  \\\\\n",
       "\t792019 & 23155   &  115    & 2299655 & 3512628 & 2300    & 108220  & 8018    & 597264  & 359284  & 1358    &  63     & 12518   & 9776    & 373558  & 1491    &  54     & 17792  \\\\\n",
       "\t792020 & 23208   &  117    & 2286947 & 3498192 & 2506    & 108220  & 8014    & 601356  & 361609  & 1364    &  81     & 12433   & 9878    & 374736  & 1510    &  63     & 18289  \\\\\n",
       "\t792021 & 23172   &  120    & 2265527 & 3467502 & 2558    & 108220  & 8022    & 589720  & 355839  & 1361    &  75     & 12448   & 9723    & 376427  & 1357    &  57     & 17492  \\\\\n",
       "\t792022 & 23129   &  114    & 2277289 & 3472884 & 2112    & 108225  & 8020    & 595035  & 358148  & 1355    &  75     & 12467   & 9775    & 369944  & 1560    &  51     & 18483  \\\\\n",
       "\t792023 & 23188   &  113    & 2309894 & 3535938 & 2538    & 108220  & 8016    & 589594  & 355801  & 1324    &  81     & 12473   & 9885    & 371306  & 1423    &  53     & 17653  \\\\\n",
       "\t792024 & 23171   &  120    & 2143916 & 3247272 & 2642    & 108220  & 8015    & 600418  & 361075  & 1364    &  75     & 12363   & 9745    & 370276  & 1306    &  59     & 17934  \\\\\n",
       "\t792025 & 23289   &  116    & 2136890 & 3243888 & 2705    & 108226  & 8018    & 597574  & 359379  & 1372    &  81     & 12458   & 9772    & 379384  & 1581    &  57     & 18198  \\\\\n",
       "\t792026 & 23137   &  102    & 2094306 & 3156786 & 2492    & 108220  & 8011    & 582628  & 352200  & 1320    &  75     & 12504   & 9913    & 376088  & 1275    &  54     & 17614  \\\\\n",
       "\t792027 & 23138   &  110    & 2131636 & 3226680 & 2675    & 108220  & 8033    & 599998  & 361031  & 1399    &  75     & 12377   & 9818    & 373498  & 1555    &  57     & 18487  \\\\\n",
       "\t792028 & 23181   &  121    & 2073757 & 3136374 & 2812    & 108226  & 8037    & 596805  & 359093  & 1367    &  81     & 12498   & 9854    & 364364  & 1537    &  61     & 17768  \\\\\n",
       "\t792029 & 23209   &  105    & 2100786 & 3166848 & 2511    & 108220  & 7992    & 601552  & 361793  & 1299    &  75     & 12450   & 9759    & 375695  & 1328    &  57     & 17624  \\\\\n",
       "\t792030 & 23149   &  106    & 2092423 & 3158352 & 2613    & 108220  & 8023    & 587294  & 354611  & 1339    &  69     & 12357   & 9750    & 375012  & 1575    &  57     & 18487  \\\\\n",
       "\t... & ... & ... & ... & ... & ... & ... & ... & ... & ... & ... & ... & ... & ... & ... & ... & ... & ...\\\\\n",
       "\t1546471 & 3654    &  83     & 1467680 & 2490498 & 525     & 33253   & 7988    & 322349  & 183957  & 1470    & 24054   & 2871    & 533     & 214267  & 129     & 43      & 2885   \\\\\n",
       "\t1546472 & 3388    &  88     & 1437753 & 2435598 & 502     & 33253   & 7981    & 322053  & 183829  & 1410    & 24053   & 2949    & 538     & 206231  & 128     & 43      & 3101   \\\\\n",
       "\t1546473 & 3701    &  87     & 1446026 & 2451258 & 509     & 33253   & 8000    & 318159  & 181808  & 1436    & 24058   & 3081    & 617     & 206292  & 125     & 40      & 2895   \\\\\n",
       "\t1546474 & 3574    &  92     & 1510490 & 2575170 & 610     & 33259   & 7997    & 314294  & 180233  & 1399    & 24060   & 2879    & 529     & 206365  & 116     & 37      & 3099   \\\\\n",
       "\t1546475 & 3777    &  69     & 1441619 & 2445408 & 528     & 33253   & 7964    & 310020  & 177660  & 1400    & 24060   & 3146    & 596     & 204702  & 120     & 43      & 2883   \\\\\n",
       "\t1546476 & 3649    &  76     & 1445364 & 2450448 & 532     & 33253   & 7976    & 313197  & 179405  & 1402    & 24057   & 2897    & 526     & 211081  & 131     & 39      & 2842   \\\\\n",
       "\t1546477 & 3431    &  96     & 1425302 & 2414502 & 480     & 33253   & 7991    & 311564  & 179018  & 1397    & 24065   & 3022    & 586     & 205422  & 119     & 39      & 3109   \\\\\n",
       "\t1546478 & 3728    &  92     & 1471094 & 2496204 & 534     & 33253   & 7997    & 314068  & 180167  & 1419    & 24061   & 2929    & 528     & 209209  & 136     & 35      & 2928   \\\\\n",
       "\t1546479 & 3411    &  88     & 1437720 & 2439828 & 480     & 33258   & 7982    & 311183  & 178318  & 1408    & 24062   & 3062    & 588     & 210436  & 116     & 37      & 3028   \\\\\n",
       "\t1546480 & 3682    &  99     & 1440038 & 2439414 & 546     & 33253   & 7973    & 315702  & 180670  & 1420    & 24050   & 2855    & 518     & 210072  & 133     & 40      & 2883   \\\\\n",
       "\t1546481 & 3819    &  93     & 1471361 & 2502216 & 578     & 33258   & 7993    & 312083  & 178744  & 1420    & 24062   & 3148    & 607     & 206903  & 127     & 36      & 2918   \\\\\n",
       "\t1546482 & 3420    &  90     & 1439031 & 2439000 & 512     & 33253   & 8034    & 325912  & 185869  & 1488    & 24064   & 2803    & 526     & 204724  & 112     & 36      & 3070   \\\\\n",
       "\t1546483 & 3671    &  82     & 1440826 & 2441034 & 503     & 33253   & 7996    & 315138  & 180726  & 1416    & 24054   & 3015    & 538     & 206213  & 123     & 40      & 2801   \\\\\n",
       "\t1546484 & 3448    &  82     & 1430637 & 2425374 & 500     & 33253   & 7993    & 318457  & 182096  & 1451    & 24061   & 3057    & 614     & 209530  & 129     & 38      & 2984   \\\\\n",
       "\t1546485 & 3794    &  95     & 1486276 & 2526696 & 564     & 33253   & 7964    & 312026  & 178831  & 1404    & 24058   & 2913    & 525     & 206312  & 124     & 36      & 2940   \\\\\n",
       "\t1546486 & 3734    &  85     & 1461736 & 2483874 & 575     & 33258   & 8007    & 315926  & 180853  & 1456    & 24063   & 3097    & 602     & 206407  & 131     & 36      & 2792   \\\\\n",
       "\t1546487 & 3421    &  83     & 1442569 & 2443572 & 523     & 33253   & 7958    & 314199  & 180153  & 1428    & 24057   & 2977    & 539     & 214441  & 133     & 36      & 3049   \\\\\n",
       "\t1546488 & 3759    & 101     & 1450532 & 2460168 & 552     & 33253   & 7974    & 310733  & 178258  & 1408    & 24060   & 3037    & 600     & 205691  & 119     & 34      & 2846   \\\\\n",
       "\t1546489 & 3511    &  90     & 1463754 & 2484180 & 511     & 33253   & 7990    & 325096  & 185727  & 1464    & 24055   & 2867    & 524     & 206180  & 111     & 38      & 2955   \\\\\n",
       "\t1546490 & 3652    &  81     & 1445434 & 2450448 & 531     & 33253   & 7963    & 312818  & 179060  & 1424    & 24063   & 3115    & 603     & 206026  & 119     & 37      & 2902   \\\\\n",
       "\t1546491 & 3599    &  99     & 4012772 & 7178400 & 591     & 33780   & 8006    & 315077  & 180814  & 1408    & 24056   & 2989    & 529     & 205100  & 128     & 39      & 3074   \\\\\n",
       "\t1546492 & 4817    & 178     & 1878879 & 3304206 & 970     & 33322   & 8015    & 324512  & 184980  & 1441    & 24056   & 3023    & 600     & 209945  & 124     & 37      & 2828   \\\\\n",
       "\t1546493 & 3617    &  85     & 1437508 & 2435238 & 462     & 33253   & 8020    & 322420  & 184048  & 1455    & 24059   & 2900    & 521     & 204916  & 113     & 37      & 2797   \\\\\n",
       "\t1546494 & 3717    &  63     & 1431871 & 2433654 & 454     & 33253   & 7990    & 315083  & 180438  & 1416    & 24052   & 2929    & 540     & 207215  & 123     & 40      & 3009   \\\\\n",
       "\t1546495 & 3400    &  73     & 1423203 & 2446398 & 394     & 33258   & 8020    & 333043  & 189779  & 1495    & 24060   & 3082    & 614     & 210577  & 126     & 34      & 2926   \\\\\n",
       "\t1546496 & 3804    &  90     & 1456682 & 2469744 & 426     & 33253   & 7995    & 314694  & 180188  & 1420    & 24054   & 2864    & 522     & 209720  & 120     & 35      & 2966   \\\\\n",
       "\t1546497 & 3743    &  68     & 1460840 & 2484594 & 451     & 33258   & 7977    & 312177  & 179105  & 1394    & 24058   & 3056    & 595     & 204651  & 125     & 42      & 2790   \\\\\n",
       "\t1546498 & 3419    &  87     & 1422451 & 2415186 & 443     & 33253   & 7980    & 324172  & 185113  & 1406    & 24062   & 2869    & 526     & 204609  & 120     & 43      & 2835   \\\\\n",
       "\t1546499 & 3642    &  82     & 1432100 & 2436030 & 421     & 33253   & 7964    & 315088  & 180160  & 1397    & 24059   & 3130    & 598     & 205676  & 121     & 37      & 3059   \\\\\n",
       "\t1546500 & 3455    &  88     & 1453817 & 2463012 & 416     & 33253   & 7976    & 315782  & 180868  & 1388    & 24061   & 2874    & 528     & 210025  & 133     & 38      & 2933   \\\\\n",
       "\\end{tabular}\n"
      ],
      "text/markdown": [
       "\n",
       "| <!--/--> | PAPI_L1_DCM | PAPI_L3_TCM | PAPI_TOT_INS | PAPI_REF_CYC | PAPI_L2_LDM | PAPI_SR_INS | PAPI_BR_UCN | PAPI_BR_CN | PAPI_BR_TKN | PAPI_BR_MSP | PAPI_FP_OPS | PAPI_L1_LDM | PAPI_L1_STM | PAPI_LD_INS | PAPI_L2_STM | PAPI_TLB_DM | PAPI_L2_DCH | \n",
       "|---|---|---|---|---|---|---|---|---|---|---|---|---|---|---|---|---|---|---|---|---|---|---|---|---|---|---|---|---|---|---|---|---|---|---|---|---|---|---|---|---|---|---|---|---|---|---|---|---|---|---|---|---|---|---|---|---|---|---|---|---|\n",
       "| 792001 | 24617   | 9499    | 1478623 | 2662416 | 8432    | 109538  | 8239    | 337162  | 229506  | 1730    | 129     | 12249   | 8574    | 244897  | 7467    | 529     |  4917   | \n",
       "| 792002 | 23227   |  102    | 2274481 | 3496662 | 3924    | 108220  | 8012    | 604108  | 363338  | 1363    |  75     | 12134   | 9311    | 379693  | 3998    |  75     | 12686   | \n",
       "| 792003 | 23279   |  109    | 2293204 | 3520278 | 2749    | 108220  | 8017    | 634602  | 378424  | 1417    |  75     | 12272   | 9685    | 376522  | 1743    |  70     | 17507   | \n",
       "| 792004 | 23230   |  115    | 2273370 | 3474990 | 2299    | 108226  | 8021    | 598883  | 360332  | 1353    |  69     | 12252   | 9700    | 371659  | 1411    |  59     | 18315   | \n",
       "| 792005 | 23202   |  125    | 2293132 | 3513654 | 2621    | 108220  | 8021    | 586851  | 354298  | 1325    |  81     | 12524   | 9878    | 373736  | 1526    |  57     | 17779   | \n",
       "| 792006 | 23179   |  123    | 2279235 | 3492144 | 2620    | 108220  | 8036    | 595037  | 358486  | 1377    |  81     | 12365   | 9762    | 382602  | 1436    |  62     | 17839   | \n",
       "| 792007 | 23208   |  114    | 2378409 | 3660786 | 2485    | 108225  | 8021    | 594089  | 358085  | 1359    |  69     | 12352   | 9759    | 370997  | 1295    |  59     | 18173   | \n",
       "| 792008 | 23132   |  106    | 2300016 | 3518082 | 2288    | 108220  | 8009    | 589023  | 355459  | 1335    |  81     | 12393   | 9817    | 378620  | 1555    |  56     | 17614   | \n",
       "| 792009 | 23160   |  125    | 2290450 | 3511962 | 2569    | 108220  | 8025    | 594675  | 358389  | 1360    |  75     | 12321   | 9770    | 368691  | 1512    |  58     | 18280   | \n",
       "| 792010 | 23158   |  111    | 2289420 | 3501702 | 2619    | 108220  | 8034    | 595500  | 358801  | 1330    |  81     | 12437   | 9757    | 381270  | 1414    |  57     | 17870   | \n",
       "| 792011 | 23188   |  112    | 2275140 | 3472200 | 2486    | 108227  | 8002    | 591527  | 356746  | 1293    |  75     | 12407   | 9851    | 372733  | 1583    |  62     | 17950   | \n",
       "| 792012 | 23158   |  110    | 2305592 | 3521628 | 2326    | 108220  | 8047    | 599167  | 360554  | 1377    |  81     | 12331   | 9752    | 372732  | 1337    |  51     | 18354   | \n",
       "| 792013 | 23177   |  118    | 2290117 | 3504960 | 2442    | 108220  | 8030    | 594692  | 358432  | 1348    |  81     | 12428   | 9788    | 371394  | 1598    |  58     | 17572   | \n",
       "| 792014 | 23317   |  117    | 2775597 | 4349682 | 2531    | 108224  | 8011    | 586711  | 354375  | 1335    |  81     | 12447   | 9790    | 373575  | 1590    |  53     | 18448   | \n",
       "| 792015 | 23156   |  115    | 2307533 | 3546018 | 2310    | 108225  | 8064    | 634975  | 378632  | 1431    |  69     | 12350   | 9804    | 373451  | 1230    |  61     | 17791   | \n",
       "| 792016 | 23164   |  124    | 2256222 | 3448170 | 2653    | 108220  | 8064    | 599332  | 360284  | 1363    |  81     | 12384   | 9761    | 372819  | 1491    |  66     | 17402   | \n",
       "| 792017 | 23173   |  112    | 2423052 | 3737304 | 2533    | 108220  | 7991    | 582098  | 352028  | 1307    |  75     | 12422   | 9874    | 377621  | 1552    |  57     | 18404   | \n",
       "| 792018 | 23243   |  125    | 2340152 | 3605562 | 2668    | 108226  | 8011    | 603517  | 362805  | 1367    |  75     | 12477   | 9805    | 382047  | 1328    |  57     | 17617   | \n",
       "| 792019 | 23155   |  115    | 2299655 | 3512628 | 2300    | 108220  | 8018    | 597264  | 359284  | 1358    |  63     | 12518   | 9776    | 373558  | 1491    |  54     | 17792   | \n",
       "| 792020 | 23208   |  117    | 2286947 | 3498192 | 2506    | 108220  | 8014    | 601356  | 361609  | 1364    |  81     | 12433   | 9878    | 374736  | 1510    |  63     | 18289   | \n",
       "| 792021 | 23172   |  120    | 2265527 | 3467502 | 2558    | 108220  | 8022    | 589720  | 355839  | 1361    |  75     | 12448   | 9723    | 376427  | 1357    |  57     | 17492   | \n",
       "| 792022 | 23129   |  114    | 2277289 | 3472884 | 2112    | 108225  | 8020    | 595035  | 358148  | 1355    |  75     | 12467   | 9775    | 369944  | 1560    |  51     | 18483   | \n",
       "| 792023 | 23188   |  113    | 2309894 | 3535938 | 2538    | 108220  | 8016    | 589594  | 355801  | 1324    |  81     | 12473   | 9885    | 371306  | 1423    |  53     | 17653   | \n",
       "| 792024 | 23171   |  120    | 2143916 | 3247272 | 2642    | 108220  | 8015    | 600418  | 361075  | 1364    |  75     | 12363   | 9745    | 370276  | 1306    |  59     | 17934   | \n",
       "| 792025 | 23289   |  116    | 2136890 | 3243888 | 2705    | 108226  | 8018    | 597574  | 359379  | 1372    |  81     | 12458   | 9772    | 379384  | 1581    |  57     | 18198   | \n",
       "| 792026 | 23137   |  102    | 2094306 | 3156786 | 2492    | 108220  | 8011    | 582628  | 352200  | 1320    |  75     | 12504   | 9913    | 376088  | 1275    |  54     | 17614   | \n",
       "| 792027 | 23138   |  110    | 2131636 | 3226680 | 2675    | 108220  | 8033    | 599998  | 361031  | 1399    |  75     | 12377   | 9818    | 373498  | 1555    |  57     | 18487   | \n",
       "| 792028 | 23181   |  121    | 2073757 | 3136374 | 2812    | 108226  | 8037    | 596805  | 359093  | 1367    |  81     | 12498   | 9854    | 364364  | 1537    |  61     | 17768   | \n",
       "| 792029 | 23209   |  105    | 2100786 | 3166848 | 2511    | 108220  | 7992    | 601552  | 361793  | 1299    |  75     | 12450   | 9759    | 375695  | 1328    |  57     | 17624   | \n",
       "| 792030 | 23149   |  106    | 2092423 | 3158352 | 2613    | 108220  | 8023    | 587294  | 354611  | 1339    |  69     | 12357   | 9750    | 375012  | 1575    |  57     | 18487   | \n",
       "| ... | ... | ... | ... | ... | ... | ... | ... | ... | ... | ... | ... | ... | ... | ... | ... | ... | ... | \n",
       "| 1546471 | 3654    |  83     | 1467680 | 2490498 | 525     | 33253   | 7988    | 322349  | 183957  | 1470    | 24054   | 2871    | 533     | 214267  | 129     | 43      | 2885    | \n",
       "| 1546472 | 3388    |  88     | 1437753 | 2435598 | 502     | 33253   | 7981    | 322053  | 183829  | 1410    | 24053   | 2949    | 538     | 206231  | 128     | 43      | 3101    | \n",
       "| 1546473 | 3701    |  87     | 1446026 | 2451258 | 509     | 33253   | 8000    | 318159  | 181808  | 1436    | 24058   | 3081    | 617     | 206292  | 125     | 40      | 2895    | \n",
       "| 1546474 | 3574    |  92     | 1510490 | 2575170 | 610     | 33259   | 7997    | 314294  | 180233  | 1399    | 24060   | 2879    | 529     | 206365  | 116     | 37      | 3099    | \n",
       "| 1546475 | 3777    |  69     | 1441619 | 2445408 | 528     | 33253   | 7964    | 310020  | 177660  | 1400    | 24060   | 3146    | 596     | 204702  | 120     | 43      | 2883    | \n",
       "| 1546476 | 3649    |  76     | 1445364 | 2450448 | 532     | 33253   | 7976    | 313197  | 179405  | 1402    | 24057   | 2897    | 526     | 211081  | 131     | 39      | 2842    | \n",
       "| 1546477 | 3431    |  96     | 1425302 | 2414502 | 480     | 33253   | 7991    | 311564  | 179018  | 1397    | 24065   | 3022    | 586     | 205422  | 119     | 39      | 3109    | \n",
       "| 1546478 | 3728    |  92     | 1471094 | 2496204 | 534     | 33253   | 7997    | 314068  | 180167  | 1419    | 24061   | 2929    | 528     | 209209  | 136     | 35      | 2928    | \n",
       "| 1546479 | 3411    |  88     | 1437720 | 2439828 | 480     | 33258   | 7982    | 311183  | 178318  | 1408    | 24062   | 3062    | 588     | 210436  | 116     | 37      | 3028    | \n",
       "| 1546480 | 3682    |  99     | 1440038 | 2439414 | 546     | 33253   | 7973    | 315702  | 180670  | 1420    | 24050   | 2855    | 518     | 210072  | 133     | 40      | 2883    | \n",
       "| 1546481 | 3819    |  93     | 1471361 | 2502216 | 578     | 33258   | 7993    | 312083  | 178744  | 1420    | 24062   | 3148    | 607     | 206903  | 127     | 36      | 2918    | \n",
       "| 1546482 | 3420    |  90     | 1439031 | 2439000 | 512     | 33253   | 8034    | 325912  | 185869  | 1488    | 24064   | 2803    | 526     | 204724  | 112     | 36      | 3070    | \n",
       "| 1546483 | 3671    |  82     | 1440826 | 2441034 | 503     | 33253   | 7996    | 315138  | 180726  | 1416    | 24054   | 3015    | 538     | 206213  | 123     | 40      | 2801    | \n",
       "| 1546484 | 3448    |  82     | 1430637 | 2425374 | 500     | 33253   | 7993    | 318457  | 182096  | 1451    | 24061   | 3057    | 614     | 209530  | 129     | 38      | 2984    | \n",
       "| 1546485 | 3794    |  95     | 1486276 | 2526696 | 564     | 33253   | 7964    | 312026  | 178831  | 1404    | 24058   | 2913    | 525     | 206312  | 124     | 36      | 2940    | \n",
       "| 1546486 | 3734    |  85     | 1461736 | 2483874 | 575     | 33258   | 8007    | 315926  | 180853  | 1456    | 24063   | 3097    | 602     | 206407  | 131     | 36      | 2792    | \n",
       "| 1546487 | 3421    |  83     | 1442569 | 2443572 | 523     | 33253   | 7958    | 314199  | 180153  | 1428    | 24057   | 2977    | 539     | 214441  | 133     | 36      | 3049    | \n",
       "| 1546488 | 3759    | 101     | 1450532 | 2460168 | 552     | 33253   | 7974    | 310733  | 178258  | 1408    | 24060   | 3037    | 600     | 205691  | 119     | 34      | 2846    | \n",
       "| 1546489 | 3511    |  90     | 1463754 | 2484180 | 511     | 33253   | 7990    | 325096  | 185727  | 1464    | 24055   | 2867    | 524     | 206180  | 111     | 38      | 2955    | \n",
       "| 1546490 | 3652    |  81     | 1445434 | 2450448 | 531     | 33253   | 7963    | 312818  | 179060  | 1424    | 24063   | 3115    | 603     | 206026  | 119     | 37      | 2902    | \n",
       "| 1546491 | 3599    |  99     | 4012772 | 7178400 | 591     | 33780   | 8006    | 315077  | 180814  | 1408    | 24056   | 2989    | 529     | 205100  | 128     | 39      | 3074    | \n",
       "| 1546492 | 4817    | 178     | 1878879 | 3304206 | 970     | 33322   | 8015    | 324512  | 184980  | 1441    | 24056   | 3023    | 600     | 209945  | 124     | 37      | 2828    | \n",
       "| 1546493 | 3617    |  85     | 1437508 | 2435238 | 462     | 33253   | 8020    | 322420  | 184048  | 1455    | 24059   | 2900    | 521     | 204916  | 113     | 37      | 2797    | \n",
       "| 1546494 | 3717    |  63     | 1431871 | 2433654 | 454     | 33253   | 7990    | 315083  | 180438  | 1416    | 24052   | 2929    | 540     | 207215  | 123     | 40      | 3009    | \n",
       "| 1546495 | 3400    |  73     | 1423203 | 2446398 | 394     | 33258   | 8020    | 333043  | 189779  | 1495    | 24060   | 3082    | 614     | 210577  | 126     | 34      | 2926    | \n",
       "| 1546496 | 3804    |  90     | 1456682 | 2469744 | 426     | 33253   | 7995    | 314694  | 180188  | 1420    | 24054   | 2864    | 522     | 209720  | 120     | 35      | 2966    | \n",
       "| 1546497 | 3743    |  68     | 1460840 | 2484594 | 451     | 33258   | 7977    | 312177  | 179105  | 1394    | 24058   | 3056    | 595     | 204651  | 125     | 42      | 2790    | \n",
       "| 1546498 | 3419    |  87     | 1422451 | 2415186 | 443     | 33253   | 7980    | 324172  | 185113  | 1406    | 24062   | 2869    | 526     | 204609  | 120     | 43      | 2835    | \n",
       "| 1546499 | 3642    |  82     | 1432100 | 2436030 | 421     | 33253   | 7964    | 315088  | 180160  | 1397    | 24059   | 3130    | 598     | 205676  | 121     | 37      | 3059    | \n",
       "| 1546500 | 3455    |  88     | 1453817 | 2463012 | 416     | 33253   | 7976    | 315782  | 180868  | 1388    | 24061   | 2874    | 528     | 210025  | 133     | 38      | 2933    | \n",
       "\n",
       "\n"
      ],
      "text/plain": [
       "        PAPI_L1_DCM PAPI_L3_TCM PAPI_TOT_INS PAPI_REF_CYC PAPI_L2_LDM\n",
       "792001  24617       9499        1478623      2662416      8432       \n",
       "792002  23227        102        2274481      3496662      3924       \n",
       "792003  23279        109        2293204      3520278      2749       \n",
       "792004  23230        115        2273370      3474990      2299       \n",
       "792005  23202        125        2293132      3513654      2621       \n",
       "792006  23179        123        2279235      3492144      2620       \n",
       "792007  23208        114        2378409      3660786      2485       \n",
       "792008  23132        106        2300016      3518082      2288       \n",
       "792009  23160        125        2290450      3511962      2569       \n",
       "792010  23158        111        2289420      3501702      2619       \n",
       "792011  23188        112        2275140      3472200      2486       \n",
       "792012  23158        110        2305592      3521628      2326       \n",
       "792013  23177        118        2290117      3504960      2442       \n",
       "792014  23317        117        2775597      4349682      2531       \n",
       "792015  23156        115        2307533      3546018      2310       \n",
       "792016  23164        124        2256222      3448170      2653       \n",
       "792017  23173        112        2423052      3737304      2533       \n",
       "792018  23243        125        2340152      3605562      2668       \n",
       "792019  23155        115        2299655      3512628      2300       \n",
       "792020  23208        117        2286947      3498192      2506       \n",
       "792021  23172        120        2265527      3467502      2558       \n",
       "792022  23129        114        2277289      3472884      2112       \n",
       "792023  23188        113        2309894      3535938      2538       \n",
       "792024  23171        120        2143916      3247272      2642       \n",
       "792025  23289        116        2136890      3243888      2705       \n",
       "792026  23137        102        2094306      3156786      2492       \n",
       "792027  23138        110        2131636      3226680      2675       \n",
       "792028  23181        121        2073757      3136374      2812       \n",
       "792029  23209        105        2100786      3166848      2511       \n",
       "792030  23149        106        2092423      3158352      2613       \n",
       "...     ...         ...         ...          ...          ...        \n",
       "1546471 3654         83         1467680      2490498      525        \n",
       "1546472 3388         88         1437753      2435598      502        \n",
       "1546473 3701         87         1446026      2451258      509        \n",
       "1546474 3574         92         1510490      2575170      610        \n",
       "1546475 3777         69         1441619      2445408      528        \n",
       "1546476 3649         76         1445364      2450448      532        \n",
       "1546477 3431         96         1425302      2414502      480        \n",
       "1546478 3728         92         1471094      2496204      534        \n",
       "1546479 3411         88         1437720      2439828      480        \n",
       "1546480 3682         99         1440038      2439414      546        \n",
       "1546481 3819         93         1471361      2502216      578        \n",
       "1546482 3420         90         1439031      2439000      512        \n",
       "1546483 3671         82         1440826      2441034      503        \n",
       "1546484 3448         82         1430637      2425374      500        \n",
       "1546485 3794         95         1486276      2526696      564        \n",
       "1546486 3734         85         1461736      2483874      575        \n",
       "1546487 3421         83         1442569      2443572      523        \n",
       "1546488 3759        101         1450532      2460168      552        \n",
       "1546489 3511         90         1463754      2484180      511        \n",
       "1546490 3652         81         1445434      2450448      531        \n",
       "1546491 3599         99         4012772      7178400      591        \n",
       "1546492 4817        178         1878879      3304206      970        \n",
       "1546493 3617         85         1437508      2435238      462        \n",
       "1546494 3717         63         1431871      2433654      454        \n",
       "1546495 3400         73         1423203      2446398      394        \n",
       "1546496 3804         90         1456682      2469744      426        \n",
       "1546497 3743         68         1460840      2484594      451        \n",
       "1546498 3419         87         1422451      2415186      443        \n",
       "1546499 3642         82         1432100      2436030      421        \n",
       "1546500 3455         88         1453817      2463012      416        \n",
       "        PAPI_SR_INS PAPI_BR_UCN PAPI_BR_CN PAPI_BR_TKN PAPI_BR_MSP PAPI_FP_OPS\n",
       "792001  109538      8239        337162     229506      1730        129        \n",
       "792002  108220      8012        604108     363338      1363         75        \n",
       "792003  108220      8017        634602     378424      1417         75        \n",
       "792004  108226      8021        598883     360332      1353         69        \n",
       "792005  108220      8021        586851     354298      1325         81        \n",
       "792006  108220      8036        595037     358486      1377         81        \n",
       "792007  108225      8021        594089     358085      1359         69        \n",
       "792008  108220      8009        589023     355459      1335         81        \n",
       "792009  108220      8025        594675     358389      1360         75        \n",
       "792010  108220      8034        595500     358801      1330         81        \n",
       "792011  108227      8002        591527     356746      1293         75        \n",
       "792012  108220      8047        599167     360554      1377         81        \n",
       "792013  108220      8030        594692     358432      1348         81        \n",
       "792014  108224      8011        586711     354375      1335         81        \n",
       "792015  108225      8064        634975     378632      1431         69        \n",
       "792016  108220      8064        599332     360284      1363         81        \n",
       "792017  108220      7991        582098     352028      1307         75        \n",
       "792018  108226      8011        603517     362805      1367         75        \n",
       "792019  108220      8018        597264     359284      1358         63        \n",
       "792020  108220      8014        601356     361609      1364         81        \n",
       "792021  108220      8022        589720     355839      1361         75        \n",
       "792022  108225      8020        595035     358148      1355         75        \n",
       "792023  108220      8016        589594     355801      1324         81        \n",
       "792024  108220      8015        600418     361075      1364         75        \n",
       "792025  108226      8018        597574     359379      1372         81        \n",
       "792026  108220      8011        582628     352200      1320         75        \n",
       "792027  108220      8033        599998     361031      1399         75        \n",
       "792028  108226      8037        596805     359093      1367         81        \n",
       "792029  108220      7992        601552     361793      1299         75        \n",
       "792030  108220      8023        587294     354611      1339         69        \n",
       "...     ...         ...         ...        ...         ...         ...        \n",
       "1546471 33253       7988        322349     183957      1470        24054      \n",
       "1546472 33253       7981        322053     183829      1410        24053      \n",
       "1546473 33253       8000        318159     181808      1436        24058      \n",
       "1546474 33259       7997        314294     180233      1399        24060      \n",
       "1546475 33253       7964        310020     177660      1400        24060      \n",
       "1546476 33253       7976        313197     179405      1402        24057      \n",
       "1546477 33253       7991        311564     179018      1397        24065      \n",
       "1546478 33253       7997        314068     180167      1419        24061      \n",
       "1546479 33258       7982        311183     178318      1408        24062      \n",
       "1546480 33253       7973        315702     180670      1420        24050      \n",
       "1546481 33258       7993        312083     178744      1420        24062      \n",
       "1546482 33253       8034        325912     185869      1488        24064      \n",
       "1546483 33253       7996        315138     180726      1416        24054      \n",
       "1546484 33253       7993        318457     182096      1451        24061      \n",
       "1546485 33253       7964        312026     178831      1404        24058      \n",
       "1546486 33258       8007        315926     180853      1456        24063      \n",
       "1546487 33253       7958        314199     180153      1428        24057      \n",
       "1546488 33253       7974        310733     178258      1408        24060      \n",
       "1546489 33253       7990        325096     185727      1464        24055      \n",
       "1546490 33253       7963        312818     179060      1424        24063      \n",
       "1546491 33780       8006        315077     180814      1408        24056      \n",
       "1546492 33322       8015        324512     184980      1441        24056      \n",
       "1546493 33253       8020        322420     184048      1455        24059      \n",
       "1546494 33253       7990        315083     180438      1416        24052      \n",
       "1546495 33258       8020        333043     189779      1495        24060      \n",
       "1546496 33253       7995        314694     180188      1420        24054      \n",
       "1546497 33258       7977        312177     179105      1394        24058      \n",
       "1546498 33253       7980        324172     185113      1406        24062      \n",
       "1546499 33253       7964        315088     180160      1397        24059      \n",
       "1546500 33253       7976        315782     180868      1388        24061      \n",
       "        PAPI_L1_LDM PAPI_L1_STM PAPI_LD_INS PAPI_L2_STM PAPI_TLB_DM PAPI_L2_DCH\n",
       "792001  12249       8574        244897      7467        529          4917      \n",
       "792002  12134       9311        379693      3998         75         12686      \n",
       "792003  12272       9685        376522      1743         70         17507      \n",
       "792004  12252       9700        371659      1411         59         18315      \n",
       "792005  12524       9878        373736      1526         57         17779      \n",
       "792006  12365       9762        382602      1436         62         17839      \n",
       "792007  12352       9759        370997      1295         59         18173      \n",
       "792008  12393       9817        378620      1555         56         17614      \n",
       "792009  12321       9770        368691      1512         58         18280      \n",
       "792010  12437       9757        381270      1414         57         17870      \n",
       "792011  12407       9851        372733      1583         62         17950      \n",
       "792012  12331       9752        372732      1337         51         18354      \n",
       "792013  12428       9788        371394      1598         58         17572      \n",
       "792014  12447       9790        373575      1590         53         18448      \n",
       "792015  12350       9804        373451      1230         61         17791      \n",
       "792016  12384       9761        372819      1491         66         17402      \n",
       "792017  12422       9874        377621      1552         57         18404      \n",
       "792018  12477       9805        382047      1328         57         17617      \n",
       "792019  12518       9776        373558      1491         54         17792      \n",
       "792020  12433       9878        374736      1510         63         18289      \n",
       "792021  12448       9723        376427      1357         57         17492      \n",
       "792022  12467       9775        369944      1560         51         18483      \n",
       "792023  12473       9885        371306      1423         53         17653      \n",
       "792024  12363       9745        370276      1306         59         17934      \n",
       "792025  12458       9772        379384      1581         57         18198      \n",
       "792026  12504       9913        376088      1275         54         17614      \n",
       "792027  12377       9818        373498      1555         57         18487      \n",
       "792028  12498       9854        364364      1537         61         17768      \n",
       "792029  12450       9759        375695      1328         57         17624      \n",
       "792030  12357       9750        375012      1575         57         18487      \n",
       "...     ...         ...         ...         ...         ...         ...        \n",
       "1546471 2871        533         214267      129         43          2885       \n",
       "1546472 2949        538         206231      128         43          3101       \n",
       "1546473 3081        617         206292      125         40          2895       \n",
       "1546474 2879        529         206365      116         37          3099       \n",
       "1546475 3146        596         204702      120         43          2883       \n",
       "1546476 2897        526         211081      131         39          2842       \n",
       "1546477 3022        586         205422      119         39          3109       \n",
       "1546478 2929        528         209209      136         35          2928       \n",
       "1546479 3062        588         210436      116         37          3028       \n",
       "1546480 2855        518         210072      133         40          2883       \n",
       "1546481 3148        607         206903      127         36          2918       \n",
       "1546482 2803        526         204724      112         36          3070       \n",
       "1546483 3015        538         206213      123         40          2801       \n",
       "1546484 3057        614         209530      129         38          2984       \n",
       "1546485 2913        525         206312      124         36          2940       \n",
       "1546486 3097        602         206407      131         36          2792       \n",
       "1546487 2977        539         214441      133         36          3049       \n",
       "1546488 3037        600         205691      119         34          2846       \n",
       "1546489 2867        524         206180      111         38          2955       \n",
       "1546490 3115        603         206026      119         37          2902       \n",
       "1546491 2989        529         205100      128         39          3074       \n",
       "1546492 3023        600         209945      124         37          2828       \n",
       "1546493 2900        521         204916      113         37          2797       \n",
       "1546494 2929        540         207215      123         40          3009       \n",
       "1546495 3082        614         210577      126         34          2926       \n",
       "1546496 2864        522         209720      120         35          2966       \n",
       "1546497 3056        595         204651      125         42          2790       \n",
       "1546498 2869        526         204609      120         43          2835       \n",
       "1546499 3130        598         205676      121         37          3059       \n",
       "1546500 2874        528         210025      133         38          2933       "
      ]
     },
     "metadata": {},
     "output_type": "display_data"
    }
   ],
   "source": [
    "new_mydata"
   ]
  },
  {
   "cell_type": "code",
   "execution_count": 23,
   "metadata": {},
   "outputs": [
    {
     "data": {
      "text/html": [
       "<ol class=list-inline>\n",
       "\t<li>'id'</li>\n",
       "\t<li>'size_vector'</li>\n",
       "\t<li>'comp_opt'</li>\n",
       "\t<li>'label'</li>\n",
       "\t<li>'threads'</li>\n",
       "\t<li>'PAPI_L1_DCM'</li>\n",
       "\t<li>'PAPI_L3_TCM'</li>\n",
       "\t<li>'PAPI_TOT_INS'</li>\n",
       "\t<li>'PAPI_REF_CYC'</li>\n",
       "\t<li>'PAPI_L2_LDM'</li>\n",
       "\t<li>'PAPI_SR_INS'</li>\n",
       "\t<li>'PAPI_BR_UCN'</li>\n",
       "\t<li>'PAPI_BR_CN'</li>\n",
       "\t<li>'PAPI_BR_TKN'</li>\n",
       "\t<li>'PAPI_BR_MSP'</li>\n",
       "\t<li>'PAPI_FP_OPS'</li>\n",
       "\t<li>'PAPI_L1_LDM'</li>\n",
       "\t<li>'PAPI_L1_STM'</li>\n",
       "\t<li>'PAPI_LD_INS'</li>\n",
       "\t<li>'PAPI_L2_STM'</li>\n",
       "\t<li>'PAPI_TLB_DM'</li>\n",
       "\t<li>'PAPI_L2_DCH'</li>\n",
       "</ol>\n"
      ],
      "text/latex": [
       "\\begin{enumerate*}\n",
       "\\item 'id'\n",
       "\\item 'size\\_vector'\n",
       "\\item 'comp\\_opt'\n",
       "\\item 'label'\n",
       "\\item 'threads'\n",
       "\\item 'PAPI\\_L1\\_DCM'\n",
       "\\item 'PAPI\\_L3\\_TCM'\n",
       "\\item 'PAPI\\_TOT\\_INS'\n",
       "\\item 'PAPI\\_REF\\_CYC'\n",
       "\\item 'PAPI\\_L2\\_LDM'\n",
       "\\item 'PAPI\\_SR\\_INS'\n",
       "\\item 'PAPI\\_BR\\_UCN'\n",
       "\\item 'PAPI\\_BR\\_CN'\n",
       "\\item 'PAPI\\_BR\\_TKN'\n",
       "\\item 'PAPI\\_BR\\_MSP'\n",
       "\\item 'PAPI\\_FP\\_OPS'\n",
       "\\item 'PAPI\\_L1\\_LDM'\n",
       "\\item 'PAPI\\_L1\\_STM'\n",
       "\\item 'PAPI\\_LD\\_INS'\n",
       "\\item 'PAPI\\_L2\\_STM'\n",
       "\\item 'PAPI\\_TLB\\_DM'\n",
       "\\item 'PAPI\\_L2\\_DCH'\n",
       "\\end{enumerate*}\n"
      ],
      "text/markdown": [
       "1. 'id'\n",
       "2. 'size_vector'\n",
       "3. 'comp_opt'\n",
       "4. 'label'\n",
       "5. 'threads'\n",
       "6. 'PAPI_L1_DCM'\n",
       "7. 'PAPI_L3_TCM'\n",
       "8. 'PAPI_TOT_INS'\n",
       "9. 'PAPI_REF_CYC'\n",
       "10. 'PAPI_L2_LDM'\n",
       "11. 'PAPI_SR_INS'\n",
       "12. 'PAPI_BR_UCN'\n",
       "13. 'PAPI_BR_CN'\n",
       "14. 'PAPI_BR_TKN'\n",
       "15. 'PAPI_BR_MSP'\n",
       "16. 'PAPI_FP_OPS'\n",
       "17. 'PAPI_L1_LDM'\n",
       "18. 'PAPI_L1_STM'\n",
       "19. 'PAPI_LD_INS'\n",
       "20. 'PAPI_L2_STM'\n",
       "21. 'PAPI_TLB_DM'\n",
       "22. 'PAPI_L2_DCH'\n",
       "\n",
       "\n"
      ],
      "text/plain": [
       " [1] \"id\"           \"size_vector\"  \"comp_opt\"     \"label\"        \"threads\"     \n",
       " [6] \"PAPI_L1_DCM\"  \"PAPI_L3_TCM\"  \"PAPI_TOT_INS\" \"PAPI_REF_CYC\" \"PAPI_L2_LDM\" \n",
       "[11] \"PAPI_SR_INS\"  \"PAPI_BR_UCN\"  \"PAPI_BR_CN\"   \"PAPI_BR_TKN\"  \"PAPI_BR_MSP\" \n",
       "[16] \"PAPI_FP_OPS\"  \"PAPI_L1_LDM\"  \"PAPI_L1_STM\"  \"PAPI_LD_INS\"  \"PAPI_L2_STM\" \n",
       "[21] \"PAPI_TLB_DM\"  \"PAPI_L2_DCH\" "
      ]
     },
     "metadata": {},
     "output_type": "display_data"
    }
   ],
   "source": [
    "colnames(mydata_no_time)\n",
    "log.ir <-scale(new_mydata, center = TRUE, scale = TRUE)\n",
    "res.label <- mydata_no_time[,4]\n",
    "res.pca <- prcomp(log.ir, center = TRUE, scale. = TRUE)\n",
    "\n"
   ]
  },
  {
   "cell_type": "code",
   "execution_count": 24,
   "metadata": {},
   "outputs": [
    {
     "name": "stdout",
     "output_type": "stream",
     "text": [
      "Standard deviations (1, .., p=17):\n",
      " [1] 3.382456378 1.523801528 0.953991976 0.778129296 0.763706396 0.685767920\n",
      " [7] 0.524393017 0.463327954 0.289165939 0.229676801 0.199087649 0.031027217\n",
      "[13] 0.025065292 0.021141254 0.012111684 0.006725872 0.003438883\n",
      "\n",
      "Rotation (n x k) = (17 x 17):\n",
      "                   PC1         PC2          PC3         PC4          PC5\n",
      "PAPI_L1_DCM  0.2755831 -0.18478639 -0.194189847  0.04819694 -0.002372899\n",
      "PAPI_L3_TCM  0.2545542 -0.20274092 -0.124881326 -0.23778477 -0.244587796\n",
      "PAPI_TOT_INS 0.2618060  0.28254701  0.008805725  0.13549282  0.016017292\n",
      "PAPI_REF_CYC 0.2702261 -0.14241170 -0.168777536 -0.26051610 -0.203087921\n",
      "PAPI_L2_LDM  0.2408740 -0.25610906 -0.066535216  0.26118330  0.011497291\n",
      "PAPI_SR_INS  0.2716668  0.17538743  0.105193609  0.16597464  0.048367517\n",
      "PAPI_BR_UCN  0.1944126  0.03215587  0.122350722 -0.56772200  0.758187287\n",
      "PAPI_BR_CN   0.2703230  0.18611765  0.150810547  0.16454658  0.087185659\n",
      "PAPI_BR_TKN  0.2702626  0.18610920  0.151042940  0.16618899  0.084912786\n",
      "PAPI_BR_MSP  0.2672213 -0.09039439  0.108749517 -0.33549839 -0.316708419\n",
      "PAPI_FP_OPS  0.2034769  0.38338835 -0.311968735 -0.04044785 -0.113071991\n",
      "PAPI_L1_LDM  0.2610714 -0.16116374 -0.081225822  0.20038792 -0.028515589\n",
      "PAPI_L1_STM  0.2471577 -0.24828589 -0.199757248  0.08766622  0.161664105\n",
      "PAPI_LD_INS  0.2316962  0.27238788  0.317641013  0.26140558  0.042173844\n",
      "PAPI_L2_STM  0.2284186 -0.31356302 -0.178589366  0.15961286  0.214821202\n",
      "PAPI_TLB_DM  0.1463898 -0.27956918  0.731859360 -0.12003640 -0.230557857\n",
      "PAPI_L2_DCH  0.1805892  0.40561055 -0.134356992 -0.33449639 -0.255767881\n",
      "                      PC6          PC7         PC8           PC9         PC10\n",
      "PAPI_L1_DCM   0.075457159 -0.125494568 -0.06226775  1.761395e-01 -0.024404534\n",
      "PAPI_L3_TCM   0.021299757  0.513792619 -0.03098798  6.400175e-04  0.100869765\n",
      "PAPI_TOT_INS -0.044624697  0.061563180  0.14482041 -3.330900e-01 -0.142852859\n",
      "PAPI_REF_CYC -0.118480246  0.245814841 -0.08206504  4.512395e-02  0.033990504\n",
      "PAPI_L2_LDM   0.536334700 -0.085719065  0.04815145 -6.554023e-02 -0.007991737\n",
      "PAPI_SR_INS  -0.060355690  0.035728830 -0.28467260 -4.425375e-02 -0.801872073\n",
      "PAPI_BR_UCN   0.203359676  0.039563167  0.07520018  1.350171e-03 -0.020577696\n",
      "PAPI_BR_CN   -0.079204803  0.066653001 -0.35962764 -1.828479e-01  0.369215957\n",
      "PAPI_BR_TKN  -0.080330909  0.066693581 -0.36016301 -1.832511e-01  0.370007531\n",
      "PAPI_BR_MSP  -0.001268353  0.008954665 -0.16814758  1.855720e-01 -0.147518796\n",
      "PAPI_FP_OPS  -0.002349449  0.148894036  0.58290680 -3.118978e-01  0.009179119\n",
      "PAPI_L1_LDM   0.502906073 -0.176534279  0.06796176 -8.871788e-05  0.070024497\n",
      "PAPI_L1_STM  -0.415571618 -0.257372841  0.08975942  2.447765e-02 -0.006591104\n",
      "PAPI_LD_INS  -0.037014674  0.196465216  0.32386864  7.326811e-01  0.093710414\n",
      "PAPI_L2_STM  -0.443034883 -0.148036411  0.14738430  3.204099e-02  0.044986553\n",
      "PAPI_TLB_DM  -0.093261560 -0.204103849  0.32450914 -2.992594e-01  0.009081836\n",
      "PAPI_L2_DCH   0.021797779 -0.644318707 -0.08212545  1.516525e-01  0.115214810\n",
      "                     PC11         PC12         PC13         PC14          PC15\n",
      "PAPI_L1_DCM   0.358813801  0.616000919  0.477467001 -0.036980876  0.1952981995\n",
      "PAPI_L3_TCM  -0.397516779  0.042924075 -0.092949642  0.279360829  0.4503649544\n",
      "PAPI_TOT_INS  0.213551554  0.465160215 -0.606314257  0.201784823 -0.0531280480\n",
      "PAPI_REF_CYC -0.184053353  0.191535732  0.014725683 -0.326792903 -0.6507826472\n",
      "PAPI_L2_LDM  -0.075495373 -0.151739021 -0.191818587 -0.229668016 -0.2416145891\n",
      "PAPI_SR_INS  -0.250887015 -0.111036608  0.218023501  0.003477474  0.0260048528\n",
      "PAPI_BR_UCN  -0.005341299 -0.001009802  0.002721462  0.001261078  0.0006035318\n",
      "PAPI_BR_CN    0.035854269 -0.091228765  0.097787113 -0.043048107  0.0153852454\n",
      "PAPI_BR_TKN   0.036136344 -0.092648240  0.120346561 -0.052665976  0.0136455728\n",
      "PAPI_BR_MSP   0.642063753 -0.401864878 -0.183724503  0.049883465  0.0339124777\n",
      "PAPI_FP_OPS   0.127897286 -0.272900071  0.357852497 -0.136905437  0.0391830143\n",
      "PAPI_L1_LDM  -0.083456978 -0.127117405  0.009359028  0.226932978  0.1098629689\n",
      "PAPI_L1_STM  -0.090401116 -0.107747885 -0.291483868 -0.528584510  0.3970923643\n",
      "PAPI_LD_INS  -0.064520041  0.015587570 -0.057554877 -0.045547640 -0.0276627662\n",
      "PAPI_L2_STM  -0.002856995 -0.188759957  0.084258785  0.586114254 -0.3156812576\n",
      "PAPI_TLB_DM  -0.108759833  0.105912666  0.164248421 -0.040395856  0.0119824999\n",
      "PAPI_L2_DCH  -0.320544407  0.050498619 -0.054009027  0.127762867 -0.0145325904\n",
      "                      PC16          PC17\n",
      "PAPI_L1_DCM  -0.1308568470 -0.0108313061\n",
      "PAPI_L3_TCM  -0.1928482654 -0.0017400180\n",
      "PAPI_TOT_INS  0.0391468729  0.0124387153\n",
      "PAPI_REF_CYC  0.2891203089  0.0053138290\n",
      "PAPI_L2_LDM  -0.5701302481 -0.0154672013\n",
      "PAPI_SR_INS   0.0079425631 -0.0030932500\n",
      "PAPI_BR_UCN  -0.0002935642  0.0020259641\n",
      "PAPI_BR_CN    0.0077900036 -0.7097478825\n",
      "PAPI_BR_TKN  -0.0336098321  0.7036413893\n",
      "PAPI_BR_MSP  -0.0060621787  0.0025485167\n",
      "PAPI_FP_OPS  -0.0362410128 -0.0079083053\n",
      "PAPI_L1_LDM   0.6909745329  0.0217956249\n",
      "PAPI_L1_STM   0.1185387605  0.0048472369\n",
      "PAPI_LD_INS  -0.0096600126  0.0002876655\n",
      "PAPI_L2_STM  -0.1307335082 -0.0018750957\n",
      "PAPI_TLB_DM  -0.0107388719 -0.0034512262\n",
      "PAPI_L2_DCH  -0.1552859716 -0.0027271277\n"
     ]
    }
   ],
   "source": [
    "print(res.pca)"
   ]
  },
  {
   "cell_type": "code",
   "execution_count": 25,
   "metadata": {},
   "outputs": [
    {
     "data": {
      "text/html": [
       "<ol class=list-inline>\n",
       "\t<li>'sdev'</li>\n",
       "\t<li>'rotation'</li>\n",
       "\t<li>'center'</li>\n",
       "\t<li>'scale'</li>\n",
       "\t<li>'x'</li>\n",
       "</ol>\n"
      ],
      "text/latex": [
       "\\begin{enumerate*}\n",
       "\\item 'sdev'\n",
       "\\item 'rotation'\n",
       "\\item 'center'\n",
       "\\item 'scale'\n",
       "\\item 'x'\n",
       "\\end{enumerate*}\n"
      ],
      "text/markdown": [
       "1. 'sdev'\n",
       "2. 'rotation'\n",
       "3. 'center'\n",
       "4. 'scale'\n",
       "5. 'x'\n",
       "\n",
       "\n"
      ],
      "text/plain": [
       "[1] \"sdev\"     \"rotation\" \"center\"   \"scale\"    \"x\"       "
      ]
     },
     "metadata": {},
     "output_type": "display_data"
    }
   ],
   "source": [
    "names(res.pca)"
   ]
  },
  {
   "cell_type": "code",
   "execution_count": 26,
   "metadata": {},
   "outputs": [
    {
     "name": "stdout",
     "output_type": "stream",
     "text": [
      " [1] 3.382456378 1.523801528 0.953991976 0.778129296 0.763706396 0.685767920\n",
      " [7] 0.524393017 0.463327954 0.289165939 0.229676801 0.199087649 0.031027217\n",
      "[13] 0.025065292 0.021141254 0.012111684 0.006725872 0.003438883\n"
     ]
    }
   ],
   "source": [
    "print(res.pca$sdev)"
   ]
  },
  {
   "cell_type": "code",
   "execution_count": 27,
   "metadata": {},
   "outputs": [
    {
     "data": {
      "text/html": [
       "<table>\n",
       "<thead><tr><th></th><th scope=col>PC1</th><th scope=col>PC2</th><th scope=col>PC3</th><th scope=col>PC4</th><th scope=col>PC5</th><th scope=col>PC6</th><th scope=col>PC7</th><th scope=col>PC8</th><th scope=col>PC9</th><th scope=col>PC10</th><th scope=col>PC11</th><th scope=col>PC12</th><th scope=col>PC13</th><th scope=col>PC14</th><th scope=col>PC15</th><th scope=col>PC16</th><th scope=col>PC17</th></tr></thead>\n",
       "<tbody>\n",
       "\t<tr><th scope=row>PAPI_L1_DCM</th><td>0.2755831    </td><td>-0.1847864   </td><td>-0.194189847 </td><td> 0.04819694  </td><td>-0.002372899 </td><td> 0.07545716  </td><td>-0.12549457  </td><td>-0.06226775  </td><td> 0.1761395116</td><td>-0.024404534 </td><td> 0.35881380  </td><td> 0.61600092  </td><td> 0.47746700  </td><td>-0.036980876 </td><td> 0.19529820  </td><td>-0.130856847 </td><td>-0.010831306 </td></tr>\n",
       "\t<tr><th scope=row>PAPI_L3_TCM</th><td>0.2545542    </td><td>-0.2027409   </td><td>-0.124881326 </td><td>-0.23778477  </td><td>-0.244587796 </td><td> 0.02129976  </td><td> 0.51379262  </td><td>-0.03098798  </td><td> 0.0006400175</td><td> 0.100869765 </td><td>-0.39751678  </td><td> 0.04292408  </td><td>-0.09294964  </td><td> 0.279360829 </td><td> 0.45036495  </td><td>-0.192848265 </td><td>-0.001740018 </td></tr>\n",
       "\t<tr><th scope=row>PAPI_TOT_INS</th><td>0.2618060    </td><td> 0.2825470   </td><td> 0.008805725 </td><td> 0.13549282  </td><td> 0.016017292 </td><td>-0.04462470  </td><td> 0.06156318  </td><td> 0.14482041  </td><td>-0.3330899760</td><td>-0.142852859 </td><td> 0.21355155  </td><td> 0.46516021  </td><td>-0.60631426  </td><td> 0.201784823 </td><td>-0.05312805  </td><td> 0.039146873 </td><td> 0.012438715 </td></tr>\n",
       "\t<tr><th scope=row>PAPI_REF_CYC</th><td>0.2702261    </td><td>-0.1424117   </td><td>-0.168777536 </td><td>-0.26051610  </td><td>-0.203087921 </td><td>-0.11848025  </td><td> 0.24581484  </td><td>-0.08206504  </td><td> 0.0451239549</td><td> 0.033990504 </td><td>-0.18405335  </td><td> 0.19153573  </td><td> 0.01472568  </td><td>-0.326792903 </td><td>-0.65078265  </td><td> 0.289120309 </td><td> 0.005313829 </td></tr>\n",
       "\t<tr><th scope=row>PAPI_L2_LDM</th><td>0.2408740    </td><td>-0.2561091   </td><td>-0.066535216 </td><td> 0.26118330  </td><td> 0.011497291 </td><td> 0.53633470  </td><td>-0.08571906  </td><td> 0.04815145  </td><td>-0.0655402257</td><td>-0.007991737 </td><td>-0.07549537  </td><td>-0.15173902  </td><td>-0.19181859  </td><td>-0.229668016 </td><td>-0.24161459  </td><td>-0.570130248 </td><td>-0.015467201 </td></tr>\n",
       "\t<tr><th scope=row>PAPI_SR_INS</th><td>0.2716668    </td><td> 0.1753874   </td><td> 0.105193609 </td><td> 0.16597464  </td><td> 0.048367517 </td><td>-0.06035569  </td><td> 0.03572883  </td><td>-0.28467260  </td><td>-0.0442537515</td><td>-0.801872073 </td><td>-0.25088701  </td><td>-0.11103661  </td><td> 0.21802350  </td><td> 0.003477474 </td><td> 0.02600485  </td><td> 0.007942563 </td><td>-0.003093250 </td></tr>\n",
       "</tbody>\n",
       "</table>\n"
      ],
      "text/latex": [
       "\\begin{tabular}{r|lllllllllllllllll}\n",
       "  & PC1 & PC2 & PC3 & PC4 & PC5 & PC6 & PC7 & PC8 & PC9 & PC10 & PC11 & PC12 & PC13 & PC14 & PC15 & PC16 & PC17\\\\\n",
       "\\hline\n",
       "\tPAPI\\_L1\\_DCM & 0.2755831     & -0.1847864    & -0.194189847  &  0.04819694   & -0.002372899  &  0.07545716   & -0.12549457   & -0.06226775   &  0.1761395116 & -0.024404534  &  0.35881380   &  0.61600092   &  0.47746700   & -0.036980876  &  0.19529820   & -0.130856847  & -0.010831306 \\\\\n",
       "\tPAPI\\_L3\\_TCM & 0.2545542     & -0.2027409    & -0.124881326  & -0.23778477   & -0.244587796  &  0.02129976   &  0.51379262   & -0.03098798   &  0.0006400175 &  0.100869765  & -0.39751678   &  0.04292408   & -0.09294964   &  0.279360829  &  0.45036495   & -0.192848265  & -0.001740018 \\\\\n",
       "\tPAPI\\_TOT\\_INS & 0.2618060     &  0.2825470    &  0.008805725  &  0.13549282   &  0.016017292  & -0.04462470   &  0.06156318   &  0.14482041   & -0.3330899760 & -0.142852859  &  0.21355155   &  0.46516021   & -0.60631426   &  0.201784823  & -0.05312805   &  0.039146873  &  0.012438715 \\\\\n",
       "\tPAPI\\_REF\\_CYC & 0.2702261     & -0.1424117    & -0.168777536  & -0.26051610   & -0.203087921  & -0.11848025   &  0.24581484   & -0.08206504   &  0.0451239549 &  0.033990504  & -0.18405335   &  0.19153573   &  0.01472568   & -0.326792903  & -0.65078265   &  0.289120309  &  0.005313829 \\\\\n",
       "\tPAPI\\_L2\\_LDM & 0.2408740     & -0.2561091    & -0.066535216  &  0.26118330   &  0.011497291  &  0.53633470   & -0.08571906   &  0.04815145   & -0.0655402257 & -0.007991737  & -0.07549537   & -0.15173902   & -0.19181859   & -0.229668016  & -0.24161459   & -0.570130248  & -0.015467201 \\\\\n",
       "\tPAPI\\_SR\\_INS & 0.2716668     &  0.1753874    &  0.105193609  &  0.16597464   &  0.048367517  & -0.06035569   &  0.03572883   & -0.28467260   & -0.0442537515 & -0.801872073  & -0.25088701   & -0.11103661   &  0.21802350   &  0.003477474  &  0.02600485   &  0.007942563  & -0.003093250 \\\\\n",
       "\\end{tabular}\n"
      ],
      "text/markdown": [
       "\n",
       "| <!--/--> | PC1 | PC2 | PC3 | PC4 | PC5 | PC6 | PC7 | PC8 | PC9 | PC10 | PC11 | PC12 | PC13 | PC14 | PC15 | PC16 | PC17 | \n",
       "|---|---|---|---|---|---|\n",
       "| PAPI_L1_DCM | 0.2755831     | -0.1847864    | -0.194189847  |  0.04819694   | -0.002372899  |  0.07545716   | -0.12549457   | -0.06226775   |  0.1761395116 | -0.024404534  |  0.35881380   |  0.61600092   |  0.47746700   | -0.036980876  |  0.19529820   | -0.130856847  | -0.010831306  | \n",
       "| PAPI_L3_TCM | 0.2545542     | -0.2027409    | -0.124881326  | -0.23778477   | -0.244587796  |  0.02129976   |  0.51379262   | -0.03098798   |  0.0006400175 |  0.100869765  | -0.39751678   |  0.04292408   | -0.09294964   |  0.279360829  |  0.45036495   | -0.192848265  | -0.001740018  | \n",
       "| PAPI_TOT_INS | 0.2618060     |  0.2825470    |  0.008805725  |  0.13549282   |  0.016017292  | -0.04462470   |  0.06156318   |  0.14482041   | -0.3330899760 | -0.142852859  |  0.21355155   |  0.46516021   | -0.60631426   |  0.201784823  | -0.05312805   |  0.039146873  |  0.012438715  | \n",
       "| PAPI_REF_CYC | 0.2702261     | -0.1424117    | -0.168777536  | -0.26051610   | -0.203087921  | -0.11848025   |  0.24581484   | -0.08206504   |  0.0451239549 |  0.033990504  | -0.18405335   |  0.19153573   |  0.01472568   | -0.326792903  | -0.65078265   |  0.289120309  |  0.005313829  | \n",
       "| PAPI_L2_LDM | 0.2408740     | -0.2561091    | -0.066535216  |  0.26118330   |  0.011497291  |  0.53633470   | -0.08571906   |  0.04815145   | -0.0655402257 | -0.007991737  | -0.07549537   | -0.15173902   | -0.19181859   | -0.229668016  | -0.24161459   | -0.570130248  | -0.015467201  | \n",
       "| PAPI_SR_INS | 0.2716668     |  0.1753874    |  0.105193609  |  0.16597464   |  0.048367517  | -0.06035569   |  0.03572883   | -0.28467260   | -0.0442537515 | -0.801872073  | -0.25088701   | -0.11103661   |  0.21802350   |  0.003477474  |  0.02600485   |  0.007942563  | -0.003093250  | \n",
       "\n",
       "\n"
      ],
      "text/plain": [
       "             PC1       PC2        PC3          PC4         PC5         \n",
       "PAPI_L1_DCM  0.2755831 -0.1847864 -0.194189847  0.04819694 -0.002372899\n",
       "PAPI_L3_TCM  0.2545542 -0.2027409 -0.124881326 -0.23778477 -0.244587796\n",
       "PAPI_TOT_INS 0.2618060  0.2825470  0.008805725  0.13549282  0.016017292\n",
       "PAPI_REF_CYC 0.2702261 -0.1424117 -0.168777536 -0.26051610 -0.203087921\n",
       "PAPI_L2_LDM  0.2408740 -0.2561091 -0.066535216  0.26118330  0.011497291\n",
       "PAPI_SR_INS  0.2716668  0.1753874  0.105193609  0.16597464  0.048367517\n",
       "             PC6         PC7         PC8         PC9           PC10        \n",
       "PAPI_L1_DCM   0.07545716 -0.12549457 -0.06226775  0.1761395116 -0.024404534\n",
       "PAPI_L3_TCM   0.02129976  0.51379262 -0.03098798  0.0006400175  0.100869765\n",
       "PAPI_TOT_INS -0.04462470  0.06156318  0.14482041 -0.3330899760 -0.142852859\n",
       "PAPI_REF_CYC -0.11848025  0.24581484 -0.08206504  0.0451239549  0.033990504\n",
       "PAPI_L2_LDM   0.53633470 -0.08571906  0.04815145 -0.0655402257 -0.007991737\n",
       "PAPI_SR_INS  -0.06035569  0.03572883 -0.28467260 -0.0442537515 -0.801872073\n",
       "             PC11        PC12        PC13        PC14         PC15       \n",
       "PAPI_L1_DCM   0.35881380  0.61600092  0.47746700 -0.036980876  0.19529820\n",
       "PAPI_L3_TCM  -0.39751678  0.04292408 -0.09294964  0.279360829  0.45036495\n",
       "PAPI_TOT_INS  0.21355155  0.46516021 -0.60631426  0.201784823 -0.05312805\n",
       "PAPI_REF_CYC -0.18405335  0.19153573  0.01472568 -0.326792903 -0.65078265\n",
       "PAPI_L2_LDM  -0.07549537 -0.15173902 -0.19181859 -0.229668016 -0.24161459\n",
       "PAPI_SR_INS  -0.25088701 -0.11103661  0.21802350  0.003477474  0.02600485\n",
       "             PC16         PC17        \n",
       "PAPI_L1_DCM  -0.130856847 -0.010831306\n",
       "PAPI_L3_TCM  -0.192848265 -0.001740018\n",
       "PAPI_TOT_INS  0.039146873  0.012438715\n",
       "PAPI_REF_CYC  0.289120309  0.005313829\n",
       "PAPI_L2_LDM  -0.570130248 -0.015467201\n",
       "PAPI_SR_INS   0.007942563 -0.003093250"
      ]
     },
     "metadata": {},
     "output_type": "display_data"
    }
   ],
   "source": [
    "head(unclass(res.pca$rotation)[])"
   ]
  },
  {
   "cell_type": "code",
   "execution_count": 28,
   "metadata": {},
   "outputs": [
    {
     "name": "stdout",
     "output_type": "stream",
     "text": [
      " [1] 1.144101e+01 2.321971e+00 9.101007e-01 6.054852e-01 5.832475e-01\n",
      " [6] 4.702776e-01 2.749880e-01 2.146728e-01 8.361694e-02 5.275143e-02\n",
      "[11] 3.963589e-02 9.626882e-04 6.282689e-04 4.469526e-04 1.466929e-04\n",
      "[16] 4.523735e-05 1.182591e-05\n"
     ]
    }
   ],
   "source": [
    "# Eigenvalues\n",
    "eig <- (res.pca$sdev)^2\n",
    "print(eig)"
   ]
  },
  {
   "cell_type": "code",
   "execution_count": 29,
   "metadata": {},
   "outputs": [
    {
     "name": "stdout",
     "output_type": "stream",
     "text": [
      " [1] 6.730007e+01 1.365865e+01 5.353533e+00 3.561678e+00 3.430867e+00\n",
      " [6] 2.766339e+00 1.617577e+00 1.262781e+00 4.918644e-01 3.103025e-01\n",
      "[11] 2.331523e-01 5.662872e-03 3.695699e-03 2.629133e-03 8.628993e-04\n",
      "[16] 2.661021e-04 6.956420e-05\n"
     ]
    }
   ],
   "source": [
    "# Variances in percentage\n",
    "variance <- eig*100/sum(eig)\n",
    "print(variance)"
   ]
  },
  {
   "cell_type": "code",
   "execution_count": 30,
   "metadata": {},
   "outputs": [
    {
     "name": "stdout",
     "output_type": "stream",
     "text": [
      " [1]  67.30007  80.95872  86.31225  89.87393  93.30480  96.07114  97.68871\n",
      " [8]  98.95149  99.44336  99.75366  99.98681  99.99248  99.99617  99.99880\n",
      "[15]  99.99966  99.99993 100.00000\n"
     ]
    }
   ],
   "source": [
    "# Cumulative variances\n",
    "cumvar <- cumsum(variance)\n",
    "print(cumvar)"
   ]
  },
  {
   "cell_type": "code",
   "execution_count": 31,
   "metadata": {},
   "outputs": [
    {
     "name": "stdout",
     "output_type": "stream",
     "text": [
      "            eig     variance cumvariance\n",
      "1  1.144101e+01 6.730007e+01    67.30007\n",
      "2  2.321971e+00 1.365865e+01    80.95872\n",
      "3  9.101007e-01 5.353533e+00    86.31225\n",
      "4  6.054852e-01 3.561678e+00    89.87393\n",
      "5  5.832475e-01 3.430867e+00    93.30480\n",
      "6  4.702776e-01 2.766339e+00    96.07114\n",
      "7  2.749880e-01 1.617577e+00    97.68871\n",
      "8  2.146728e-01 1.262781e+00    98.95149\n",
      "9  8.361694e-02 4.918644e-01    99.44336\n",
      "10 5.275143e-02 3.103025e-01    99.75366\n",
      "11 3.963589e-02 2.331523e-01    99.98681\n",
      "12 9.626882e-04 5.662872e-03    99.99248\n",
      "13 6.282689e-04 3.695699e-03    99.99617\n",
      "14 4.469526e-04 2.629133e-03    99.99880\n",
      "15 1.466929e-04 8.628993e-04    99.99966\n",
      "16 4.523735e-05 2.661021e-04    99.99993\n",
      "17 1.182591e-05 6.956420e-05   100.00000\n"
     ]
    }
   ],
   "source": [
    "eig.decathlon2.active <- data.frame(eig = eig, variance = variance,cumvariance = cumvar)\n",
    "print(eig.decathlon2.active)"
   ]
  },
  {
   "cell_type": "code",
   "execution_count": 32,
   "metadata": {},
   "outputs": [
    {
     "data": {
      "text/plain": [
       "Importance of components:\n",
       "                         PC1    PC2     PC3     PC4     PC5     PC6     PC7\n",
       "Standard deviation     3.382 1.5238 0.95399 0.77813 0.76371 0.68577 0.52439\n",
       "Proportion of Variance 0.673 0.1366 0.05354 0.03562 0.03431 0.02766 0.01618\n",
       "Cumulative Proportion  0.673 0.8096 0.86312 0.89874 0.93305 0.96071 0.97689\n",
       "                           PC8     PC9   PC10    PC11    PC12    PC13    PC14\n",
       "Standard deviation     0.46333 0.28917 0.2297 0.19909 0.03103 0.02507 0.02114\n",
       "Proportion of Variance 0.01263 0.00492 0.0031 0.00233 0.00006 0.00004 0.00003\n",
       "Cumulative Proportion  0.98951 0.99443 0.9975 0.99987 0.99992 0.99996 0.99999\n",
       "                          PC15     PC16     PC17\n",
       "Standard deviation     0.01211 0.006726 0.003439\n",
       "Proportion of Variance 0.00001 0.000000 0.000000\n",
       "Cumulative Proportion  1.00000 1.000000 1.000000"
      ]
     },
     "metadata": {},
     "output_type": "display_data"
    }
   ],
   "source": [
    "summary(res.pca)"
   ]
  },
  {
   "cell_type": "code",
   "execution_count": 33,
   "metadata": {},
   "outputs": [
    {
     "data": {
      "text/html": [
       "<table>\n",
       "<thead><tr><th></th><th scope=col>eigenvalue</th><th scope=col>variance.percent</th><th scope=col>cumulative.variance.percent</th></tr></thead>\n",
       "<tbody>\n",
       "\t<tr><th scope=row>Dim.1</th><td>11.4410112</td><td>67.300066 </td><td>67.30007  </td></tr>\n",
       "\t<tr><th scope=row>Dim.2</th><td> 2.3219711</td><td>13.658654 </td><td>80.95872  </td></tr>\n",
       "\t<tr><th scope=row>Dim.3</th><td> 0.9101007</td><td> 5.353533 </td><td>86.31225  </td></tr>\n",
       "\t<tr><th scope=row>Dim.4</th><td> 0.6054852</td><td> 3.561678 </td><td>89.87393  </td></tr>\n",
       "\t<tr><th scope=row>Dim.5</th><td> 0.5832475</td><td> 3.430867 </td><td>93.30480  </td></tr>\n",
       "\t<tr><th scope=row>Dim.6</th><td> 0.4702776</td><td> 2.766339 </td><td>96.07114  </td></tr>\n",
       "</tbody>\n",
       "</table>\n"
      ],
      "text/latex": [
       "\\begin{tabular}{r|lll}\n",
       "  & eigenvalue & variance.percent & cumulative.variance.percent\\\\\n",
       "\\hline\n",
       "\tDim.1 & 11.4410112 & 67.300066  & 67.30007  \\\\\n",
       "\tDim.2 &  2.3219711 & 13.658654  & 80.95872  \\\\\n",
       "\tDim.3 &  0.9101007 &  5.353533  & 86.31225  \\\\\n",
       "\tDim.4 &  0.6054852 &  3.561678  & 89.87393  \\\\\n",
       "\tDim.5 &  0.5832475 &  3.430867  & 93.30480  \\\\\n",
       "\tDim.6 &  0.4702776 &  2.766339  & 96.07114  \\\\\n",
       "\\end{tabular}\n"
      ],
      "text/markdown": [
       "\n",
       "| <!--/--> | eigenvalue | variance.percent | cumulative.variance.percent | \n",
       "|---|---|---|---|---|---|\n",
       "| Dim.1 | 11.4410112 | 67.300066  | 67.30007   | \n",
       "| Dim.2 |  2.3219711 | 13.658654  | 80.95872   | \n",
       "| Dim.3 |  0.9101007 |  5.353533  | 86.31225   | \n",
       "| Dim.4 |  0.6054852 |  3.561678  | 89.87393   | \n",
       "| Dim.5 |  0.5832475 |  3.430867  | 93.30480   | \n",
       "| Dim.6 |  0.4702776 |  2.766339  | 96.07114   | \n",
       "\n",
       "\n"
      ],
      "text/plain": [
       "      eigenvalue variance.percent cumulative.variance.percent\n",
       "Dim.1 11.4410112 67.300066        67.30007                   \n",
       "Dim.2  2.3219711 13.658654        80.95872                   \n",
       "Dim.3  0.9101007  5.353533        86.31225                   \n",
       "Dim.4  0.6054852  3.561678        89.87393                   \n",
       "Dim.5  0.5832475  3.430867        93.30480                   \n",
       "Dim.6  0.4702776  2.766339        96.07114                   "
      ]
     },
     "metadata": {},
     "output_type": "display_data"
    }
   ],
   "source": [
    "library(\"factoextra\")\n",
    "eig.val <- get_eigenvalue(res.pca)\n",
    "head(eig.val)"
   ]
  },
  {
   "cell_type": "code",
   "execution_count": 34,
   "metadata": {},
   "outputs": [],
   "source": [
    "options(repr.plot.width = 20, repr.plot.height = 10)"
   ]
  },
  {
   "cell_type": "code",
   "execution_count": 35,
   "metadata": {},
   "outputs": [
    {
     "data": {
      "image/png": "[encoded data removed]",
      "text/plain": [
       "Plot with title \"Variances\""
      ]
     },
     "metadata": {},
     "output_type": "display_data"
    }
   ],
   "source": [
    "barplot(eig.decathlon2.active[, 2], names.arg=1:nrow(eig.decathlon2.active), \n",
    "       main = \"Variances\",\n",
    "       xlab = \"Principal Components\",\n",
    "       ylab = \"Percentage of variances\",\n",
    "       col =\"steelblue\")\n",
    "# Add connected line segments to the plot\n",
    "lines(x = 1:nrow(eig.decathlon2.active), \n",
    "      eig.decathlon2.active[, 2], \n",
    "      type=\"b\", pch=19, col = \"red\")"
   ]
  },
  {
   "cell_type": "code",
   "execution_count": 36,
   "metadata": {
    "scrolled": false
   },
   "outputs": [
    {
     "data": {},
     "metadata": {},
     "output_type": "display_data"
    },
    {
     "data": {
      "image/png": "[encoded data removed]",
      "text/plain": [
       "plot without title"
      ]
     },
     "metadata": {},
     "output_type": "display_data"
    }
   ],
   "source": [
    "fviz_screeplot(res.pca, ncp=54)"
   ]
  },
  {
   "cell_type": "code",
   "execution_count": 37,
   "metadata": {},
   "outputs": [
    {
     "data": {
      "text/plain": [
       "Principal Component Analysis Results for variables\n",
       " ===================================================\n",
       "  Name       Description                                    \n",
       "1 \"$coord\"   \"Coordinates for the variables\"                \n",
       "2 \"$cor\"     \"Correlations between variables and dimensions\"\n",
       "3 \"$cos2\"    \"Cos2 for the variables\"                       \n",
       "4 \"$contrib\" \"contributions of the variables\"               "
      ]
     },
     "metadata": {},
     "output_type": "display_data"
    }
   ],
   "source": [
    "var <- get_pca_var(res.pca)\n",
    "var"
   ]
  },
  {
   "cell_type": "code",
   "execution_count": 38,
   "metadata": {},
   "outputs": [
    {
     "data": {
      "text/html": [
       "<table>\n",
       "<thead><tr><th></th><th scope=col>Dim.1</th><th scope=col>Dim.2</th><th scope=col>Dim.3</th><th scope=col>Dim.4</th><th scope=col>Dim.5</th><th scope=col>Dim.6</th><th scope=col>Dim.7</th><th scope=col>Dim.8</th><th scope=col>Dim.9</th><th scope=col>Dim.10</th><th scope=col>Dim.11</th><th scope=col>Dim.12</th><th scope=col>Dim.13</th><th scope=col>Dim.14</th><th scope=col>Dim.15</th><th scope=col>Dim.16</th><th scope=col>Dim.17</th></tr></thead>\n",
       "<tbody>\n",
       "\t<tr><th scope=row>PAPI_L1_DCM</th><td>0.9321478    </td><td>-0.28157779  </td><td>-0.185255556 </td><td> 0.03750345  </td><td>-0.001812198 </td><td> 0.0517460988</td><td>-0.065808475 </td><td>-0.02885039  </td><td> 5.093355e-02</td><td>-0.005605155 </td><td> 0.0714353961</td><td> 1.911279e-02</td><td> 1.196785e-02</td><td>-7.818221e-04</td><td> 2.365390e-03</td><td>-8.801264e-04</td><td>-3.724759e-05</td></tr>\n",
       "\t<tr><th scope=row>PAPI_L3_TCM</th><td>0.8610184    </td><td>-0.30893693  </td><td>-0.119135783 </td><td>-0.18502730  </td><td>-0.186793264 </td><td> 0.0146066904</td><td> 0.269429262 </td><td>-0.01435760  </td><td> 1.850713e-04</td><td> 0.023167445 </td><td>-0.0791406810</td><td> 1.331815e-03</td><td>-2.329810e-03</td><td> 5.906038e-03</td><td> 5.454678e-03</td><td>-1.297073e-03</td><td>-5.983718e-06</td></tr>\n",
       "\t<tr><th scope=row>PAPI_TOT_INS</th><td>0.8855475    </td><td> 0.43054557  </td><td> 0.008400591 </td><td> 0.10543093  </td><td> 0.012232508 </td><td>-0.0306021854</td><td> 0.032283302 </td><td> 0.06709935  </td><td>-9.631828e-02</td><td>-0.032809988 </td><td> 0.0425154768</td><td> 1.443263e-02</td><td>-1.519744e-02</td><td> 4.265984e-03</td><td>-6.434701e-04</td><td> 2.632968e-04</td><td> 4.277528e-05</td></tr>\n",
       "\t<tr><th scope=row>PAPI_REF_CYC</th><td>0.9140280    </td><td>-0.21700717  </td><td>-0.161012415 </td><td>-0.20271521  </td><td>-0.155099544 </td><td>-0.0812499521</td><td> 0.128903586 </td><td>-0.03802302  </td><td> 1.304831e-02</td><td> 0.007806830 </td><td>-0.0366427493</td><td> 5.942821e-03</td><td> 3.691035e-04</td><td>-6.908812e-03</td><td>-7.882074e-03</td><td> 1.944586e-03</td><td> 1.827363e-05</td></tr>\n",
       "\t<tr><th scope=row>PAPI_L2_LDM</th><td>0.8147459    </td><td>-0.39025938  </td><td>-0.063474062 </td><td> 0.20323438  </td><td> 0.008780555 </td><td> 0.3678011320</td><td>-0.044950479 </td><td> 0.02230991  </td><td>-1.895200e-02</td><td>-0.001835517 </td><td>-0.0150301963</td><td>-4.708040e-03</td><td>-4.807989e-03</td><td>-4.855470e-03</td><td>-2.926360e-03</td><td>-3.834623e-03</td><td>-5.318989e-05</td></tr>\n",
       "\t<tr><th scope=row>PAPI_SR_INS</th><td>0.9189009    </td><td> 0.26725564  </td><td> 0.100353859 </td><td> 0.12914973  </td><td> 0.036938582 </td><td>-0.0413899961</td><td> 0.018735949 </td><td>-0.13189677  </td><td>-1.279668e-02</td><td>-0.184171412 </td><td>-0.0499485059</td><td>-3.445157e-03</td><td> 5.464823e-03</td><td> 7.351817e-05</td><td> 3.149626e-04</td><td> 5.342066e-05</td><td>-1.063732e-05</td></tr>\n",
       "\t<tr><th scope=row>PAPI_BR_UCN</th><td>0.6575920    </td><td> 0.04899917  </td><td> 0.116721607 </td><td>-0.44176112  </td><td> 0.579032480 </td><td> 0.1394575420</td><td> 0.020746649 </td><td> 0.03484235  </td><td> 3.904236e-04</td><td>-0.004726219 </td><td>-0.0010633866</td><td>-3.133135e-05</td><td> 6.821424e-05</td><td> 2.666078e-05</td><td> 7.309786e-06</td><td>-1.974475e-06</td><td> 6.967052e-06</td></tr>\n",
       "\t<tr><th scope=row>PAPI_BR_CN</th><td>0.9143558    </td><td> 0.28360636  </td><td> 0.143872052 </td><td> 0.12803851  </td><td> 0.066584245 </td><td>-0.0543161131</td><td> 0.034952368 </td><td>-0.16662554  </td><td>-5.287338e-02</td><td> 0.084800340 </td><td> 0.0071381422</td><td>-2.830575e-03</td><td> 2.451063e-03</td><td>-9.100910e-04</td><td> 1.863412e-04</td><td> 5.239457e-05</td><td>-2.440740e-03</td></tr>\n",
       "\t<tr><th scope=row>PAPI_BR_TKN</th><td>0.9141514    </td><td> 0.28359348  </td><td> 0.144093753 </td><td> 0.12931652  </td><td> 0.064848437 </td><td>-0.0550883601</td><td> 0.034973648 </td><td>-0.16687359  </td><td>-5.298997e-02</td><td> 0.084982146 </td><td> 0.0071942998</td><td>-2.874617e-03</td><td> 3.016522e-03</td><td>-1.113425e-03</td><td> 1.652709e-04</td><td>-2.260554e-04</td><td> 2.419740e-03</td></tr>\n",
       "\t<tr><th scope=row>PAPI_BR_MSP</th><td>0.9038644    </td><td>-0.13774312  </td><td> 0.103746167 </td><td>-0.26106113  </td><td>-0.241872245 </td><td>-0.0008697959</td><td> 0.004695764 </td><td>-0.07790747  </td><td> 5.366111e-02</td><td>-0.033881645 </td><td> 0.1278269632</td><td>-1.246875e-02</td><td>-4.605108e-03</td><td> 1.054599e-03</td><td> 4.107372e-04</td><td>-4.077344e-05</td><td> 8.764049e-06</td></tr>\n",
       "\t<tr><th scope=row>PAPI_FP_OPS</th><td>0.6882516    </td><td> 0.58420775  </td><td>-0.297615670 </td><td>-0.03147366  </td><td>-0.086353803 </td><td>-0.0016111766</td><td> 0.078078993 </td><td> 0.27007702  </td><td>-9.019023e-02</td><td> 0.002108231 </td><td> 0.0254627699</td><td>-8.467330e-03</td><td> 8.969678e-03</td><td>-2.894353e-03</td><td> 4.745723e-04</td><td>-2.437524e-04</td><td>-2.719573e-05</td></tr>\n",
       "\t<tr><th scope=row>PAPI_L1_LDM</th><td>0.8830625    </td><td>-0.24558156  </td><td>-0.077488782 </td><td> 0.15592771  </td><td>-0.021777538 </td><td> 0.3448768517</td><td>-0.092573343 </td><td> 0.03148858  </td><td>-2.565419e-05</td><td> 0.016083002 </td><td>-0.0166152536</td><td>-3.944099e-03</td><td> 2.345868e-04</td><td> 4.797648e-03</td><td> 1.330626e-03</td><td> 4.647406e-03</td><td> 7.495259e-05</td></tr>\n",
       "\t<tr><th scope=row>PAPI_L1_STM</th><td>0.8360002    </td><td>-0.37833842  </td><td>-0.190566811 </td><td> 0.06821565  </td><td> 0.123463911 </td><td>-0.2849856844</td><td>-0.134964521 </td><td> 0.04158805  </td><td> 7.078101e-03</td><td>-0.001513824 </td><td>-0.0179977456</td><td>-3.343117e-03</td><td>-7.306128e-03</td><td>-1.117494e-02</td><td> 4.809457e-03</td><td> 7.972765e-04</td><td> 1.666908e-05</td></tr>\n",
       "\t<tr><th scope=row>PAPI_LD_INS</th><td>0.7837021    </td><td> 0.41506507  </td><td> 0.303026978 </td><td> 0.20340734  </td><td> 0.032208434 </td><td>-0.0253834759</td><td> 0.103024988 </td><td> 0.15005740  </td><td> 2.118664e-01</td><td> 0.021523108 </td><td>-0.0128451432</td><td> 4.836389e-04</td><td>-1.442630e-03</td><td>-9.629342e-04</td><td>-3.350427e-04</td><td>-6.497201e-05</td><td> 9.892480e-07</td></tr>\n",
       "\t<tr><th scope=row>PAPI_L2_STM</th><td>0.7726159    </td><td>-0.47780782  </td><td>-0.170372822 </td><td> 0.12419944  </td><td> 0.164060326 </td><td>-0.3038191102</td><td>-0.077629260 </td><td> 0.06828726  </td><td> 9.265162e-03</td><td> 0.010332368 </td><td>-0.0005687925</td><td>-5.856696e-03</td><td> 2.111971e-03</td><td> 1.239119e-02</td><td>-3.823432e-03</td><td>-8.792968e-04</td><td>-6.448234e-06</td></tr>\n",
       "\t<tr><th scope=row>PAPI_TLB_DM</th><td>0.4951571    </td><td>-0.42600795  </td><td> 0.698187957 </td><td>-0.09340384  </td><td>-0.176078510 </td><td>-0.0639557861</td><td>-0.107030633 </td><td> 0.15035415  </td><td>-8.653562e-02</td><td> 0.002085887 </td><td>-0.0216527395</td><td> 3.286175e-03</td><td> 4.116935e-03</td><td>-8.540191e-04</td><td> 1.451283e-04</td><td>-7.222827e-05</td><td>-1.186836e-05</td></tr>\n",
       "\t<tr><th scope=row>PAPI_L2_DCH</th><td>0.6108351    </td><td> 0.61806998  </td><td>-0.128175492 </td><td>-0.26028144  </td><td>-0.195331567 </td><td> 0.0149482177</td><td>-0.337876231 </td><td>-0.03805102  </td><td> 4.385274e-02</td><td> 0.026462169 </td><td>-0.0638164324</td><td> 1.566832e-03</td><td>-1.353752e-03</td><td> 2.701067e-03</td><td>-1.760141e-04</td><td>-1.044434e-03</td><td>-9.378272e-06</td></tr>\n",
       "</tbody>\n",
       "</table>\n"
      ],
      "text/latex": [
       "\\begin{tabular}{r|lllllllllllllllll}\n",
       "  & Dim.1 & Dim.2 & Dim.3 & Dim.4 & Dim.5 & Dim.6 & Dim.7 & Dim.8 & Dim.9 & Dim.10 & Dim.11 & Dim.12 & Dim.13 & Dim.14 & Dim.15 & Dim.16 & Dim.17\\\\\n",
       "\\hline\n",
       "\tPAPI\\_L1\\_DCM & 0.9321478     & -0.28157779   & -0.185255556  &  0.03750345   & -0.001812198  &  0.0517460988 & -0.065808475  & -0.02885039   &  5.093355e-02 & -0.005605155  &  0.0714353961 &  1.911279e-02 &  1.196785e-02 & -7.818221e-04 &  2.365390e-03 & -8.801264e-04 & -3.724759e-05\\\\\n",
       "\tPAPI\\_L3\\_TCM & 0.8610184     & -0.30893693   & -0.119135783  & -0.18502730   & -0.186793264  &  0.0146066904 &  0.269429262  & -0.01435760   &  1.850713e-04 &  0.023167445  & -0.0791406810 &  1.331815e-03 & -2.329810e-03 &  5.906038e-03 &  5.454678e-03 & -1.297073e-03 & -5.983718e-06\\\\\n",
       "\tPAPI\\_TOT\\_INS & 0.8855475     &  0.43054557   &  0.008400591  &  0.10543093   &  0.012232508  & -0.0306021854 &  0.032283302  &  0.06709935   & -9.631828e-02 & -0.032809988  &  0.0425154768 &  1.443263e-02 & -1.519744e-02 &  4.265984e-03 & -6.434701e-04 &  2.632968e-04 &  4.277528e-05\\\\\n",
       "\tPAPI\\_REF\\_CYC & 0.9140280     & -0.21700717   & -0.161012415  & -0.20271521   & -0.155099544  & -0.0812499521 &  0.128903586  & -0.03802302   &  1.304831e-02 &  0.007806830  & -0.0366427493 &  5.942821e-03 &  3.691035e-04 & -6.908812e-03 & -7.882074e-03 &  1.944586e-03 &  1.827363e-05\\\\\n",
       "\tPAPI\\_L2\\_LDM & 0.8147459     & -0.39025938   & -0.063474062  &  0.20323438   &  0.008780555  &  0.3678011320 & -0.044950479  &  0.02230991   & -1.895200e-02 & -0.001835517  & -0.0150301963 & -4.708040e-03 & -4.807989e-03 & -4.855470e-03 & -2.926360e-03 & -3.834623e-03 & -5.318989e-05\\\\\n",
       "\tPAPI\\_SR\\_INS & 0.9189009     &  0.26725564   &  0.100353859  &  0.12914973   &  0.036938582  & -0.0413899961 &  0.018735949  & -0.13189677   & -1.279668e-02 & -0.184171412  & -0.0499485059 & -3.445157e-03 &  5.464823e-03 &  7.351817e-05 &  3.149626e-04 &  5.342066e-05 & -1.063732e-05\\\\\n",
       "\tPAPI\\_BR\\_UCN & 0.6575920     &  0.04899917   &  0.116721607  & -0.44176112   &  0.579032480  &  0.1394575420 &  0.020746649  &  0.03484235   &  3.904236e-04 & -0.004726219  & -0.0010633866 & -3.133135e-05 &  6.821424e-05 &  2.666078e-05 &  7.309786e-06 & -1.974475e-06 &  6.967052e-06\\\\\n",
       "\tPAPI\\_BR\\_CN & 0.9143558     &  0.28360636   &  0.143872052  &  0.12803851   &  0.066584245  & -0.0543161131 &  0.034952368  & -0.16662554   & -5.287338e-02 &  0.084800340  &  0.0071381422 & -2.830575e-03 &  2.451063e-03 & -9.100910e-04 &  1.863412e-04 &  5.239457e-05 & -2.440740e-03\\\\\n",
       "\tPAPI\\_BR\\_TKN & 0.9141514     &  0.28359348   &  0.144093753  &  0.12931652   &  0.064848437  & -0.0550883601 &  0.034973648  & -0.16687359   & -5.298997e-02 &  0.084982146  &  0.0071942998 & -2.874617e-03 &  3.016522e-03 & -1.113425e-03 &  1.652709e-04 & -2.260554e-04 &  2.419740e-03\\\\\n",
       "\tPAPI\\_BR\\_MSP & 0.9038644     & -0.13774312   &  0.103746167  & -0.26106113   & -0.241872245  & -0.0008697959 &  0.004695764  & -0.07790747   &  5.366111e-02 & -0.033881645  &  0.1278269632 & -1.246875e-02 & -4.605108e-03 &  1.054599e-03 &  4.107372e-04 & -4.077344e-05 &  8.764049e-06\\\\\n",
       "\tPAPI\\_FP\\_OPS & 0.6882516     &  0.58420775   & -0.297615670  & -0.03147366   & -0.086353803  & -0.0016111766 &  0.078078993  &  0.27007702   & -9.019023e-02 &  0.002108231  &  0.0254627699 & -8.467330e-03 &  8.969678e-03 & -2.894353e-03 &  4.745723e-04 & -2.437524e-04 & -2.719573e-05\\\\\n",
       "\tPAPI\\_L1\\_LDM & 0.8830625     & -0.24558156   & -0.077488782  &  0.15592771   & -0.021777538  &  0.3448768517 & -0.092573343  &  0.03148858   & -2.565419e-05 &  0.016083002  & -0.0166152536 & -3.944099e-03 &  2.345868e-04 &  4.797648e-03 &  1.330626e-03 &  4.647406e-03 &  7.495259e-05\\\\\n",
       "\tPAPI\\_L1\\_STM & 0.8360002     & -0.37833842   & -0.190566811  &  0.06821565   &  0.123463911  & -0.2849856844 & -0.134964521  &  0.04158805   &  7.078101e-03 & -0.001513824  & -0.0179977456 & -3.343117e-03 & -7.306128e-03 & -1.117494e-02 &  4.809457e-03 &  7.972765e-04 &  1.666908e-05\\\\\n",
       "\tPAPI\\_LD\\_INS & 0.7837021     &  0.41506507   &  0.303026978  &  0.20340734   &  0.032208434  & -0.0253834759 &  0.103024988  &  0.15005740   &  2.118664e-01 &  0.021523108  & -0.0128451432 &  4.836389e-04 & -1.442630e-03 & -9.629342e-04 & -3.350427e-04 & -6.497201e-05 &  9.892480e-07\\\\\n",
       "\tPAPI\\_L2\\_STM & 0.7726159     & -0.47780782   & -0.170372822  &  0.12419944   &  0.164060326  & -0.3038191102 & -0.077629260  &  0.06828726   &  9.265162e-03 &  0.010332368  & -0.0005687925 & -5.856696e-03 &  2.111971e-03 &  1.239119e-02 & -3.823432e-03 & -8.792968e-04 & -6.448234e-06\\\\\n",
       "\tPAPI\\_TLB\\_DM & 0.4951571     & -0.42600795   &  0.698187957  & -0.09340384   & -0.176078510  & -0.0639557861 & -0.107030633  &  0.15035415   & -8.653562e-02 &  0.002085887  & -0.0216527395 &  3.286175e-03 &  4.116935e-03 & -8.540191e-04 &  1.451283e-04 & -7.222827e-05 & -1.186836e-05\\\\\n",
       "\tPAPI\\_L2\\_DCH & 0.6108351     &  0.61806998   & -0.128175492  & -0.26028144   & -0.195331567  &  0.0149482177 & -0.337876231  & -0.03805102   &  4.385274e-02 &  0.026462169  & -0.0638164324 &  1.566832e-03 & -1.353752e-03 &  2.701067e-03 & -1.760141e-04 & -1.044434e-03 & -9.378272e-06\\\\\n",
       "\\end{tabular}\n"
      ],
      "text/markdown": [
       "\n",
       "| <!--/--> | Dim.1 | Dim.2 | Dim.3 | Dim.4 | Dim.5 | Dim.6 | Dim.7 | Dim.8 | Dim.9 | Dim.10 | Dim.11 | Dim.12 | Dim.13 | Dim.14 | Dim.15 | Dim.16 | Dim.17 | \n",
       "|---|---|---|---|---|---|---|---|---|---|---|---|---|---|---|---|---|\n",
       "| PAPI_L1_DCM | 0.9321478     | -0.28157779   | -0.185255556  |  0.03750345   | -0.001812198  |  0.0517460988 | -0.065808475  | -0.02885039   |  5.093355e-02 | -0.005605155  |  0.0714353961 |  1.911279e-02 |  1.196785e-02 | -7.818221e-04 |  2.365390e-03 | -8.801264e-04 | -3.724759e-05 | \n",
       "| PAPI_L3_TCM | 0.8610184     | -0.30893693   | -0.119135783  | -0.18502730   | -0.186793264  |  0.0146066904 |  0.269429262  | -0.01435760   |  1.850713e-04 |  0.023167445  | -0.0791406810 |  1.331815e-03 | -2.329810e-03 |  5.906038e-03 |  5.454678e-03 | -1.297073e-03 | -5.983718e-06 | \n",
       "| PAPI_TOT_INS | 0.8855475     |  0.43054557   |  0.008400591  |  0.10543093   |  0.012232508  | -0.0306021854 |  0.032283302  |  0.06709935   | -9.631828e-02 | -0.032809988  |  0.0425154768 |  1.443263e-02 | -1.519744e-02 |  4.265984e-03 | -6.434701e-04 |  2.632968e-04 |  4.277528e-05 | \n",
       "| PAPI_REF_CYC | 0.9140280     | -0.21700717   | -0.161012415  | -0.20271521   | -0.155099544  | -0.0812499521 |  0.128903586  | -0.03802302   |  1.304831e-02 |  0.007806830  | -0.0366427493 |  5.942821e-03 |  3.691035e-04 | -6.908812e-03 | -7.882074e-03 |  1.944586e-03 |  1.827363e-05 | \n",
       "| PAPI_L2_LDM | 0.8147459     | -0.39025938   | -0.063474062  |  0.20323438   |  0.008780555  |  0.3678011320 | -0.044950479  |  0.02230991   | -1.895200e-02 | -0.001835517  | -0.0150301963 | -4.708040e-03 | -4.807989e-03 | -4.855470e-03 | -2.926360e-03 | -3.834623e-03 | -5.318989e-05 | \n",
       "| PAPI_SR_INS | 0.9189009     |  0.26725564   |  0.100353859  |  0.12914973   |  0.036938582  | -0.0413899961 |  0.018735949  | -0.13189677   | -1.279668e-02 | -0.184171412  | -0.0499485059 | -3.445157e-03 |  5.464823e-03 |  7.351817e-05 |  3.149626e-04 |  5.342066e-05 | -1.063732e-05 | \n",
       "| PAPI_BR_UCN | 0.6575920     |  0.04899917   |  0.116721607  | -0.44176112   |  0.579032480  |  0.1394575420 |  0.020746649  |  0.03484235   |  3.904236e-04 | -0.004726219  | -0.0010633866 | -3.133135e-05 |  6.821424e-05 |  2.666078e-05 |  7.309786e-06 | -1.974475e-06 |  6.967052e-06 | \n",
       "| PAPI_BR_CN | 0.9143558     |  0.28360636   |  0.143872052  |  0.12803851   |  0.066584245  | -0.0543161131 |  0.034952368  | -0.16662554   | -5.287338e-02 |  0.084800340  |  0.0071381422 | -2.830575e-03 |  2.451063e-03 | -9.100910e-04 |  1.863412e-04 |  5.239457e-05 | -2.440740e-03 | \n",
       "| PAPI_BR_TKN | 0.9141514     |  0.28359348   |  0.144093753  |  0.12931652   |  0.064848437  | -0.0550883601 |  0.034973648  | -0.16687359   | -5.298997e-02 |  0.084982146  |  0.0071942998 | -2.874617e-03 |  3.016522e-03 | -1.113425e-03 |  1.652709e-04 | -2.260554e-04 |  2.419740e-03 | \n",
       "| PAPI_BR_MSP | 0.9038644     | -0.13774312   |  0.103746167  | -0.26106113   | -0.241872245  | -0.0008697959 |  0.004695764  | -0.07790747   |  5.366111e-02 | -0.033881645  |  0.1278269632 | -1.246875e-02 | -4.605108e-03 |  1.054599e-03 |  4.107372e-04 | -4.077344e-05 |  8.764049e-06 | \n",
       "| PAPI_FP_OPS | 0.6882516     |  0.58420775   | -0.297615670  | -0.03147366   | -0.086353803  | -0.0016111766 |  0.078078993  |  0.27007702   | -9.019023e-02 |  0.002108231  |  0.0254627699 | -8.467330e-03 |  8.969678e-03 | -2.894353e-03 |  4.745723e-04 | -2.437524e-04 | -2.719573e-05 | \n",
       "| PAPI_L1_LDM | 0.8830625     | -0.24558156   | -0.077488782  |  0.15592771   | -0.021777538  |  0.3448768517 | -0.092573343  |  0.03148858   | -2.565419e-05 |  0.016083002  | -0.0166152536 | -3.944099e-03 |  2.345868e-04 |  4.797648e-03 |  1.330626e-03 |  4.647406e-03 |  7.495259e-05 | \n",
       "| PAPI_L1_STM | 0.8360002     | -0.37833842   | -0.190566811  |  0.06821565   |  0.123463911  | -0.2849856844 | -0.134964521  |  0.04158805   |  7.078101e-03 | -0.001513824  | -0.0179977456 | -3.343117e-03 | -7.306128e-03 | -1.117494e-02 |  4.809457e-03 |  7.972765e-04 |  1.666908e-05 | \n",
       "| PAPI_LD_INS | 0.7837021     |  0.41506507   |  0.303026978  |  0.20340734   |  0.032208434  | -0.0253834759 |  0.103024988  |  0.15005740   |  2.118664e-01 |  0.021523108  | -0.0128451432 |  4.836389e-04 | -1.442630e-03 | -9.629342e-04 | -3.350427e-04 | -6.497201e-05 |  9.892480e-07 | \n",
       "| PAPI_L2_STM | 0.7726159     | -0.47780782   | -0.170372822  |  0.12419944   |  0.164060326  | -0.3038191102 | -0.077629260  |  0.06828726   |  9.265162e-03 |  0.010332368  | -0.0005687925 | -5.856696e-03 |  2.111971e-03 |  1.239119e-02 | -3.823432e-03 | -8.792968e-04 | -6.448234e-06 | \n",
       "| PAPI_TLB_DM | 0.4951571     | -0.42600795   |  0.698187957  | -0.09340384   | -0.176078510  | -0.0639557861 | -0.107030633  |  0.15035415   | -8.653562e-02 |  0.002085887  | -0.0216527395 |  3.286175e-03 |  4.116935e-03 | -8.540191e-04 |  1.451283e-04 | -7.222827e-05 | -1.186836e-05 | \n",
       "| PAPI_L2_DCH | 0.6108351     |  0.61806998   | -0.128175492  | -0.26028144   | -0.195331567  |  0.0149482177 | -0.337876231  | -0.03805102   |  4.385274e-02 |  0.026462169  | -0.0638164324 |  1.566832e-03 | -1.353752e-03 |  2.701067e-03 | -1.760141e-04 | -1.044434e-03 | -9.378272e-06 | \n",
       "\n",
       "\n"
      ],
      "text/plain": [
       "             Dim.1     Dim.2       Dim.3        Dim.4       Dim.5       \n",
       "PAPI_L1_DCM  0.9321478 -0.28157779 -0.185255556  0.03750345 -0.001812198\n",
       "PAPI_L3_TCM  0.8610184 -0.30893693 -0.119135783 -0.18502730 -0.186793264\n",
       "PAPI_TOT_INS 0.8855475  0.43054557  0.008400591  0.10543093  0.012232508\n",
       "PAPI_REF_CYC 0.9140280 -0.21700717 -0.161012415 -0.20271521 -0.155099544\n",
       "PAPI_L2_LDM  0.8147459 -0.39025938 -0.063474062  0.20323438  0.008780555\n",
       "PAPI_SR_INS  0.9189009  0.26725564  0.100353859  0.12914973  0.036938582\n",
       "PAPI_BR_UCN  0.6575920  0.04899917  0.116721607 -0.44176112  0.579032480\n",
       "PAPI_BR_CN   0.9143558  0.28360636  0.143872052  0.12803851  0.066584245\n",
       "PAPI_BR_TKN  0.9141514  0.28359348  0.144093753  0.12931652  0.064848437\n",
       "PAPI_BR_MSP  0.9038644 -0.13774312  0.103746167 -0.26106113 -0.241872245\n",
       "PAPI_FP_OPS  0.6882516  0.58420775 -0.297615670 -0.03147366 -0.086353803\n",
       "PAPI_L1_LDM  0.8830625 -0.24558156 -0.077488782  0.15592771 -0.021777538\n",
       "PAPI_L1_STM  0.8360002 -0.37833842 -0.190566811  0.06821565  0.123463911\n",
       "PAPI_LD_INS  0.7837021  0.41506507  0.303026978  0.20340734  0.032208434\n",
       "PAPI_L2_STM  0.7726159 -0.47780782 -0.170372822  0.12419944  0.164060326\n",
       "PAPI_TLB_DM  0.4951571 -0.42600795  0.698187957 -0.09340384 -0.176078510\n",
       "PAPI_L2_DCH  0.6108351  0.61806998 -0.128175492 -0.26028144 -0.195331567\n",
       "             Dim.6         Dim.7        Dim.8       Dim.9         Dim.10      \n",
       "PAPI_L1_DCM   0.0517460988 -0.065808475 -0.02885039  5.093355e-02 -0.005605155\n",
       "PAPI_L3_TCM   0.0146066904  0.269429262 -0.01435760  1.850713e-04  0.023167445\n",
       "PAPI_TOT_INS -0.0306021854  0.032283302  0.06709935 -9.631828e-02 -0.032809988\n",
       "PAPI_REF_CYC -0.0812499521  0.128903586 -0.03802302  1.304831e-02  0.007806830\n",
       "PAPI_L2_LDM   0.3678011320 -0.044950479  0.02230991 -1.895200e-02 -0.001835517\n",
       "PAPI_SR_INS  -0.0413899961  0.018735949 -0.13189677 -1.279668e-02 -0.184171412\n",
       "PAPI_BR_UCN   0.1394575420  0.020746649  0.03484235  3.904236e-04 -0.004726219\n",
       "PAPI_BR_CN   -0.0543161131  0.034952368 -0.16662554 -5.287338e-02  0.084800340\n",
       "PAPI_BR_TKN  -0.0550883601  0.034973648 -0.16687359 -5.298997e-02  0.084982146\n",
       "PAPI_BR_MSP  -0.0008697959  0.004695764 -0.07790747  5.366111e-02 -0.033881645\n",
       "PAPI_FP_OPS  -0.0016111766  0.078078993  0.27007702 -9.019023e-02  0.002108231\n",
       "PAPI_L1_LDM   0.3448768517 -0.092573343  0.03148858 -2.565419e-05  0.016083002\n",
       "PAPI_L1_STM  -0.2849856844 -0.134964521  0.04158805  7.078101e-03 -0.001513824\n",
       "PAPI_LD_INS  -0.0253834759  0.103024988  0.15005740  2.118664e-01  0.021523108\n",
       "PAPI_L2_STM  -0.3038191102 -0.077629260  0.06828726  9.265162e-03  0.010332368\n",
       "PAPI_TLB_DM  -0.0639557861 -0.107030633  0.15035415 -8.653562e-02  0.002085887\n",
       "PAPI_L2_DCH   0.0149482177 -0.337876231 -0.03805102  4.385274e-02  0.026462169\n",
       "             Dim.11        Dim.12        Dim.13        Dim.14       \n",
       "PAPI_L1_DCM   0.0714353961  1.911279e-02  1.196785e-02 -7.818221e-04\n",
       "PAPI_L3_TCM  -0.0791406810  1.331815e-03 -2.329810e-03  5.906038e-03\n",
       "PAPI_TOT_INS  0.0425154768  1.443263e-02 -1.519744e-02  4.265984e-03\n",
       "PAPI_REF_CYC -0.0366427493  5.942821e-03  3.691035e-04 -6.908812e-03\n",
       "PAPI_L2_LDM  -0.0150301963 -4.708040e-03 -4.807989e-03 -4.855470e-03\n",
       "PAPI_SR_INS  -0.0499485059 -3.445157e-03  5.464823e-03  7.351817e-05\n",
       "PAPI_BR_UCN  -0.0010633866 -3.133135e-05  6.821424e-05  2.666078e-05\n",
       "PAPI_BR_CN    0.0071381422 -2.830575e-03  2.451063e-03 -9.100910e-04\n",
       "PAPI_BR_TKN   0.0071942998 -2.874617e-03  3.016522e-03 -1.113425e-03\n",
       "PAPI_BR_MSP   0.1278269632 -1.246875e-02 -4.605108e-03  1.054599e-03\n",
       "PAPI_FP_OPS   0.0254627699 -8.467330e-03  8.969678e-03 -2.894353e-03\n",
       "PAPI_L1_LDM  -0.0166152536 -3.944099e-03  2.345868e-04  4.797648e-03\n",
       "PAPI_L1_STM  -0.0179977456 -3.343117e-03 -7.306128e-03 -1.117494e-02\n",
       "PAPI_LD_INS  -0.0128451432  4.836389e-04 -1.442630e-03 -9.629342e-04\n",
       "PAPI_L2_STM  -0.0005687925 -5.856696e-03  2.111971e-03  1.239119e-02\n",
       "PAPI_TLB_DM  -0.0216527395  3.286175e-03  4.116935e-03 -8.540191e-04\n",
       "PAPI_L2_DCH  -0.0638164324  1.566832e-03 -1.353752e-03  2.701067e-03\n",
       "             Dim.15        Dim.16        Dim.17       \n",
       "PAPI_L1_DCM   2.365390e-03 -8.801264e-04 -3.724759e-05\n",
       "PAPI_L3_TCM   5.454678e-03 -1.297073e-03 -5.983718e-06\n",
       "PAPI_TOT_INS -6.434701e-04  2.632968e-04  4.277528e-05\n",
       "PAPI_REF_CYC -7.882074e-03  1.944586e-03  1.827363e-05\n",
       "PAPI_L2_LDM  -2.926360e-03 -3.834623e-03 -5.318989e-05\n",
       "PAPI_SR_INS   3.149626e-04  5.342066e-05 -1.063732e-05\n",
       "PAPI_BR_UCN   7.309786e-06 -1.974475e-06  6.967052e-06\n",
       "PAPI_BR_CN    1.863412e-04  5.239457e-05 -2.440740e-03\n",
       "PAPI_BR_TKN   1.652709e-04 -2.260554e-04  2.419740e-03\n",
       "PAPI_BR_MSP   4.107372e-04 -4.077344e-05  8.764049e-06\n",
       "PAPI_FP_OPS   4.745723e-04 -2.437524e-04 -2.719573e-05\n",
       "PAPI_L1_LDM   1.330626e-03  4.647406e-03  7.495259e-05\n",
       "PAPI_L1_STM   4.809457e-03  7.972765e-04  1.666908e-05\n",
       "PAPI_LD_INS  -3.350427e-04 -6.497201e-05  9.892480e-07\n",
       "PAPI_L2_STM  -3.823432e-03 -8.792968e-04 -6.448234e-06\n",
       "PAPI_TLB_DM   1.451283e-04 -7.222827e-05 -1.186836e-05\n",
       "PAPI_L2_DCH  -1.760141e-04 -1.044434e-03 -9.378272e-06"
      ]
     },
     "metadata": {},
     "output_type": "display_data"
    }
   ],
   "source": [
    "var$coord\n"
   ]
  },
  {
   "cell_type": "code",
   "execution_count": 39,
   "metadata": {},
   "outputs": [
    {
     "name": "stderr",
     "output_type": "stream",
     "text": [
      "Loading required package: plyr\n",
      "Loading required package: scales\n",
      "Loading required package: grid\n"
     ]
    },
    {
     "data": {
      "image/png": "[encoded data removed]",
      "text/plain": [
       "plot without title"
      ]
     },
     "metadata": {},
     "output_type": "display_data"
    }
   ],
   "source": [
    "library(devtools)\n",
    "library(ggbiplot)\n",
    "g <- ggbiplot(res.pca, obs.scale = 1, var.scale = 1, groups = res.label, ellipse = FALSE, circle = TRUE, var.axes=FALSE)\n",
    "#g <- ggbiplot(res.pca, obs.scale = 1, var.scale = 1, groups = {res.label, res.threads}, ellipse = FALSE, circle = TRUE, var.axes=FALSE)\n",
    "g <- g + scale_color_discrete(name = '')\n",
    "g <- g + theme(legend.direction = 'horizontal', legend.position = 'top')\n",
    "print(g)"
   ]
  },
  {
   "cell_type": "code",
   "execution_count": 40,
   "metadata": {},
   "outputs": [
    {
     "name": "stdout",
     "output_type": "stream",
     "text": [
      "                   PC1         PC2          PC3         PC4\n",
      "PAPI_L1_DCM  0.9321478 -0.28157779 -0.185255556  0.03750345\n",
      "PAPI_L3_TCM  0.8610184 -0.30893693 -0.119135783 -0.18502730\n",
      "PAPI_TOT_INS 0.8855475  0.43054557  0.008400591  0.10543093\n",
      "PAPI_REF_CYC 0.9140280 -0.21700717 -0.161012415 -0.20271521\n",
      "PAPI_L2_LDM  0.8147459 -0.39025938 -0.063474062  0.20323438\n",
      "PAPI_SR_INS  0.9189009  0.26725564  0.100353859  0.12914973\n",
      "PAPI_BR_UCN  0.6575920  0.04899917  0.116721607 -0.44176112\n",
      "PAPI_BR_CN   0.9143558  0.28360636  0.143872052  0.12803851\n",
      "PAPI_BR_TKN  0.9141514  0.28359348  0.144093753  0.12931652\n",
      "PAPI_BR_MSP  0.9038644 -0.13774312  0.103746167 -0.26106113\n",
      "PAPI_FP_OPS  0.6882516  0.58420775 -0.297615670 -0.03147366\n",
      "PAPI_L1_LDM  0.8830625 -0.24558156 -0.077488782  0.15592771\n",
      "PAPI_L1_STM  0.8360002 -0.37833842 -0.190566811  0.06821565\n",
      "PAPI_LD_INS  0.7837021  0.41506507  0.303026978  0.20340734\n",
      "PAPI_L2_STM  0.7726159 -0.47780782 -0.170372822  0.12419944\n",
      "PAPI_TLB_DM  0.4951571 -0.42600795  0.698187957 -0.09340384\n",
      "PAPI_L2_DCH  0.6108351  0.61806998 -0.128175492 -0.26028144\n"
     ]
    }
   ],
   "source": [
    "# Helper function : \n",
    "# Correlation between variables and principal components\n",
    "var_cor_func <- function(var.loadings, comp.sdev){\n",
    "  var.loadings*comp.sdev\n",
    "  }\n",
    "\n",
    "# Variable correlation/coordinates\n",
    "loadings <- res.pca$rotation\n",
    "sdev <- res.pca$sdev\n",
    "\n",
    "var.coord <- var.cor <- t(apply(loadings, 1, var_cor_func, sdev))\n",
    "print(var.coord[, 1:4])"
   ]
  },
  {
   "cell_type": "code",
   "execution_count": 41,
   "metadata": {},
   "outputs": [
    {
     "name": "stdout",
     "output_type": "stream",
     "text": [
      "                   PC1         PC2          PC3          PC4          PC5\n",
      "PAPI_L1_DCM  0.8688996 0.079286050 3.431962e-02 0.0014065087 3.284062e-06\n",
      "PAPI_L3_TCM  0.7413527 0.095442026 1.419333e-02 0.0342351012 3.489172e-02\n",
      "PAPI_TOT_INS 0.7841944 0.185369490 7.056993e-05 0.0111156810 1.496343e-04\n",
      "PAPI_REF_CYC 0.8354471 0.047092112 2.592500e-02 0.0410934571 2.405587e-02\n",
      "PAPI_L2_LDM  0.6638108 0.152302386 4.028957e-03 0.0413042137 7.709814e-05\n",
      "PAPI_SR_INS  0.8443789 0.071425577 1.007090e-02 0.0166796533 1.364459e-03\n",
      "PAPI_BR_UCN  0.4324272 0.002400918 1.362393e-02 0.1951528841 3.352786e-01\n",
      "PAPI_BR_CN   0.8360465 0.080432566 2.069917e-02 0.0163938608 4.433462e-03\n",
      "PAPI_BR_TKN  0.8356728 0.080425260 2.076301e-02 0.0167227619 4.205320e-03\n",
      "PAPI_BR_MSP  0.8169709 0.018973166 1.076327e-02 0.0681529112 5.850218e-02\n",
      "PAPI_FP_OPS  0.4736902 0.341298692 8.857509e-02 0.0009905912 7.456979e-03\n",
      "PAPI_L1_LDM  0.7797993 0.060310301 6.004511e-03 0.0243134503 4.742611e-04\n",
      "PAPI_L1_STM  0.6988963 0.143139960 3.631571e-02 0.0046533752 1.524334e-02\n",
      "PAPI_LD_INS  0.6141890 0.172279013 9.182535e-02 0.0413745453 1.037383e-03\n",
      "PAPI_L2_STM  0.5969354 0.228300309 2.902690e-02 0.0154255019 2.691579e-02\n",
      "PAPI_TLB_DM  0.2451805 0.181482770 4.874664e-01 0.0087242775 3.100364e-02\n",
      "PAPI_L2_DCH  0.3731195 0.382010501 1.642896e-02 0.0677464263 3.815442e-02\n",
      "                      PC6          PC7          PC8          PC9         PC10\n",
      "PAPI_L1_DCM  2.677659e-03 0.0043307554 0.0008323449 2.594226e-03 3.141777e-05\n",
      "PAPI_L3_TCM  2.133554e-04 0.0725921271 0.0002061406 3.425138e-08 5.367305e-04\n",
      "PAPI_TOT_INS 9.364938e-04 0.0010422116 0.0045023223 9.277210e-03 1.076495e-03\n",
      "PAPI_REF_CYC 6.601555e-03 0.0166161346 0.0014457504 1.702584e-04 6.094660e-05\n",
      "PAPI_L2_LDM  1.352777e-01 0.0020205456 0.0004977322 3.591783e-04 3.369121e-06\n",
      "PAPI_SR_INS  1.713132e-03 0.0003510358 0.0173967585 1.637550e-04 3.391911e-02\n",
      "PAPI_BR_UCN  1.944841e-02 0.0004304234 0.0012139891 1.524306e-07 2.233715e-05\n",
      "PAPI_BR_CN   2.950240e-03 0.0012216680 0.0277640696 2.795595e-03 7.191098e-03\n",
      "PAPI_BR_TKN  3.034727e-03 0.0012231561 0.0278467958 2.807937e-03 7.221965e-03\n",
      "PAPI_BR_MSP  7.565450e-07 0.0000220502 0.0060695746 2.879515e-03 1.147966e-03\n",
      "PAPI_FP_OPS  2.595890e-06 0.0060963291 0.0729415951 8.134278e-03 4.444637e-06\n",
      "PAPI_L1_LDM  1.189400e-01 0.0085698239 0.0009915308 6.581374e-10 2.586630e-04\n",
      "PAPI_L1_STM  8.121684e-02 0.0182154218 0.0017295656 5.009952e-05 2.291662e-06\n",
      "PAPI_LD_INS  6.443209e-04 0.0106141481 0.0225172219 4.488738e-02 4.632442e-04\n",
      "PAPI_L2_STM  9.230605e-02 0.0060263020 0.0046631504 8.584323e-05 1.067578e-04\n",
      "PAPI_TLB_DM  4.090343e-03 0.0114555564 0.0226063716 7.488414e-03 4.350924e-06\n",
      "PAPI_L2_DCH  2.234492e-04 0.1141603472 0.0014478800 1.923063e-03 7.002464e-04\n",
      "                     PC11         PC12         PC13         PC14         PC15\n",
      "PAPI_L1_DCM  5.103016e-03 3.652989e-04 1.432294e-04 6.112458e-07 5.595070e-06\n",
      "PAPI_L3_TCM  6.263247e-03 1.773730e-06 5.428014e-06 3.488129e-05 2.975351e-05\n",
      "PAPI_TOT_INS 1.807566e-03 2.083007e-04 2.309623e-04 1.819862e-05 4.140538e-07\n",
      "PAPI_REF_CYC 1.342691e-03 3.531712e-05 1.362374e-07 4.773168e-05 6.212709e-05\n",
      "PAPI_L2_LDM  2.259068e-04 2.216564e-05 2.311676e-05 2.357559e-05 8.563580e-06\n",
      "PAPI_SR_INS  2.494853e-03 1.186911e-05 2.986429e-05 5.404921e-09 9.920141e-08\n",
      "PAPI_BR_UCN  1.130791e-06 9.816538e-10 4.653182e-09 7.107971e-10 5.343297e-11\n",
      "PAPI_BR_CN   5.095307e-05 8.012153e-06 6.007708e-06 8.282656e-07 3.472305e-08\n",
      "PAPI_BR_TKN  5.175795e-05 8.263423e-06 9.099403e-06 1.239715e-06 2.731446e-08\n",
      "PAPI_BR_MSP  1.633973e-02 1.554697e-04 2.120702e-05 1.112179e-06 1.687051e-07\n",
      "PAPI_FP_OPS  6.483527e-04 7.169567e-05 8.045511e-05 8.377277e-06 2.252189e-07\n",
      "PAPI_L1_LDM  2.760667e-04 1.555592e-05 5.503095e-08 2.301742e-05 1.770564e-06\n",
      "PAPI_L1_STM  3.239188e-04 1.117643e-05 5.337951e-05 1.248793e-04 2.313088e-05\n",
      "PAPI_LD_INS  1.649977e-04 2.339066e-07 2.081181e-06 9.272423e-07 1.122536e-07\n",
      "PAPI_L2_STM  3.235249e-07 3.430089e-05 4.460422e-06 1.535416e-04 1.461863e-05\n",
      "PAPI_TLB_DM  4.688411e-04 1.079895e-05 1.694915e-05 7.293486e-07 2.106221e-08\n",
      "PAPI_L2_DCH  4.072537e-03 2.454961e-06 1.832645e-06 7.295764e-06 3.098098e-08\n",
      "                     PC16         PC17\n",
      "PAPI_L1_DCM  7.746224e-07 1.387383e-09\n",
      "PAPI_L3_TCM  1.682398e-06 3.580488e-11\n",
      "PAPI_TOT_INS 6.932523e-08 1.829725e-09\n",
      "PAPI_REF_CYC 3.781415e-06 3.339257e-10\n",
      "PAPI_L2_LDM  1.470433e-05 2.829164e-09\n",
      "PAPI_SR_INS  2.853767e-09 1.131526e-10\n",
      "PAPI_BR_UCN  3.898552e-12 4.853982e-11\n",
      "PAPI_BR_CN   2.745190e-09 5.957210e-06\n",
      "PAPI_BR_TKN  5.110105e-08 5.855142e-06\n",
      "PAPI_BR_MSP  1.662473e-09 7.680856e-11\n",
      "PAPI_FP_OPS  5.941523e-08 7.396079e-10\n",
      "PAPI_L1_LDM  2.159838e-05 5.617891e-09\n",
      "PAPI_L1_STM  6.356498e-07 2.778582e-10\n",
      "PAPI_LD_INS  4.221362e-09 9.786115e-13\n",
      "PAPI_L2_STM  7.731629e-07 4.157972e-11\n",
      "PAPI_TLB_DM  5.216924e-09 1.408580e-10\n",
      "PAPI_L2_DCH  1.090841e-06 8.795198e-11\n"
     ]
    }
   ],
   "source": [
    "var.cos2 <- var.coord^2\n",
    "print(var.cos2)"
   ]
  },
  {
   "cell_type": "code",
   "execution_count": 42,
   "metadata": {
    "scrolled": false
   },
   "outputs": [
    {
     "name": "stdout",
     "output_type": "stream",
     "text": [
      "                  PC1        PC2          PC3        PC4          PC5\n",
      "PAPI_L1_DCM  7.594605  3.4146011  3.770969663  0.2322945  0.000563065\n",
      "PAPI_L3_TCM  6.479783  4.1103882  1.559534559  5.6541599  5.982318984\n",
      "PAPI_TOT_INS 6.854240  7.9832815  0.007754079  1.8358303  0.025655364\n",
      "PAPI_REF_CYC 7.302214  2.0281093  2.848585676  6.7868640  4.124470369\n",
      "PAPI_L2_LDM  5.802029  6.5591853  0.442693496  6.8216719  0.013218771\n",
      "PAPI_SR_INS  7.380282  3.0760752  1.106569547  2.7547582  0.233941668\n",
      "PAPI_BR_UCN  3.779624  0.1034000  1.496969908 32.2308264 57.484796173\n",
      "PAPI_BR_CN   7.307453  3.4639779  2.274382121  2.7075576  0.760133906\n",
      "PAPI_BR_TKN  7.304186  3.4636633  2.281396966  2.7618779  0.721018114\n",
      "PAPI_BR_MSP  7.140723  0.8171146  1.182645746 11.2559169 10.030422262\n",
      "PAPI_FP_OPS  4.140283 14.6986624  9.732449165  0.1636029  1.278527516\n",
      "PAPI_L1_LDM  6.815825  2.5973752  0.659763410  4.0155317  0.081313881\n",
      "PAPI_L1_STM  6.108693  6.1645884  3.990295801  0.7685366  2.613528285\n",
      "PAPI_LD_INS  5.368311  7.4195158 10.089581328  6.8332876  0.177863309\n",
      "PAPI_L2_STM  5.217505  9.8321770  3.189416155  2.5476266  4.614814901\n",
      "PAPI_TLB_DM  2.142997  7.8158927 53.561812247  1.4408738  5.315692530\n",
      "PAPI_L2_DCH  3.261246 16.4519921  1.805180133 11.1887832  6.541720902\n",
      "                      PC6          PC7         PC8          PC9         PC10\n",
      "PAPI_L1_DCM   0.569378280  1.574888671  0.38772722 3.102513e+00  0.059558129\n",
      "PAPI_L3_TCM   0.045367967 26.398285554  0.09602547 4.096225e-05  1.017470951\n",
      "PAPI_TOT_INS  0.199136355  0.379002518  2.09729523 1.109489e+01  2.040693919\n",
      "PAPI_REF_CYC  1.403756877  6.042493624  0.67346700 2.036171e-01  0.115535434\n",
      "PAPI_L2_LDM  28.765491065  0.734775808  0.23185620 4.295521e-01  0.006386787\n",
      "PAPI_SR_INS   0.364280934  0.127654932  8.10384877 1.958395e-01 64.299882193\n",
      "PAPI_BR_UCN   4.135515775  0.156524422  0.56550672 1.822963e-04  0.042344158\n",
      "PAPI_BR_CN    0.627340083  0.444262253 12.93320368 3.343335e+00 13.632042284\n",
      "PAPI_BR_TKN   0.645305487  0.444803377 12.97173963 3.358096e+00 13.690557325\n",
      "PAPI_BR_MSP   0.000160872  0.008018602  2.82736091 3.443698e+00  2.176179524\n",
      "PAPI_FP_OPS   0.000551991  2.216943396 33.97803417 9.728027e+00  0.008425623\n",
      "PAPI_L1_LDM  25.291451809  3.116435181  0.46188005 7.870862e-07  0.490343016\n",
      "PAPI_L1_STM  17.269976987  6.624077936  0.80567528 5.991551e-02  0.004344265\n",
      "PAPI_LD_INS   0.137008608  3.859858129 10.48908972 5.368216e+01  0.878164178\n",
      "PAPI_L2_STM  19.627990735  2.191477888  2.17221304 1.026625e-01  0.202378996\n",
      "PAPI_TLB_DM   0.869771858  4.165838107 10.53061791 8.955618e+00  0.008247974\n",
      "PAPI_L2_DCH   0.047514318 41.514659601  0.67445901 2.299848e+00  1.327445246\n",
      "                     PC11         PC12         PC13         PC14         PC15\n",
      "PAPI_L1_DCM  1.287473e+01 3.794571e+01 2.279747e+01 1.367585e-01 3.814139e+00\n",
      "PAPI_L3_TCM  1.580196e+01 1.842476e-01 8.639636e-01 7.804247e+00 2.028286e+01\n",
      "PAPI_TOT_INS 4.560427e+00 2.163740e+01 3.676170e+01 4.071711e+00 2.822589e-01\n",
      "PAPI_REF_CYC 3.387564e+00 3.668594e+00 2.168457e-02 1.067936e+01 4.235181e+01\n",
      "PAPI_L2_LDM  5.699551e-01 2.302473e+00 3.679437e+00 5.274740e+00 5.837761e+00\n",
      "PAPI_SR_INS  6.294429e+00 1.232913e+00 4.753425e+00 1.209283e-03 6.762524e-02\n",
      "PAPI_BR_UCN  2.852947e-03 1.019701e-04 7.406354e-04 1.590319e-04 3.642506e-05\n",
      "PAPI_BR_CN   1.285529e-01 8.322688e-01 9.562320e-01 1.853140e-01 2.367058e-02\n",
      "PAPI_BR_TKN  1.305835e-01 8.583696e-01 1.448329e+00 2.773705e-01 1.862017e-02\n",
      "PAPI_BR_MSP  4.122459e+01 1.614954e+01 3.375469e+00 2.488360e-01 1.150056e-01\n",
      "PAPI_FP_OPS  1.635772e+00 7.447445e+00 1.280584e+01 1.874310e+00 1.535309e-01\n",
      "PAPI_L1_LDM  6.965067e-01 1.615883e+00 8.759140e-03 5.149858e+00 1.206987e+00\n",
      "PAPI_L1_STM  8.172362e-01 1.160961e+00 8.496285e+00 2.794016e+01 1.576823e+01\n",
      "PAPI_LD_INS  4.162836e-01 2.429723e-02 3.312564e-01 2.074587e-01 7.652286e-02\n",
      "PAPI_L2_STM  8.162422e-04 3.563032e+00 7.099543e-01 3.435299e+01 9.965466e+00\n",
      "PAPI_TLB_DM  1.182870e+00 1.121749e+00 2.697754e+00 1.631825e-01 1.435803e-02\n",
      "PAPI_L2_DCH  1.027487e+01 2.550111e-01 2.916975e-01 1.632335e+00 2.111962e-02\n",
      "                     PC16         PC17\n",
      "PAPI_L1_DCM  1.712351e+00 1.173172e-02\n",
      "PAPI_L3_TCM  3.719045e+00 3.027663e-04\n",
      "PAPI_TOT_INS 1.532478e-01 1.547216e-02\n",
      "PAPI_REF_CYC 8.359055e+00 2.823678e-03\n",
      "PAPI_L2_LDM  3.250485e+01 2.392343e-02\n",
      "PAPI_SR_INS  6.308431e-03 9.568195e-04\n",
      "PAPI_BR_UCN  8.617993e-06 4.104530e-04\n",
      "PAPI_BR_CN   6.068416e-03 5.037421e+01\n",
      "PAPI_BR_TKN  1.129621e-01 4.951112e+01\n",
      "PAPI_BR_MSP  3.675001e-03 6.494937e-04\n",
      "PAPI_FP_OPS  1.313411e-01 6.254129e-03\n",
      "PAPI_L1_LDM  4.774458e+01 4.750493e-02\n",
      "PAPI_L1_STM  1.405144e+00 2.349571e-03\n",
      "PAPI_LD_INS  9.331584e-03 8.275145e-06\n",
      "PAPI_L2_STM  1.709125e+00 3.515984e-04\n",
      "PAPI_TLB_DM  1.153234e-02 1.191096e-03\n",
      "PAPI_L2_DCH  2.411373e+00 7.437225e-04\n"
     ]
    }
   ],
   "source": [
    "comp.cos2 <- apply(var.cos2, 2, sum)\n",
    "\n",
    "contrib <- function(var.cos2, comp.cos2){var.cos2*100/comp.cos2}\n",
    "\n",
    "var.contrib <- t(apply(var.cos2,1, contrib, comp.cos2))\n",
    "print(var.contrib)"
   ]
  },
  {
   "cell_type": "code",
   "execution_count": 43,
   "metadata": {},
   "outputs": [
    {
     "name": "stdout",
     "output_type": "stream",
     "text": [
      " PAPI_L1_DCM  PAPI_SR_INS   PAPI_BR_CN  PAPI_BR_TKN PAPI_REF_CYC  PAPI_BR_MSP \n",
      "    7.594605     7.380282     7.307453     7.304186     7.302214     7.140723 \n",
      "PAPI_TOT_INS  PAPI_L1_LDM  PAPI_L3_TCM  PAPI_L1_STM  PAPI_L2_LDM  PAPI_LD_INS \n",
      "    6.854240     6.815825     6.479783     6.108693     5.802029     5.368311 \n",
      " PAPI_L2_STM  PAPI_FP_OPS  PAPI_BR_UCN  PAPI_L2_DCH  PAPI_TLB_DM \n",
      "    5.217505     4.140283     3.779624     3.261246     2.142997 \n"
     ]
    }
   ],
   "source": [
    "print(sort(var.contrib[,'PC1'],decreasing=TRUE))"
   ]
  },
  {
   "cell_type": "code",
   "execution_count": 44,
   "metadata": {},
   "outputs": [
    {
     "name": "stdout",
     "output_type": "stream",
     "text": [
      " PAPI_L2_DCH  PAPI_FP_OPS  PAPI_L2_STM PAPI_TOT_INS  PAPI_TLB_DM  PAPI_LD_INS \n",
      "  16.4519921   14.6986624    9.8321770    7.9832815    7.8158927    7.4195158 \n",
      " PAPI_L2_LDM  PAPI_L1_STM  PAPI_L3_TCM   PAPI_BR_CN  PAPI_BR_TKN  PAPI_L1_DCM \n",
      "   6.5591853    6.1645884    4.1103882    3.4639779    3.4636633    3.4146011 \n",
      " PAPI_SR_INS  PAPI_L1_LDM PAPI_REF_CYC  PAPI_BR_MSP  PAPI_BR_UCN \n",
      "   3.0760752    2.5973752    2.0281093    0.8171146    0.1034000 \n"
     ]
    }
   ],
   "source": [
    "print(sort(var.contrib[,'PC2'],decreasing=TRUE))"
   ]
  },
  {
   "cell_type": "code",
   "execution_count": 45,
   "metadata": {},
   "outputs": [
    {
     "name": "stdout",
     "output_type": "stream",
     "text": [
      " PAPI_TLB_DM  PAPI_LD_INS  PAPI_FP_OPS  PAPI_L1_STM  PAPI_L1_DCM  PAPI_L2_STM \n",
      "53.561812247 10.089581328  9.732449165  3.990295801  3.770969663  3.189416155 \n",
      "PAPI_REF_CYC  PAPI_BR_TKN   PAPI_BR_CN  PAPI_L2_DCH  PAPI_L3_TCM  PAPI_BR_UCN \n",
      " 2.848585676  2.281396966  2.274382121  1.805180133  1.559534559  1.496969908 \n",
      " PAPI_BR_MSP  PAPI_SR_INS  PAPI_L1_LDM  PAPI_L2_LDM PAPI_TOT_INS \n",
      " 1.182645746  1.106569547  0.659763410  0.442693496  0.007754079 \n"
     ]
    }
   ],
   "source": [
    "print(sort(var.contrib[,'PC3'],decreasing=TRUE))"
   ]
  },
  {
   "cell_type": "code",
   "execution_count": 46,
   "metadata": {},
   "outputs": [
    {
     "data": {},
     "metadata": {},
     "output_type": "display_data"
    },
    {
     "data": {
      "image/png": "[encoded data removed]",
      "text/plain": [
       "plot without title"
      ]
     },
     "metadata": {},
     "output_type": "display_data"
    }
   ],
   "source": [
    "fviz_pca_var(res.pca, col.var=\"contrib\") + scale_color_gradient2(low=\"white\", mid=\"blue\", high=\"red\", midpoint=50) + theme_minimal()"
   ]
  },
  {
   "cell_type": "code",
   "execution_count": 47,
   "metadata": {
    "scrolled": false
   },
   "outputs": [
    {
     "ename": "ERROR",
     "evalue": "Error in `[.data.frame`(mydata, , 5:61): undefined columns selected\n",
     "output_type": "error",
     "traceback": [
      "Error in `[.data.frame`(mydata, , 5:61): undefined columns selected\nTraceback:\n",
      "1. mydata[, 5:61]",
      "2. `[.data.frame`(mydata, , 5:61)",
      "3. stop(\"undefined columns selected\")"
     ]
    }
   ],
   "source": [
    "new_mydata1 = mydata[,5:61]\n",
    "new_mydata1 <- subset(new_mydata1, select = -c(PAPI_TOT_CYC))\n",
    "new_mydata1 <- subset(new_mydata1, select = -c(PAPI_TLB_DM))\n",
    "new_mydata1 <- subset(new_mydata1, select = -c(PAPI_FP_INS))\n",
    "new_mydata1 <- subset(new_mydata1, select = -c(PAPI_L2_TCW))\n",
    "new_mydata1 <- subset(new_mydata1, select = -c(PAPI_L2_DCW))\n",
    "new_mydata1 <- subset(new_mydata1, select = -c(PAPI_L3_TCA))\n",
    "new_mydata1 <- subset(new_mydata1, select = -c(PAPI_L2_DCA))\n",
    "new_mydata1 <- subset(new_mydata1, select = -c(PAPI_L3_TCW))\n",
    "new_mydata1 <- subset(new_mydata1, select = -c(PAPI_L3_DCW))\n",
    "new_mydata1 <- subset(new_mydata1, select = -c(PAPI_L3_DCA))\n",
    "new_mydata1 <- subset(new_mydata1, select = -c(PAPI_L3_TCR))\n",
    "new_mydata1 <- subset(new_mydata1, select = -c(PAPI_L3_DCR))\n",
    "new_mydata1 <- subset(new_mydata1, select = -c(PAPI_L2_DCR))\n",
    "new_mydata1 <- subset(new_mydata1, select = -c(PAPI_L2_TCR))\n",
    "new_mydata1 <- subset(new_mydata1, select = -c(PAPI_L2_TCA))\n",
    "new_mydata1 <- subset(new_mydata1, select = -c(PAPI_L2_DCM))\n",
    "new_mydata1 <- subset(new_mydata1, select = -c(PAPI_BR_INS))\n",
    "\n",
    "new_mydata1 <- subset(new_mydata1, select = -c(PAPI_L1_ICA))\n",
    "new_mydata1 <- subset(new_mydata1, select = -c(PAPI_L1_ICH))\n",
    "new_mydata1 <- subset(new_mydata1, select = -c(PAPI_L1_ICM))\n",
    "new_mydata1 <- subset(new_mydata1, select = -c(PAPI_L1_ICR))\n",
    "new_mydata1 <- subset(new_mydata1, select = -c(PAPI_L2_ICA))\n",
    "new_mydata1 <- subset(new_mydata1, select = -c(PAPI_L2_ICH))\n",
    "new_mydata1 <- subset(new_mydata1, select = -c(PAPI_L2_ICM))\n",
    "new_mydata1 <- subset(new_mydata1, select = -c(PAPI_L2_ICR))\n",
    "new_mydata1 <- subset(new_mydata1, select = -c(PAPI_L3_ICA))\n",
    "new_mydata1 <- subset(new_mydata1, select = -c(PAPI_L3_ICR))\n",
    "new_mydata1 <- subset(new_mydata1, select = -c(PAPI_L1_TCM))\n",
    "new_mydata1 <- subset(new_mydata1, select = -c(PAPI_L2_TCH))\n",
    "new_mydata1 <- subset(new_mydata1, select = -c(PAPI_L2_TCM))\n",
    "new_mydata1 <- subset(new_mydata1, select = -c(PAPI_TLB_IM))\n",
    "new_mydata1 <- subset(new_mydata1, select = -c(PAPI_RES_STL))\n",
    "new_mydata1 <- subset(new_mydata1, select = -c(PAPI_BR_PRC))\n",
    "new_mydata1 <- subset(new_mydata1, select = -c(PAPI_BR_MSP))\n",
    "\n",
    "\n",
    "\n",
    "\n",
    "new_mydata1 <- subset(new_mydata1, select = -c(PAPI_VEC_DP))\n",
    "new_mydata1 <- subset(new_mydata1, select = -c(PAPI_VEC_SP))\n",
    "\n",
    "my_data_ordered1 <- new_mydata1[,order(colnames(new_mydata1))]\n",
    "\n",
    "\n",
    "options(repr.matrix.max.rows = 100)\n",
    "options(repr.matrix.max.cols = 100)\n",
    "res1 <- cor(my_data_ordered1)\n",
    "dim(res1)\n",
    "round(res1, 2)"
   ]
  },
  {
   "cell_type": "code",
   "execution_count": null,
   "metadata": {},
   "outputs": [],
   "source": [
    "library(corrplot)\n",
    "\n",
    "\n",
    "corrplot(res1, tl.col = \"black\", tl.srt = 90, tl.cex = 0.7, method= \"square\", order = \"AOE\", number.cex = 0.5)"
   ]
  },
  {
   "cell_type": "code",
   "execution_count": null,
   "metadata": {},
   "outputs": [],
   "source": [
    "corrplot(res1, tl.col = \"black\", tl.srt = 90, tl.cex = 0.7, method= \"square\", order = \"hclust\", number.cex = 0.5, addrect=2)"
   ]
  },
  {
   "cell_type": "code",
   "execution_count": null,
   "metadata": {},
   "outputs": [],
   "source": [
    "corrplot(res1, tl.col = \"black\", tl.srt = 90, tl.cex = 0.7, method= \"square\", order = \"hclust\", number.cex = 0.5, addrect=3)"
   ]
  },
  {
   "cell_type": "code",
   "execution_count": null,
   "metadata": {},
   "outputs": [],
   "source": [
    "corrplot(res1, tl.col = \"black\", tl.srt = 90, tl.cex = 0.7, method= \"square\", order = \"hclust\", number.cex = 0.5, addrect=4)"
   ]
  },
  {
   "cell_type": "code",
   "execution_count": null,
   "metadata": {},
   "outputs": [],
   "source": [
    "corrplot(res1, tl.col = \"black\", tl.srt = 90, tl.cex = 0.7, method= \"square\", order = \"hclust\", number.cex = 0.5, addrect=5)"
   ]
  },
  {
   "cell_type": "code",
   "execution_count": null,
   "metadata": {},
   "outputs": [],
   "source": [
    "corrplot(res1, tl.col = \"black\", tl.srt = 90, tl.cex = 0.7, method= \"square\", order = \"hclust\", number.cex = 0.5, addrect=6)"
   ]
  },
  {
   "cell_type": "code",
   "execution_count": null,
   "metadata": {},
   "outputs": [],
   "source": [
    "corrplot(res1, tl.col = \"black\", tl.srt = 90, tl.cex = 0.7, method= \"square\", order = \"hclust\", number.cex = 0.5, addrect=7)"
   ]
  },
  {
   "cell_type": "code",
   "execution_count": null,
   "metadata": {},
   "outputs": [],
   "source": [
    "corrplot(res1, tl.col = \"black\", tl.srt = 90, tl.cex = 0.7, method= \"square\", order = \"hclust\", number.cex = 0.5, addrect=8)"
   ]
  },
  {
   "cell_type": "code",
   "execution_count": null,
   "metadata": {},
   "outputs": [],
   "source": [
    "corrplot(res1, tl.col = \"black\", tl.srt = 90, tl.cex = 0.7, method= \"square\", order = \"hclust\", number.cex = 0.5, addrect=9)"
   ]
  },
  {
   "cell_type": "code",
   "execution_count": null,
   "metadata": {},
   "outputs": [],
   "source": [
    "corrplot(res1, tl.col = \"black\", tl.srt = 90, tl.cex = 0.7, method= \"square\", order = \"hclust\", number.cex = 0.5, addrect=10)"
   ]
  },
  {
   "cell_type": "code",
   "execution_count": null,
   "metadata": {},
   "outputs": [],
   "source": [
    "corrplot(res1, tl.col = \"black\", tl.srt = 90, tl.cex = 0.7, method= \"square\", order = \"hclust\", number.cex = 0.5, addrect=11)"
   ]
  },
  {
   "cell_type": "code",
   "execution_count": null,
   "metadata": {},
   "outputs": [],
   "source": [
    "corrplot(res1, tl.col = \"black\", tl.srt = 90, tl.cex = 0.7, method= \"square\", order = \"hclust\", number.cex = 0.5, addrect=12)"
   ]
  },
  {
   "cell_type": "code",
   "execution_count": null,
   "metadata": {},
   "outputs": [],
   "source": [
    "corrplot(res1, tl.col = \"black\", tl.srt = 90, tl.cex = 0.7, method= \"square\", order = \"hclust\", number.cex = 0.5, addrect=13)"
   ]
  },
  {
   "cell_type": "code",
   "execution_count": null,
   "metadata": {},
   "outputs": [],
   "source": [
    "corrplot(res1, tl.col = \"black\", tl.srt = 90, tl.cex = 0.7, method= \"square\", order = \"hclust\", number.cex = 0.5, addrect=14)"
   ]
  },
  {
   "cell_type": "code",
   "execution_count": null,
   "metadata": {},
   "outputs": [],
   "source": [
    "corrplot(res1, tl.col = \"black\", tl.srt = 90, tl.cex = 0.7, method= \"square\", order = \"hclust\", number.cex = 0.5, addrect=15)"
   ]
  },
  {
   "cell_type": "code",
   "execution_count": null,
   "metadata": {},
   "outputs": [],
   "source": [
    "corrplot(res1, tl.col = \"black\", tl.srt = 90, tl.cex = 0.7, method= \"square\", order = \"hclust\", number.cex = 0.5, addrect=16)"
   ]
  },
  {
   "cell_type": "code",
   "execution_count": null,
   "metadata": {},
   "outputs": [],
   "source": [
    "corrplot(res1, tl.col = \"black\", tl.srt = 90, tl.cex = 0.7, method= \"square\", order = \"hclust\", number.cex = 0.5, addrect=17)"
   ]
  },
  {
   "cell_type": "code",
   "execution_count": null,
   "metadata": {},
   "outputs": [],
   "source": [
    "corrplot(res1, tl.col = \"black\", tl.srt = 90, tl.cex = 0.7, method= \"square\", order = \"FPC\", number.cex = 0.5)"
   ]
  },
  {
   "cell_type": "code",
   "execution_count": null,
   "metadata": {},
   "outputs": [],
   "source": [
    "corrplot(res1, tl.col = \"black\", tl.srt = 90, tl.cex = 0.7, method= \"square\", order = \"alphabet\", number.cex = 0.5)"
   ]
  },
  {
   "cell_type": "code",
   "execution_count": null,
   "metadata": {},
   "outputs": [],
   "source": []
  }
 ],
 "metadata": {
  "kernelspec": {
   "display_name": "R",
   "language": "R",
   "name": "ir"
  }
 },
 "nbformat": 4,
 "nbformat_minor": 2
}
