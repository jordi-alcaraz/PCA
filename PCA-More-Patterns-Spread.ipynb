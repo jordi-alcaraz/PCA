{
 "cells": [
  {
   "cell_type": "code",
   "execution_count": 1,
   "metadata": {},
   "outputs": [
    {
     "name": "stderr",
     "output_type": "stream",
     "text": [
      "Loading required package: ggplot2\n",
      "Welcome! Want to learn more? See two factoextra-related books at https://goo.gl/ve3WBa\n"
     ]
    }
   ],
   "source": [
    "library(\"factoextra\")\n",
    "options(repr.plot.width=12, repr.plot.height=13)"
   ]
  },
  {
   "cell_type": "code",
   "execution_count": 2,
   "metadata": {},
   "outputs": [
    {
     "data": {
      "text/html": [
       "O2\n",
       "<details>\n",
       "\t<summary style=display:list-item;cursor:pointer>\n",
       "\t\t<strong>Levels</strong>:\n",
       "\t</summary>\n",
       "\t'O2'\n",
       "</details>"
      ],
      "text/latex": [
       "O2\n",
       "\\emph{Levels}: 'O2'"
      ],
      "text/markdown": [
       "O2\n",
       "**Levels**: 'O2'"
      ],
      "text/plain": [
       "[1] O2\n",
       "Levels: O2"
      ]
     },
     "metadata": {},
     "output_type": "display_data"
    }
   ],
   "source": [
    "path=\"C:/Users/Jordi/New_Jupyter/\"\n",
    "setwd(path)\n",
    "mydata = read.csv(\"threads_ideal_data_partial_sp_cl+listR.csv\", sep=\";\")\n",
    "unique(mydata[,\"comp_opt\"])"
   ]
  },
  {
   "cell_type": "code",
   "execution_count": 3,
   "metadata": {},
   "outputs": [
    {
     "data": {
      "text/html": [
       "<ol class=list-inline>\n",
       "\t<li>'id'</li>\n",
       "\t<li>'size_vector'</li>\n",
       "\t<li>'comp_opt'</li>\n",
       "\t<li>'label'</li>\n",
       "\t<li>'threads'</li>\n",
       "\t<li>'PAPI_L1_DCM'</li>\n",
       "\t<li>'PAPI_L3_TCM'</li>\n",
       "\t<li>'PAPI_TOT_INS'</li>\n",
       "\t<li>'PAPI_REF_CYC'</li>\n",
       "\t<li>'PAPI_L2_LDM'</li>\n",
       "\t<li>'PAPI_SR_INS'</li>\n",
       "\t<li>'time_x'</li>\n",
       "\t<li>'PAPI_BR_UCN'</li>\n",
       "\t<li>'PAPI_BR_CN'</li>\n",
       "\t<li>'PAPI_BR_TKN'</li>\n",
       "\t<li>'PAPI_BR_MSP'</li>\n",
       "\t<li>'time_y'</li>\n",
       "\t<li>'PAPI_FP_OPS'</li>\n",
       "\t<li>'PAPI_L1_LDM'</li>\n",
       "\t<li>'PAPI_L1_STM'</li>\n",
       "\t<li>'time_x.1'</li>\n",
       "\t<li>'PAPI_SP_OPS'</li>\n",
       "\t<li>'PAPI_LD_INS'</li>\n",
       "\t<li>'PAPI_L2_STM'</li>\n",
       "\t<li>'time_y.1'</li>\n",
       "\t<li>'PAPI_TLB_DM'</li>\n",
       "\t<li>'PAPI_L2_DCH'</li>\n",
       "\t<li>'time'</li>\n",
       "\t<li>'time_log'</li>\n",
       "\t<li>'P_index'</li>\n",
       "\t<li>'ideal'</li>\n",
       "\t<li>'affinity'</li>\n",
       "\t<li>'T_list'</li>\n",
       "\t<li>'P_list'</li>\n",
       "</ol>\n"
      ],
      "text/latex": [
       "\\begin{enumerate*}\n",
       "\\item 'id'\n",
       "\\item 'size\\_vector'\n",
       "\\item 'comp\\_opt'\n",
       "\\item 'label'\n",
       "\\item 'threads'\n",
       "\\item 'PAPI\\_L1\\_DCM'\n",
       "\\item 'PAPI\\_L3\\_TCM'\n",
       "\\item 'PAPI\\_TOT\\_INS'\n",
       "\\item 'PAPI\\_REF\\_CYC'\n",
       "\\item 'PAPI\\_L2\\_LDM'\n",
       "\\item 'PAPI\\_SR\\_INS'\n",
       "\\item 'time\\_x'\n",
       "\\item 'PAPI\\_BR\\_UCN'\n",
       "\\item 'PAPI\\_BR\\_CN'\n",
       "\\item 'PAPI\\_BR\\_TKN'\n",
       "\\item 'PAPI\\_BR\\_MSP'\n",
       "\\item 'time\\_y'\n",
       "\\item 'PAPI\\_FP\\_OPS'\n",
       "\\item 'PAPI\\_L1\\_LDM'\n",
       "\\item 'PAPI\\_L1\\_STM'\n",
       "\\item 'time\\_x.1'\n",
       "\\item 'PAPI\\_SP\\_OPS'\n",
       "\\item 'PAPI\\_LD\\_INS'\n",
       "\\item 'PAPI\\_L2\\_STM'\n",
       "\\item 'time\\_y.1'\n",
       "\\item 'PAPI\\_TLB\\_DM'\n",
       "\\item 'PAPI\\_L2\\_DCH'\n",
       "\\item 'time'\n",
       "\\item 'time\\_log'\n",
       "\\item 'P\\_index'\n",
       "\\item 'ideal'\n",
       "\\item 'affinity'\n",
       "\\item 'T\\_list'\n",
       "\\item 'P\\_list'\n",
       "\\end{enumerate*}\n"
      ],
      "text/markdown": [
       "1. 'id'\n",
       "2. 'size_vector'\n",
       "3. 'comp_opt'\n",
       "4. 'label'\n",
       "5. 'threads'\n",
       "6. 'PAPI_L1_DCM'\n",
       "7. 'PAPI_L3_TCM'\n",
       "8. 'PAPI_TOT_INS'\n",
       "9. 'PAPI_REF_CYC'\n",
       "10. 'PAPI_L2_LDM'\n",
       "11. 'PAPI_SR_INS'\n",
       "12. 'time_x'\n",
       "13. 'PAPI_BR_UCN'\n",
       "14. 'PAPI_BR_CN'\n",
       "15. 'PAPI_BR_TKN'\n",
       "16. 'PAPI_BR_MSP'\n",
       "17. 'time_y'\n",
       "18. 'PAPI_FP_OPS'\n",
       "19. 'PAPI_L1_LDM'\n",
       "20. 'PAPI_L1_STM'\n",
       "21. 'time_x.1'\n",
       "22. 'PAPI_SP_OPS'\n",
       "23. 'PAPI_LD_INS'\n",
       "24. 'PAPI_L2_STM'\n",
       "25. 'time_y.1'\n",
       "26. 'PAPI_TLB_DM'\n",
       "27. 'PAPI_L2_DCH'\n",
       "28. 'time'\n",
       "29. 'time_log'\n",
       "30. 'P_index'\n",
       "31. 'ideal'\n",
       "32. 'affinity'\n",
       "33. 'T_list'\n",
       "34. 'P_list'\n",
       "\n",
       "\n"
      ],
      "text/plain": [
       " [1] \"id\"           \"size_vector\"  \"comp_opt\"     \"label\"        \"threads\"     \n",
       " [6] \"PAPI_L1_DCM\"  \"PAPI_L3_TCM\"  \"PAPI_TOT_INS\" \"PAPI_REF_CYC\" \"PAPI_L2_LDM\" \n",
       "[11] \"PAPI_SR_INS\"  \"time_x\"       \"PAPI_BR_UCN\"  \"PAPI_BR_CN\"   \"PAPI_BR_TKN\" \n",
       "[16] \"PAPI_BR_MSP\"  \"time_y\"       \"PAPI_FP_OPS\"  \"PAPI_L1_LDM\"  \"PAPI_L1_STM\" \n",
       "[21] \"time_x.1\"     \"PAPI_SP_OPS\"  \"PAPI_LD_INS\"  \"PAPI_L2_STM\"  \"time_y.1\"    \n",
       "[26] \"PAPI_TLB_DM\"  \"PAPI_L2_DCH\"  \"time\"         \"time_log\"     \"P_index\"     \n",
       "[31] \"ideal\"        \"affinity\"     \"T_list\"       \"P_list\"      "
      ]
     },
     "metadata": {},
     "output_type": "display_data"
    }
   ],
   "source": [
    "colnames(mydata)"
   ]
  },
  {
   "cell_type": "code",
   "execution_count": 4,
   "metadata": {},
   "outputs": [],
   "source": [
    "library(stringr)\n",
    "colnames(mydata)<-gsub(x = names(mydata), pattern = \"\\\\.\", replacement = \"_\" )"
   ]
  },
  {
   "cell_type": "code",
   "execution_count": 5,
   "metadata": {},
   "outputs": [],
   "source": [
    "#colnames(mydata)"
   ]
  },
  {
   "cell_type": "code",
   "execution_count": 6,
   "metadata": {},
   "outputs": [],
   "source": [
    "mydata = mydata[mydata$affinity == 'spread',]\n",
    "\n",
    "mydata_no_time <- subset(mydata, select = -c(P_list))\n",
    "mydata_no_time <- subset(mydata_no_time, select = -c(T_list))\n",
    "mydata_no_time <- subset(mydata_no_time, select = -c(ideal))\n",
    "mydata_no_time <- subset(mydata_no_time, select = -c(P_index))\n",
    "mydata_no_time <- subset(mydata_no_time, select = -c(time_log))\n",
    "mydata_no_time <- subset(mydata_no_time, select = -c(time))\n",
    "mydata_no_time <- subset(mydata_no_time, select = -c(time_y_1))\n",
    "mydata_no_time <- subset(mydata_no_time, select = -c(time_x_1))\n",
    "mydata_no_time <- subset(mydata_no_time, select = -c(time_x))\n",
    "mydata_no_time <- subset(mydata_no_time, select = -c(time_y))\n",
    "mydata_no_time <- subset(mydata_no_time, select = -c(affinity))\n",
    "\n",
    "\n",
    "\n",
    "\n",
    "mydata_no_time <- subset(mydata_no_time, select = -c(PAPI_SP_OPS))\n",
    "\n"
   ]
  },
  {
   "cell_type": "code",
   "execution_count": 7,
   "metadata": {},
   "outputs": [
    {
     "data": {
      "text/html": [
       "<ol class=list-inline>\n",
       "\t<li>'id'</li>\n",
       "\t<li>'size_vector'</li>\n",
       "\t<li>'comp_opt'</li>\n",
       "\t<li>'label'</li>\n",
       "\t<li>'threads'</li>\n",
       "\t<li>'PAPI_L1_DCM'</li>\n",
       "\t<li>'PAPI_L3_TCM'</li>\n",
       "\t<li>'PAPI_TOT_INS'</li>\n",
       "\t<li>'PAPI_REF_CYC'</li>\n",
       "\t<li>'PAPI_L2_LDM'</li>\n",
       "\t<li>'PAPI_SR_INS'</li>\n",
       "\t<li>'PAPI_BR_UCN'</li>\n",
       "\t<li>'PAPI_BR_CN'</li>\n",
       "\t<li>'PAPI_BR_TKN'</li>\n",
       "\t<li>'PAPI_BR_MSP'</li>\n",
       "\t<li>'PAPI_FP_OPS'</li>\n",
       "\t<li>'PAPI_L1_LDM'</li>\n",
       "\t<li>'PAPI_L1_STM'</li>\n",
       "\t<li>'PAPI_LD_INS'</li>\n",
       "\t<li>'PAPI_L2_STM'</li>\n",
       "\t<li>'PAPI_TLB_DM'</li>\n",
       "\t<li>'PAPI_L2_DCH'</li>\n",
       "</ol>\n"
      ],
      "text/latex": [
       "\\begin{enumerate*}\n",
       "\\item 'id'\n",
       "\\item 'size\\_vector'\n",
       "\\item 'comp\\_opt'\n",
       "\\item 'label'\n",
       "\\item 'threads'\n",
       "\\item 'PAPI\\_L1\\_DCM'\n",
       "\\item 'PAPI\\_L3\\_TCM'\n",
       "\\item 'PAPI\\_TOT\\_INS'\n",
       "\\item 'PAPI\\_REF\\_CYC'\n",
       "\\item 'PAPI\\_L2\\_LDM'\n",
       "\\item 'PAPI\\_SR\\_INS'\n",
       "\\item 'PAPI\\_BR\\_UCN'\n",
       "\\item 'PAPI\\_BR\\_CN'\n",
       "\\item 'PAPI\\_BR\\_TKN'\n",
       "\\item 'PAPI\\_BR\\_MSP'\n",
       "\\item 'PAPI\\_FP\\_OPS'\n",
       "\\item 'PAPI\\_L1\\_LDM'\n",
       "\\item 'PAPI\\_L1\\_STM'\n",
       "\\item 'PAPI\\_LD\\_INS'\n",
       "\\item 'PAPI\\_L2\\_STM'\n",
       "\\item 'PAPI\\_TLB\\_DM'\n",
       "\\item 'PAPI\\_L2\\_DCH'\n",
       "\\end{enumerate*}\n"
      ],
      "text/markdown": [
       "1. 'id'\n",
       "2. 'size_vector'\n",
       "3. 'comp_opt'\n",
       "4. 'label'\n",
       "5. 'threads'\n",
       "6. 'PAPI_L1_DCM'\n",
       "7. 'PAPI_L3_TCM'\n",
       "8. 'PAPI_TOT_INS'\n",
       "9. 'PAPI_REF_CYC'\n",
       "10. 'PAPI_L2_LDM'\n",
       "11. 'PAPI_SR_INS'\n",
       "12. 'PAPI_BR_UCN'\n",
       "13. 'PAPI_BR_CN'\n",
       "14. 'PAPI_BR_TKN'\n",
       "15. 'PAPI_BR_MSP'\n",
       "16. 'PAPI_FP_OPS'\n",
       "17. 'PAPI_L1_LDM'\n",
       "18. 'PAPI_L1_STM'\n",
       "19. 'PAPI_LD_INS'\n",
       "20. 'PAPI_L2_STM'\n",
       "21. 'PAPI_TLB_DM'\n",
       "22. 'PAPI_L2_DCH'\n",
       "\n",
       "\n"
      ],
      "text/plain": [
       " [1] \"id\"           \"size_vector\"  \"comp_opt\"     \"label\"        \"threads\"     \n",
       " [6] \"PAPI_L1_DCM\"  \"PAPI_L3_TCM\"  \"PAPI_TOT_INS\" \"PAPI_REF_CYC\" \"PAPI_L2_LDM\" \n",
       "[11] \"PAPI_SR_INS\"  \"PAPI_BR_UCN\"  \"PAPI_BR_CN\"   \"PAPI_BR_TKN\"  \"PAPI_BR_MSP\" \n",
       "[16] \"PAPI_FP_OPS\"  \"PAPI_L1_LDM\"  \"PAPI_L1_STM\"  \"PAPI_LD_INS\"  \"PAPI_L2_STM\" \n",
       "[21] \"PAPI_TLB_DM\"  \"PAPI_L2_DCH\" "
      ]
     },
     "metadata": {},
     "output_type": "display_data"
    }
   ],
   "source": [
    "colnames(mydata_no_time)"
   ]
  },
  {
   "cell_type": "code",
   "execution_count": 8,
   "metadata": {},
   "outputs": [],
   "source": [
    "#mydata = mydata[mydata$comp_opt != 'NF',]\n",
    "#mydata = mydata[mydata$comp_opt != 'O1',]\n",
    "#mydata = mydata[mydata$label != '2D4PStencil_E',]\n",
    "#mydata = mydata[mydata$label != 'Reduction_E',]\n",
    "#mydata = mydata[mydata$label != '2PStencil_E',]\n",
    "\n",
    "#head(mydata)\n",
    "#unique(mydata[,\"comp_opt\"])"
   ]
  },
  {
   "cell_type": "code",
   "execution_count": 9,
   "metadata": {},
   "outputs": [],
   "source": [
    "#head(mydata)"
   ]
  },
  {
   "cell_type": "code",
   "execution_count": 10,
   "metadata": {},
   "outputs": [
    {
     "data": {
      "text/html": [
       "<ol class=list-inline>\n",
       "\t<li>'1 K'</li>\n",
       "\t<li>'2 K'</li>\n",
       "\t<li>'3 K'</li>\n",
       "\t<li>'4 K'</li>\n",
       "\t<li>'5 K'</li>\n",
       "\t<li>'6 K'</li>\n",
       "\t<li>'7 K'</li>\n",
       "\t<li>'8 K'</li>\n",
       "\t<li>'9 K'</li>\n",
       "\t<li>'10 K'</li>\n",
       "\t<li>'20 K'</li>\n",
       "\t<li>'30 K'</li>\n",
       "\t<li>'40 K'</li>\n",
       "\t<li>'50 K'</li>\n",
       "\t<li>'60 K'</li>\n",
       "\t<li>'70 K'</li>\n",
       "\t<li>'80 K'</li>\n",
       "\t<li>'90 K'</li>\n",
       "\t<li>'100 K'</li>\n",
       "\t<li>'200 K'</li>\n",
       "\t<li>'300 K'</li>\n",
       "\t<li>'400 K'</li>\n",
       "\t<li>'500 K'</li>\n",
       "\t<li>'600 K'</li>\n",
       "\t<li>'700 K'</li>\n",
       "\t<li>'800 K'</li>\n",
       "\t<li>'900 K'</li>\n",
       "\t<li>'1 M'</li>\n",
       "\t<li>'2 M'</li>\n",
       "\t<li>'3 M'</li>\n",
       "\t<li>'5 M'</li>\n",
       "\t<li>'7 M'</li>\n",
       "\t<li>'9 M'</li>\n",
       "\t<li>'20 M'</li>\n",
       "\t<li>'40 M'</li>\n",
       "\t<li>'60 M'</li>\n",
       "\t<li>'80 M'</li>\n",
       "\t<li>'100 M'</li>\n",
       "\t<li>'120 M'</li>\n",
       "\t<li>'140 M'</li>\n",
       "\t<li>'160 M'</li>\n",
       "\t<li>'180 M'</li>\n",
       "\t<li>'200 M'</li>\n",
       "</ol>\n"
      ],
      "text/latex": [
       "\\begin{enumerate*}\n",
       "\\item '1 K'\n",
       "\\item '2 K'\n",
       "\\item '3 K'\n",
       "\\item '4 K'\n",
       "\\item '5 K'\n",
       "\\item '6 K'\n",
       "\\item '7 K'\n",
       "\\item '8 K'\n",
       "\\item '9 K'\n",
       "\\item '10 K'\n",
       "\\item '20 K'\n",
       "\\item '30 K'\n",
       "\\item '40 K'\n",
       "\\item '50 K'\n",
       "\\item '60 K'\n",
       "\\item '70 K'\n",
       "\\item '80 K'\n",
       "\\item '90 K'\n",
       "\\item '100 K'\n",
       "\\item '200 K'\n",
       "\\item '300 K'\n",
       "\\item '400 K'\n",
       "\\item '500 K'\n",
       "\\item '600 K'\n",
       "\\item '700 K'\n",
       "\\item '800 K'\n",
       "\\item '900 K'\n",
       "\\item '1 M'\n",
       "\\item '2 M'\n",
       "\\item '3 M'\n",
       "\\item '5 M'\n",
       "\\item '7 M'\n",
       "\\item '9 M'\n",
       "\\item '20 M'\n",
       "\\item '40 M'\n",
       "\\item '60 M'\n",
       "\\item '80 M'\n",
       "\\item '100 M'\n",
       "\\item '120 M'\n",
       "\\item '140 M'\n",
       "\\item '160 M'\n",
       "\\item '180 M'\n",
       "\\item '200 M'\n",
       "\\end{enumerate*}\n"
      ],
      "text/markdown": [
       "1. '1 K'\n",
       "2. '2 K'\n",
       "3. '3 K'\n",
       "4. '4 K'\n",
       "5. '5 K'\n",
       "6. '6 K'\n",
       "7. '7 K'\n",
       "8. '8 K'\n",
       "9. '9 K'\n",
       "10. '10 K'\n",
       "11. '20 K'\n",
       "12. '30 K'\n",
       "13. '40 K'\n",
       "14. '50 K'\n",
       "15. '60 K'\n",
       "16. '70 K'\n",
       "17. '80 K'\n",
       "18. '90 K'\n",
       "19. '100 K'\n",
       "20. '200 K'\n",
       "21. '300 K'\n",
       "22. '400 K'\n",
       "23. '500 K'\n",
       "24. '600 K'\n",
       "25. '700 K'\n",
       "26. '800 K'\n",
       "27. '900 K'\n",
       "28. '1 M'\n",
       "29. '2 M'\n",
       "30. '3 M'\n",
       "31. '5 M'\n",
       "32. '7 M'\n",
       "33. '9 M'\n",
       "34. '20 M'\n",
       "35. '40 M'\n",
       "36. '60 M'\n",
       "37. '80 M'\n",
       "38. '100 M'\n",
       "39. '120 M'\n",
       "40. '140 M'\n",
       "41. '160 M'\n",
       "42. '180 M'\n",
       "43. '200 M'\n",
       "\n",
       "\n"
      ],
      "text/plain": [
       " [1] \"1 K\"   \"2 K\"   \"3 K\"   \"4 K\"   \"5 K\"   \"6 K\"   \"7 K\"   \"8 K\"   \"9 K\"  \n",
       "[10] \"10 K\"  \"20 K\"  \"30 K\"  \"40 K\"  \"50 K\"  \"60 K\"  \"70 K\"  \"80 K\"  \"90 K\" \n",
       "[19] \"100 K\" \"200 K\" \"300 K\" \"400 K\" \"500 K\" \"600 K\" \"700 K\" \"800 K\" \"900 K\"\n",
       "[28] \"1 M\"   \"2 M\"   \"3 M\"   \"5 M\"   \"7 M\"   \"9 M\"   \"20 M\"  \"40 M\"  \"60 M\" \n",
       "[37] \"80 M\"  \"100 M\" \"120 M\" \"140 M\" \"160 M\" \"180 M\" \"200 M\""
      ]
     },
     "metadata": {},
     "output_type": "display_data"
    }
   ],
   "source": [
    "dfu <- unique(mydata_no_time$size_vector)\n",
    "#dfu[order(dfu)]\n",
    "\n",
    "comprss <- function(tx) { \n",
    "      div <- findInterval(as.numeric(gsub(\"\\\\,\", \"\", tx)), \n",
    "                          c(1, 1e3, 1e6, 1e9, 1e12) )\n",
    "      paste(round( as.numeric(gsub(\"\\\\,\",\"\",tx))/10^(3*(div-1)), 2), \n",
    "           c(\"\",\"K\",\"M\",\"B\",\"T\")[div] )}\n",
    "comprss(dfu[order(dfu)])\n",
    "\n"
   ]
  },
  {
   "cell_type": "code",
   "execution_count": 11,
   "metadata": {},
   "outputs": [],
   "source": [
    "#print(new_mydata[,c(\"PAPI_VEC_SP\",\"PAPI_VEC_DP\")])\n",
    "#print(mydata[,c(\"PAPI_VEC_SP\",\"PAPI_SP_OPS\")])"
   ]
  },
  {
   "cell_type": "code",
   "execution_count": 12,
   "metadata": {},
   "outputs": [],
   "source": [
    "#div = mydata$PAPI_SP_OPS/mydata$PAPI_VEC_SP\n",
    "#div <- na.omit(div)\n",
    "#subs = mydata$PAPI_BR_INS-(mydata$PAPI_BR_CN + mydata$PAPI_BR_UCN)"
   ]
  },
  {
   "cell_type": "code",
   "execution_count": 13,
   "metadata": {
    "scrolled": false
   },
   "outputs": [],
   "source": [
    "#mean(div)\n",
    "#quantile(div,0.25)\n",
    "#quantile(div,0.5)\n",
    "#quantile(div,0.75)\n",
    "#boxplot(div)"
   ]
  },
  {
   "cell_type": "code",
   "execution_count": 14,
   "metadata": {
    "scrolled": true
   },
   "outputs": [],
   "source": [
    "#print(mydata[,c(\"PAPI_BR_INS\",\"PAPI_BR_CN\",\"PAPI_BR_UCN\")])#subs = mydata$PAPI_BR_INS-(mydata$PAPI_BR_CN/mydata$PAPI_BR_UCN)\n",
    "#print(subs)\n",
    "#perc = subs/mydata$PAPI_BR_INS\n",
    "\n",
    "#head(percent(perc[order(perc,decreasing = TRUE)]))"
   ]
  },
  {
   "cell_type": "code",
   "execution_count": 15,
   "metadata": {},
   "outputs": [
    {
     "data": {
      "text/html": [
       "TRUE"
      ],
      "text/latex": [
       "TRUE"
      ],
      "text/markdown": [
       "TRUE"
      ],
      "text/plain": [
       "[1] TRUE"
      ]
     },
     "metadata": {},
     "output_type": "display_data"
    }
   ],
   "source": [
    "#all(new_mydata$PAPI_VEC_SP == new_mydata$PAPI_VEC_DP)\n",
    "all(mydata_no_time$PAPI_DP_SP == mydata_no_time$PAPI_SP_OPS)"
   ]
  },
  {
   "cell_type": "code",
   "execution_count": 16,
   "metadata": {},
   "outputs": [
    {
     "data": {
      "text/html": [
       "<ol class=list-inline>\n",
       "\t<li>'id'</li>\n",
       "\t<li>'size_vector'</li>\n",
       "\t<li>'comp_opt'</li>\n",
       "\t<li>'label'</li>\n",
       "\t<li>'threads'</li>\n",
       "\t<li>'PAPI_L1_DCM'</li>\n",
       "\t<li>'PAPI_L3_TCM'</li>\n",
       "\t<li>'PAPI_TOT_INS'</li>\n",
       "\t<li>'PAPI_REF_CYC'</li>\n",
       "\t<li>'PAPI_L2_LDM'</li>\n",
       "\t<li>'PAPI_SR_INS'</li>\n",
       "\t<li>'PAPI_BR_UCN'</li>\n",
       "\t<li>'PAPI_BR_CN'</li>\n",
       "\t<li>'PAPI_BR_TKN'</li>\n",
       "\t<li>'PAPI_BR_MSP'</li>\n",
       "\t<li>'PAPI_FP_OPS'</li>\n",
       "\t<li>'PAPI_L1_LDM'</li>\n",
       "\t<li>'PAPI_L1_STM'</li>\n",
       "\t<li>'PAPI_LD_INS'</li>\n",
       "\t<li>'PAPI_L2_STM'</li>\n",
       "\t<li>'PAPI_TLB_DM'</li>\n",
       "\t<li>'PAPI_L2_DCH'</li>\n",
       "</ol>\n"
      ],
      "text/latex": [
       "\\begin{enumerate*}\n",
       "\\item 'id'\n",
       "\\item 'size\\_vector'\n",
       "\\item 'comp\\_opt'\n",
       "\\item 'label'\n",
       "\\item 'threads'\n",
       "\\item 'PAPI\\_L1\\_DCM'\n",
       "\\item 'PAPI\\_L3\\_TCM'\n",
       "\\item 'PAPI\\_TOT\\_INS'\n",
       "\\item 'PAPI\\_REF\\_CYC'\n",
       "\\item 'PAPI\\_L2\\_LDM'\n",
       "\\item 'PAPI\\_SR\\_INS'\n",
       "\\item 'PAPI\\_BR\\_UCN'\n",
       "\\item 'PAPI\\_BR\\_CN'\n",
       "\\item 'PAPI\\_BR\\_TKN'\n",
       "\\item 'PAPI\\_BR\\_MSP'\n",
       "\\item 'PAPI\\_FP\\_OPS'\n",
       "\\item 'PAPI\\_L1\\_LDM'\n",
       "\\item 'PAPI\\_L1\\_STM'\n",
       "\\item 'PAPI\\_LD\\_INS'\n",
       "\\item 'PAPI\\_L2\\_STM'\n",
       "\\item 'PAPI\\_TLB\\_DM'\n",
       "\\item 'PAPI\\_L2\\_DCH'\n",
       "\\end{enumerate*}\n"
      ],
      "text/markdown": [
       "1. 'id'\n",
       "2. 'size_vector'\n",
       "3. 'comp_opt'\n",
       "4. 'label'\n",
       "5. 'threads'\n",
       "6. 'PAPI_L1_DCM'\n",
       "7. 'PAPI_L3_TCM'\n",
       "8. 'PAPI_TOT_INS'\n",
       "9. 'PAPI_REF_CYC'\n",
       "10. 'PAPI_L2_LDM'\n",
       "11. 'PAPI_SR_INS'\n",
       "12. 'PAPI_BR_UCN'\n",
       "13. 'PAPI_BR_CN'\n",
       "14. 'PAPI_BR_TKN'\n",
       "15. 'PAPI_BR_MSP'\n",
       "16. 'PAPI_FP_OPS'\n",
       "17. 'PAPI_L1_LDM'\n",
       "18. 'PAPI_L1_STM'\n",
       "19. 'PAPI_LD_INS'\n",
       "20. 'PAPI_L2_STM'\n",
       "21. 'PAPI_TLB_DM'\n",
       "22. 'PAPI_L2_DCH'\n",
       "\n",
       "\n"
      ],
      "text/plain": [
       " [1] \"id\"           \"size_vector\"  \"comp_opt\"     \"label\"        \"threads\"     \n",
       " [6] \"PAPI_L1_DCM\"  \"PAPI_L3_TCM\"  \"PAPI_TOT_INS\" \"PAPI_REF_CYC\" \"PAPI_L2_LDM\" \n",
       "[11] \"PAPI_SR_INS\"  \"PAPI_BR_UCN\"  \"PAPI_BR_CN\"   \"PAPI_BR_TKN\"  \"PAPI_BR_MSP\" \n",
       "[16] \"PAPI_FP_OPS\"  \"PAPI_L1_LDM\"  \"PAPI_L1_STM\"  \"PAPI_LD_INS\"  \"PAPI_L2_STM\" \n",
       "[21] \"PAPI_TLB_DM\"  \"PAPI_L2_DCH\" "
      ]
     },
     "metadata": {},
     "output_type": "display_data"
    }
   ],
   "source": [
    "colnames(mydata_no_time)"
   ]
  },
  {
   "cell_type": "code",
   "execution_count": 17,
   "metadata": {},
   "outputs": [
    {
     "data": {
      "text/html": [
       "<ol class=list-inline>\n",
       "\t<li>'PAPI_L1_DCM'</li>\n",
       "\t<li>'PAPI_L3_TCM'</li>\n",
       "\t<li>'PAPI_TOT_INS'</li>\n",
       "\t<li>'PAPI_REF_CYC'</li>\n",
       "\t<li>'PAPI_L2_LDM'</li>\n",
       "\t<li>'PAPI_SR_INS'</li>\n",
       "\t<li>'PAPI_BR_UCN'</li>\n",
       "\t<li>'PAPI_BR_CN'</li>\n",
       "\t<li>'PAPI_BR_TKN'</li>\n",
       "\t<li>'PAPI_BR_MSP'</li>\n",
       "\t<li>'PAPI_FP_OPS'</li>\n",
       "\t<li>'PAPI_L1_LDM'</li>\n",
       "\t<li>'PAPI_L1_STM'</li>\n",
       "\t<li>'PAPI_LD_INS'</li>\n",
       "\t<li>'PAPI_L2_STM'</li>\n",
       "\t<li>'PAPI_TLB_DM'</li>\n",
       "\t<li>'PAPI_L2_DCH'</li>\n",
       "</ol>\n"
      ],
      "text/latex": [
       "\\begin{enumerate*}\n",
       "\\item 'PAPI\\_L1\\_DCM'\n",
       "\\item 'PAPI\\_L3\\_TCM'\n",
       "\\item 'PAPI\\_TOT\\_INS'\n",
       "\\item 'PAPI\\_REF\\_CYC'\n",
       "\\item 'PAPI\\_L2\\_LDM'\n",
       "\\item 'PAPI\\_SR\\_INS'\n",
       "\\item 'PAPI\\_BR\\_UCN'\n",
       "\\item 'PAPI\\_BR\\_CN'\n",
       "\\item 'PAPI\\_BR\\_TKN'\n",
       "\\item 'PAPI\\_BR\\_MSP'\n",
       "\\item 'PAPI\\_FP\\_OPS'\n",
       "\\item 'PAPI\\_L1\\_LDM'\n",
       "\\item 'PAPI\\_L1\\_STM'\n",
       "\\item 'PAPI\\_LD\\_INS'\n",
       "\\item 'PAPI\\_L2\\_STM'\n",
       "\\item 'PAPI\\_TLB\\_DM'\n",
       "\\item 'PAPI\\_L2\\_DCH'\n",
       "\\end{enumerate*}\n"
      ],
      "text/markdown": [
       "1. 'PAPI_L1_DCM'\n",
       "2. 'PAPI_L3_TCM'\n",
       "3. 'PAPI_TOT_INS'\n",
       "4. 'PAPI_REF_CYC'\n",
       "5. 'PAPI_L2_LDM'\n",
       "6. 'PAPI_SR_INS'\n",
       "7. 'PAPI_BR_UCN'\n",
       "8. 'PAPI_BR_CN'\n",
       "9. 'PAPI_BR_TKN'\n",
       "10. 'PAPI_BR_MSP'\n",
       "11. 'PAPI_FP_OPS'\n",
       "12. 'PAPI_L1_LDM'\n",
       "13. 'PAPI_L1_STM'\n",
       "14. 'PAPI_LD_INS'\n",
       "15. 'PAPI_L2_STM'\n",
       "16. 'PAPI_TLB_DM'\n",
       "17. 'PAPI_L2_DCH'\n",
       "\n",
       "\n"
      ],
      "text/plain": [
       " [1] \"PAPI_L1_DCM\"  \"PAPI_L3_TCM\"  \"PAPI_TOT_INS\" \"PAPI_REF_CYC\" \"PAPI_L2_LDM\" \n",
       " [6] \"PAPI_SR_INS\"  \"PAPI_BR_UCN\"  \"PAPI_BR_CN\"   \"PAPI_BR_TKN\"  \"PAPI_BR_MSP\" \n",
       "[11] \"PAPI_FP_OPS\"  \"PAPI_L1_LDM\"  \"PAPI_L1_STM\"  \"PAPI_LD_INS\"  \"PAPI_L2_STM\" \n",
       "[16] \"PAPI_TLB_DM\"  \"PAPI_L2_DCH\" "
      ]
     },
     "metadata": {},
     "output_type": "display_data"
    }
   ],
   "source": [
    "colnames(mydata_no_time[6:ncol(mydata_no_time)])"
   ]
  },
  {
   "cell_type": "code",
   "execution_count": 18,
   "metadata": {},
   "outputs": [
    {
     "data": {
      "text/html": [
       "<ol class=list-inline>\n",
       "\t<li>774000</li>\n",
       "\t<li>17</li>\n",
       "</ol>\n"
      ],
      "text/latex": [
       "\\begin{enumerate*}\n",
       "\\item 774000\n",
       "\\item 17\n",
       "\\end{enumerate*}\n"
      ],
      "text/markdown": [
       "1. 774000\n",
       "2. 17\n",
       "\n",
       "\n"
      ],
      "text/plain": [
       "[1] 774000     17"
      ]
     },
     "metadata": {},
     "output_type": "display_data"
    }
   ],
   "source": [
    "new_mydata = mydata_no_time[,6:ncol(mydata_no_time)]\n",
    "dim(new_mydata)\n"
   ]
  },
  {
   "cell_type": "code",
   "execution_count": 19,
   "metadata": {
    "scrolled": true
   },
   "outputs": [
    {
     "data": {
      "text/html": [
       "<table>\n",
       "<thead><tr><th></th><th scope=col>PAPI_L1_DCM</th><th scope=col>PAPI_L3_TCM</th><th scope=col>PAPI_TOT_INS</th><th scope=col>PAPI_REF_CYC</th><th scope=col>PAPI_L2_LDM</th><th scope=col>PAPI_SR_INS</th><th scope=col>PAPI_BR_UCN</th><th scope=col>PAPI_BR_CN</th><th scope=col>PAPI_BR_TKN</th><th scope=col>PAPI_BR_MSP</th><th scope=col>PAPI_FP_OPS</th><th scope=col>PAPI_L1_LDM</th><th scope=col>PAPI_L1_STM</th><th scope=col>PAPI_LD_INS</th><th scope=col>PAPI_L2_STM</th><th scope=col>PAPI_TLB_DM</th><th scope=col>PAPI_L2_DCH</th></tr></thead>\n",
       "<tbody>\n",
       "\t<tr><th scope=row>774001</th><td>5393   </td><td>557    </td><td> 752823</td><td>1372932</td><td>1666   </td><td>33185  </td><td>8422   </td><td>166465 </td><td>103441 </td><td>2039   </td><td>98     </td><td>4421   </td><td>739    </td><td>128301 </td><td>403    </td><td>233    </td><td>3230   </td></tr>\n",
       "\t<tr><th scope=row>774002</th><td>3386   </td><td> 70    </td><td>1456354</td><td>2915136</td><td> 599   </td><td>32264  </td><td>8207   </td><td>291840 </td><td>177639 </td><td>1757   </td><td>60     </td><td>2936   </td><td>485    </td><td>201162 </td><td>162    </td><td> 80    </td><td>2850   </td></tr>\n",
       "\t<tr><th scope=row>774003</th><td>3695   </td><td> 37    </td><td>1393425</td><td>2548620</td><td> 622   </td><td>32035  </td><td>8197   </td><td>304276 </td><td>172275 </td><td>1643   </td><td>42     </td><td>2811   </td><td>562    </td><td>191966 </td><td>210    </td><td> 70    </td><td>2724   </td></tr>\n",
       "\t<tr><th scope=row>774004</th><td>3368   </td><td> 53    </td><td>1360705</td><td>2485674</td><td> 505   </td><td>32261  </td><td>8218   </td><td>292359 </td><td>179325 </td><td>1739   </td><td>48     </td><td>2923   </td><td>502    </td><td>194601 </td><td>125    </td><td> 76    </td><td>2676   </td></tr>\n",
       "\t<tr><th scope=row>774005</th><td>3252   </td><td> 36    </td><td>1356101</td><td>2489760</td><td> 502   </td><td>32036  </td><td>8163   </td><td>305566 </td><td>172707 </td><td>1652   </td><td>42     </td><td>2868   </td><td>480    </td><td>233302 </td><td>121    </td><td> 68    </td><td>2770   </td></tr>\n",
       "\t<tr><th scope=row>774006</th><td>3311   </td><td> 44    </td><td>1361272</td><td>2484090</td><td> 477   </td><td>32261  </td><td>8158   </td><td>305542 </td><td>172936 </td><td>1708   </td><td>42     </td><td>2840   </td><td>503    </td><td>196808 </td><td>121    </td><td> 75    </td><td>2843   </td></tr>\n",
       "\t<tr><th scope=row>774007</th><td>3324   </td><td> 42    </td><td>1393371</td><td>2549034</td><td> 579   </td><td>32032  </td><td>8206   </td><td>308636 </td><td>174524 </td><td>1658   </td><td>54     </td><td>2885   </td><td>512    </td><td>189970 </td><td>117    </td><td> 65    </td><td>2723   </td></tr>\n",
       "\t<tr><th scope=row>774008</th><td>3207   </td><td> 34    </td><td>1206941</td><td>3048948</td><td> 477   </td><td>32264  </td><td>8206   </td><td>312845 </td><td>189958 </td><td>1747   </td><td>54     </td><td>2747   </td><td>470    </td><td>192913 </td><td>118    </td><td> 70    </td><td>2724   </td></tr>\n",
       "\t<tr><th scope=row>774009</th><td>3302   </td><td> 40    </td><td>1356457</td><td>2479878</td><td> 500   </td><td>32032  </td><td>8163   </td><td>303678 </td><td>185444 </td><td>1591   </td><td>42     </td><td>2839   </td><td>501    </td><td>196328 </td><td>125    </td><td> 68    </td><td>2649   </td></tr>\n",
       "\t<tr><th scope=row>774010</th><td>3319   </td><td> 41    </td><td>1341624</td><td>2451906</td><td> 523   </td><td>32261  </td><td>8210   </td><td>313989 </td><td>190456 </td><td>1737   </td><td>48     </td><td>2858   </td><td>470    </td><td>195525 </td><td>130    </td><td> 82    </td><td>2790   </td></tr>\n",
       "\t<tr><th scope=row>774011</th><td>3222   </td><td> 45    </td><td>1500136</td><td>2601522</td><td> 494   </td><td>32036  </td><td>8218   </td><td>314113 </td><td>215114 </td><td>1631   </td><td>54     </td><td>2788   </td><td>491    </td><td>190617 </td><td>134    </td><td> 68    </td><td>2671   </td></tr>\n",
       "\t<tr><th scope=row>774012</th><td>3415   </td><td> 49    </td><td>1359012</td><td>2490120</td><td> 512   </td><td>32189  </td><td>8192   </td><td>302350 </td><td>183419 </td><td>1631   </td><td>54     </td><td>2905   </td><td>505    </td><td>232862 </td><td>116    </td><td> 64    </td><td>2744   </td></tr>\n",
       "\t<tr><th scope=row>774013</th><td>3401   </td><td> 49    </td><td>1342492</td><td>2462796</td><td> 567   </td><td>32189  </td><td>8192   </td><td>312367 </td><td>189494 </td><td>1654   </td><td>48     </td><td>2848   </td><td>469    </td><td>232688 </td><td>123    </td><td> 63    </td><td>2687   </td></tr>\n",
       "\t<tr><th scope=row>774014</th><td>3352   </td><td> 40    </td><td>1210943</td><td>3027492</td><td> 528   </td><td>32192  </td><td>8175   </td><td>338013 </td><td>228603 </td><td>1650   </td><td>42     </td><td>2857   </td><td>500    </td><td>194192 </td><td>119    </td><td> 65    </td><td>2671   </td></tr>\n",
       "\t<tr><th scope=row>774015</th><td>3323   </td><td> 39    </td><td>1143621</td><td>2193066</td><td> 495   </td><td>32189  </td><td>8177   </td><td>304862 </td><td>172549 </td><td>1620   </td><td>54     </td><td>2782   </td><td>461    </td><td>190526 </td><td>117    </td><td> 69    </td><td>2751   </td></tr>\n",
       "\t<tr><th scope=row>774016</th><td>3296   </td><td> 41    </td><td>1283256</td><td>2304270</td><td> 493   </td><td>32189  </td><td>8163   </td><td>297170 </td><td>181710 </td><td>1648   </td><td>48     </td><td>2760   </td><td>501    </td><td>190949 </td><td>124    </td><td> 62    </td><td>2689   </td></tr>\n",
       "\t<tr><th scope=row>774017</th><td>3285   </td><td> 34    </td><td>1263551</td><td>2275560</td><td> 486   </td><td>32189  </td><td>8201   </td><td>304745 </td><td>172583 </td><td>1588   </td><td>48     </td><td>2906   </td><td>498    </td><td>194156 </td><td>129    </td><td> 68    </td><td>2708   </td></tr>\n",
       "\t<tr><th scope=row>774018</th><td>3380   </td><td> 33    </td><td>1348042</td><td>2328246</td><td> 529   </td><td>32189  </td><td>8136   </td><td>300792 </td><td>183008 </td><td>1592   </td><td>54     </td><td>2867   </td><td>476    </td><td>196212 </td><td>139    </td><td> 65    </td><td>2779   </td></tr>\n",
       "\t<tr><th scope=row>774019</th><td>3569   </td><td> 43    </td><td>1436503</td><td>2585214</td><td> 665   </td><td>32195  </td><td>8220   </td><td>316691 </td><td>191107 </td><td>1672   </td><td>60     </td><td>2827   </td><td>494    </td><td>195251 </td><td>139    </td><td> 71    </td><td>2717   </td></tr>\n",
       "\t<tr><th scope=row>774020</th><td>3275   </td><td> 36    </td><td>1149945</td><td>2244690</td><td> 482   </td><td>32189  </td><td>8188   </td><td>301584 </td><td>183216 </td><td>1589   </td><td>48     </td><td>2870   </td><td>480    </td><td>191702 </td><td>119    </td><td> 66    </td><td>2772   </td></tr>\n",
       "\t<tr><th scope=row>774021</th><td>3376   </td><td> 45    </td><td>1256682</td><td>2257542</td><td> 547   </td><td>32189  </td><td>8188   </td><td>301917 </td><td>171006 </td><td>1598   </td><td>48     </td><td>2930   </td><td>505    </td><td>236538 </td><td>131    </td><td> 64    </td><td>2670   </td></tr>\n",
       "\t<tr><th scope=row>774022</th><td>3220   </td><td> 49    </td><td>1257767</td><td>2280636</td><td> 498   </td><td>32193  </td><td>8197   </td><td>314943 </td><td>214727 </td><td>1674   </td><td>42     </td><td>2829   </td><td>503    </td><td>195075 </td><td>137    </td><td> 67    </td><td>2785   </td></tr>\n",
       "\t<tr><th scope=row>774023</th><td>3362   </td><td> 53    </td><td>1250527</td><td>2248974</td><td> 523   </td><td>32189  </td><td>8184   </td><td>304142 </td><td>184535 </td><td>1598   </td><td>48     </td><td>2775   </td><td>467    </td><td>190790 </td><td>133    </td><td> 69    </td><td>2717   </td></tr>\n",
       "\t<tr><th scope=row>774024</th><td>3381   </td><td> 46    </td><td>1280077</td><td>2307402</td><td> 585   </td><td>32189  </td><td>8193   </td><td>305370 </td><td>184892 </td><td>1614   </td><td>54     </td><td>2764   </td><td>490    </td><td>179113 </td><td>137    </td><td> 63    </td><td>2707   </td></tr>\n",
       "\t<tr><th scope=row>774025</th><td>3423   </td><td> 46    </td><td>1312815</td><td>2353338</td><td> 534   </td><td>32189  </td><td>8180   </td><td>319546 </td><td>216866 </td><td>1634   </td><td>60     </td><td>2901   </td><td>498    </td><td>190659 </td><td>126    </td><td> 64    </td><td>2718   </td></tr>\n",
       "\t<tr><th scope=row>774026</th><td>3317   </td><td> 57    </td><td>1239120</td><td>2220930</td><td> 506   </td><td>32189  </td><td>8160   </td><td>304735 </td><td>184756 </td><td>1632   </td><td>48     </td><td>2822   </td><td>478    </td><td>194377 </td><td>139    </td><td> 69    </td><td>2696   </td></tr>\n",
       "\t<tr><th scope=row>774027</th><td>3471   </td><td> 51    </td><td>1335780</td><td>2314656</td><td> 588   </td><td>32194  </td><td>8181   </td><td>302416 </td><td>183648 </td><td>1616   </td><td>54     </td><td>2808   </td><td>495    </td><td>191489 </td><td>133    </td><td> 72    </td><td>2793   </td></tr>\n",
       "\t<tr><th scope=row>774028</th><td>3278   </td><td> 42    </td><td>1145769</td><td>2224116</td><td> 483   </td><td>32189  </td><td>8180   </td><td>395812 </td><td>231568 </td><td>1628   </td><td>60     </td><td>2794   </td><td>464    </td><td>190686 </td><td>126    </td><td> 62    </td><td>2689   </td></tr>\n",
       "\t<tr><th scope=row>774029</th><td>3438   </td><td> 54    </td><td>1331251</td><td>2307708</td><td> 553   </td><td>32189  </td><td>8156   </td><td>301580 </td><td>183314 </td><td>1590   </td><td>60     </td><td>2897   </td><td>506    </td><td>206448 </td><td>128    </td><td> 68    </td><td>2719   </td></tr>\n",
       "\t<tr><th scope=row>774030</th><td>3256   </td><td> 52    </td><td>1240378</td><td>2228670</td><td> 488   </td><td>32189  </td><td>8159   </td><td>285284 </td><td>176226 </td><td>1603   </td><td>48     </td><td>2974   </td><td>512    </td><td>233496 </td><td>120    </td><td> 65    </td><td>2792   </td></tr>\n",
       "\t<tr><th scope=row>...</th><td>...</td><td>...</td><td>...</td><td>...</td><td>...</td><td>...</td><td>...</td><td>...</td><td>...</td><td>...</td><td>...</td><td>...</td><td>...</td><td>...</td><td>...</td><td>...</td><td>...</td></tr>\n",
       "\t<tr><th scope=row>1547971</th><td>79270  </td><td>59     </td><td>3402315</td><td>1908738</td><td>7453   </td><td>228038 </td><td>8027   </td><td>338297 </td><td>284625 </td><td>1236   </td><td>1201748</td><td>53136  </td><td>24985  </td><td>508073 </td><td>2150   </td><td>319    </td><td>68782  </td></tr>\n",
       "\t<tr><th scope=row>1547972</th><td>79305  </td><td>56     </td><td>3423579</td><td>1971288</td><td>8860   </td><td>228038 </td><td>7997   </td><td>343322 </td><td>287166 </td><td>1235   </td><td>1201757</td><td>53030  </td><td>24989  </td><td>506457 </td><td>2188   </td><td>339    </td><td>69057  </td></tr>\n",
       "\t<tr><th scope=row>1547973</th><td>79423  </td><td>59     </td><td>3440939</td><td>1990440</td><td>9095   </td><td>228038 </td><td>8068   </td><td>354930 </td><td>293065 </td><td>1342   </td><td>1201708</td><td>53169  </td><td>24994  </td><td>506264 </td><td>2179   </td><td>320    </td><td>68856  </td></tr>\n",
       "\t<tr><th scope=row>1547974</th><td>79320  </td><td>57     </td><td>3395775</td><td>1877220</td><td>5984   </td><td>228038 </td><td>8069   </td><td>351076 </td><td>291020 </td><td>1291   </td><td>1201675</td><td>53149  </td><td>24983  </td><td>506283 </td><td>2494   </td><td>339    </td><td>68812  </td></tr>\n",
       "\t<tr><th scope=row>1547975</th><td>79389  </td><td>63     </td><td>3408294</td><td>1897974</td><td>5936   </td><td>228041 </td><td>8070   </td><td>351392 </td><td>291232 </td><td>1273   </td><td>1201772</td><td>53055  </td><td>25004  </td><td>506843 </td><td>2118   </td><td>322    </td><td>68755  </td></tr>\n",
       "\t<tr><th scope=row>1547976</th><td>79256  </td><td>57     </td><td>3395920</td><td>1874538</td><td>6019   </td><td>228038 </td><td>8097   </td><td>357259 </td><td>294189 </td><td>1352   </td><td>1201671</td><td>53117  </td><td>24989  </td><td>508421 </td><td>2248   </td><td>352    </td><td>68754  </td></tr>\n",
       "\t<tr><th scope=row>1547977</th><td>79331  </td><td>60     </td><td>3411867</td><td>1904922</td><td>5964   </td><td>228038 </td><td>8072   </td><td>354073 </td><td>292553 </td><td>1314   </td><td>1201775</td><td>53136  </td><td>24964  </td><td>506564 </td><td>2142   </td><td>316    </td><td>68565  </td></tr>\n",
       "\t<tr><th scope=row>1547978</th><td>79322  </td><td>63     </td><td>3402469</td><td>1889028</td><td>6423   </td><td>228041 </td><td>8083   </td><td>358883 </td><td>294946 </td><td>1334   </td><td>1201721</td><td>53152  </td><td>24976  </td><td>507517 </td><td>2230   </td><td>353    </td><td>68739  </td></tr>\n",
       "\t<tr><th scope=row>1547979</th><td>79300  </td><td>59     </td><td>3392598</td><td>1869390</td><td>6101   </td><td>228038 </td><td>8076   </td><td>355267 </td><td>293121 </td><td>1304   </td><td>1201777</td><td>53094  </td><td>24992  </td><td>508461 </td><td>2167   </td><td>312    </td><td>68364  </td></tr>\n",
       "\t<tr><th scope=row>1547980</th><td>79356  </td><td>61     </td><td>3413861</td><td>1908090</td><td>6072   </td><td>228039 </td><td>8069   </td><td>339746 </td><td>285390 </td><td>1315   </td><td>1201779</td><td>53099  </td><td>24986  </td><td>506243 </td><td>2195   </td><td>336    </td><td>68653  </td></tr>\n",
       "\t<tr><th scope=row>1547981</th><td>79248  </td><td>60     </td><td>3393883</td><td>1872864</td><td>6123   </td><td>228038 </td><td>8093   </td><td>337528 </td><td>284401 </td><td>1287   </td><td>1201756</td><td>53240  </td><td>25011  </td><td>522555 </td><td>2236   </td><td>320    </td><td>68031  </td></tr>\n",
       "\t<tr><th scope=row>1547982</th><td>79224  </td><td>59     </td><td>3395516</td><td>1875762</td><td>6116   </td><td>228038 </td><td>8031   </td><td>337188 </td><td>284036 </td><td>1246   </td><td>1201796</td><td>53052  </td><td>24995  </td><td>517269 </td><td>2128   </td><td>325    </td><td>68818  </td></tr>\n",
       "\t<tr><th scope=row>1547983</th><td>79402  </td><td>56     </td><td>3401475</td><td>1888200</td><td>6442   </td><td>228041 </td><td>8073   </td><td>340985 </td><td>286038 </td><td>1280   </td><td>1201707</td><td>53076  </td><td>24993  </td><td>520357 </td><td>2116   </td><td>336    </td><td>67767  </td></tr>\n",
       "\t<tr><th scope=row>1547984</th><td>79390  </td><td>59     </td><td>3412430</td><td>1905066</td><td>6018   </td><td>228038 </td><td>8014   </td><td>337786 </td><td>284336 </td><td>1217   </td><td>1201703</td><td>53145  </td><td>25007  </td><td>519980 </td><td>2181   </td><td>323    </td><td>68872  </td></tr>\n",
       "\t<tr><th scope=row>1547985</th><td>79296  </td><td>60     </td><td>3396657</td><td>1879668</td><td>6142   </td><td>228038 </td><td>8026   </td><td>337887 </td><td>284414 </td><td>1239   </td><td>1201686</td><td>53059  </td><td>24990  </td><td>519102 </td><td>2190   </td><td>341    </td><td>68254  </td></tr>\n",
       "\t<tr><th scope=row>1547986</th><td>79273  </td><td>61     </td><td>3395439</td><td>1875600</td><td>6169   </td><td>228038 </td><td>8040   </td><td>338797 </td><td>284841 </td><td>1258   </td><td>1201703</td><td>53018  </td><td>24966  </td><td>516291 </td><td>2421   </td><td>309    </td><td>68641  </td></tr>\n",
       "\t<tr><th scope=row>1547987</th><td>79312  </td><td>59     </td><td>3395956</td><td>1877598</td><td>6175   </td><td>228038 </td><td>8025   </td><td>337744 </td><td>284319 </td><td>1245   </td><td>1201681</td><td>53104  </td><td>24977  </td><td>515652 </td><td>2167   </td><td>343    </td><td>68838  </td></tr>\n",
       "\t<tr><th scope=row>1547988</th><td>79537  </td><td>60     </td><td>3424629</td><td>1929474</td><td>6235   </td><td>228040 </td><td>8006   </td><td>337911 </td><td>284434 </td><td>1295   </td><td>1201721</td><td>53160  </td><td>24985  </td><td>516072 </td><td>2219   </td><td>307    </td><td>68810  </td></tr>\n",
       "\t<tr><th scope=row>1547989</th><td>79296  </td><td>60     </td><td>3392931</td><td>1869318</td><td>6095   </td><td>228038 </td><td>8028   </td><td>342323 </td><td>286600 </td><td>1260   </td><td>1201684</td><td>53110  </td><td>24987  </td><td>513823 </td><td>2198   </td><td>329    </td><td>68850  </td></tr>\n",
       "\t<tr><th scope=row>1547990</th><td>79313  </td><td>58     </td><td>3395994</td><td>1875906</td><td>5997   </td><td>228038 </td><td>8029   </td><td>341473 </td><td>286227 </td><td>1265   </td><td>1201781</td><td>53086  </td><td>24975  </td><td>506873 </td><td>2138   </td><td>309    </td><td>68831  </td></tr>\n",
       "\t<tr><th scope=row>1547991</th><td>79457  </td><td>60     </td><td>3418087</td><td>1918908</td><td>6391   </td><td>228041 </td><td>8001   </td><td>337514 </td><td>284226 </td><td>1184   </td><td>1201796</td><td>52975  </td><td>24986  </td><td>506392 </td><td>2150   </td><td>334    </td><td>68856  </td></tr>\n",
       "\t<tr><th scope=row>1547992</th><td>79311  </td><td>58     </td><td>3395177</td><td>1875276</td><td>6187   </td><td>228038 </td><td>8033   </td><td>345146 </td><td>288002 </td><td>1244   </td><td>1201871</td><td>53170  </td><td>25000  </td><td>508653 </td><td>2171   </td><td>308    </td><td>68695  </td></tr>\n",
       "\t<tr><th scope=row>1547993</th><td>79313  </td><td>62     </td><td>3406357</td><td>1896534</td><td>6007   </td><td>228039 </td><td>8014   </td><td>337670 </td><td>284369 </td><td>1228   </td><td>1201740</td><td>53092  </td><td>24978  </td><td>506037 </td><td>2447   </td><td>344    </td><td>68849  </td></tr>\n",
       "\t<tr><th scope=row>1547994</th><td>79344  </td><td>56     </td><td>3393873</td><td>1872720</td><td>6058   </td><td>228038 </td><td>7989   </td><td>338130 </td><td>284512 </td><td>1222   </td><td>1201682</td><td>53242  </td><td>24992  </td><td>506162 </td><td>2170   </td><td>303    </td><td>68572  </td></tr>\n",
       "\t<tr><th scope=row>1547995</th><td>79407  </td><td>60     </td><td>3408998</td><td>1897992</td><td>6066   </td><td>228038 </td><td>8035   </td><td>343389 </td><td>287243 </td><td>1272   </td><td>1201702</td><td>53034  </td><td>24985  </td><td>508049 </td><td>2508   </td><td>348    </td><td>68825  </td></tr>\n",
       "\t<tr><th scope=row>1547996</th><td>79316  </td><td>61     </td><td>3404361</td><td>1894284</td><td>6512   </td><td>228041 </td><td>8009   </td><td>337822 </td><td>284295 </td><td>1223   </td><td>1201707</td><td>53074  </td><td>25005  </td><td>506116 </td><td>2193   </td><td>303    </td><td>68694  </td></tr>\n",
       "\t<tr><th scope=row>1547997</th><td>79257  </td><td>61     </td><td>3393484</td><td>1872990</td><td>6092   </td><td>228038 </td><td>8030   </td><td>341131 </td><td>286022 </td><td>1234   </td><td>1201683</td><td>53052  </td><td>24984  </td><td>508261 </td><td>2191   </td><td>342    </td><td>68580  </td></tr>\n",
       "\t<tr><th scope=row>1547998</th><td>79300  </td><td>63     </td><td>3394945</td><td>1873080</td><td>6087   </td><td>228038 </td><td>8024   </td><td>342493 </td><td>286702 </td><td>1253   </td><td>1201740</td><td>53097  </td><td>24972  </td><td>506334 </td><td>2186   </td><td>298    </td><td>68830  </td></tr>\n",
       "\t<tr><th scope=row>1547999</th><td>79346  </td><td>64     </td><td>3403881</td><td>1886940</td><td>5925   </td><td>228038 </td><td>8023   </td><td>337751 </td><td>284322 </td><td>1226   </td><td>1201760</td><td>53227  </td><td>24994  </td><td>506161 </td><td>2108   </td><td>346    </td><td>68932  </td></tr>\n",
       "\t<tr><th scope=row>1548000</th><td>79340  </td><td>65     </td><td>3393513</td><td>1871982</td><td>6010   </td><td>228038 </td><td>8008   </td><td>337925 </td><td>284891 </td><td>1221   </td><td>1201760</td><td>53240  </td><td>24999  </td><td>508516 </td><td>2192   </td><td>310    </td><td>68763  </td></tr>\n",
       "</tbody>\n",
       "</table>\n"
      ],
      "text/latex": [
       "\\begin{tabular}{r|lllllllllllllllll}\n",
       "  & PAPI\\_L1\\_DCM & PAPI\\_L3\\_TCM & PAPI\\_TOT\\_INS & PAPI\\_REF\\_CYC & PAPI\\_L2\\_LDM & PAPI\\_SR\\_INS & PAPI\\_BR\\_UCN & PAPI\\_BR\\_CN & PAPI\\_BR\\_TKN & PAPI\\_BR\\_MSP & PAPI\\_FP\\_OPS & PAPI\\_L1\\_LDM & PAPI\\_L1\\_STM & PAPI\\_LD\\_INS & PAPI\\_L2\\_STM & PAPI\\_TLB\\_DM & PAPI\\_L2\\_DCH\\\\\n",
       "\\hline\n",
       "\t774001 & 5393    & 557     &  752823 & 1372932 & 1666    & 33185   & 8422    & 166465  & 103441  & 2039    & 98      & 4421    & 739     & 128301  & 403     & 233     & 3230   \\\\\n",
       "\t774002 & 3386    &  70     & 1456354 & 2915136 &  599    & 32264   & 8207    & 291840  & 177639  & 1757    & 60      & 2936    & 485     & 201162  & 162     &  80     & 2850   \\\\\n",
       "\t774003 & 3695    &  37     & 1393425 & 2548620 &  622    & 32035   & 8197    & 304276  & 172275  & 1643    & 42      & 2811    & 562     & 191966  & 210     &  70     & 2724   \\\\\n",
       "\t774004 & 3368    &  53     & 1360705 & 2485674 &  505    & 32261   & 8218    & 292359  & 179325  & 1739    & 48      & 2923    & 502     & 194601  & 125     &  76     & 2676   \\\\\n",
       "\t774005 & 3252    &  36     & 1356101 & 2489760 &  502    & 32036   & 8163    & 305566  & 172707  & 1652    & 42      & 2868    & 480     & 233302  & 121     &  68     & 2770   \\\\\n",
       "\t774006 & 3311    &  44     & 1361272 & 2484090 &  477    & 32261   & 8158    & 305542  & 172936  & 1708    & 42      & 2840    & 503     & 196808  & 121     &  75     & 2843   \\\\\n",
       "\t774007 & 3324    &  42     & 1393371 & 2549034 &  579    & 32032   & 8206    & 308636  & 174524  & 1658    & 54      & 2885    & 512     & 189970  & 117     &  65     & 2723   \\\\\n",
       "\t774008 & 3207    &  34     & 1206941 & 3048948 &  477    & 32264   & 8206    & 312845  & 189958  & 1747    & 54      & 2747    & 470     & 192913  & 118     &  70     & 2724   \\\\\n",
       "\t774009 & 3302    &  40     & 1356457 & 2479878 &  500    & 32032   & 8163    & 303678  & 185444  & 1591    & 42      & 2839    & 501     & 196328  & 125     &  68     & 2649   \\\\\n",
       "\t774010 & 3319    &  41     & 1341624 & 2451906 &  523    & 32261   & 8210    & 313989  & 190456  & 1737    & 48      & 2858    & 470     & 195525  & 130     &  82     & 2790   \\\\\n",
       "\t774011 & 3222    &  45     & 1500136 & 2601522 &  494    & 32036   & 8218    & 314113  & 215114  & 1631    & 54      & 2788    & 491     & 190617  & 134     &  68     & 2671   \\\\\n",
       "\t774012 & 3415    &  49     & 1359012 & 2490120 &  512    & 32189   & 8192    & 302350  & 183419  & 1631    & 54      & 2905    & 505     & 232862  & 116     &  64     & 2744   \\\\\n",
       "\t774013 & 3401    &  49     & 1342492 & 2462796 &  567    & 32189   & 8192    & 312367  & 189494  & 1654    & 48      & 2848    & 469     & 232688  & 123     &  63     & 2687   \\\\\n",
       "\t774014 & 3352    &  40     & 1210943 & 3027492 &  528    & 32192   & 8175    & 338013  & 228603  & 1650    & 42      & 2857    & 500     & 194192  & 119     &  65     & 2671   \\\\\n",
       "\t774015 & 3323    &  39     & 1143621 & 2193066 &  495    & 32189   & 8177    & 304862  & 172549  & 1620    & 54      & 2782    & 461     & 190526  & 117     &  69     & 2751   \\\\\n",
       "\t774016 & 3296    &  41     & 1283256 & 2304270 &  493    & 32189   & 8163    & 297170  & 181710  & 1648    & 48      & 2760    & 501     & 190949  & 124     &  62     & 2689   \\\\\n",
       "\t774017 & 3285    &  34     & 1263551 & 2275560 &  486    & 32189   & 8201    & 304745  & 172583  & 1588    & 48      & 2906    & 498     & 194156  & 129     &  68     & 2708   \\\\\n",
       "\t774018 & 3380    &  33     & 1348042 & 2328246 &  529    & 32189   & 8136    & 300792  & 183008  & 1592    & 54      & 2867    & 476     & 196212  & 139     &  65     & 2779   \\\\\n",
       "\t774019 & 3569    &  43     & 1436503 & 2585214 &  665    & 32195   & 8220    & 316691  & 191107  & 1672    & 60      & 2827    & 494     & 195251  & 139     &  71     & 2717   \\\\\n",
       "\t774020 & 3275    &  36     & 1149945 & 2244690 &  482    & 32189   & 8188    & 301584  & 183216  & 1589    & 48      & 2870    & 480     & 191702  & 119     &  66     & 2772   \\\\\n",
       "\t774021 & 3376    &  45     & 1256682 & 2257542 &  547    & 32189   & 8188    & 301917  & 171006  & 1598    & 48      & 2930    & 505     & 236538  & 131     &  64     & 2670   \\\\\n",
       "\t774022 & 3220    &  49     & 1257767 & 2280636 &  498    & 32193   & 8197    & 314943  & 214727  & 1674    & 42      & 2829    & 503     & 195075  & 137     &  67     & 2785   \\\\\n",
       "\t774023 & 3362    &  53     & 1250527 & 2248974 &  523    & 32189   & 8184    & 304142  & 184535  & 1598    & 48      & 2775    & 467     & 190790  & 133     &  69     & 2717   \\\\\n",
       "\t774024 & 3381    &  46     & 1280077 & 2307402 &  585    & 32189   & 8193    & 305370  & 184892  & 1614    & 54      & 2764    & 490     & 179113  & 137     &  63     & 2707   \\\\\n",
       "\t774025 & 3423    &  46     & 1312815 & 2353338 &  534    & 32189   & 8180    & 319546  & 216866  & 1634    & 60      & 2901    & 498     & 190659  & 126     &  64     & 2718   \\\\\n",
       "\t774026 & 3317    &  57     & 1239120 & 2220930 &  506    & 32189   & 8160    & 304735  & 184756  & 1632    & 48      & 2822    & 478     & 194377  & 139     &  69     & 2696   \\\\\n",
       "\t774027 & 3471    &  51     & 1335780 & 2314656 &  588    & 32194   & 8181    & 302416  & 183648  & 1616    & 54      & 2808    & 495     & 191489  & 133     &  72     & 2793   \\\\\n",
       "\t774028 & 3278    &  42     & 1145769 & 2224116 &  483    & 32189   & 8180    & 395812  & 231568  & 1628    & 60      & 2794    & 464     & 190686  & 126     &  62     & 2689   \\\\\n",
       "\t774029 & 3438    &  54     & 1331251 & 2307708 &  553    & 32189   & 8156    & 301580  & 183314  & 1590    & 60      & 2897    & 506     & 206448  & 128     &  68     & 2719   \\\\\n",
       "\t774030 & 3256    &  52     & 1240378 & 2228670 &  488    & 32189   & 8159    & 285284  & 176226  & 1603    & 48      & 2974    & 512     & 233496  & 120     &  65     & 2792   \\\\\n",
       "\t... & ... & ... & ... & ... & ... & ... & ... & ... & ... & ... & ... & ... & ... & ... & ... & ... & ...\\\\\n",
       "\t1547971 & 79270   & 59      & 3402315 & 1908738 & 7453    & 228038  & 8027    & 338297  & 284625  & 1236    & 1201748 & 53136   & 24985   & 508073  & 2150    & 319     & 68782  \\\\\n",
       "\t1547972 & 79305   & 56      & 3423579 & 1971288 & 8860    & 228038  & 7997    & 343322  & 287166  & 1235    & 1201757 & 53030   & 24989   & 506457  & 2188    & 339     & 69057  \\\\\n",
       "\t1547973 & 79423   & 59      & 3440939 & 1990440 & 9095    & 228038  & 8068    & 354930  & 293065  & 1342    & 1201708 & 53169   & 24994   & 506264  & 2179    & 320     & 68856  \\\\\n",
       "\t1547974 & 79320   & 57      & 3395775 & 1877220 & 5984    & 228038  & 8069    & 351076  & 291020  & 1291    & 1201675 & 53149   & 24983   & 506283  & 2494    & 339     & 68812  \\\\\n",
       "\t1547975 & 79389   & 63      & 3408294 & 1897974 & 5936    & 228041  & 8070    & 351392  & 291232  & 1273    & 1201772 & 53055   & 25004   & 506843  & 2118    & 322     & 68755  \\\\\n",
       "\t1547976 & 79256   & 57      & 3395920 & 1874538 & 6019    & 228038  & 8097    & 357259  & 294189  & 1352    & 1201671 & 53117   & 24989   & 508421  & 2248    & 352     & 68754  \\\\\n",
       "\t1547977 & 79331   & 60      & 3411867 & 1904922 & 5964    & 228038  & 8072    & 354073  & 292553  & 1314    & 1201775 & 53136   & 24964   & 506564  & 2142    & 316     & 68565  \\\\\n",
       "\t1547978 & 79322   & 63      & 3402469 & 1889028 & 6423    & 228041  & 8083    & 358883  & 294946  & 1334    & 1201721 & 53152   & 24976   & 507517  & 2230    & 353     & 68739  \\\\\n",
       "\t1547979 & 79300   & 59      & 3392598 & 1869390 & 6101    & 228038  & 8076    & 355267  & 293121  & 1304    & 1201777 & 53094   & 24992   & 508461  & 2167    & 312     & 68364  \\\\\n",
       "\t1547980 & 79356   & 61      & 3413861 & 1908090 & 6072    & 228039  & 8069    & 339746  & 285390  & 1315    & 1201779 & 53099   & 24986   & 506243  & 2195    & 336     & 68653  \\\\\n",
       "\t1547981 & 79248   & 60      & 3393883 & 1872864 & 6123    & 228038  & 8093    & 337528  & 284401  & 1287    & 1201756 & 53240   & 25011   & 522555  & 2236    & 320     & 68031  \\\\\n",
       "\t1547982 & 79224   & 59      & 3395516 & 1875762 & 6116    & 228038  & 8031    & 337188  & 284036  & 1246    & 1201796 & 53052   & 24995   & 517269  & 2128    & 325     & 68818  \\\\\n",
       "\t1547983 & 79402   & 56      & 3401475 & 1888200 & 6442    & 228041  & 8073    & 340985  & 286038  & 1280    & 1201707 & 53076   & 24993   & 520357  & 2116    & 336     & 67767  \\\\\n",
       "\t1547984 & 79390   & 59      & 3412430 & 1905066 & 6018    & 228038  & 8014    & 337786  & 284336  & 1217    & 1201703 & 53145   & 25007   & 519980  & 2181    & 323     & 68872  \\\\\n",
       "\t1547985 & 79296   & 60      & 3396657 & 1879668 & 6142    & 228038  & 8026    & 337887  & 284414  & 1239    & 1201686 & 53059   & 24990   & 519102  & 2190    & 341     & 68254  \\\\\n",
       "\t1547986 & 79273   & 61      & 3395439 & 1875600 & 6169    & 228038  & 8040    & 338797  & 284841  & 1258    & 1201703 & 53018   & 24966   & 516291  & 2421    & 309     & 68641  \\\\\n",
       "\t1547987 & 79312   & 59      & 3395956 & 1877598 & 6175    & 228038  & 8025    & 337744  & 284319  & 1245    & 1201681 & 53104   & 24977   & 515652  & 2167    & 343     & 68838  \\\\\n",
       "\t1547988 & 79537   & 60      & 3424629 & 1929474 & 6235    & 228040  & 8006    & 337911  & 284434  & 1295    & 1201721 & 53160   & 24985   & 516072  & 2219    & 307     & 68810  \\\\\n",
       "\t1547989 & 79296   & 60      & 3392931 & 1869318 & 6095    & 228038  & 8028    & 342323  & 286600  & 1260    & 1201684 & 53110   & 24987   & 513823  & 2198    & 329     & 68850  \\\\\n",
       "\t1547990 & 79313   & 58      & 3395994 & 1875906 & 5997    & 228038  & 8029    & 341473  & 286227  & 1265    & 1201781 & 53086   & 24975   & 506873  & 2138    & 309     & 68831  \\\\\n",
       "\t1547991 & 79457   & 60      & 3418087 & 1918908 & 6391    & 228041  & 8001    & 337514  & 284226  & 1184    & 1201796 & 52975   & 24986   & 506392  & 2150    & 334     & 68856  \\\\\n",
       "\t1547992 & 79311   & 58      & 3395177 & 1875276 & 6187    & 228038  & 8033    & 345146  & 288002  & 1244    & 1201871 & 53170   & 25000   & 508653  & 2171    & 308     & 68695  \\\\\n",
       "\t1547993 & 79313   & 62      & 3406357 & 1896534 & 6007    & 228039  & 8014    & 337670  & 284369  & 1228    & 1201740 & 53092   & 24978   & 506037  & 2447    & 344     & 68849  \\\\\n",
       "\t1547994 & 79344   & 56      & 3393873 & 1872720 & 6058    & 228038  & 7989    & 338130  & 284512  & 1222    & 1201682 & 53242   & 24992   & 506162  & 2170    & 303     & 68572  \\\\\n",
       "\t1547995 & 79407   & 60      & 3408998 & 1897992 & 6066    & 228038  & 8035    & 343389  & 287243  & 1272    & 1201702 & 53034   & 24985   & 508049  & 2508    & 348     & 68825  \\\\\n",
       "\t1547996 & 79316   & 61      & 3404361 & 1894284 & 6512    & 228041  & 8009    & 337822  & 284295  & 1223    & 1201707 & 53074   & 25005   & 506116  & 2193    & 303     & 68694  \\\\\n",
       "\t1547997 & 79257   & 61      & 3393484 & 1872990 & 6092    & 228038  & 8030    & 341131  & 286022  & 1234    & 1201683 & 53052   & 24984   & 508261  & 2191    & 342     & 68580  \\\\\n",
       "\t1547998 & 79300   & 63      & 3394945 & 1873080 & 6087    & 228038  & 8024    & 342493  & 286702  & 1253    & 1201740 & 53097   & 24972   & 506334  & 2186    & 298     & 68830  \\\\\n",
       "\t1547999 & 79346   & 64      & 3403881 & 1886940 & 5925    & 228038  & 8023    & 337751  & 284322  & 1226    & 1201760 & 53227   & 24994   & 506161  & 2108    & 346     & 68932  \\\\\n",
       "\t1548000 & 79340   & 65      & 3393513 & 1871982 & 6010    & 228038  & 8008    & 337925  & 284891  & 1221    & 1201760 & 53240   & 24999   & 508516  & 2192    & 310     & 68763  \\\\\n",
       "\\end{tabular}\n"
      ],
      "text/markdown": [
       "\n",
       "| <!--/--> | PAPI_L1_DCM | PAPI_L3_TCM | PAPI_TOT_INS | PAPI_REF_CYC | PAPI_L2_LDM | PAPI_SR_INS | PAPI_BR_UCN | PAPI_BR_CN | PAPI_BR_TKN | PAPI_BR_MSP | PAPI_FP_OPS | PAPI_L1_LDM | PAPI_L1_STM | PAPI_LD_INS | PAPI_L2_STM | PAPI_TLB_DM | PAPI_L2_DCH | \n",
       "|---|---|---|---|---|---|---|---|---|---|---|---|---|---|---|---|---|---|---|---|---|---|---|---|---|---|---|---|---|---|---|---|---|---|---|---|---|---|---|---|---|---|---|---|---|---|---|---|---|---|---|---|---|---|---|---|---|---|---|---|---|\n",
       "| 774001 | 5393    | 557     |  752823 | 1372932 | 1666    | 33185   | 8422    | 166465  | 103441  | 2039    | 98      | 4421    | 739     | 128301  | 403     | 233     | 3230    | \n",
       "| 774002 | 3386    |  70     | 1456354 | 2915136 |  599    | 32264   | 8207    | 291840  | 177639  | 1757    | 60      | 2936    | 485     | 201162  | 162     |  80     | 2850    | \n",
       "| 774003 | 3695    |  37     | 1393425 | 2548620 |  622    | 32035   | 8197    | 304276  | 172275  | 1643    | 42      | 2811    | 562     | 191966  | 210     |  70     | 2724    | \n",
       "| 774004 | 3368    |  53     | 1360705 | 2485674 |  505    | 32261   | 8218    | 292359  | 179325  | 1739    | 48      | 2923    | 502     | 194601  | 125     |  76     | 2676    | \n",
       "| 774005 | 3252    |  36     | 1356101 | 2489760 |  502    | 32036   | 8163    | 305566  | 172707  | 1652    | 42      | 2868    | 480     | 233302  | 121     |  68     | 2770    | \n",
       "| 774006 | 3311    |  44     | 1361272 | 2484090 |  477    | 32261   | 8158    | 305542  | 172936  | 1708    | 42      | 2840    | 503     | 196808  | 121     |  75     | 2843    | \n",
       "| 774007 | 3324    |  42     | 1393371 | 2549034 |  579    | 32032   | 8206    | 308636  | 174524  | 1658    | 54      | 2885    | 512     | 189970  | 117     |  65     | 2723    | \n",
       "| 774008 | 3207    |  34     | 1206941 | 3048948 |  477    | 32264   | 8206    | 312845  | 189958  | 1747    | 54      | 2747    | 470     | 192913  | 118     |  70     | 2724    | \n",
       "| 774009 | 3302    |  40     | 1356457 | 2479878 |  500    | 32032   | 8163    | 303678  | 185444  | 1591    | 42      | 2839    | 501     | 196328  | 125     |  68     | 2649    | \n",
       "| 774010 | 3319    |  41     | 1341624 | 2451906 |  523    | 32261   | 8210    | 313989  | 190456  | 1737    | 48      | 2858    | 470     | 195525  | 130     |  82     | 2790    | \n",
       "| 774011 | 3222    |  45     | 1500136 | 2601522 |  494    | 32036   | 8218    | 314113  | 215114  | 1631    | 54      | 2788    | 491     | 190617  | 134     |  68     | 2671    | \n",
       "| 774012 | 3415    |  49     | 1359012 | 2490120 |  512    | 32189   | 8192    | 302350  | 183419  | 1631    | 54      | 2905    | 505     | 232862  | 116     |  64     | 2744    | \n",
       "| 774013 | 3401    |  49     | 1342492 | 2462796 |  567    | 32189   | 8192    | 312367  | 189494  | 1654    | 48      | 2848    | 469     | 232688  | 123     |  63     | 2687    | \n",
       "| 774014 | 3352    |  40     | 1210943 | 3027492 |  528    | 32192   | 8175    | 338013  | 228603  | 1650    | 42      | 2857    | 500     | 194192  | 119     |  65     | 2671    | \n",
       "| 774015 | 3323    |  39     | 1143621 | 2193066 |  495    | 32189   | 8177    | 304862  | 172549  | 1620    | 54      | 2782    | 461     | 190526  | 117     |  69     | 2751    | \n",
       "| 774016 | 3296    |  41     | 1283256 | 2304270 |  493    | 32189   | 8163    | 297170  | 181710  | 1648    | 48      | 2760    | 501     | 190949  | 124     |  62     | 2689    | \n",
       "| 774017 | 3285    |  34     | 1263551 | 2275560 |  486    | 32189   | 8201    | 304745  | 172583  | 1588    | 48      | 2906    | 498     | 194156  | 129     |  68     | 2708    | \n",
       "| 774018 | 3380    |  33     | 1348042 | 2328246 |  529    | 32189   | 8136    | 300792  | 183008  | 1592    | 54      | 2867    | 476     | 196212  | 139     |  65     | 2779    | \n",
       "| 774019 | 3569    |  43     | 1436503 | 2585214 |  665    | 32195   | 8220    | 316691  | 191107  | 1672    | 60      | 2827    | 494     | 195251  | 139     |  71     | 2717    | \n",
       "| 774020 | 3275    |  36     | 1149945 | 2244690 |  482    | 32189   | 8188    | 301584  | 183216  | 1589    | 48      | 2870    | 480     | 191702  | 119     |  66     | 2772    | \n",
       "| 774021 | 3376    |  45     | 1256682 | 2257542 |  547    | 32189   | 8188    | 301917  | 171006  | 1598    | 48      | 2930    | 505     | 236538  | 131     |  64     | 2670    | \n",
       "| 774022 | 3220    |  49     | 1257767 | 2280636 |  498    | 32193   | 8197    | 314943  | 214727  | 1674    | 42      | 2829    | 503     | 195075  | 137     |  67     | 2785    | \n",
       "| 774023 | 3362    |  53     | 1250527 | 2248974 |  523    | 32189   | 8184    | 304142  | 184535  | 1598    | 48      | 2775    | 467     | 190790  | 133     |  69     | 2717    | \n",
       "| 774024 | 3381    |  46     | 1280077 | 2307402 |  585    | 32189   | 8193    | 305370  | 184892  | 1614    | 54      | 2764    | 490     | 179113  | 137     |  63     | 2707    | \n",
       "| 774025 | 3423    |  46     | 1312815 | 2353338 |  534    | 32189   | 8180    | 319546  | 216866  | 1634    | 60      | 2901    | 498     | 190659  | 126     |  64     | 2718    | \n",
       "| 774026 | 3317    |  57     | 1239120 | 2220930 |  506    | 32189   | 8160    | 304735  | 184756  | 1632    | 48      | 2822    | 478     | 194377  | 139     |  69     | 2696    | \n",
       "| 774027 | 3471    |  51     | 1335780 | 2314656 |  588    | 32194   | 8181    | 302416  | 183648  | 1616    | 54      | 2808    | 495     | 191489  | 133     |  72     | 2793    | \n",
       "| 774028 | 3278    |  42     | 1145769 | 2224116 |  483    | 32189   | 8180    | 395812  | 231568  | 1628    | 60      | 2794    | 464     | 190686  | 126     |  62     | 2689    | \n",
       "| 774029 | 3438    |  54     | 1331251 | 2307708 |  553    | 32189   | 8156    | 301580  | 183314  | 1590    | 60      | 2897    | 506     | 206448  | 128     |  68     | 2719    | \n",
       "| 774030 | 3256    |  52     | 1240378 | 2228670 |  488    | 32189   | 8159    | 285284  | 176226  | 1603    | 48      | 2974    | 512     | 233496  | 120     |  65     | 2792    | \n",
       "| ... | ... | ... | ... | ... | ... | ... | ... | ... | ... | ... | ... | ... | ... | ... | ... | ... | ... | \n",
       "| 1547971 | 79270   | 59      | 3402315 | 1908738 | 7453    | 228038  | 8027    | 338297  | 284625  | 1236    | 1201748 | 53136   | 24985   | 508073  | 2150    | 319     | 68782   | \n",
       "| 1547972 | 79305   | 56      | 3423579 | 1971288 | 8860    | 228038  | 7997    | 343322  | 287166  | 1235    | 1201757 | 53030   | 24989   | 506457  | 2188    | 339     | 69057   | \n",
       "| 1547973 | 79423   | 59      | 3440939 | 1990440 | 9095    | 228038  | 8068    | 354930  | 293065  | 1342    | 1201708 | 53169   | 24994   | 506264  | 2179    | 320     | 68856   | \n",
       "| 1547974 | 79320   | 57      | 3395775 | 1877220 | 5984    | 228038  | 8069    | 351076  | 291020  | 1291    | 1201675 | 53149   | 24983   | 506283  | 2494    | 339     | 68812   | \n",
       "| 1547975 | 79389   | 63      | 3408294 | 1897974 | 5936    | 228041  | 8070    | 351392  | 291232  | 1273    | 1201772 | 53055   | 25004   | 506843  | 2118    | 322     | 68755   | \n",
       "| 1547976 | 79256   | 57      | 3395920 | 1874538 | 6019    | 228038  | 8097    | 357259  | 294189  | 1352    | 1201671 | 53117   | 24989   | 508421  | 2248    | 352     | 68754   | \n",
       "| 1547977 | 79331   | 60      | 3411867 | 1904922 | 5964    | 228038  | 8072    | 354073  | 292553  | 1314    | 1201775 | 53136   | 24964   | 506564  | 2142    | 316     | 68565   | \n",
       "| 1547978 | 79322   | 63      | 3402469 | 1889028 | 6423    | 228041  | 8083    | 358883  | 294946  | 1334    | 1201721 | 53152   | 24976   | 507517  | 2230    | 353     | 68739   | \n",
       "| 1547979 | 79300   | 59      | 3392598 | 1869390 | 6101    | 228038  | 8076    | 355267  | 293121  | 1304    | 1201777 | 53094   | 24992   | 508461  | 2167    | 312     | 68364   | \n",
       "| 1547980 | 79356   | 61      | 3413861 | 1908090 | 6072    | 228039  | 8069    | 339746  | 285390  | 1315    | 1201779 | 53099   | 24986   | 506243  | 2195    | 336     | 68653   | \n",
       "| 1547981 | 79248   | 60      | 3393883 | 1872864 | 6123    | 228038  | 8093    | 337528  | 284401  | 1287    | 1201756 | 53240   | 25011   | 522555  | 2236    | 320     | 68031   | \n",
       "| 1547982 | 79224   | 59      | 3395516 | 1875762 | 6116    | 228038  | 8031    | 337188  | 284036  | 1246    | 1201796 | 53052   | 24995   | 517269  | 2128    | 325     | 68818   | \n",
       "| 1547983 | 79402   | 56      | 3401475 | 1888200 | 6442    | 228041  | 8073    | 340985  | 286038  | 1280    | 1201707 | 53076   | 24993   | 520357  | 2116    | 336     | 67767   | \n",
       "| 1547984 | 79390   | 59      | 3412430 | 1905066 | 6018    | 228038  | 8014    | 337786  | 284336  | 1217    | 1201703 | 53145   | 25007   | 519980  | 2181    | 323     | 68872   | \n",
       "| 1547985 | 79296   | 60      | 3396657 | 1879668 | 6142    | 228038  | 8026    | 337887  | 284414  | 1239    | 1201686 | 53059   | 24990   | 519102  | 2190    | 341     | 68254   | \n",
       "| 1547986 | 79273   | 61      | 3395439 | 1875600 | 6169    | 228038  | 8040    | 338797  | 284841  | 1258    | 1201703 | 53018   | 24966   | 516291  | 2421    | 309     | 68641   | \n",
       "| 1547987 | 79312   | 59      | 3395956 | 1877598 | 6175    | 228038  | 8025    | 337744  | 284319  | 1245    | 1201681 | 53104   | 24977   | 515652  | 2167    | 343     | 68838   | \n",
       "| 1547988 | 79537   | 60      | 3424629 | 1929474 | 6235    | 228040  | 8006    | 337911  | 284434  | 1295    | 1201721 | 53160   | 24985   | 516072  | 2219    | 307     | 68810   | \n",
       "| 1547989 | 79296   | 60      | 3392931 | 1869318 | 6095    | 228038  | 8028    | 342323  | 286600  | 1260    | 1201684 | 53110   | 24987   | 513823  | 2198    | 329     | 68850   | \n",
       "| 1547990 | 79313   | 58      | 3395994 | 1875906 | 5997    | 228038  | 8029    | 341473  | 286227  | 1265    | 1201781 | 53086   | 24975   | 506873  | 2138    | 309     | 68831   | \n",
       "| 1547991 | 79457   | 60      | 3418087 | 1918908 | 6391    | 228041  | 8001    | 337514  | 284226  | 1184    | 1201796 | 52975   | 24986   | 506392  | 2150    | 334     | 68856   | \n",
       "| 1547992 | 79311   | 58      | 3395177 | 1875276 | 6187    | 228038  | 8033    | 345146  | 288002  | 1244    | 1201871 | 53170   | 25000   | 508653  | 2171    | 308     | 68695   | \n",
       "| 1547993 | 79313   | 62      | 3406357 | 1896534 | 6007    | 228039  | 8014    | 337670  | 284369  | 1228    | 1201740 | 53092   | 24978   | 506037  | 2447    | 344     | 68849   | \n",
       "| 1547994 | 79344   | 56      | 3393873 | 1872720 | 6058    | 228038  | 7989    | 338130  | 284512  | 1222    | 1201682 | 53242   | 24992   | 506162  | 2170    | 303     | 68572   | \n",
       "| 1547995 | 79407   | 60      | 3408998 | 1897992 | 6066    | 228038  | 8035    | 343389  | 287243  | 1272    | 1201702 | 53034   | 24985   | 508049  | 2508    | 348     | 68825   | \n",
       "| 1547996 | 79316   | 61      | 3404361 | 1894284 | 6512    | 228041  | 8009    | 337822  | 284295  | 1223    | 1201707 | 53074   | 25005   | 506116  | 2193    | 303     | 68694   | \n",
       "| 1547997 | 79257   | 61      | 3393484 | 1872990 | 6092    | 228038  | 8030    | 341131  | 286022  | 1234    | 1201683 | 53052   | 24984   | 508261  | 2191    | 342     | 68580   | \n",
       "| 1547998 | 79300   | 63      | 3394945 | 1873080 | 6087    | 228038  | 8024    | 342493  | 286702  | 1253    | 1201740 | 53097   | 24972   | 506334  | 2186    | 298     | 68830   | \n",
       "| 1547999 | 79346   | 64      | 3403881 | 1886940 | 5925    | 228038  | 8023    | 337751  | 284322  | 1226    | 1201760 | 53227   | 24994   | 506161  | 2108    | 346     | 68932   | \n",
       "| 1548000 | 79340   | 65      | 3393513 | 1871982 | 6010    | 228038  | 8008    | 337925  | 284891  | 1221    | 1201760 | 53240   | 24999   | 508516  | 2192    | 310     | 68763   | \n",
       "\n",
       "\n"
      ],
      "text/plain": [
       "        PAPI_L1_DCM PAPI_L3_TCM PAPI_TOT_INS PAPI_REF_CYC PAPI_L2_LDM\n",
       "774001  5393        557          752823      1372932      1666       \n",
       "774002  3386         70         1456354      2915136       599       \n",
       "774003  3695         37         1393425      2548620       622       \n",
       "774004  3368         53         1360705      2485674       505       \n",
       "774005  3252         36         1356101      2489760       502       \n",
       "774006  3311         44         1361272      2484090       477       \n",
       "774007  3324         42         1393371      2549034       579       \n",
       "774008  3207         34         1206941      3048948       477       \n",
       "774009  3302         40         1356457      2479878       500       \n",
       "774010  3319         41         1341624      2451906       523       \n",
       "774011  3222         45         1500136      2601522       494       \n",
       "774012  3415         49         1359012      2490120       512       \n",
       "774013  3401         49         1342492      2462796       567       \n",
       "774014  3352         40         1210943      3027492       528       \n",
       "774015  3323         39         1143621      2193066       495       \n",
       "774016  3296         41         1283256      2304270       493       \n",
       "774017  3285         34         1263551      2275560       486       \n",
       "774018  3380         33         1348042      2328246       529       \n",
       "774019  3569         43         1436503      2585214       665       \n",
       "774020  3275         36         1149945      2244690       482       \n",
       "774021  3376         45         1256682      2257542       547       \n",
       "774022  3220         49         1257767      2280636       498       \n",
       "774023  3362         53         1250527      2248974       523       \n",
       "774024  3381         46         1280077      2307402       585       \n",
       "774025  3423         46         1312815      2353338       534       \n",
       "774026  3317         57         1239120      2220930       506       \n",
       "774027  3471         51         1335780      2314656       588       \n",
       "774028  3278         42         1145769      2224116       483       \n",
       "774029  3438         54         1331251      2307708       553       \n",
       "774030  3256         52         1240378      2228670       488       \n",
       "...     ...         ...         ...          ...          ...        \n",
       "1547971 79270       59          3402315      1908738      7453       \n",
       "1547972 79305       56          3423579      1971288      8860       \n",
       "1547973 79423       59          3440939      1990440      9095       \n",
       "1547974 79320       57          3395775      1877220      5984       \n",
       "1547975 79389       63          3408294      1897974      5936       \n",
       "1547976 79256       57          3395920      1874538      6019       \n",
       "1547977 79331       60          3411867      1904922      5964       \n",
       "1547978 79322       63          3402469      1889028      6423       \n",
       "1547979 79300       59          3392598      1869390      6101       \n",
       "1547980 79356       61          3413861      1908090      6072       \n",
       "1547981 79248       60          3393883      1872864      6123       \n",
       "1547982 79224       59          3395516      1875762      6116       \n",
       "1547983 79402       56          3401475      1888200      6442       \n",
       "1547984 79390       59          3412430      1905066      6018       \n",
       "1547985 79296       60          3396657      1879668      6142       \n",
       "1547986 79273       61          3395439      1875600      6169       \n",
       "1547987 79312       59          3395956      1877598      6175       \n",
       "1547988 79537       60          3424629      1929474      6235       \n",
       "1547989 79296       60          3392931      1869318      6095       \n",
       "1547990 79313       58          3395994      1875906      5997       \n",
       "1547991 79457       60          3418087      1918908      6391       \n",
       "1547992 79311       58          3395177      1875276      6187       \n",
       "1547993 79313       62          3406357      1896534      6007       \n",
       "1547994 79344       56          3393873      1872720      6058       \n",
       "1547995 79407       60          3408998      1897992      6066       \n",
       "1547996 79316       61          3404361      1894284      6512       \n",
       "1547997 79257       61          3393484      1872990      6092       \n",
       "1547998 79300       63          3394945      1873080      6087       \n",
       "1547999 79346       64          3403881      1886940      5925       \n",
       "1548000 79340       65          3393513      1871982      6010       \n",
       "        PAPI_SR_INS PAPI_BR_UCN PAPI_BR_CN PAPI_BR_TKN PAPI_BR_MSP PAPI_FP_OPS\n",
       "774001  33185       8422        166465     103441      2039        98         \n",
       "774002  32264       8207        291840     177639      1757        60         \n",
       "774003  32035       8197        304276     172275      1643        42         \n",
       "774004  32261       8218        292359     179325      1739        48         \n",
       "774005  32036       8163        305566     172707      1652        42         \n",
       "774006  32261       8158        305542     172936      1708        42         \n",
       "774007  32032       8206        308636     174524      1658        54         \n",
       "774008  32264       8206        312845     189958      1747        54         \n",
       "774009  32032       8163        303678     185444      1591        42         \n",
       "774010  32261       8210        313989     190456      1737        48         \n",
       "774011  32036       8218        314113     215114      1631        54         \n",
       "774012  32189       8192        302350     183419      1631        54         \n",
       "774013  32189       8192        312367     189494      1654        48         \n",
       "774014  32192       8175        338013     228603      1650        42         \n",
       "774015  32189       8177        304862     172549      1620        54         \n",
       "774016  32189       8163        297170     181710      1648        48         \n",
       "774017  32189       8201        304745     172583      1588        48         \n",
       "774018  32189       8136        300792     183008      1592        54         \n",
       "774019  32195       8220        316691     191107      1672        60         \n",
       "774020  32189       8188        301584     183216      1589        48         \n",
       "774021  32189       8188        301917     171006      1598        48         \n",
       "774022  32193       8197        314943     214727      1674        42         \n",
       "774023  32189       8184        304142     184535      1598        48         \n",
       "774024  32189       8193        305370     184892      1614        54         \n",
       "774025  32189       8180        319546     216866      1634        60         \n",
       "774026  32189       8160        304735     184756      1632        48         \n",
       "774027  32194       8181        302416     183648      1616        54         \n",
       "774028  32189       8180        395812     231568      1628        60         \n",
       "774029  32189       8156        301580     183314      1590        60         \n",
       "774030  32189       8159        285284     176226      1603        48         \n",
       "...     ...         ...         ...        ...         ...         ...        \n",
       "1547971 228038      8027        338297     284625      1236        1201748    \n",
       "1547972 228038      7997        343322     287166      1235        1201757    \n",
       "1547973 228038      8068        354930     293065      1342        1201708    \n",
       "1547974 228038      8069        351076     291020      1291        1201675    \n",
       "1547975 228041      8070        351392     291232      1273        1201772    \n",
       "1547976 228038      8097        357259     294189      1352        1201671    \n",
       "1547977 228038      8072        354073     292553      1314        1201775    \n",
       "1547978 228041      8083        358883     294946      1334        1201721    \n",
       "1547979 228038      8076        355267     293121      1304        1201777    \n",
       "1547980 228039      8069        339746     285390      1315        1201779    \n",
       "1547981 228038      8093        337528     284401      1287        1201756    \n",
       "1547982 228038      8031        337188     284036      1246        1201796    \n",
       "1547983 228041      8073        340985     286038      1280        1201707    \n",
       "1547984 228038      8014        337786     284336      1217        1201703    \n",
       "1547985 228038      8026        337887     284414      1239        1201686    \n",
       "1547986 228038      8040        338797     284841      1258        1201703    \n",
       "1547987 228038      8025        337744     284319      1245        1201681    \n",
       "1547988 228040      8006        337911     284434      1295        1201721    \n",
       "1547989 228038      8028        342323     286600      1260        1201684    \n",
       "1547990 228038      8029        341473     286227      1265        1201781    \n",
       "1547991 228041      8001        337514     284226      1184        1201796    \n",
       "1547992 228038      8033        345146     288002      1244        1201871    \n",
       "1547993 228039      8014        337670     284369      1228        1201740    \n",
       "1547994 228038      7989        338130     284512      1222        1201682    \n",
       "1547995 228038      8035        343389     287243      1272        1201702    \n",
       "1547996 228041      8009        337822     284295      1223        1201707    \n",
       "1547997 228038      8030        341131     286022      1234        1201683    \n",
       "1547998 228038      8024        342493     286702      1253        1201740    \n",
       "1547999 228038      8023        337751     284322      1226        1201760    \n",
       "1548000 228038      8008        337925     284891      1221        1201760    \n",
       "        PAPI_L1_LDM PAPI_L1_STM PAPI_LD_INS PAPI_L2_STM PAPI_TLB_DM PAPI_L2_DCH\n",
       "774001  4421        739         128301      403         233         3230       \n",
       "774002  2936        485         201162      162          80         2850       \n",
       "774003  2811        562         191966      210          70         2724       \n",
       "774004  2923        502         194601      125          76         2676       \n",
       "774005  2868        480         233302      121          68         2770       \n",
       "774006  2840        503         196808      121          75         2843       \n",
       "774007  2885        512         189970      117          65         2723       \n",
       "774008  2747        470         192913      118          70         2724       \n",
       "774009  2839        501         196328      125          68         2649       \n",
       "774010  2858        470         195525      130          82         2790       \n",
       "774011  2788        491         190617      134          68         2671       \n",
       "774012  2905        505         232862      116          64         2744       \n",
       "774013  2848        469         232688      123          63         2687       \n",
       "774014  2857        500         194192      119          65         2671       \n",
       "774015  2782        461         190526      117          69         2751       \n",
       "774016  2760        501         190949      124          62         2689       \n",
       "774017  2906        498         194156      129          68         2708       \n",
       "774018  2867        476         196212      139          65         2779       \n",
       "774019  2827        494         195251      139          71         2717       \n",
       "774020  2870        480         191702      119          66         2772       \n",
       "774021  2930        505         236538      131          64         2670       \n",
       "774022  2829        503         195075      137          67         2785       \n",
       "774023  2775        467         190790      133          69         2717       \n",
       "774024  2764        490         179113      137          63         2707       \n",
       "774025  2901        498         190659      126          64         2718       \n",
       "774026  2822        478         194377      139          69         2696       \n",
       "774027  2808        495         191489      133          72         2793       \n",
       "774028  2794        464         190686      126          62         2689       \n",
       "774029  2897        506         206448      128          68         2719       \n",
       "774030  2974        512         233496      120          65         2792       \n",
       "...     ...         ...         ...         ...         ...         ...        \n",
       "1547971 53136       24985       508073      2150        319         68782      \n",
       "1547972 53030       24989       506457      2188        339         69057      \n",
       "1547973 53169       24994       506264      2179        320         68856      \n",
       "1547974 53149       24983       506283      2494        339         68812      \n",
       "1547975 53055       25004       506843      2118        322         68755      \n",
       "1547976 53117       24989       508421      2248        352         68754      \n",
       "1547977 53136       24964       506564      2142        316         68565      \n",
       "1547978 53152       24976       507517      2230        353         68739      \n",
       "1547979 53094       24992       508461      2167        312         68364      \n",
       "1547980 53099       24986       506243      2195        336         68653      \n",
       "1547981 53240       25011       522555      2236        320         68031      \n",
       "1547982 53052       24995       517269      2128        325         68818      \n",
       "1547983 53076       24993       520357      2116        336         67767      \n",
       "1547984 53145       25007       519980      2181        323         68872      \n",
       "1547985 53059       24990       519102      2190        341         68254      \n",
       "1547986 53018       24966       516291      2421        309         68641      \n",
       "1547987 53104       24977       515652      2167        343         68838      \n",
       "1547988 53160       24985       516072      2219        307         68810      \n",
       "1547989 53110       24987       513823      2198        329         68850      \n",
       "1547990 53086       24975       506873      2138        309         68831      \n",
       "1547991 52975       24986       506392      2150        334         68856      \n",
       "1547992 53170       25000       508653      2171        308         68695      \n",
       "1547993 53092       24978       506037      2447        344         68849      \n",
       "1547994 53242       24992       506162      2170        303         68572      \n",
       "1547995 53034       24985       508049      2508        348         68825      \n",
       "1547996 53074       25005       506116      2193        303         68694      \n",
       "1547997 53052       24984       508261      2191        342         68580      \n",
       "1547998 53097       24972       506334      2186        298         68830      \n",
       "1547999 53227       24994       506161      2108        346         68932      \n",
       "1548000 53240       24999       508516      2192        310         68763      "
      ]
     },
     "metadata": {},
     "output_type": "display_data"
    }
   ],
   "source": [
    "new_mydata"
   ]
  },
  {
   "cell_type": "code",
   "execution_count": 20,
   "metadata": {},
   "outputs": [
    {
     "data": {
      "text/html": [
       "<ol class=list-inline>\n",
       "\t<li>'id'</li>\n",
       "\t<li>'size_vector'</li>\n",
       "\t<li>'comp_opt'</li>\n",
       "\t<li>'label'</li>\n",
       "\t<li>'threads'</li>\n",
       "\t<li>'PAPI_L1_DCM'</li>\n",
       "\t<li>'PAPI_L3_TCM'</li>\n",
       "\t<li>'PAPI_TOT_INS'</li>\n",
       "\t<li>'PAPI_REF_CYC'</li>\n",
       "\t<li>'PAPI_L2_LDM'</li>\n",
       "\t<li>'PAPI_SR_INS'</li>\n",
       "\t<li>'PAPI_BR_UCN'</li>\n",
       "\t<li>'PAPI_BR_CN'</li>\n",
       "\t<li>'PAPI_BR_TKN'</li>\n",
       "\t<li>'PAPI_BR_MSP'</li>\n",
       "\t<li>'PAPI_FP_OPS'</li>\n",
       "\t<li>'PAPI_L1_LDM'</li>\n",
       "\t<li>'PAPI_L1_STM'</li>\n",
       "\t<li>'PAPI_LD_INS'</li>\n",
       "\t<li>'PAPI_L2_STM'</li>\n",
       "\t<li>'PAPI_TLB_DM'</li>\n",
       "\t<li>'PAPI_L2_DCH'</li>\n",
       "</ol>\n"
      ],
      "text/latex": [
       "\\begin{enumerate*}\n",
       "\\item 'id'\n",
       "\\item 'size\\_vector'\n",
       "\\item 'comp\\_opt'\n",
       "\\item 'label'\n",
       "\\item 'threads'\n",
       "\\item 'PAPI\\_L1\\_DCM'\n",
       "\\item 'PAPI\\_L3\\_TCM'\n",
       "\\item 'PAPI\\_TOT\\_INS'\n",
       "\\item 'PAPI\\_REF\\_CYC'\n",
       "\\item 'PAPI\\_L2\\_LDM'\n",
       "\\item 'PAPI\\_SR\\_INS'\n",
       "\\item 'PAPI\\_BR\\_UCN'\n",
       "\\item 'PAPI\\_BR\\_CN'\n",
       "\\item 'PAPI\\_BR\\_TKN'\n",
       "\\item 'PAPI\\_BR\\_MSP'\n",
       "\\item 'PAPI\\_FP\\_OPS'\n",
       "\\item 'PAPI\\_L1\\_LDM'\n",
       "\\item 'PAPI\\_L1\\_STM'\n",
       "\\item 'PAPI\\_LD\\_INS'\n",
       "\\item 'PAPI\\_L2\\_STM'\n",
       "\\item 'PAPI\\_TLB\\_DM'\n",
       "\\item 'PAPI\\_L2\\_DCH'\n",
       "\\end{enumerate*}\n"
      ],
      "text/markdown": [
       "1. 'id'\n",
       "2. 'size_vector'\n",
       "3. 'comp_opt'\n",
       "4. 'label'\n",
       "5. 'threads'\n",
       "6. 'PAPI_L1_DCM'\n",
       "7. 'PAPI_L3_TCM'\n",
       "8. 'PAPI_TOT_INS'\n",
       "9. 'PAPI_REF_CYC'\n",
       "10. 'PAPI_L2_LDM'\n",
       "11. 'PAPI_SR_INS'\n",
       "12. 'PAPI_BR_UCN'\n",
       "13. 'PAPI_BR_CN'\n",
       "14. 'PAPI_BR_TKN'\n",
       "15. 'PAPI_BR_MSP'\n",
       "16. 'PAPI_FP_OPS'\n",
       "17. 'PAPI_L1_LDM'\n",
       "18. 'PAPI_L1_STM'\n",
       "19. 'PAPI_LD_INS'\n",
       "20. 'PAPI_L2_STM'\n",
       "21. 'PAPI_TLB_DM'\n",
       "22. 'PAPI_L2_DCH'\n",
       "\n",
       "\n"
      ],
      "text/plain": [
       " [1] \"id\"           \"size_vector\"  \"comp_opt\"     \"label\"        \"threads\"     \n",
       " [6] \"PAPI_L1_DCM\"  \"PAPI_L3_TCM\"  \"PAPI_TOT_INS\" \"PAPI_REF_CYC\" \"PAPI_L2_LDM\" \n",
       "[11] \"PAPI_SR_INS\"  \"PAPI_BR_UCN\"  \"PAPI_BR_CN\"   \"PAPI_BR_TKN\"  \"PAPI_BR_MSP\" \n",
       "[16] \"PAPI_FP_OPS\"  \"PAPI_L1_LDM\"  \"PAPI_L1_STM\"  \"PAPI_LD_INS\"  \"PAPI_L2_STM\" \n",
       "[21] \"PAPI_TLB_DM\"  \"PAPI_L2_DCH\" "
      ]
     },
     "metadata": {},
     "output_type": "display_data"
    }
   ],
   "source": [
    "colnames(mydata_no_time)\n",
    "log.ir <-scale(new_mydata, center = TRUE, scale = TRUE)\n",
    "res.label <- mydata_no_time[,4]\n",
    "res.pca <- prcomp(log.ir, center = TRUE, scale. = TRUE)\n",
    "\n"
   ]
  },
  {
   "cell_type": "code",
   "execution_count": 21,
   "metadata": {},
   "outputs": [
    {
     "name": "stdout",
     "output_type": "stream",
     "text": [
      "Standard deviations (1, .., p=17):\n",
      " [1] 3.312070981 1.515202159 0.959961857 0.830887596 0.752926824 0.720538614\n",
      " [7] 0.690478948 0.479440886 0.367481205 0.303101949 0.229188125 0.192727501\n",
      "[13] 0.097779784 0.045712276 0.035404004 0.015055745 0.005735712\n",
      "\n",
      "Rotation (n x k) = (17 x 17):\n",
      "                   PC1         PC2         PC3         PC4           PC5\n",
      "PAPI_L1_DCM  0.2811546 -0.15616665 -0.23205929  0.05075523 -0.0258611594\n",
      "PAPI_L3_TCM  0.2552530 -0.21542655 -0.03712646 -0.14397200  0.3542657027\n",
      "PAPI_TOT_INS 0.2655686  0.29167483  0.01584235  0.05904356 -0.0008793952\n",
      "PAPI_REF_CYC 0.2579707 -0.16530475 -0.05278774 -0.32061366  0.4120088092\n",
      "PAPI_L2_LDM  0.2413367 -0.26816699 -0.07186462  0.19301732 -0.0988293720\n",
      "PAPI_SR_INS  0.2762326  0.19042773  0.09186450  0.10295973 -0.0757423143\n",
      "PAPI_BR_UCN  0.1854060  0.02575247  0.16876990 -0.76653047 -0.5436226621\n",
      "PAPI_BR_CN   0.2755002  0.19632103  0.14020106  0.08845309 -0.1021325109\n",
      "PAPI_BR_TKN  0.2753378  0.19707972  0.13884363  0.09493426 -0.1014429165\n",
      "PAPI_BR_MSP  0.2574559 -0.13297665  0.19276743 -0.24007292  0.4133709217\n",
      "PAPI_FP_OPS  0.2035453  0.38800967 -0.25843619 -0.10073334  0.2214797964\n",
      "PAPI_L1_LDM  0.2651025 -0.15064755 -0.12296774  0.20426015 -0.0807482286\n",
      "PAPI_L1_STM  0.2499868 -0.22348034 -0.29264556  0.09411740 -0.2309057293\n",
      "PAPI_LD_INS  0.2364440  0.27819668  0.30595663  0.18819910 -0.0778455287\n",
      "PAPI_L2_STM  0.2317062 -0.29516172 -0.26392128  0.09699256 -0.2730985788\n",
      "PAPI_TLB_DM  0.1524107 -0.28331245  0.66422082  0.22714627  0.0362636234\n",
      "PAPI_L2_DCH  0.1574114  0.38069605 -0.22704090  0.05805605  0.1029522292\n",
      "                     PC6          PC7         PC8         PC9         PC10\n",
      "PAPI_L1_DCM   0.07980420 -0.111320998  0.09844735 -0.05662167 -0.124111673\n",
      "PAPI_L3_TCM  -0.07243316  0.014066137 -0.14799729  0.76823063 -0.140756545\n",
      "PAPI_TOT_INS -0.13173580  0.078003217 -0.13487037 -0.07800386  0.322559347\n",
      "PAPI_REF_CYC -0.05615015  0.152321955  0.11177090 -0.10727109 -0.095241692\n",
      "PAPI_L2_LDM  -0.29914883 -0.483458412 -0.02157206 -0.06677387  0.062556746\n",
      "PAPI_SR_INS  -0.07083195  0.086741728  0.26764897  0.09766822  0.078093061\n",
      "PAPI_BR_UCN   0.06461511 -0.188210404 -0.10690758  0.04307274 -0.011553820\n",
      "PAPI_BR_CN   -0.08841548  0.116071237  0.33753603  0.14602754  0.163182054\n",
      "PAPI_BR_TKN  -0.08564231  0.116159042  0.33688611  0.15299923  0.162790338\n",
      "PAPI_BR_MSP   0.07430039 -0.006136169  0.24070527 -0.52011655 -0.012872422\n",
      "PAPI_FP_OPS  -0.15522502  0.025703828 -0.58885365 -0.12358634  0.300584292\n",
      "PAPI_L1_LDM  -0.10551712 -0.505390696 -0.03350946 -0.07776545 -0.006652842\n",
      "PAPI_L1_STM   0.22776081  0.339830327 -0.07330394 -0.05839571 -0.011069210\n",
      "PAPI_LD_INS  -0.18085025  0.103175454 -0.26023417 -0.12350656 -0.774098536\n",
      "PAPI_L2_STM   0.09077404  0.429404299 -0.12318740 -0.10813080 -0.019574422\n",
      "PAPI_TLB_DM   0.39510283 -0.003388922 -0.35632606  0.02435811  0.277986916\n",
      "PAPI_L2_DCH   0.75124309 -0.296363067  0.07562791  0.07514192 -0.144298664\n",
      "                     PC11         PC12         PC13          PC14         PC15\n",
      "PAPI_L1_DCM   0.023228530 -0.395134191  0.788043610  0.1135674902 -0.041664927\n",
      "PAPI_L3_TCM   0.033352004 -0.246699537 -0.173069861 -0.0718736909  0.079869208\n",
      "PAPI_TOT_INS  0.082640934 -0.064535644  0.136987471 -0.6819159919  0.440561036\n",
      "PAPI_REF_CYC -0.069808397  0.708783203  0.248867103 -0.0453086599  0.010207501\n",
      "PAPI_L2_LDM   0.003115688  0.108435316 -0.130511980 -0.2619580408 -0.402782524\n",
      "PAPI_SR_INS   0.830620433  0.112680193 -0.042590531  0.2298366782 -0.074591234\n",
      "PAPI_BR_UCN   0.015653620 -0.009381377 -0.003595789  0.0018102189  0.002397059\n",
      "PAPI_BR_CN   -0.375704297 -0.001529399 -0.023230410  0.1181619317 -0.093976373\n",
      "PAPI_BR_TKN  -0.375104198 -0.007442581 -0.018846161  0.1211653195 -0.082891390\n",
      "PAPI_BR_MSP   0.027054774 -0.449788515 -0.336222657  0.0007782441  0.008097362\n",
      "PAPI_FP_OPS  -0.053471675 -0.052359020 -0.017647305  0.3673442684 -0.253039234\n",
      "PAPI_L1_LDM  -0.068163473  0.155158830 -0.178987803  0.2557526543  0.435958938\n",
      "PAPI_L1_STM   0.018250381  0.009791824 -0.185833274 -0.3009658971 -0.438597986\n",
      "PAPI_LD_INS  -0.052904536  0.008811880 -0.007980980 -0.0472698319 -0.029682885\n",
      "PAPI_L2_STM  -0.043365236  0.015124097 -0.177437660  0.2409151338  0.405010788\n",
      "PAPI_TLB_DM   0.003023972  0.091890093  0.152201486  0.0852771480 -0.050568348\n",
      "PAPI_L2_DCH  -0.036665008  0.117887879 -0.118058234 -0.0793838548  0.013639767\n",
      "                      PC16          PC17\n",
      "PAPI_L1_DCM   0.0083640389 -4.260210e-03\n",
      "PAPI_L3_TCM  -0.0004986445 -4.136405e-03\n",
      "PAPI_TOT_INS  0.0058008418 -2.487797e-03\n",
      "PAPI_REF_CYC  0.0035303946  4.206067e-03\n",
      "PAPI_L2_LDM  -0.4752655548  7.852435e-03\n",
      "PAPI_SR_INS  -0.0033706185 -2.515581e-04\n",
      "PAPI_BR_UCN  -0.0001234834  3.511538e-03\n",
      "PAPI_BR_CN   -0.0052935876 -7.070757e-01\n",
      "PAPI_BR_TKN   0.0038182883  7.070066e-01\n",
      "PAPI_BR_MSP  -0.0042706465  2.823179e-03\n",
      "PAPI_FP_OPS  -0.0036969954  1.731185e-03\n",
      "PAPI_L1_LDM   0.5036149992 -6.272248e-03\n",
      "PAPI_L1_STM   0.4955483570  8.258980e-04\n",
      "PAPI_LD_INS   0.0006747315  3.828794e-04\n",
      "PAPI_L2_STM  -0.4795843674 -7.787169e-05\n",
      "PAPI_TLB_DM   0.0006445986 -1.110933e-03\n",
      "PAPI_L2_DCH  -0.2114761724 -2.520477e-04\n"
     ]
    }
   ],
   "source": [
    "print(res.pca)"
   ]
  },
  {
   "cell_type": "code",
   "execution_count": 22,
   "metadata": {},
   "outputs": [
    {
     "data": {
      "text/html": [
       "<ol class=list-inline>\n",
       "\t<li>'sdev'</li>\n",
       "\t<li>'rotation'</li>\n",
       "\t<li>'center'</li>\n",
       "\t<li>'scale'</li>\n",
       "\t<li>'x'</li>\n",
       "</ol>\n"
      ],
      "text/latex": [
       "\\begin{enumerate*}\n",
       "\\item 'sdev'\n",
       "\\item 'rotation'\n",
       "\\item 'center'\n",
       "\\item 'scale'\n",
       "\\item 'x'\n",
       "\\end{enumerate*}\n"
      ],
      "text/markdown": [
       "1. 'sdev'\n",
       "2. 'rotation'\n",
       "3. 'center'\n",
       "4. 'scale'\n",
       "5. 'x'\n",
       "\n",
       "\n"
      ],
      "text/plain": [
       "[1] \"sdev\"     \"rotation\" \"center\"   \"scale\"    \"x\"       "
      ]
     },
     "metadata": {},
     "output_type": "display_data"
    }
   ],
   "source": [
    "names(res.pca)"
   ]
  },
  {
   "cell_type": "code",
   "execution_count": 23,
   "metadata": {},
   "outputs": [
    {
     "name": "stdout",
     "output_type": "stream",
     "text": [
      " [1] 3.312070981 1.515202159 0.959961857 0.830887596 0.752926824 0.720538614\n",
      " [7] 0.690478948 0.479440886 0.367481205 0.303101949 0.229188125 0.192727501\n",
      "[13] 0.097779784 0.045712276 0.035404004 0.015055745 0.005735712\n"
     ]
    }
   ],
   "source": [
    "print(res.pca$sdev)"
   ]
  },
  {
   "cell_type": "code",
   "execution_count": 24,
   "metadata": {},
   "outputs": [
    {
     "data": {
      "text/html": [
       "<table>\n",
       "<thead><tr><th></th><th scope=col>PC1</th><th scope=col>PC2</th><th scope=col>PC3</th><th scope=col>PC4</th><th scope=col>PC5</th><th scope=col>PC6</th><th scope=col>PC7</th><th scope=col>PC8</th><th scope=col>PC9</th><th scope=col>PC10</th><th scope=col>PC11</th><th scope=col>PC12</th><th scope=col>PC13</th><th scope=col>PC14</th><th scope=col>PC15</th><th scope=col>PC16</th><th scope=col>PC17</th></tr></thead>\n",
       "<tbody>\n",
       "\t<tr><th scope=row>PAPI_L1_DCM</th><td>0.2811546    </td><td>-0.1561667   </td><td>-0.23205929  </td><td> 0.05075523  </td><td>-0.0258611594</td><td> 0.07980420  </td><td>-0.11132100  </td><td> 0.09844735  </td><td>-0.05662167  </td><td>-0.12411167  </td><td> 0.023228530 </td><td>-0.39513419  </td><td> 0.78804361  </td><td> 0.11356749  </td><td>-0.04166493  </td><td> 0.0083640389</td><td>-0.0042602098</td></tr>\n",
       "\t<tr><th scope=row>PAPI_L3_TCM</th><td>0.2552530    </td><td>-0.2154265   </td><td>-0.03712646  </td><td>-0.14397200  </td><td> 0.3542657027</td><td>-0.07243316  </td><td> 0.01406614  </td><td>-0.14799729  </td><td> 0.76823063  </td><td>-0.14075655  </td><td> 0.033352004 </td><td>-0.24669954  </td><td>-0.17306986  </td><td>-0.07187369  </td><td> 0.07986921  </td><td>-0.0004986445</td><td>-0.0041364050</td></tr>\n",
       "\t<tr><th scope=row>PAPI_TOT_INS</th><td>0.2655686    </td><td> 0.2916748   </td><td> 0.01584235  </td><td> 0.05904356  </td><td>-0.0008793952</td><td>-0.13173580  </td><td> 0.07800322  </td><td>-0.13487037  </td><td>-0.07800386  </td><td> 0.32255935  </td><td> 0.082640934 </td><td>-0.06453564  </td><td> 0.13698747  </td><td>-0.68191599  </td><td> 0.44056104  </td><td> 0.0058008418</td><td>-0.0024877973</td></tr>\n",
       "\t<tr><th scope=row>PAPI_REF_CYC</th><td>0.2579707    </td><td>-0.1653048   </td><td>-0.05278774  </td><td>-0.32061366  </td><td> 0.4120088092</td><td>-0.05615015  </td><td> 0.15232196  </td><td> 0.11177090  </td><td>-0.10727109  </td><td>-0.09524169  </td><td>-0.069808397 </td><td> 0.70878320  </td><td> 0.24886710  </td><td>-0.04530866  </td><td> 0.01020750  </td><td> 0.0035303946</td><td> 0.0042060674</td></tr>\n",
       "\t<tr><th scope=row>PAPI_L2_LDM</th><td>0.2413367    </td><td>-0.2681670   </td><td>-0.07186462  </td><td> 0.19301732  </td><td>-0.0988293720</td><td>-0.29914883  </td><td>-0.48345841  </td><td>-0.02157206  </td><td>-0.06677387  </td><td> 0.06255675  </td><td> 0.003115688 </td><td> 0.10843532  </td><td>-0.13051198  </td><td>-0.26195804  </td><td>-0.40278252  </td><td>-0.4752655548</td><td> 0.0078524349</td></tr>\n",
       "\t<tr><th scope=row>PAPI_SR_INS</th><td>0.2762326    </td><td> 0.1904277   </td><td> 0.09186450  </td><td> 0.10295973  </td><td>-0.0757423143</td><td>-0.07083195  </td><td> 0.08674173  </td><td> 0.26764897  </td><td> 0.09766822  </td><td> 0.07809306  </td><td> 0.830620433 </td><td> 0.11268019  </td><td>-0.04259053  </td><td> 0.22983668  </td><td>-0.07459123  </td><td>-0.0033706185</td><td>-0.0002515581</td></tr>\n",
       "</tbody>\n",
       "</table>\n"
      ],
      "text/latex": [
       "\\begin{tabular}{r|lllllllllllllllll}\n",
       "  & PC1 & PC2 & PC3 & PC4 & PC5 & PC6 & PC7 & PC8 & PC9 & PC10 & PC11 & PC12 & PC13 & PC14 & PC15 & PC16 & PC17\\\\\n",
       "\\hline\n",
       "\tPAPI\\_L1\\_DCM & 0.2811546     & -0.1561667    & -0.23205929   &  0.05075523   & -0.0258611594 &  0.07980420   & -0.11132100   &  0.09844735   & -0.05662167   & -0.12411167   &  0.023228530  & -0.39513419   &  0.78804361   &  0.11356749   & -0.04166493   &  0.0083640389 & -0.0042602098\\\\\n",
       "\tPAPI\\_L3\\_TCM & 0.2552530     & -0.2154265    & -0.03712646   & -0.14397200   &  0.3542657027 & -0.07243316   &  0.01406614   & -0.14799729   &  0.76823063   & -0.14075655   &  0.033352004  & -0.24669954   & -0.17306986   & -0.07187369   &  0.07986921   & -0.0004986445 & -0.0041364050\\\\\n",
       "\tPAPI\\_TOT\\_INS & 0.2655686     &  0.2916748    &  0.01584235   &  0.05904356   & -0.0008793952 & -0.13173580   &  0.07800322   & -0.13487037   & -0.07800386   &  0.32255935   &  0.082640934  & -0.06453564   &  0.13698747   & -0.68191599   &  0.44056104   &  0.0058008418 & -0.0024877973\\\\\n",
       "\tPAPI\\_REF\\_CYC & 0.2579707     & -0.1653048    & -0.05278774   & -0.32061366   &  0.4120088092 & -0.05615015   &  0.15232196   &  0.11177090   & -0.10727109   & -0.09524169   & -0.069808397  &  0.70878320   &  0.24886710   & -0.04530866   &  0.01020750   &  0.0035303946 &  0.0042060674\\\\\n",
       "\tPAPI\\_L2\\_LDM & 0.2413367     & -0.2681670    & -0.07186462   &  0.19301732   & -0.0988293720 & -0.29914883   & -0.48345841   & -0.02157206   & -0.06677387   &  0.06255675   &  0.003115688  &  0.10843532   & -0.13051198   & -0.26195804   & -0.40278252   & -0.4752655548 &  0.0078524349\\\\\n",
       "\tPAPI\\_SR\\_INS & 0.2762326     &  0.1904277    &  0.09186450   &  0.10295973   & -0.0757423143 & -0.07083195   &  0.08674173   &  0.26764897   &  0.09766822   &  0.07809306   &  0.830620433  &  0.11268019   & -0.04259053   &  0.22983668   & -0.07459123   & -0.0033706185 & -0.0002515581\\\\\n",
       "\\end{tabular}\n"
      ],
      "text/markdown": [
       "\n",
       "| <!--/--> | PC1 | PC2 | PC3 | PC4 | PC5 | PC6 | PC7 | PC8 | PC9 | PC10 | PC11 | PC12 | PC13 | PC14 | PC15 | PC16 | PC17 | \n",
       "|---|---|---|---|---|---|\n",
       "| PAPI_L1_DCM | 0.2811546     | -0.1561667    | -0.23205929   |  0.05075523   | -0.0258611594 |  0.07980420   | -0.11132100   |  0.09844735   | -0.05662167   | -0.12411167   |  0.023228530  | -0.39513419   |  0.78804361   |  0.11356749   | -0.04166493   |  0.0083640389 | -0.0042602098 | \n",
       "| PAPI_L3_TCM | 0.2552530     | -0.2154265    | -0.03712646   | -0.14397200   |  0.3542657027 | -0.07243316   |  0.01406614   | -0.14799729   |  0.76823063   | -0.14075655   |  0.033352004  | -0.24669954   | -0.17306986   | -0.07187369   |  0.07986921   | -0.0004986445 | -0.0041364050 | \n",
       "| PAPI_TOT_INS | 0.2655686     |  0.2916748    |  0.01584235   |  0.05904356   | -0.0008793952 | -0.13173580   |  0.07800322   | -0.13487037   | -0.07800386   |  0.32255935   |  0.082640934  | -0.06453564   |  0.13698747   | -0.68191599   |  0.44056104   |  0.0058008418 | -0.0024877973 | \n",
       "| PAPI_REF_CYC | 0.2579707     | -0.1653048    | -0.05278774   | -0.32061366   |  0.4120088092 | -0.05615015   |  0.15232196   |  0.11177090   | -0.10727109   | -0.09524169   | -0.069808397  |  0.70878320   |  0.24886710   | -0.04530866   |  0.01020750   |  0.0035303946 |  0.0042060674 | \n",
       "| PAPI_L2_LDM | 0.2413367     | -0.2681670    | -0.07186462   |  0.19301732   | -0.0988293720 | -0.29914883   | -0.48345841   | -0.02157206   | -0.06677387   |  0.06255675   |  0.003115688  |  0.10843532   | -0.13051198   | -0.26195804   | -0.40278252   | -0.4752655548 |  0.0078524349 | \n",
       "| PAPI_SR_INS | 0.2762326     |  0.1904277    |  0.09186450   |  0.10295973   | -0.0757423143 | -0.07083195   |  0.08674173   |  0.26764897   |  0.09766822   |  0.07809306   |  0.830620433  |  0.11268019   | -0.04259053   |  0.22983668   | -0.07459123   | -0.0033706185 | -0.0002515581 | \n",
       "\n",
       "\n"
      ],
      "text/plain": [
       "             PC1       PC2        PC3         PC4         PC5          \n",
       "PAPI_L1_DCM  0.2811546 -0.1561667 -0.23205929  0.05075523 -0.0258611594\n",
       "PAPI_L3_TCM  0.2552530 -0.2154265 -0.03712646 -0.14397200  0.3542657027\n",
       "PAPI_TOT_INS 0.2655686  0.2916748  0.01584235  0.05904356 -0.0008793952\n",
       "PAPI_REF_CYC 0.2579707 -0.1653048 -0.05278774 -0.32061366  0.4120088092\n",
       "PAPI_L2_LDM  0.2413367 -0.2681670 -0.07186462  0.19301732 -0.0988293720\n",
       "PAPI_SR_INS  0.2762326  0.1904277  0.09186450  0.10295973 -0.0757423143\n",
       "             PC6         PC7         PC8         PC9         PC10       \n",
       "PAPI_L1_DCM   0.07980420 -0.11132100  0.09844735 -0.05662167 -0.12411167\n",
       "PAPI_L3_TCM  -0.07243316  0.01406614 -0.14799729  0.76823063 -0.14075655\n",
       "PAPI_TOT_INS -0.13173580  0.07800322 -0.13487037 -0.07800386  0.32255935\n",
       "PAPI_REF_CYC -0.05615015  0.15232196  0.11177090 -0.10727109 -0.09524169\n",
       "PAPI_L2_LDM  -0.29914883 -0.48345841 -0.02157206 -0.06677387  0.06255675\n",
       "PAPI_SR_INS  -0.07083195  0.08674173  0.26764897  0.09766822  0.07809306\n",
       "             PC11         PC12        PC13        PC14        PC15       \n",
       "PAPI_L1_DCM   0.023228530 -0.39513419  0.78804361  0.11356749 -0.04166493\n",
       "PAPI_L3_TCM   0.033352004 -0.24669954 -0.17306986 -0.07187369  0.07986921\n",
       "PAPI_TOT_INS  0.082640934 -0.06453564  0.13698747 -0.68191599  0.44056104\n",
       "PAPI_REF_CYC -0.069808397  0.70878320  0.24886710 -0.04530866  0.01020750\n",
       "PAPI_L2_LDM   0.003115688  0.10843532 -0.13051198 -0.26195804 -0.40278252\n",
       "PAPI_SR_INS   0.830620433  0.11268019 -0.04259053  0.22983668 -0.07459123\n",
       "             PC16          PC17         \n",
       "PAPI_L1_DCM   0.0083640389 -0.0042602098\n",
       "PAPI_L3_TCM  -0.0004986445 -0.0041364050\n",
       "PAPI_TOT_INS  0.0058008418 -0.0024877973\n",
       "PAPI_REF_CYC  0.0035303946  0.0042060674\n",
       "PAPI_L2_LDM  -0.4752655548  0.0078524349\n",
       "PAPI_SR_INS  -0.0033706185 -0.0002515581"
      ]
     },
     "metadata": {},
     "output_type": "display_data"
    }
   ],
   "source": [
    "head(unclass(res.pca$rotation)[])"
   ]
  },
  {
   "cell_type": "code",
   "execution_count": 25,
   "metadata": {},
   "outputs": [
    {
     "name": "stdout",
     "output_type": "stream",
     "text": [
      " [1] 1.096981e+01 2.295838e+00 9.215268e-01 6.903742e-01 5.668988e-01\n",
      " [6] 5.191759e-01 4.767612e-01 2.298636e-01 1.350424e-01 9.187079e-02\n",
      "[11] 5.252720e-02 3.714389e-02 9.560886e-03 2.089612e-03 1.253444e-03\n",
      "[16] 2.266755e-04 3.289839e-05\n"
     ]
    }
   ],
   "source": [
    "# Eigenvalues\n",
    "eig <- (res.pca$sdev)^2\n",
    "print(eig)"
   ]
  },
  {
   "cell_type": "code",
   "execution_count": 26,
   "metadata": {},
   "outputs": [
    {
     "name": "stdout",
     "output_type": "stream",
     "text": [
      " [1] 6.452832e+01 1.350493e+01 5.420746e+00 4.061025e+00 3.334699e+00\n",
      " [6] 3.053976e+00 2.804478e+00 1.352139e+00 7.943673e-01 5.404164e-01\n",
      "[11] 3.089835e-01 2.184935e-01 5.624051e-02 1.229184e-02 7.373197e-03\n",
      "[16] 1.333385e-03 1.935199e-04\n"
     ]
    }
   ],
   "source": [
    "# Variances in percentage\n",
    "variance <- eig*100/sum(eig)\n",
    "print(variance)"
   ]
  },
  {
   "cell_type": "code",
   "execution_count": 27,
   "metadata": {},
   "outputs": [
    {
     "name": "stdout",
     "output_type": "stream",
     "text": [
      " [1]  64.52832  78.03325  83.45399  87.51502  90.84971  93.90369  96.70817\n",
      " [8]  98.06031  98.85467  99.39509  99.70407  99.92257  99.97881  99.99110\n",
      "[15]  99.99847  99.99981 100.00000\n"
     ]
    }
   ],
   "source": [
    "# Cumulative variances\n",
    "cumvar <- cumsum(variance)\n",
    "print(cumvar)"
   ]
  },
  {
   "cell_type": "code",
   "execution_count": 28,
   "metadata": {},
   "outputs": [
    {
     "name": "stdout",
     "output_type": "stream",
     "text": [
      "            eig     variance cumvariance\n",
      "1  1.096981e+01 6.452832e+01    64.52832\n",
      "2  2.295838e+00 1.350493e+01    78.03325\n",
      "3  9.215268e-01 5.420746e+00    83.45399\n",
      "4  6.903742e-01 4.061025e+00    87.51502\n",
      "5  5.668988e-01 3.334699e+00    90.84971\n",
      "6  5.191759e-01 3.053976e+00    93.90369\n",
      "7  4.767612e-01 2.804478e+00    96.70817\n",
      "8  2.298636e-01 1.352139e+00    98.06031\n",
      "9  1.350424e-01 7.943673e-01    98.85467\n",
      "10 9.187079e-02 5.404164e-01    99.39509\n",
      "11 5.252720e-02 3.089835e-01    99.70407\n",
      "12 3.714389e-02 2.184935e-01    99.92257\n",
      "13 9.560886e-03 5.624051e-02    99.97881\n",
      "14 2.089612e-03 1.229184e-02    99.99110\n",
      "15 1.253444e-03 7.373197e-03    99.99847\n",
      "16 2.266755e-04 1.333385e-03    99.99981\n",
      "17 3.289839e-05 1.935199e-04   100.00000\n"
     ]
    }
   ],
   "source": [
    "eig.decathlon2.active <- data.frame(eig = eig, variance = variance,cumvariance = cumvar)\n",
    "print(eig.decathlon2.active)"
   ]
  },
  {
   "cell_type": "code",
   "execution_count": 29,
   "metadata": {},
   "outputs": [
    {
     "data": {
      "text/plain": [
       "Importance of components:\n",
       "                          PC1    PC2     PC3     PC4     PC5     PC6     PC7\n",
       "Standard deviation     3.3121 1.5152 0.95996 0.83089 0.75293 0.72054 0.69048\n",
       "Proportion of Variance 0.6453 0.1351 0.05421 0.04061 0.03335 0.03054 0.02804\n",
       "Cumulative Proportion  0.6453 0.7803 0.83454 0.87515 0.90850 0.93904 0.96708\n",
       "                           PC8     PC9   PC10    PC11    PC12    PC13    PC14\n",
       "Standard deviation     0.47944 0.36748 0.3031 0.22919 0.19273 0.09778 0.04571\n",
       "Proportion of Variance 0.01352 0.00794 0.0054 0.00309 0.00218 0.00056 0.00012\n",
       "Cumulative Proportion  0.98060 0.98855 0.9940 0.99704 0.99923 0.99979 0.99991\n",
       "                          PC15    PC16     PC17\n",
       "Standard deviation     0.03540 0.01506 0.005736\n",
       "Proportion of Variance 0.00007 0.00001 0.000000\n",
       "Cumulative Proportion  0.99998 1.00000 1.000000"
      ]
     },
     "metadata": {},
     "output_type": "display_data"
    }
   ],
   "source": [
    "summary(res.pca)"
   ]
  },
  {
   "cell_type": "code",
   "execution_count": 30,
   "metadata": {},
   "outputs": [
    {
     "data": {
      "text/html": [
       "<table>\n",
       "<thead><tr><th></th><th scope=col>eigenvalue</th><th scope=col>variance.percent</th><th scope=col>cumulative.variance.percent</th></tr></thead>\n",
       "<tbody>\n",
       "\t<tr><th scope=row>Dim.1</th><td>10.9698142</td><td>64.528319 </td><td>64.52832  </td></tr>\n",
       "\t<tr><th scope=row>Dim.2</th><td> 2.2958376</td><td>13.504927 </td><td>78.03325  </td></tr>\n",
       "\t<tr><th scope=row>Dim.3</th><td> 0.9215268</td><td> 5.420746 </td><td>83.45399  </td></tr>\n",
       "\t<tr><th scope=row>Dim.4</th><td> 0.6903742</td><td> 4.061025 </td><td>87.51502  </td></tr>\n",
       "\t<tr><th scope=row>Dim.5</th><td> 0.5668988</td><td> 3.334699 </td><td>90.84971  </td></tr>\n",
       "\t<tr><th scope=row>Dim.6</th><td> 0.5191759</td><td> 3.053976 </td><td>93.90369  </td></tr>\n",
       "</tbody>\n",
       "</table>\n"
      ],
      "text/latex": [
       "\\begin{tabular}{r|lll}\n",
       "  & eigenvalue & variance.percent & cumulative.variance.percent\\\\\n",
       "\\hline\n",
       "\tDim.1 & 10.9698142 & 64.528319  & 64.52832  \\\\\n",
       "\tDim.2 &  2.2958376 & 13.504927  & 78.03325  \\\\\n",
       "\tDim.3 &  0.9215268 &  5.420746  & 83.45399  \\\\\n",
       "\tDim.4 &  0.6903742 &  4.061025  & 87.51502  \\\\\n",
       "\tDim.5 &  0.5668988 &  3.334699  & 90.84971  \\\\\n",
       "\tDim.6 &  0.5191759 &  3.053976  & 93.90369  \\\\\n",
       "\\end{tabular}\n"
      ],
      "text/markdown": [
       "\n",
       "| <!--/--> | eigenvalue | variance.percent | cumulative.variance.percent | \n",
       "|---|---|---|---|---|---|\n",
       "| Dim.1 | 10.9698142 | 64.528319  | 64.52832   | \n",
       "| Dim.2 |  2.2958376 | 13.504927  | 78.03325   | \n",
       "| Dim.3 |  0.9215268 |  5.420746  | 83.45399   | \n",
       "| Dim.4 |  0.6903742 |  4.061025  | 87.51502   | \n",
       "| Dim.5 |  0.5668988 |  3.334699  | 90.84971   | \n",
       "| Dim.6 |  0.5191759 |  3.053976  | 93.90369   | \n",
       "\n",
       "\n"
      ],
      "text/plain": [
       "      eigenvalue variance.percent cumulative.variance.percent\n",
       "Dim.1 10.9698142 64.528319        64.52832                   \n",
       "Dim.2  2.2958376 13.504927        78.03325                   \n",
       "Dim.3  0.9215268  5.420746        83.45399                   \n",
       "Dim.4  0.6903742  4.061025        87.51502                   \n",
       "Dim.5  0.5668988  3.334699        90.84971                   \n",
       "Dim.6  0.5191759  3.053976        93.90369                   "
      ]
     },
     "metadata": {},
     "output_type": "display_data"
    }
   ],
   "source": [
    "library(\"factoextra\")\n",
    "eig.val <- get_eigenvalue(res.pca)\n",
    "head(eig.val)"
   ]
  },
  {
   "cell_type": "code",
   "execution_count": 31,
   "metadata": {},
   "outputs": [],
   "source": [
    "options(repr.plot.width = 20, repr.plot.height = 10)"
   ]
  },
  {
   "cell_type": "code",
   "execution_count": 32,
   "metadata": {},
   "outputs": [
    {
     "data": {
      "image/png": "[encoded data removed]",
      "text/plain": [
       "Plot with title \"Variances\""
      ]
     },
     "metadata": {},
     "output_type": "display_data"
    }
   ],
   "source": [
    "barplot(eig.decathlon2.active[, 2], names.arg=1:nrow(eig.decathlon2.active), \n",
    "       main = \"Variances\",\n",
    "       xlab = \"Principal Components\",\n",
    "       ylab = \"Percentage of variances\",\n",
    "       col =\"steelblue\")\n",
    "# Add connected line segments to the plot\n",
    "lines(x = 1:nrow(eig.decathlon2.active), \n",
    "      eig.decathlon2.active[, 2], \n",
    "      type=\"b\", pch=19, col = \"red\")"
   ]
  },
  {
   "cell_type": "code",
   "execution_count": 33,
   "metadata": {
    "scrolled": false
   },
   "outputs": [
    {
     "data": {},
     "metadata": {},
     "output_type": "display_data"
    },
    {
     "data": {
      "image/png": "[encoded data removed]",
      "text/plain": [
       "plot without title"
      ]
     },
     "metadata": {},
     "output_type": "display_data"
    }
   ],
   "source": [
    "fviz_screeplot(res.pca, ncp=54)"
   ]
  },
  {
   "cell_type": "code",
   "execution_count": 34,
   "metadata": {},
   "outputs": [
    {
     "data": {
      "text/plain": [
       "Principal Component Analysis Results for variables\n",
       " ===================================================\n",
       "  Name       Description                                    \n",
       "1 \"$coord\"   \"Coordinates for the variables\"                \n",
       "2 \"$cor\"     \"Correlations between variables and dimensions\"\n",
       "3 \"$cos2\"    \"Cos2 for the variables\"                       \n",
       "4 \"$contrib\" \"contributions of the variables\"               "
      ]
     },
     "metadata": {},
     "output_type": "display_data"
    }
   ],
   "source": [
    "var <- get_pca_var(res.pca)\n",
    "var"
   ]
  },
  {
   "cell_type": "code",
   "execution_count": 35,
   "metadata": {},
   "outputs": [
    {
     "data": {
      "text/html": [
       "<table>\n",
       "<thead><tr><th></th><th scope=col>Dim.1</th><th scope=col>Dim.2</th><th scope=col>Dim.3</th><th scope=col>Dim.4</th><th scope=col>Dim.5</th><th scope=col>Dim.6</th><th scope=col>Dim.7</th><th scope=col>Dim.8</th><th scope=col>Dim.9</th><th scope=col>Dim.10</th><th scope=col>Dim.11</th><th scope=col>Dim.12</th><th scope=col>Dim.13</th><th scope=col>Dim.14</th><th scope=col>Dim.15</th><th scope=col>Dim.16</th><th scope=col>Dim.17</th></tr></thead>\n",
       "<tbody>\n",
       "\t<tr><th scope=row>PAPI_L1_DCM</th><td>0.9312041    </td><td>-0.23662405  </td><td>-0.22276806  </td><td> 0.04217189  </td><td>-0.0194715606</td><td> 0.05750201  </td><td>-0.076864806 </td><td> 0.04719969  </td><td>-0.020807398 </td><td>-0.037618490 </td><td> 0.0053237033</td><td>-0.0761532252</td><td> 0.0770547343</td><td> 5.191428e-03</td><td>-1.475105e-03</td><td> 1.259268e-04</td><td>-2.443534e-05</td></tr>\n",
       "\t<tr><th scope=row>PAPI_L3_TCM</th><td>0.8454162    </td><td>-0.32641477  </td><td>-0.03563999  </td><td>-0.11962455  </td><td> 0.2667361503</td><td>-0.05219089  </td><td> 0.009712371 </td><td>-0.07095595  </td><td> 0.282310317 </td><td>-0.042663583 </td><td> 0.0076438833</td><td>-0.0475457853</td><td>-0.0169227337</td><td>-3.285510e-03</td><td> 2.827690e-03</td><td>-7.507464e-06</td><td>-2.372523e-05</td></tr>\n",
       "\t<tr><th scope=row>PAPI_TOT_INS</th><td>0.8795822    </td><td> 0.44194634  </td><td> 0.01520805  </td><td> 0.04905856  </td><td>-0.0006621202</td><td>-0.09492073  </td><td> 0.053859579 </td><td>-0.06466237  </td><td>-0.028664952 </td><td> 0.097768367 </td><td> 0.0189403208</td><td>-0.0124377934</td><td> 0.0133946054</td><td>-3.117193e-02</td><td> 1.559762e-02</td><td> 8.733600e-05</td><td>-1.426929e-05</td></tr>\n",
       "\t<tr><th scope=row>PAPI_REF_CYC</th><td>0.8544174    </td><td>-0.25047012  </td><td>-0.05067422  </td><td>-0.26639391  </td><td> 0.3102124840</td><td>-0.04045835  </td><td> 0.105175104 </td><td> 0.05358754  </td><td>-0.039420109 </td><td>-0.028867943 </td><td>-0.0159992556</td><td> 0.1366020157</td><td> 0.0243341717</td><td>-2.071162e-03</td><td> 3.613864e-04</td><td> 5.315272e-05</td><td> 2.412479e-05</td></tr>\n",
       "\t<tr><th scope=row>PAPI_L2_LDM</th><td>0.7993244    </td><td>-0.40632720  </td><td>-0.06898729  </td><td> 0.16037570  </td><td>-0.0744112852</td><td>-0.21554828  </td><td>-0.333817856 </td><td>-0.01034253  </td><td>-0.024538142 </td><td> 0.018961072 </td><td> 0.0007140786</td><td> 0.0208984675</td><td>-0.0127614333</td><td>-1.197470e-02</td><td>-1.426011e-02</td><td>-7.155477e-03</td><td> 4.503930e-05</td></tr>\n",
       "\t<tr><th scope=row>PAPI_SR_INS</th><td>0.9149021    </td><td> 0.28853650  </td><td> 0.08818642  </td><td> 0.08554797  </td><td>-0.0570284201</td><td>-0.05103715  </td><td> 0.059893337 </td><td> 0.12832186  </td><td> 0.035891235 </td><td> 0.023670159 </td><td> 0.1903683394</td><td> 0.0217165720</td><td>-0.0041644929</td><td> 1.050636e-02</td><td>-2.640828e-03</td><td>-5.074717e-05</td><td>-1.442865e-06</td></tr>\n",
       "\t<tr><th scope=row>PAPI_BR_UCN</th><td>0.6140778    </td><td> 0.03902019  </td><td> 0.16201266  </td><td>-0.63690066  </td><td>-0.4093080842</td><td> 0.04655768  </td><td>-0.129955322 </td><td>-0.05125586  </td><td> 0.015828421 </td><td>-0.003501985 </td><td> 0.0035876238</td><td>-0.0018080493</td><td>-0.0003515955</td><td> 8.274923e-05</td><td> 8.486549e-05</td><td>-1.859134e-06</td><td> 2.014117e-05</td></tr>\n",
       "\t<tr><th scope=row>PAPI_BR_CN</th><td>0.9124761    </td><td> 0.29746605  </td><td> 0.13458767  </td><td> 0.07349457  </td><td>-0.0768983070</td><td>-0.06370677  </td><td> 0.080144746 </td><td> 0.16182858  </td><td> 0.053662377 </td><td> 0.049460799 </td><td>-0.0861069632</td><td>-0.0002947573</td><td>-0.0022714645</td><td> 5.401451e-03</td><td>-3.327140e-03</td><td>-7.969891e-05</td><td>-4.055582e-03</td></tr>\n",
       "\t<tr><th scope=row>PAPI_BR_TKN</th><td>0.9119385    </td><td> 0.29861562  </td><td> 0.13328459  </td><td> 0.07887970  </td><td>-0.0763790929</td><td>-0.06170859  </td><td> 0.080205373 </td><td> 0.16151698  </td><td> 0.056224340 </td><td> 0.049342069 </td><td>-0.0859694276</td><td>-0.0014343900</td><td>-0.0018427736</td><td> 5.538742e-03</td><td>-2.934687e-03</td><td> 5.748718e-05</td><td> 4.055186e-03</td></tr>\n",
       "\t<tr><th scope=row>PAPI_BR_MSP</th><td>0.8527121    </td><td>-0.20148650  </td><td> 0.18504938  </td><td>-0.19947361  </td><td> 0.3112380550</td><td> 0.05353630  </td><td>-0.004236896 </td><td> 0.11540395  </td><td>-0.191133057 </td><td>-0.003901656 </td><td> 0.0062006329</td><td>-0.0866866165</td><td>-0.0328757789</td><td> 3.557531e-05</td><td> 2.866790e-04</td><td>-6.429777e-05</td><td> 1.619294e-05</td></tr>\n",
       "\t<tr><th scope=row>PAPI_FP_OPS</th><td>0.6741563    </td><td> 0.58791309  </td><td>-0.24808888  </td><td>-0.08369808  </td><td> 0.1667580796</td><td>-0.11184562  </td><td> 0.017747952 </td><td>-0.28232051  </td><td>-0.045415659 </td><td> 0.091107685 </td><td>-0.0122550729</td><td>-0.0100910230</td><td>-0.0017255497</td><td> 1.679214e-02</td><td>-8.958602e-03</td><td>-5.566102e-05</td><td> 9.929578e-06</td></tr>\n",
       "\t<tr><th scope=row>PAPI_L1_LDM</th><td>0.8780384    </td><td>-0.22826149  </td><td>-0.11804434  </td><td> 0.16971723  </td><td>-0.0607975073</td><td>-0.07602916  </td><td>-0.348961636 </td><td>-0.01606580  </td><td>-0.028577343 </td><td>-0.002016489 </td><td>-0.0156222586</td><td> 0.0299033735</td><td>-0.0175013888</td><td> 1.169104e-02</td><td> 1.543469e-02</td><td> 7.582299e-03</td><td>-3.597581e-05</td></tr>\n",
       "\t<tr><th scope=row>PAPI_L1_STM</th><td>0.8279740    </td><td>-0.33861789  </td><td>-0.28092857  </td><td> 0.07820098  </td><td>-0.1738551173</td><td> 0.16411046  </td><td> 0.234645687 </td><td>-0.03514491  </td><td>-0.021459325 </td><td>-0.003355099 </td><td> 0.0041827705</td><td> 0.0018871538</td><td>-0.0181707375</td><td>-1.375784e-02</td><td>-1.552812e-02</td><td> 7.460850e-03</td><td> 4.737113e-06</td></tr>\n",
       "\t<tr><th scope=row>PAPI_LD_INS</th><td>0.7831192    </td><td> 0.42152422  </td><td> 0.29370669  </td><td> 0.15637230  </td><td>-0.0586119867</td><td>-0.13030959  </td><td> 0.071240479 </td><td>-0.12476690  </td><td>-0.045386339 </td><td>-0.234630775 </td><td>-0.0121250913</td><td> 0.0016982916</td><td>-0.0007803785</td><td>-2.160812e-03</td><td>-1.050893e-03</td><td> 1.015859e-05</td><td> 2.196086e-06</td></tr>\n",
       "\t<tr><th scope=row>PAPI_L2_STM</th><td>0.7674274    </td><td>-0.44722967  </td><td>-0.25335437  </td><td> 0.08058991  </td><td>-0.2056232455</td><td> 0.06540620  </td><td> 0.296494629 </td><td>-0.05906108  </td><td>-0.039736038 </td><td>-0.005933045 </td><td>-0.0099387971</td><td> 0.0029148295</td><td>-0.0173498161</td><td> 1.101278e-02</td><td> 1.433900e-02</td><td>-7.220500e-03</td><td>-4.466496e-07</td></tr>\n",
       "\t<tr><th scope=row>PAPI_TLB_DM</th><td>0.5047950    </td><td>-0.42927564  </td><td> 0.63762665  </td><td> 0.18873302  </td><td> 0.0273038548</td><td> 0.28468685  </td><td>-0.002339979 </td><td>-0.17083728  </td><td> 0.008951147 </td><td> 0.084258376 </td><td> 0.0006930585</td><td> 0.0177097480</td><td> 0.0148822285</td><td> 3.898213e-03</td><td>-1.790322e-03</td><td> 9.704913e-06</td><td>-6.371990e-06</td></tr>\n",
       "\t<tr><th scope=row>PAPI_L2_DCH</th><td>0.5213577    </td><td> 0.57683148  </td><td>-0.21795061  </td><td> 0.04823805  </td><td> 0.0775154950</td><td> 0.54129965  </td><td>-0.204632459 </td><td> 0.03625911  </td><td> 0.027613242 </td><td>-0.043737206 </td><td>-0.0084031845</td><td> 0.0227202363</td><td>-0.0115437087</td><td>-3.628817e-03</td><td> 4.829024e-04</td><td>-3.183931e-03</td><td>-1.445673e-06</td></tr>\n",
       "</tbody>\n",
       "</table>\n"
      ],
      "text/latex": [
       "\\begin{tabular}{r|lllllllllllllllll}\n",
       "  & Dim.1 & Dim.2 & Dim.3 & Dim.4 & Dim.5 & Dim.6 & Dim.7 & Dim.8 & Dim.9 & Dim.10 & Dim.11 & Dim.12 & Dim.13 & Dim.14 & Dim.15 & Dim.16 & Dim.17\\\\\n",
       "\\hline\n",
       "\tPAPI\\_L1\\_DCM & 0.9312041     & -0.23662405   & -0.22276806   &  0.04217189   & -0.0194715606 &  0.05750201   & -0.076864806  &  0.04719969   & -0.020807398  & -0.037618490  &  0.0053237033 & -0.0761532252 &  0.0770547343 &  5.191428e-03 & -1.475105e-03 &  1.259268e-04 & -2.443534e-05\\\\\n",
       "\tPAPI\\_L3\\_TCM & 0.8454162     & -0.32641477   & -0.03563999   & -0.11962455   &  0.2667361503 & -0.05219089   &  0.009712371  & -0.07095595   &  0.282310317  & -0.042663583  &  0.0076438833 & -0.0475457853 & -0.0169227337 & -3.285510e-03 &  2.827690e-03 & -7.507464e-06 & -2.372523e-05\\\\\n",
       "\tPAPI\\_TOT\\_INS & 0.8795822     &  0.44194634   &  0.01520805   &  0.04905856   & -0.0006621202 & -0.09492073   &  0.053859579  & -0.06466237   & -0.028664952  &  0.097768367  &  0.0189403208 & -0.0124377934 &  0.0133946054 & -3.117193e-02 &  1.559762e-02 &  8.733600e-05 & -1.426929e-05\\\\\n",
       "\tPAPI\\_REF\\_CYC & 0.8544174     & -0.25047012   & -0.05067422   & -0.26639391   &  0.3102124840 & -0.04045835   &  0.105175104  &  0.05358754   & -0.039420109  & -0.028867943  & -0.0159992556 &  0.1366020157 &  0.0243341717 & -2.071162e-03 &  3.613864e-04 &  5.315272e-05 &  2.412479e-05\\\\\n",
       "\tPAPI\\_L2\\_LDM & 0.7993244     & -0.40632720   & -0.06898729   &  0.16037570   & -0.0744112852 & -0.21554828   & -0.333817856  & -0.01034253   & -0.024538142  &  0.018961072  &  0.0007140786 &  0.0208984675 & -0.0127614333 & -1.197470e-02 & -1.426011e-02 & -7.155477e-03 &  4.503930e-05\\\\\n",
       "\tPAPI\\_SR\\_INS & 0.9149021     &  0.28853650   &  0.08818642   &  0.08554797   & -0.0570284201 & -0.05103715   &  0.059893337  &  0.12832186   &  0.035891235  &  0.023670159  &  0.1903683394 &  0.0217165720 & -0.0041644929 &  1.050636e-02 & -2.640828e-03 & -5.074717e-05 & -1.442865e-06\\\\\n",
       "\tPAPI\\_BR\\_UCN & 0.6140778     &  0.03902019   &  0.16201266   & -0.63690066   & -0.4093080842 &  0.04655768   & -0.129955322  & -0.05125586   &  0.015828421  & -0.003501985  &  0.0035876238 & -0.0018080493 & -0.0003515955 &  8.274923e-05 &  8.486549e-05 & -1.859134e-06 &  2.014117e-05\\\\\n",
       "\tPAPI\\_BR\\_CN & 0.9124761     &  0.29746605   &  0.13458767   &  0.07349457   & -0.0768983070 & -0.06370677   &  0.080144746  &  0.16182858   &  0.053662377  &  0.049460799  & -0.0861069632 & -0.0002947573 & -0.0022714645 &  5.401451e-03 & -3.327140e-03 & -7.969891e-05 & -4.055582e-03\\\\\n",
       "\tPAPI\\_BR\\_TKN & 0.9119385     &  0.29861562   &  0.13328459   &  0.07887970   & -0.0763790929 & -0.06170859   &  0.080205373  &  0.16151698   &  0.056224340  &  0.049342069  & -0.0859694276 & -0.0014343900 & -0.0018427736 &  5.538742e-03 & -2.934687e-03 &  5.748718e-05 &  4.055186e-03\\\\\n",
       "\tPAPI\\_BR\\_MSP & 0.8527121     & -0.20148650   &  0.18504938   & -0.19947361   &  0.3112380550 &  0.05353630   & -0.004236896  &  0.11540395   & -0.191133057  & -0.003901656  &  0.0062006329 & -0.0866866165 & -0.0328757789 &  3.557531e-05 &  2.866790e-04 & -6.429777e-05 &  1.619294e-05\\\\\n",
       "\tPAPI\\_FP\\_OPS & 0.6741563     &  0.58791309   & -0.24808888   & -0.08369808   &  0.1667580796 & -0.11184562   &  0.017747952  & -0.28232051   & -0.045415659  &  0.091107685  & -0.0122550729 & -0.0100910230 & -0.0017255497 &  1.679214e-02 & -8.958602e-03 & -5.566102e-05 &  9.929578e-06\\\\\n",
       "\tPAPI\\_L1\\_LDM & 0.8780384     & -0.22826149   & -0.11804434   &  0.16971723   & -0.0607975073 & -0.07602916   & -0.348961636  & -0.01606580   & -0.028577343  & -0.002016489  & -0.0156222586 &  0.0299033735 & -0.0175013888 &  1.169104e-02 &  1.543469e-02 &  7.582299e-03 & -3.597581e-05\\\\\n",
       "\tPAPI\\_L1\\_STM & 0.8279740     & -0.33861789   & -0.28092857   &  0.07820098   & -0.1738551173 &  0.16411046   &  0.234645687  & -0.03514491   & -0.021459325  & -0.003355099  &  0.0041827705 &  0.0018871538 & -0.0181707375 & -1.375784e-02 & -1.552812e-02 &  7.460850e-03 &  4.737113e-06\\\\\n",
       "\tPAPI\\_LD\\_INS & 0.7831192     &  0.42152422   &  0.29370669   &  0.15637230   & -0.0586119867 & -0.13030959   &  0.071240479  & -0.12476690   & -0.045386339  & -0.234630775  & -0.0121250913 &  0.0016982916 & -0.0007803785 & -2.160812e-03 & -1.050893e-03 &  1.015859e-05 &  2.196086e-06\\\\\n",
       "\tPAPI\\_L2\\_STM & 0.7674274     & -0.44722967   & -0.25335437   &  0.08058991   & -0.2056232455 &  0.06540620   &  0.296494629  & -0.05906108   & -0.039736038  & -0.005933045  & -0.0099387971 &  0.0029148295 & -0.0173498161 &  1.101278e-02 &  1.433900e-02 & -7.220500e-03 & -4.466496e-07\\\\\n",
       "\tPAPI\\_TLB\\_DM & 0.5047950     & -0.42927564   &  0.63762665   &  0.18873302   &  0.0273038548 &  0.28468685   & -0.002339979  & -0.17083728   &  0.008951147  &  0.084258376  &  0.0006930585 &  0.0177097480 &  0.0148822285 &  3.898213e-03 & -1.790322e-03 &  9.704913e-06 & -6.371990e-06\\\\\n",
       "\tPAPI\\_L2\\_DCH & 0.5213577     &  0.57683148   & -0.21795061   &  0.04823805   &  0.0775154950 &  0.54129965   & -0.204632459  &  0.03625911   &  0.027613242  & -0.043737206  & -0.0084031845 &  0.0227202363 & -0.0115437087 & -3.628817e-03 &  4.829024e-04 & -3.183931e-03 & -1.445673e-06\\\\\n",
       "\\end{tabular}\n"
      ],
      "text/markdown": [
       "\n",
       "| <!--/--> | Dim.1 | Dim.2 | Dim.3 | Dim.4 | Dim.5 | Dim.6 | Dim.7 | Dim.8 | Dim.9 | Dim.10 | Dim.11 | Dim.12 | Dim.13 | Dim.14 | Dim.15 | Dim.16 | Dim.17 | \n",
       "|---|---|---|---|---|---|---|---|---|---|---|---|---|---|---|---|---|\n",
       "| PAPI_L1_DCM | 0.9312041     | -0.23662405   | -0.22276806   |  0.04217189   | -0.0194715606 |  0.05750201   | -0.076864806  |  0.04719969   | -0.020807398  | -0.037618490  |  0.0053237033 | -0.0761532252 |  0.0770547343 |  5.191428e-03 | -1.475105e-03 |  1.259268e-04 | -2.443534e-05 | \n",
       "| PAPI_L3_TCM | 0.8454162     | -0.32641477   | -0.03563999   | -0.11962455   |  0.2667361503 | -0.05219089   |  0.009712371  | -0.07095595   |  0.282310317  | -0.042663583  |  0.0076438833 | -0.0475457853 | -0.0169227337 | -3.285510e-03 |  2.827690e-03 | -7.507464e-06 | -2.372523e-05 | \n",
       "| PAPI_TOT_INS | 0.8795822     |  0.44194634   |  0.01520805   |  0.04905856   | -0.0006621202 | -0.09492073   |  0.053859579  | -0.06466237   | -0.028664952  |  0.097768367  |  0.0189403208 | -0.0124377934 |  0.0133946054 | -3.117193e-02 |  1.559762e-02 |  8.733600e-05 | -1.426929e-05 | \n",
       "| PAPI_REF_CYC | 0.8544174     | -0.25047012   | -0.05067422   | -0.26639391   |  0.3102124840 | -0.04045835   |  0.105175104  |  0.05358754   | -0.039420109  | -0.028867943  | -0.0159992556 |  0.1366020157 |  0.0243341717 | -2.071162e-03 |  3.613864e-04 |  5.315272e-05 |  2.412479e-05 | \n",
       "| PAPI_L2_LDM | 0.7993244     | -0.40632720   | -0.06898729   |  0.16037570   | -0.0744112852 | -0.21554828   | -0.333817856  | -0.01034253   | -0.024538142  |  0.018961072  |  0.0007140786 |  0.0208984675 | -0.0127614333 | -1.197470e-02 | -1.426011e-02 | -7.155477e-03 |  4.503930e-05 | \n",
       "| PAPI_SR_INS | 0.9149021     |  0.28853650   |  0.08818642   |  0.08554797   | -0.0570284201 | -0.05103715   |  0.059893337  |  0.12832186   |  0.035891235  |  0.023670159  |  0.1903683394 |  0.0217165720 | -0.0041644929 |  1.050636e-02 | -2.640828e-03 | -5.074717e-05 | -1.442865e-06 | \n",
       "| PAPI_BR_UCN | 0.6140778     |  0.03902019   |  0.16201266   | -0.63690066   | -0.4093080842 |  0.04655768   | -0.129955322  | -0.05125586   |  0.015828421  | -0.003501985  |  0.0035876238 | -0.0018080493 | -0.0003515955 |  8.274923e-05 |  8.486549e-05 | -1.859134e-06 |  2.014117e-05 | \n",
       "| PAPI_BR_CN | 0.9124761     |  0.29746605   |  0.13458767   |  0.07349457   | -0.0768983070 | -0.06370677   |  0.080144746  |  0.16182858   |  0.053662377  |  0.049460799  | -0.0861069632 | -0.0002947573 | -0.0022714645 |  5.401451e-03 | -3.327140e-03 | -7.969891e-05 | -4.055582e-03 | \n",
       "| PAPI_BR_TKN | 0.9119385     |  0.29861562   |  0.13328459   |  0.07887970   | -0.0763790929 | -0.06170859   |  0.080205373  |  0.16151698   |  0.056224340  |  0.049342069  | -0.0859694276 | -0.0014343900 | -0.0018427736 |  5.538742e-03 | -2.934687e-03 |  5.748718e-05 |  4.055186e-03 | \n",
       "| PAPI_BR_MSP | 0.8527121     | -0.20148650   |  0.18504938   | -0.19947361   |  0.3112380550 |  0.05353630   | -0.004236896  |  0.11540395   | -0.191133057  | -0.003901656  |  0.0062006329 | -0.0866866165 | -0.0328757789 |  3.557531e-05 |  2.866790e-04 | -6.429777e-05 |  1.619294e-05 | \n",
       "| PAPI_FP_OPS | 0.6741563     |  0.58791309   | -0.24808888   | -0.08369808   |  0.1667580796 | -0.11184562   |  0.017747952  | -0.28232051   | -0.045415659  |  0.091107685  | -0.0122550729 | -0.0100910230 | -0.0017255497 |  1.679214e-02 | -8.958602e-03 | -5.566102e-05 |  9.929578e-06 | \n",
       "| PAPI_L1_LDM | 0.8780384     | -0.22826149   | -0.11804434   |  0.16971723   | -0.0607975073 | -0.07602916   | -0.348961636  | -0.01606580   | -0.028577343  | -0.002016489  | -0.0156222586 |  0.0299033735 | -0.0175013888 |  1.169104e-02 |  1.543469e-02 |  7.582299e-03 | -3.597581e-05 | \n",
       "| PAPI_L1_STM | 0.8279740     | -0.33861789   | -0.28092857   |  0.07820098   | -0.1738551173 |  0.16411046   |  0.234645687  | -0.03514491   | -0.021459325  | -0.003355099  |  0.0041827705 |  0.0018871538 | -0.0181707375 | -1.375784e-02 | -1.552812e-02 |  7.460850e-03 |  4.737113e-06 | \n",
       "| PAPI_LD_INS | 0.7831192     |  0.42152422   |  0.29370669   |  0.15637230   | -0.0586119867 | -0.13030959   |  0.071240479  | -0.12476690   | -0.045386339  | -0.234630775  | -0.0121250913 |  0.0016982916 | -0.0007803785 | -2.160812e-03 | -1.050893e-03 |  1.015859e-05 |  2.196086e-06 | \n",
       "| PAPI_L2_STM | 0.7674274     | -0.44722967   | -0.25335437   |  0.08058991   | -0.2056232455 |  0.06540620   |  0.296494629  | -0.05906108   | -0.039736038  | -0.005933045  | -0.0099387971 |  0.0029148295 | -0.0173498161 |  1.101278e-02 |  1.433900e-02 | -7.220500e-03 | -4.466496e-07 | \n",
       "| PAPI_TLB_DM | 0.5047950     | -0.42927564   |  0.63762665   |  0.18873302   |  0.0273038548 |  0.28468685   | -0.002339979  | -0.17083728   |  0.008951147  |  0.084258376  |  0.0006930585 |  0.0177097480 |  0.0148822285 |  3.898213e-03 | -1.790322e-03 |  9.704913e-06 | -6.371990e-06 | \n",
       "| PAPI_L2_DCH | 0.5213577     |  0.57683148   | -0.21795061   |  0.04823805   |  0.0775154950 |  0.54129965   | -0.204632459  |  0.03625911   |  0.027613242  | -0.043737206  | -0.0084031845 |  0.0227202363 | -0.0115437087 | -3.628817e-03 |  4.829024e-04 | -3.183931e-03 | -1.445673e-06 | \n",
       "\n",
       "\n"
      ],
      "text/plain": [
       "             Dim.1     Dim.2       Dim.3       Dim.4       Dim.5        \n",
       "PAPI_L1_DCM  0.9312041 -0.23662405 -0.22276806  0.04217189 -0.0194715606\n",
       "PAPI_L3_TCM  0.8454162 -0.32641477 -0.03563999 -0.11962455  0.2667361503\n",
       "PAPI_TOT_INS 0.8795822  0.44194634  0.01520805  0.04905856 -0.0006621202\n",
       "PAPI_REF_CYC 0.8544174 -0.25047012 -0.05067422 -0.26639391  0.3102124840\n",
       "PAPI_L2_LDM  0.7993244 -0.40632720 -0.06898729  0.16037570 -0.0744112852\n",
       "PAPI_SR_INS  0.9149021  0.28853650  0.08818642  0.08554797 -0.0570284201\n",
       "PAPI_BR_UCN  0.6140778  0.03902019  0.16201266 -0.63690066 -0.4093080842\n",
       "PAPI_BR_CN   0.9124761  0.29746605  0.13458767  0.07349457 -0.0768983070\n",
       "PAPI_BR_TKN  0.9119385  0.29861562  0.13328459  0.07887970 -0.0763790929\n",
       "PAPI_BR_MSP  0.8527121 -0.20148650  0.18504938 -0.19947361  0.3112380550\n",
       "PAPI_FP_OPS  0.6741563  0.58791309 -0.24808888 -0.08369808  0.1667580796\n",
       "PAPI_L1_LDM  0.8780384 -0.22826149 -0.11804434  0.16971723 -0.0607975073\n",
       "PAPI_L1_STM  0.8279740 -0.33861789 -0.28092857  0.07820098 -0.1738551173\n",
       "PAPI_LD_INS  0.7831192  0.42152422  0.29370669  0.15637230 -0.0586119867\n",
       "PAPI_L2_STM  0.7674274 -0.44722967 -0.25335437  0.08058991 -0.2056232455\n",
       "PAPI_TLB_DM  0.5047950 -0.42927564  0.63762665  0.18873302  0.0273038548\n",
       "PAPI_L2_DCH  0.5213577  0.57683148 -0.21795061  0.04823805  0.0775154950\n",
       "             Dim.6       Dim.7        Dim.8       Dim.9        Dim.10      \n",
       "PAPI_L1_DCM   0.05750201 -0.076864806  0.04719969 -0.020807398 -0.037618490\n",
       "PAPI_L3_TCM  -0.05219089  0.009712371 -0.07095595  0.282310317 -0.042663583\n",
       "PAPI_TOT_INS -0.09492073  0.053859579 -0.06466237 -0.028664952  0.097768367\n",
       "PAPI_REF_CYC -0.04045835  0.105175104  0.05358754 -0.039420109 -0.028867943\n",
       "PAPI_L2_LDM  -0.21554828 -0.333817856 -0.01034253 -0.024538142  0.018961072\n",
       "PAPI_SR_INS  -0.05103715  0.059893337  0.12832186  0.035891235  0.023670159\n",
       "PAPI_BR_UCN   0.04655768 -0.129955322 -0.05125586  0.015828421 -0.003501985\n",
       "PAPI_BR_CN   -0.06370677  0.080144746  0.16182858  0.053662377  0.049460799\n",
       "PAPI_BR_TKN  -0.06170859  0.080205373  0.16151698  0.056224340  0.049342069\n",
       "PAPI_BR_MSP   0.05353630 -0.004236896  0.11540395 -0.191133057 -0.003901656\n",
       "PAPI_FP_OPS  -0.11184562  0.017747952 -0.28232051 -0.045415659  0.091107685\n",
       "PAPI_L1_LDM  -0.07602916 -0.348961636 -0.01606580 -0.028577343 -0.002016489\n",
       "PAPI_L1_STM   0.16411046  0.234645687 -0.03514491 -0.021459325 -0.003355099\n",
       "PAPI_LD_INS  -0.13030959  0.071240479 -0.12476690 -0.045386339 -0.234630775\n",
       "PAPI_L2_STM   0.06540620  0.296494629 -0.05906108 -0.039736038 -0.005933045\n",
       "PAPI_TLB_DM   0.28468685 -0.002339979 -0.17083728  0.008951147  0.084258376\n",
       "PAPI_L2_DCH   0.54129965 -0.204632459  0.03625911  0.027613242 -0.043737206\n",
       "             Dim.11        Dim.12        Dim.13        Dim.14       \n",
       "PAPI_L1_DCM   0.0053237033 -0.0761532252  0.0770547343  5.191428e-03\n",
       "PAPI_L3_TCM   0.0076438833 -0.0475457853 -0.0169227337 -3.285510e-03\n",
       "PAPI_TOT_INS  0.0189403208 -0.0124377934  0.0133946054 -3.117193e-02\n",
       "PAPI_REF_CYC -0.0159992556  0.1366020157  0.0243341717 -2.071162e-03\n",
       "PAPI_L2_LDM   0.0007140786  0.0208984675 -0.0127614333 -1.197470e-02\n",
       "PAPI_SR_INS   0.1903683394  0.0217165720 -0.0041644929  1.050636e-02\n",
       "PAPI_BR_UCN   0.0035876238 -0.0018080493 -0.0003515955  8.274923e-05\n",
       "PAPI_BR_CN   -0.0861069632 -0.0002947573 -0.0022714645  5.401451e-03\n",
       "PAPI_BR_TKN  -0.0859694276 -0.0014343900 -0.0018427736  5.538742e-03\n",
       "PAPI_BR_MSP   0.0062006329 -0.0866866165 -0.0328757789  3.557531e-05\n",
       "PAPI_FP_OPS  -0.0122550729 -0.0100910230 -0.0017255497  1.679214e-02\n",
       "PAPI_L1_LDM  -0.0156222586  0.0299033735 -0.0175013888  1.169104e-02\n",
       "PAPI_L1_STM   0.0041827705  0.0018871538 -0.0181707375 -1.375784e-02\n",
       "PAPI_LD_INS  -0.0121250913  0.0016982916 -0.0007803785 -2.160812e-03\n",
       "PAPI_L2_STM  -0.0099387971  0.0029148295 -0.0173498161  1.101278e-02\n",
       "PAPI_TLB_DM   0.0006930585  0.0177097480  0.0148822285  3.898213e-03\n",
       "PAPI_L2_DCH  -0.0084031845  0.0227202363 -0.0115437087 -3.628817e-03\n",
       "             Dim.15        Dim.16        Dim.17       \n",
       "PAPI_L1_DCM  -1.475105e-03  1.259268e-04 -2.443534e-05\n",
       "PAPI_L3_TCM   2.827690e-03 -7.507464e-06 -2.372523e-05\n",
       "PAPI_TOT_INS  1.559762e-02  8.733600e-05 -1.426929e-05\n",
       "PAPI_REF_CYC  3.613864e-04  5.315272e-05  2.412479e-05\n",
       "PAPI_L2_LDM  -1.426011e-02 -7.155477e-03  4.503930e-05\n",
       "PAPI_SR_INS  -2.640828e-03 -5.074717e-05 -1.442865e-06\n",
       "PAPI_BR_UCN   8.486549e-05 -1.859134e-06  2.014117e-05\n",
       "PAPI_BR_CN   -3.327140e-03 -7.969891e-05 -4.055582e-03\n",
       "PAPI_BR_TKN  -2.934687e-03  5.748718e-05  4.055186e-03\n",
       "PAPI_BR_MSP   2.866790e-04 -6.429777e-05  1.619294e-05\n",
       "PAPI_FP_OPS  -8.958602e-03 -5.566102e-05  9.929578e-06\n",
       "PAPI_L1_LDM   1.543469e-02  7.582299e-03 -3.597581e-05\n",
       "PAPI_L1_STM  -1.552812e-02  7.460850e-03  4.737113e-06\n",
       "PAPI_LD_INS  -1.050893e-03  1.015859e-05  2.196086e-06\n",
       "PAPI_L2_STM   1.433900e-02 -7.220500e-03 -4.466496e-07\n",
       "PAPI_TLB_DM  -1.790322e-03  9.704913e-06 -6.371990e-06\n",
       "PAPI_L2_DCH   4.829024e-04 -3.183931e-03 -1.445673e-06"
      ]
     },
     "metadata": {},
     "output_type": "display_data"
    }
   ],
   "source": [
    "var$coord\n"
   ]
  },
  {
   "cell_type": "code",
   "execution_count": 36,
   "metadata": {},
   "outputs": [
    {
     "name": "stderr",
     "output_type": "stream",
     "text": [
      "Loading required package: plyr\n",
      "Loading required package: scales\n",
      "Loading required package: grid\n"
     ]
    },
    {
     "data": {
      "image/png": "[encoded data removed]",
      "text/plain": [
       "plot without title"
      ]
     },
     "metadata": {},
     "output_type": "display_data"
    }
   ],
   "source": [
    "library(devtools)\n",
    "library(ggbiplot)\n",
    "g <- ggbiplot(res.pca, obs.scale = 1, var.scale = 1, groups = res.label, ellipse = FALSE, circle = TRUE, var.axes=FALSE)\n",
    "#g <- ggbiplot(res.pca, obs.scale = 1, var.scale = 1, groups = {res.label, res.threads}, ellipse = FALSE, circle = TRUE, var.axes=FALSE)\n",
    "g <- g + scale_color_discrete(name = '')\n",
    "g <- g + theme(legend.direction = 'horizontal', legend.position = 'top')\n",
    "print(g)"
   ]
  },
  {
   "cell_type": "code",
   "execution_count": 37,
   "metadata": {},
   "outputs": [
    {
     "name": "stdout",
     "output_type": "stream",
     "text": [
      "                   PC1         PC2         PC3         PC4\n",
      "PAPI_L1_DCM  0.9312041 -0.23662405 -0.22276806  0.04217189\n",
      "PAPI_L3_TCM  0.8454162 -0.32641477 -0.03563999 -0.11962455\n",
      "PAPI_TOT_INS 0.8795822  0.44194634  0.01520805  0.04905856\n",
      "PAPI_REF_CYC 0.8544174 -0.25047012 -0.05067422 -0.26639391\n",
      "PAPI_L2_LDM  0.7993244 -0.40632720 -0.06898729  0.16037570\n",
      "PAPI_SR_INS  0.9149021  0.28853650  0.08818642  0.08554797\n",
      "PAPI_BR_UCN  0.6140778  0.03902019  0.16201266 -0.63690066\n",
      "PAPI_BR_CN   0.9124761  0.29746605  0.13458767  0.07349457\n",
      "PAPI_BR_TKN  0.9119385  0.29861562  0.13328459  0.07887970\n",
      "PAPI_BR_MSP  0.8527121 -0.20148650  0.18504938 -0.19947361\n",
      "PAPI_FP_OPS  0.6741563  0.58791309 -0.24808888 -0.08369808\n",
      "PAPI_L1_LDM  0.8780384 -0.22826149 -0.11804434  0.16971723\n",
      "PAPI_L1_STM  0.8279740 -0.33861789 -0.28092857  0.07820098\n",
      "PAPI_LD_INS  0.7831192  0.42152422  0.29370669  0.15637230\n",
      "PAPI_L2_STM  0.7674274 -0.44722967 -0.25335437  0.08058991\n",
      "PAPI_TLB_DM  0.5047950 -0.42927564  0.63762665  0.18873302\n",
      "PAPI_L2_DCH  0.5213577  0.57683148 -0.21795061  0.04823805\n"
     ]
    }
   ],
   "source": [
    "# Helper function : \n",
    "# Correlation between variables and principal components\n",
    "var_cor_func <- function(var.loadings, comp.sdev){\n",
    "  var.loadings*comp.sdev\n",
    "  }\n",
    "\n",
    "# Variable correlation/coordinates\n",
    "loadings <- res.pca$rotation\n",
    "sdev <- res.pca$sdev\n",
    "\n",
    "var.coord <- var.cor <- t(apply(loadings, 1, var_cor_func, sdev))\n",
    "print(var.coord[, 1:4])"
   ]
  },
  {
   "cell_type": "code",
   "execution_count": 38,
   "metadata": {},
   "outputs": [
    {
     "name": "stdout",
     "output_type": "stream",
     "text": [
      "                   PC1         PC2          PC3         PC4          PC5\n",
      "PAPI_L1_DCM  0.8671410 0.055990942 0.0496256100 0.001778468 3.791417e-04\n",
      "PAPI_L3_TCM  0.7147285 0.106546600 0.0012702088 0.014310032 7.114817e-02\n",
      "PAPI_TOT_INS 0.7736648 0.195316565 0.0002312847 0.002406743 4.384032e-07\n",
      "PAPI_REF_CYC 0.7300291 0.062735280 0.0025678766 0.070965715 9.623179e-02\n",
      "PAPI_L2_LDM  0.6389195 0.165101797 0.0047592464 0.025720364 5.537039e-03\n",
      "PAPI_SR_INS  0.8370458 0.083253314 0.0077768442 0.007318455 3.252241e-03\n",
      "PAPI_BR_UCN  0.3770915 0.001522576 0.0262481026 0.405642450 1.675331e-01\n",
      "PAPI_BR_CN   0.8326127 0.088486053 0.0181138403 0.005401452 5.913350e-03\n",
      "PAPI_BR_TKN  0.8316318 0.089171286 0.0177647815 0.006222007 5.833766e-03\n",
      "PAPI_BR_MSP  0.7271179 0.040596812 0.0342432745 0.039789722 9.686913e-02\n",
      "PAPI_FP_OPS  0.4544868 0.345641802 0.0615480930 0.007005369 2.780826e-02\n",
      "PAPI_L1_LDM  0.7709515 0.052103308 0.0139344672 0.028803937 3.696337e-03\n",
      "PAPI_L1_STM  0.6855410 0.114662077 0.0789208638 0.006115394 3.022560e-02\n",
      "PAPI_LD_INS  0.6132757 0.177682665 0.0862636203 0.024452295 3.435365e-03\n",
      "PAPI_L2_STM  0.5889448 0.200014382 0.0641884350 0.006494734 4.228092e-02\n",
      "PAPI_TLB_DM  0.2548180 0.184277574 0.4065677509 0.035620152 7.455005e-04\n",
      "PAPI_L2_DCH  0.2718139 0.332734551 0.0475024669 0.002326909 6.008652e-03\n",
      "                     PC6          PC7          PC8          PC9         PC10\n",
      "PAPI_L1_DCM  0.003306481 5.908198e-03 0.0022278103 4.329478e-04 1.415151e-03\n",
      "PAPI_L3_TCM  0.002723889 9.433016e-05 0.0050347473 7.969912e-02 1.820181e-03\n",
      "PAPI_TOT_INS 0.009009945 2.900854e-03 0.0041812218 8.216795e-04 9.558654e-03\n",
      "PAPI_REF_CYC 0.001636878 1.106180e-02 0.0028716242 1.553945e-03 8.333581e-04\n",
      "PAPI_L2_LDM  0.046461062 1.114344e-01 0.0001069678 6.021204e-04 3.595222e-04\n",
      "PAPI_SR_INS  0.002604791 3.587212e-03 0.0164664991 1.288181e-03 5.602764e-04\n",
      "PAPI_BR_UCN  0.002167618 1.688839e-02 0.0026271635 2.505389e-04 1.226390e-05\n",
      "PAPI_BR_CN   0.004058552 6.423180e-03 0.0261884877 2.879651e-03 2.446371e-03\n",
      "PAPI_BR_TKN  0.003807950 6.432902e-03 0.0260877335 3.161176e-03 2.434640e-03\n",
      "PAPI_BR_MSP  0.002866136 1.795129e-05 0.0133180709 3.653185e-02 1.522292e-05\n",
      "PAPI_FP_OPS  0.012509443 3.149898e-04 0.0797048729 2.062582e-03 8.300610e-03\n",
      "PAPI_L1_LDM  0.005780433 1.217742e-01 0.0002581101 8.166645e-04 4.066230e-06\n",
      "PAPI_L1_STM  0.026932242 5.505860e-02 0.0012351644 4.605026e-04 1.125669e-05\n",
      "PAPI_LD_INS  0.016980590 5.075206e-03 0.0155667794 2.059920e-03 5.505160e-02\n",
      "PAPI_L2_STM  0.004277971 8.790906e-02 0.0034882107 1.578953e-03 3.520103e-05\n",
      "PAPI_TLB_DM  0.081046601 5.475503e-06 0.0291853762 8.012304e-05 7.099474e-03\n",
      "PAPI_L2_DCH  0.293005314 4.187444e-02 0.0013147230 7.624911e-04 1.912943e-03\n",
      "                     PC11         PC12         PC13         PC14         PC15\n",
      "PAPI_L1_DCM  2.834182e-05 5.799314e-03 5.937432e-03 2.695093e-05 2.175935e-06\n",
      "PAPI_L3_TCM  5.842895e-05 2.260602e-03 2.863789e-04 1.079458e-05 7.995829e-06\n",
      "PAPI_TOT_INS 3.587358e-04 1.546987e-04 1.794155e-04 9.716893e-04 2.432859e-04\n",
      "PAPI_REF_CYC 2.559762e-04 1.866011e-02 5.921519e-04 4.289712e-06 1.306001e-07\n",
      "PAPI_L2_LDM  5.099083e-07 4.367459e-04 1.628542e-04 1.433934e-04 2.033509e-04\n",
      "PAPI_SR_INS  3.624010e-02 4.716095e-04 1.734300e-05 1.103835e-04 6.973974e-06\n",
      "PAPI_BR_UCN  1.287104e-05 3.269042e-06 1.236194e-07 6.847435e-09 7.202151e-09\n",
      "PAPI_BR_CN   7.414409e-03 8.688184e-08 5.159551e-06 2.917567e-05 1.106986e-05\n",
      "PAPI_BR_TKN  7.390742e-03 2.057475e-06 3.395814e-06 3.067767e-05 8.612388e-06\n",
      "PAPI_BR_MSP  3.844785e-05 7.514569e-03 1.080817e-03 1.265603e-09 8.218487e-08\n",
      "PAPI_FP_OPS  1.501868e-04 1.018287e-04 2.977522e-06 2.819760e-04 8.025655e-05\n",
      "PAPI_L1_LDM  2.440550e-04 8.942117e-04 3.062986e-04 1.366803e-04 2.382297e-04\n",
      "PAPI_L1_STM  1.749557e-05 3.561350e-06 3.301757e-04 1.892781e-04 2.411227e-04\n",
      "PAPI_LD_INS  1.470178e-04 2.884194e-06 6.089906e-07 4.669107e-06 1.104376e-06\n",
      "PAPI_L2_STM  9.877969e-05 8.496231e-06 3.010161e-04 1.212813e-04 2.056070e-04\n",
      "PAPI_TLB_DM  4.803300e-07 3.136352e-04 2.214807e-04 1.519606e-05 3.205253e-06\n",
      "PAPI_L2_DCH  7.061351e-05 5.162091e-04 1.332572e-04 1.316831e-05 2.331947e-07\n",
      "                     PC16         PC17\n",
      "PAPI_L1_DCM  1.585757e-08 5.970857e-10\n",
      "PAPI_L3_TCM  5.636202e-11 5.628864e-10\n",
      "PAPI_TOT_INS 7.627577e-09 2.036126e-10\n",
      "PAPI_REF_CYC 2.825212e-09 5.820055e-10\n",
      "PAPI_L2_LDM  5.120085e-05 2.028539e-09\n",
      "PAPI_SR_INS  2.575276e-09 2.081859e-12\n",
      "PAPI_BR_UCN  3.456379e-12 4.056668e-10\n",
      "PAPI_BR_CN   6.351916e-09 1.644775e-05\n",
      "PAPI_BR_TKN  3.304775e-09 1.644454e-05\n",
      "PAPI_BR_MSP  4.134203e-09 2.622113e-10\n",
      "PAPI_FP_OPS  3.098149e-09 9.859651e-11\n",
      "PAPI_L1_LDM  5.749126e-05 1.294259e-09\n",
      "PAPI_L1_STM  5.566428e-05 2.244024e-11\n",
      "PAPI_LD_INS  1.031969e-10 4.822792e-12\n",
      "PAPI_L2_STM  5.213562e-05 1.994958e-13\n",
      "PAPI_TLB_DM  9.418533e-11 4.060226e-11\n",
      "PAPI_L2_DCH  1.013742e-05 2.089971e-12\n"
     ]
    }
   ],
   "source": [
    "var.cos2 <- var.coord^2\n",
    "print(var.cos2)"
   ]
  },
  {
   "cell_type": "code",
   "execution_count": 39,
   "metadata": {
    "scrolled": false
   },
   "outputs": [
    {
     "name": "stdout",
     "output_type": "stream",
     "text": [
      "                  PC1         PC2         PC3        PC4          PC5\n",
      "PAPI_L1_DCM  7.904792  2.43880240  5.38515123  0.2576093 6.687996e-02\n",
      "PAPI_L3_TCM  6.515411  4.64085966  0.13783743  2.0727936 1.255042e+01\n",
      "PAPI_TOT_INS 7.052670  8.50742085  0.02509799  0.3486142 7.733359e-05\n",
      "PAPI_REF_CYC 6.654890  2.73256612  0.27865458 10.2793117 1.697513e+01\n",
      "PAPI_L2_LDM  5.824342  7.19135352  0.51645233  3.7255685 9.767245e-01\n",
      "PAPI_SR_INS  7.630446  3.62627196  0.84390866  1.0600707 5.736898e-01\n",
      "PAPI_BR_UCN  3.437538  0.06631896  2.84832775 58.7568961 2.955256e+01\n",
      "PAPI_BR_CN   7.590035  3.85419480  1.96563365  0.7823949 1.043105e+00\n",
      "PAPI_BR_TKN  7.581093  3.88404156  1.92775535  0.9012514 1.029067e+00\n",
      "PAPI_BR_MSP  6.628352  1.76827891  3.71592836  5.7635007 1.708755e+01\n",
      "PAPI_FP_OPS  4.143067 15.05515042  6.67892623  1.0147205 4.905330e+00\n",
      "PAPI_L1_LDM  7.027936  2.26946837  1.51210662  4.1722209 6.520276e-01\n",
      "PAPI_L1_STM  6.249340  4.99434621  8.56414232  0.8858086 5.331746e+00\n",
      "PAPI_LD_INS  5.590575  7.73933952  9.36094571  3.5418900 6.059926e-01\n",
      "PAPI_L2_STM  5.368777  8.71204405  6.96544445  0.9407556 7.458283e+00\n",
      "PAPI_TLB_DM  2.322901  8.02659455 44.11893019  5.1595428 1.315050e-01\n",
      "PAPI_L2_DCH  2.477835 14.49294815  5.15475715  0.3370504 1.059916e+00\n",
      "                    PC6          PC7         PC8         PC9         PC10\n",
      "PAPI_L1_DCM   0.6368710  1.239236470  0.96918811  0.32060132  1.540370746\n",
      "PAPI_L3_TCM   0.5246562  0.019785620  2.19031986 59.01782983  1.981240507\n",
      "PAPI_TOT_INS  1.7354320  0.608450189  1.81900156  0.60846019 10.404453247\n",
      "PAPI_REF_CYC  0.3152840  2.320197808  1.24927334  1.15070867  0.907097998\n",
      "PAPI_L2_LDM   8.9490021 23.373203595  0.04653536  0.44587498  0.391334643\n",
      "PAPI_SR_INS   0.5017164  0.752412741  7.16359690  0.95390810  0.609852610\n",
      "PAPI_BR_UCN   0.4175113  3.542315631  1.14292300  0.18552605  0.013349075\n",
      "PAPI_BR_CN    0.7817297  1.347253207 11.39305743  2.13240427  2.662838263\n",
      "PAPI_BR_TKN   0.7334605  1.349292302 11.34922523  2.34087635  2.650069423\n",
      "PAPI_BR_MSP   0.5520548  0.003765257  5.79390257 27.05212278  0.016569924\n",
      "PAPI_FP_OPS   2.4094806  0.066068680 34.67486184  1.52735846  9.035091682\n",
      "PAPI_L1_LDM   1.1133863 25.541975539  0.11228838  0.60474659  0.004426031\n",
      "PAPI_L1_STM   5.1874985 11.548465094  0.53734676  0.34100586  0.012252740\n",
      "PAPI_LD_INS   3.2706815  1.064517434  6.77218227  1.52538701 59.922854302\n",
      "PAPI_L2_STM   0.8239927 18.438805201  1.51751355  1.16922705  0.038315799\n",
      "PAPI_TLB_DM  15.6106248  0.001148479 12.69682584  0.05933175  7.727672574\n",
      "PAPI_L2_DCH  56.4366176  8.783106752  0.57195800  0.56463074  2.082210436\n",
      "                     PC11         PC12         PC13         PC14         PC15\n",
      "PAPI_L1_DCM  5.395646e-02 1.561310e+01 62.101273153 1.289757e+00 1.735966e-01\n",
      "PAPI_L3_TCM  1.112356e-01 6.086066e+00  2.995317670 5.165827e-01 6.379090e-01\n",
      "PAPI_TOT_INS 6.829524e-01 4.164849e-01  1.876556713 4.650094e+01 1.940940e+01\n",
      "PAPI_REF_CYC 4.873212e-01 5.023736e+01  6.193483503 2.052875e-01 1.041931e-02\n",
      "PAPI_L2_LDM  9.707510e-04 1.175822e+00  1.703337694 6.862202e+00 1.622338e+01\n",
      "PAPI_SR_INS  6.899303e+01 1.269683e+00  0.181395329 5.282490e+00 5.563852e-01\n",
      "PAPI_BR_UCN  2.450358e-02 8.801023e-03  0.001292970 3.276893e-04 5.745892e-04\n",
      "PAPI_BR_CN   1.411537e+01 2.339061e-04  0.053965196 1.396224e+00 8.831559e-01\n",
      "PAPI_BR_TKN  1.407032e+01 5.539201e-03  0.035517778 1.468103e+00 6.870983e-01\n",
      "PAPI_BR_MSP  7.319608e-02 2.023097e+01 11.304567498 6.056639e-05 6.556727e-03\n",
      "PAPI_FP_OPS  2.859220e-01 2.741467e-01  0.031142739 1.349418e+01 6.402885e+00\n",
      "PAPI_L1_LDM  4.646259e-01 2.407426e+00  3.203663349 6.540942e+00 1.900602e+01\n",
      "PAPI_L1_STM  3.330764e-02 9.587982e-03  3.453400590 9.058047e+00 1.923682e+01\n",
      "PAPI_LD_INS  2.798890e-01 7.764923e-03  0.006369604 2.234437e-01 8.810737e-02\n",
      "PAPI_L2_STM  1.880544e-01 2.287383e-02  3.148412311 5.804010e+00 1.640337e+01\n",
      "PAPI_TLB_DM  9.144406e-04 8.443789e-01  2.316529241 7.272192e-01 2.557158e-01\n",
      "PAPI_L2_DCH  1.344323e-01 1.389755e+00  1.393774662 6.301796e-01 1.860432e-02\n",
      "                     PC16         PC17\n",
      "PAPI_L1_DCM  6.995715e-03 1.814939e-03\n",
      "PAPI_L3_TCM  2.486463e-05 1.710985e-03\n",
      "PAPI_TOT_INS 3.364977e-03 6.189136e-04\n",
      "PAPI_REF_CYC 1.246369e-03 1.769100e-03\n",
      "PAPI_L2_LDM  2.258773e+01 6.166073e-03\n",
      "PAPI_SR_INS  1.136107e-03 6.328149e-06\n",
      "PAPI_BR_UCN  1.524814e-06 1.233090e-03\n",
      "PAPI_BR_CN   2.802207e-03 4.999560e+01\n",
      "PAPI_BR_TKN  1.457933e-03 4.998584e+01\n",
      "PAPI_BR_MSP  1.823842e-03 7.970337e-04\n",
      "PAPI_FP_OPS  1.366778e-03 2.997001e-04\n",
      "PAPI_L1_LDM  2.536281e+01 3.934110e-03\n",
      "PAPI_L1_STM  2.455682e+01 6.821076e-05\n",
      "PAPI_LD_INS  4.552626e-05 1.465966e-05\n",
      "PAPI_L2_STM  2.300012e+01 6.064000e-07\n",
      "PAPI_TLB_DM  4.155074e-05 1.234172e-04\n",
      "PAPI_L2_DCH  4.472217e+00 6.352805e-06\n"
     ]
    }
   ],
   "source": [
    "comp.cos2 <- apply(var.cos2, 2, sum)\n",
    "\n",
    "contrib <- function(var.cos2, comp.cos2){var.cos2*100/comp.cos2}\n",
    "\n",
    "var.contrib <- t(apply(var.cos2,1, contrib, comp.cos2))\n",
    "print(var.contrib)"
   ]
  },
  {
   "cell_type": "code",
   "execution_count": 40,
   "metadata": {},
   "outputs": [
    {
     "name": "stdout",
     "output_type": "stream",
     "text": [
      " PAPI_L1_DCM  PAPI_SR_INS   PAPI_BR_CN  PAPI_BR_TKN PAPI_TOT_INS  PAPI_L1_LDM \n",
      "    7.904792     7.630446     7.590035     7.581093     7.052670     7.027936 \n",
      "PAPI_REF_CYC  PAPI_BR_MSP  PAPI_L3_TCM  PAPI_L1_STM  PAPI_L2_LDM  PAPI_LD_INS \n",
      "    6.654890     6.628352     6.515411     6.249340     5.824342     5.590575 \n",
      " PAPI_L2_STM  PAPI_FP_OPS  PAPI_BR_UCN  PAPI_L2_DCH  PAPI_TLB_DM \n",
      "    5.368777     4.143067     3.437538     2.477835     2.322901 \n"
     ]
    }
   ],
   "source": [
    "print(sort(var.contrib[,'PC1'],decreasing=TRUE))"
   ]
  },
  {
   "cell_type": "code",
   "execution_count": 41,
   "metadata": {},
   "outputs": [
    {
     "name": "stdout",
     "output_type": "stream",
     "text": [
      " PAPI_FP_OPS  PAPI_L2_DCH  PAPI_L2_STM PAPI_TOT_INS  PAPI_TLB_DM  PAPI_LD_INS \n",
      " 15.05515042  14.49294815   8.71204405   8.50742085   8.02659455   7.73933952 \n",
      " PAPI_L2_LDM  PAPI_L1_STM  PAPI_L3_TCM  PAPI_BR_TKN   PAPI_BR_CN  PAPI_SR_INS \n",
      "  7.19135352   4.99434621   4.64085966   3.88404156   3.85419480   3.62627196 \n",
      "PAPI_REF_CYC  PAPI_L1_DCM  PAPI_L1_LDM  PAPI_BR_MSP  PAPI_BR_UCN \n",
      "  2.73256612   2.43880240   2.26946837   1.76827891   0.06631896 \n"
     ]
    }
   ],
   "source": [
    "print(sort(var.contrib[,'PC2'],decreasing=TRUE))"
   ]
  },
  {
   "cell_type": "code",
   "execution_count": 42,
   "metadata": {},
   "outputs": [
    {
     "name": "stdout",
     "output_type": "stream",
     "text": [
      " PAPI_TLB_DM  PAPI_LD_INS  PAPI_L1_STM  PAPI_L2_STM  PAPI_FP_OPS  PAPI_L1_DCM \n",
      " 44.11893019   9.36094571   8.56414232   6.96544445   6.67892623   5.38515123 \n",
      " PAPI_L2_DCH  PAPI_BR_MSP  PAPI_BR_UCN   PAPI_BR_CN  PAPI_BR_TKN  PAPI_L1_LDM \n",
      "  5.15475715   3.71592836   2.84832775   1.96563365   1.92775535   1.51210662 \n",
      " PAPI_SR_INS  PAPI_L2_LDM PAPI_REF_CYC  PAPI_L3_TCM PAPI_TOT_INS \n",
      "  0.84390866   0.51645233   0.27865458   0.13783743   0.02509799 \n"
     ]
    }
   ],
   "source": [
    "print(sort(var.contrib[,'PC3'],decreasing=TRUE))"
   ]
  },
  {
   "cell_type": "code",
   "execution_count": 43,
   "metadata": {},
   "outputs": [
    {
     "data": {},
     "metadata": {},
     "output_type": "display_data"
    },
    {
     "data": {
      "image/png": "[encoded data removed]",
      "text/plain": [
       "plot without title"
      ]
     },
     "metadata": {},
     "output_type": "display_data"
    }
   ],
   "source": [
    "fviz_pca_var(res.pca, col.var=\"contrib\") + scale_color_gradient2(low=\"white\", mid=\"blue\", high=\"red\", midpoint=50) + theme_minimal()"
   ]
  },
  {
   "cell_type": "code",
   "execution_count": 44,
   "metadata": {
    "scrolled": false
   },
   "outputs": [
    {
     "ename": "ERROR",
     "evalue": "Error in `[.data.frame`(mydata, , 5:61): undefined columns selected\n",
     "output_type": "error",
     "traceback": [
      "Error in `[.data.frame`(mydata, , 5:61): undefined columns selected\nTraceback:\n",
      "1. mydata[, 5:61]",
      "2. `[.data.frame`(mydata, , 5:61)",
      "3. stop(\"undefined columns selected\")"
     ]
    }
   ],
   "source": [
    "new_mydata1 = mydata[,5:61]\n",
    "new_mydata1 <- subset(new_mydata1, select = -c(PAPI_TOT_CYC))\n",
    "new_mydata1 <- subset(new_mydata1, select = -c(PAPI_TLB_DM))\n",
    "new_mydata1 <- subset(new_mydata1, select = -c(PAPI_FP_INS))\n",
    "new_mydata1 <- subset(new_mydata1, select = -c(PAPI_L2_TCW))\n",
    "new_mydata1 <- subset(new_mydata1, select = -c(PAPI_L2_DCW))\n",
    "new_mydata1 <- subset(new_mydata1, select = -c(PAPI_L3_TCA))\n",
    "new_mydata1 <- subset(new_mydata1, select = -c(PAPI_L2_DCA))\n",
    "new_mydata1 <- subset(new_mydata1, select = -c(PAPI_L3_TCW))\n",
    "new_mydata1 <- subset(new_mydata1, select = -c(PAPI_L3_DCW))\n",
    "new_mydata1 <- subset(new_mydata1, select = -c(PAPI_L3_DCA))\n",
    "new_mydata1 <- subset(new_mydata1, select = -c(PAPI_L3_TCR))\n",
    "new_mydata1 <- subset(new_mydata1, select = -c(PAPI_L3_DCR))\n",
    "new_mydata1 <- subset(new_mydata1, select = -c(PAPI_L2_DCR))\n",
    "new_mydata1 <- subset(new_mydata1, select = -c(PAPI_L2_TCR))\n",
    "new_mydata1 <- subset(new_mydata1, select = -c(PAPI_L2_TCA))\n",
    "new_mydata1 <- subset(new_mydata1, select = -c(PAPI_L2_DCM))\n",
    "new_mydata1 <- subset(new_mydata1, select = -c(PAPI_BR_INS))\n",
    "\n",
    "new_mydata1 <- subset(new_mydata1, select = -c(PAPI_L1_ICA))\n",
    "new_mydata1 <- subset(new_mydata1, select = -c(PAPI_L1_ICH))\n",
    "new_mydata1 <- subset(new_mydata1, select = -c(PAPI_L1_ICM))\n",
    "new_mydata1 <- subset(new_mydata1, select = -c(PAPI_L1_ICR))\n",
    "new_mydata1 <- subset(new_mydata1, select = -c(PAPI_L2_ICA))\n",
    "new_mydata1 <- subset(new_mydata1, select = -c(PAPI_L2_ICH))\n",
    "new_mydata1 <- subset(new_mydata1, select = -c(PAPI_L2_ICM))\n",
    "new_mydata1 <- subset(new_mydata1, select = -c(PAPI_L2_ICR))\n",
    "new_mydata1 <- subset(new_mydata1, select = -c(PAPI_L3_ICA))\n",
    "new_mydata1 <- subset(new_mydata1, select = -c(PAPI_L3_ICR))\n",
    "new_mydata1 <- subset(new_mydata1, select = -c(PAPI_L1_TCM))\n",
    "new_mydata1 <- subset(new_mydata1, select = -c(PAPI_L2_TCH))\n",
    "new_mydata1 <- subset(new_mydata1, select = -c(PAPI_L2_TCM))\n",
    "new_mydata1 <- subset(new_mydata1, select = -c(PAPI_TLB_IM))\n",
    "new_mydata1 <- subset(new_mydata1, select = -c(PAPI_RES_STL))\n",
    "new_mydata1 <- subset(new_mydata1, select = -c(PAPI_BR_PRC))\n",
    "new_mydata1 <- subset(new_mydata1, select = -c(PAPI_BR_MSP))\n",
    "\n",
    "\n",
    "\n",
    "\n",
    "new_mydata1 <- subset(new_mydata1, select = -c(PAPI_VEC_DP))\n",
    "new_mydata1 <- subset(new_mydata1, select = -c(PAPI_VEC_SP))\n",
    "\n",
    "my_data_ordered1 <- new_mydata1[,order(colnames(new_mydata1))]\n",
    "\n",
    "\n",
    "options(repr.matrix.max.rows = 100)\n",
    "options(repr.matrix.max.cols = 100)\n",
    "res1 <- cor(my_data_ordered1)\n",
    "dim(res1)\n",
    "round(res1, 2)"
   ]
  },
  {
   "cell_type": "code",
   "execution_count": null,
   "metadata": {},
   "outputs": [],
   "source": [
    "library(corrplot)\n",
    "\n",
    "\n",
    "corrplot(res1, tl.col = \"black\", tl.srt = 90, tl.cex = 0.7, method= \"square\", order = \"AOE\", number.cex = 0.5)"
   ]
  },
  {
   "cell_type": "code",
   "execution_count": null,
   "metadata": {},
   "outputs": [],
   "source": [
    "corrplot(res1, tl.col = \"black\", tl.srt = 90, tl.cex = 0.7, method= \"square\", order = \"hclust\", number.cex = 0.5, addrect=2)"
   ]
  },
  {
   "cell_type": "code",
   "execution_count": null,
   "metadata": {},
   "outputs": [],
   "source": [
    "corrplot(res1, tl.col = \"black\", tl.srt = 90, tl.cex = 0.7, method= \"square\", order = \"hclust\", number.cex = 0.5, addrect=3)"
   ]
  },
  {
   "cell_type": "code",
   "execution_count": null,
   "metadata": {},
   "outputs": [],
   "source": [
    "corrplot(res1, tl.col = \"black\", tl.srt = 90, tl.cex = 0.7, method= \"square\", order = \"hclust\", number.cex = 0.5, addrect=4)"
   ]
  },
  {
   "cell_type": "code",
   "execution_count": null,
   "metadata": {},
   "outputs": [],
   "source": [
    "corrplot(res1, tl.col = \"black\", tl.srt = 90, tl.cex = 0.7, method= \"square\", order = \"hclust\", number.cex = 0.5, addrect=5)"
   ]
  },
  {
   "cell_type": "code",
   "execution_count": null,
   "metadata": {},
   "outputs": [],
   "source": [
    "corrplot(res1, tl.col = \"black\", tl.srt = 90, tl.cex = 0.7, method= \"square\", order = \"hclust\", number.cex = 0.5, addrect=6)"
   ]
  },
  {
   "cell_type": "code",
   "execution_count": null,
   "metadata": {},
   "outputs": [],
   "source": [
    "corrplot(res1, tl.col = \"black\", tl.srt = 90, tl.cex = 0.7, method= \"square\", order = \"hclust\", number.cex = 0.5, addrect=7)"
   ]
  },
  {
   "cell_type": "code",
   "execution_count": null,
   "metadata": {},
   "outputs": [],
   "source": [
    "corrplot(res1, tl.col = \"black\", tl.srt = 90, tl.cex = 0.7, method= \"square\", order = \"hclust\", number.cex = 0.5, addrect=8)"
   ]
  },
  {
   "cell_type": "code",
   "execution_count": null,
   "metadata": {},
   "outputs": [],
   "source": [
    "corrplot(res1, tl.col = \"black\", tl.srt = 90, tl.cex = 0.7, method= \"square\", order = \"hclust\", number.cex = 0.5, addrect=9)"
   ]
  },
  {
   "cell_type": "code",
   "execution_count": null,
   "metadata": {},
   "outputs": [],
   "source": [
    "corrplot(res1, tl.col = \"black\", tl.srt = 90, tl.cex = 0.7, method= \"square\", order = \"hclust\", number.cex = 0.5, addrect=10)"
   ]
  },
  {
   "cell_type": "code",
   "execution_count": null,
   "metadata": {},
   "outputs": [],
   "source": [
    "corrplot(res1, tl.col = \"black\", tl.srt = 90, tl.cex = 0.7, method= \"square\", order = \"hclust\", number.cex = 0.5, addrect=11)"
   ]
  },
  {
   "cell_type": "code",
   "execution_count": null,
   "metadata": {},
   "outputs": [],
   "source": [
    "corrplot(res1, tl.col = \"black\", tl.srt = 90, tl.cex = 0.7, method= \"square\", order = \"hclust\", number.cex = 0.5, addrect=12)"
   ]
  },
  {
   "cell_type": "code",
   "execution_count": null,
   "metadata": {},
   "outputs": [],
   "source": [
    "corrplot(res1, tl.col = \"black\", tl.srt = 90, tl.cex = 0.7, method= \"square\", order = \"hclust\", number.cex = 0.5, addrect=13)"
   ]
  },
  {
   "cell_type": "code",
   "execution_count": null,
   "metadata": {},
   "outputs": [],
   "source": [
    "corrplot(res1, tl.col = \"black\", tl.srt = 90, tl.cex = 0.7, method= \"square\", order = \"hclust\", number.cex = 0.5, addrect=14)"
   ]
  },
  {
   "cell_type": "code",
   "execution_count": null,
   "metadata": {},
   "outputs": [],
   "source": [
    "corrplot(res1, tl.col = \"black\", tl.srt = 90, tl.cex = 0.7, method= \"square\", order = \"hclust\", number.cex = 0.5, addrect=15)"
   ]
  },
  {
   "cell_type": "code",
   "execution_count": null,
   "metadata": {},
   "outputs": [],
   "source": [
    "corrplot(res1, tl.col = \"black\", tl.srt = 90, tl.cex = 0.7, method= \"square\", order = \"hclust\", number.cex = 0.5, addrect=16)"
   ]
  },
  {
   "cell_type": "code",
   "execution_count": null,
   "metadata": {},
   "outputs": [],
   "source": [
    "corrplot(res1, tl.col = \"black\", tl.srt = 90, tl.cex = 0.7, method= \"square\", order = \"hclust\", number.cex = 0.5, addrect=17)"
   ]
  },
  {
   "cell_type": "code",
   "execution_count": null,
   "metadata": {},
   "outputs": [],
   "source": [
    "corrplot(res1, tl.col = \"black\", tl.srt = 90, tl.cex = 0.7, method= \"square\", order = \"FPC\", number.cex = 0.5)"
   ]
  },
  {
   "cell_type": "code",
   "execution_count": null,
   "metadata": {},
   "outputs": [],
   "source": [
    "corrplot(res1, tl.col = \"black\", tl.srt = 90, tl.cex = 0.7, method= \"square\", order = \"alphabet\", number.cex = 0.5)"
   ]
  },
  {
   "cell_type": "code",
   "execution_count": null,
   "metadata": {},
   "outputs": [],
   "source": []
  }
 ],
 "metadata": {
  "kernelspec": {
   "display_name": "R",
   "language": "R",
   "name": "ir"
  },
  "language_info": {
   "codemirror_mode": "r",
   "file_extension": ".r",
   "mimetype": "text/x-r-source",
   "name": "R",
   "pygments_lexer": "r",
   "version": "3.5.1"
  }
 },
 "nbformat": 4,
 "nbformat_minor": 2
}
