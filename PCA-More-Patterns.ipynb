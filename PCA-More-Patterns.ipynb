{
 "cells": [
  {
   "cell_type": "code",
   "execution_count": 1,
   "metadata": {},
   "outputs": [
    {
     "name": "stderr",
     "output_type": "stream",
     "text": [
      "Loading required package: ggplot2\n",
      "Welcome! Want to learn more? See two factoextra-related books at https://goo.gl/ve3WBa\n"
     ]
    }
   ],
   "source": [
    "library(\"factoextra\")\n",
    "options(repr.plot.width=12, repr.plot.height=13)"
   ]
  },
  {
   "cell_type": "code",
   "execution_count": 2,
   "metadata": {},
   "outputs": [
    {
     "data": {
      "text/html": [
       "O2\n",
       "<details>\n",
       "\t<summary style=display:list-item;cursor:pointer>\n",
       "\t\t<strong>Levels</strong>:\n",
       "\t</summary>\n",
       "\t'O2'\n",
       "</details>"
      ],
      "text/latex": [
       "O2\n",
       "\\emph{Levels}: 'O2'"
      ],
      "text/markdown": [
       "O2\n",
       "**Levels**: 'O2'"
      ],
      "text/plain": [
       "[1] O2\n",
       "Levels: O2"
      ]
     },
     "metadata": {},
     "output_type": "display_data"
    }
   ],
   "source": [
    "path=\"C:/Users/Jordi/New_Jupyter/\"\n",
    "setwd(path)\n",
    "mydata = read.csv(\"threads_ideal_data_partial_sp_cl+listR.csv\", sep=\";\")\n",
    "unique(mydata[,\"comp_opt\"])"
   ]
  },
  {
   "cell_type": "code",
   "execution_count": 3,
   "metadata": {},
   "outputs": [
    {
     "data": {
      "text/html": [
       "<ol class=list-inline>\n",
       "\t<li>'id'</li>\n",
       "\t<li>'size_vector'</li>\n",
       "\t<li>'comp_opt'</li>\n",
       "\t<li>'label'</li>\n",
       "\t<li>'threads'</li>\n",
       "\t<li>'PAPI_L1_DCM'</li>\n",
       "\t<li>'PAPI_L3_TCM'</li>\n",
       "\t<li>'PAPI_TOT_INS'</li>\n",
       "\t<li>'PAPI_REF_CYC'</li>\n",
       "\t<li>'PAPI_L2_LDM'</li>\n",
       "\t<li>'PAPI_SR_INS'</li>\n",
       "\t<li>'time_x'</li>\n",
       "\t<li>'PAPI_BR_UCN'</li>\n",
       "\t<li>'PAPI_BR_CN'</li>\n",
       "\t<li>'PAPI_BR_TKN'</li>\n",
       "\t<li>'PAPI_BR_MSP'</li>\n",
       "\t<li>'time_y'</li>\n",
       "\t<li>'PAPI_FP_OPS'</li>\n",
       "\t<li>'PAPI_L1_LDM'</li>\n",
       "\t<li>'PAPI_L1_STM'</li>\n",
       "\t<li>'time_x.1'</li>\n",
       "\t<li>'PAPI_SP_OPS'</li>\n",
       "\t<li>'PAPI_LD_INS'</li>\n",
       "\t<li>'PAPI_L2_STM'</li>\n",
       "\t<li>'time_y.1'</li>\n",
       "\t<li>'PAPI_TLB_DM'</li>\n",
       "\t<li>'PAPI_L2_DCH'</li>\n",
       "\t<li>'time'</li>\n",
       "\t<li>'time_log'</li>\n",
       "\t<li>'P_index'</li>\n",
       "\t<li>'ideal'</li>\n",
       "\t<li>'affinity'</li>\n",
       "\t<li>'T_list'</li>\n",
       "\t<li>'P_list'</li>\n",
       "</ol>\n"
      ],
      "text/latex": [
       "\\begin{enumerate*}\n",
       "\\item 'id'\n",
       "\\item 'size\\_vector'\n",
       "\\item 'comp\\_opt'\n",
       "\\item 'label'\n",
       "\\item 'threads'\n",
       "\\item 'PAPI\\_L1\\_DCM'\n",
       "\\item 'PAPI\\_L3\\_TCM'\n",
       "\\item 'PAPI\\_TOT\\_INS'\n",
       "\\item 'PAPI\\_REF\\_CYC'\n",
       "\\item 'PAPI\\_L2\\_LDM'\n",
       "\\item 'PAPI\\_SR\\_INS'\n",
       "\\item 'time\\_x'\n",
       "\\item 'PAPI\\_BR\\_UCN'\n",
       "\\item 'PAPI\\_BR\\_CN'\n",
       "\\item 'PAPI\\_BR\\_TKN'\n",
       "\\item 'PAPI\\_BR\\_MSP'\n",
       "\\item 'time\\_y'\n",
       "\\item 'PAPI\\_FP\\_OPS'\n",
       "\\item 'PAPI\\_L1\\_LDM'\n",
       "\\item 'PAPI\\_L1\\_STM'\n",
       "\\item 'time\\_x.1'\n",
       "\\item 'PAPI\\_SP\\_OPS'\n",
       "\\item 'PAPI\\_LD\\_INS'\n",
       "\\item 'PAPI\\_L2\\_STM'\n",
       "\\item 'time\\_y.1'\n",
       "\\item 'PAPI\\_TLB\\_DM'\n",
       "\\item 'PAPI\\_L2\\_DCH'\n",
       "\\item 'time'\n",
       "\\item 'time\\_log'\n",
       "\\item 'P\\_index'\n",
       "\\item 'ideal'\n",
       "\\item 'affinity'\n",
       "\\item 'T\\_list'\n",
       "\\item 'P\\_list'\n",
       "\\end{enumerate*}\n"
      ],
      "text/markdown": [
       "1. 'id'\n",
       "2. 'size_vector'\n",
       "3. 'comp_opt'\n",
       "4. 'label'\n",
       "5. 'threads'\n",
       "6. 'PAPI_L1_DCM'\n",
       "7. 'PAPI_L3_TCM'\n",
       "8. 'PAPI_TOT_INS'\n",
       "9. 'PAPI_REF_CYC'\n",
       "10. 'PAPI_L2_LDM'\n",
       "11. 'PAPI_SR_INS'\n",
       "12. 'time_x'\n",
       "13. 'PAPI_BR_UCN'\n",
       "14. 'PAPI_BR_CN'\n",
       "15. 'PAPI_BR_TKN'\n",
       "16. 'PAPI_BR_MSP'\n",
       "17. 'time_y'\n",
       "18. 'PAPI_FP_OPS'\n",
       "19. 'PAPI_L1_LDM'\n",
       "20. 'PAPI_L1_STM'\n",
       "21. 'time_x.1'\n",
       "22. 'PAPI_SP_OPS'\n",
       "23. 'PAPI_LD_INS'\n",
       "24. 'PAPI_L2_STM'\n",
       "25. 'time_y.1'\n",
       "26. 'PAPI_TLB_DM'\n",
       "27. 'PAPI_L2_DCH'\n",
       "28. 'time'\n",
       "29. 'time_log'\n",
       "30. 'P_index'\n",
       "31. 'ideal'\n",
       "32. 'affinity'\n",
       "33. 'T_list'\n",
       "34. 'P_list'\n",
       "\n",
       "\n"
      ],
      "text/plain": [
       " [1] \"id\"           \"size_vector\"  \"comp_opt\"     \"label\"        \"threads\"     \n",
       " [6] \"PAPI_L1_DCM\"  \"PAPI_L3_TCM\"  \"PAPI_TOT_INS\" \"PAPI_REF_CYC\" \"PAPI_L2_LDM\" \n",
       "[11] \"PAPI_SR_INS\"  \"time_x\"       \"PAPI_BR_UCN\"  \"PAPI_BR_CN\"   \"PAPI_BR_TKN\" \n",
       "[16] \"PAPI_BR_MSP\"  \"time_y\"       \"PAPI_FP_OPS\"  \"PAPI_L1_LDM\"  \"PAPI_L1_STM\" \n",
       "[21] \"time_x.1\"     \"PAPI_SP_OPS\"  \"PAPI_LD_INS\"  \"PAPI_L2_STM\"  \"time_y.1\"    \n",
       "[26] \"PAPI_TLB_DM\"  \"PAPI_L2_DCH\"  \"time\"         \"time_log\"     \"P_index\"     \n",
       "[31] \"ideal\"        \"affinity\"     \"T_list\"       \"P_list\"      "
      ]
     },
     "metadata": {},
     "output_type": "display_data"
    }
   ],
   "source": [
    "colnames(mydata)"
   ]
  },
  {
   "cell_type": "code",
   "execution_count": 4,
   "metadata": {},
   "outputs": [],
   "source": [
    "library(stringr)\n",
    "colnames(mydata)<-gsub(x = names(mydata), pattern = \"\\\\.\", replacement = \"_\" )"
   ]
  },
  {
   "cell_type": "code",
   "execution_count": 5,
   "metadata": {},
   "outputs": [],
   "source": [
    "#colnames(mydata)"
   ]
  },
  {
   "cell_type": "code",
   "execution_count": 6,
   "metadata": {},
   "outputs": [],
   "source": [
    "mydata_no_time <- subset(mydata, select = -c(P_list))\n",
    "mydata_no_time <- subset(mydata_no_time, select = -c(T_list))\n",
    "mydata_no_time <- subset(mydata_no_time, select = -c(ideal))\n",
    "mydata_no_time <- subset(mydata_no_time, select = -c(P_index))\n",
    "mydata_no_time <- subset(mydata_no_time, select = -c(time_log))\n",
    "mydata_no_time <- subset(mydata_no_time, select = -c(time))\n",
    "mydata_no_time <- subset(mydata_no_time, select = -c(time_y_1))\n",
    "mydata_no_time <- subset(mydata_no_time, select = -c(time_x_1))\n",
    "mydata_no_time <- subset(mydata_no_time, select = -c(time_x))\n",
    "mydata_no_time <- subset(mydata_no_time, select = -c(time_y))\n",
    "mydata_no_time <- subset(mydata_no_time, select = -c(affinity))\n",
    "\n",
    "\n",
    "\n",
    "\n",
    "mydata_no_time <- subset(mydata_no_time, select = -c(PAPI_SP_OPS))\n",
    "\n"
   ]
  },
  {
   "cell_type": "code",
   "execution_count": 7,
   "metadata": {},
   "outputs": [
    {
     "data": {
      "text/html": [
       "<ol class=list-inline>\n",
       "\t<li>'id'</li>\n",
       "\t<li>'size_vector'</li>\n",
       "\t<li>'comp_opt'</li>\n",
       "\t<li>'label'</li>\n",
       "\t<li>'threads'</li>\n",
       "\t<li>'PAPI_L1_DCM'</li>\n",
       "\t<li>'PAPI_L3_TCM'</li>\n",
       "\t<li>'PAPI_TOT_INS'</li>\n",
       "\t<li>'PAPI_REF_CYC'</li>\n",
       "\t<li>'PAPI_L2_LDM'</li>\n",
       "\t<li>'PAPI_SR_INS'</li>\n",
       "\t<li>'PAPI_BR_UCN'</li>\n",
       "\t<li>'PAPI_BR_CN'</li>\n",
       "\t<li>'PAPI_BR_TKN'</li>\n",
       "\t<li>'PAPI_BR_MSP'</li>\n",
       "\t<li>'PAPI_FP_OPS'</li>\n",
       "\t<li>'PAPI_L1_LDM'</li>\n",
       "\t<li>'PAPI_L1_STM'</li>\n",
       "\t<li>'PAPI_LD_INS'</li>\n",
       "\t<li>'PAPI_L2_STM'</li>\n",
       "\t<li>'PAPI_TLB_DM'</li>\n",
       "\t<li>'PAPI_L2_DCH'</li>\n",
       "</ol>\n"
      ],
      "text/latex": [
       "\\begin{enumerate*}\n",
       "\\item 'id'\n",
       "\\item 'size\\_vector'\n",
       "\\item 'comp\\_opt'\n",
       "\\item 'label'\n",
       "\\item 'threads'\n",
       "\\item 'PAPI\\_L1\\_DCM'\n",
       "\\item 'PAPI\\_L3\\_TCM'\n",
       "\\item 'PAPI\\_TOT\\_INS'\n",
       "\\item 'PAPI\\_REF\\_CYC'\n",
       "\\item 'PAPI\\_L2\\_LDM'\n",
       "\\item 'PAPI\\_SR\\_INS'\n",
       "\\item 'PAPI\\_BR\\_UCN'\n",
       "\\item 'PAPI\\_BR\\_CN'\n",
       "\\item 'PAPI\\_BR\\_TKN'\n",
       "\\item 'PAPI\\_BR\\_MSP'\n",
       "\\item 'PAPI\\_FP\\_OPS'\n",
       "\\item 'PAPI\\_L1\\_LDM'\n",
       "\\item 'PAPI\\_L1\\_STM'\n",
       "\\item 'PAPI\\_LD\\_INS'\n",
       "\\item 'PAPI\\_L2\\_STM'\n",
       "\\item 'PAPI\\_TLB\\_DM'\n",
       "\\item 'PAPI\\_L2\\_DCH'\n",
       "\\end{enumerate*}\n"
      ],
      "text/markdown": [
       "1. 'id'\n",
       "2. 'size_vector'\n",
       "3. 'comp_opt'\n",
       "4. 'label'\n",
       "5. 'threads'\n",
       "6. 'PAPI_L1_DCM'\n",
       "7. 'PAPI_L3_TCM'\n",
       "8. 'PAPI_TOT_INS'\n",
       "9. 'PAPI_REF_CYC'\n",
       "10. 'PAPI_L2_LDM'\n",
       "11. 'PAPI_SR_INS'\n",
       "12. 'PAPI_BR_UCN'\n",
       "13. 'PAPI_BR_CN'\n",
       "14. 'PAPI_BR_TKN'\n",
       "15. 'PAPI_BR_MSP'\n",
       "16. 'PAPI_FP_OPS'\n",
       "17. 'PAPI_L1_LDM'\n",
       "18. 'PAPI_L1_STM'\n",
       "19. 'PAPI_LD_INS'\n",
       "20. 'PAPI_L2_STM'\n",
       "21. 'PAPI_TLB_DM'\n",
       "22. 'PAPI_L2_DCH'\n",
       "\n",
       "\n"
      ],
      "text/plain": [
       " [1] \"id\"           \"size_vector\"  \"comp_opt\"     \"label\"        \"threads\"     \n",
       " [6] \"PAPI_L1_DCM\"  \"PAPI_L3_TCM\"  \"PAPI_TOT_INS\" \"PAPI_REF_CYC\" \"PAPI_L2_LDM\" \n",
       "[11] \"PAPI_SR_INS\"  \"PAPI_BR_UCN\"  \"PAPI_BR_CN\"   \"PAPI_BR_TKN\"  \"PAPI_BR_MSP\" \n",
       "[16] \"PAPI_FP_OPS\"  \"PAPI_L1_LDM\"  \"PAPI_L1_STM\"  \"PAPI_LD_INS\"  \"PAPI_L2_STM\" \n",
       "[21] \"PAPI_TLB_DM\"  \"PAPI_L2_DCH\" "
      ]
     },
     "metadata": {},
     "output_type": "display_data"
    }
   ],
   "source": [
    "colnames(mydata_no_time)"
   ]
  },
  {
   "cell_type": "code",
   "execution_count": 8,
   "metadata": {},
   "outputs": [],
   "source": [
    "#mydata = mydata[mydata$comp_opt != 'NF',]\n",
    "#mydata = mydata[mydata$comp_opt != 'O1',]\n",
    "#mydata = mydata[mydata$label != '2D4PStencil_E',]\n",
    "#mydata = mydata[mydata$label != 'Reduction_E',]\n",
    "#mydata = mydata[mydata$label != '2PStencil_E',]\n",
    "\n",
    "#head(mydata)\n",
    "#unique(mydata[,\"comp_opt\"])"
   ]
  },
  {
   "cell_type": "code",
   "execution_count": 9,
   "metadata": {},
   "outputs": [],
   "source": [
    "#head(mydata)"
   ]
  },
  {
   "cell_type": "code",
   "execution_count": 10,
   "metadata": {},
   "outputs": [
    {
     "data": {
      "text/html": [
       "<ol class=list-inline>\n",
       "\t<li>'1 K'</li>\n",
       "\t<li>'2 K'</li>\n",
       "\t<li>'3 K'</li>\n",
       "\t<li>'4 K'</li>\n",
       "\t<li>'5 K'</li>\n",
       "\t<li>'6 K'</li>\n",
       "\t<li>'7 K'</li>\n",
       "\t<li>'8 K'</li>\n",
       "\t<li>'9 K'</li>\n",
       "\t<li>'10 K'</li>\n",
       "\t<li>'20 K'</li>\n",
       "\t<li>'30 K'</li>\n",
       "\t<li>'40 K'</li>\n",
       "\t<li>'50 K'</li>\n",
       "\t<li>'60 K'</li>\n",
       "\t<li>'70 K'</li>\n",
       "\t<li>'80 K'</li>\n",
       "\t<li>'90 K'</li>\n",
       "\t<li>'100 K'</li>\n",
       "\t<li>'200 K'</li>\n",
       "\t<li>'300 K'</li>\n",
       "\t<li>'400 K'</li>\n",
       "\t<li>'500 K'</li>\n",
       "\t<li>'600 K'</li>\n",
       "\t<li>'700 K'</li>\n",
       "\t<li>'800 K'</li>\n",
       "\t<li>'900 K'</li>\n",
       "\t<li>'1 M'</li>\n",
       "\t<li>'2 M'</li>\n",
       "\t<li>'3 M'</li>\n",
       "\t<li>'5 M'</li>\n",
       "\t<li>'7 M'</li>\n",
       "\t<li>'9 M'</li>\n",
       "\t<li>'20 M'</li>\n",
       "\t<li>'40 M'</li>\n",
       "\t<li>'60 M'</li>\n",
       "\t<li>'80 M'</li>\n",
       "\t<li>'100 M'</li>\n",
       "\t<li>'120 M'</li>\n",
       "\t<li>'140 M'</li>\n",
       "\t<li>'160 M'</li>\n",
       "\t<li>'180 M'</li>\n",
       "\t<li>'200 M'</li>\n",
       "</ol>\n"
      ],
      "text/latex": [
       "\\begin{enumerate*}\n",
       "\\item '1 K'\n",
       "\\item '2 K'\n",
       "\\item '3 K'\n",
       "\\item '4 K'\n",
       "\\item '5 K'\n",
       "\\item '6 K'\n",
       "\\item '7 K'\n",
       "\\item '8 K'\n",
       "\\item '9 K'\n",
       "\\item '10 K'\n",
       "\\item '20 K'\n",
       "\\item '30 K'\n",
       "\\item '40 K'\n",
       "\\item '50 K'\n",
       "\\item '60 K'\n",
       "\\item '70 K'\n",
       "\\item '80 K'\n",
       "\\item '90 K'\n",
       "\\item '100 K'\n",
       "\\item '200 K'\n",
       "\\item '300 K'\n",
       "\\item '400 K'\n",
       "\\item '500 K'\n",
       "\\item '600 K'\n",
       "\\item '700 K'\n",
       "\\item '800 K'\n",
       "\\item '900 K'\n",
       "\\item '1 M'\n",
       "\\item '2 M'\n",
       "\\item '3 M'\n",
       "\\item '5 M'\n",
       "\\item '7 M'\n",
       "\\item '9 M'\n",
       "\\item '20 M'\n",
       "\\item '40 M'\n",
       "\\item '60 M'\n",
       "\\item '80 M'\n",
       "\\item '100 M'\n",
       "\\item '120 M'\n",
       "\\item '140 M'\n",
       "\\item '160 M'\n",
       "\\item '180 M'\n",
       "\\item '200 M'\n",
       "\\end{enumerate*}\n"
      ],
      "text/markdown": [
       "1. '1 K'\n",
       "2. '2 K'\n",
       "3. '3 K'\n",
       "4. '4 K'\n",
       "5. '5 K'\n",
       "6. '6 K'\n",
       "7. '7 K'\n",
       "8. '8 K'\n",
       "9. '9 K'\n",
       "10. '10 K'\n",
       "11. '20 K'\n",
       "12. '30 K'\n",
       "13. '40 K'\n",
       "14. '50 K'\n",
       "15. '60 K'\n",
       "16. '70 K'\n",
       "17. '80 K'\n",
       "18. '90 K'\n",
       "19. '100 K'\n",
       "20. '200 K'\n",
       "21. '300 K'\n",
       "22. '400 K'\n",
       "23. '500 K'\n",
       "24. '600 K'\n",
       "25. '700 K'\n",
       "26. '800 K'\n",
       "27. '900 K'\n",
       "28. '1 M'\n",
       "29. '2 M'\n",
       "30. '3 M'\n",
       "31. '5 M'\n",
       "32. '7 M'\n",
       "33. '9 M'\n",
       "34. '20 M'\n",
       "35. '40 M'\n",
       "36. '60 M'\n",
       "37. '80 M'\n",
       "38. '100 M'\n",
       "39. '120 M'\n",
       "40. '140 M'\n",
       "41. '160 M'\n",
       "42. '180 M'\n",
       "43. '200 M'\n",
       "\n",
       "\n"
      ],
      "text/plain": [
       " [1] \"1 K\"   \"2 K\"   \"3 K\"   \"4 K\"   \"5 K\"   \"6 K\"   \"7 K\"   \"8 K\"   \"9 K\"  \n",
       "[10] \"10 K\"  \"20 K\"  \"30 K\"  \"40 K\"  \"50 K\"  \"60 K\"  \"70 K\"  \"80 K\"  \"90 K\" \n",
       "[19] \"100 K\" \"200 K\" \"300 K\" \"400 K\" \"500 K\" \"600 K\" \"700 K\" \"800 K\" \"900 K\"\n",
       "[28] \"1 M\"   \"2 M\"   \"3 M\"   \"5 M\"   \"7 M\"   \"9 M\"   \"20 M\"  \"40 M\"  \"60 M\" \n",
       "[37] \"80 M\"  \"100 M\" \"120 M\" \"140 M\" \"160 M\" \"180 M\" \"200 M\""
      ]
     },
     "metadata": {},
     "output_type": "display_data"
    }
   ],
   "source": [
    "dfu <- unique(mydata_no_time$size_vector)\n",
    "#dfu[order(dfu)]\n",
    "\n",
    "comprss <- function(tx) { \n",
    "      div <- findInterval(as.numeric(gsub(\"\\\\,\", \"\", tx)), \n",
    "                          c(1, 1e3, 1e6, 1e9, 1e12) )\n",
    "      paste(round( as.numeric(gsub(\"\\\\,\",\"\",tx))/10^(3*(div-1)), 2), \n",
    "           c(\"\",\"K\",\"M\",\"B\",\"T\")[div] )}\n",
    "comprss(dfu[order(dfu)])\n",
    "\n"
   ]
  },
  {
   "cell_type": "code",
   "execution_count": 11,
   "metadata": {},
   "outputs": [],
   "source": [
    "#print(new_mydata[,c(\"PAPI_VEC_SP\",\"PAPI_VEC_DP\")])\n",
    "#print(mydata[,c(\"PAPI_VEC_SP\",\"PAPI_SP_OPS\")])"
   ]
  },
  {
   "cell_type": "code",
   "execution_count": 12,
   "metadata": {},
   "outputs": [],
   "source": [
    "#div = mydata$PAPI_SP_OPS/mydata$PAPI_VEC_SP\n",
    "#div <- na.omit(div)\n",
    "#subs = mydata$PAPI_BR_INS-(mydata$PAPI_BR_CN + mydata$PAPI_BR_UCN)"
   ]
  },
  {
   "cell_type": "code",
   "execution_count": 13,
   "metadata": {
    "scrolled": false
   },
   "outputs": [],
   "source": [
    "#mean(div)\n",
    "#quantile(div,0.25)\n",
    "#quantile(div,0.5)\n",
    "#quantile(div,0.75)\n",
    "#boxplot(div)"
   ]
  },
  {
   "cell_type": "code",
   "execution_count": 14,
   "metadata": {
    "scrolled": true
   },
   "outputs": [],
   "source": [
    "#print(mydata[,c(\"PAPI_BR_INS\",\"PAPI_BR_CN\",\"PAPI_BR_UCN\")])#subs = mydata$PAPI_BR_INS-(mydata$PAPI_BR_CN/mydata$PAPI_BR_UCN)\n",
    "#print(subs)\n",
    "#perc = subs/mydata$PAPI_BR_INS\n",
    "\n",
    "#head(percent(perc[order(perc,decreasing = TRUE)]))"
   ]
  },
  {
   "cell_type": "code",
   "execution_count": 15,
   "metadata": {},
   "outputs": [
    {
     "data": {
      "text/html": [
       "TRUE"
      ],
      "text/latex": [
       "TRUE"
      ],
      "text/markdown": [
       "TRUE"
      ],
      "text/plain": [
       "[1] TRUE"
      ]
     },
     "metadata": {},
     "output_type": "display_data"
    }
   ],
   "source": [
    "#all(new_mydata$PAPI_VEC_SP == new_mydata$PAPI_VEC_DP)\n",
    "all(mydata_no_time$PAPI_DP_SP == mydata_no_time$PAPI_SP_OPS)"
   ]
  },
  {
   "cell_type": "code",
   "execution_count": 16,
   "metadata": {},
   "outputs": [
    {
     "data": {
      "text/html": [
       "<ol class=list-inline>\n",
       "\t<li>'id'</li>\n",
       "\t<li>'size_vector'</li>\n",
       "\t<li>'comp_opt'</li>\n",
       "\t<li>'label'</li>\n",
       "\t<li>'threads'</li>\n",
       "\t<li>'PAPI_L1_DCM'</li>\n",
       "\t<li>'PAPI_L3_TCM'</li>\n",
       "\t<li>'PAPI_TOT_INS'</li>\n",
       "\t<li>'PAPI_REF_CYC'</li>\n",
       "\t<li>'PAPI_L2_LDM'</li>\n",
       "\t<li>'PAPI_SR_INS'</li>\n",
       "\t<li>'PAPI_BR_UCN'</li>\n",
       "\t<li>'PAPI_BR_CN'</li>\n",
       "\t<li>'PAPI_BR_TKN'</li>\n",
       "\t<li>'PAPI_BR_MSP'</li>\n",
       "\t<li>'PAPI_FP_OPS'</li>\n",
       "\t<li>'PAPI_L1_LDM'</li>\n",
       "\t<li>'PAPI_L1_STM'</li>\n",
       "\t<li>'PAPI_LD_INS'</li>\n",
       "\t<li>'PAPI_L2_STM'</li>\n",
       "\t<li>'PAPI_TLB_DM'</li>\n",
       "\t<li>'PAPI_L2_DCH'</li>\n",
       "</ol>\n"
      ],
      "text/latex": [
       "\\begin{enumerate*}\n",
       "\\item 'id'\n",
       "\\item 'size\\_vector'\n",
       "\\item 'comp\\_opt'\n",
       "\\item 'label'\n",
       "\\item 'threads'\n",
       "\\item 'PAPI\\_L1\\_DCM'\n",
       "\\item 'PAPI\\_L3\\_TCM'\n",
       "\\item 'PAPI\\_TOT\\_INS'\n",
       "\\item 'PAPI\\_REF\\_CYC'\n",
       "\\item 'PAPI\\_L2\\_LDM'\n",
       "\\item 'PAPI\\_SR\\_INS'\n",
       "\\item 'PAPI\\_BR\\_UCN'\n",
       "\\item 'PAPI\\_BR\\_CN'\n",
       "\\item 'PAPI\\_BR\\_TKN'\n",
       "\\item 'PAPI\\_BR\\_MSP'\n",
       "\\item 'PAPI\\_FP\\_OPS'\n",
       "\\item 'PAPI\\_L1\\_LDM'\n",
       "\\item 'PAPI\\_L1\\_STM'\n",
       "\\item 'PAPI\\_LD\\_INS'\n",
       "\\item 'PAPI\\_L2\\_STM'\n",
       "\\item 'PAPI\\_TLB\\_DM'\n",
       "\\item 'PAPI\\_L2\\_DCH'\n",
       "\\end{enumerate*}\n"
      ],
      "text/markdown": [
       "1. 'id'\n",
       "2. 'size_vector'\n",
       "3. 'comp_opt'\n",
       "4. 'label'\n",
       "5. 'threads'\n",
       "6. 'PAPI_L1_DCM'\n",
       "7. 'PAPI_L3_TCM'\n",
       "8. 'PAPI_TOT_INS'\n",
       "9. 'PAPI_REF_CYC'\n",
       "10. 'PAPI_L2_LDM'\n",
       "11. 'PAPI_SR_INS'\n",
       "12. 'PAPI_BR_UCN'\n",
       "13. 'PAPI_BR_CN'\n",
       "14. 'PAPI_BR_TKN'\n",
       "15. 'PAPI_BR_MSP'\n",
       "16. 'PAPI_FP_OPS'\n",
       "17. 'PAPI_L1_LDM'\n",
       "18. 'PAPI_L1_STM'\n",
       "19. 'PAPI_LD_INS'\n",
       "20. 'PAPI_L2_STM'\n",
       "21. 'PAPI_TLB_DM'\n",
       "22. 'PAPI_L2_DCH'\n",
       "\n",
       "\n"
      ],
      "text/plain": [
       " [1] \"id\"           \"size_vector\"  \"comp_opt\"     \"label\"        \"threads\"     \n",
       " [6] \"PAPI_L1_DCM\"  \"PAPI_L3_TCM\"  \"PAPI_TOT_INS\" \"PAPI_REF_CYC\" \"PAPI_L2_LDM\" \n",
       "[11] \"PAPI_SR_INS\"  \"PAPI_BR_UCN\"  \"PAPI_BR_CN\"   \"PAPI_BR_TKN\"  \"PAPI_BR_MSP\" \n",
       "[16] \"PAPI_FP_OPS\"  \"PAPI_L1_LDM\"  \"PAPI_L1_STM\"  \"PAPI_LD_INS\"  \"PAPI_L2_STM\" \n",
       "[21] \"PAPI_TLB_DM\"  \"PAPI_L2_DCH\" "
      ]
     },
     "metadata": {},
     "output_type": "display_data"
    }
   ],
   "source": [
    "colnames(mydata_no_time)"
   ]
  },
  {
   "cell_type": "code",
   "execution_count": 17,
   "metadata": {},
   "outputs": [
    {
     "data": {
      "text/html": [
       "<ol class=list-inline>\n",
       "\t<li>'PAPI_L1_DCM'</li>\n",
       "\t<li>'PAPI_L3_TCM'</li>\n",
       "\t<li>'PAPI_TOT_INS'</li>\n",
       "\t<li>'PAPI_REF_CYC'</li>\n",
       "\t<li>'PAPI_L2_LDM'</li>\n",
       "\t<li>'PAPI_SR_INS'</li>\n",
       "\t<li>'PAPI_BR_UCN'</li>\n",
       "\t<li>'PAPI_BR_CN'</li>\n",
       "\t<li>'PAPI_BR_TKN'</li>\n",
       "\t<li>'PAPI_BR_MSP'</li>\n",
       "\t<li>'PAPI_FP_OPS'</li>\n",
       "\t<li>'PAPI_L1_LDM'</li>\n",
       "\t<li>'PAPI_L1_STM'</li>\n",
       "\t<li>'PAPI_LD_INS'</li>\n",
       "\t<li>'PAPI_L2_STM'</li>\n",
       "\t<li>'PAPI_TLB_DM'</li>\n",
       "\t<li>'PAPI_L2_DCH'</li>\n",
       "</ol>\n"
      ],
      "text/latex": [
       "\\begin{enumerate*}\n",
       "\\item 'PAPI\\_L1\\_DCM'\n",
       "\\item 'PAPI\\_L3\\_TCM'\n",
       "\\item 'PAPI\\_TOT\\_INS'\n",
       "\\item 'PAPI\\_REF\\_CYC'\n",
       "\\item 'PAPI\\_L2\\_LDM'\n",
       "\\item 'PAPI\\_SR\\_INS'\n",
       "\\item 'PAPI\\_BR\\_UCN'\n",
       "\\item 'PAPI\\_BR\\_CN'\n",
       "\\item 'PAPI\\_BR\\_TKN'\n",
       "\\item 'PAPI\\_BR\\_MSP'\n",
       "\\item 'PAPI\\_FP\\_OPS'\n",
       "\\item 'PAPI\\_L1\\_LDM'\n",
       "\\item 'PAPI\\_L1\\_STM'\n",
       "\\item 'PAPI\\_LD\\_INS'\n",
       "\\item 'PAPI\\_L2\\_STM'\n",
       "\\item 'PAPI\\_TLB\\_DM'\n",
       "\\item 'PAPI\\_L2\\_DCH'\n",
       "\\end{enumerate*}\n"
      ],
      "text/markdown": [
       "1. 'PAPI_L1_DCM'\n",
       "2. 'PAPI_L3_TCM'\n",
       "3. 'PAPI_TOT_INS'\n",
       "4. 'PAPI_REF_CYC'\n",
       "5. 'PAPI_L2_LDM'\n",
       "6. 'PAPI_SR_INS'\n",
       "7. 'PAPI_BR_UCN'\n",
       "8. 'PAPI_BR_CN'\n",
       "9. 'PAPI_BR_TKN'\n",
       "10. 'PAPI_BR_MSP'\n",
       "11. 'PAPI_FP_OPS'\n",
       "12. 'PAPI_L1_LDM'\n",
       "13. 'PAPI_L1_STM'\n",
       "14. 'PAPI_LD_INS'\n",
       "15. 'PAPI_L2_STM'\n",
       "16. 'PAPI_TLB_DM'\n",
       "17. 'PAPI_L2_DCH'\n",
       "\n",
       "\n"
      ],
      "text/plain": [
       " [1] \"PAPI_L1_DCM\"  \"PAPI_L3_TCM\"  \"PAPI_TOT_INS\" \"PAPI_REF_CYC\" \"PAPI_L2_LDM\" \n",
       " [6] \"PAPI_SR_INS\"  \"PAPI_BR_UCN\"  \"PAPI_BR_CN\"   \"PAPI_BR_TKN\"  \"PAPI_BR_MSP\" \n",
       "[11] \"PAPI_FP_OPS\"  \"PAPI_L1_LDM\"  \"PAPI_L1_STM\"  \"PAPI_LD_INS\"  \"PAPI_L2_STM\" \n",
       "[16] \"PAPI_TLB_DM\"  \"PAPI_L2_DCH\" "
      ]
     },
     "metadata": {},
     "output_type": "display_data"
    }
   ],
   "source": [
    "colnames(mydata_no_time[6:ncol(mydata_no_time)])"
   ]
  },
  {
   "cell_type": "code",
   "execution_count": 18,
   "metadata": {},
   "outputs": [
    {
     "data": {
      "text/html": [
       "<ol class=list-inline>\n",
       "\t<li>1548000</li>\n",
       "\t<li>17</li>\n",
       "</ol>\n"
      ],
      "text/latex": [
       "\\begin{enumerate*}\n",
       "\\item 1548000\n",
       "\\item 17\n",
       "\\end{enumerate*}\n"
      ],
      "text/markdown": [
       "1. 1548000\n",
       "2. 17\n",
       "\n",
       "\n"
      ],
      "text/plain": [
       "[1] 1548000      17"
      ]
     },
     "metadata": {},
     "output_type": "display_data"
    }
   ],
   "source": [
    "new_mydata = mydata_no_time[,6:ncol(mydata_no_time)]\n",
    "dim(new_mydata)\n"
   ]
  },
  {
   "cell_type": "code",
   "execution_count": 19,
   "metadata": {
    "scrolled": true
   },
   "outputs": [
    {
     "data": {
      "text/html": [
       "<table>\n",
       "<thead><tr><th scope=col>PAPI_L1_DCM</th><th scope=col>PAPI_L3_TCM</th><th scope=col>PAPI_TOT_INS</th><th scope=col>PAPI_REF_CYC</th><th scope=col>PAPI_L2_LDM</th><th scope=col>PAPI_SR_INS</th><th scope=col>PAPI_BR_UCN</th><th scope=col>PAPI_BR_CN</th><th scope=col>PAPI_BR_TKN</th><th scope=col>PAPI_BR_MSP</th><th scope=col>PAPI_FP_OPS</th><th scope=col>PAPI_L1_LDM</th><th scope=col>PAPI_L1_STM</th><th scope=col>PAPI_LD_INS</th><th scope=col>PAPI_L2_STM</th><th scope=col>PAPI_TLB_DM</th><th scope=col>PAPI_L2_DCH</th></tr></thead>\n",
       "<tbody>\n",
       "\t<tr><td>5792   </td><td>296    </td><td> 728331</td><td>1280646</td><td>2074   </td><td>33185  </td><td>8405   </td><td>206376 </td><td>122216 </td><td>1927   </td><td>71     </td><td>4451   </td><td>777    </td><td>119687 </td><td>370    </td><td>233    </td><td>3398   </td></tr>\n",
       "\t<tr><td>3389   </td><td>  4    </td><td>1109926</td><td>1883952</td><td> 514   </td><td>32261  </td><td>8125   </td><td>281808 </td><td>159757 </td><td>1685   </td><td>24     </td><td>3007   </td><td>630    </td><td>196461 </td><td>246    </td><td> 75    </td><td>2712   </td></tr>\n",
       "\t<tr><td>3992   </td><td>  1    </td><td>1162254</td><td>1983816</td><td> 688   </td><td>32036  </td><td>8128   </td><td>261973 </td><td>149834 </td><td>1591   </td><td>25     </td><td>2793   </td><td>567    </td><td>178913 </td><td>123    </td><td> 57    </td><td>2510   </td></tr>\n",
       "\t<tr><td>3306   </td><td>  0    </td><td>1088427</td><td>1842192</td><td> 456   </td><td>32261  </td><td>8104   </td><td>278682 </td><td>158179 </td><td>1635   </td><td>24     </td><td>2776   </td><td>486    </td><td>179265 </td><td>125    </td><td> 72    </td><td>2667   </td></tr>\n",
       "\t<tr><td>3457   </td><td>  0    </td><td>1084172</td><td>1834992</td><td> 456   </td><td>32032  </td><td>8115   </td><td>279794 </td><td>158622 </td><td>1596   </td><td>24     </td><td>2890   </td><td>546    </td><td>210295 </td><td>107    </td><td> 51    </td><td>2624   </td></tr>\n",
       "\t<tr><td>3305   </td><td>  0    </td><td>1090388</td><td>1845198</td><td> 474   </td><td>32261  </td><td>8114   </td><td>275006 </td><td>156418 </td><td>1617   </td><td>24     </td><td>2752   </td><td>486    </td><td>179154 </td><td>128    </td><td> 64    </td><td>2625   </td></tr>\n",
       "\t<tr><td>3457   </td><td>  0    </td><td>1116139</td><td>1893816</td><td> 516   </td><td>32032  </td><td>8122   </td><td>285333 </td><td>161434 </td><td>1584   </td><td>24     </td><td>2783   </td><td>539    </td><td>178378 </td><td>117    </td><td> 62    </td><td>2540   </td></tr>\n",
       "\t<tr><td>3333   </td><td>  1    </td><td>1106619</td><td>1876392</td><td> 476   </td><td>32265  </td><td>8107   </td><td>277816 </td><td>157710 </td><td>1600   </td><td>24     </td><td>2754   </td><td>481    </td><td>178317 </td><td>121    </td><td> 66    </td><td>2605   </td></tr>\n",
       "\t<tr><td>3431   </td><td>  1    </td><td>1080156</td><td>1827504</td><td> 471   </td><td>32032  </td><td>8114   </td><td>274878 </td><td>156209 </td><td>1527   </td><td>24     </td><td>2804   </td><td>542    </td><td>177924 </td><td>120    </td><td> 57    </td><td>2579   </td></tr>\n",
       "\t<tr><td>3354   </td><td>  1    </td><td>1110830</td><td>1884186</td><td> 520   </td><td>32265  </td><td>8143   </td><td>349034 </td><td>208324 </td><td>1657   </td><td>24     </td><td>2989   </td><td>511    </td><td>183190 </td><td>122    </td><td> 66    </td><td>2654   </td></tr>\n",
       "\t<tr><td>3264   </td><td>  0    </td><td>1098323</td><td>1858626</td><td> 454   </td><td>32032  </td><td>8105   </td><td>274875 </td><td>156202 </td><td>1536   </td><td>24     </td><td>2814   </td><td>530    </td><td>208631 </td><td>137    </td><td> 60    </td><td>2568   </td></tr>\n",
       "\t<tr><td>3526   </td><td>  1    </td><td>1118051</td><td>1898820</td><td> 529   </td><td>32194  </td><td>8146   </td><td>282493 </td><td>160093 </td><td>1584   </td><td>24     </td><td>2918   </td><td>519    </td><td>176953 </td><td>115    </td><td> 56    </td><td>2575   </td></tr>\n",
       "\t<tr><td>3363   </td><td>  0    </td><td>1076929</td><td>1820448</td><td> 464   </td><td>32189  </td><td>8091   </td><td>284643 </td><td>161081 </td><td>1561   </td><td>24     </td><td>2839   </td><td>508    </td><td>214585 </td><td>138    </td><td> 62    </td><td>2512   </td></tr>\n",
       "\t<tr><td>3545   </td><td>  0    </td><td>1118273</td><td>1897398</td><td> 519   </td><td>32189  </td><td>8146   </td><td>275322 </td><td>156473 </td><td>1550   </td><td>24     </td><td>2829   </td><td>534    </td><td>177273 </td><td>121    </td><td> 67    </td><td>2565   </td></tr>\n",
       "\t<tr><td>3278   </td><td>  0    </td><td>1077259</td><td>1820556</td><td> 443   </td><td>32189  </td><td>8093   </td><td>273528 </td><td>155512 </td><td>1556   </td><td>24     </td><td>2766   </td><td>492    </td><td>180905 </td><td>135    </td><td> 65    </td><td>2562   </td></tr>\n",
       "\t<tr><td>3388   </td><td>  0    </td><td>1083949</td><td>1832346</td><td> 471   </td><td>32189  </td><td>8126   </td><td>284291 </td><td>160927 </td><td>1592   </td><td>24     </td><td>2764   </td><td>528    </td><td>177168 </td><td>124    </td><td> 55    </td><td>2601   </td></tr>\n",
       "\t<tr><td>3333   </td><td>  1    </td><td>1079360</td><td>1823544</td><td> 468   </td><td>32189  </td><td>8099   </td><td>272786 </td><td>155097 </td><td>1534   </td><td>24     </td><td>2775   </td><td>492    </td><td>179202 </td><td>125    </td><td> 60    </td><td>2559   </td></tr>\n",
       "\t<tr><td>3456   </td><td>  0    </td><td>1123417</td><td>1906182</td><td> 528   </td><td>32189  </td><td>8119   </td><td>275289 </td><td>156414 </td><td>1541   </td><td>24     </td><td>2932   </td><td>535    </td><td>182057 </td><td>125    </td><td> 66    </td><td>2606   </td></tr>\n",
       "\t<tr><td>3302   </td><td>  0    </td><td>1082259</td><td>1829502</td><td> 470   </td><td>32189  </td><td>8089   </td><td>287575 </td><td>162573 </td><td>1565   </td><td>24     </td><td>2765   </td><td>503    </td><td>204447 </td><td>122    </td><td> 66    </td><td>2582   </td></tr>\n",
       "\t<tr><td>3409   </td><td>  0    </td><td>1078858</td><td>1824192</td><td> 449   </td><td>32189  </td><td>8123   </td><td>275876 </td><td>156718 </td><td>1522   </td><td>24     </td><td>2815   </td><td>531    </td><td>177958 </td><td>125    </td><td> 66    </td><td>2733   </td></tr>\n",
       "\t<tr><td>3292   </td><td>  0    </td><td>1091422</td><td>1847538</td><td> 498   </td><td>32189  </td><td>8152   </td><td>296709 </td><td>187224 </td><td>1553   </td><td>24     </td><td>2857   </td><td>508    </td><td>212888 </td><td>128    </td><td> 64    </td><td>2487   </td></tr>\n",
       "\t<tr><td>3357   </td><td>  0    </td><td>1078913</td><td>1823274</td><td> 445   </td><td>32189  </td><td>8103   </td><td>284226 </td><td>187760 </td><td>1591   </td><td>24     </td><td>2787   </td><td>516    </td><td>177159 </td><td>119    </td><td> 64    </td><td>2732   </td></tr>\n",
       "\t<tr><td>3298   </td><td>  0    </td><td>1079893</td><td>1825056</td><td> 465   </td><td>32193  </td><td>8180   </td><td>309134 </td><td>173449 </td><td>1626   </td><td>24     </td><td>2782   </td><td>490    </td><td>179535 </td><td>126    </td><td> 60    </td><td>2598   </td></tr>\n",
       "\t<tr><td>3390   </td><td>  0    </td><td>1084135</td><td>1834884</td><td> 477   </td><td>32189  </td><td>8103   </td><td>272102 </td><td>154811 </td><td>1517   </td><td>24     </td><td>2824   </td><td>524    </td><td>177640 </td><td>124    </td><td> 60    </td><td>2532   </td></tr>\n",
       "\t<tr><td>3496   </td><td>  1    </td><td>1133320</td><td>1926918</td><td> 560   </td><td>32194  </td><td>8145   </td><td>282752 </td><td>181173 </td><td>1563   </td><td>24     </td><td>2766   </td><td>489    </td><td>178088 </td><td>120    </td><td> 60    </td><td>2579   </td></tr>\n",
       "\t<tr><td>3314   </td><td>  0    </td><td>1080954</td><td>1826442</td><td> 446   </td><td>32189  </td><td>8134   </td><td>273160 </td><td>155345 </td><td>1535   </td><td>24     </td><td>2873   </td><td>531    </td><td>181599 </td><td>116    </td><td> 59    </td><td>2505   </td></tr>\n",
       "\t<tr><td>3498   </td><td>  0    </td><td>1115137</td><td>1892898</td><td> 520   </td><td>32194  </td><td>8113   </td><td>274680 </td><td>156078 </td><td>1516   </td><td>24     </td><td>2777   </td><td>499    </td><td>177397 </td><td>125    </td><td> 59    </td><td>2719   </td></tr>\n",
       "\t<tr><td>3322   </td><td>  0    </td><td>1084433</td><td>1834758</td><td> 478   </td><td>32189  </td><td>8102   </td><td>281425 </td><td>173522 </td><td>1553   </td><td>24     </td><td>2801   </td><td>521    </td><td>178191 </td><td>130    </td><td> 54    </td><td>2550   </td></tr>\n",
       "\t<tr><td>3470   </td><td>  0    </td><td>1117228</td><td>1894464</td><td> 571   </td><td>32189  </td><td>8104   </td><td>272651 </td><td>155138 </td><td>1534   </td><td>24     </td><td>2913   </td><td>520    </td><td>206206 </td><td>115    </td><td> 60    </td><td>2573   </td></tr>\n",
       "\t<tr><td>3332   </td><td>  0    </td><td>1080774</td><td>1827450</td><td> 464   </td><td>32189  </td><td>8153   </td><td>275252 </td><td>156465 </td><td>1537   </td><td>24     </td><td>2789   </td><td>540    </td><td>177231 </td><td>116    </td><td> 64    </td><td>2528   </td></tr>\n",
       "\t<tr><td>...</td><td>...</td><td>...</td><td>...</td><td>...</td><td>...</td><td>...</td><td>...</td><td>...</td><td>...</td><td>...</td><td>...</td><td>...</td><td>...</td><td>...</td><td>...</td><td>...</td></tr>\n",
       "\t<tr><td>79270  </td><td>59     </td><td>3402315</td><td>1908738</td><td>7453   </td><td>228038 </td><td>8027   </td><td>338297 </td><td>284625 </td><td>1236   </td><td>1201748</td><td>53136  </td><td>24985  </td><td>508073 </td><td>2150   </td><td>319    </td><td>68782  </td></tr>\n",
       "\t<tr><td>79305  </td><td>56     </td><td>3423579</td><td>1971288</td><td>8860   </td><td>228038 </td><td>7997   </td><td>343322 </td><td>287166 </td><td>1235   </td><td>1201757</td><td>53030  </td><td>24989  </td><td>506457 </td><td>2188   </td><td>339    </td><td>69057  </td></tr>\n",
       "\t<tr><td>79423  </td><td>59     </td><td>3440939</td><td>1990440</td><td>9095   </td><td>228038 </td><td>8068   </td><td>354930 </td><td>293065 </td><td>1342   </td><td>1201708</td><td>53169  </td><td>24994  </td><td>506264 </td><td>2179   </td><td>320    </td><td>68856  </td></tr>\n",
       "\t<tr><td>79320  </td><td>57     </td><td>3395775</td><td>1877220</td><td>5984   </td><td>228038 </td><td>8069   </td><td>351076 </td><td>291020 </td><td>1291   </td><td>1201675</td><td>53149  </td><td>24983  </td><td>506283 </td><td>2494   </td><td>339    </td><td>68812  </td></tr>\n",
       "\t<tr><td>79389  </td><td>63     </td><td>3408294</td><td>1897974</td><td>5936   </td><td>228041 </td><td>8070   </td><td>351392 </td><td>291232 </td><td>1273   </td><td>1201772</td><td>53055  </td><td>25004  </td><td>506843 </td><td>2118   </td><td>322    </td><td>68755  </td></tr>\n",
       "\t<tr><td>79256  </td><td>57     </td><td>3395920</td><td>1874538</td><td>6019   </td><td>228038 </td><td>8097   </td><td>357259 </td><td>294189 </td><td>1352   </td><td>1201671</td><td>53117  </td><td>24989  </td><td>508421 </td><td>2248   </td><td>352    </td><td>68754  </td></tr>\n",
       "\t<tr><td>79331  </td><td>60     </td><td>3411867</td><td>1904922</td><td>5964   </td><td>228038 </td><td>8072   </td><td>354073 </td><td>292553 </td><td>1314   </td><td>1201775</td><td>53136  </td><td>24964  </td><td>506564 </td><td>2142   </td><td>316    </td><td>68565  </td></tr>\n",
       "\t<tr><td>79322  </td><td>63     </td><td>3402469</td><td>1889028</td><td>6423   </td><td>228041 </td><td>8083   </td><td>358883 </td><td>294946 </td><td>1334   </td><td>1201721</td><td>53152  </td><td>24976  </td><td>507517 </td><td>2230   </td><td>353    </td><td>68739  </td></tr>\n",
       "\t<tr><td>79300  </td><td>59     </td><td>3392598</td><td>1869390</td><td>6101   </td><td>228038 </td><td>8076   </td><td>355267 </td><td>293121 </td><td>1304   </td><td>1201777</td><td>53094  </td><td>24992  </td><td>508461 </td><td>2167   </td><td>312    </td><td>68364  </td></tr>\n",
       "\t<tr><td>79356  </td><td>61     </td><td>3413861</td><td>1908090</td><td>6072   </td><td>228039 </td><td>8069   </td><td>339746 </td><td>285390 </td><td>1315   </td><td>1201779</td><td>53099  </td><td>24986  </td><td>506243 </td><td>2195   </td><td>336    </td><td>68653  </td></tr>\n",
       "\t<tr><td>79248  </td><td>60     </td><td>3393883</td><td>1872864</td><td>6123   </td><td>228038 </td><td>8093   </td><td>337528 </td><td>284401 </td><td>1287   </td><td>1201756</td><td>53240  </td><td>25011  </td><td>522555 </td><td>2236   </td><td>320    </td><td>68031  </td></tr>\n",
       "\t<tr><td>79224  </td><td>59     </td><td>3395516</td><td>1875762</td><td>6116   </td><td>228038 </td><td>8031   </td><td>337188 </td><td>284036 </td><td>1246   </td><td>1201796</td><td>53052  </td><td>24995  </td><td>517269 </td><td>2128   </td><td>325    </td><td>68818  </td></tr>\n",
       "\t<tr><td>79402  </td><td>56     </td><td>3401475</td><td>1888200</td><td>6442   </td><td>228041 </td><td>8073   </td><td>340985 </td><td>286038 </td><td>1280   </td><td>1201707</td><td>53076  </td><td>24993  </td><td>520357 </td><td>2116   </td><td>336    </td><td>67767  </td></tr>\n",
       "\t<tr><td>79390  </td><td>59     </td><td>3412430</td><td>1905066</td><td>6018   </td><td>228038 </td><td>8014   </td><td>337786 </td><td>284336 </td><td>1217   </td><td>1201703</td><td>53145  </td><td>25007  </td><td>519980 </td><td>2181   </td><td>323    </td><td>68872  </td></tr>\n",
       "\t<tr><td>79296  </td><td>60     </td><td>3396657</td><td>1879668</td><td>6142   </td><td>228038 </td><td>8026   </td><td>337887 </td><td>284414 </td><td>1239   </td><td>1201686</td><td>53059  </td><td>24990  </td><td>519102 </td><td>2190   </td><td>341    </td><td>68254  </td></tr>\n",
       "\t<tr><td>79273  </td><td>61     </td><td>3395439</td><td>1875600</td><td>6169   </td><td>228038 </td><td>8040   </td><td>338797 </td><td>284841 </td><td>1258   </td><td>1201703</td><td>53018  </td><td>24966  </td><td>516291 </td><td>2421   </td><td>309    </td><td>68641  </td></tr>\n",
       "\t<tr><td>79312  </td><td>59     </td><td>3395956</td><td>1877598</td><td>6175   </td><td>228038 </td><td>8025   </td><td>337744 </td><td>284319 </td><td>1245   </td><td>1201681</td><td>53104  </td><td>24977  </td><td>515652 </td><td>2167   </td><td>343    </td><td>68838  </td></tr>\n",
       "\t<tr><td>79537  </td><td>60     </td><td>3424629</td><td>1929474</td><td>6235   </td><td>228040 </td><td>8006   </td><td>337911 </td><td>284434 </td><td>1295   </td><td>1201721</td><td>53160  </td><td>24985  </td><td>516072 </td><td>2219   </td><td>307    </td><td>68810  </td></tr>\n",
       "\t<tr><td>79296  </td><td>60     </td><td>3392931</td><td>1869318</td><td>6095   </td><td>228038 </td><td>8028   </td><td>342323 </td><td>286600 </td><td>1260   </td><td>1201684</td><td>53110  </td><td>24987  </td><td>513823 </td><td>2198   </td><td>329    </td><td>68850  </td></tr>\n",
       "\t<tr><td>79313  </td><td>58     </td><td>3395994</td><td>1875906</td><td>5997   </td><td>228038 </td><td>8029   </td><td>341473 </td><td>286227 </td><td>1265   </td><td>1201781</td><td>53086  </td><td>24975  </td><td>506873 </td><td>2138   </td><td>309    </td><td>68831  </td></tr>\n",
       "\t<tr><td>79457  </td><td>60     </td><td>3418087</td><td>1918908</td><td>6391   </td><td>228041 </td><td>8001   </td><td>337514 </td><td>284226 </td><td>1184   </td><td>1201796</td><td>52975  </td><td>24986  </td><td>506392 </td><td>2150   </td><td>334    </td><td>68856  </td></tr>\n",
       "\t<tr><td>79311  </td><td>58     </td><td>3395177</td><td>1875276</td><td>6187   </td><td>228038 </td><td>8033   </td><td>345146 </td><td>288002 </td><td>1244   </td><td>1201871</td><td>53170  </td><td>25000  </td><td>508653 </td><td>2171   </td><td>308    </td><td>68695  </td></tr>\n",
       "\t<tr><td>79313  </td><td>62     </td><td>3406357</td><td>1896534</td><td>6007   </td><td>228039 </td><td>8014   </td><td>337670 </td><td>284369 </td><td>1228   </td><td>1201740</td><td>53092  </td><td>24978  </td><td>506037 </td><td>2447   </td><td>344    </td><td>68849  </td></tr>\n",
       "\t<tr><td>79344  </td><td>56     </td><td>3393873</td><td>1872720</td><td>6058   </td><td>228038 </td><td>7989   </td><td>338130 </td><td>284512 </td><td>1222   </td><td>1201682</td><td>53242  </td><td>24992  </td><td>506162 </td><td>2170   </td><td>303    </td><td>68572  </td></tr>\n",
       "\t<tr><td>79407  </td><td>60     </td><td>3408998</td><td>1897992</td><td>6066   </td><td>228038 </td><td>8035   </td><td>343389 </td><td>287243 </td><td>1272   </td><td>1201702</td><td>53034  </td><td>24985  </td><td>508049 </td><td>2508   </td><td>348    </td><td>68825  </td></tr>\n",
       "\t<tr><td>79316  </td><td>61     </td><td>3404361</td><td>1894284</td><td>6512   </td><td>228041 </td><td>8009   </td><td>337822 </td><td>284295 </td><td>1223   </td><td>1201707</td><td>53074  </td><td>25005  </td><td>506116 </td><td>2193   </td><td>303    </td><td>68694  </td></tr>\n",
       "\t<tr><td>79257  </td><td>61     </td><td>3393484</td><td>1872990</td><td>6092   </td><td>228038 </td><td>8030   </td><td>341131 </td><td>286022 </td><td>1234   </td><td>1201683</td><td>53052  </td><td>24984  </td><td>508261 </td><td>2191   </td><td>342    </td><td>68580  </td></tr>\n",
       "\t<tr><td>79300  </td><td>63     </td><td>3394945</td><td>1873080</td><td>6087   </td><td>228038 </td><td>8024   </td><td>342493 </td><td>286702 </td><td>1253   </td><td>1201740</td><td>53097  </td><td>24972  </td><td>506334 </td><td>2186   </td><td>298    </td><td>68830  </td></tr>\n",
       "\t<tr><td>79346  </td><td>64     </td><td>3403881</td><td>1886940</td><td>5925   </td><td>228038 </td><td>8023   </td><td>337751 </td><td>284322 </td><td>1226   </td><td>1201760</td><td>53227  </td><td>24994  </td><td>506161 </td><td>2108   </td><td>346    </td><td>68932  </td></tr>\n",
       "\t<tr><td>79340  </td><td>65     </td><td>3393513</td><td>1871982</td><td>6010   </td><td>228038 </td><td>8008   </td><td>337925 </td><td>284891 </td><td>1221   </td><td>1201760</td><td>53240  </td><td>24999  </td><td>508516 </td><td>2192   </td><td>310    </td><td>68763  </td></tr>\n",
       "</tbody>\n",
       "</table>\n"
      ],
      "text/latex": [
       "\\begin{tabular}{r|lllllllllllllllll}\n",
       " PAPI\\_L1\\_DCM & PAPI\\_L3\\_TCM & PAPI\\_TOT\\_INS & PAPI\\_REF\\_CYC & PAPI\\_L2\\_LDM & PAPI\\_SR\\_INS & PAPI\\_BR\\_UCN & PAPI\\_BR\\_CN & PAPI\\_BR\\_TKN & PAPI\\_BR\\_MSP & PAPI\\_FP\\_OPS & PAPI\\_L1\\_LDM & PAPI\\_L1\\_STM & PAPI\\_LD\\_INS & PAPI\\_L2\\_STM & PAPI\\_TLB\\_DM & PAPI\\_L2\\_DCH\\\\\n",
       "\\hline\n",
       "\t 5792    & 296     &  728331 & 1280646 & 2074    & 33185   & 8405    & 206376  & 122216  & 1927    & 71      & 4451    & 777     & 119687  & 370     & 233     & 3398   \\\\\n",
       "\t 3389    &   4     & 1109926 & 1883952 &  514    & 32261   & 8125    & 281808  & 159757  & 1685    & 24      & 3007    & 630     & 196461  & 246     &  75     & 2712   \\\\\n",
       "\t 3992    &   1     & 1162254 & 1983816 &  688    & 32036   & 8128    & 261973  & 149834  & 1591    & 25      & 2793    & 567     & 178913  & 123     &  57     & 2510   \\\\\n",
       "\t 3306    &   0     & 1088427 & 1842192 &  456    & 32261   & 8104    & 278682  & 158179  & 1635    & 24      & 2776    & 486     & 179265  & 125     &  72     & 2667   \\\\\n",
       "\t 3457    &   0     & 1084172 & 1834992 &  456    & 32032   & 8115    & 279794  & 158622  & 1596    & 24      & 2890    & 546     & 210295  & 107     &  51     & 2624   \\\\\n",
       "\t 3305    &   0     & 1090388 & 1845198 &  474    & 32261   & 8114    & 275006  & 156418  & 1617    & 24      & 2752    & 486     & 179154  & 128     &  64     & 2625   \\\\\n",
       "\t 3457    &   0     & 1116139 & 1893816 &  516    & 32032   & 8122    & 285333  & 161434  & 1584    & 24      & 2783    & 539     & 178378  & 117     &  62     & 2540   \\\\\n",
       "\t 3333    &   1     & 1106619 & 1876392 &  476    & 32265   & 8107    & 277816  & 157710  & 1600    & 24      & 2754    & 481     & 178317  & 121     &  66     & 2605   \\\\\n",
       "\t 3431    &   1     & 1080156 & 1827504 &  471    & 32032   & 8114    & 274878  & 156209  & 1527    & 24      & 2804    & 542     & 177924  & 120     &  57     & 2579   \\\\\n",
       "\t 3354    &   1     & 1110830 & 1884186 &  520    & 32265   & 8143    & 349034  & 208324  & 1657    & 24      & 2989    & 511     & 183190  & 122     &  66     & 2654   \\\\\n",
       "\t 3264    &   0     & 1098323 & 1858626 &  454    & 32032   & 8105    & 274875  & 156202  & 1536    & 24      & 2814    & 530     & 208631  & 137     &  60     & 2568   \\\\\n",
       "\t 3526    &   1     & 1118051 & 1898820 &  529    & 32194   & 8146    & 282493  & 160093  & 1584    & 24      & 2918    & 519     & 176953  & 115     &  56     & 2575   \\\\\n",
       "\t 3363    &   0     & 1076929 & 1820448 &  464    & 32189   & 8091    & 284643  & 161081  & 1561    & 24      & 2839    & 508     & 214585  & 138     &  62     & 2512   \\\\\n",
       "\t 3545    &   0     & 1118273 & 1897398 &  519    & 32189   & 8146    & 275322  & 156473  & 1550    & 24      & 2829    & 534     & 177273  & 121     &  67     & 2565   \\\\\n",
       "\t 3278    &   0     & 1077259 & 1820556 &  443    & 32189   & 8093    & 273528  & 155512  & 1556    & 24      & 2766    & 492     & 180905  & 135     &  65     & 2562   \\\\\n",
       "\t 3388    &   0     & 1083949 & 1832346 &  471    & 32189   & 8126    & 284291  & 160927  & 1592    & 24      & 2764    & 528     & 177168  & 124     &  55     & 2601   \\\\\n",
       "\t 3333    &   1     & 1079360 & 1823544 &  468    & 32189   & 8099    & 272786  & 155097  & 1534    & 24      & 2775    & 492     & 179202  & 125     &  60     & 2559   \\\\\n",
       "\t 3456    &   0     & 1123417 & 1906182 &  528    & 32189   & 8119    & 275289  & 156414  & 1541    & 24      & 2932    & 535     & 182057  & 125     &  66     & 2606   \\\\\n",
       "\t 3302    &   0     & 1082259 & 1829502 &  470    & 32189   & 8089    & 287575  & 162573  & 1565    & 24      & 2765    & 503     & 204447  & 122     &  66     & 2582   \\\\\n",
       "\t 3409    &   0     & 1078858 & 1824192 &  449    & 32189   & 8123    & 275876  & 156718  & 1522    & 24      & 2815    & 531     & 177958  & 125     &  66     & 2733   \\\\\n",
       "\t 3292    &   0     & 1091422 & 1847538 &  498    & 32189   & 8152    & 296709  & 187224  & 1553    & 24      & 2857    & 508     & 212888  & 128     &  64     & 2487   \\\\\n",
       "\t 3357    &   0     & 1078913 & 1823274 &  445    & 32189   & 8103    & 284226  & 187760  & 1591    & 24      & 2787    & 516     & 177159  & 119     &  64     & 2732   \\\\\n",
       "\t 3298    &   0     & 1079893 & 1825056 &  465    & 32193   & 8180    & 309134  & 173449  & 1626    & 24      & 2782    & 490     & 179535  & 126     &  60     & 2598   \\\\\n",
       "\t 3390    &   0     & 1084135 & 1834884 &  477    & 32189   & 8103    & 272102  & 154811  & 1517    & 24      & 2824    & 524     & 177640  & 124     &  60     & 2532   \\\\\n",
       "\t 3496    &   1     & 1133320 & 1926918 &  560    & 32194   & 8145    & 282752  & 181173  & 1563    & 24      & 2766    & 489     & 178088  & 120     &  60     & 2579   \\\\\n",
       "\t 3314    &   0     & 1080954 & 1826442 &  446    & 32189   & 8134    & 273160  & 155345  & 1535    & 24      & 2873    & 531     & 181599  & 116     &  59     & 2505   \\\\\n",
       "\t 3498    &   0     & 1115137 & 1892898 &  520    & 32194   & 8113    & 274680  & 156078  & 1516    & 24      & 2777    & 499     & 177397  & 125     &  59     & 2719   \\\\\n",
       "\t 3322    &   0     & 1084433 & 1834758 &  478    & 32189   & 8102    & 281425  & 173522  & 1553    & 24      & 2801    & 521     & 178191  & 130     &  54     & 2550   \\\\\n",
       "\t 3470    &   0     & 1117228 & 1894464 &  571    & 32189   & 8104    & 272651  & 155138  & 1534    & 24      & 2913    & 520     & 206206  & 115     &  60     & 2573   \\\\\n",
       "\t 3332    &   0     & 1080774 & 1827450 &  464    & 32189   & 8153    & 275252  & 156465  & 1537    & 24      & 2789    & 540     & 177231  & 116     &  64     & 2528   \\\\\n",
       "\t ... & ... & ... & ... & ... & ... & ... & ... & ... & ... & ... & ... & ... & ... & ... & ... & ...\\\\\n",
       "\t 79270   & 59      & 3402315 & 1908738 & 7453    & 228038  & 8027    & 338297  & 284625  & 1236    & 1201748 & 53136   & 24985   & 508073  & 2150    & 319     & 68782  \\\\\n",
       "\t 79305   & 56      & 3423579 & 1971288 & 8860    & 228038  & 7997    & 343322  & 287166  & 1235    & 1201757 & 53030   & 24989   & 506457  & 2188    & 339     & 69057  \\\\\n",
       "\t 79423   & 59      & 3440939 & 1990440 & 9095    & 228038  & 8068    & 354930  & 293065  & 1342    & 1201708 & 53169   & 24994   & 506264  & 2179    & 320     & 68856  \\\\\n",
       "\t 79320   & 57      & 3395775 & 1877220 & 5984    & 228038  & 8069    & 351076  & 291020  & 1291    & 1201675 & 53149   & 24983   & 506283  & 2494    & 339     & 68812  \\\\\n",
       "\t 79389   & 63      & 3408294 & 1897974 & 5936    & 228041  & 8070    & 351392  & 291232  & 1273    & 1201772 & 53055   & 25004   & 506843  & 2118    & 322     & 68755  \\\\\n",
       "\t 79256   & 57      & 3395920 & 1874538 & 6019    & 228038  & 8097    & 357259  & 294189  & 1352    & 1201671 & 53117   & 24989   & 508421  & 2248    & 352     & 68754  \\\\\n",
       "\t 79331   & 60      & 3411867 & 1904922 & 5964    & 228038  & 8072    & 354073  & 292553  & 1314    & 1201775 & 53136   & 24964   & 506564  & 2142    & 316     & 68565  \\\\\n",
       "\t 79322   & 63      & 3402469 & 1889028 & 6423    & 228041  & 8083    & 358883  & 294946  & 1334    & 1201721 & 53152   & 24976   & 507517  & 2230    & 353     & 68739  \\\\\n",
       "\t 79300   & 59      & 3392598 & 1869390 & 6101    & 228038  & 8076    & 355267  & 293121  & 1304    & 1201777 & 53094   & 24992   & 508461  & 2167    & 312     & 68364  \\\\\n",
       "\t 79356   & 61      & 3413861 & 1908090 & 6072    & 228039  & 8069    & 339746  & 285390  & 1315    & 1201779 & 53099   & 24986   & 506243  & 2195    & 336     & 68653  \\\\\n",
       "\t 79248   & 60      & 3393883 & 1872864 & 6123    & 228038  & 8093    & 337528  & 284401  & 1287    & 1201756 & 53240   & 25011   & 522555  & 2236    & 320     & 68031  \\\\\n",
       "\t 79224   & 59      & 3395516 & 1875762 & 6116    & 228038  & 8031    & 337188  & 284036  & 1246    & 1201796 & 53052   & 24995   & 517269  & 2128    & 325     & 68818  \\\\\n",
       "\t 79402   & 56      & 3401475 & 1888200 & 6442    & 228041  & 8073    & 340985  & 286038  & 1280    & 1201707 & 53076   & 24993   & 520357  & 2116    & 336     & 67767  \\\\\n",
       "\t 79390   & 59      & 3412430 & 1905066 & 6018    & 228038  & 8014    & 337786  & 284336  & 1217    & 1201703 & 53145   & 25007   & 519980  & 2181    & 323     & 68872  \\\\\n",
       "\t 79296   & 60      & 3396657 & 1879668 & 6142    & 228038  & 8026    & 337887  & 284414  & 1239    & 1201686 & 53059   & 24990   & 519102  & 2190    & 341     & 68254  \\\\\n",
       "\t 79273   & 61      & 3395439 & 1875600 & 6169    & 228038  & 8040    & 338797  & 284841  & 1258    & 1201703 & 53018   & 24966   & 516291  & 2421    & 309     & 68641  \\\\\n",
       "\t 79312   & 59      & 3395956 & 1877598 & 6175    & 228038  & 8025    & 337744  & 284319  & 1245    & 1201681 & 53104   & 24977   & 515652  & 2167    & 343     & 68838  \\\\\n",
       "\t 79537   & 60      & 3424629 & 1929474 & 6235    & 228040  & 8006    & 337911  & 284434  & 1295    & 1201721 & 53160   & 24985   & 516072  & 2219    & 307     & 68810  \\\\\n",
       "\t 79296   & 60      & 3392931 & 1869318 & 6095    & 228038  & 8028    & 342323  & 286600  & 1260    & 1201684 & 53110   & 24987   & 513823  & 2198    & 329     & 68850  \\\\\n",
       "\t 79313   & 58      & 3395994 & 1875906 & 5997    & 228038  & 8029    & 341473  & 286227  & 1265    & 1201781 & 53086   & 24975   & 506873  & 2138    & 309     & 68831  \\\\\n",
       "\t 79457   & 60      & 3418087 & 1918908 & 6391    & 228041  & 8001    & 337514  & 284226  & 1184    & 1201796 & 52975   & 24986   & 506392  & 2150    & 334     & 68856  \\\\\n",
       "\t 79311   & 58      & 3395177 & 1875276 & 6187    & 228038  & 8033    & 345146  & 288002  & 1244    & 1201871 & 53170   & 25000   & 508653  & 2171    & 308     & 68695  \\\\\n",
       "\t 79313   & 62      & 3406357 & 1896534 & 6007    & 228039  & 8014    & 337670  & 284369  & 1228    & 1201740 & 53092   & 24978   & 506037  & 2447    & 344     & 68849  \\\\\n",
       "\t 79344   & 56      & 3393873 & 1872720 & 6058    & 228038  & 7989    & 338130  & 284512  & 1222    & 1201682 & 53242   & 24992   & 506162  & 2170    & 303     & 68572  \\\\\n",
       "\t 79407   & 60      & 3408998 & 1897992 & 6066    & 228038  & 8035    & 343389  & 287243  & 1272    & 1201702 & 53034   & 24985   & 508049  & 2508    & 348     & 68825  \\\\\n",
       "\t 79316   & 61      & 3404361 & 1894284 & 6512    & 228041  & 8009    & 337822  & 284295  & 1223    & 1201707 & 53074   & 25005   & 506116  & 2193    & 303     & 68694  \\\\\n",
       "\t 79257   & 61      & 3393484 & 1872990 & 6092    & 228038  & 8030    & 341131  & 286022  & 1234    & 1201683 & 53052   & 24984   & 508261  & 2191    & 342     & 68580  \\\\\n",
       "\t 79300   & 63      & 3394945 & 1873080 & 6087    & 228038  & 8024    & 342493  & 286702  & 1253    & 1201740 & 53097   & 24972   & 506334  & 2186    & 298     & 68830  \\\\\n",
       "\t 79346   & 64      & 3403881 & 1886940 & 5925    & 228038  & 8023    & 337751  & 284322  & 1226    & 1201760 & 53227   & 24994   & 506161  & 2108    & 346     & 68932  \\\\\n",
       "\t 79340   & 65      & 3393513 & 1871982 & 6010    & 228038  & 8008    & 337925  & 284891  & 1221    & 1201760 & 53240   & 24999   & 508516  & 2192    & 310     & 68763  \\\\\n",
       "\\end{tabular}\n"
      ],
      "text/markdown": [
       "\n",
       "PAPI_L1_DCM | PAPI_L3_TCM | PAPI_TOT_INS | PAPI_REF_CYC | PAPI_L2_LDM | PAPI_SR_INS | PAPI_BR_UCN | PAPI_BR_CN | PAPI_BR_TKN | PAPI_BR_MSP | PAPI_FP_OPS | PAPI_L1_LDM | PAPI_L1_STM | PAPI_LD_INS | PAPI_L2_STM | PAPI_TLB_DM | PAPI_L2_DCH | \n",
       "|---|---|---|---|---|---|---|---|---|---|---|---|---|---|---|---|---|---|---|---|---|---|---|---|---|---|---|---|---|---|---|---|---|---|---|---|---|---|---|---|---|---|---|---|---|---|---|---|---|---|---|---|---|---|---|---|---|---|---|---|---|\n",
       "| 5792    | 296     |  728331 | 1280646 | 2074    | 33185   | 8405    | 206376  | 122216  | 1927    | 71      | 4451    | 777     | 119687  | 370     | 233     | 3398    | \n",
       "| 3389    |   4     | 1109926 | 1883952 |  514    | 32261   | 8125    | 281808  | 159757  | 1685    | 24      | 3007    | 630     | 196461  | 246     |  75     | 2712    | \n",
       "| 3992    |   1     | 1162254 | 1983816 |  688    | 32036   | 8128    | 261973  | 149834  | 1591    | 25      | 2793    | 567     | 178913  | 123     |  57     | 2510    | \n",
       "| 3306    |   0     | 1088427 | 1842192 |  456    | 32261   | 8104    | 278682  | 158179  | 1635    | 24      | 2776    | 486     | 179265  | 125     |  72     | 2667    | \n",
       "| 3457    |   0     | 1084172 | 1834992 |  456    | 32032   | 8115    | 279794  | 158622  | 1596    | 24      | 2890    | 546     | 210295  | 107     |  51     | 2624    | \n",
       "| 3305    |   0     | 1090388 | 1845198 |  474    | 32261   | 8114    | 275006  | 156418  | 1617    | 24      | 2752    | 486     | 179154  | 128     |  64     | 2625    | \n",
       "| 3457    |   0     | 1116139 | 1893816 |  516    | 32032   | 8122    | 285333  | 161434  | 1584    | 24      | 2783    | 539     | 178378  | 117     |  62     | 2540    | \n",
       "| 3333    |   1     | 1106619 | 1876392 |  476    | 32265   | 8107    | 277816  | 157710  | 1600    | 24      | 2754    | 481     | 178317  | 121     |  66     | 2605    | \n",
       "| 3431    |   1     | 1080156 | 1827504 |  471    | 32032   | 8114    | 274878  | 156209  | 1527    | 24      | 2804    | 542     | 177924  | 120     |  57     | 2579    | \n",
       "| 3354    |   1     | 1110830 | 1884186 |  520    | 32265   | 8143    | 349034  | 208324  | 1657    | 24      | 2989    | 511     | 183190  | 122     |  66     | 2654    | \n",
       "| 3264    |   0     | 1098323 | 1858626 |  454    | 32032   | 8105    | 274875  | 156202  | 1536    | 24      | 2814    | 530     | 208631  | 137     |  60     | 2568    | \n",
       "| 3526    |   1     | 1118051 | 1898820 |  529    | 32194   | 8146    | 282493  | 160093  | 1584    | 24      | 2918    | 519     | 176953  | 115     |  56     | 2575    | \n",
       "| 3363    |   0     | 1076929 | 1820448 |  464    | 32189   | 8091    | 284643  | 161081  | 1561    | 24      | 2839    | 508     | 214585  | 138     |  62     | 2512    | \n",
       "| 3545    |   0     | 1118273 | 1897398 |  519    | 32189   | 8146    | 275322  | 156473  | 1550    | 24      | 2829    | 534     | 177273  | 121     |  67     | 2565    | \n",
       "| 3278    |   0     | 1077259 | 1820556 |  443    | 32189   | 8093    | 273528  | 155512  | 1556    | 24      | 2766    | 492     | 180905  | 135     |  65     | 2562    | \n",
       "| 3388    |   0     | 1083949 | 1832346 |  471    | 32189   | 8126    | 284291  | 160927  | 1592    | 24      | 2764    | 528     | 177168  | 124     |  55     | 2601    | \n",
       "| 3333    |   1     | 1079360 | 1823544 |  468    | 32189   | 8099    | 272786  | 155097  | 1534    | 24      | 2775    | 492     | 179202  | 125     |  60     | 2559    | \n",
       "| 3456    |   0     | 1123417 | 1906182 |  528    | 32189   | 8119    | 275289  | 156414  | 1541    | 24      | 2932    | 535     | 182057  | 125     |  66     | 2606    | \n",
       "| 3302    |   0     | 1082259 | 1829502 |  470    | 32189   | 8089    | 287575  | 162573  | 1565    | 24      | 2765    | 503     | 204447  | 122     |  66     | 2582    | \n",
       "| 3409    |   0     | 1078858 | 1824192 |  449    | 32189   | 8123    | 275876  | 156718  | 1522    | 24      | 2815    | 531     | 177958  | 125     |  66     | 2733    | \n",
       "| 3292    |   0     | 1091422 | 1847538 |  498    | 32189   | 8152    | 296709  | 187224  | 1553    | 24      | 2857    | 508     | 212888  | 128     |  64     | 2487    | \n",
       "| 3357    |   0     | 1078913 | 1823274 |  445    | 32189   | 8103    | 284226  | 187760  | 1591    | 24      | 2787    | 516     | 177159  | 119     |  64     | 2732    | \n",
       "| 3298    |   0     | 1079893 | 1825056 |  465    | 32193   | 8180    | 309134  | 173449  | 1626    | 24      | 2782    | 490     | 179535  | 126     |  60     | 2598    | \n",
       "| 3390    |   0     | 1084135 | 1834884 |  477    | 32189   | 8103    | 272102  | 154811  | 1517    | 24      | 2824    | 524     | 177640  | 124     |  60     | 2532    | \n",
       "| 3496    |   1     | 1133320 | 1926918 |  560    | 32194   | 8145    | 282752  | 181173  | 1563    | 24      | 2766    | 489     | 178088  | 120     |  60     | 2579    | \n",
       "| 3314    |   0     | 1080954 | 1826442 |  446    | 32189   | 8134    | 273160  | 155345  | 1535    | 24      | 2873    | 531     | 181599  | 116     |  59     | 2505    | \n",
       "| 3498    |   0     | 1115137 | 1892898 |  520    | 32194   | 8113    | 274680  | 156078  | 1516    | 24      | 2777    | 499     | 177397  | 125     |  59     | 2719    | \n",
       "| 3322    |   0     | 1084433 | 1834758 |  478    | 32189   | 8102    | 281425  | 173522  | 1553    | 24      | 2801    | 521     | 178191  | 130     |  54     | 2550    | \n",
       "| 3470    |   0     | 1117228 | 1894464 |  571    | 32189   | 8104    | 272651  | 155138  | 1534    | 24      | 2913    | 520     | 206206  | 115     |  60     | 2573    | \n",
       "| 3332    |   0     | 1080774 | 1827450 |  464    | 32189   | 8153    | 275252  | 156465  | 1537    | 24      | 2789    | 540     | 177231  | 116     |  64     | 2528    | \n",
       "| ... | ... | ... | ... | ... | ... | ... | ... | ... | ... | ... | ... | ... | ... | ... | ... | ... | \n",
       "| 79270   | 59      | 3402315 | 1908738 | 7453    | 228038  | 8027    | 338297  | 284625  | 1236    | 1201748 | 53136   | 24985   | 508073  | 2150    | 319     | 68782   | \n",
       "| 79305   | 56      | 3423579 | 1971288 | 8860    | 228038  | 7997    | 343322  | 287166  | 1235    | 1201757 | 53030   | 24989   | 506457  | 2188    | 339     | 69057   | \n",
       "| 79423   | 59      | 3440939 | 1990440 | 9095    | 228038  | 8068    | 354930  | 293065  | 1342    | 1201708 | 53169   | 24994   | 506264  | 2179    | 320     | 68856   | \n",
       "| 79320   | 57      | 3395775 | 1877220 | 5984    | 228038  | 8069    | 351076  | 291020  | 1291    | 1201675 | 53149   | 24983   | 506283  | 2494    | 339     | 68812   | \n",
       "| 79389   | 63      | 3408294 | 1897974 | 5936    | 228041  | 8070    | 351392  | 291232  | 1273    | 1201772 | 53055   | 25004   | 506843  | 2118    | 322     | 68755   | \n",
       "| 79256   | 57      | 3395920 | 1874538 | 6019    | 228038  | 8097    | 357259  | 294189  | 1352    | 1201671 | 53117   | 24989   | 508421  | 2248    | 352     | 68754   | \n",
       "| 79331   | 60      | 3411867 | 1904922 | 5964    | 228038  | 8072    | 354073  | 292553  | 1314    | 1201775 | 53136   | 24964   | 506564  | 2142    | 316     | 68565   | \n",
       "| 79322   | 63      | 3402469 | 1889028 | 6423    | 228041  | 8083    | 358883  | 294946  | 1334    | 1201721 | 53152   | 24976   | 507517  | 2230    | 353     | 68739   | \n",
       "| 79300   | 59      | 3392598 | 1869390 | 6101    | 228038  | 8076    | 355267  | 293121  | 1304    | 1201777 | 53094   | 24992   | 508461  | 2167    | 312     | 68364   | \n",
       "| 79356   | 61      | 3413861 | 1908090 | 6072    | 228039  | 8069    | 339746  | 285390  | 1315    | 1201779 | 53099   | 24986   | 506243  | 2195    | 336     | 68653   | \n",
       "| 79248   | 60      | 3393883 | 1872864 | 6123    | 228038  | 8093    | 337528  | 284401  | 1287    | 1201756 | 53240   | 25011   | 522555  | 2236    | 320     | 68031   | \n",
       "| 79224   | 59      | 3395516 | 1875762 | 6116    | 228038  | 8031    | 337188  | 284036  | 1246    | 1201796 | 53052   | 24995   | 517269  | 2128    | 325     | 68818   | \n",
       "| 79402   | 56      | 3401475 | 1888200 | 6442    | 228041  | 8073    | 340985  | 286038  | 1280    | 1201707 | 53076   | 24993   | 520357  | 2116    | 336     | 67767   | \n",
       "| 79390   | 59      | 3412430 | 1905066 | 6018    | 228038  | 8014    | 337786  | 284336  | 1217    | 1201703 | 53145   | 25007   | 519980  | 2181    | 323     | 68872   | \n",
       "| 79296   | 60      | 3396657 | 1879668 | 6142    | 228038  | 8026    | 337887  | 284414  | 1239    | 1201686 | 53059   | 24990   | 519102  | 2190    | 341     | 68254   | \n",
       "| 79273   | 61      | 3395439 | 1875600 | 6169    | 228038  | 8040    | 338797  | 284841  | 1258    | 1201703 | 53018   | 24966   | 516291  | 2421    | 309     | 68641   | \n",
       "| 79312   | 59      | 3395956 | 1877598 | 6175    | 228038  | 8025    | 337744  | 284319  | 1245    | 1201681 | 53104   | 24977   | 515652  | 2167    | 343     | 68838   | \n",
       "| 79537   | 60      | 3424629 | 1929474 | 6235    | 228040  | 8006    | 337911  | 284434  | 1295    | 1201721 | 53160   | 24985   | 516072  | 2219    | 307     | 68810   | \n",
       "| 79296   | 60      | 3392931 | 1869318 | 6095    | 228038  | 8028    | 342323  | 286600  | 1260    | 1201684 | 53110   | 24987   | 513823  | 2198    | 329     | 68850   | \n",
       "| 79313   | 58      | 3395994 | 1875906 | 5997    | 228038  | 8029    | 341473  | 286227  | 1265    | 1201781 | 53086   | 24975   | 506873  | 2138    | 309     | 68831   | \n",
       "| 79457   | 60      | 3418087 | 1918908 | 6391    | 228041  | 8001    | 337514  | 284226  | 1184    | 1201796 | 52975   | 24986   | 506392  | 2150    | 334     | 68856   | \n",
       "| 79311   | 58      | 3395177 | 1875276 | 6187    | 228038  | 8033    | 345146  | 288002  | 1244    | 1201871 | 53170   | 25000   | 508653  | 2171    | 308     | 68695   | \n",
       "| 79313   | 62      | 3406357 | 1896534 | 6007    | 228039  | 8014    | 337670  | 284369  | 1228    | 1201740 | 53092   | 24978   | 506037  | 2447    | 344     | 68849   | \n",
       "| 79344   | 56      | 3393873 | 1872720 | 6058    | 228038  | 7989    | 338130  | 284512  | 1222    | 1201682 | 53242   | 24992   | 506162  | 2170    | 303     | 68572   | \n",
       "| 79407   | 60      | 3408998 | 1897992 | 6066    | 228038  | 8035    | 343389  | 287243  | 1272    | 1201702 | 53034   | 24985   | 508049  | 2508    | 348     | 68825   | \n",
       "| 79316   | 61      | 3404361 | 1894284 | 6512    | 228041  | 8009    | 337822  | 284295  | 1223    | 1201707 | 53074   | 25005   | 506116  | 2193    | 303     | 68694   | \n",
       "| 79257   | 61      | 3393484 | 1872990 | 6092    | 228038  | 8030    | 341131  | 286022  | 1234    | 1201683 | 53052   | 24984   | 508261  | 2191    | 342     | 68580   | \n",
       "| 79300   | 63      | 3394945 | 1873080 | 6087    | 228038  | 8024    | 342493  | 286702  | 1253    | 1201740 | 53097   | 24972   | 506334  | 2186    | 298     | 68830   | \n",
       "| 79346   | 64      | 3403881 | 1886940 | 5925    | 228038  | 8023    | 337751  | 284322  | 1226    | 1201760 | 53227   | 24994   | 506161  | 2108    | 346     | 68932   | \n",
       "| 79340   | 65      | 3393513 | 1871982 | 6010    | 228038  | 8008    | 337925  | 284891  | 1221    | 1201760 | 53240   | 24999   | 508516  | 2192    | 310     | 68763   | \n",
       "\n",
       "\n"
      ],
      "text/plain": [
       "        PAPI_L1_DCM PAPI_L3_TCM PAPI_TOT_INS PAPI_REF_CYC PAPI_L2_LDM\n",
       "1       5792        296          728331      1280646      2074       \n",
       "2       3389          4         1109926      1883952       514       \n",
       "3       3992          1         1162254      1983816       688       \n",
       "4       3306          0         1088427      1842192       456       \n",
       "5       3457          0         1084172      1834992       456       \n",
       "6       3305          0         1090388      1845198       474       \n",
       "7       3457          0         1116139      1893816       516       \n",
       "8       3333          1         1106619      1876392       476       \n",
       "9       3431          1         1080156      1827504       471       \n",
       "10      3354          1         1110830      1884186       520       \n",
       "11      3264          0         1098323      1858626       454       \n",
       "12      3526          1         1118051      1898820       529       \n",
       "13      3363          0         1076929      1820448       464       \n",
       "14      3545          0         1118273      1897398       519       \n",
       "15      3278          0         1077259      1820556       443       \n",
       "16      3388          0         1083949      1832346       471       \n",
       "17      3333          1         1079360      1823544       468       \n",
       "18      3456          0         1123417      1906182       528       \n",
       "19      3302          0         1082259      1829502       470       \n",
       "20      3409          0         1078858      1824192       449       \n",
       "21      3292          0         1091422      1847538       498       \n",
       "22      3357          0         1078913      1823274       445       \n",
       "23      3298          0         1079893      1825056       465       \n",
       "24      3390          0         1084135      1834884       477       \n",
       "25      3496          1         1133320      1926918       560       \n",
       "26      3314          0         1080954      1826442       446       \n",
       "27      3498          0         1115137      1892898       520       \n",
       "28      3322          0         1084433      1834758       478       \n",
       "29      3470          0         1117228      1894464       571       \n",
       "30      3332          0         1080774      1827450       464       \n",
       "...     ...         ...         ...          ...          ...        \n",
       "1547971 79270       59          3402315      1908738      7453       \n",
       "1547972 79305       56          3423579      1971288      8860       \n",
       "1547973 79423       59          3440939      1990440      9095       \n",
       "1547974 79320       57          3395775      1877220      5984       \n",
       "1547975 79389       63          3408294      1897974      5936       \n",
       "1547976 79256       57          3395920      1874538      6019       \n",
       "1547977 79331       60          3411867      1904922      5964       \n",
       "1547978 79322       63          3402469      1889028      6423       \n",
       "1547979 79300       59          3392598      1869390      6101       \n",
       "1547980 79356       61          3413861      1908090      6072       \n",
       "1547981 79248       60          3393883      1872864      6123       \n",
       "1547982 79224       59          3395516      1875762      6116       \n",
       "1547983 79402       56          3401475      1888200      6442       \n",
       "1547984 79390       59          3412430      1905066      6018       \n",
       "1547985 79296       60          3396657      1879668      6142       \n",
       "1547986 79273       61          3395439      1875600      6169       \n",
       "1547987 79312       59          3395956      1877598      6175       \n",
       "1547988 79537       60          3424629      1929474      6235       \n",
       "1547989 79296       60          3392931      1869318      6095       \n",
       "1547990 79313       58          3395994      1875906      5997       \n",
       "1547991 79457       60          3418087      1918908      6391       \n",
       "1547992 79311       58          3395177      1875276      6187       \n",
       "1547993 79313       62          3406357      1896534      6007       \n",
       "1547994 79344       56          3393873      1872720      6058       \n",
       "1547995 79407       60          3408998      1897992      6066       \n",
       "1547996 79316       61          3404361      1894284      6512       \n",
       "1547997 79257       61          3393484      1872990      6092       \n",
       "1547998 79300       63          3394945      1873080      6087       \n",
       "1547999 79346       64          3403881      1886940      5925       \n",
       "1548000 79340       65          3393513      1871982      6010       \n",
       "        PAPI_SR_INS PAPI_BR_UCN PAPI_BR_CN PAPI_BR_TKN PAPI_BR_MSP PAPI_FP_OPS\n",
       "1       33185       8405        206376     122216      1927        71         \n",
       "2       32261       8125        281808     159757      1685        24         \n",
       "3       32036       8128        261973     149834      1591        25         \n",
       "4       32261       8104        278682     158179      1635        24         \n",
       "5       32032       8115        279794     158622      1596        24         \n",
       "6       32261       8114        275006     156418      1617        24         \n",
       "7       32032       8122        285333     161434      1584        24         \n",
       "8       32265       8107        277816     157710      1600        24         \n",
       "9       32032       8114        274878     156209      1527        24         \n",
       "10      32265       8143        349034     208324      1657        24         \n",
       "11      32032       8105        274875     156202      1536        24         \n",
       "12      32194       8146        282493     160093      1584        24         \n",
       "13      32189       8091        284643     161081      1561        24         \n",
       "14      32189       8146        275322     156473      1550        24         \n",
       "15      32189       8093        273528     155512      1556        24         \n",
       "16      32189       8126        284291     160927      1592        24         \n",
       "17      32189       8099        272786     155097      1534        24         \n",
       "18      32189       8119        275289     156414      1541        24         \n",
       "19      32189       8089        287575     162573      1565        24         \n",
       "20      32189       8123        275876     156718      1522        24         \n",
       "21      32189       8152        296709     187224      1553        24         \n",
       "22      32189       8103        284226     187760      1591        24         \n",
       "23      32193       8180        309134     173449      1626        24         \n",
       "24      32189       8103        272102     154811      1517        24         \n",
       "25      32194       8145        282752     181173      1563        24         \n",
       "26      32189       8134        273160     155345      1535        24         \n",
       "27      32194       8113        274680     156078      1516        24         \n",
       "28      32189       8102        281425     173522      1553        24         \n",
       "29      32189       8104        272651     155138      1534        24         \n",
       "30      32189       8153        275252     156465      1537        24         \n",
       "...     ...         ...         ...        ...         ...         ...        \n",
       "1547971 228038      8027        338297     284625      1236        1201748    \n",
       "1547972 228038      7997        343322     287166      1235        1201757    \n",
       "1547973 228038      8068        354930     293065      1342        1201708    \n",
       "1547974 228038      8069        351076     291020      1291        1201675    \n",
       "1547975 228041      8070        351392     291232      1273        1201772    \n",
       "1547976 228038      8097        357259     294189      1352        1201671    \n",
       "1547977 228038      8072        354073     292553      1314        1201775    \n",
       "1547978 228041      8083        358883     294946      1334        1201721    \n",
       "1547979 228038      8076        355267     293121      1304        1201777    \n",
       "1547980 228039      8069        339746     285390      1315        1201779    \n",
       "1547981 228038      8093        337528     284401      1287        1201756    \n",
       "1547982 228038      8031        337188     284036      1246        1201796    \n",
       "1547983 228041      8073        340985     286038      1280        1201707    \n",
       "1547984 228038      8014        337786     284336      1217        1201703    \n",
       "1547985 228038      8026        337887     284414      1239        1201686    \n",
       "1547986 228038      8040        338797     284841      1258        1201703    \n",
       "1547987 228038      8025        337744     284319      1245        1201681    \n",
       "1547988 228040      8006        337911     284434      1295        1201721    \n",
       "1547989 228038      8028        342323     286600      1260        1201684    \n",
       "1547990 228038      8029        341473     286227      1265        1201781    \n",
       "1547991 228041      8001        337514     284226      1184        1201796    \n",
       "1547992 228038      8033        345146     288002      1244        1201871    \n",
       "1547993 228039      8014        337670     284369      1228        1201740    \n",
       "1547994 228038      7989        338130     284512      1222        1201682    \n",
       "1547995 228038      8035        343389     287243      1272        1201702    \n",
       "1547996 228041      8009        337822     284295      1223        1201707    \n",
       "1547997 228038      8030        341131     286022      1234        1201683    \n",
       "1547998 228038      8024        342493     286702      1253        1201740    \n",
       "1547999 228038      8023        337751     284322      1226        1201760    \n",
       "1548000 228038      8008        337925     284891      1221        1201760    \n",
       "        PAPI_L1_LDM PAPI_L1_STM PAPI_LD_INS PAPI_L2_STM PAPI_TLB_DM PAPI_L2_DCH\n",
       "1       4451        777         119687      370         233         3398       \n",
       "2       3007        630         196461      246          75         2712       \n",
       "3       2793        567         178913      123          57         2510       \n",
       "4       2776        486         179265      125          72         2667       \n",
       "5       2890        546         210295      107          51         2624       \n",
       "6       2752        486         179154      128          64         2625       \n",
       "7       2783        539         178378      117          62         2540       \n",
       "8       2754        481         178317      121          66         2605       \n",
       "9       2804        542         177924      120          57         2579       \n",
       "10      2989        511         183190      122          66         2654       \n",
       "11      2814        530         208631      137          60         2568       \n",
       "12      2918        519         176953      115          56         2575       \n",
       "13      2839        508         214585      138          62         2512       \n",
       "14      2829        534         177273      121          67         2565       \n",
       "15      2766        492         180905      135          65         2562       \n",
       "16      2764        528         177168      124          55         2601       \n",
       "17      2775        492         179202      125          60         2559       \n",
       "18      2932        535         182057      125          66         2606       \n",
       "19      2765        503         204447      122          66         2582       \n",
       "20      2815        531         177958      125          66         2733       \n",
       "21      2857        508         212888      128          64         2487       \n",
       "22      2787        516         177159      119          64         2732       \n",
       "23      2782        490         179535      126          60         2598       \n",
       "24      2824        524         177640      124          60         2532       \n",
       "25      2766        489         178088      120          60         2579       \n",
       "26      2873        531         181599      116          59         2505       \n",
       "27      2777        499         177397      125          59         2719       \n",
       "28      2801        521         178191      130          54         2550       \n",
       "29      2913        520         206206      115          60         2573       \n",
       "30      2789        540         177231      116          64         2528       \n",
       "...     ...         ...         ...         ...         ...         ...        \n",
       "1547971 53136       24985       508073      2150        319         68782      \n",
       "1547972 53030       24989       506457      2188        339         69057      \n",
       "1547973 53169       24994       506264      2179        320         68856      \n",
       "1547974 53149       24983       506283      2494        339         68812      \n",
       "1547975 53055       25004       506843      2118        322         68755      \n",
       "1547976 53117       24989       508421      2248        352         68754      \n",
       "1547977 53136       24964       506564      2142        316         68565      \n",
       "1547978 53152       24976       507517      2230        353         68739      \n",
       "1547979 53094       24992       508461      2167        312         68364      \n",
       "1547980 53099       24986       506243      2195        336         68653      \n",
       "1547981 53240       25011       522555      2236        320         68031      \n",
       "1547982 53052       24995       517269      2128        325         68818      \n",
       "1547983 53076       24993       520357      2116        336         67767      \n",
       "1547984 53145       25007       519980      2181        323         68872      \n",
       "1547985 53059       24990       519102      2190        341         68254      \n",
       "1547986 53018       24966       516291      2421        309         68641      \n",
       "1547987 53104       24977       515652      2167        343         68838      \n",
       "1547988 53160       24985       516072      2219        307         68810      \n",
       "1547989 53110       24987       513823      2198        329         68850      \n",
       "1547990 53086       24975       506873      2138        309         68831      \n",
       "1547991 52975       24986       506392      2150        334         68856      \n",
       "1547992 53170       25000       508653      2171        308         68695      \n",
       "1547993 53092       24978       506037      2447        344         68849      \n",
       "1547994 53242       24992       506162      2170        303         68572      \n",
       "1547995 53034       24985       508049      2508        348         68825      \n",
       "1547996 53074       25005       506116      2193        303         68694      \n",
       "1547997 53052       24984       508261      2191        342         68580      \n",
       "1547998 53097       24972       506334      2186        298         68830      \n",
       "1547999 53227       24994       506161      2108        346         68932      \n",
       "1548000 53240       24999       508516      2192        310         68763      "
      ]
     },
     "metadata": {},
     "output_type": "display_data"
    }
   ],
   "source": [
    "new_mydata"
   ]
  },
  {
   "cell_type": "code",
   "execution_count": 20,
   "metadata": {},
   "outputs": [
    {
     "data": {
      "text/html": [
       "<ol class=list-inline>\n",
       "\t<li>'id'</li>\n",
       "\t<li>'size_vector'</li>\n",
       "\t<li>'comp_opt'</li>\n",
       "\t<li>'label'</li>\n",
       "\t<li>'threads'</li>\n",
       "\t<li>'PAPI_L1_DCM'</li>\n",
       "\t<li>'PAPI_L3_TCM'</li>\n",
       "\t<li>'PAPI_TOT_INS'</li>\n",
       "\t<li>'PAPI_REF_CYC'</li>\n",
       "\t<li>'PAPI_L2_LDM'</li>\n",
       "\t<li>'PAPI_SR_INS'</li>\n",
       "\t<li>'PAPI_BR_UCN'</li>\n",
       "\t<li>'PAPI_BR_CN'</li>\n",
       "\t<li>'PAPI_BR_TKN'</li>\n",
       "\t<li>'PAPI_BR_MSP'</li>\n",
       "\t<li>'PAPI_FP_OPS'</li>\n",
       "\t<li>'PAPI_L1_LDM'</li>\n",
       "\t<li>'PAPI_L1_STM'</li>\n",
       "\t<li>'PAPI_LD_INS'</li>\n",
       "\t<li>'PAPI_L2_STM'</li>\n",
       "\t<li>'PAPI_TLB_DM'</li>\n",
       "\t<li>'PAPI_L2_DCH'</li>\n",
       "</ol>\n"
      ],
      "text/latex": [
       "\\begin{enumerate*}\n",
       "\\item 'id'\n",
       "\\item 'size\\_vector'\n",
       "\\item 'comp\\_opt'\n",
       "\\item 'label'\n",
       "\\item 'threads'\n",
       "\\item 'PAPI\\_L1\\_DCM'\n",
       "\\item 'PAPI\\_L3\\_TCM'\n",
       "\\item 'PAPI\\_TOT\\_INS'\n",
       "\\item 'PAPI\\_REF\\_CYC'\n",
       "\\item 'PAPI\\_L2\\_LDM'\n",
       "\\item 'PAPI\\_SR\\_INS'\n",
       "\\item 'PAPI\\_BR\\_UCN'\n",
       "\\item 'PAPI\\_BR\\_CN'\n",
       "\\item 'PAPI\\_BR\\_TKN'\n",
       "\\item 'PAPI\\_BR\\_MSP'\n",
       "\\item 'PAPI\\_FP\\_OPS'\n",
       "\\item 'PAPI\\_L1\\_LDM'\n",
       "\\item 'PAPI\\_L1\\_STM'\n",
       "\\item 'PAPI\\_LD\\_INS'\n",
       "\\item 'PAPI\\_L2\\_STM'\n",
       "\\item 'PAPI\\_TLB\\_DM'\n",
       "\\item 'PAPI\\_L2\\_DCH'\n",
       "\\end{enumerate*}\n"
      ],
      "text/markdown": [
       "1. 'id'\n",
       "2. 'size_vector'\n",
       "3. 'comp_opt'\n",
       "4. 'label'\n",
       "5. 'threads'\n",
       "6. 'PAPI_L1_DCM'\n",
       "7. 'PAPI_L3_TCM'\n",
       "8. 'PAPI_TOT_INS'\n",
       "9. 'PAPI_REF_CYC'\n",
       "10. 'PAPI_L2_LDM'\n",
       "11. 'PAPI_SR_INS'\n",
       "12. 'PAPI_BR_UCN'\n",
       "13. 'PAPI_BR_CN'\n",
       "14. 'PAPI_BR_TKN'\n",
       "15. 'PAPI_BR_MSP'\n",
       "16. 'PAPI_FP_OPS'\n",
       "17. 'PAPI_L1_LDM'\n",
       "18. 'PAPI_L1_STM'\n",
       "19. 'PAPI_LD_INS'\n",
       "20. 'PAPI_L2_STM'\n",
       "21. 'PAPI_TLB_DM'\n",
       "22. 'PAPI_L2_DCH'\n",
       "\n",
       "\n"
      ],
      "text/plain": [
       " [1] \"id\"           \"size_vector\"  \"comp_opt\"     \"label\"        \"threads\"     \n",
       " [6] \"PAPI_L1_DCM\"  \"PAPI_L3_TCM\"  \"PAPI_TOT_INS\" \"PAPI_REF_CYC\" \"PAPI_L2_LDM\" \n",
       "[11] \"PAPI_SR_INS\"  \"PAPI_BR_UCN\"  \"PAPI_BR_CN\"   \"PAPI_BR_TKN\"  \"PAPI_BR_MSP\" \n",
       "[16] \"PAPI_FP_OPS\"  \"PAPI_L1_LDM\"  \"PAPI_L1_STM\"  \"PAPI_LD_INS\"  \"PAPI_L2_STM\" \n",
       "[21] \"PAPI_TLB_DM\"  \"PAPI_L2_DCH\" "
      ]
     },
     "metadata": {},
     "output_type": "display_data"
    }
   ],
   "source": [
    "colnames(mydata_no_time)\n",
    "log.ir <-scale(new_mydata, center = TRUE, scale = TRUE)\n",
    "res.label <- mydata_no_time[,4]\n",
    "res.pca <- prcomp(log.ir, center = TRUE, scale. = TRUE)\n",
    "\n"
   ]
  },
  {
   "cell_type": "code",
   "execution_count": 21,
   "metadata": {},
   "outputs": [
    {
     "name": "stdout",
     "output_type": "stream",
     "text": [
      "Standard deviations (1, .., p=17):\n",
      " [1] 3.318865731 1.502962062 0.958927204 0.832702310 0.740999024 0.726233225\n",
      " [7] 0.689109924 0.477307310 0.368839675 0.301269942 0.228968784 0.198261026\n",
      "[13] 0.108145158 0.047398211 0.035239715 0.018785515 0.005886896\n",
      "\n",
      "Rotation (n x k) = (17 x 17):\n",
      "                   PC1         PC2         PC3         PC4          PC5\n",
      "PAPI_L1_DCM  0.2808349  0.15730548 -0.22848759  0.05473066 -0.057524046\n",
      "PAPI_L3_TCM  0.2563899  0.20720725 -0.02009473 -0.06600894  0.363997034\n",
      "PAPI_TOT_INS 0.2647949 -0.29604947  0.01843058  0.04792799  0.071557379\n",
      "PAPI_REF_CYC 0.2615849  0.16402431 -0.05374183 -0.20260704  0.388676119\n",
      "PAPI_L2_LDM  0.2439970  0.25923135 -0.06433323  0.17418802  0.077195298\n",
      "PAPI_SR_INS  0.2755932 -0.19309615  0.09587276  0.07162522 -0.029775059\n",
      "PAPI_BR_UCN  0.1810360 -0.01330907  0.10232183 -0.88210682 -0.316980415\n",
      "PAPI_BR_CN   0.2750366 -0.19723479  0.14409772  0.05071551 -0.039087188\n",
      "PAPI_BR_TKN  0.2748683 -0.19799334  0.14315414  0.05733359 -0.040917161\n",
      "PAPI_BR_MSP  0.2587601  0.14126143  0.19623324 -0.14097172  0.276666919\n",
      "PAPI_FP_OPS  0.2025947 -0.39302092 -0.25943584 -0.04463793  0.290600592\n",
      "PAPI_L1_LDM  0.2645225  0.15410622 -0.11215378  0.19064219 -0.030339474\n",
      "PAPI_L1_STM  0.2490439  0.22578231 -0.30058623  0.05988650 -0.322854465\n",
      "PAPI_LD_INS  0.2357407 -0.28230440  0.31151684  0.14308188  0.006669197\n",
      "PAPI_L2_STM  0.2332910  0.28691836 -0.28158998  0.05162945 -0.279375648\n",
      "PAPI_TLB_DM  0.1528492  0.28465091  0.66899274  0.18730382 -0.276837316\n",
      "PAPI_L2_DCH  0.1550402 -0.37790626 -0.21557469  0.09919795 -0.420238476\n",
      "                     PC6         PC7         PC8         PC9         PC10\n",
      "PAPI_L1_DCM   0.04903009 -0.09856982  0.10585475 -0.06406558  0.129560844\n",
      "PAPI_L3_TCM   0.19438850  0.05934937 -0.12066083  0.72620641  0.126257994\n",
      "PAPI_TOT_INS -0.11442977  0.05754133 -0.13353163 -0.08656008 -0.321985054\n",
      "PAPI_REF_CYC  0.23983342  0.18037772  0.09944278 -0.04938837  0.103895568\n",
      "PAPI_L2_LDM  -0.23110862 -0.53152175 -0.03642962 -0.04557468 -0.061553571\n",
      "PAPI_SR_INS  -0.13597728  0.06864054  0.26650822  0.09463666 -0.074802704\n",
      "PAPI_BR_UCN  -0.13692267 -0.21286990 -0.10497244  0.04812973  0.011003298\n",
      "PAPI_BR_CN   -0.16952015  0.09136409  0.33419037  0.13920716 -0.167388677\n",
      "PAPI_BR_TKN  -0.16839047  0.09203541  0.33400180  0.14404863 -0.167475558\n",
      "PAPI_BR_MSP   0.32360820  0.04334151  0.25622231 -0.59232443  0.033181248\n",
      "PAPI_FP_OPS   0.05419188  0.02739403 -0.57710713 -0.14034467 -0.300407862\n",
      "PAPI_L1_LDM  -0.08357034 -0.52738992 -0.04411039 -0.04963747  0.001350048\n",
      "PAPI_L1_STM  -0.04471804  0.34060900 -0.07928844 -0.05257805  0.009280179\n",
      "PAPI_LD_INS  -0.23454311  0.06560938 -0.28058385 -0.10156600  0.769890106\n",
      "PAPI_L2_STM  -0.16870373  0.40058158 -0.12697375 -0.09483584  0.018061668\n",
      "PAPI_TLB_DM   0.28458563  0.05158289 -0.36027022  0.03697143 -0.285529936\n",
      "PAPI_L2_DCH   0.67849136 -0.19323974  0.09123403  0.09305998  0.145649184\n",
      "                     PC11         PC12         PC13         PC14         PC15\n",
      "PAPI_L1_DCM  -0.029042871 -0.365790631  0.808702804 -0.068758799  0.016044210\n",
      "PAPI_L3_TCM  -0.042587840 -0.323976252 -0.196602868  0.074970381 -0.061810492\n",
      "PAPI_TOT_INS -0.084956466 -0.051731101  0.093153995  0.767850935 -0.283365840\n",
      "PAPI_REF_CYC  0.085443277  0.733567108  0.217326426  0.061194053  0.001695246\n",
      "PAPI_L2_LDM   0.001009545  0.104936716 -0.143129150  0.170000107  0.440543547\n",
      "PAPI_SR_INS  -0.829276754  0.122184466 -0.032396955 -0.240900354  0.031666209\n",
      "PAPI_BR_UCN  -0.015830195 -0.013960703 -0.003000061 -0.001012837 -0.001601554\n",
      "PAPI_BR_CN    0.375117338 -0.009878586 -0.012164497 -0.132966886  0.064246514\n",
      "PAPI_BR_TKN   0.374611908 -0.019745987 -0.014591162 -0.143966375  0.052720667\n",
      "PAPI_BR_MSP  -0.025819456 -0.393757733 -0.312858444 -0.015121030 -0.010990028\n",
      "PAPI_FP_OPS   0.051458775 -0.056627032  0.006998614 -0.413468933  0.164264959\n",
      "PAPI_L1_LDM   0.063318464  0.145407440 -0.167020203 -0.176480037 -0.469808070\n",
      "PAPI_L1_STM  -0.013985253  0.001609641 -0.191030490  0.178410720  0.503059359\n",
      "PAPI_LD_INS   0.057986302  0.013633999 -0.009913637  0.036374912  0.033341296\n",
      "PAPI_L2_STM   0.039753886  0.020346572 -0.164449852 -0.148986339 -0.458916367\n",
      "PAPI_TLB_DM  -0.008413249  0.076404155  0.159219612 -0.087967014  0.031615323\n",
      "PAPI_L2_DCH   0.035957690  0.089339203 -0.121336515  0.074513721  0.004945565\n",
      "                      PC16          PC17\n",
      "PAPI_L1_DCM  -0.0050403620  0.0017278241\n",
      "PAPI_L3_TCM  -0.0016523646  0.0043146504\n",
      "PAPI_TOT_INS -0.0245840595 -0.0033497372\n",
      "PAPI_REF_CYC -0.0053993058 -0.0074236039\n",
      "PAPI_L2_LDM   0.4849286834 -0.0085145730\n",
      "PAPI_SR_INS   0.0075765866  0.0016640508\n",
      "PAPI_BR_UCN   0.0002843397 -0.0037059815\n",
      "PAPI_BR_CN    0.0089142636  0.7082218377\n",
      "PAPI_BR_TKN  -0.0001837522 -0.7058099974\n",
      "PAPI_BR_MSP   0.0046520724  0.0004306275\n",
      "PAPI_FP_OPS   0.0146536678  0.0015938718\n",
      "PAPI_L1_LDM  -0.5117817314  0.0081553179\n",
      "PAPI_L1_STM  -0.4899825944 -0.0013101943\n",
      "PAPI_LD_INS  -0.0006458917 -0.0005867378\n",
      "PAPI_L2_STM   0.4764769870  0.0023158557\n",
      "PAPI_TLB_DM   0.0014074397  0.0006757507\n",
      "PAPI_L2_DCH   0.1864750713 -0.0001637163\n"
     ]
    }
   ],
   "source": [
    "print(res.pca)"
   ]
  },
  {
   "cell_type": "code",
   "execution_count": 22,
   "metadata": {},
   "outputs": [
    {
     "data": {
      "text/html": [
       "<ol class=list-inline>\n",
       "\t<li>'sdev'</li>\n",
       "\t<li>'rotation'</li>\n",
       "\t<li>'center'</li>\n",
       "\t<li>'scale'</li>\n",
       "\t<li>'x'</li>\n",
       "</ol>\n"
      ],
      "text/latex": [
       "\\begin{enumerate*}\n",
       "\\item 'sdev'\n",
       "\\item 'rotation'\n",
       "\\item 'center'\n",
       "\\item 'scale'\n",
       "\\item 'x'\n",
       "\\end{enumerate*}\n"
      ],
      "text/markdown": [
       "1. 'sdev'\n",
       "2. 'rotation'\n",
       "3. 'center'\n",
       "4. 'scale'\n",
       "5. 'x'\n",
       "\n",
       "\n"
      ],
      "text/plain": [
       "[1] \"sdev\"     \"rotation\" \"center\"   \"scale\"    \"x\"       "
      ]
     },
     "metadata": {},
     "output_type": "display_data"
    }
   ],
   "source": [
    "names(res.pca)"
   ]
  },
  {
   "cell_type": "code",
   "execution_count": 23,
   "metadata": {},
   "outputs": [
    {
     "name": "stdout",
     "output_type": "stream",
     "text": [
      " [1] 3.318865731 1.502962062 0.958927204 0.832702310 0.740999024 0.726233225\n",
      " [7] 0.689109924 0.477307310 0.368839675 0.301269942 0.228968784 0.198261026\n",
      "[13] 0.108145158 0.047398211 0.035239715 0.018785515 0.005886896\n"
     ]
    }
   ],
   "source": [
    "print(res.pca$sdev)"
   ]
  },
  {
   "cell_type": "code",
   "execution_count": 24,
   "metadata": {},
   "outputs": [
    {
     "data": {
      "text/html": [
       "<table>\n",
       "<thead><tr><th></th><th scope=col>PC1</th><th scope=col>PC2</th><th scope=col>PC3</th><th scope=col>PC4</th><th scope=col>PC5</th><th scope=col>PC6</th><th scope=col>PC7</th><th scope=col>PC8</th><th scope=col>PC9</th><th scope=col>PC10</th><th scope=col>PC11</th><th scope=col>PC12</th><th scope=col>PC13</th><th scope=col>PC14</th><th scope=col>PC15</th><th scope=col>PC16</th><th scope=col>PC17</th></tr></thead>\n",
       "<tbody>\n",
       "\t<tr><th scope=row>PAPI_L1_DCM</th><td>0.2808349   </td><td> 0.1573055  </td><td>-0.22848759 </td><td> 0.05473066 </td><td>-0.05752405 </td><td> 0.04903009 </td><td>-0.09856982 </td><td> 0.10585475 </td><td>-0.06406558 </td><td> 0.12956084 </td><td>-0.029042871</td><td>-0.3657906  </td><td> 0.80870280 </td><td>-0.06875880 </td><td> 0.016044210</td><td>-0.005040362</td><td> 0.001727824</td></tr>\n",
       "\t<tr><th scope=row>PAPI_L3_TCM</th><td>0.2563899   </td><td> 0.2072072  </td><td>-0.02009473 </td><td>-0.06600894 </td><td> 0.36399703 </td><td> 0.19438850 </td><td> 0.05934937 </td><td>-0.12066083 </td><td> 0.72620641 </td><td> 0.12625799 </td><td>-0.042587840</td><td>-0.3239763  </td><td>-0.19660287 </td><td> 0.07497038 </td><td>-0.061810492</td><td>-0.001652365</td><td> 0.004314650</td></tr>\n",
       "\t<tr><th scope=row>PAPI_TOT_INS</th><td>0.2647949   </td><td>-0.2960495  </td><td> 0.01843058 </td><td> 0.04792799 </td><td> 0.07155738 </td><td>-0.11442977 </td><td> 0.05754133 </td><td>-0.13353163 </td><td>-0.08656008 </td><td>-0.32198505 </td><td>-0.084956466</td><td>-0.0517311  </td><td> 0.09315400 </td><td> 0.76785094 </td><td>-0.283365840</td><td>-0.024584059</td><td>-0.003349737</td></tr>\n",
       "\t<tr><th scope=row>PAPI_REF_CYC</th><td>0.2615849   </td><td> 0.1640243  </td><td>-0.05374183 </td><td>-0.20260704 </td><td> 0.38867612 </td><td> 0.23983342 </td><td> 0.18037772 </td><td> 0.09944278 </td><td>-0.04938837 </td><td> 0.10389557 </td><td> 0.085443277</td><td> 0.7335671  </td><td> 0.21732643 </td><td> 0.06119405 </td><td> 0.001695246</td><td>-0.005399306</td><td>-0.007423604</td></tr>\n",
       "\t<tr><th scope=row>PAPI_L2_LDM</th><td>0.2439970   </td><td> 0.2592313  </td><td>-0.06433323 </td><td> 0.17418802 </td><td> 0.07719530 </td><td>-0.23110862 </td><td>-0.53152175 </td><td>-0.03642962 </td><td>-0.04557468 </td><td>-0.06155357 </td><td> 0.001009545</td><td> 0.1049367  </td><td>-0.14312915 </td><td> 0.17000011 </td><td> 0.440543547</td><td> 0.484928683</td><td>-0.008514573</td></tr>\n",
       "\t<tr><th scope=row>PAPI_SR_INS</th><td>0.2755932   </td><td>-0.1930961  </td><td> 0.09587276 </td><td> 0.07162522 </td><td>-0.02977506 </td><td>-0.13597728 </td><td> 0.06864054 </td><td> 0.26650822 </td><td> 0.09463666 </td><td>-0.07480270 </td><td>-0.829276754</td><td> 0.1221845  </td><td>-0.03239695 </td><td>-0.24090035 </td><td> 0.031666209</td><td> 0.007576587</td><td> 0.001664051</td></tr>\n",
       "</tbody>\n",
       "</table>\n"
      ],
      "text/latex": [
       "\\begin{tabular}{r|lllllllllllllllll}\n",
       "  & PC1 & PC2 & PC3 & PC4 & PC5 & PC6 & PC7 & PC8 & PC9 & PC10 & PC11 & PC12 & PC13 & PC14 & PC15 & PC16 & PC17\\\\\n",
       "\\hline\n",
       "\tPAPI\\_L1\\_DCM & 0.2808349    &  0.1573055   & -0.22848759  &  0.05473066  & -0.05752405  &  0.04903009  & -0.09856982  &  0.10585475  & -0.06406558  &  0.12956084  & -0.029042871 & -0.3657906   &  0.80870280  & -0.06875880  &  0.016044210 & -0.005040362 &  0.001727824\\\\\n",
       "\tPAPI\\_L3\\_TCM & 0.2563899    &  0.2072072   & -0.02009473  & -0.06600894  &  0.36399703  &  0.19438850  &  0.05934937  & -0.12066083  &  0.72620641  &  0.12625799  & -0.042587840 & -0.3239763   & -0.19660287  &  0.07497038  & -0.061810492 & -0.001652365 &  0.004314650\\\\\n",
       "\tPAPI\\_TOT\\_INS & 0.2647949    & -0.2960495   &  0.01843058  &  0.04792799  &  0.07155738  & -0.11442977  &  0.05754133  & -0.13353163  & -0.08656008  & -0.32198505  & -0.084956466 & -0.0517311   &  0.09315400  &  0.76785094  & -0.283365840 & -0.024584059 & -0.003349737\\\\\n",
       "\tPAPI\\_REF\\_CYC & 0.2615849    &  0.1640243   & -0.05374183  & -0.20260704  &  0.38867612  &  0.23983342  &  0.18037772  &  0.09944278  & -0.04938837  &  0.10389557  &  0.085443277 &  0.7335671   &  0.21732643  &  0.06119405  &  0.001695246 & -0.005399306 & -0.007423604\\\\\n",
       "\tPAPI\\_L2\\_LDM & 0.2439970    &  0.2592313   & -0.06433323  &  0.17418802  &  0.07719530  & -0.23110862  & -0.53152175  & -0.03642962  & -0.04557468  & -0.06155357  &  0.001009545 &  0.1049367   & -0.14312915  &  0.17000011  &  0.440543547 &  0.484928683 & -0.008514573\\\\\n",
       "\tPAPI\\_SR\\_INS & 0.2755932    & -0.1930961   &  0.09587276  &  0.07162522  & -0.02977506  & -0.13597728  &  0.06864054  &  0.26650822  &  0.09463666  & -0.07480270  & -0.829276754 &  0.1221845   & -0.03239695  & -0.24090035  &  0.031666209 &  0.007576587 &  0.001664051\\\\\n",
       "\\end{tabular}\n"
      ],
      "text/markdown": [
       "\n",
       "| <!--/--> | PC1 | PC2 | PC3 | PC4 | PC5 | PC6 | PC7 | PC8 | PC9 | PC10 | PC11 | PC12 | PC13 | PC14 | PC15 | PC16 | PC17 | \n",
       "|---|---|---|---|---|---|\n",
       "| PAPI_L1_DCM | 0.2808349    |  0.1573055   | -0.22848759  |  0.05473066  | -0.05752405  |  0.04903009  | -0.09856982  |  0.10585475  | -0.06406558  |  0.12956084  | -0.029042871 | -0.3657906   |  0.80870280  | -0.06875880  |  0.016044210 | -0.005040362 |  0.001727824 | \n",
       "| PAPI_L3_TCM | 0.2563899    |  0.2072072   | -0.02009473  | -0.06600894  |  0.36399703  |  0.19438850  |  0.05934937  | -0.12066083  |  0.72620641  |  0.12625799  | -0.042587840 | -0.3239763   | -0.19660287  |  0.07497038  | -0.061810492 | -0.001652365 |  0.004314650 | \n",
       "| PAPI_TOT_INS | 0.2647949    | -0.2960495   |  0.01843058  |  0.04792799  |  0.07155738  | -0.11442977  |  0.05754133  | -0.13353163  | -0.08656008  | -0.32198505  | -0.084956466 | -0.0517311   |  0.09315400  |  0.76785094  | -0.283365840 | -0.024584059 | -0.003349737 | \n",
       "| PAPI_REF_CYC | 0.2615849    |  0.1640243   | -0.05374183  | -0.20260704  |  0.38867612  |  0.23983342  |  0.18037772  |  0.09944278  | -0.04938837  |  0.10389557  |  0.085443277 |  0.7335671   |  0.21732643  |  0.06119405  |  0.001695246 | -0.005399306 | -0.007423604 | \n",
       "| PAPI_L2_LDM | 0.2439970    |  0.2592313   | -0.06433323  |  0.17418802  |  0.07719530  | -0.23110862  | -0.53152175  | -0.03642962  | -0.04557468  | -0.06155357  |  0.001009545 |  0.1049367   | -0.14312915  |  0.17000011  |  0.440543547 |  0.484928683 | -0.008514573 | \n",
       "| PAPI_SR_INS | 0.2755932    | -0.1930961   |  0.09587276  |  0.07162522  | -0.02977506  | -0.13597728  |  0.06864054  |  0.26650822  |  0.09463666  | -0.07480270  | -0.829276754 |  0.1221845   | -0.03239695  | -0.24090035  |  0.031666209 |  0.007576587 |  0.001664051 | \n",
       "\n",
       "\n"
      ],
      "text/plain": [
       "             PC1       PC2        PC3         PC4         PC5        \n",
       "PAPI_L1_DCM  0.2808349  0.1573055 -0.22848759  0.05473066 -0.05752405\n",
       "PAPI_L3_TCM  0.2563899  0.2072072 -0.02009473 -0.06600894  0.36399703\n",
       "PAPI_TOT_INS 0.2647949 -0.2960495  0.01843058  0.04792799  0.07155738\n",
       "PAPI_REF_CYC 0.2615849  0.1640243 -0.05374183 -0.20260704  0.38867612\n",
       "PAPI_L2_LDM  0.2439970  0.2592313 -0.06433323  0.17418802  0.07719530\n",
       "PAPI_SR_INS  0.2755932 -0.1930961  0.09587276  0.07162522 -0.02977506\n",
       "             PC6         PC7         PC8         PC9         PC10       \n",
       "PAPI_L1_DCM   0.04903009 -0.09856982  0.10585475 -0.06406558  0.12956084\n",
       "PAPI_L3_TCM   0.19438850  0.05934937 -0.12066083  0.72620641  0.12625799\n",
       "PAPI_TOT_INS -0.11442977  0.05754133 -0.13353163 -0.08656008 -0.32198505\n",
       "PAPI_REF_CYC  0.23983342  0.18037772  0.09944278 -0.04938837  0.10389557\n",
       "PAPI_L2_LDM  -0.23110862 -0.53152175 -0.03642962 -0.04557468 -0.06155357\n",
       "PAPI_SR_INS  -0.13597728  0.06864054  0.26650822  0.09463666 -0.07480270\n",
       "             PC11         PC12       PC13        PC14        PC15        \n",
       "PAPI_L1_DCM  -0.029042871 -0.3657906  0.80870280 -0.06875880  0.016044210\n",
       "PAPI_L3_TCM  -0.042587840 -0.3239763 -0.19660287  0.07497038 -0.061810492\n",
       "PAPI_TOT_INS -0.084956466 -0.0517311  0.09315400  0.76785094 -0.283365840\n",
       "PAPI_REF_CYC  0.085443277  0.7335671  0.21732643  0.06119405  0.001695246\n",
       "PAPI_L2_LDM   0.001009545  0.1049367 -0.14312915  0.17000011  0.440543547\n",
       "PAPI_SR_INS  -0.829276754  0.1221845 -0.03239695 -0.24090035  0.031666209\n",
       "             PC16         PC17        \n",
       "PAPI_L1_DCM  -0.005040362  0.001727824\n",
       "PAPI_L3_TCM  -0.001652365  0.004314650\n",
       "PAPI_TOT_INS -0.024584059 -0.003349737\n",
       "PAPI_REF_CYC -0.005399306 -0.007423604\n",
       "PAPI_L2_LDM   0.484928683 -0.008514573\n",
       "PAPI_SR_INS   0.007576587  0.001664051"
      ]
     },
     "metadata": {},
     "output_type": "display_data"
    }
   ],
   "source": [
    "head(unclass(res.pca$rotation)[])"
   ]
  },
  {
   "cell_type": "code",
   "execution_count": 25,
   "metadata": {},
   "outputs": [
    {
     "name": "stdout",
     "output_type": "stream",
     "text": [
      " [1] 1.101487e+01 2.258895e+00 9.195414e-01 6.933931e-01 5.490796e-01\n",
      " [6] 5.274147e-01 4.748725e-01 2.278223e-01 1.360427e-01 9.076358e-02\n",
      "[11] 5.242670e-02 3.930743e-02 1.169538e-02 2.246590e-03 1.241838e-03\n",
      "[16] 3.528956e-04 3.465554e-05\n"
     ]
    }
   ],
   "source": [
    "# Eigenvalues\n",
    "eig <- (res.pca$sdev)^2\n",
    "print(eig)"
   ]
  },
  {
   "cell_type": "code",
   "execution_count": 26,
   "metadata": {},
   "outputs": [
    {
     "name": "stdout",
     "output_type": "stream",
     "text": [
      " [1] 6.479335e+01 1.328762e+01 5.409067e+00 4.078783e+00 3.229880e+00\n",
      " [6] 3.102439e+00 2.793368e+00 1.340131e+00 8.002512e-01 5.339034e-01\n",
      "[11] 3.083924e-01 2.312202e-01 6.879632e-02 1.321524e-02 7.304927e-03\n",
      "[16] 2.075856e-03 2.038561e-04\n"
     ]
    }
   ],
   "source": [
    "# Variances in percentage\n",
    "variance <- eig*100/sum(eig)\n",
    "print(variance)"
   ]
  },
  {
   "cell_type": "code",
   "execution_count": 27,
   "metadata": {},
   "outputs": [
    {
     "name": "stdout",
     "output_type": "stream",
     "text": [
      " [1]  64.79335  78.08097  83.49004  87.56882  90.79870  93.90114  96.69451\n",
      " [8]  98.03464  98.83489  99.36879  99.67718  99.90840  99.97720  99.99042\n",
      "[15]  99.99772  99.99980 100.00000\n"
     ]
    }
   ],
   "source": [
    "# Cumulative variances\n",
    "cumvar <- cumsum(variance)\n",
    "print(cumvar)"
   ]
  },
  {
   "cell_type": "code",
   "execution_count": 28,
   "metadata": {},
   "outputs": [
    {
     "name": "stdout",
     "output_type": "stream",
     "text": [
      "            eig     variance cumvariance\n",
      "1  1.101487e+01 6.479335e+01    64.79335\n",
      "2  2.258895e+00 1.328762e+01    78.08097\n",
      "3  9.195414e-01 5.409067e+00    83.49004\n",
      "4  6.933931e-01 4.078783e+00    87.56882\n",
      "5  5.490796e-01 3.229880e+00    90.79870\n",
      "6  5.274147e-01 3.102439e+00    93.90114\n",
      "7  4.748725e-01 2.793368e+00    96.69451\n",
      "8  2.278223e-01 1.340131e+00    98.03464\n",
      "9  1.360427e-01 8.002512e-01    98.83489\n",
      "10 9.076358e-02 5.339034e-01    99.36879\n",
      "11 5.242670e-02 3.083924e-01    99.67718\n",
      "12 3.930743e-02 2.312202e-01    99.90840\n",
      "13 1.169538e-02 6.879632e-02    99.97720\n",
      "14 2.246590e-03 1.321524e-02    99.99042\n",
      "15 1.241838e-03 7.304927e-03    99.99772\n",
      "16 3.528956e-04 2.075856e-03    99.99980\n",
      "17 3.465554e-05 2.038561e-04   100.00000\n"
     ]
    }
   ],
   "source": [
    "eig.decathlon2.active <- data.frame(eig = eig, variance = variance,cumvariance = cumvar)\n",
    "print(eig.decathlon2.active)"
   ]
  },
  {
   "cell_type": "code",
   "execution_count": 29,
   "metadata": {},
   "outputs": [
    {
     "data": {
      "text/plain": [
       "Importance of components:\n",
       "                          PC1    PC2     PC3     PC4    PC5     PC6     PC7\n",
       "Standard deviation     3.3189 1.5030 0.95893 0.83270 0.7410 0.72623 0.68911\n",
       "Proportion of Variance 0.6479 0.1329 0.05409 0.04079 0.0323 0.03102 0.02793\n",
       "Cumulative Proportion  0.6479 0.7808 0.83490 0.87569 0.9080 0.93901 0.96695\n",
       "                          PC8    PC9    PC10    PC11    PC12    PC13    PC14\n",
       "Standard deviation     0.4773 0.3688 0.30127 0.22897 0.19826 0.10815 0.04740\n",
       "Proportion of Variance 0.0134 0.0080 0.00534 0.00308 0.00231 0.00069 0.00013\n",
       "Cumulative Proportion  0.9804 0.9883 0.99369 0.99677 0.99908 0.99977 0.99990\n",
       "                          PC15    PC16     PC17\n",
       "Standard deviation     0.03524 0.01879 0.005887\n",
       "Proportion of Variance 0.00007 0.00002 0.000000\n",
       "Cumulative Proportion  0.99998 1.00000 1.000000"
      ]
     },
     "metadata": {},
     "output_type": "display_data"
    }
   ],
   "source": [
    "summary(res.pca)"
   ]
  },
  {
   "cell_type": "code",
   "execution_count": 30,
   "metadata": {},
   "outputs": [
    {
     "data": {
      "text/html": [
       "<table>\n",
       "<thead><tr><th></th><th scope=col>eigenvalue</th><th scope=col>variance.percent</th><th scope=col>cumulative.variance.percent</th></tr></thead>\n",
       "<tbody>\n",
       "\t<tr><th scope=row>Dim.1</th><td>11.0148697</td><td>64.793351 </td><td>64.79335  </td></tr>\n",
       "\t<tr><th scope=row>Dim.2</th><td> 2.2588950</td><td>13.287617 </td><td>78.08097  </td></tr>\n",
       "\t<tr><th scope=row>Dim.3</th><td> 0.9195414</td><td> 5.409067 </td><td>83.49004  </td></tr>\n",
       "\t<tr><th scope=row>Dim.4</th><td> 0.6933931</td><td> 4.078783 </td><td>87.56882  </td></tr>\n",
       "\t<tr><th scope=row>Dim.5</th><td> 0.5490796</td><td> 3.229880 </td><td>90.79870  </td></tr>\n",
       "\t<tr><th scope=row>Dim.6</th><td> 0.5274147</td><td> 3.102439 </td><td>93.90114  </td></tr>\n",
       "</tbody>\n",
       "</table>\n"
      ],
      "text/latex": [
       "\\begin{tabular}{r|lll}\n",
       "  & eigenvalue & variance.percent & cumulative.variance.percent\\\\\n",
       "\\hline\n",
       "\tDim.1 & 11.0148697 & 64.793351  & 64.79335  \\\\\n",
       "\tDim.2 &  2.2588950 & 13.287617  & 78.08097  \\\\\n",
       "\tDim.3 &  0.9195414 &  5.409067  & 83.49004  \\\\\n",
       "\tDim.4 &  0.6933931 &  4.078783  & 87.56882  \\\\\n",
       "\tDim.5 &  0.5490796 &  3.229880  & 90.79870  \\\\\n",
       "\tDim.6 &  0.5274147 &  3.102439  & 93.90114  \\\\\n",
       "\\end{tabular}\n"
      ],
      "text/markdown": [
       "\n",
       "| <!--/--> | eigenvalue | variance.percent | cumulative.variance.percent | \n",
       "|---|---|---|---|---|---|\n",
       "| Dim.1 | 11.0148697 | 64.793351  | 64.79335   | \n",
       "| Dim.2 |  2.2588950 | 13.287617  | 78.08097   | \n",
       "| Dim.3 |  0.9195414 |  5.409067  | 83.49004   | \n",
       "| Dim.4 |  0.6933931 |  4.078783  | 87.56882   | \n",
       "| Dim.5 |  0.5490796 |  3.229880  | 90.79870   | \n",
       "| Dim.6 |  0.5274147 |  3.102439  | 93.90114   | \n",
       "\n",
       "\n"
      ],
      "text/plain": [
       "      eigenvalue variance.percent cumulative.variance.percent\n",
       "Dim.1 11.0148697 64.793351        64.79335                   \n",
       "Dim.2  2.2588950 13.287617        78.08097                   \n",
       "Dim.3  0.9195414  5.409067        83.49004                   \n",
       "Dim.4  0.6933931  4.078783        87.56882                   \n",
       "Dim.5  0.5490796  3.229880        90.79870                   \n",
       "Dim.6  0.5274147  3.102439        93.90114                   "
      ]
     },
     "metadata": {},
     "output_type": "display_data"
    }
   ],
   "source": [
    "library(\"factoextra\")\n",
    "eig.val <- get_eigenvalue(res.pca)\n",
    "head(eig.val)"
   ]
  },
  {
   "cell_type": "code",
   "execution_count": 31,
   "metadata": {},
   "outputs": [],
   "source": [
    "options(repr.plot.width = 20, repr.plot.height = 10)"
   ]
  },
  {
   "cell_type": "code",
   "execution_count": 32,
   "metadata": {},
   "outputs": [
    {
     "data": {
      "image/png": "[encoded data removed]",
      "text/plain": [
       "Plot with title \"Variances\""
      ]
     },
     "metadata": {},
     "output_type": "display_data"
    }
   ],
   "source": [
    "barplot(eig.decathlon2.active[, 2], names.arg=1:nrow(eig.decathlon2.active), \n",
    "       main = \"Variances\",\n",
    "       xlab = \"Principal Components\",\n",
    "       ylab = \"Percentage of variances\",\n",
    "       col =\"steelblue\")\n",
    "# Add connected line segments to the plot\n",
    "lines(x = 1:nrow(eig.decathlon2.active), \n",
    "      eig.decathlon2.active[, 2], \n",
    "      type=\"b\", pch=19, col = \"red\")"
   ]
  },
  {
   "cell_type": "code",
   "execution_count": 33,
   "metadata": {
    "scrolled": false
   },
   "outputs": [
    {
     "data": {},
     "metadata": {},
     "output_type": "display_data"
    },
    {
     "data": {
      "image/png": "[encoded data removed]",
      "text/plain": [
       "plot without title"
      ]
     },
     "metadata": {},
     "output_type": "display_data"
    }
   ],
   "source": [
    "fviz_screeplot(res.pca, ncp=54)"
   ]
  },
  {
   "cell_type": "code",
   "execution_count": 34,
   "metadata": {},
   "outputs": [
    {
     "data": {
      "text/plain": [
       "Principal Component Analysis Results for variables\n",
       " ===================================================\n",
       "  Name       Description                                    \n",
       "1 \"$coord\"   \"Coordinates for the variables\"                \n",
       "2 \"$cor\"     \"Correlations between variables and dimensions\"\n",
       "3 \"$cos2\"    \"Cos2 for the variables\"                       \n",
       "4 \"$contrib\" \"contributions of the variables\"               "
      ]
     },
     "metadata": {},
     "output_type": "display_data"
    }
   ],
   "source": [
    "var <- get_pca_var(res.pca)\n",
    "var"
   ]
  },
  {
   "cell_type": "code",
   "execution_count": 35,
   "metadata": {},
   "outputs": [
    {
     "data": {
      "text/html": [
       "<table>\n",
       "<thead><tr><th></th><th scope=col>Dim.1</th><th scope=col>Dim.2</th><th scope=col>Dim.3</th><th scope=col>Dim.4</th><th scope=col>Dim.5</th><th scope=col>Dim.6</th><th scope=col>Dim.7</th><th scope=col>Dim.8</th><th scope=col>Dim.9</th><th scope=col>Dim.10</th><th scope=col>Dim.11</th><th scope=col>Dim.12</th><th scope=col>Dim.13</th><th scope=col>Dim.14</th><th scope=col>Dim.15</th><th scope=col>Dim.16</th><th scope=col>Dim.17</th></tr></thead>\n",
       "<tbody>\n",
       "\t<tr><th scope=row>PAPI_L1_DCM</th><td>0.9320535    </td><td> 0.23642416  </td><td>-0.21910297  </td><td> 0.04557435  </td><td>-0.042625262 </td><td> 0.03560728  </td><td>-0.06792544  </td><td> 0.05052524  </td><td>-0.02362993  </td><td> 0.039032788 </td><td>-0.0066499107</td><td>-0.072522026 </td><td> 0.0874572926</td><td>-3.259044e-03</td><td> 5.653934e-04</td><td>-9.468579e-05</td><td> 1.017152e-05</td></tr>\n",
       "\t<tr><th scope=row>PAPI_L3_TCM</th><td>0.8509235    </td><td> 0.31142463  </td><td>-0.01926938  </td><td>-0.05496580  </td><td> 0.269721447 </td><td> 0.14117139  </td><td> 0.04089824  </td><td>-0.05759230  </td><td> 0.26785374  </td><td> 0.038037739 </td><td>-0.0097512859</td><td>-0.064231864 </td><td>-0.0212616482</td><td> 3.553462e-03</td><td>-2.178184e-03</td><td>-3.104052e-05</td><td> 2.539990e-05</td></tr>\n",
       "\t<tr><th scope=row>PAPI_TOT_INS</th><td>0.8788188    </td><td>-0.44495112  </td><td> 0.01767358  </td><td> 0.03990975  </td><td> 0.053023948 </td><td>-0.08310270  </td><td> 0.03965230  </td><td>-0.06373562  </td><td>-0.03192679  </td><td>-0.097004418 </td><td>-0.0194523787</td><td>-0.010256261 </td><td> 0.0100741535</td><td> 3.639476e-02</td><td>-9.985732e-03</td><td>-4.618242e-04</td><td>-1.971955e-05</td></tr>\n",
       "\t<tr><th scope=row>PAPI_REF_CYC</th><td>0.8681652    </td><td> 0.24652231  </td><td>-0.05153450  </td><td>-0.16871135  </td><td> 0.288008625 </td><td> 0.17417500  </td><td> 0.12430008  </td><td> 0.04746476  </td><td>-0.01821639  </td><td> 0.031300612 </td><td> 0.0195638431</td><td> 0.145437767 </td><td> 0.0235028007</td><td> 2.900489e-03</td><td> 5.973999e-05</td><td>-1.014287e-04</td><td>-4.370198e-05</td></tr>\n",
       "\t<tr><th scope=row>PAPI_L2_LDM</th><td>0.8097932    </td><td> 0.38961488  </td><td>-0.06169088  </td><td> 0.14504677  </td><td> 0.057201640 </td><td>-0.16783876  </td><td>-0.36627691  </td><td>-0.01738812  </td><td>-0.01680975  </td><td>-0.018544241 </td><td> 0.0002311544</td><td> 0.020804861 </td><td>-0.0154787246</td><td> 8.057701e-03</td><td> 1.552463e-02</td><td> 9.109635e-03</td><td>-5.012440e-05</td></tr>\n",
       "\t<tr><th scope=row>PAPI_SR_INS</th><td>0.9146568    </td><td>-0.29021619  </td><td> 0.09193500  </td><td> 0.05964248  </td><td>-0.022063289 </td><td>-0.09875122  </td><td> 0.04730088  </td><td> 0.12720632  </td><td> 0.03490575  </td><td>-0.022535806 </td><td>-0.1898784898</td><td> 0.024224418 </td><td>-0.0035035738</td><td>-1.141825e-02</td><td> 1.115908e-03</td><td> 1.423301e-04</td><td> 9.796093e-06</td></tr>\n",
       "\t<tr><th scope=row>PAPI_BR_UCN</th><td>0.6008340    </td><td>-0.02000303  </td><td> 0.09811918  </td><td>-0.73453239  </td><td>-0.234882179 </td><td>-0.09943779  </td><td>-0.14669076  </td><td>-0.05010411  </td><td> 0.01775215  </td><td> 0.003314963 </td><td>-0.0036246206</td><td>-0.002767863 </td><td>-0.0003244420</td><td>-4.800667e-05</td><td>-5.643831e-05</td><td> 5.341467e-06</td><td>-2.181673e-05</td></tr>\n",
       "\t<tr><th scope=row>PAPI_BR_CN</th><td>0.9128094    </td><td>-0.29643641  </td><td> 0.13817922  </td><td> 0.04223092  </td><td>-0.028963568 </td><td>-0.12311116  </td><td> 0.06295990  </td><td> 0.15951151  </td><td> 0.05134512  </td><td>-0.050429177 </td><td> 0.0858901607</td><td>-0.001958539 </td><td>-0.0013155315</td><td>-6.302393e-03</td><td> 2.264029e-03</td><td> 1.674590e-04</td><td> 4.169228e-03</td></tr>\n",
       "\t<tr><th scope=row>PAPI_BR_TKN</th><td>0.9122509    </td><td>-0.29757647  </td><td> 0.13727440  </td><td> 0.04774181  </td><td>-0.030319577 </td><td>-0.12229075  </td><td> 0.06342251  </td><td> 0.15942150  </td><td> 0.05313085  </td><td>-0.050455352 </td><td> 0.0857744330</td><td>-0.003914860 </td><td>-0.0015779636</td><td>-6.823749e-03</td><td> 1.857861e-03</td><td>-3.451880e-06</td><td>-4.155030e-03</td></tr>\n",
       "\t<tr><th scope=row>PAPI_BR_MSP</th><td>0.8587901    </td><td> 0.21231057  </td><td> 0.18817340  </td><td>-0.11738748  </td><td> 0.205009917 </td><td> 0.23501502  </td><td> 0.02986707  </td><td> 0.12229678  </td><td>-0.21847275  </td><td> 0.009996513 </td><td>-0.0059118494</td><td>-0.078066812 </td><td>-0.0338341259</td><td>-7.167098e-04</td><td>-3.872854e-04</td><td> 8.739157e-05</td><td> 2.535059e-06</td></tr>\n",
       "\t<tr><th scope=row>PAPI_FP_OPS</th><td>0.6723845    </td><td>-0.59069553  </td><td>-0.24878009  </td><td>-0.03717010  </td><td> 0.215334755 </td><td> 0.03935595  </td><td> 0.01887750  </td><td>-0.27545745  </td><td>-0.05176468  </td><td>-0.090503859 </td><td> 0.0117824531</td><td>-0.011226934 </td><td> 0.0007568662</td><td>-1.959769e-02</td><td> 5.788650e-03</td><td> 2.752767e-04</td><td> 9.382957e-06</td></tr>\n",
       "\t<tr><th scope=row>PAPI_L1_LDM</th><td>0.8779146    </td><td> 0.23161580  </td><td>-0.10754731  </td><td> 0.15874819  </td><td>-0.022481521 </td><td>-0.06069156  </td><td>-0.36342963  </td><td>-0.02105421  </td><td>-0.01830827  </td><td> 0.000406729 </td><td> 0.0144979517</td><td> 0.028828628 </td><td>-0.0180624263</td><td>-8.364838e-03</td><td>-1.655590e-02</td><td>-9.614083e-03</td><td> 4.800951e-05</td></tr>\n",
       "\t<tr><th scope=row>PAPI_L1_STM</th><td>0.8265432    </td><td> 0.33934225  </td><td>-0.28824031  </td><td> 0.04986763  </td><td>-0.239234844 </td><td>-0.03247573  </td><td> 0.23471704  </td><td>-0.03784495  </td><td>-0.01939287  </td><td> 0.002795839 </td><td>-0.0032021864</td><td> 0.000319129 </td><td>-0.0206590225</td><td> 8.456349e-03</td><td> 1.772767e-02</td><td>-9.204575e-03</td><td>-7.712977e-06</td></tr>\n",
       "\t<tr><th scope=row>PAPI_LD_INS</th><td>0.7823917    </td><td>-0.42429280  </td><td> 0.29872198  </td><td> 0.11914461  </td><td> 0.004941869 </td><td>-0.17033300  </td><td> 0.04521207  </td><td>-0.13392472  </td><td>-0.03746157  </td><td> 0.231944747 </td><td> 0.0132770531</td><td> 0.002703091 </td><td>-0.0010721118</td><td> 1.724106e-03</td><td> 1.174938e-03</td><td>-1.213341e-05</td><td>-3.454064e-06</td></tr>\n",
       "\t<tr><th scope=row>PAPI_L2_STM</th><td>0.7742615    </td><td> 0.43122742  </td><td>-0.27002429  </td><td> 0.04299196  </td><td>-0.207017083 </td><td>-0.12251826  </td><td> 0.27604474  </td><td>-0.06060550  </td><td>-0.03497922  </td><td> 0.005441438 </td><td> 0.0091023990</td><td> 0.004033932 </td><td>-0.0177844553</td><td>-7.061686e-03</td><td>-1.617208e-02</td><td> 8.950865e-03</td><td> 1.363320e-05</td></tr>\n",
       "\t<tr><th scope=row>PAPI_TLB_DM</th><td>0.5072861    </td><td> 0.42781952  </td><td> 0.64151534  </td><td> 0.15596833  </td><td>-0.205136181 </td><td> 0.20667554  </td><td> 0.03554628  </td><td>-0.17195961  </td><td> 0.01363653  </td><td>-0.086021587 </td><td>-0.0019263715</td><td> 0.015147966 </td><td> 0.0172188301</td><td>-4.169479e-03</td><td> 1.114115e-03</td><td> 2.643948e-05</td><td> 3.978074e-06</td></tr>\n",
       "\t<tr><th scope=row>PAPI_L2_DCH</th><td>0.5145575    </td><td>-0.56797877  </td><td>-0.20672043  </td><td> 0.08260236  </td><td>-0.311396301 </td><td> 0.49274297  </td><td>-0.13316343  </td><td> 0.04354667  </td><td> 0.03432421  </td><td> 0.043879721 </td><td> 0.0082331885</td><td> 0.017712482 </td><td>-0.0131219566</td><td> 3.531817e-03</td><td> 1.742803e-04</td><td> 3.503030e-03</td><td>-9.637805e-07</td></tr>\n",
       "</tbody>\n",
       "</table>\n"
      ],
      "text/latex": [
       "\\begin{tabular}{r|lllllllllllllllll}\n",
       "  & Dim.1 & Dim.2 & Dim.3 & Dim.4 & Dim.5 & Dim.6 & Dim.7 & Dim.8 & Dim.9 & Dim.10 & Dim.11 & Dim.12 & Dim.13 & Dim.14 & Dim.15 & Dim.16 & Dim.17\\\\\n",
       "\\hline\n",
       "\tPAPI\\_L1\\_DCM & 0.9320535     &  0.23642416   & -0.21910297   &  0.04557435   & -0.042625262  &  0.03560728   & -0.06792544   &  0.05052524   & -0.02362993   &  0.039032788  & -0.0066499107 & -0.072522026  &  0.0874572926 & -3.259044e-03 &  5.653934e-04 & -9.468579e-05 &  1.017152e-05\\\\\n",
       "\tPAPI\\_L3\\_TCM & 0.8509235     &  0.31142463   & -0.01926938   & -0.05496580   &  0.269721447  &  0.14117139   &  0.04089824   & -0.05759230   &  0.26785374   &  0.038037739  & -0.0097512859 & -0.064231864  & -0.0212616482 &  3.553462e-03 & -2.178184e-03 & -3.104052e-05 &  2.539990e-05\\\\\n",
       "\tPAPI\\_TOT\\_INS & 0.8788188     & -0.44495112   &  0.01767358   &  0.03990975   &  0.053023948  & -0.08310270   &  0.03965230   & -0.06373562   & -0.03192679   & -0.097004418  & -0.0194523787 & -0.010256261  &  0.0100741535 &  3.639476e-02 & -9.985732e-03 & -4.618242e-04 & -1.971955e-05\\\\\n",
       "\tPAPI\\_REF\\_CYC & 0.8681652     &  0.24652231   & -0.05153450   & -0.16871135   &  0.288008625  &  0.17417500   &  0.12430008   &  0.04746476   & -0.01821639   &  0.031300612  &  0.0195638431 &  0.145437767  &  0.0235028007 &  2.900489e-03 &  5.973999e-05 & -1.014287e-04 & -4.370198e-05\\\\\n",
       "\tPAPI\\_L2\\_LDM & 0.8097932     &  0.38961488   & -0.06169088   &  0.14504677   &  0.057201640  & -0.16783876   & -0.36627691   & -0.01738812   & -0.01680975   & -0.018544241  &  0.0002311544 &  0.020804861  & -0.0154787246 &  8.057701e-03 &  1.552463e-02 &  9.109635e-03 & -5.012440e-05\\\\\n",
       "\tPAPI\\_SR\\_INS & 0.9146568     & -0.29021619   &  0.09193500   &  0.05964248   & -0.022063289  & -0.09875122   &  0.04730088   &  0.12720632   &  0.03490575   & -0.022535806  & -0.1898784898 &  0.024224418  & -0.0035035738 & -1.141825e-02 &  1.115908e-03 &  1.423301e-04 &  9.796093e-06\\\\\n",
       "\tPAPI\\_BR\\_UCN & 0.6008340     & -0.02000303   &  0.09811918   & -0.73453239   & -0.234882179  & -0.09943779   & -0.14669076   & -0.05010411   &  0.01775215   &  0.003314963  & -0.0036246206 & -0.002767863  & -0.0003244420 & -4.800667e-05 & -5.643831e-05 &  5.341467e-06 & -2.181673e-05\\\\\n",
       "\tPAPI\\_BR\\_CN & 0.9128094     & -0.29643641   &  0.13817922   &  0.04223092   & -0.028963568  & -0.12311116   &  0.06295990   &  0.15951151   &  0.05134512   & -0.050429177  &  0.0858901607 & -0.001958539  & -0.0013155315 & -6.302393e-03 &  2.264029e-03 &  1.674590e-04 &  4.169228e-03\\\\\n",
       "\tPAPI\\_BR\\_TKN & 0.9122509     & -0.29757647   &  0.13727440   &  0.04774181   & -0.030319577  & -0.12229075   &  0.06342251   &  0.15942150   &  0.05313085   & -0.050455352  &  0.0857744330 & -0.003914860  & -0.0015779636 & -6.823749e-03 &  1.857861e-03 & -3.451880e-06 & -4.155030e-03\\\\\n",
       "\tPAPI\\_BR\\_MSP & 0.8587901     &  0.21231057   &  0.18817340   & -0.11738748   &  0.205009917  &  0.23501502   &  0.02986707   &  0.12229678   & -0.21847275   &  0.009996513  & -0.0059118494 & -0.078066812  & -0.0338341259 & -7.167098e-04 & -3.872854e-04 &  8.739157e-05 &  2.535059e-06\\\\\n",
       "\tPAPI\\_FP\\_OPS & 0.6723845     & -0.59069553   & -0.24878009   & -0.03717010   &  0.215334755  &  0.03935595   &  0.01887750   & -0.27545745   & -0.05176468   & -0.090503859  &  0.0117824531 & -0.011226934  &  0.0007568662 & -1.959769e-02 &  5.788650e-03 &  2.752767e-04 &  9.382957e-06\\\\\n",
       "\tPAPI\\_L1\\_LDM & 0.8779146     &  0.23161580   & -0.10754731   &  0.15874819   & -0.022481521  & -0.06069156   & -0.36342963   & -0.02105421   & -0.01830827   &  0.000406729  &  0.0144979517 &  0.028828628  & -0.0180624263 & -8.364838e-03 & -1.655590e-02 & -9.614083e-03 &  4.800951e-05\\\\\n",
       "\tPAPI\\_L1\\_STM & 0.8265432     &  0.33934225   & -0.28824031   &  0.04986763   & -0.239234844  & -0.03247573   &  0.23471704   & -0.03784495   & -0.01939287   &  0.002795839  & -0.0032021864 &  0.000319129  & -0.0206590225 &  8.456349e-03 &  1.772767e-02 & -9.204575e-03 & -7.712977e-06\\\\\n",
       "\tPAPI\\_LD\\_INS & 0.7823917     & -0.42429280   &  0.29872198   &  0.11914461   &  0.004941869  & -0.17033300   &  0.04521207   & -0.13392472   & -0.03746157   &  0.231944747  &  0.0132770531 &  0.002703091  & -0.0010721118 &  1.724106e-03 &  1.174938e-03 & -1.213341e-05 & -3.454064e-06\\\\\n",
       "\tPAPI\\_L2\\_STM & 0.7742615     &  0.43122742   & -0.27002429   &  0.04299196   & -0.207017083  & -0.12251826   &  0.27604474   & -0.06060550   & -0.03497922   &  0.005441438  &  0.0091023990 &  0.004033932  & -0.0177844553 & -7.061686e-03 & -1.617208e-02 &  8.950865e-03 &  1.363320e-05\\\\\n",
       "\tPAPI\\_TLB\\_DM & 0.5072861     &  0.42781952   &  0.64151534   &  0.15596833   & -0.205136181  &  0.20667554   &  0.03554628   & -0.17195961   &  0.01363653   & -0.086021587  & -0.0019263715 &  0.015147966  &  0.0172188301 & -4.169479e-03 &  1.114115e-03 &  2.643948e-05 &  3.978074e-06\\\\\n",
       "\tPAPI\\_L2\\_DCH & 0.5145575     & -0.56797877   & -0.20672043   &  0.08260236   & -0.311396301  &  0.49274297   & -0.13316343   &  0.04354667   &  0.03432421   &  0.043879721  &  0.0082331885 &  0.017712482  & -0.0131219566 &  3.531817e-03 &  1.742803e-04 &  3.503030e-03 & -9.637805e-07\\\\\n",
       "\\end{tabular}\n"
      ],
      "text/markdown": [
       "\n",
       "| <!--/--> | Dim.1 | Dim.2 | Dim.3 | Dim.4 | Dim.5 | Dim.6 | Dim.7 | Dim.8 | Dim.9 | Dim.10 | Dim.11 | Dim.12 | Dim.13 | Dim.14 | Dim.15 | Dim.16 | Dim.17 | \n",
       "|---|---|---|---|---|---|---|---|---|---|---|---|---|---|---|---|---|\n",
       "| PAPI_L1_DCM | 0.9320535     |  0.23642416   | -0.21910297   |  0.04557435   | -0.042625262  |  0.03560728   | -0.06792544   |  0.05052524   | -0.02362993   |  0.039032788  | -0.0066499107 | -0.072522026  |  0.0874572926 | -3.259044e-03 |  5.653934e-04 | -9.468579e-05 |  1.017152e-05 | \n",
       "| PAPI_L3_TCM | 0.8509235     |  0.31142463   | -0.01926938   | -0.05496580   |  0.269721447  |  0.14117139   |  0.04089824   | -0.05759230   |  0.26785374   |  0.038037739  | -0.0097512859 | -0.064231864  | -0.0212616482 |  3.553462e-03 | -2.178184e-03 | -3.104052e-05 |  2.539990e-05 | \n",
       "| PAPI_TOT_INS | 0.8788188     | -0.44495112   |  0.01767358   |  0.03990975   |  0.053023948  | -0.08310270   |  0.03965230   | -0.06373562   | -0.03192679   | -0.097004418  | -0.0194523787 | -0.010256261  |  0.0100741535 |  3.639476e-02 | -9.985732e-03 | -4.618242e-04 | -1.971955e-05 | \n",
       "| PAPI_REF_CYC | 0.8681652     |  0.24652231   | -0.05153450   | -0.16871135   |  0.288008625  |  0.17417500   |  0.12430008   |  0.04746476   | -0.01821639   |  0.031300612  |  0.0195638431 |  0.145437767  |  0.0235028007 |  2.900489e-03 |  5.973999e-05 | -1.014287e-04 | -4.370198e-05 | \n",
       "| PAPI_L2_LDM | 0.8097932     |  0.38961488   | -0.06169088   |  0.14504677   |  0.057201640  | -0.16783876   | -0.36627691   | -0.01738812   | -0.01680975   | -0.018544241  |  0.0002311544 |  0.020804861  | -0.0154787246 |  8.057701e-03 |  1.552463e-02 |  9.109635e-03 | -5.012440e-05 | \n",
       "| PAPI_SR_INS | 0.9146568     | -0.29021619   |  0.09193500   |  0.05964248   | -0.022063289  | -0.09875122   |  0.04730088   |  0.12720632   |  0.03490575   | -0.022535806  | -0.1898784898 |  0.024224418  | -0.0035035738 | -1.141825e-02 |  1.115908e-03 |  1.423301e-04 |  9.796093e-06 | \n",
       "| PAPI_BR_UCN | 0.6008340     | -0.02000303   |  0.09811918   | -0.73453239   | -0.234882179  | -0.09943779   | -0.14669076   | -0.05010411   |  0.01775215   |  0.003314963  | -0.0036246206 | -0.002767863  | -0.0003244420 | -4.800667e-05 | -5.643831e-05 |  5.341467e-06 | -2.181673e-05 | \n",
       "| PAPI_BR_CN | 0.9128094     | -0.29643641   |  0.13817922   |  0.04223092   | -0.028963568  | -0.12311116   |  0.06295990   |  0.15951151   |  0.05134512   | -0.050429177  |  0.0858901607 | -0.001958539  | -0.0013155315 | -6.302393e-03 |  2.264029e-03 |  1.674590e-04 |  4.169228e-03 | \n",
       "| PAPI_BR_TKN | 0.9122509     | -0.29757647   |  0.13727440   |  0.04774181   | -0.030319577  | -0.12229075   |  0.06342251   |  0.15942150   |  0.05313085   | -0.050455352  |  0.0857744330 | -0.003914860  | -0.0015779636 | -6.823749e-03 |  1.857861e-03 | -3.451880e-06 | -4.155030e-03 | \n",
       "| PAPI_BR_MSP | 0.8587901     |  0.21231057   |  0.18817340   | -0.11738748   |  0.205009917  |  0.23501502   |  0.02986707   |  0.12229678   | -0.21847275   |  0.009996513  | -0.0059118494 | -0.078066812  | -0.0338341259 | -7.167098e-04 | -3.872854e-04 |  8.739157e-05 |  2.535059e-06 | \n",
       "| PAPI_FP_OPS | 0.6723845     | -0.59069553   | -0.24878009   | -0.03717010   |  0.215334755  |  0.03935595   |  0.01887750   | -0.27545745   | -0.05176468   | -0.090503859  |  0.0117824531 | -0.011226934  |  0.0007568662 | -1.959769e-02 |  5.788650e-03 |  2.752767e-04 |  9.382957e-06 | \n",
       "| PAPI_L1_LDM | 0.8779146     |  0.23161580   | -0.10754731   |  0.15874819   | -0.022481521  | -0.06069156   | -0.36342963   | -0.02105421   | -0.01830827   |  0.000406729  |  0.0144979517 |  0.028828628  | -0.0180624263 | -8.364838e-03 | -1.655590e-02 | -9.614083e-03 |  4.800951e-05 | \n",
       "| PAPI_L1_STM | 0.8265432     |  0.33934225   | -0.28824031   |  0.04986763   | -0.239234844  | -0.03247573   |  0.23471704   | -0.03784495   | -0.01939287   |  0.002795839  | -0.0032021864 |  0.000319129  | -0.0206590225 |  8.456349e-03 |  1.772767e-02 | -9.204575e-03 | -7.712977e-06 | \n",
       "| PAPI_LD_INS | 0.7823917     | -0.42429280   |  0.29872198   |  0.11914461   |  0.004941869  | -0.17033300   |  0.04521207   | -0.13392472   | -0.03746157   |  0.231944747  |  0.0132770531 |  0.002703091  | -0.0010721118 |  1.724106e-03 |  1.174938e-03 | -1.213341e-05 | -3.454064e-06 | \n",
       "| PAPI_L2_STM | 0.7742615     |  0.43122742   | -0.27002429   |  0.04299196   | -0.207017083  | -0.12251826   |  0.27604474   | -0.06060550   | -0.03497922   |  0.005441438  |  0.0091023990 |  0.004033932  | -0.0177844553 | -7.061686e-03 | -1.617208e-02 |  8.950865e-03 |  1.363320e-05 | \n",
       "| PAPI_TLB_DM | 0.5072861     |  0.42781952   |  0.64151534   |  0.15596833   | -0.205136181  |  0.20667554   |  0.03554628   | -0.17195961   |  0.01363653   | -0.086021587  | -0.0019263715 |  0.015147966  |  0.0172188301 | -4.169479e-03 |  1.114115e-03 |  2.643948e-05 |  3.978074e-06 | \n",
       "| PAPI_L2_DCH | 0.5145575     | -0.56797877   | -0.20672043   |  0.08260236   | -0.311396301  |  0.49274297   | -0.13316343   |  0.04354667   |  0.03432421   |  0.043879721  |  0.0082331885 |  0.017712482  | -0.0131219566 |  3.531817e-03 |  1.742803e-04 |  3.503030e-03 | -9.637805e-07 | \n",
       "\n",
       "\n"
      ],
      "text/plain": [
       "             Dim.1     Dim.2       Dim.3       Dim.4       Dim.5       \n",
       "PAPI_L1_DCM  0.9320535  0.23642416 -0.21910297  0.04557435 -0.042625262\n",
       "PAPI_L3_TCM  0.8509235  0.31142463 -0.01926938 -0.05496580  0.269721447\n",
       "PAPI_TOT_INS 0.8788188 -0.44495112  0.01767358  0.03990975  0.053023948\n",
       "PAPI_REF_CYC 0.8681652  0.24652231 -0.05153450 -0.16871135  0.288008625\n",
       "PAPI_L2_LDM  0.8097932  0.38961488 -0.06169088  0.14504677  0.057201640\n",
       "PAPI_SR_INS  0.9146568 -0.29021619  0.09193500  0.05964248 -0.022063289\n",
       "PAPI_BR_UCN  0.6008340 -0.02000303  0.09811918 -0.73453239 -0.234882179\n",
       "PAPI_BR_CN   0.9128094 -0.29643641  0.13817922  0.04223092 -0.028963568\n",
       "PAPI_BR_TKN  0.9122509 -0.29757647  0.13727440  0.04774181 -0.030319577\n",
       "PAPI_BR_MSP  0.8587901  0.21231057  0.18817340 -0.11738748  0.205009917\n",
       "PAPI_FP_OPS  0.6723845 -0.59069553 -0.24878009 -0.03717010  0.215334755\n",
       "PAPI_L1_LDM  0.8779146  0.23161580 -0.10754731  0.15874819 -0.022481521\n",
       "PAPI_L1_STM  0.8265432  0.33934225 -0.28824031  0.04986763 -0.239234844\n",
       "PAPI_LD_INS  0.7823917 -0.42429280  0.29872198  0.11914461  0.004941869\n",
       "PAPI_L2_STM  0.7742615  0.43122742 -0.27002429  0.04299196 -0.207017083\n",
       "PAPI_TLB_DM  0.5072861  0.42781952  0.64151534  0.15596833 -0.205136181\n",
       "PAPI_L2_DCH  0.5145575 -0.56797877 -0.20672043  0.08260236 -0.311396301\n",
       "             Dim.6       Dim.7       Dim.8       Dim.9       Dim.10      \n",
       "PAPI_L1_DCM   0.03560728 -0.06792544  0.05052524 -0.02362993  0.039032788\n",
       "PAPI_L3_TCM   0.14117139  0.04089824 -0.05759230  0.26785374  0.038037739\n",
       "PAPI_TOT_INS -0.08310270  0.03965230 -0.06373562 -0.03192679 -0.097004418\n",
       "PAPI_REF_CYC  0.17417500  0.12430008  0.04746476 -0.01821639  0.031300612\n",
       "PAPI_L2_LDM  -0.16783876 -0.36627691 -0.01738812 -0.01680975 -0.018544241\n",
       "PAPI_SR_INS  -0.09875122  0.04730088  0.12720632  0.03490575 -0.022535806\n",
       "PAPI_BR_UCN  -0.09943779 -0.14669076 -0.05010411  0.01775215  0.003314963\n",
       "PAPI_BR_CN   -0.12311116  0.06295990  0.15951151  0.05134512 -0.050429177\n",
       "PAPI_BR_TKN  -0.12229075  0.06342251  0.15942150  0.05313085 -0.050455352\n",
       "PAPI_BR_MSP   0.23501502  0.02986707  0.12229678 -0.21847275  0.009996513\n",
       "PAPI_FP_OPS   0.03935595  0.01887750 -0.27545745 -0.05176468 -0.090503859\n",
       "PAPI_L1_LDM  -0.06069156 -0.36342963 -0.02105421 -0.01830827  0.000406729\n",
       "PAPI_L1_STM  -0.03247573  0.23471704 -0.03784495 -0.01939287  0.002795839\n",
       "PAPI_LD_INS  -0.17033300  0.04521207 -0.13392472 -0.03746157  0.231944747\n",
       "PAPI_L2_STM  -0.12251826  0.27604474 -0.06060550 -0.03497922  0.005441438\n",
       "PAPI_TLB_DM   0.20667554  0.03554628 -0.17195961  0.01363653 -0.086021587\n",
       "PAPI_L2_DCH   0.49274297 -0.13316343  0.04354667  0.03432421  0.043879721\n",
       "             Dim.11        Dim.12       Dim.13        Dim.14       \n",
       "PAPI_L1_DCM  -0.0066499107 -0.072522026  0.0874572926 -3.259044e-03\n",
       "PAPI_L3_TCM  -0.0097512859 -0.064231864 -0.0212616482  3.553462e-03\n",
       "PAPI_TOT_INS -0.0194523787 -0.010256261  0.0100741535  3.639476e-02\n",
       "PAPI_REF_CYC  0.0195638431  0.145437767  0.0235028007  2.900489e-03\n",
       "PAPI_L2_LDM   0.0002311544  0.020804861 -0.0154787246  8.057701e-03\n",
       "PAPI_SR_INS  -0.1898784898  0.024224418 -0.0035035738 -1.141825e-02\n",
       "PAPI_BR_UCN  -0.0036246206 -0.002767863 -0.0003244420 -4.800667e-05\n",
       "PAPI_BR_CN    0.0858901607 -0.001958539 -0.0013155315 -6.302393e-03\n",
       "PAPI_BR_TKN   0.0857744330 -0.003914860 -0.0015779636 -6.823749e-03\n",
       "PAPI_BR_MSP  -0.0059118494 -0.078066812 -0.0338341259 -7.167098e-04\n",
       "PAPI_FP_OPS   0.0117824531 -0.011226934  0.0007568662 -1.959769e-02\n",
       "PAPI_L1_LDM   0.0144979517  0.028828628 -0.0180624263 -8.364838e-03\n",
       "PAPI_L1_STM  -0.0032021864  0.000319129 -0.0206590225  8.456349e-03\n",
       "PAPI_LD_INS   0.0132770531  0.002703091 -0.0010721118  1.724106e-03\n",
       "PAPI_L2_STM   0.0091023990  0.004033932 -0.0177844553 -7.061686e-03\n",
       "PAPI_TLB_DM  -0.0019263715  0.015147966  0.0172188301 -4.169479e-03\n",
       "PAPI_L2_DCH   0.0082331885  0.017712482 -0.0131219566  3.531817e-03\n",
       "             Dim.15        Dim.16        Dim.17       \n",
       "PAPI_L1_DCM   5.653934e-04 -9.468579e-05  1.017152e-05\n",
       "PAPI_L3_TCM  -2.178184e-03 -3.104052e-05  2.539990e-05\n",
       "PAPI_TOT_INS -9.985732e-03 -4.618242e-04 -1.971955e-05\n",
       "PAPI_REF_CYC  5.973999e-05 -1.014287e-04 -4.370198e-05\n",
       "PAPI_L2_LDM   1.552463e-02  9.109635e-03 -5.012440e-05\n",
       "PAPI_SR_INS   1.115908e-03  1.423301e-04  9.796093e-06\n",
       "PAPI_BR_UCN  -5.643831e-05  5.341467e-06 -2.181673e-05\n",
       "PAPI_BR_CN    2.264029e-03  1.674590e-04  4.169228e-03\n",
       "PAPI_BR_TKN   1.857861e-03 -3.451880e-06 -4.155030e-03\n",
       "PAPI_BR_MSP  -3.872854e-04  8.739157e-05  2.535059e-06\n",
       "PAPI_FP_OPS   5.788650e-03  2.752767e-04  9.382957e-06\n",
       "PAPI_L1_LDM  -1.655590e-02 -9.614083e-03  4.800951e-05\n",
       "PAPI_L1_STM   1.772767e-02 -9.204575e-03 -7.712977e-06\n",
       "PAPI_LD_INS   1.174938e-03 -1.213341e-05 -3.454064e-06\n",
       "PAPI_L2_STM  -1.617208e-02  8.950865e-03  1.363320e-05\n",
       "PAPI_TLB_DM   1.114115e-03  2.643948e-05  3.978074e-06\n",
       "PAPI_L2_DCH   1.742803e-04  3.503030e-03 -9.637805e-07"
      ]
     },
     "metadata": {},
     "output_type": "display_data"
    }
   ],
   "source": [
    "var$coord\n"
   ]
  },
  {
   "cell_type": "code",
   "execution_count": 36,
   "metadata": {},
   "outputs": [
    {
     "name": "stderr",
     "output_type": "stream",
     "text": [
      "Loading required package: plyr\n",
      "Loading required package: scales\n",
      "Loading required package: grid\n"
     ]
    },
    {
     "data": {
      "image/png": "[encoded data removed]",
      "text/plain": [
       "plot without title"
      ]
     },
     "metadata": {},
     "output_type": "display_data"
    }
   ],
   "source": [
    "library(devtools)\n",
    "library(ggbiplot)\n",
    "g <- ggbiplot(res.pca, obs.scale = 1, var.scale = 1, groups = res.label, ellipse = FALSE, circle = TRUE, var.axes=FALSE)\n",
    "#g <- ggbiplot(res.pca, obs.scale = 1, var.scale = 1, groups = {res.label, res.threads}, ellipse = FALSE, circle = TRUE, var.axes=FALSE)\n",
    "g <- g + scale_color_discrete(name = '')\n",
    "g <- g + theme(legend.direction = 'horizontal', legend.position = 'top')\n",
    "print(g)"
   ]
  },
  {
   "cell_type": "code",
   "execution_count": 37,
   "metadata": {},
   "outputs": [
    {
     "name": "stdout",
     "output_type": "stream",
     "text": [
      "                   PC1         PC2         PC3         PC4\n",
      "PAPI_L1_DCM  0.9320535  0.23642416 -0.21910297  0.04557435\n",
      "PAPI_L3_TCM  0.8509235  0.31142463 -0.01926938 -0.05496580\n",
      "PAPI_TOT_INS 0.8788188 -0.44495112  0.01767358  0.03990975\n",
      "PAPI_REF_CYC 0.8681652  0.24652231 -0.05153450 -0.16871135\n",
      "PAPI_L2_LDM  0.8097932  0.38961488 -0.06169088  0.14504677\n",
      "PAPI_SR_INS  0.9146568 -0.29021619  0.09193500  0.05964248\n",
      "PAPI_BR_UCN  0.6008340 -0.02000303  0.09811918 -0.73453239\n",
      "PAPI_BR_CN   0.9128094 -0.29643641  0.13817922  0.04223092\n",
      "PAPI_BR_TKN  0.9122509 -0.29757647  0.13727440  0.04774181\n",
      "PAPI_BR_MSP  0.8587901  0.21231057  0.18817340 -0.11738748\n",
      "PAPI_FP_OPS  0.6723845 -0.59069553 -0.24878009 -0.03717010\n",
      "PAPI_L1_LDM  0.8779146  0.23161580 -0.10754731  0.15874819\n",
      "PAPI_L1_STM  0.8265432  0.33934225 -0.28824031  0.04986763\n",
      "PAPI_LD_INS  0.7823917 -0.42429280  0.29872198  0.11914461\n",
      "PAPI_L2_STM  0.7742615  0.43122742 -0.27002429  0.04299196\n",
      "PAPI_TLB_DM  0.5072861  0.42781952  0.64151534  0.15596833\n",
      "PAPI_L2_DCH  0.5145575 -0.56797877 -0.20672043  0.08260236\n"
     ]
    }
   ],
   "source": [
    "# Helper function : \n",
    "# Correlation between variables and principal components\n",
    "var_cor_func <- function(var.loadings, comp.sdev){\n",
    "  var.loadings*comp.sdev\n",
    "  }\n",
    "\n",
    "# Variable correlation/coordinates\n",
    "loadings <- res.pca$rotation\n",
    "sdev <- res.pca$sdev\n",
    "\n",
    "var.coord <- var.cor <- t(apply(loadings, 1, var_cor_func, sdev))\n",
    "print(var.coord[, 1:4])"
   ]
  },
  {
   "cell_type": "code",
   "execution_count": 38,
   "metadata": {},
   "outputs": [
    {
     "name": "stdout",
     "output_type": "stream",
     "text": [
      "                   PC1          PC2          PC3         PC4          PC5\n",
      "PAPI_L1_DCM  0.8687237 0.0558963854 0.0480061111 0.002077021 1.816913e-03\n",
      "PAPI_L3_TCM  0.7240708 0.0969853033 0.0003713090 0.003021239 7.274966e-02\n",
      "PAPI_TOT_INS 0.7723225 0.1979814956 0.0003123555 0.001592788 2.811539e-03\n",
      "PAPI_REF_CYC 0.7537109 0.0607732492 0.0026558049 0.028463519 8.294897e-02\n",
      "PAPI_L2_LDM  0.6557650 0.1517997536 0.0038057649 0.021038565 3.272028e-03\n",
      "PAPI_SR_INS  0.8365970 0.0842254347 0.0084520443 0.003557226 4.867887e-04\n",
      "PAPI_BR_UCN  0.3610015 0.0004001212 0.0096273738 0.539537826 5.516964e-02\n",
      "PAPI_BR_CN   0.8332210 0.0878745462 0.0190934967 0.001783451 8.388883e-04\n",
      "PAPI_BR_TKN  0.8322018 0.0885517570 0.0188442607 0.002279281 9.192767e-04\n",
      "PAPI_BR_MSP  0.7375204 0.0450757785 0.0354092271 0.013779820 4.202907e-02\n",
      "PAPI_FP_OPS  0.4521009 0.3489212121 0.0618915321 0.001381617 4.636906e-02\n",
      "PAPI_L1_LDM  0.7707341 0.0536458777 0.0115664239 0.025200989 5.054188e-04\n",
      "PAPI_L1_STM  0.6831737 0.1151531640 0.0830824755 0.002486780 5.723331e-02\n",
      "PAPI_LD_INS  0.6121368 0.1800243767 0.0892348189 0.014195439 2.442206e-05\n",
      "PAPI_L2_STM  0.5994809 0.1859570841 0.0729131169 0.001848309 4.285607e-02\n",
      "PAPI_TLB_DM  0.2573392 0.1830295376 0.4115419304 0.024326119 4.208085e-02\n",
      "PAPI_L2_DCH  0.2647695 0.3225998825 0.0427333370 0.006823151 9.696766e-02\n",
      "                     PC6          PC7          PC8          PC9         PC10\n",
      "PAPI_L1_DCM  0.001267878 0.0046138660 0.0025528004 0.0005583735 1.523559e-03\n",
      "PAPI_L3_TCM  0.019929361 0.0016726658 0.0033168727 0.0717456250 1.446870e-03\n",
      "PAPI_TOT_INS 0.006906059 0.0015723052 0.0040622298 0.0010193200 9.409857e-03\n",
      "PAPI_REF_CYC 0.030336931 0.0154505088 0.0022529039 0.0003318368 9.797283e-04\n",
      "PAPI_L2_LDM  0.028169849 0.1341587751 0.0003023468 0.0002825677 3.438889e-04\n",
      "PAPI_SR_INS  0.009751803 0.0022373730 0.0161814482 0.0012184117 5.078626e-04\n",
      "PAPI_BR_UCN  0.009887874 0.0215181796 0.0025104221 0.0003151389 1.098898e-05\n",
      "PAPI_BR_CN   0.015156358 0.0039639487 0.0254439210 0.0026363216 2.543102e-03\n",
      "PAPI_BR_TKN  0.014955028 0.0040224152 0.0254152149 0.0028228873 2.545743e-03\n",
      "PAPI_BR_MSP  0.055232062 0.0008920416 0.0149565032 0.0477303432 9.993026e-05\n",
      "PAPI_FP_OPS  0.001548891 0.0003563599 0.0758768072 0.0026795825 8.190949e-03\n",
      "PAPI_L1_LDM  0.003683465 0.1320810935 0.0004432797 0.0003351926 1.654285e-07\n",
      "PAPI_L1_STM  0.001054673 0.0550920885 0.0014322405 0.0003760834 7.816715e-06\n",
      "PAPI_LD_INS  0.029013331 0.0020441315 0.0179358316 0.0014033693 5.379837e-02\n",
      "PAPI_L2_STM  0.015010723 0.0762006988 0.0036730264 0.0012235459 2.960924e-05\n",
      "PAPI_TLB_DM  0.042714779 0.0012635383 0.0295701070 0.0001859549 7.399713e-03\n",
      "PAPI_L2_DCH  0.242795631 0.0177324979 0.0018963126 0.0011781515 1.925430e-03\n",
      "                     PC11         PC12         PC13         PC14         PC15\n",
      "PAPI_L1_DCM  4.422131e-05 5.259444e-03 7.648778e-03 1.062137e-05 3.196697e-07\n",
      "PAPI_L3_TCM  9.508758e-05 4.125732e-03 4.520577e-04 1.262709e-05 4.744486e-06\n",
      "PAPI_TOT_INS 3.783950e-04 1.051909e-04 1.014886e-04 1.324579e-03 9.971483e-05\n",
      "PAPI_REF_CYC 3.827440e-04 2.115214e-02 5.523816e-04 8.412834e-06 3.568867e-09\n",
      "PAPI_L2_LDM  5.343234e-08 4.328422e-04 2.395909e-04 6.492654e-05 2.410141e-04\n",
      "PAPI_SR_INS  3.605384e-02 5.868224e-04 1.227503e-05 1.303763e-04 1.245251e-06\n",
      "PAPI_BR_UCN  1.313787e-05 7.661068e-06 1.052626e-07 2.304640e-09 3.185283e-09\n",
      "PAPI_BR_CN   7.377120e-03 3.835874e-06 1.730623e-06 3.972015e-05 5.125827e-06\n",
      "PAPI_BR_TKN  7.357253e-03 1.532613e-05 2.489969e-06 4.656354e-05 3.451649e-06\n",
      "PAPI_BR_MSP  3.494996e-05 6.094427e-03 1.144748e-03 5.136729e-07 1.499900e-07\n",
      "PAPI_FP_OPS  1.388262e-04 1.260440e-04 5.728465e-07 3.840694e-04 3.350847e-05\n",
      "PAPI_L1_LDM  2.101906e-04 8.310898e-04 3.262512e-04 6.997051e-05 2.740979e-04\n",
      "PAPI_L1_STM  1.025400e-05 1.018433e-07 4.267952e-04 7.150984e-05 3.142702e-04\n",
      "PAPI_LD_INS  1.762801e-04 7.306699e-06 1.149424e-06 2.972541e-06 1.380479e-06\n",
      "PAPI_L2_STM  8.285367e-05 1.627261e-05 3.162868e-04 4.986741e-05 2.615362e-04\n",
      "PAPI_TLB_DM  3.710907e-06 2.294609e-04 2.964881e-04 1.738456e-05 1.241252e-06\n",
      "PAPI_L2_DCH  6.778539e-05 3.137320e-04 1.721857e-04 1.247373e-05 3.037363e-08\n",
      "                     PC16         PC17\n",
      "PAPI_L1_DCM  8.965400e-09 1.034598e-10\n",
      "PAPI_L3_TCM  9.635139e-10 6.451548e-10\n",
      "PAPI_TOT_INS 2.132816e-07 3.888608e-10\n",
      "PAPI_REF_CYC 1.028779e-08 1.909863e-09\n",
      "PAPI_L2_LDM  8.298545e-05 2.512456e-09\n",
      "PAPI_SR_INS  2.025785e-08 9.596345e-11\n",
      "PAPI_BR_UCN  2.853127e-11 4.759696e-10\n",
      "PAPI_BR_CN   2.804253e-08 1.738246e-05\n",
      "PAPI_BR_TKN  1.191548e-11 1.726427e-05\n",
      "PAPI_BR_MSP  7.637287e-09 6.426526e-12\n",
      "PAPI_FP_OPS  7.577726e-08 8.803989e-11\n",
      "PAPI_L1_LDM  9.243060e-05 2.304913e-09\n",
      "PAPI_L1_STM  8.472420e-05 5.949002e-11\n",
      "PAPI_LD_INS  1.472196e-10 1.193056e-11\n",
      "PAPI_L2_STM  8.011799e-05 1.858642e-10\n",
      "PAPI_TLB_DM  6.990460e-10 1.582507e-11\n",
      "PAPI_L2_DCH  1.227122e-05 9.288729e-13\n"
     ]
    }
   ],
   "source": [
    "var.cos2 <- var.coord^2\n",
    "print(var.cos2)"
   ]
  },
  {
   "cell_type": "code",
   "execution_count": 39,
   "metadata": {
    "scrolled": false
   },
   "outputs": [
    {
     "name": "stdout",
     "output_type": "stream",
     "text": [
      "                  PC1         PC2         PC3        PC4          PC5\n",
      "PAPI_L1_DCM  7.886827  2.47450131  5.22065803  0.2995445  0.330901591\n",
      "PAPI_L3_TCM  6.573576  4.29348443  0.04037980  0.4357180 13.249384098\n",
      "PAPI_TOT_INS 7.011635  8.76452864  0.03396862  0.2297092  0.512045844\n",
      "PAPI_REF_CYC 6.842667  2.69039731  0.28881842  4.1049611 15.106912563\n",
      "PAPI_L2_LDM  5.953453  6.72008908  0.41387641  3.0341467  0.595911401\n",
      "PAPI_SR_INS  7.595160  3.72861227  0.91915867  0.5130172  0.088655412\n",
      "PAPI_BR_UCN  3.277402  0.01771314  1.04697559 77.8112441 10.047658377\n",
      "PAPI_BR_CN   7.564511  3.89015637  2.07641517  0.2572063  0.152780826\n",
      "PAPI_BR_TKN  7.555258  3.92013611  2.04931078  0.3287140  0.167421410\n",
      "PAPI_BR_MSP  6.695680  1.99547918  3.85074862  1.9873026  7.654458413\n",
      "PAPI_FP_OPS  4.104460 15.44654437  6.73069567  0.1992544  8.444870395\n",
      "PAPI_L1_LDM  6.997214  2.37487261  1.25784703  3.6344445  0.092048371\n",
      "PAPI_L1_STM  6.202286  5.09776533  9.03520788  0.3586393 10.423500561\n",
      "PAPI_LD_INS  5.557368  7.96957716  9.70427439  2.0472425  0.004447819\n",
      "PAPI_L2_STM  5.442469  8.23221475  7.92929152  0.2665600  7.805075273\n",
      "PAPI_TLB_DM  2.336289  8.10261393 44.75512882  3.5082722  7.663889975\n",
      "PAPI_L2_DCH  2.403746 14.28131402  4.64724458  0.9840234 17.660037672\n",
      "                    PC6         PC7        PC8        PC9         PC10\n",
      "PAPI_L1_DCM   0.2403949  0.97160104  1.1205228  0.4104399 1.678601e+00\n",
      "PAPI_L3_TCM   3.7786889  0.35223473  1.4559037 52.7375757 1.594108e+00\n",
      "PAPI_TOT_INS  1.3094173  0.33110050  1.7830697  0.7492647 1.036744e+01\n",
      "PAPI_REF_CYC  5.7520071  3.25361211  0.9888866  0.2439211 1.079429e+00\n",
      "PAPI_L2_LDM   5.3411195 28.25153670  0.1327117  0.2077051 3.788842e-01\n",
      "PAPI_SR_INS   1.8489821  0.47115238  7.1026631  0.8956097 5.595444e-01\n",
      "PAPI_BR_UCN   1.8747817  4.53135950  1.1019213  0.2316470 1.210726e-02\n",
      "PAPI_BR_CN    2.8737080  0.83473960 11.1683205  1.9378633 2.801897e+00\n",
      "PAPI_BR_TKN   2.8355350  0.84705163 11.1557203  2.0750009 2.804806e+00\n",
      "PAPI_BR_MSP  10.4722265  0.18784866  6.5649874 35.0848235 1.100995e-01\n",
      "PAPI_FP_OPS   0.2936760  0.07504329 33.3052637  1.9696627 9.024488e+00\n",
      "PAPI_L1_LDM   0.6984001 27.81401261  0.1945726  0.2463878 1.822631e-04\n",
      "PAPI_L1_STM   0.1999703 11.60144880  0.6286657  0.2764451 8.612172e-03\n",
      "PAPI_LD_INS   5.5010472  0.43045903  7.8727298  1.0315652 5.927308e+01\n",
      "PAPI_L2_STM   2.8460949 16.04656004  1.6122333  0.8993836 3.262238e-02\n",
      "PAPI_TLB_DM   8.0988982  0.26607949 12.9794630  0.1366886 8.152734e+00\n",
      "PAPI_L2_DCH  46.0350522  3.73415988  0.8323649  0.8660159 2.121368e+00\n",
      "                     PC11         PC12         PC13         PC14         PC15\n",
      "PAPI_L1_DCM  8.434883e-02 1.338028e+01 6.540002e+01 4.727773e-01 2.574167e-02\n",
      "PAPI_L3_TCM  1.813724e-01 1.049606e+01 3.865269e+00 5.620558e-01 3.820537e-01\n",
      "PAPI_TOT_INS 7.217601e-01 2.676107e-01 8.677667e-01 5.895951e+01 8.029620e+00\n",
      "PAPI_REF_CYC 7.300554e-01 5.381207e+01 4.723078e+00 3.744712e-01 2.873860e-04\n",
      "PAPI_L2_LDM  1.019182e-04 1.101171e+00 2.048595e+00 2.890004e+00 1.940786e+01\n",
      "PAPI_SR_INS  6.876999e+01 1.492904e+00 1.049563e-01 5.803298e+00 1.002749e-01\n",
      "PAPI_BR_UCN  2.505951e-02 1.949012e-02 9.000364e-04 1.025839e-04 2.564975e-04\n",
      "PAPI_BR_CN   1.407130e+01 9.758647e-03 1.479750e-02 1.768019e+00 4.127615e-01\n",
      "PAPI_BR_TKN  1.403341e+01 3.899040e-02 2.129020e-02 2.072632e+00 2.779469e-01\n",
      "PAPI_BR_MSP  6.666443e-02 1.550452e+01 9.788041e+00 2.286455e-02 1.207807e-02\n",
      "PAPI_FP_OPS  2.648006e-01 3.206621e-01 4.898060e-03 1.709566e+01 2.698298e+00\n",
      "PAPI_L1_LDM  4.009228e-01 2.114332e+00 2.789575e+00 3.114520e+00 2.207196e+01\n",
      "PAPI_L1_STM  1.955873e-02 2.590943e-04 3.649265e+00 3.183039e+00 2.530687e+01\n",
      "PAPI_LD_INS  3.362411e-01 1.858859e-02 9.828019e-03 1.323134e-01 1.111642e-01\n",
      "PAPI_L2_STM  1.580371e-01 4.139830e-02 2.704375e+00 2.219693e+00 2.106042e+01\n",
      "PAPI_TLB_DM  7.078277e-03 5.837595e-01 2.535088e+00 7.738196e-01 9.995286e-02\n",
      "PAPI_L2_DCH  1.292955e-01 7.981493e-01 1.472255e+00 5.552295e-01 2.445862e-03\n",
      "                     PC16         PC17\n",
      "PAPI_L1_DCM  2.540525e-03 2.985376e-04\n",
      "PAPI_L3_TCM  2.730309e-04 1.861621e-03\n",
      "PAPI_TOT_INS 6.043760e-02 1.122074e-03\n",
      "PAPI_REF_CYC 2.915250e-03 5.510989e-03\n",
      "PAPI_L2_LDM  2.351558e+01 7.249795e-03\n",
      "PAPI_SR_INS  5.740466e-03 2.769065e-04\n",
      "PAPI_BR_UCN  8.084905e-06 1.373430e-03\n",
      "PAPI_BR_CN   7.946410e-03 5.015782e+01\n",
      "PAPI_BR_TKN  3.376488e-06 4.981678e+01\n",
      "PAPI_BR_MSP  2.164178e-03 1.854401e-05\n",
      "PAPI_FP_OPS  2.147300e-02 2.540427e-04\n",
      "PAPI_L1_LDM  2.619205e+01 6.650921e-03\n",
      "PAPI_L1_STM  2.400829e+01 1.716609e-04\n",
      "PAPI_LD_INS  4.171761e-05 3.442612e-05\n",
      "PAPI_L2_STM  2.270303e+01 5.363188e-04\n",
      "PAPI_TLB_DM  1.980886e-04 4.566391e-05\n",
      "PAPI_L2_DCH  3.477295e+00 2.680301e-06\n"
     ]
    }
   ],
   "source": [
    "comp.cos2 <- apply(var.cos2, 2, sum)\n",
    "\n",
    "contrib <- function(var.cos2, comp.cos2){var.cos2*100/comp.cos2}\n",
    "\n",
    "var.contrib <- t(apply(var.cos2,1, contrib, comp.cos2))\n",
    "print(var.contrib)"
   ]
  },
  {
   "cell_type": "code",
   "execution_count": 40,
   "metadata": {},
   "outputs": [
    {
     "name": "stdout",
     "output_type": "stream",
     "text": [
      " PAPI_L1_DCM  PAPI_SR_INS   PAPI_BR_CN  PAPI_BR_TKN PAPI_TOT_INS  PAPI_L1_LDM \n",
      "    7.886827     7.595160     7.564511     7.555258     7.011635     6.997214 \n",
      "PAPI_REF_CYC  PAPI_BR_MSP  PAPI_L3_TCM  PAPI_L1_STM  PAPI_L2_LDM  PAPI_LD_INS \n",
      "    6.842667     6.695680     6.573576     6.202286     5.953453     5.557368 \n",
      " PAPI_L2_STM  PAPI_FP_OPS  PAPI_BR_UCN  PAPI_L2_DCH  PAPI_TLB_DM \n",
      "    5.442469     4.104460     3.277402     2.403746     2.336289 \n"
     ]
    }
   ],
   "source": [
    "print(sort(var.contrib[,'PC1'],decreasing=TRUE))"
   ]
  },
  {
   "cell_type": "code",
   "execution_count": 41,
   "metadata": {},
   "outputs": [
    {
     "name": "stdout",
     "output_type": "stream",
     "text": [
      " PAPI_FP_OPS  PAPI_L2_DCH PAPI_TOT_INS  PAPI_L2_STM  PAPI_TLB_DM  PAPI_LD_INS \n",
      " 15.44654437  14.28131402   8.76452864   8.23221475   8.10261393   7.96957716 \n",
      " PAPI_L2_LDM  PAPI_L1_STM  PAPI_L3_TCM  PAPI_BR_TKN   PAPI_BR_CN  PAPI_SR_INS \n",
      "  6.72008908   5.09776533   4.29348443   3.92013611   3.89015637   3.72861227 \n",
      "PAPI_REF_CYC  PAPI_L1_DCM  PAPI_L1_LDM  PAPI_BR_MSP  PAPI_BR_UCN \n",
      "  2.69039731   2.47450131   2.37487261   1.99547918   0.01771314 \n"
     ]
    }
   ],
   "source": [
    "print(sort(var.contrib[,'PC2'],decreasing=TRUE))"
   ]
  },
  {
   "cell_type": "code",
   "execution_count": 42,
   "metadata": {},
   "outputs": [
    {
     "name": "stdout",
     "output_type": "stream",
     "text": [
      " PAPI_TLB_DM  PAPI_LD_INS  PAPI_L1_STM  PAPI_L2_STM  PAPI_FP_OPS  PAPI_L1_DCM \n",
      " 44.75512882   9.70427439   9.03520788   7.92929152   6.73069567   5.22065803 \n",
      " PAPI_L2_DCH  PAPI_BR_MSP   PAPI_BR_CN  PAPI_BR_TKN  PAPI_L1_LDM  PAPI_BR_UCN \n",
      "  4.64724458   3.85074862   2.07641517   2.04931078   1.25784703   1.04697559 \n",
      " PAPI_SR_INS  PAPI_L2_LDM PAPI_REF_CYC  PAPI_L3_TCM PAPI_TOT_INS \n",
      "  0.91915867   0.41387641   0.28881842   0.04037980   0.03396862 \n"
     ]
    }
   ],
   "source": [
    "print(sort(var.contrib[,'PC3'],decreasing=TRUE))"
   ]
  },
  {
   "cell_type": "code",
   "execution_count": 43,
   "metadata": {},
   "outputs": [
    {
     "data": {},
     "metadata": {},
     "output_type": "display_data"
    },
    {
     "data": {
      "image/png": "[encoded data removed]",
      "text/plain": [
       "plot without title"
      ]
     },
     "metadata": {},
     "output_type": "display_data"
    }
   ],
   "source": [
    "fviz_pca_var(res.pca, col.var=\"contrib\") + scale_color_gradient2(low=\"white\", mid=\"blue\", high=\"red\", midpoint=50) + theme_minimal()"
   ]
  },
  {
   "cell_type": "code",
   "execution_count": 44,
   "metadata": {
    "scrolled": false
   },
   "outputs": [
    {
     "ename": "ERROR",
     "evalue": "Error in `[.data.frame`(mydata, , 5:61): undefined columns selected\n",
     "output_type": "error",
     "traceback": [
      "Error in `[.data.frame`(mydata, , 5:61): undefined columns selected\nTraceback:\n",
      "1. mydata[, 5:61]",
      "2. `[.data.frame`(mydata, , 5:61)",
      "3. stop(\"undefined columns selected\")"
     ]
    }
   ],
   "source": [
    "new_mydata1 = mydata[,5:61]\n",
    "new_mydata1 <- subset(new_mydata1, select = -c(PAPI_TOT_CYC))\n",
    "new_mydata1 <- subset(new_mydata1, select = -c(PAPI_TLB_DM))\n",
    "new_mydata1 <- subset(new_mydata1, select = -c(PAPI_FP_INS))\n",
    "new_mydata1 <- subset(new_mydata1, select = -c(PAPI_L2_TCW))\n",
    "new_mydata1 <- subset(new_mydata1, select = -c(PAPI_L2_DCW))\n",
    "new_mydata1 <- subset(new_mydata1, select = -c(PAPI_L3_TCA))\n",
    "new_mydata1 <- subset(new_mydata1, select = -c(PAPI_L2_DCA))\n",
    "new_mydata1 <- subset(new_mydata1, select = -c(PAPI_L3_TCW))\n",
    "new_mydata1 <- subset(new_mydata1, select = -c(PAPI_L3_DCW))\n",
    "new_mydata1 <- subset(new_mydata1, select = -c(PAPI_L3_DCA))\n",
    "new_mydata1 <- subset(new_mydata1, select = -c(PAPI_L3_TCR))\n",
    "new_mydata1 <- subset(new_mydata1, select = -c(PAPI_L3_DCR))\n",
    "new_mydata1 <- subset(new_mydata1, select = -c(PAPI_L2_DCR))\n",
    "new_mydata1 <- subset(new_mydata1, select = -c(PAPI_L2_TCR))\n",
    "new_mydata1 <- subset(new_mydata1, select = -c(PAPI_L2_TCA))\n",
    "new_mydata1 <- subset(new_mydata1, select = -c(PAPI_L2_DCM))\n",
    "new_mydata1 <- subset(new_mydata1, select = -c(PAPI_BR_INS))\n",
    "\n",
    "new_mydata1 <- subset(new_mydata1, select = -c(PAPI_L1_ICA))\n",
    "new_mydata1 <- subset(new_mydata1, select = -c(PAPI_L1_ICH))\n",
    "new_mydata1 <- subset(new_mydata1, select = -c(PAPI_L1_ICM))\n",
    "new_mydata1 <- subset(new_mydata1, select = -c(PAPI_L1_ICR))\n",
    "new_mydata1 <- subset(new_mydata1, select = -c(PAPI_L2_ICA))\n",
    "new_mydata1 <- subset(new_mydata1, select = -c(PAPI_L2_ICH))\n",
    "new_mydata1 <- subset(new_mydata1, select = -c(PAPI_L2_ICM))\n",
    "new_mydata1 <- subset(new_mydata1, select = -c(PAPI_L2_ICR))\n",
    "new_mydata1 <- subset(new_mydata1, select = -c(PAPI_L3_ICA))\n",
    "new_mydata1 <- subset(new_mydata1, select = -c(PAPI_L3_ICR))\n",
    "new_mydata1 <- subset(new_mydata1, select = -c(PAPI_L1_TCM))\n",
    "new_mydata1 <- subset(new_mydata1, select = -c(PAPI_L2_TCH))\n",
    "new_mydata1 <- subset(new_mydata1, select = -c(PAPI_L2_TCM))\n",
    "new_mydata1 <- subset(new_mydata1, select = -c(PAPI_TLB_IM))\n",
    "new_mydata1 <- subset(new_mydata1, select = -c(PAPI_RES_STL))\n",
    "new_mydata1 <- subset(new_mydata1, select = -c(PAPI_BR_PRC))\n",
    "new_mydata1 <- subset(new_mydata1, select = -c(PAPI_BR_MSP))\n",
    "\n",
    "\n",
    "\n",
    "\n",
    "new_mydata1 <- subset(new_mydata1, select = -c(PAPI_VEC_DP))\n",
    "new_mydata1 <- subset(new_mydata1, select = -c(PAPI_VEC_SP))\n",
    "\n",
    "my_data_ordered1 <- new_mydata1[,order(colnames(new_mydata1))]\n",
    "\n",
    "\n",
    "options(repr.matrix.max.rows = 100)\n",
    "options(repr.matrix.max.cols = 100)\n",
    "res1 <- cor(my_data_ordered1)\n",
    "dim(res1)\n",
    "round(res1, 2)"
   ]
  },
  {
   "cell_type": "code",
   "execution_count": null,
   "metadata": {},
   "outputs": [],
   "source": [
    "library(corrplot)\n",
    "\n",
    "\n",
    "corrplot(res1, tl.col = \"black\", tl.srt = 90, tl.cex = 0.7, method= \"square\", order = \"AOE\", number.cex = 0.5)"
   ]
  },
  {
   "cell_type": "code",
   "execution_count": null,
   "metadata": {},
   "outputs": [],
   "source": [
    "corrplot(res1, tl.col = \"black\", tl.srt = 90, tl.cex = 0.7, method= \"square\", order = \"hclust\", number.cex = 0.5, addrect=2)"
   ]
  },
  {
   "cell_type": "code",
   "execution_count": null,
   "metadata": {},
   "outputs": [],
   "source": [
    "corrplot(res1, tl.col = \"black\", tl.srt = 90, tl.cex = 0.7, method= \"square\", order = \"hclust\", number.cex = 0.5, addrect=3)"
   ]
  },
  {
   "cell_type": "code",
   "execution_count": null,
   "metadata": {},
   "outputs": [],
   "source": [
    "corrplot(res1, tl.col = \"black\", tl.srt = 90, tl.cex = 0.7, method= \"square\", order = \"hclust\", number.cex = 0.5, addrect=4)"
   ]
  },
  {
   "cell_type": "code",
   "execution_count": null,
   "metadata": {},
   "outputs": [],
   "source": [
    "corrplot(res1, tl.col = \"black\", tl.srt = 90, tl.cex = 0.7, method= \"square\", order = \"hclust\", number.cex = 0.5, addrect=5)"
   ]
  },
  {
   "cell_type": "code",
   "execution_count": null,
   "metadata": {},
   "outputs": [],
   "source": [
    "corrplot(res1, tl.col = \"black\", tl.srt = 90, tl.cex = 0.7, method= \"square\", order = \"hclust\", number.cex = 0.5, addrect=6)"
   ]
  },
  {
   "cell_type": "code",
   "execution_count": null,
   "metadata": {},
   "outputs": [],
   "source": [
    "corrplot(res1, tl.col = \"black\", tl.srt = 90, tl.cex = 0.7, method= \"square\", order = \"hclust\", number.cex = 0.5, addrect=7)"
   ]
  },
  {
   "cell_type": "code",
   "execution_count": null,
   "metadata": {},
   "outputs": [],
   "source": [
    "corrplot(res1, tl.col = \"black\", tl.srt = 90, tl.cex = 0.7, method= \"square\", order = \"hclust\", number.cex = 0.5, addrect=8)"
   ]
  },
  {
   "cell_type": "code",
   "execution_count": null,
   "metadata": {},
   "outputs": [],
   "source": [
    "corrplot(res1, tl.col = \"black\", tl.srt = 90, tl.cex = 0.7, method= \"square\", order = \"hclust\", number.cex = 0.5, addrect=9)"
   ]
  },
  {
   "cell_type": "code",
   "execution_count": null,
   "metadata": {},
   "outputs": [],
   "source": [
    "corrplot(res1, tl.col = \"black\", tl.srt = 90, tl.cex = 0.7, method= \"square\", order = \"hclust\", number.cex = 0.5, addrect=10)"
   ]
  },
  {
   "cell_type": "code",
   "execution_count": null,
   "metadata": {},
   "outputs": [],
   "source": [
    "corrplot(res1, tl.col = \"black\", tl.srt = 90, tl.cex = 0.7, method= \"square\", order = \"hclust\", number.cex = 0.5, addrect=11)"
   ]
  },
  {
   "cell_type": "code",
   "execution_count": null,
   "metadata": {},
   "outputs": [],
   "source": [
    "corrplot(res1, tl.col = \"black\", tl.srt = 90, tl.cex = 0.7, method= \"square\", order = \"hclust\", number.cex = 0.5, addrect=12)"
   ]
  },
  {
   "cell_type": "code",
   "execution_count": null,
   "metadata": {},
   "outputs": [],
   "source": [
    "corrplot(res1, tl.col = \"black\", tl.srt = 90, tl.cex = 0.7, method= \"square\", order = \"hclust\", number.cex = 0.5, addrect=13)"
   ]
  },
  {
   "cell_type": "code",
   "execution_count": null,
   "metadata": {},
   "outputs": [],
   "source": [
    "corrplot(res1, tl.col = \"black\", tl.srt = 90, tl.cex = 0.7, method= \"square\", order = \"hclust\", number.cex = 0.5, addrect=14)"
   ]
  },
  {
   "cell_type": "code",
   "execution_count": null,
   "metadata": {},
   "outputs": [],
   "source": [
    "corrplot(res1, tl.col = \"black\", tl.srt = 90, tl.cex = 0.7, method= \"square\", order = \"hclust\", number.cex = 0.5, addrect=15)"
   ]
  },
  {
   "cell_type": "code",
   "execution_count": null,
   "metadata": {},
   "outputs": [],
   "source": [
    "corrplot(res1, tl.col = \"black\", tl.srt = 90, tl.cex = 0.7, method= \"square\", order = \"hclust\", number.cex = 0.5, addrect=16)"
   ]
  },
  {
   "cell_type": "code",
   "execution_count": null,
   "metadata": {},
   "outputs": [],
   "source": [
    "corrplot(res1, tl.col = \"black\", tl.srt = 90, tl.cex = 0.7, method= \"square\", order = \"hclust\", number.cex = 0.5, addrect=17)"
   ]
  },
  {
   "cell_type": "code",
   "execution_count": null,
   "metadata": {},
   "outputs": [],
   "source": [
    "corrplot(res1, tl.col = \"black\", tl.srt = 90, tl.cex = 0.7, method= \"square\", order = \"FPC\", number.cex = 0.5)"
   ]
  },
  {
   "cell_type": "code",
   "execution_count": null,
   "metadata": {},
   "outputs": [],
   "source": [
    "corrplot(res1, tl.col = \"black\", tl.srt = 90, tl.cex = 0.7, method= \"square\", order = \"alphabet\", number.cex = 0.5)"
   ]
  },
  {
   "cell_type": "code",
   "execution_count": null,
   "metadata": {},
   "outputs": [],
   "source": []
  }
 ],
 "metadata": {
  "kernelspec": {
   "display_name": "R",
   "language": "R",
   "name": "ir"
  },
  "language_info": {
   "codemirror_mode": "r",
   "file_extension": ".r",
   "mimetype": "text/x-r-source",
   "name": "R",
   "pygments_lexer": "r",
   "version": "3.5.1"
  }
 },
 "nbformat": 4,
 "nbformat_minor": 2
}
